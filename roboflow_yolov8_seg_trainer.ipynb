{
  "nbformat": 4,
  "nbformat_minor": 0,
  "metadata": {
    "colab": {
      "provenance": [],
      "gpuType": "T4"
    },
    "kernelspec": {
      "name": "python3",
      "display_name": "Python 3"
    },
    "language_info": {
      "name": "python"
    },
    "accelerator": "GPU"
  },
  "cells": [
    {
      "cell_type": "code",
      "execution_count": 1,
      "metadata": {
        "colab": {
          "base_uri": "https://localhost:8080/"
        },
        "id": "w3F_B3AQcwq9",
        "outputId": "cd87f5ce-a0bf-4310-bb81-dba6254f71a9"
      },
      "outputs": [
        {
          "output_type": "stream",
          "name": "stdout",
          "text": [
            "Requirement already satisfied: roboflow in /usr/local/lib/python3.10/dist-packages (1.1.27)\n",
            "Requirement already satisfied: certifi==2023.7.22 in /usr/local/lib/python3.10/dist-packages (from roboflow) (2023.7.22)\n",
            "Requirement already satisfied: chardet==4.0.0 in /usr/local/lib/python3.10/dist-packages (from roboflow) (4.0.0)\n",
            "Requirement already satisfied: cycler==0.10.0 in /usr/local/lib/python3.10/dist-packages (from roboflow) (0.10.0)\n",
            "Requirement already satisfied: idna==2.10 in /usr/local/lib/python3.10/dist-packages (from roboflow) (2.10)\n",
            "Requirement already satisfied: kiwisolver>=1.3.1 in /usr/local/lib/python3.10/dist-packages (from roboflow) (1.4.5)\n",
            "Requirement already satisfied: matplotlib in /usr/local/lib/python3.10/dist-packages (from roboflow) (3.7.1)\n",
            "Requirement already satisfied: numpy>=1.18.5 in /usr/local/lib/python3.10/dist-packages (from roboflow) (1.25.2)\n",
            "Requirement already satisfied: opencv-python-headless==4.8.0.74 in /usr/local/lib/python3.10/dist-packages (from roboflow) (4.8.0.74)\n",
            "Requirement already satisfied: Pillow>=7.1.2 in /usr/local/lib/python3.10/dist-packages (from roboflow) (9.4.0)\n",
            "Requirement already satisfied: python-dateutil in /usr/local/lib/python3.10/dist-packages (from roboflow) (2.8.2)\n",
            "Requirement already satisfied: python-dotenv in /usr/local/lib/python3.10/dist-packages (from roboflow) (1.0.1)\n",
            "Requirement already satisfied: requests in /usr/local/lib/python3.10/dist-packages (from roboflow) (2.31.0)\n",
            "Requirement already satisfied: six in /usr/local/lib/python3.10/dist-packages (from roboflow) (1.16.0)\n",
            "Requirement already satisfied: urllib3>=1.26.6 in /usr/local/lib/python3.10/dist-packages (from roboflow) (2.0.7)\n",
            "Requirement already satisfied: tqdm>=4.41.0 in /usr/local/lib/python3.10/dist-packages (from roboflow) (4.66.2)\n",
            "Requirement already satisfied: PyYAML>=5.3.1 in /usr/local/lib/python3.10/dist-packages (from roboflow) (6.0.1)\n",
            "Requirement already satisfied: requests-toolbelt in /usr/local/lib/python3.10/dist-packages (from roboflow) (1.0.0)\n",
            "Requirement already satisfied: python-magic in /usr/local/lib/python3.10/dist-packages (from roboflow) (0.4.27)\n",
            "Requirement already satisfied: contourpy>=1.0.1 in /usr/local/lib/python3.10/dist-packages (from matplotlib->roboflow) (1.2.1)\n",
            "Requirement already satisfied: fonttools>=4.22.0 in /usr/local/lib/python3.10/dist-packages (from matplotlib->roboflow) (4.51.0)\n",
            "Requirement already satisfied: packaging>=20.0 in /usr/local/lib/python3.10/dist-packages (from matplotlib->roboflow) (24.0)\n",
            "Requirement already satisfied: pyparsing>=2.3.1 in /usr/local/lib/python3.10/dist-packages (from matplotlib->roboflow) (3.1.2)\n",
            "Requirement already satisfied: charset-normalizer<4,>=2 in /usr/local/lib/python3.10/dist-packages (from requests->roboflow) (3.3.2)\n",
            "Collecting ultralytics\n",
            "  Using cached ultralytics-8.1.47-py3-none-any.whl (750 kB)\n",
            "Requirement already satisfied: matplotlib>=3.3.0 in /usr/local/lib/python3.10/dist-packages (from ultralytics) (3.7.1)\n",
            "Requirement already satisfied: opencv-python>=4.6.0 in /usr/local/lib/python3.10/dist-packages (from ultralytics) (4.8.0.76)\n",
            "Requirement already satisfied: pillow>=7.1.2 in /usr/local/lib/python3.10/dist-packages (from ultralytics) (9.4.0)\n",
            "Requirement already satisfied: pyyaml>=5.3.1 in /usr/local/lib/python3.10/dist-packages (from ultralytics) (6.0.1)\n",
            "Requirement already satisfied: requests>=2.23.0 in /usr/local/lib/python3.10/dist-packages (from ultralytics) (2.31.0)\n",
            "Requirement already satisfied: scipy>=1.4.1 in /usr/local/lib/python3.10/dist-packages (from ultralytics) (1.11.4)\n",
            "Requirement already satisfied: torch>=1.8.0 in /usr/local/lib/python3.10/dist-packages (from ultralytics) (2.2.1+cu121)\n",
            "Requirement already satisfied: torchvision>=0.9.0 in /usr/local/lib/python3.10/dist-packages (from ultralytics) (0.17.1+cu121)\n",
            "Requirement already satisfied: tqdm>=4.64.0 in /usr/local/lib/python3.10/dist-packages (from ultralytics) (4.66.2)\n",
            "Requirement already satisfied: psutil in /usr/local/lib/python3.10/dist-packages (from ultralytics) (5.9.5)\n",
            "Requirement already satisfied: py-cpuinfo in /usr/local/lib/python3.10/dist-packages (from ultralytics) (9.0.0)\n",
            "Collecting thop>=0.1.1 (from ultralytics)\n",
            "  Downloading thop-0.1.1.post2209072238-py3-none-any.whl (15 kB)\n",
            "Requirement already satisfied: pandas>=1.1.4 in /usr/local/lib/python3.10/dist-packages (from ultralytics) (2.0.3)\n",
            "Requirement already satisfied: seaborn>=0.11.0 in /usr/local/lib/python3.10/dist-packages (from ultralytics) (0.13.1)\n",
            "Requirement already satisfied: contourpy>=1.0.1 in /usr/local/lib/python3.10/dist-packages (from matplotlib>=3.3.0->ultralytics) (1.2.1)\n",
            "Requirement already satisfied: cycler>=0.10 in /usr/local/lib/python3.10/dist-packages (from matplotlib>=3.3.0->ultralytics) (0.10.0)\n",
            "Requirement already satisfied: fonttools>=4.22.0 in /usr/local/lib/python3.10/dist-packages (from matplotlib>=3.3.0->ultralytics) (4.51.0)\n",
            "Requirement already satisfied: kiwisolver>=1.0.1 in /usr/local/lib/python3.10/dist-packages (from matplotlib>=3.3.0->ultralytics) (1.4.5)\n",
            "Requirement already satisfied: numpy>=1.20 in /usr/local/lib/python3.10/dist-packages (from matplotlib>=3.3.0->ultralytics) (1.25.2)\n",
            "Requirement already satisfied: packaging>=20.0 in /usr/local/lib/python3.10/dist-packages (from matplotlib>=3.3.0->ultralytics) (24.0)\n",
            "Requirement already satisfied: pyparsing>=2.3.1 in /usr/local/lib/python3.10/dist-packages (from matplotlib>=3.3.0->ultralytics) (3.1.2)\n",
            "Requirement already satisfied: python-dateutil>=2.7 in /usr/local/lib/python3.10/dist-packages (from matplotlib>=3.3.0->ultralytics) (2.8.2)\n",
            "Requirement already satisfied: pytz>=2020.1 in /usr/local/lib/python3.10/dist-packages (from pandas>=1.1.4->ultralytics) (2023.4)\n",
            "Requirement already satisfied: tzdata>=2022.1 in /usr/local/lib/python3.10/dist-packages (from pandas>=1.1.4->ultralytics) (2024.1)\n",
            "Requirement already satisfied: charset-normalizer<4,>=2 in /usr/local/lib/python3.10/dist-packages (from requests>=2.23.0->ultralytics) (3.3.2)\n",
            "Requirement already satisfied: idna<4,>=2.5 in /usr/local/lib/python3.10/dist-packages (from requests>=2.23.0->ultralytics) (2.10)\n",
            "Requirement already satisfied: urllib3<3,>=1.21.1 in /usr/local/lib/python3.10/dist-packages (from requests>=2.23.0->ultralytics) (2.0.7)\n",
            "Requirement already satisfied: certifi>=2017.4.17 in /usr/local/lib/python3.10/dist-packages (from requests>=2.23.0->ultralytics) (2023.7.22)\n",
            "Requirement already satisfied: filelock in /usr/local/lib/python3.10/dist-packages (from torch>=1.8.0->ultralytics) (3.13.4)\n",
            "Requirement already satisfied: typing-extensions>=4.8.0 in /usr/local/lib/python3.10/dist-packages (from torch>=1.8.0->ultralytics) (4.11.0)\n",
            "Requirement already satisfied: sympy in /usr/local/lib/python3.10/dist-packages (from torch>=1.8.0->ultralytics) (1.12)\n",
            "Requirement already satisfied: networkx in /usr/local/lib/python3.10/dist-packages (from torch>=1.8.0->ultralytics) (3.3)\n",
            "Requirement already satisfied: jinja2 in /usr/local/lib/python3.10/dist-packages (from torch>=1.8.0->ultralytics) (3.1.3)\n",
            "Requirement already satisfied: fsspec in /usr/local/lib/python3.10/dist-packages (from torch>=1.8.0->ultralytics) (2023.6.0)\n",
            "Collecting nvidia-cuda-nvrtc-cu12==12.1.105 (from torch>=1.8.0->ultralytics)\n",
            "  Using cached nvidia_cuda_nvrtc_cu12-12.1.105-py3-none-manylinux1_x86_64.whl (23.7 MB)\n",
            "Collecting nvidia-cuda-runtime-cu12==12.1.105 (from torch>=1.8.0->ultralytics)\n",
            "  Using cached nvidia_cuda_runtime_cu12-12.1.105-py3-none-manylinux1_x86_64.whl (823 kB)\n",
            "Collecting nvidia-cuda-cupti-cu12==12.1.105 (from torch>=1.8.0->ultralytics)\n",
            "  Using cached nvidia_cuda_cupti_cu12-12.1.105-py3-none-manylinux1_x86_64.whl (14.1 MB)\n",
            "Collecting nvidia-cudnn-cu12==8.9.2.26 (from torch>=1.8.0->ultralytics)\n",
            "  Using cached nvidia_cudnn_cu12-8.9.2.26-py3-none-manylinux1_x86_64.whl (731.7 MB)\n",
            "Collecting nvidia-cublas-cu12==12.1.3.1 (from torch>=1.8.0->ultralytics)\n",
            "  Using cached nvidia_cublas_cu12-12.1.3.1-py3-none-manylinux1_x86_64.whl (410.6 MB)\n",
            "Collecting nvidia-cufft-cu12==11.0.2.54 (from torch>=1.8.0->ultralytics)\n",
            "  Using cached nvidia_cufft_cu12-11.0.2.54-py3-none-manylinux1_x86_64.whl (121.6 MB)\n",
            "Collecting nvidia-curand-cu12==10.3.2.106 (from torch>=1.8.0->ultralytics)\n",
            "  Using cached nvidia_curand_cu12-10.3.2.106-py3-none-manylinux1_x86_64.whl (56.5 MB)\n",
            "Collecting nvidia-cusolver-cu12==11.4.5.107 (from torch>=1.8.0->ultralytics)\n",
            "  Using cached nvidia_cusolver_cu12-11.4.5.107-py3-none-manylinux1_x86_64.whl (124.2 MB)\n",
            "Collecting nvidia-cusparse-cu12==12.1.0.106 (from torch>=1.8.0->ultralytics)\n",
            "  Using cached nvidia_cusparse_cu12-12.1.0.106-py3-none-manylinux1_x86_64.whl (196.0 MB)\n",
            "Collecting nvidia-nccl-cu12==2.19.3 (from torch>=1.8.0->ultralytics)\n",
            "  Using cached nvidia_nccl_cu12-2.19.3-py3-none-manylinux1_x86_64.whl (166.0 MB)\n",
            "Collecting nvidia-nvtx-cu12==12.1.105 (from torch>=1.8.0->ultralytics)\n",
            "  Using cached nvidia_nvtx_cu12-12.1.105-py3-none-manylinux1_x86_64.whl (99 kB)\n",
            "Requirement already satisfied: triton==2.2.0 in /usr/local/lib/python3.10/dist-packages (from torch>=1.8.0->ultralytics) (2.2.0)\n",
            "Collecting nvidia-nvjitlink-cu12 (from nvidia-cusolver-cu12==11.4.5.107->torch>=1.8.0->ultralytics)\n",
            "  Using cached nvidia_nvjitlink_cu12-12.4.127-py3-none-manylinux2014_x86_64.whl (21.1 MB)\n",
            "Requirement already satisfied: six in /usr/local/lib/python3.10/dist-packages (from cycler>=0.10->matplotlib>=3.3.0->ultralytics) (1.16.0)\n",
            "Requirement already satisfied: MarkupSafe>=2.0 in /usr/local/lib/python3.10/dist-packages (from jinja2->torch>=1.8.0->ultralytics) (2.1.5)\n",
            "Requirement already satisfied: mpmath>=0.19 in /usr/local/lib/python3.10/dist-packages (from sympy->torch>=1.8.0->ultralytics) (1.3.0)\n",
            "Installing collected packages: nvidia-nvtx-cu12, nvidia-nvjitlink-cu12, nvidia-nccl-cu12, nvidia-curand-cu12, nvidia-cufft-cu12, nvidia-cuda-runtime-cu12, nvidia-cuda-nvrtc-cu12, nvidia-cuda-cupti-cu12, nvidia-cublas-cu12, nvidia-cusparse-cu12, nvidia-cudnn-cu12, nvidia-cusolver-cu12, thop, ultralytics\n",
            "Successfully installed nvidia-cublas-cu12-12.1.3.1 nvidia-cuda-cupti-cu12-12.1.105 nvidia-cuda-nvrtc-cu12-12.1.105 nvidia-cuda-runtime-cu12-12.1.105 nvidia-cudnn-cu12-8.9.2.26 nvidia-cufft-cu12-11.0.2.54 nvidia-curand-cu12-10.3.2.106 nvidia-cusolver-cu12-11.4.5.107 nvidia-cusparse-cu12-12.1.0.106 nvidia-nccl-cu12-2.19.3 nvidia-nvjitlink-cu12-12.4.127 nvidia-nvtx-cu12-12.1.105 thop-0.1.1.post2209072238 ultralytics-8.1.47\n"
          ]
        }
      ],
      "source": [
        "!pip install roboflow\n",
        "!pip install ultralytics\n",
        "\n",
        "\n",
        "\n"
      ]
    },
    {
      "cell_type": "code",
      "source": [
        "!pip install roboflow\n",
        "\n",
        "from roboflow import Roboflow\n",
        "rf = Roboflow(api_key=\"FjNNE4nwARLc7CLcN6eJ\")\n",
        "project = rf.workspace(\"adrin-garca-domingo\").project(\"instance-segmentation-wheels\")\n",
        "version = project.version(6)\n",
        "dataset = version.download(\"yolov8\")\n"
      ],
      "metadata": {
        "colab": {
          "base_uri": "https://localhost:8080/"
        },
        "id": "UNgVFnxSjcMW",
        "outputId": "95195f9b-2418-467f-b137-2e79ecd3d30f"
      },
      "execution_count": 2,
      "outputs": [
        {
          "output_type": "stream",
          "name": "stdout",
          "text": [
            "Requirement already satisfied: roboflow in /usr/local/lib/python3.10/dist-packages (1.1.27)\n",
            "Requirement already satisfied: certifi==2023.7.22 in /usr/local/lib/python3.10/dist-packages (from roboflow) (2023.7.22)\n",
            "Requirement already satisfied: chardet==4.0.0 in /usr/local/lib/python3.10/dist-packages (from roboflow) (4.0.0)\n",
            "Requirement already satisfied: cycler==0.10.0 in /usr/local/lib/python3.10/dist-packages (from roboflow) (0.10.0)\n",
            "Requirement already satisfied: idna==2.10 in /usr/local/lib/python3.10/dist-packages (from roboflow) (2.10)\n",
            "Requirement already satisfied: kiwisolver>=1.3.1 in /usr/local/lib/python3.10/dist-packages (from roboflow) (1.4.5)\n",
            "Requirement already satisfied: matplotlib in /usr/local/lib/python3.10/dist-packages (from roboflow) (3.7.1)\n",
            "Requirement already satisfied: numpy>=1.18.5 in /usr/local/lib/python3.10/dist-packages (from roboflow) (1.25.2)\n",
            "Requirement already satisfied: opencv-python-headless==4.8.0.74 in /usr/local/lib/python3.10/dist-packages (from roboflow) (4.8.0.74)\n",
            "Requirement already satisfied: Pillow>=7.1.2 in /usr/local/lib/python3.10/dist-packages (from roboflow) (9.4.0)\n",
            "Requirement already satisfied: python-dateutil in /usr/local/lib/python3.10/dist-packages (from roboflow) (2.8.2)\n",
            "Requirement already satisfied: python-dotenv in /usr/local/lib/python3.10/dist-packages (from roboflow) (1.0.1)\n",
            "Requirement already satisfied: requests in /usr/local/lib/python3.10/dist-packages (from roboflow) (2.31.0)\n",
            "Requirement already satisfied: six in /usr/local/lib/python3.10/dist-packages (from roboflow) (1.16.0)\n",
            "Requirement already satisfied: urllib3>=1.26.6 in /usr/local/lib/python3.10/dist-packages (from roboflow) (2.0.7)\n",
            "Requirement already satisfied: tqdm>=4.41.0 in /usr/local/lib/python3.10/dist-packages (from roboflow) (4.66.2)\n",
            "Requirement already satisfied: PyYAML>=5.3.1 in /usr/local/lib/python3.10/dist-packages (from roboflow) (6.0.1)\n",
            "Requirement already satisfied: requests-toolbelt in /usr/local/lib/python3.10/dist-packages (from roboflow) (1.0.0)\n",
            "Requirement already satisfied: python-magic in /usr/local/lib/python3.10/dist-packages (from roboflow) (0.4.27)\n",
            "Requirement already satisfied: contourpy>=1.0.1 in /usr/local/lib/python3.10/dist-packages (from matplotlib->roboflow) (1.2.1)\n",
            "Requirement already satisfied: fonttools>=4.22.0 in /usr/local/lib/python3.10/dist-packages (from matplotlib->roboflow) (4.51.0)\n",
            "Requirement already satisfied: packaging>=20.0 in /usr/local/lib/python3.10/dist-packages (from matplotlib->roboflow) (24.0)\n",
            "Requirement already satisfied: pyparsing>=2.3.1 in /usr/local/lib/python3.10/dist-packages (from matplotlib->roboflow) (3.1.2)\n",
            "Requirement already satisfied: charset-normalizer<4,>=2 in /usr/local/lib/python3.10/dist-packages (from requests->roboflow) (3.3.2)\n",
            "loading Roboflow workspace...\n",
            "loading Roboflow project...\n",
            "Dependency ultralytics==8.0.196 is required but found version=8.1.47, to fix: `pip install ultralytics==8.0.196`\n"
          ]
        },
        {
          "output_type": "stream",
          "name": "stderr",
          "text": [
            "Downloading Dataset Version Zip in instance-segmentation-wheels-6 to yolov8:: 100%|██████████| 5281/5281 [00:00<00:00, 65800.38it/s]"
          ]
        },
        {
          "output_type": "stream",
          "name": "stdout",
          "text": [
            "\n"
          ]
        },
        {
          "output_type": "stream",
          "name": "stderr",
          "text": [
            "\n",
            "Extracting Dataset Version Zip to instance-segmentation-wheels-6 in yolov8:: 100%|██████████| 160/160 [00:00<00:00, 5850.51it/s]\n"
          ]
        }
      ]
    },
    {
      "cell_type": "code",
      "source": [
        "from ultralytics import YOLO\n",
        "\n",
        "# Load a model\n",
        "model = YOLO('yolov8n-seg.pt')  # load a pretrained model (recommended for training)\n",
        "\n",
        "# Train the model\n",
        "results = model.train(data='data.yaml', epochs=300, imgsz=1440)"
      ],
      "metadata": {
        "colab": {
          "base_uri": "https://localhost:8080/"
        },
        "id": "fnvKRu4PcyH4",
        "outputId": "1e072a19-ccb6-4db2-e1cc-ab3cb98afdc1"
      },
      "execution_count": 6,
      "outputs": [
        {
          "output_type": "stream",
          "name": "stdout",
          "text": [
            "Ultralytics YOLOv8.1.47 🚀 Python-3.10.12 torch-2.2.1+cu121 CUDA:0 (Tesla T4, 15102MiB)\n",
            "\u001b[34m\u001b[1mengine/trainer: \u001b[0mtask=segment, mode=train, model=yolov8n-seg.pt, data=data.yaml, epochs=300, time=None, patience=100, batch=16, imgsz=1440, save=True, save_period=-1, cache=False, device=None, workers=8, project=None, name=train4, exist_ok=False, pretrained=True, optimizer=auto, verbose=True, seed=0, deterministic=True, single_cls=False, rect=False, cos_lr=False, close_mosaic=10, resume=False, amp=True, fraction=1.0, profile=False, freeze=None, multi_scale=False, overlap_mask=True, mask_ratio=4, dropout=0.0, val=True, split=val, save_json=False, save_hybrid=False, conf=None, iou=0.7, max_det=300, half=False, dnn=False, plots=True, source=None, vid_stride=1, stream_buffer=False, visualize=False, augment=False, agnostic_nms=False, classes=None, retina_masks=False, embed=None, show=False, save_frames=False, save_txt=False, save_conf=False, save_crop=False, show_labels=True, show_conf=True, show_boxes=True, line_width=None, format=torchscript, keras=False, optimize=False, int8=False, dynamic=False, simplify=False, opset=None, workspace=4, nms=False, lr0=0.01, lrf=0.01, momentum=0.937, weight_decay=0.0005, warmup_epochs=3.0, warmup_momentum=0.8, warmup_bias_lr=0.1, box=7.5, cls=0.5, dfl=1.5, pose=12.0, kobj=1.0, label_smoothing=0.0, nbs=64, hsv_h=0.015, hsv_s=0.7, hsv_v=0.4, degrees=0.0, translate=0.1, scale=0.5, shear=0.0, perspective=0.0, flipud=0.0, fliplr=0.5, bgr=0.0, mosaic=1.0, mixup=0.0, copy_paste=0.0, auto_augment=randaugment, erasing=0.4, crop_fraction=1.0, cfg=None, tracker=botsort.yaml, save_dir=runs/segment/train4\n",
            "Overriding model.yaml nc=80 with nc=1\n",
            "\n",
            "                   from  n    params  module                                       arguments                     \n",
            "  0                  -1  1       464  ultralytics.nn.modules.conv.Conv             [3, 16, 3, 2]                 \n",
            "  1                  -1  1      4672  ultralytics.nn.modules.conv.Conv             [16, 32, 3, 2]                \n",
            "  2                  -1  1      7360  ultralytics.nn.modules.block.C2f             [32, 32, 1, True]             \n",
            "  3                  -1  1     18560  ultralytics.nn.modules.conv.Conv             [32, 64, 3, 2]                \n",
            "  4                  -1  2     49664  ultralytics.nn.modules.block.C2f             [64, 64, 2, True]             \n",
            "  5                  -1  1     73984  ultralytics.nn.modules.conv.Conv             [64, 128, 3, 2]               \n",
            "  6                  -1  2    197632  ultralytics.nn.modules.block.C2f             [128, 128, 2, True]           \n",
            "  7                  -1  1    295424  ultralytics.nn.modules.conv.Conv             [128, 256, 3, 2]              \n",
            "  8                  -1  1    460288  ultralytics.nn.modules.block.C2f             [256, 256, 1, True]           \n",
            "  9                  -1  1    164608  ultralytics.nn.modules.block.SPPF            [256, 256, 5]                 \n",
            " 10                  -1  1         0  torch.nn.modules.upsampling.Upsample         [None, 2, 'nearest']          \n",
            " 11             [-1, 6]  1         0  ultralytics.nn.modules.conv.Concat           [1]                           \n",
            " 12                  -1  1    148224  ultralytics.nn.modules.block.C2f             [384, 128, 1]                 \n",
            " 13                  -1  1         0  torch.nn.modules.upsampling.Upsample         [None, 2, 'nearest']          \n",
            " 14             [-1, 4]  1         0  ultralytics.nn.modules.conv.Concat           [1]                           \n",
            " 15                  -1  1     37248  ultralytics.nn.modules.block.C2f             [192, 64, 1]                  \n",
            " 16                  -1  1     36992  ultralytics.nn.modules.conv.Conv             [64, 64, 3, 2]                \n",
            " 17            [-1, 12]  1         0  ultralytics.nn.modules.conv.Concat           [1]                           \n",
            " 18                  -1  1    123648  ultralytics.nn.modules.block.C2f             [192, 128, 1]                 \n",
            " 19                  -1  1    147712  ultralytics.nn.modules.conv.Conv             [128, 128, 3, 2]              \n",
            " 20             [-1, 9]  1         0  ultralytics.nn.modules.conv.Concat           [1]                           \n",
            " 21                  -1  1    493056  ultralytics.nn.modules.block.C2f             [384, 256, 1]                 \n",
            " 22        [15, 18, 21]  1   1004275  ultralytics.nn.modules.head.Segment          [1, 32, 64, [64, 128, 256]]   \n",
            "YOLOv8n-seg summary: 261 layers, 3263811 parameters, 3263795 gradients, 12.1 GFLOPs\n",
            "\n",
            "Transferred 381/417 items from pretrained weights\n",
            "\u001b[34m\u001b[1mTensorBoard: \u001b[0mStart with 'tensorboard --logdir runs/segment/train4', view at http://localhost:6006/\n",
            "Freezing layer 'model.22.dfl.conv.weight'\n",
            "\u001b[34m\u001b[1mAMP: \u001b[0mrunning Automatic Mixed Precision (AMP) checks with YOLOv8n...\n",
            "\u001b[34m\u001b[1mAMP: \u001b[0mchecks passed ✅\n"
          ]
        },
        {
          "output_type": "stream",
          "name": "stderr",
          "text": [
            "\u001b[34m\u001b[1mtrain: \u001b[0mScanning /content/datasets/instance-segmentation-wheels-6/train/labels.cache... 52 images, 0 backgrounds, 0 corrupt: 100%|██████████| 52/52 [00:00<?, ?it/s]"
          ]
        },
        {
          "output_type": "stream",
          "name": "stdout",
          "text": [
            "\u001b[34m\u001b[1malbumentations: \u001b[0mBlur(p=0.01, blur_limit=(3, 7)), MedianBlur(p=0.01, blur_limit=(3, 7)), ToGray(p=0.01), CLAHE(p=0.01, clip_limit=(1, 4.0), tile_grid_size=(8, 8))\n"
          ]
        },
        {
          "output_type": "stream",
          "name": "stderr",
          "text": [
            "\n",
            "os.fork() was called. os.fork() is incompatible with multithreaded code, and JAX is multithreaded, so this will likely lead to a deadlock.\n",
            "\u001b[34m\u001b[1mval: \u001b[0mScanning /content/datasets/instance-segmentation-wheels-6/valid/labels.cache... 15 images, 0 backgrounds, 0 corrupt: 100%|██████████| 15/15 [00:00<?, ?it/s]\n"
          ]
        },
        {
          "output_type": "stream",
          "name": "stdout",
          "text": [
            "Plotting labels to runs/segment/train4/labels.jpg... \n",
            "\u001b[34m\u001b[1moptimizer:\u001b[0m 'optimizer=auto' found, ignoring 'lr0=0.01' and 'momentum=0.937' and determining best 'optimizer', 'lr0' and 'momentum' automatically... \n",
            "\u001b[34m\u001b[1moptimizer:\u001b[0m AdamW(lr=0.002, momentum=0.9) with parameter groups 66 weight(decay=0.0), 77 weight(decay=0.0005), 76 bias(decay=0.0)\n",
            "\u001b[34m\u001b[1mTensorBoard: \u001b[0mmodel graph visualization added ✅\n",
            "Image sizes 1440 train, 1440 val\n",
            "Using 2 dataloader workers\n",
            "Logging results to \u001b[1mruns/segment/train4\u001b[0m\n",
            "Starting training for 300 epochs...\n",
            "\n",
            "      Epoch    GPU_mem   box_loss   seg_loss   cls_loss   dfl_loss  Instances       Size\n"
          ]
        },
        {
          "output_type": "stream",
          "name": "stderr",
          "text": [
            "      1/300      14.5G      4.061      3.639      42.13      2.044          8       1440: 100%|██████████| 4/4 [00:04<00:00,  1.03s/it]\n",
            "                 Class     Images  Instances      Box(P          R      mAP50  mAP50-95)     Mask(P          R      mAP50  mAP50-95): 100%|██████████| 1/1 [00:00<00:00,  1.09it/s]"
          ]
        },
        {
          "output_type": "stream",
          "name": "stdout",
          "text": [
            "                   all         15         30   0.000444     0.0667   0.000237   8.11e-05   0.000444     0.0667   0.000237    0.00013\n"
          ]
        },
        {
          "output_type": "stream",
          "name": "stderr",
          "text": [
            "\n"
          ]
        },
        {
          "output_type": "stream",
          "name": "stdout",
          "text": [
            "\n",
            "      Epoch    GPU_mem   box_loss   seg_loss   cls_loss   dfl_loss  Instances       Size\n"
          ]
        },
        {
          "output_type": "stream",
          "name": "stderr",
          "text": [
            "      2/300      15.1G      3.653       4.28      21.53      1.801         18       1440: 100%|██████████| 4/4 [00:06<00:00,  1.59s/it]\n",
            "                 Class     Images  Instances      Box(P          R      mAP50  mAP50-95)     Mask(P          R      mAP50  mAP50-95): 100%|██████████| 1/1 [00:00<00:00,  3.30it/s]"
          ]
        },
        {
          "output_type": "stream",
          "name": "stdout",
          "text": [
            "                   all         15         30   0.000667        0.1   0.000369   0.000232    0.00133        0.2   0.000809   0.000361\n"
          ]
        },
        {
          "output_type": "stream",
          "name": "stderr",
          "text": [
            "\n"
          ]
        },
        {
          "output_type": "stream",
          "name": "stdout",
          "text": [
            "\n",
            "      Epoch    GPU_mem   box_loss   seg_loss   cls_loss   dfl_loss  Instances       Size\n"
          ]
        },
        {
          "output_type": "stream",
          "name": "stderr",
          "text": [
            "      3/300      13.9G      2.258      2.683      10.37      1.173         20       1440: 100%|██████████| 4/4 [00:03<00:00,  1.21it/s]\n",
            "                 Class     Images  Instances      Box(P          R      mAP50  mAP50-95)     Mask(P          R      mAP50  mAP50-95): 100%|██████████| 1/1 [00:00<00:00,  2.05it/s]"
          ]
        },
        {
          "output_type": "stream",
          "name": "stdout",
          "text": [
            "                   all         15         30    0.00556      0.833    0.00755    0.00409      0.006        0.9    0.00859    0.00464\n"
          ]
        },
        {
          "output_type": "stream",
          "name": "stderr",
          "text": [
            "\n"
          ]
        },
        {
          "output_type": "stream",
          "name": "stdout",
          "text": [
            "\n",
            "      Epoch    GPU_mem   box_loss   seg_loss   cls_loss   dfl_loss  Instances       Size\n"
          ]
        },
        {
          "output_type": "stream",
          "name": "stderr",
          "text": [
            "      4/300        14G      1.772      2.434      8.179     0.9747         13       1440: 100%|██████████| 4/4 [00:03<00:00,  1.01it/s]\n",
            "                 Class     Images  Instances      Box(P          R      mAP50  mAP50-95)     Mask(P          R      mAP50  mAP50-95): 100%|██████████| 1/1 [00:00<00:00,  1.55it/s]"
          ]
        },
        {
          "output_type": "stream",
          "name": "stdout",
          "text": [
            "                   all         15         30      0.006        0.9    0.00912    0.00366    0.00578      0.867    0.00888    0.00494\n"
          ]
        },
        {
          "output_type": "stream",
          "name": "stderr",
          "text": [
            "\n"
          ]
        },
        {
          "output_type": "stream",
          "name": "stdout",
          "text": [
            "\n",
            "      Epoch    GPU_mem   box_loss   seg_loss   cls_loss   dfl_loss  Instances       Size\n"
          ]
        },
        {
          "output_type": "stream",
          "name": "stderr",
          "text": [
            "      5/300        14G      1.604          2       5.12     0.9294         16       1440: 100%|██████████| 4/4 [00:03<00:00,  1.06it/s]\n",
            "                 Class     Images  Instances      Box(P          R      mAP50  mAP50-95)     Mask(P          R      mAP50  mAP50-95): 100%|██████████| 1/1 [00:00<00:00,  2.53it/s]"
          ]
        },
        {
          "output_type": "stream",
          "name": "stdout",
          "text": [
            "                   all         15         30    0.00622      0.933    0.00885    0.00356    0.00622      0.933    0.00848    0.00457\n"
          ]
        },
        {
          "output_type": "stream",
          "name": "stderr",
          "text": [
            "\n"
          ]
        },
        {
          "output_type": "stream",
          "name": "stdout",
          "text": [
            "\n",
            "      Epoch    GPU_mem   box_loss   seg_loss   cls_loss   dfl_loss  Instances       Size\n"
          ]
        },
        {
          "output_type": "stream",
          "name": "stderr",
          "text": [
            "      6/300      13.9G      1.663       2.06      6.133     0.9501         13       1440: 100%|██████████| 4/4 [00:03<00:00,  1.26it/s]\n",
            "                 Class     Images  Instances      Box(P          R      mAP50  mAP50-95)     Mask(P          R      mAP50  mAP50-95): 100%|██████████| 1/1 [00:00<00:00,  2.11it/s]"
          ]
        },
        {
          "output_type": "stream",
          "name": "stdout",
          "text": [
            "                   all         15         30    0.00622      0.933    0.00941    0.00257    0.00622      0.933    0.00948    0.00455\n"
          ]
        },
        {
          "output_type": "stream",
          "name": "stderr",
          "text": [
            "\n"
          ]
        },
        {
          "output_type": "stream",
          "name": "stdout",
          "text": [
            "\n",
            "      Epoch    GPU_mem   box_loss   seg_loss   cls_loss   dfl_loss  Instances       Size\n"
          ]
        },
        {
          "output_type": "stream",
          "name": "stderr",
          "text": [
            "      7/300        14G      1.495      1.699      5.357     0.8925         14       1440: 100%|██████████| 4/4 [00:03<00:00,  1.16it/s]\n",
            "                 Class     Images  Instances      Box(P          R      mAP50  mAP50-95)     Mask(P          R      mAP50  mAP50-95): 100%|██████████| 1/1 [00:00<00:00,  2.02it/s]"
          ]
        },
        {
          "output_type": "stream",
          "name": "stdout",
          "text": [
            "                   all         15         30    0.00533        0.8     0.0074    0.00168    0.00578      0.867    0.00811    0.00312\n"
          ]
        },
        {
          "output_type": "stream",
          "name": "stderr",
          "text": [
            "\n"
          ]
        },
        {
          "output_type": "stream",
          "name": "stdout",
          "text": [
            "\n",
            "      Epoch    GPU_mem   box_loss   seg_loss   cls_loss   dfl_loss  Instances       Size\n"
          ]
        },
        {
          "output_type": "stream",
          "name": "stderr",
          "text": [
            "      8/300      13.7G      1.599      1.946      4.662     0.9097         15       1440: 100%|██████████| 4/4 [00:03<00:00,  1.01it/s]\n",
            "                 Class     Images  Instances      Box(P          R      mAP50  mAP50-95)     Mask(P          R      mAP50  mAP50-95): 100%|██████████| 1/1 [00:00<00:00,  2.45it/s]"
          ]
        },
        {
          "output_type": "stream",
          "name": "stdout",
          "text": [
            "                   all         15         30    0.00533        0.8    0.00698    0.00209    0.00556      0.833    0.00753    0.00299\n"
          ]
        },
        {
          "output_type": "stream",
          "name": "stderr",
          "text": [
            "\n"
          ]
        },
        {
          "output_type": "stream",
          "name": "stdout",
          "text": [
            "\n",
            "      Epoch    GPU_mem   box_loss   seg_loss   cls_loss   dfl_loss  Instances       Size\n"
          ]
        },
        {
          "output_type": "stream",
          "name": "stderr",
          "text": [
            "      9/300      13.7G       1.44      1.651      4.651     0.8794         21       1440: 100%|██████████| 4/4 [00:04<00:00,  1.17s/it]\n",
            "                 Class     Images  Instances      Box(P          R      mAP50  mAP50-95)     Mask(P          R      mAP50  mAP50-95): 100%|██████████| 1/1 [00:00<00:00,  2.15it/s]"
          ]
        },
        {
          "output_type": "stream",
          "name": "stdout",
          "text": [
            "                   all         15         30    0.00489      0.733     0.0063    0.00238    0.00489      0.733    0.00604    0.00266\n"
          ]
        },
        {
          "output_type": "stream",
          "name": "stderr",
          "text": [
            "\n"
          ]
        },
        {
          "output_type": "stream",
          "name": "stdout",
          "text": [
            "\n",
            "      Epoch    GPU_mem   box_loss   seg_loss   cls_loss   dfl_loss  Instances       Size\n"
          ]
        },
        {
          "output_type": "stream",
          "name": "stderr",
          "text": [
            "     10/300        14G       1.46      1.708      4.173      0.905         16       1440: 100%|██████████| 4/4 [00:03<00:00,  1.25it/s]\n",
            "                 Class     Images  Instances      Box(P          R      mAP50  mAP50-95)     Mask(P          R      mAP50  mAP50-95): 100%|██████████| 1/1 [00:00<00:00,  1.88it/s]"
          ]
        },
        {
          "output_type": "stream",
          "name": "stdout",
          "text": [
            "                   all         15         30    0.00556      0.833    0.00928    0.00395    0.00556      0.833    0.00891    0.00407\n"
          ]
        },
        {
          "output_type": "stream",
          "name": "stderr",
          "text": [
            "\n"
          ]
        },
        {
          "output_type": "stream",
          "name": "stdout",
          "text": [
            "\n",
            "      Epoch    GPU_mem   box_loss   seg_loss   cls_loss   dfl_loss  Instances       Size\n"
          ]
        },
        {
          "output_type": "stream",
          "name": "stderr",
          "text": [
            "     11/300      14.1G      1.305      1.704      3.813     0.8942         15       1440: 100%|██████████| 4/4 [00:03<00:00,  1.18it/s]\n",
            "                 Class     Images  Instances      Box(P          R      mAP50  mAP50-95)     Mask(P          R      mAP50  mAP50-95): 100%|██████████| 1/1 [00:00<00:00,  1.24it/s]"
          ]
        },
        {
          "output_type": "stream",
          "name": "stdout",
          "text": [
            "                   all         15         30    0.00578      0.867    0.00902     0.0047    0.00578      0.867    0.00902    0.00445\n"
          ]
        },
        {
          "output_type": "stream",
          "name": "stderr",
          "text": [
            "\n"
          ]
        },
        {
          "output_type": "stream",
          "name": "stdout",
          "text": [
            "\n",
            "      Epoch    GPU_mem   box_loss   seg_loss   cls_loss   dfl_loss  Instances       Size\n"
          ]
        },
        {
          "output_type": "stream",
          "name": "stderr",
          "text": [
            "     12/300      14.1G      1.264      1.613      3.587     0.8772         20       1440: 100%|██████████| 4/4 [00:03<00:00,  1.24it/s]\n",
            "                 Class     Images  Instances      Box(P          R      mAP50  mAP50-95)     Mask(P          R      mAP50  mAP50-95): 100%|██████████| 1/1 [00:00<00:00,  2.10it/s]"
          ]
        },
        {
          "output_type": "stream",
          "name": "stdout",
          "text": [
            "                   all         15         30      0.006        0.9     0.0775     0.0664      0.006        0.9     0.0775     0.0348\n"
          ]
        },
        {
          "output_type": "stream",
          "name": "stderr",
          "text": [
            "\n"
          ]
        },
        {
          "output_type": "stream",
          "name": "stdout",
          "text": [
            "\n",
            "      Epoch    GPU_mem   box_loss   seg_loss   cls_loss   dfl_loss  Instances       Size\n"
          ]
        },
        {
          "output_type": "stream",
          "name": "stderr",
          "text": [
            "     13/300      13.9G      1.228      1.418      3.099      0.907         18       1440: 100%|██████████| 4/4 [00:03<00:00,  1.23it/s]\n",
            "                 Class     Images  Instances      Box(P          R      mAP50  mAP50-95)     Mask(P          R      mAP50  mAP50-95): 100%|██████████| 1/1 [00:00<00:00,  2.51it/s]"
          ]
        },
        {
          "output_type": "stream",
          "name": "stdout",
          "text": [
            "                   all         15         30    0.00533        0.8    0.00915    0.00583    0.00533        0.8    0.00916    0.00501\n"
          ]
        },
        {
          "output_type": "stream",
          "name": "stderr",
          "text": [
            "\n"
          ]
        },
        {
          "output_type": "stream",
          "name": "stdout",
          "text": [
            "\n",
            "      Epoch    GPU_mem   box_loss   seg_loss   cls_loss   dfl_loss  Instances       Size\n"
          ]
        },
        {
          "output_type": "stream",
          "name": "stderr",
          "text": [
            "     14/300        14G      1.406      1.684      3.689     0.8759         14       1440: 100%|██████████| 4/4 [00:03<00:00,  1.08it/s]\n",
            "                 Class     Images  Instances      Box(P          R      mAP50  mAP50-95)     Mask(P          R      mAP50  mAP50-95): 100%|██████████| 1/1 [00:00<00:00,  3.23it/s]"
          ]
        },
        {
          "output_type": "stream",
          "name": "stdout",
          "text": [
            "                   all         15         30      0.006        0.9      0.172      0.127      0.006        0.9      0.172      0.104\n"
          ]
        },
        {
          "output_type": "stream",
          "name": "stderr",
          "text": [
            "\n"
          ]
        },
        {
          "output_type": "stream",
          "name": "stdout",
          "text": [
            "\n",
            "      Epoch    GPU_mem   box_loss   seg_loss   cls_loss   dfl_loss  Instances       Size\n"
          ]
        },
        {
          "output_type": "stream",
          "name": "stderr",
          "text": [
            "     15/300      13.7G      1.208      1.442      3.235     0.8706         11       1440: 100%|██████████| 4/4 [00:03<00:00,  1.18it/s]\n",
            "                 Class     Images  Instances      Box(P          R      mAP50  mAP50-95)     Mask(P          R      mAP50  mAP50-95): 100%|██████████| 1/1 [00:00<00:00,  1.80it/s]"
          ]
        },
        {
          "output_type": "stream",
          "name": "stdout",
          "text": [
            "                   all         15         30    0.00622      0.933      0.563        0.4    0.00622      0.933      0.563      0.344\n"
          ]
        },
        {
          "output_type": "stream",
          "name": "stderr",
          "text": [
            "\n"
          ]
        },
        {
          "output_type": "stream",
          "name": "stdout",
          "text": [
            "\n",
            "      Epoch    GPU_mem   box_loss   seg_loss   cls_loss   dfl_loss  Instances       Size\n"
          ]
        },
        {
          "output_type": "stream",
          "name": "stderr",
          "text": [
            "     16/300        14G      1.426      1.404      3.713     0.9046         10       1440: 100%|██████████| 4/4 [00:03<00:00,  1.29it/s]\n",
            "                 Class     Images  Instances      Box(P          R      mAP50  mAP50-95)     Mask(P          R      mAP50  mAP50-95): 100%|██████████| 1/1 [00:00<00:00,  1.67it/s]"
          ]
        },
        {
          "output_type": "stream",
          "name": "stdout",
          "text": [
            "                   all         15         30    0.00644      0.967      0.677      0.489    0.00644      0.967      0.677      0.373\n"
          ]
        },
        {
          "output_type": "stream",
          "name": "stderr",
          "text": [
            "\n"
          ]
        },
        {
          "output_type": "stream",
          "name": "stdout",
          "text": [
            "\n",
            "      Epoch    GPU_mem   box_loss   seg_loss   cls_loss   dfl_loss  Instances       Size\n"
          ]
        },
        {
          "output_type": "stream",
          "name": "stderr",
          "text": [
            "     17/300        14G      1.328       1.68      3.206     0.8761         23       1440: 100%|██████████| 4/4 [00:03<00:00,  1.25it/s]\n",
            "                 Class     Images  Instances      Box(P          R      mAP50  mAP50-95)     Mask(P          R      mAP50  mAP50-95): 100%|██████████| 1/1 [00:01<00:00,  1.03s/it]"
          ]
        },
        {
          "output_type": "stream",
          "name": "stdout",
          "text": [
            "                   all         15         30          1      0.642       0.87      0.618          1      0.642       0.87      0.461\n"
          ]
        },
        {
          "output_type": "stream",
          "name": "stderr",
          "text": [
            "\n"
          ]
        },
        {
          "output_type": "stream",
          "name": "stdout",
          "text": [
            "\n",
            "      Epoch    GPU_mem   box_loss   seg_loss   cls_loss   dfl_loss  Instances       Size\n"
          ]
        },
        {
          "output_type": "stream",
          "name": "stderr",
          "text": [
            "     18/300      13.8G      1.179      1.498      2.978     0.8841         13       1440: 100%|██████████| 4/4 [00:03<00:00,  1.17it/s]\n",
            "                 Class     Images  Instances      Box(P          R      mAP50  mAP50-95)     Mask(P          R      mAP50  mAP50-95): 100%|██████████| 1/1 [00:00<00:00,  1.88it/s]"
          ]
        },
        {
          "output_type": "stream",
          "name": "stdout",
          "text": [
            "                   all         15         30          1      0.727      0.897      0.621          1      0.727      0.897      0.507\n"
          ]
        },
        {
          "output_type": "stream",
          "name": "stderr",
          "text": [
            "\n"
          ]
        },
        {
          "output_type": "stream",
          "name": "stdout",
          "text": [
            "\n",
            "      Epoch    GPU_mem   box_loss   seg_loss   cls_loss   dfl_loss  Instances       Size\n"
          ]
        },
        {
          "output_type": "stream",
          "name": "stderr",
          "text": [
            "     19/300        14G      1.149      1.533      3.305     0.8509         12       1440: 100%|██████████| 4/4 [00:03<00:00,  1.13it/s]\n",
            "                 Class     Images  Instances      Box(P          R      mAP50  mAP50-95)     Mask(P          R      mAP50  mAP50-95): 100%|██████████| 1/1 [00:00<00:00,  3.17it/s]"
          ]
        },
        {
          "output_type": "stream",
          "name": "stdout",
          "text": [
            "                   all         15         30      0.987        0.9      0.902      0.592      0.987        0.9      0.902       0.48\n"
          ]
        },
        {
          "output_type": "stream",
          "name": "stderr",
          "text": [
            "\n"
          ]
        },
        {
          "output_type": "stream",
          "name": "stdout",
          "text": [
            "\n",
            "      Epoch    GPU_mem   box_loss   seg_loss   cls_loss   dfl_loss  Instances       Size\n"
          ]
        },
        {
          "output_type": "stream",
          "name": "stderr",
          "text": [
            "     20/300      13.9G      1.196      1.332      2.962     0.8822         12       1440: 100%|██████████| 4/4 [00:03<00:00,  1.03it/s]\n",
            "                 Class     Images  Instances      Box(P          R      mAP50  mAP50-95)     Mask(P          R      mAP50  mAP50-95): 100%|██████████| 1/1 [00:00<00:00,  1.03it/s]"
          ]
        },
        {
          "output_type": "stream",
          "name": "stdout",
          "text": [
            "                   all         15         30          1      0.503      0.956      0.578          1      0.503      0.955       0.45\n"
          ]
        },
        {
          "output_type": "stream",
          "name": "stderr",
          "text": [
            "\n"
          ]
        },
        {
          "output_type": "stream",
          "name": "stdout",
          "text": [
            "\n",
            "      Epoch    GPU_mem   box_loss   seg_loss   cls_loss   dfl_loss  Instances       Size\n"
          ]
        },
        {
          "output_type": "stream",
          "name": "stderr",
          "text": [
            "     21/300      14.1G      1.281        1.5       3.17     0.8729         12       1440: 100%|██████████| 4/4 [00:03<00:00,  1.15it/s]\n",
            "                 Class     Images  Instances      Box(P          R      mAP50  mAP50-95)     Mask(P          R      mAP50  mAP50-95): 100%|██████████| 1/1 [00:00<00:00,  1.37it/s]"
          ]
        },
        {
          "output_type": "stream",
          "name": "stdout",
          "text": [
            "                   all         15         30          1      0.649      0.957      0.626          1      0.649      0.988      0.661\n"
          ]
        },
        {
          "output_type": "stream",
          "name": "stderr",
          "text": [
            "\n"
          ]
        },
        {
          "output_type": "stream",
          "name": "stdout",
          "text": [
            "\n",
            "      Epoch    GPU_mem   box_loss   seg_loss   cls_loss   dfl_loss  Instances       Size\n"
          ]
        },
        {
          "output_type": "stream",
          "name": "stderr",
          "text": [
            "     22/300      13.8G      1.405      1.457      2.738     0.9135         13       1440: 100%|██████████| 4/4 [00:03<00:00,  1.16it/s]\n",
            "                 Class     Images  Instances      Box(P          R      mAP50  mAP50-95)     Mask(P          R      mAP50  mAP50-95): 100%|██████████| 1/1 [00:00<00:00,  2.32it/s]"
          ]
        },
        {
          "output_type": "stream",
          "name": "stdout",
          "text": [
            "                   all         15         30          1      0.438      0.964      0.611          1      0.438      0.964      0.643\n"
          ]
        },
        {
          "output_type": "stream",
          "name": "stderr",
          "text": [
            "\n"
          ]
        },
        {
          "output_type": "stream",
          "name": "stdout",
          "text": [
            "\n",
            "      Epoch    GPU_mem   box_loss   seg_loss   cls_loss   dfl_loss  Instances       Size\n"
          ]
        },
        {
          "output_type": "stream",
          "name": "stderr",
          "text": [
            "     23/300      14.1G      1.387      1.373      3.006     0.8823         16       1440: 100%|██████████| 4/4 [00:03<00:00,  1.15it/s]\n",
            "                 Class     Images  Instances      Box(P          R      mAP50  mAP50-95)     Mask(P          R      mAP50  mAP50-95): 100%|██████████| 1/1 [00:00<00:00,  2.73it/s]"
          ]
        },
        {
          "output_type": "stream",
          "name": "stdout",
          "text": [
            "                   all         15         30          1      0.748      0.992      0.674          1      0.748      0.992       0.56\n"
          ]
        },
        {
          "output_type": "stream",
          "name": "stderr",
          "text": [
            "\n"
          ]
        },
        {
          "output_type": "stream",
          "name": "stdout",
          "text": [
            "\n",
            "      Epoch    GPU_mem   box_loss   seg_loss   cls_loss   dfl_loss  Instances       Size\n"
          ]
        },
        {
          "output_type": "stream",
          "name": "stderr",
          "text": [
            "     24/300      13.7G       1.25      1.405      2.844     0.8664         16       1440: 100%|██████████| 4/4 [00:04<00:00,  1.04s/it]\n",
            "                 Class     Images  Instances      Box(P          R      mAP50  mAP50-95)     Mask(P          R      mAP50  mAP50-95): 100%|██████████| 1/1 [00:00<00:00,  2.36it/s]"
          ]
        },
        {
          "output_type": "stream",
          "name": "stdout",
          "text": [
            "                   all         15         30      0.966       0.94      0.993      0.664      0.966      0.935      0.964      0.503\n"
          ]
        },
        {
          "output_type": "stream",
          "name": "stderr",
          "text": [
            "\n"
          ]
        },
        {
          "output_type": "stream",
          "name": "stdout",
          "text": [
            "\n",
            "      Epoch    GPU_mem   box_loss   seg_loss   cls_loss   dfl_loss  Instances       Size\n"
          ]
        },
        {
          "output_type": "stream",
          "name": "stderr",
          "text": [
            "     25/300      14.1G      1.205      1.326      2.497     0.8872         15       1440: 100%|██████████| 4/4 [00:03<00:00,  1.19it/s]\n",
            "                 Class     Images  Instances      Box(P          R      mAP50  mAP50-95)     Mask(P          R      mAP50  mAP50-95): 100%|██████████| 1/1 [00:00<00:00,  1.63it/s]"
          ]
        },
        {
          "output_type": "stream",
          "name": "stdout",
          "text": [
            "                   all         15         30      0.933      0.934      0.989      0.686      0.933      0.934      0.989      0.553\n"
          ]
        },
        {
          "output_type": "stream",
          "name": "stderr",
          "text": [
            "\n"
          ]
        },
        {
          "output_type": "stream",
          "name": "stdout",
          "text": [
            "\n",
            "      Epoch    GPU_mem   box_loss   seg_loss   cls_loss   dfl_loss  Instances       Size\n"
          ]
        },
        {
          "output_type": "stream",
          "name": "stderr",
          "text": [
            "     26/300        14G      1.199      1.159      2.571     0.8723         10       1440: 100%|██████████| 4/4 [00:03<00:00,  1.15it/s]\n",
            "                 Class     Images  Instances      Box(P          R      mAP50  mAP50-95)     Mask(P          R      mAP50  mAP50-95): 100%|██████████| 1/1 [00:00<00:00,  1.35it/s]"
          ]
        },
        {
          "output_type": "stream",
          "name": "stdout",
          "text": [
            "                   all         15         30      0.934      0.946      0.987      0.703      0.934      0.946      0.987      0.612\n"
          ]
        },
        {
          "output_type": "stream",
          "name": "stderr",
          "text": [
            "\n"
          ]
        },
        {
          "output_type": "stream",
          "name": "stdout",
          "text": [
            "\n",
            "      Epoch    GPU_mem   box_loss   seg_loss   cls_loss   dfl_loss  Instances       Size\n"
          ]
        },
        {
          "output_type": "stream",
          "name": "stderr",
          "text": [
            "     27/300      13.9G      1.234      1.381      2.258     0.8724         21       1440: 100%|██████████| 4/4 [00:03<00:00,  1.12it/s]\n",
            "                 Class     Images  Instances      Box(P          R      mAP50  mAP50-95)     Mask(P          R      mAP50  mAP50-95): 100%|██████████| 1/1 [00:00<00:00,  2.01it/s]"
          ]
        },
        {
          "output_type": "stream",
          "name": "stdout",
          "text": [
            "                   all         15         30      0.929      0.933      0.981      0.687      0.933      0.922      0.954      0.603\n"
          ]
        },
        {
          "output_type": "stream",
          "name": "stderr",
          "text": [
            "\n"
          ]
        },
        {
          "output_type": "stream",
          "name": "stdout",
          "text": [
            "\n",
            "      Epoch    GPU_mem   box_loss   seg_loss   cls_loss   dfl_loss  Instances       Size\n"
          ]
        },
        {
          "output_type": "stream",
          "name": "stderr",
          "text": [
            "     28/300        14G      1.164      1.384      2.175     0.8629         21       1440: 100%|██████████| 4/4 [00:03<00:00,  1.22it/s]\n",
            "                 Class     Images  Instances      Box(P          R      mAP50  mAP50-95)     Mask(P          R      mAP50  mAP50-95): 100%|██████████| 1/1 [00:00<00:00,  2.17it/s]"
          ]
        },
        {
          "output_type": "stream",
          "name": "stdout",
          "text": [
            "                   all         15         30      0.932      0.919      0.981      0.691      0.961      0.933      0.961      0.554\n"
          ]
        },
        {
          "output_type": "stream",
          "name": "stderr",
          "text": [
            "\n"
          ]
        },
        {
          "output_type": "stream",
          "name": "stdout",
          "text": [
            "\n",
            "      Epoch    GPU_mem   box_loss   seg_loss   cls_loss   dfl_loss  Instances       Size\n"
          ]
        },
        {
          "output_type": "stream",
          "name": "stderr",
          "text": [
            "     29/300      13.8G      1.104      1.222      2.391     0.8769         10       1440: 100%|██████████| 4/4 [00:03<00:00,  1.25it/s]\n",
            "                 Class     Images  Instances      Box(P          R      mAP50  mAP50-95)     Mask(P          R      mAP50  mAP50-95): 100%|██████████| 1/1 [00:00<00:00,  2.34it/s]"
          ]
        },
        {
          "output_type": "stream",
          "name": "stdout",
          "text": [
            "                   all         15         30      0.878      0.956      0.971      0.673      0.903       0.93      0.956      0.559\n"
          ]
        },
        {
          "output_type": "stream",
          "name": "stderr",
          "text": [
            "\n"
          ]
        },
        {
          "output_type": "stream",
          "name": "stdout",
          "text": [
            "\n",
            "      Epoch    GPU_mem   box_loss   seg_loss   cls_loss   dfl_loss  Instances       Size\n"
          ]
        },
        {
          "output_type": "stream",
          "name": "stderr",
          "text": [
            "     30/300      13.8G       1.05      1.344      2.348     0.8762         11       1440: 100%|██████████| 4/4 [00:03<00:00,  1.21it/s]\n",
            "                 Class     Images  Instances      Box(P          R      mAP50  mAP50-95)     Mask(P          R      mAP50  mAP50-95): 100%|██████████| 1/1 [00:00<00:00,  2.07it/s]"
          ]
        },
        {
          "output_type": "stream",
          "name": "stdout",
          "text": [
            "                   all         15         30      0.935      0.963       0.98      0.657      0.903      0.931      0.949      0.549\n"
          ]
        },
        {
          "output_type": "stream",
          "name": "stderr",
          "text": [
            "\n"
          ]
        },
        {
          "output_type": "stream",
          "name": "stdout",
          "text": [
            "\n",
            "      Epoch    GPU_mem   box_loss   seg_loss   cls_loss   dfl_loss  Instances       Size\n"
          ]
        },
        {
          "output_type": "stream",
          "name": "stderr",
          "text": [
            "     31/300      13.7G      1.146      1.342       2.29     0.8397         12       1440: 100%|██████████| 4/4 [00:03<00:00,  1.15it/s]\n",
            "                 Class     Images  Instances      Box(P          R      mAP50  mAP50-95)     Mask(P          R      mAP50  mAP50-95): 100%|██████████| 1/1 [00:00<00:00,  1.76it/s]"
          ]
        },
        {
          "output_type": "stream",
          "name": "stdout",
          "text": [
            "                   all         15         30      0.944      0.967       0.99      0.669      0.907      0.933      0.953      0.516\n"
          ]
        },
        {
          "output_type": "stream",
          "name": "stderr",
          "text": [
            "\n"
          ]
        },
        {
          "output_type": "stream",
          "name": "stdout",
          "text": [
            "\n",
            "      Epoch    GPU_mem   box_loss   seg_loss   cls_loss   dfl_loss  Instances       Size\n"
          ]
        },
        {
          "output_type": "stream",
          "name": "stderr",
          "text": [
            "     32/300      13.9G      1.082      1.315      2.333     0.8233         20       1440: 100%|██████████| 4/4 [00:03<00:00,  1.16it/s]\n",
            "                 Class     Images  Instances      Box(P          R      mAP50  mAP50-95)     Mask(P          R      mAP50  mAP50-95): 100%|██████████| 1/1 [00:00<00:00,  3.11it/s]"
          ]
        },
        {
          "output_type": "stream",
          "name": "stdout",
          "text": [
            "                   all         15         30      0.982      0.933       0.99      0.677      0.938        0.9      0.952      0.605\n"
          ]
        },
        {
          "output_type": "stream",
          "name": "stderr",
          "text": [
            "\n"
          ]
        },
        {
          "output_type": "stream",
          "name": "stdout",
          "text": [
            "\n",
            "      Epoch    GPU_mem   box_loss   seg_loss   cls_loss   dfl_loss  Instances       Size\n"
          ]
        },
        {
          "output_type": "stream",
          "name": "stderr",
          "text": [
            "     33/300      13.9G      1.079       1.17       1.99     0.8629         16       1440: 100%|██████████| 4/4 [00:03<00:00,  1.16it/s]\n",
            "                 Class     Images  Instances      Box(P          R      mAP50  mAP50-95)     Mask(P          R      mAP50  mAP50-95): 100%|██████████| 1/1 [00:00<00:00,  1.18it/s]"
          ]
        },
        {
          "output_type": "stream",
          "name": "stdout",
          "text": [
            "                   all         15         30      0.981      0.933       0.99      0.725      0.946        0.9      0.952      0.549\n"
          ]
        },
        {
          "output_type": "stream",
          "name": "stderr",
          "text": [
            "\n"
          ]
        },
        {
          "output_type": "stream",
          "name": "stdout",
          "text": [
            "\n",
            "      Epoch    GPU_mem   box_loss   seg_loss   cls_loss   dfl_loss  Instances       Size\n"
          ]
        },
        {
          "output_type": "stream",
          "name": "stderr",
          "text": [
            "     34/300        14G      1.033      1.058      1.828     0.8524         18       1440: 100%|██████████| 4/4 [00:03<00:00,  1.16it/s]\n",
            "                 Class     Images  Instances      Box(P          R      mAP50  mAP50-95)     Mask(P          R      mAP50  mAP50-95): 100%|██████████| 1/1 [00:00<00:00,  2.23it/s]"
          ]
        },
        {
          "output_type": "stream",
          "name": "stdout",
          "text": [
            "                   all         15         30      0.959      0.967       0.99      0.683      0.925      0.933       0.95      0.526\n"
          ]
        },
        {
          "output_type": "stream",
          "name": "stderr",
          "text": [
            "\n"
          ]
        },
        {
          "output_type": "stream",
          "name": "stdout",
          "text": [
            "\n",
            "      Epoch    GPU_mem   box_loss   seg_loss   cls_loss   dfl_loss  Instances       Size\n"
          ]
        },
        {
          "output_type": "stream",
          "name": "stderr",
          "text": [
            "     35/300      13.9G      1.113      1.206       2.12     0.8494         12       1440: 100%|██████████| 4/4 [00:03<00:00,  1.21it/s]\n",
            "                 Class     Images  Instances      Box(P          R      mAP50  mAP50-95)     Mask(P          R      mAP50  mAP50-95): 100%|██████████| 1/1 [00:00<00:00,  2.22it/s]"
          ]
        },
        {
          "output_type": "stream",
          "name": "stdout",
          "text": [
            "                   all         15         30      0.966      0.967      0.991        0.7      0.932      0.933      0.957      0.565\n"
          ]
        },
        {
          "output_type": "stream",
          "name": "stderr",
          "text": [
            "\n"
          ]
        },
        {
          "output_type": "stream",
          "name": "stdout",
          "text": [
            "\n",
            "      Epoch    GPU_mem   box_loss   seg_loss   cls_loss   dfl_loss  Instances       Size\n"
          ]
        },
        {
          "output_type": "stream",
          "name": "stderr",
          "text": [
            "     36/300        14G      1.199      1.313        2.6     0.8465         10       1440: 100%|██████████| 4/4 [00:03<00:00,  1.18it/s]\n",
            "                 Class     Images  Instances      Box(P          R      mAP50  mAP50-95)     Mask(P          R      mAP50  mAP50-95): 100%|██████████| 1/1 [00:00<00:00,  1.29it/s]"
          ]
        },
        {
          "output_type": "stream",
          "name": "stdout",
          "text": [
            "                   all         15         30      0.966      0.959       0.99      0.686      0.933      0.926      0.958      0.573\n"
          ]
        },
        {
          "output_type": "stream",
          "name": "stderr",
          "text": [
            "\n"
          ]
        },
        {
          "output_type": "stream",
          "name": "stdout",
          "text": [
            "\n",
            "      Epoch    GPU_mem   box_loss   seg_loss   cls_loss   dfl_loss  Instances       Size\n"
          ]
        },
        {
          "output_type": "stream",
          "name": "stderr",
          "text": [
            "     37/300      13.8G      1.042      1.145      1.872     0.8582         12       1440: 100%|██████████| 4/4 [00:03<00:00,  1.11it/s]\n",
            "                 Class     Images  Instances      Box(P          R      mAP50  mAP50-95)     Mask(P          R      mAP50  mAP50-95): 100%|██████████| 1/1 [00:00<00:00,  2.62it/s]"
          ]
        },
        {
          "output_type": "stream",
          "name": "stdout",
          "text": [
            "                   all         15         30      0.958      0.933      0.988      0.699      0.969      0.867      0.957      0.581\n"
          ]
        },
        {
          "output_type": "stream",
          "name": "stderr",
          "text": [
            "\n"
          ]
        },
        {
          "output_type": "stream",
          "name": "stdout",
          "text": [
            "\n",
            "      Epoch    GPU_mem   box_loss   seg_loss   cls_loss   dfl_loss  Instances       Size\n"
          ]
        },
        {
          "output_type": "stream",
          "name": "stderr",
          "text": [
            "     38/300        14G      1.057      1.109      1.753     0.8422         16       1440: 100%|██████████| 4/4 [00:03<00:00,  1.06it/s]\n",
            "                 Class     Images  Instances      Box(P          R      mAP50  mAP50-95)     Mask(P          R      mAP50  mAP50-95): 100%|██████████| 1/1 [00:00<00:00,  2.35it/s]"
          ]
        },
        {
          "output_type": "stream",
          "name": "stdout",
          "text": [
            "                   all         15         30      0.965      0.924      0.983      0.712      0.956        0.9      0.951       0.44\n"
          ]
        },
        {
          "output_type": "stream",
          "name": "stderr",
          "text": [
            "\n"
          ]
        },
        {
          "output_type": "stream",
          "name": "stdout",
          "text": [
            "\n",
            "      Epoch    GPU_mem   box_loss   seg_loss   cls_loss   dfl_loss  Instances       Size\n"
          ]
        },
        {
          "output_type": "stream",
          "name": "stderr",
          "text": [
            "     39/300        14G      1.054      1.385       1.78     0.8416         23       1440: 100%|██████████| 4/4 [00:03<00:00,  1.05it/s]\n",
            "                 Class     Images  Instances      Box(P          R      mAP50  mAP50-95)     Mask(P          R      mAP50  mAP50-95): 100%|██████████| 1/1 [00:00<00:00,  2.31it/s]"
          ]
        },
        {
          "output_type": "stream",
          "name": "stdout",
          "text": [
            "                   all         15         30      0.931          1      0.984      0.676      0.931          1      0.984      0.486\n"
          ]
        },
        {
          "output_type": "stream",
          "name": "stderr",
          "text": [
            "\n"
          ]
        },
        {
          "output_type": "stream",
          "name": "stdout",
          "text": [
            "\n",
            "      Epoch    GPU_mem   box_loss   seg_loss   cls_loss   dfl_loss  Instances       Size\n"
          ]
        },
        {
          "output_type": "stream",
          "name": "stderr",
          "text": [
            "     40/300      14.1G      1.081      1.164      1.555     0.8567         14       1440: 100%|██████████| 4/4 [00:03<00:00,  1.06it/s]\n",
            "                 Class     Images  Instances      Box(P          R      mAP50  mAP50-95)     Mask(P          R      mAP50  mAP50-95): 100%|██████████| 1/1 [00:00<00:00,  2.25it/s]"
          ]
        },
        {
          "output_type": "stream",
          "name": "stdout",
          "text": [
            "                   all         15         30      0.934          1      0.976      0.694      0.934          1      0.976      0.523\n"
          ]
        },
        {
          "output_type": "stream",
          "name": "stderr",
          "text": [
            "\n"
          ]
        },
        {
          "output_type": "stream",
          "name": "stdout",
          "text": [
            "\n",
            "      Epoch    GPU_mem   box_loss   seg_loss   cls_loss   dfl_loss  Instances       Size\n"
          ]
        },
        {
          "output_type": "stream",
          "name": "stderr",
          "text": [
            "     41/300      13.8G      1.079       1.28      1.581     0.8078         16       1440: 100%|██████████| 4/4 [00:03<00:00,  1.15it/s]\n",
            "                 Class     Images  Instances      Box(P          R      mAP50  mAP50-95)     Mask(P          R      mAP50  mAP50-95): 100%|██████████| 1/1 [00:00<00:00,  1.18it/s]"
          ]
        },
        {
          "output_type": "stream",
          "name": "stdout",
          "text": [
            "                   all         15         30      0.994      0.967      0.994       0.72       0.97      0.933      0.964      0.515\n"
          ]
        },
        {
          "output_type": "stream",
          "name": "stderr",
          "text": [
            "\n"
          ]
        },
        {
          "output_type": "stream",
          "name": "stdout",
          "text": [
            "\n",
            "      Epoch    GPU_mem   box_loss   seg_loss   cls_loss   dfl_loss  Instances       Size\n"
          ]
        },
        {
          "output_type": "stream",
          "name": "stderr",
          "text": [
            "     42/300        14G     0.9958      1.226      1.427     0.8411         25       1440: 100%|██████████| 4/4 [00:03<00:00,  1.23it/s]\n",
            "                 Class     Images  Instances      Box(P          R      mAP50  mAP50-95)     Mask(P          R      mAP50  mAP50-95): 100%|██████████| 1/1 [00:00<00:00,  3.18it/s]"
          ]
        },
        {
          "output_type": "stream",
          "name": "stdout",
          "text": [
            "                   all         15         30      0.994      0.967      0.994      0.715      0.975      0.933      0.963      0.475\n"
          ]
        },
        {
          "output_type": "stream",
          "name": "stderr",
          "text": [
            "\n"
          ]
        },
        {
          "output_type": "stream",
          "name": "stdout",
          "text": [
            "\n",
            "      Epoch    GPU_mem   box_loss   seg_loss   cls_loss   dfl_loss  Instances       Size\n"
          ]
        },
        {
          "output_type": "stream",
          "name": "stderr",
          "text": [
            "     43/300      13.6G     0.9594      1.337      1.584     0.8632         11       1440: 100%|██████████| 4/4 [00:03<00:00,  1.16it/s]\n",
            "                 Class     Images  Instances      Box(P          R      mAP50  mAP50-95)     Mask(P          R      mAP50  mAP50-95): 100%|██████████| 1/1 [00:00<00:00,  2.38it/s]"
          ]
        },
        {
          "output_type": "stream",
          "name": "stdout",
          "text": [
            "                   all         15         30      0.992      0.967      0.994      0.738      0.963      0.933      0.963      0.505\n"
          ]
        },
        {
          "output_type": "stream",
          "name": "stderr",
          "text": [
            "\n"
          ]
        },
        {
          "output_type": "stream",
          "name": "stdout",
          "text": [
            "\n",
            "      Epoch    GPU_mem   box_loss   seg_loss   cls_loss   dfl_loss  Instances       Size\n"
          ]
        },
        {
          "output_type": "stream",
          "name": "stderr",
          "text": [
            "     44/300      13.9G      1.089      1.215      1.655     0.8484         16       1440: 100%|██████████| 4/4 [00:03<00:00,  1.13it/s]\n",
            "                 Class     Images  Instances      Box(P          R      mAP50  mAP50-95)     Mask(P          R      mAP50  mAP50-95): 100%|██████████| 1/1 [00:00<00:00,  2.45it/s]"
          ]
        },
        {
          "output_type": "stream",
          "name": "stdout",
          "text": [
            "                   all         15         30      0.992      0.967      0.991       0.72      0.992      0.967      0.993      0.523\n"
          ]
        },
        {
          "output_type": "stream",
          "name": "stderr",
          "text": [
            "\n"
          ]
        },
        {
          "output_type": "stream",
          "name": "stdout",
          "text": [
            "\n",
            "      Epoch    GPU_mem   box_loss   seg_loss   cls_loss   dfl_loss  Instances       Size\n"
          ]
        },
        {
          "output_type": "stream",
          "name": "stderr",
          "text": [
            "     45/300      14.1G      1.042      1.298      1.521     0.8608         13       1440: 100%|██████████| 4/4 [00:03<00:00,  1.21it/s]\n",
            "                 Class     Images  Instances      Box(P          R      mAP50  mAP50-95)     Mask(P          R      mAP50  mAP50-95): 100%|██████████| 1/1 [00:00<00:00,  1.93it/s]"
          ]
        },
        {
          "output_type": "stream",
          "name": "stdout",
          "text": [
            "                   all         15         30      0.958      0.967      0.979      0.644      0.925      0.933      0.947      0.389\n"
          ]
        },
        {
          "output_type": "stream",
          "name": "stderr",
          "text": [
            "\n"
          ]
        },
        {
          "output_type": "stream",
          "name": "stdout",
          "text": [
            "\n",
            "      Epoch    GPU_mem   box_loss   seg_loss   cls_loss   dfl_loss  Instances       Size\n"
          ]
        },
        {
          "output_type": "stream",
          "name": "stderr",
          "text": [
            "     46/300      13.9G      1.076      1.155      1.558      0.864         17       1440: 100%|██████████| 4/4 [00:03<00:00,  1.04it/s]\n",
            "                 Class     Images  Instances      Box(P          R      mAP50  mAP50-95)     Mask(P          R      mAP50  mAP50-95): 100%|██████████| 1/1 [00:00<00:00,  1.56it/s]"
          ]
        },
        {
          "output_type": "stream",
          "name": "stdout",
          "text": [
            "                   all         15         30      0.959      0.967      0.992      0.698      0.926      0.933      0.955      0.508\n"
          ]
        },
        {
          "output_type": "stream",
          "name": "stderr",
          "text": [
            "\n"
          ]
        },
        {
          "output_type": "stream",
          "name": "stdout",
          "text": [
            "\n",
            "      Epoch    GPU_mem   box_loss   seg_loss   cls_loss   dfl_loss  Instances       Size\n"
          ]
        },
        {
          "output_type": "stream",
          "name": "stderr",
          "text": [
            "     47/300      13.8G      1.041      1.064      1.472     0.8546         18       1440: 100%|██████████| 4/4 [00:03<00:00,  1.22it/s]\n",
            "                 Class     Images  Instances      Box(P          R      mAP50  mAP50-95)     Mask(P          R      mAP50  mAP50-95): 100%|██████████| 1/1 [00:00<00:00,  2.24it/s]"
          ]
        },
        {
          "output_type": "stream",
          "name": "stdout",
          "text": [
            "                   all         15         30      0.967       0.99      0.994      0.725      0.967       0.99      0.994       0.55\n"
          ]
        },
        {
          "output_type": "stream",
          "name": "stderr",
          "text": [
            "\n"
          ]
        },
        {
          "output_type": "stream",
          "name": "stdout",
          "text": [
            "\n",
            "      Epoch    GPU_mem   box_loss   seg_loss   cls_loss   dfl_loss  Instances       Size\n"
          ]
        },
        {
          "output_type": "stream",
          "name": "stderr",
          "text": [
            "     48/300      14.1G     0.9651     0.8677      1.416     0.8101         16       1440: 100%|██████████| 4/4 [00:03<00:00,  1.21it/s]\n",
            "                 Class     Images  Instances      Box(P          R      mAP50  mAP50-95)     Mask(P          R      mAP50  mAP50-95): 100%|██████████| 1/1 [00:00<00:00,  2.42it/s]"
          ]
        },
        {
          "output_type": "stream",
          "name": "stdout",
          "text": [
            "                   all         15         30       0.93          1      0.983      0.719          1      0.986      0.995      0.558\n"
          ]
        },
        {
          "output_type": "stream",
          "name": "stderr",
          "text": [
            "\n"
          ]
        },
        {
          "output_type": "stream",
          "name": "stdout",
          "text": [
            "\n",
            "      Epoch    GPU_mem   box_loss   seg_loss   cls_loss   dfl_loss  Instances       Size\n"
          ]
        },
        {
          "output_type": "stream",
          "name": "stderr",
          "text": [
            "     49/300      13.8G      1.057      1.167       1.33     0.8314         13       1440: 100%|██████████| 4/4 [00:03<00:00,  1.13it/s]\n",
            "                 Class     Images  Instances      Box(P          R      mAP50  mAP50-95)     Mask(P          R      mAP50  mAP50-95): 100%|██████████| 1/1 [00:00<00:00,  1.91it/s]"
          ]
        },
        {
          "output_type": "stream",
          "name": "stdout",
          "text": [
            "                   all         15         30      0.968      0.993      0.984      0.727      0.967       0.97      0.994      0.545\n"
          ]
        },
        {
          "output_type": "stream",
          "name": "stderr",
          "text": [
            "\n"
          ]
        },
        {
          "output_type": "stream",
          "name": "stdout",
          "text": [
            "\n",
            "      Epoch    GPU_mem   box_loss   seg_loss   cls_loss   dfl_loss  Instances       Size\n"
          ]
        },
        {
          "output_type": "stream",
          "name": "stderr",
          "text": [
            "     50/300      14.1G     0.9887      1.101      1.241      0.826         26       1440: 100%|██████████| 4/4 [00:03<00:00,  1.22it/s]\n",
            "                 Class     Images  Instances      Box(P          R      mAP50  mAP50-95)     Mask(P          R      mAP50  mAP50-95): 100%|██████████| 1/1 [00:00<00:00,  1.81it/s]"
          ]
        },
        {
          "output_type": "stream",
          "name": "stdout",
          "text": [
            "                   all         15         30      0.935          1      0.987      0.749      0.935          1      0.993      0.573\n"
          ]
        },
        {
          "output_type": "stream",
          "name": "stderr",
          "text": [
            "\n"
          ]
        },
        {
          "output_type": "stream",
          "name": "stdout",
          "text": [
            "\n",
            "      Epoch    GPU_mem   box_loss   seg_loss   cls_loss   dfl_loss  Instances       Size\n"
          ]
        },
        {
          "output_type": "stream",
          "name": "stderr",
          "text": [
            "     51/300      14.1G      1.073      1.271      1.184     0.8326         23       1440: 100%|██████████| 4/4 [00:03<00:00,  1.21it/s]\n",
            "                 Class     Images  Instances      Box(P          R      mAP50  mAP50-95)     Mask(P          R      mAP50  mAP50-95): 100%|██████████| 1/1 [00:00<00:00,  1.22it/s]"
          ]
        },
        {
          "output_type": "stream",
          "name": "stdout",
          "text": [
            "                   all         15         30      0.937          1      0.989      0.735      0.937          1      0.992      0.569\n"
          ]
        },
        {
          "output_type": "stream",
          "name": "stderr",
          "text": [
            "\n"
          ]
        },
        {
          "output_type": "stream",
          "name": "stdout",
          "text": [
            "\n",
            "      Epoch    GPU_mem   box_loss   seg_loss   cls_loss   dfl_loss  Instances       Size\n"
          ]
        },
        {
          "output_type": "stream",
          "name": "stderr",
          "text": [
            "     52/300        14G      1.025      1.071      1.196     0.8219         22       1440: 100%|██████████| 4/4 [00:03<00:00,  1.22it/s]\n",
            "                 Class     Images  Instances      Box(P          R      mAP50  mAP50-95)     Mask(P          R      mAP50  mAP50-95): 100%|██████████| 1/1 [00:01<00:00,  1.04s/it]"
          ]
        },
        {
          "output_type": "stream",
          "name": "stdout",
          "text": [
            "                   all         15         30      0.933          1      0.989      0.741      0.933          1      0.989      0.621\n"
          ]
        },
        {
          "output_type": "stream",
          "name": "stderr",
          "text": [
            "\n"
          ]
        },
        {
          "output_type": "stream",
          "name": "stdout",
          "text": [
            "\n",
            "      Epoch    GPU_mem   box_loss   seg_loss   cls_loss   dfl_loss  Instances       Size\n"
          ]
        },
        {
          "output_type": "stream",
          "name": "stderr",
          "text": [
            "     53/300      14.1G      1.064      1.033      1.272     0.8107         18       1440: 100%|██████████| 4/4 [00:03<00:00,  1.15it/s]\n",
            "                 Class     Images  Instances      Box(P          R      mAP50  mAP50-95)     Mask(P          R      mAP50  mAP50-95): 100%|██████████| 1/1 [00:00<00:00,  2.47it/s]"
          ]
        },
        {
          "output_type": "stream",
          "name": "stdout",
          "text": [
            "                   all         15         30      0.927          1      0.989      0.735          1      0.962      0.993      0.592\n"
          ]
        },
        {
          "output_type": "stream",
          "name": "stderr",
          "text": [
            "\n"
          ]
        },
        {
          "output_type": "stream",
          "name": "stdout",
          "text": [
            "\n",
            "      Epoch    GPU_mem   box_loss   seg_loss   cls_loss   dfl_loss  Instances       Size\n"
          ]
        },
        {
          "output_type": "stream",
          "name": "stderr",
          "text": [
            "     54/300      13.9G      1.111      1.157      1.522     0.8783          7       1440: 100%|██████████| 4/4 [00:04<00:00,  1.03s/it]\n",
            "                 Class     Images  Instances      Box(P          R      mAP50  mAP50-95)     Mask(P          R      mAP50  mAP50-95): 100%|██████████| 1/1 [00:00<00:00,  1.90it/s]"
          ]
        },
        {
          "output_type": "stream",
          "name": "stdout",
          "text": [
            "                   all         15         30      0.967      0.988       0.99      0.756      0.967      0.988      0.991      0.596\n"
          ]
        },
        {
          "output_type": "stream",
          "name": "stderr",
          "text": [
            "\n"
          ]
        },
        {
          "output_type": "stream",
          "name": "stdout",
          "text": [
            "\n",
            "      Epoch    GPU_mem   box_loss   seg_loss   cls_loss   dfl_loss  Instances       Size\n"
          ]
        },
        {
          "output_type": "stream",
          "name": "stderr",
          "text": [
            "     55/300        14G     0.9862       0.99      1.061     0.8437         19       1440: 100%|██████████| 4/4 [00:03<00:00,  1.19it/s]\n",
            "                 Class     Images  Instances      Box(P          R      mAP50  mAP50-95)     Mask(P          R      mAP50  mAP50-95): 100%|██████████| 1/1 [00:00<00:00,  1.94it/s]"
          ]
        },
        {
          "output_type": "stream",
          "name": "stdout",
          "text": [
            "                   all         15         30      0.968      0.998       0.99      0.713      0.968      0.998       0.99       0.59\n"
          ]
        },
        {
          "output_type": "stream",
          "name": "stderr",
          "text": [
            "\n"
          ]
        },
        {
          "output_type": "stream",
          "name": "stdout",
          "text": [
            "\n",
            "      Epoch    GPU_mem   box_loss   seg_loss   cls_loss   dfl_loss  Instances       Size\n"
          ]
        },
        {
          "output_type": "stream",
          "name": "stderr",
          "text": [
            "     56/300      14.1G      1.042      1.183       1.13     0.8541         16       1440: 100%|██████████| 4/4 [00:03<00:00,  1.18it/s]\n",
            "                 Class     Images  Instances      Box(P          R      mAP50  mAP50-95)     Mask(P          R      mAP50  mAP50-95): 100%|██████████| 1/1 [00:00<00:00,  1.55it/s]"
          ]
        },
        {
          "output_type": "stream",
          "name": "stdout",
          "text": [
            "                   all         15         30      0.962          1       0.99      0.715      0.962          1       0.99      0.635\n"
          ]
        },
        {
          "output_type": "stream",
          "name": "stderr",
          "text": [
            "\n"
          ]
        },
        {
          "output_type": "stream",
          "name": "stdout",
          "text": [
            "\n",
            "      Epoch    GPU_mem   box_loss   seg_loss   cls_loss   dfl_loss  Instances       Size\n"
          ]
        },
        {
          "output_type": "stream",
          "name": "stderr",
          "text": [
            "     57/300        14G     0.9687      1.067      1.207     0.8163         12       1440: 100%|██████████| 4/4 [00:03<00:00,  1.23it/s]\n",
            "                 Class     Images  Instances      Box(P          R      mAP50  mAP50-95)     Mask(P          R      mAP50  mAP50-95): 100%|██████████| 1/1 [00:00<00:00,  1.57it/s]"
          ]
        },
        {
          "output_type": "stream",
          "name": "stdout",
          "text": [
            "                   all         15         30       0.96          1      0.987      0.729       0.96          1      0.987      0.536\n"
          ]
        },
        {
          "output_type": "stream",
          "name": "stderr",
          "text": [
            "\n"
          ]
        },
        {
          "output_type": "stream",
          "name": "stdout",
          "text": [
            "\n",
            "      Epoch    GPU_mem   box_loss   seg_loss   cls_loss   dfl_loss  Instances       Size\n"
          ]
        },
        {
          "output_type": "stream",
          "name": "stderr",
          "text": [
            "     58/300        14G      1.022      1.108      1.105     0.8329         20       1440: 100%|██████████| 4/4 [00:03<00:00,  1.24it/s]\n",
            "                 Class     Images  Instances      Box(P          R      mAP50  mAP50-95)     Mask(P          R      mAP50  mAP50-95): 100%|██████████| 1/1 [00:00<00:00,  3.17it/s]"
          ]
        },
        {
          "output_type": "stream",
          "name": "stdout",
          "text": [
            "                   all         15         30      0.963          1      0.988      0.742      0.963          1      0.988      0.533\n"
          ]
        },
        {
          "output_type": "stream",
          "name": "stderr",
          "text": [
            "\n"
          ]
        },
        {
          "output_type": "stream",
          "name": "stdout",
          "text": [
            "\n",
            "      Epoch    GPU_mem   box_loss   seg_loss   cls_loss   dfl_loss  Instances       Size\n"
          ]
        },
        {
          "output_type": "stream",
          "name": "stderr",
          "text": [
            "     59/300      13.7G     0.9823      1.157      1.074       0.83         19       1440: 100%|██████████| 4/4 [00:04<00:00,  1.09s/it]\n",
            "                 Class     Images  Instances      Box(P          R      mAP50  mAP50-95)     Mask(P          R      mAP50  mAP50-95): 100%|██████████| 1/1 [00:00<00:00,  2.68it/s]"
          ]
        },
        {
          "output_type": "stream",
          "name": "stdout",
          "text": [
            "                   all         15         30      0.995          1      0.995      0.752      0.995          1      0.995      0.577\n"
          ]
        },
        {
          "output_type": "stream",
          "name": "stderr",
          "text": [
            "\n"
          ]
        },
        {
          "output_type": "stream",
          "name": "stdout",
          "text": [
            "\n",
            "      Epoch    GPU_mem   box_loss   seg_loss   cls_loss   dfl_loss  Instances       Size\n"
          ]
        },
        {
          "output_type": "stream",
          "name": "stderr",
          "text": [
            "     60/300      13.7G     0.9133      1.144      1.022     0.8257         11       1440: 100%|██████████| 4/4 [00:03<00:00,  1.20it/s]\n",
            "                 Class     Images  Instances      Box(P          R      mAP50  mAP50-95)     Mask(P          R      mAP50  mAP50-95): 100%|██████████| 1/1 [00:00<00:00,  2.11it/s]"
          ]
        },
        {
          "output_type": "stream",
          "name": "stdout",
          "text": [
            "                   all         15         30      0.963          1      0.989      0.736      0.963          1      0.991      0.606\n"
          ]
        },
        {
          "output_type": "stream",
          "name": "stderr",
          "text": [
            "\n"
          ]
        },
        {
          "output_type": "stream",
          "name": "stdout",
          "text": [
            "\n",
            "      Epoch    GPU_mem   box_loss   seg_loss   cls_loss   dfl_loss  Instances       Size\n"
          ]
        },
        {
          "output_type": "stream",
          "name": "stderr",
          "text": [
            "     61/300      14.1G     0.9739      1.143       1.05     0.8323         14       1440: 100%|██████████| 4/4 [00:03<00:00,  1.16it/s]\n",
            "                 Class     Images  Instances      Box(P          R      mAP50  mAP50-95)     Mask(P          R      mAP50  mAP50-95): 100%|██████████| 1/1 [00:00<00:00,  1.59it/s]"
          ]
        },
        {
          "output_type": "stream",
          "name": "stdout",
          "text": [
            "                   all         15         30          1          1      0.995      0.732          1          1      0.995      0.525\n"
          ]
        },
        {
          "output_type": "stream",
          "name": "stderr",
          "text": [
            "\n"
          ]
        },
        {
          "output_type": "stream",
          "name": "stdout",
          "text": [
            "\n",
            "      Epoch    GPU_mem   box_loss   seg_loss   cls_loss   dfl_loss  Instances       Size\n"
          ]
        },
        {
          "output_type": "stream",
          "name": "stderr",
          "text": [
            "     62/300      13.8G     0.9509      1.121      1.029      0.825         10       1440: 100%|██████████| 4/4 [00:03<00:00,  1.23it/s]\n",
            "                 Class     Images  Instances      Box(P          R      mAP50  mAP50-95)     Mask(P          R      mAP50  mAP50-95): 100%|██████████| 1/1 [00:00<00:00,  2.05it/s]"
          ]
        },
        {
          "output_type": "stream",
          "name": "stdout",
          "text": [
            "                   all         15         30          1          1      0.995      0.722          1          1      0.995      0.487\n"
          ]
        },
        {
          "output_type": "stream",
          "name": "stderr",
          "text": [
            "\n"
          ]
        },
        {
          "output_type": "stream",
          "name": "stdout",
          "text": [
            "\n",
            "      Epoch    GPU_mem   box_loss   seg_loss   cls_loss   dfl_loss  Instances       Size\n"
          ]
        },
        {
          "output_type": "stream",
          "name": "stderr",
          "text": [
            "     63/300      13.8G      0.968      1.077      1.025     0.8093         12       1440: 100%|██████████| 4/4 [00:03<00:00,  1.26it/s]\n",
            "                 Class     Images  Instances      Box(P          R      mAP50  mAP50-95)     Mask(P          R      mAP50  mAP50-95): 100%|██████████| 1/1 [00:00<00:00,  2.63it/s]"
          ]
        },
        {
          "output_type": "stream",
          "name": "stdout",
          "text": [
            "                   all         15         30      0.999          1      0.995      0.724      0.999          1      0.995       0.49\n"
          ]
        },
        {
          "output_type": "stream",
          "name": "stderr",
          "text": [
            "\n"
          ]
        },
        {
          "output_type": "stream",
          "name": "stdout",
          "text": [
            "\n",
            "      Epoch    GPU_mem   box_loss   seg_loss   cls_loss   dfl_loss  Instances       Size\n"
          ]
        },
        {
          "output_type": "stream",
          "name": "stderr",
          "text": [
            "     64/300      13.8G     0.9454     0.9343     0.9275     0.8077         18       1440: 100%|██████████| 4/4 [00:03<00:00,  1.13it/s]\n",
            "                 Class     Images  Instances      Box(P          R      mAP50  mAP50-95)     Mask(P          R      mAP50  mAP50-95): 100%|██████████| 1/1 [00:00<00:00,  2.35it/s]"
          ]
        },
        {
          "output_type": "stream",
          "name": "stdout",
          "text": [
            "                   all         15         30          1      0.993      0.995      0.694      0.966       0.96      0.966      0.434\n"
          ]
        },
        {
          "output_type": "stream",
          "name": "stderr",
          "text": [
            "\n"
          ]
        },
        {
          "output_type": "stream",
          "name": "stdout",
          "text": [
            "\n",
            "      Epoch    GPU_mem   box_loss   seg_loss   cls_loss   dfl_loss  Instances       Size\n"
          ]
        },
        {
          "output_type": "stream",
          "name": "stderr",
          "text": [
            "     65/300      14.1G     0.9628      1.132     0.9567     0.8721         12       1440: 100%|██████████| 4/4 [00:03<00:00,  1.15it/s]\n",
            "                 Class     Images  Instances      Box(P          R      mAP50  mAP50-95)     Mask(P          R      mAP50  mAP50-95): 100%|██████████| 1/1 [00:00<00:00,  1.70it/s]"
          ]
        },
        {
          "output_type": "stream",
          "name": "stdout",
          "text": [
            "                   all         15         30      0.963          1      0.994      0.689      0.931      0.967      0.969      0.426\n"
          ]
        },
        {
          "output_type": "stream",
          "name": "stderr",
          "text": [
            "\n"
          ]
        },
        {
          "output_type": "stream",
          "name": "stdout",
          "text": [
            "\n",
            "      Epoch    GPU_mem   box_loss   seg_loss   cls_loss   dfl_loss  Instances       Size\n"
          ]
        },
        {
          "output_type": "stream",
          "name": "stderr",
          "text": [
            "     66/300      13.7G     0.9405      1.119     0.9931     0.8265         10       1440: 100%|██████████| 4/4 [00:03<00:00,  1.18it/s]\n",
            "                 Class     Images  Instances      Box(P          R      mAP50  mAP50-95)     Mask(P          R      mAP50  mAP50-95): 100%|██████████| 1/1 [00:00<00:00,  1.37it/s]"
          ]
        },
        {
          "output_type": "stream",
          "name": "stdout",
          "text": [
            "                   all         15         30          1      0.998      0.995      0.735      0.967      0.965      0.973      0.537\n"
          ]
        },
        {
          "output_type": "stream",
          "name": "stderr",
          "text": [
            "\n"
          ]
        },
        {
          "output_type": "stream",
          "name": "stdout",
          "text": [
            "\n",
            "      Epoch    GPU_mem   box_loss   seg_loss   cls_loss   dfl_loss  Instances       Size\n"
          ]
        },
        {
          "output_type": "stream",
          "name": "stderr",
          "text": [
            "     67/300      13.9G      0.868      1.159     0.8899     0.8551         12       1440: 100%|██████████| 4/4 [00:03<00:00,  1.16it/s]\n",
            "                 Class     Images  Instances      Box(P          R      mAP50  mAP50-95)     Mask(P          R      mAP50  mAP50-95): 100%|██████████| 1/1 [00:00<00:00,  2.00it/s]"
          ]
        },
        {
          "output_type": "stream",
          "name": "stdout",
          "text": [
            "                   all         15         30      0.968      0.997      0.994      0.737      0.935      0.963       0.96      0.493\n"
          ]
        },
        {
          "output_type": "stream",
          "name": "stderr",
          "text": [
            "\n"
          ]
        },
        {
          "output_type": "stream",
          "name": "stdout",
          "text": [
            "\n",
            "      Epoch    GPU_mem   box_loss   seg_loss   cls_loss   dfl_loss  Instances       Size\n"
          ]
        },
        {
          "output_type": "stream",
          "name": "stderr",
          "text": [
            "     68/300      13.9G      1.012      1.111     0.9022     0.8456         16       1440: 100%|██████████| 4/4 [00:03<00:00,  1.27it/s]\n",
            "                 Class     Images  Instances      Box(P          R      mAP50  mAP50-95)     Mask(P          R      mAP50  mAP50-95): 100%|██████████| 1/1 [00:00<00:00,  2.16it/s]"
          ]
        },
        {
          "output_type": "stream",
          "name": "stdout",
          "text": [
            "                   all         15         30      0.991      0.967      0.993      0.731      0.999      0.933      0.962      0.436\n"
          ]
        },
        {
          "output_type": "stream",
          "name": "stderr",
          "text": [
            "\n"
          ]
        },
        {
          "output_type": "stream",
          "name": "stdout",
          "text": [
            "\n",
            "      Epoch    GPU_mem   box_loss   seg_loss   cls_loss   dfl_loss  Instances       Size\n"
          ]
        },
        {
          "output_type": "stream",
          "name": "stderr",
          "text": [
            "     69/300      13.9G      1.029      1.165     0.9978     0.8457         22       1440: 100%|██████████| 4/4 [00:03<00:00,  1.10it/s]\n",
            "                 Class     Images  Instances      Box(P          R      mAP50  mAP50-95)     Mask(P          R      mAP50  mAP50-95): 100%|██████████| 1/1 [00:00<00:00,  2.04it/s]"
          ]
        },
        {
          "output_type": "stream",
          "name": "stdout",
          "text": [
            "                   all         15         30      0.968      0.996      0.993      0.767          1      0.931      0.972       0.51\n"
          ]
        },
        {
          "output_type": "stream",
          "name": "stderr",
          "text": [
            "\n"
          ]
        },
        {
          "output_type": "stream",
          "name": "stdout",
          "text": [
            "\n",
            "      Epoch    GPU_mem   box_loss   seg_loss   cls_loss   dfl_loss  Instances       Size\n"
          ]
        },
        {
          "output_type": "stream",
          "name": "stderr",
          "text": [
            "     70/300      14.2G     0.9735       1.02     0.8754       0.86         13       1440: 100%|██████████| 4/4 [00:03<00:00,  1.13it/s]\n",
            "                 Class     Images  Instances      Box(P          R      mAP50  mAP50-95)     Mask(P          R      mAP50  mAP50-95): 100%|██████████| 1/1 [00:00<00:00,  2.41it/s]"
          ]
        },
        {
          "output_type": "stream",
          "name": "stdout",
          "text": [
            "                   all         15         30      0.968      0.998      0.993      0.778      0.968      0.998      0.993      0.571\n"
          ]
        },
        {
          "output_type": "stream",
          "name": "stderr",
          "text": [
            "\n"
          ]
        },
        {
          "output_type": "stream",
          "name": "stdout",
          "text": [
            "\n",
            "      Epoch    GPU_mem   box_loss   seg_loss   cls_loss   dfl_loss  Instances       Size\n"
          ]
        },
        {
          "output_type": "stream",
          "name": "stderr",
          "text": [
            "     71/300        14G     0.8611      1.091     0.8354     0.8393         14       1440: 100%|██████████| 4/4 [00:03<00:00,  1.17it/s]\n",
            "                 Class     Images  Instances      Box(P          R      mAP50  mAP50-95)     Mask(P          R      mAP50  mAP50-95): 100%|██████████| 1/1 [00:00<00:00,  1.29it/s]"
          ]
        },
        {
          "output_type": "stream",
          "name": "stdout",
          "text": [
            "                   all         15         30      0.968      0.999      0.993      0.722      0.968      0.999      0.993      0.516\n"
          ]
        },
        {
          "output_type": "stream",
          "name": "stderr",
          "text": [
            "\n"
          ]
        },
        {
          "output_type": "stream",
          "name": "stdout",
          "text": [
            "\n",
            "      Epoch    GPU_mem   box_loss   seg_loss   cls_loss   dfl_loss  Instances       Size\n"
          ]
        },
        {
          "output_type": "stream",
          "name": "stderr",
          "text": [
            "     72/300      14.2G      1.028      1.063     0.9175     0.8291         16       1440: 100%|██████████| 4/4 [00:03<00:00,  1.14it/s]\n",
            "                 Class     Images  Instances      Box(P          R      mAP50  mAP50-95)     Mask(P          R      mAP50  mAP50-95): 100%|██████████| 1/1 [00:00<00:00,  2.13it/s]"
          ]
        },
        {
          "output_type": "stream",
          "name": "stdout",
          "text": [
            "                   all         15         30      0.968      0.997      0.993      0.725      0.968      0.997      0.993      0.441\n"
          ]
        },
        {
          "output_type": "stream",
          "name": "stderr",
          "text": [
            "\n"
          ]
        },
        {
          "output_type": "stream",
          "name": "stdout",
          "text": [
            "\n",
            "      Epoch    GPU_mem   box_loss   seg_loss   cls_loss   dfl_loss  Instances       Size\n"
          ]
        },
        {
          "output_type": "stream",
          "name": "stderr",
          "text": [
            "     73/300        14G     0.9069      1.064     0.8473     0.8169         12       1440: 100%|██████████| 4/4 [00:03<00:00,  1.16it/s]\n",
            "                 Class     Images  Instances      Box(P          R      mAP50  mAP50-95)     Mask(P          R      mAP50  mAP50-95): 100%|██████████| 1/1 [00:00<00:00,  2.42it/s]"
          ]
        },
        {
          "output_type": "stream",
          "name": "stdout",
          "text": [
            "                   all         15         30      0.968      0.997      0.992       0.75      0.968      0.997      0.992      0.564\n"
          ]
        },
        {
          "output_type": "stream",
          "name": "stderr",
          "text": [
            "\n"
          ]
        },
        {
          "output_type": "stream",
          "name": "stdout",
          "text": [
            "\n",
            "      Epoch    GPU_mem   box_loss   seg_loss   cls_loss   dfl_loss  Instances       Size\n"
          ]
        },
        {
          "output_type": "stream",
          "name": "stderr",
          "text": [
            "     74/300      13.7G     0.9172      1.065      0.843     0.8347         12       1440: 100%|██████████| 4/4 [00:03<00:00,  1.12it/s]\n",
            "                 Class     Images  Instances      Box(P          R      mAP50  mAP50-95)     Mask(P          R      mAP50  mAP50-95): 100%|██████████| 1/1 [00:00<00:00,  2.37it/s]"
          ]
        },
        {
          "output_type": "stream",
          "name": "stdout",
          "text": [
            "                   all         15         30          1      0.997      0.995      0.748          1      0.997      0.995      0.598\n"
          ]
        },
        {
          "output_type": "stream",
          "name": "stderr",
          "text": [
            "\n"
          ]
        },
        {
          "output_type": "stream",
          "name": "stdout",
          "text": [
            "\n",
            "      Epoch    GPU_mem   box_loss   seg_loss   cls_loss   dfl_loss  Instances       Size\n"
          ]
        },
        {
          "output_type": "stream",
          "name": "stderr",
          "text": [
            "     75/300        14G      1.055      1.089     0.8589     0.8311         25       1440: 100%|██████████| 4/4 [00:03<00:00,  1.21it/s]\n",
            "                 Class     Images  Instances      Box(P          R      mAP50  mAP50-95)     Mask(P          R      mAP50  mAP50-95): 100%|██████████| 1/1 [00:00<00:00,  1.82it/s]"
          ]
        },
        {
          "output_type": "stream",
          "name": "stdout",
          "text": [
            "                   all         15         30      0.968      0.997      0.993      0.759      0.968      0.997      0.993      0.587\n"
          ]
        },
        {
          "output_type": "stream",
          "name": "stderr",
          "text": [
            "\n"
          ]
        },
        {
          "output_type": "stream",
          "name": "stdout",
          "text": [
            "\n",
            "      Epoch    GPU_mem   box_loss   seg_loss   cls_loss   dfl_loss  Instances       Size\n"
          ]
        },
        {
          "output_type": "stream",
          "name": "stderr",
          "text": [
            "     76/300      13.8G     0.8974      1.071     0.8836     0.8202         11       1440: 100%|██████████| 4/4 [00:03<00:00,  1.14it/s]\n",
            "                 Class     Images  Instances      Box(P          R      mAP50  mAP50-95)     Mask(P          R      mAP50  mAP50-95): 100%|██████████| 1/1 [00:00<00:00,  1.81it/s]"
          ]
        },
        {
          "output_type": "stream",
          "name": "stdout",
          "text": [
            "                   all         15         30      0.968      0.997      0.991      0.747      0.968      0.997      0.991      0.579\n"
          ]
        },
        {
          "output_type": "stream",
          "name": "stderr",
          "text": [
            "\n"
          ]
        },
        {
          "output_type": "stream",
          "name": "stdout",
          "text": [
            "\n",
            "      Epoch    GPU_mem   box_loss   seg_loss   cls_loss   dfl_loss  Instances       Size\n"
          ]
        },
        {
          "output_type": "stream",
          "name": "stderr",
          "text": [
            "     77/300      13.9G      1.017      1.101     0.8555     0.8365         10       1440: 100%|██████████| 4/4 [00:03<00:00,  1.22it/s]\n",
            "                 Class     Images  Instances      Box(P          R      mAP50  mAP50-95)     Mask(P          R      mAP50  mAP50-95): 100%|██████████| 1/1 [00:00<00:00,  2.19it/s]"
          ]
        },
        {
          "output_type": "stream",
          "name": "stdout",
          "text": [
            "                   all         15         30      0.959      0.967      0.991       0.74      0.959      0.967      0.991      0.576\n"
          ]
        },
        {
          "output_type": "stream",
          "name": "stderr",
          "text": [
            "\n"
          ]
        },
        {
          "output_type": "stream",
          "name": "stdout",
          "text": [
            "\n",
            "      Epoch    GPU_mem   box_loss   seg_loss   cls_loss   dfl_loss  Instances       Size\n"
          ]
        },
        {
          "output_type": "stream",
          "name": "stderr",
          "text": [
            "     78/300        14G     0.8949     0.9293     0.7823      0.816         19       1440: 100%|██████████| 4/4 [00:03<00:00,  1.24it/s]\n",
            "                 Class     Images  Instances      Box(P          R      mAP50  mAP50-95)     Mask(P          R      mAP50  mAP50-95): 100%|██████████| 1/1 [00:00<00:00,  2.86it/s]"
          ]
        },
        {
          "output_type": "stream",
          "name": "stdout",
          "text": [
            "                   all         15         30      0.967      0.992      0.994      0.729      0.967      0.992      0.994      0.516\n"
          ]
        },
        {
          "output_type": "stream",
          "name": "stderr",
          "text": [
            "\n"
          ]
        },
        {
          "output_type": "stream",
          "name": "stdout",
          "text": [
            "\n",
            "      Epoch    GPU_mem   box_loss   seg_loss   cls_loss   dfl_loss  Instances       Size\n"
          ]
        },
        {
          "output_type": "stream",
          "name": "stderr",
          "text": [
            "     79/300        14G     0.9888       1.04     0.8354     0.8098         18       1440: 100%|██████████| 4/4 [00:03<00:00,  1.12it/s]\n",
            "                 Class     Images  Instances      Box(P          R      mAP50  mAP50-95)     Mask(P          R      mAP50  mAP50-95): 100%|██████████| 1/1 [00:00<00:00,  2.62it/s]"
          ]
        },
        {
          "output_type": "stream",
          "name": "stdout",
          "text": [
            "                   all         15         30          1      0.997      0.995      0.723          1      0.997      0.995      0.526\n"
          ]
        },
        {
          "output_type": "stream",
          "name": "stderr",
          "text": [
            "\n"
          ]
        },
        {
          "output_type": "stream",
          "name": "stdout",
          "text": [
            "\n",
            "      Epoch    GPU_mem   box_loss   seg_loss   cls_loss   dfl_loss  Instances       Size\n"
          ]
        },
        {
          "output_type": "stream",
          "name": "stderr",
          "text": [
            "     80/300      13.9G     0.8862      1.001      0.772     0.8346         14       1440: 100%|██████████| 4/4 [00:03<00:00,  1.24it/s]\n",
            "                 Class     Images  Instances      Box(P          R      mAP50  mAP50-95)     Mask(P          R      mAP50  mAP50-95): 100%|██████████| 1/1 [00:00<00:00,  2.25it/s]"
          ]
        },
        {
          "output_type": "stream",
          "name": "stdout",
          "text": [
            "                   all         15         30      0.995          1      0.995      0.735      0.995          1      0.995      0.587\n"
          ]
        },
        {
          "output_type": "stream",
          "name": "stderr",
          "text": [
            "\n"
          ]
        },
        {
          "output_type": "stream",
          "name": "stdout",
          "text": [
            "\n",
            "      Epoch    GPU_mem   box_loss   seg_loss   cls_loss   dfl_loss  Instances       Size\n"
          ]
        },
        {
          "output_type": "stream",
          "name": "stderr",
          "text": [
            "     81/300      13.9G     0.9819     0.9384     0.7976     0.8491         20       1440: 100%|██████████| 4/4 [00:03<00:00,  1.22it/s]\n",
            "                 Class     Images  Instances      Box(P          R      mAP50  mAP50-95)     Mask(P          R      mAP50  mAP50-95): 100%|██████████| 1/1 [00:00<00:00,  1.11it/s]"
          ]
        },
        {
          "output_type": "stream",
          "name": "stdout",
          "text": [
            "                   all         15         30      0.996          1      0.995      0.739      0.996          1      0.995       0.63\n"
          ]
        },
        {
          "output_type": "stream",
          "name": "stderr",
          "text": [
            "\n"
          ]
        },
        {
          "output_type": "stream",
          "name": "stdout",
          "text": [
            "\n",
            "      Epoch    GPU_mem   box_loss   seg_loss   cls_loss   dfl_loss  Instances       Size\n"
          ]
        },
        {
          "output_type": "stream",
          "name": "stderr",
          "text": [
            "     82/300      13.7G     0.8604     0.8768     0.7364     0.8299         17       1440: 100%|██████████| 4/4 [00:03<00:00,  1.23it/s]\n",
            "                 Class     Images  Instances      Box(P          R      mAP50  mAP50-95)     Mask(P          R      mAP50  mAP50-95): 100%|██████████| 1/1 [00:00<00:00,  2.81it/s]"
          ]
        },
        {
          "output_type": "stream",
          "name": "stdout",
          "text": [
            "                   all         15         30      0.966          1      0.995      0.741      0.966          1      0.995      0.588\n"
          ]
        },
        {
          "output_type": "stream",
          "name": "stderr",
          "text": [
            "\n"
          ]
        },
        {
          "output_type": "stream",
          "name": "stdout",
          "text": [
            "\n",
            "      Epoch    GPU_mem   box_loss   seg_loss   cls_loss   dfl_loss  Instances       Size\n"
          ]
        },
        {
          "output_type": "stream",
          "name": "stderr",
          "text": [
            "     83/300        14G     0.8941      1.054     0.7752     0.8222         11       1440: 100%|██████████| 4/4 [00:03<00:00,  1.25it/s]\n",
            "                 Class     Images  Instances      Box(P          R      mAP50  mAP50-95)     Mask(P          R      mAP50  mAP50-95): 100%|██████████| 1/1 [00:00<00:00,  1.92it/s]"
          ]
        },
        {
          "output_type": "stream",
          "name": "stdout",
          "text": [
            "                   all         15         30          1      0.996      0.995      0.728          1      0.996      0.995      0.635\n"
          ]
        },
        {
          "output_type": "stream",
          "name": "stderr",
          "text": [
            "\n"
          ]
        },
        {
          "output_type": "stream",
          "name": "stdout",
          "text": [
            "\n",
            "      Epoch    GPU_mem   box_loss   seg_loss   cls_loss   dfl_loss  Instances       Size\n"
          ]
        },
        {
          "output_type": "stream",
          "name": "stderr",
          "text": [
            "     84/300      14.1G      0.886      1.155     0.8021     0.8224         15       1440: 100%|██████████| 4/4 [00:03<00:00,  1.12it/s]\n",
            "                 Class     Images  Instances      Box(P          R      mAP50  mAP50-95)     Mask(P          R      mAP50  mAP50-95): 100%|██████████| 1/1 [00:00<00:00,  2.58it/s]"
          ]
        },
        {
          "output_type": "stream",
          "name": "stdout",
          "text": [
            "                   all         15         30      0.962          1      0.994      0.709      0.962          1      0.994      0.675\n"
          ]
        },
        {
          "output_type": "stream",
          "name": "stderr",
          "text": [
            "\n"
          ]
        },
        {
          "output_type": "stream",
          "name": "stdout",
          "text": [
            "\n",
            "      Epoch    GPU_mem   box_loss   seg_loss   cls_loss   dfl_loss  Instances       Size\n"
          ]
        },
        {
          "output_type": "stream",
          "name": "stderr",
          "text": [
            "     85/300      13.9G     0.9179      1.229     0.8083      0.807         14       1440: 100%|██████████| 4/4 [00:03<00:00,  1.18it/s]\n",
            "                 Class     Images  Instances      Box(P          R      mAP50  mAP50-95)     Mask(P          R      mAP50  mAP50-95): 100%|██████████| 1/1 [00:00<00:00,  2.28it/s]"
          ]
        },
        {
          "output_type": "stream",
          "name": "stdout",
          "text": [
            "                   all         15         30          1      0.997      0.995       0.73          1      0.997      0.995      0.638\n"
          ]
        },
        {
          "output_type": "stream",
          "name": "stderr",
          "text": [
            "\n"
          ]
        },
        {
          "output_type": "stream",
          "name": "stdout",
          "text": [
            "\n",
            "      Epoch    GPU_mem   box_loss   seg_loss   cls_loss   dfl_loss  Instances       Size\n"
          ]
        },
        {
          "output_type": "stream",
          "name": "stderr",
          "text": [
            "     86/300      13.7G     0.9122      1.101     0.7824     0.8142         20       1440: 100%|██████████| 4/4 [00:03<00:00,  1.20it/s]\n",
            "                 Class     Images  Instances      Box(P          R      mAP50  mAP50-95)     Mask(P          R      mAP50  mAP50-95): 100%|██████████| 1/1 [00:00<00:00,  1.18it/s]"
          ]
        },
        {
          "output_type": "stream",
          "name": "stdout",
          "text": [
            "                   all         15         30      0.966          1      0.995      0.744      0.966          1      0.995       0.57\n"
          ]
        },
        {
          "output_type": "stream",
          "name": "stderr",
          "text": [
            "\n"
          ]
        },
        {
          "output_type": "stream",
          "name": "stdout",
          "text": [
            "\n",
            "      Epoch    GPU_mem   box_loss   seg_loss   cls_loss   dfl_loss  Instances       Size\n"
          ]
        },
        {
          "output_type": "stream",
          "name": "stderr",
          "text": [
            "     87/300      13.9G     0.9758      1.002     0.7936     0.8333         13       1440: 100%|██████████| 4/4 [00:03<00:00,  1.20it/s]\n",
            "                 Class     Images  Instances      Box(P          R      mAP50  mAP50-95)     Mask(P          R      mAP50  mAP50-95): 100%|██████████| 1/1 [00:00<00:00,  2.48it/s]"
          ]
        },
        {
          "output_type": "stream",
          "name": "stdout",
          "text": [
            "                   all         15         30      0.996          1      0.995      0.772      0.996          1      0.995      0.537\n"
          ]
        },
        {
          "output_type": "stream",
          "name": "stderr",
          "text": [
            "\n"
          ]
        },
        {
          "output_type": "stream",
          "name": "stdout",
          "text": [
            "\n",
            "      Epoch    GPU_mem   box_loss   seg_loss   cls_loss   dfl_loss  Instances       Size\n"
          ]
        },
        {
          "output_type": "stream",
          "name": "stderr",
          "text": [
            "     88/300        14G     0.9095      1.009     0.7436     0.8161         19       1440: 100%|██████████| 4/4 [00:03<00:00,  1.20it/s]\n",
            "                 Class     Images  Instances      Box(P          R      mAP50  mAP50-95)     Mask(P          R      mAP50  mAP50-95): 100%|██████████| 1/1 [00:00<00:00,  2.17it/s]"
          ]
        },
        {
          "output_type": "stream",
          "name": "stdout",
          "text": [
            "                   all         15         30      0.997          1      0.995      0.752      0.997          1      0.995      0.673\n"
          ]
        },
        {
          "output_type": "stream",
          "name": "stderr",
          "text": [
            "\n"
          ]
        },
        {
          "output_type": "stream",
          "name": "stdout",
          "text": [
            "\n",
            "      Epoch    GPU_mem   box_loss   seg_loss   cls_loss   dfl_loss  Instances       Size\n"
          ]
        },
        {
          "output_type": "stream",
          "name": "stderr",
          "text": [
            "     89/300        14G     0.8855     0.9655     0.6982     0.8228         13       1440: 100%|██████████| 4/4 [00:03<00:00,  1.10it/s]\n",
            "                 Class     Images  Instances      Box(P          R      mAP50  mAP50-95)     Mask(P          R      mAP50  mAP50-95): 100%|██████████| 1/1 [00:00<00:00,  2.17it/s]"
          ]
        },
        {
          "output_type": "stream",
          "name": "stdout",
          "text": [
            "                   all         15         30      0.997          1      0.995       0.72      0.997          1      0.995      0.662\n"
          ]
        },
        {
          "output_type": "stream",
          "name": "stderr",
          "text": [
            "\n"
          ]
        },
        {
          "output_type": "stream",
          "name": "stdout",
          "text": [
            "\n",
            "      Epoch    GPU_mem   box_loss   seg_loss   cls_loss   dfl_loss  Instances       Size\n"
          ]
        },
        {
          "output_type": "stream",
          "name": "stderr",
          "text": [
            "     90/300      13.9G      1.033      1.108     0.7916     0.8346         16       1440: 100%|██████████| 4/4 [00:03<00:00,  1.22it/s]\n",
            "                 Class     Images  Instances      Box(P          R      mAP50  mAP50-95)     Mask(P          R      mAP50  mAP50-95): 100%|██████████| 1/1 [00:00<00:00,  2.70it/s]"
          ]
        },
        {
          "output_type": "stream",
          "name": "stdout",
          "text": [
            "                   all         15         30      0.997          1      0.995      0.724      0.997          1      0.995      0.585\n"
          ]
        },
        {
          "output_type": "stream",
          "name": "stderr",
          "text": [
            "\n"
          ]
        },
        {
          "output_type": "stream",
          "name": "stdout",
          "text": [
            "\n",
            "      Epoch    GPU_mem   box_loss   seg_loss   cls_loss   dfl_loss  Instances       Size\n"
          ]
        },
        {
          "output_type": "stream",
          "name": "stderr",
          "text": [
            "     91/300      13.8G     0.9027     0.9756      0.751     0.8084         26       1440: 100%|██████████| 4/4 [00:03<00:00,  1.19it/s]\n",
            "                 Class     Images  Instances      Box(P          R      mAP50  mAP50-95)     Mask(P          R      mAP50  mAP50-95): 100%|██████████| 1/1 [00:01<00:00,  1.04s/it]"
          ]
        },
        {
          "output_type": "stream",
          "name": "stdout",
          "text": [
            "                   all         15         30      0.996          1      0.995       0.76      0.996          1      0.995      0.535\n"
          ]
        },
        {
          "output_type": "stream",
          "name": "stderr",
          "text": [
            "\n"
          ]
        },
        {
          "output_type": "stream",
          "name": "stdout",
          "text": [
            "\n",
            "      Epoch    GPU_mem   box_loss   seg_loss   cls_loss   dfl_loss  Instances       Size\n"
          ]
        },
        {
          "output_type": "stream",
          "name": "stderr",
          "text": [
            "     92/300      13.7G     0.9199     0.9206     0.7468     0.8206         16       1440: 100%|██████████| 4/4 [00:03<00:00,  1.15it/s]\n",
            "                 Class     Images  Instances      Box(P          R      mAP50  mAP50-95)     Mask(P          R      mAP50  mAP50-95): 100%|██████████| 1/1 [00:00<00:00,  1.99it/s]"
          ]
        },
        {
          "output_type": "stream",
          "name": "stdout",
          "text": [
            "                   all         15         30      0.995          1      0.995      0.802      0.995          1      0.995      0.545\n"
          ]
        },
        {
          "output_type": "stream",
          "name": "stderr",
          "text": [
            "\n"
          ]
        },
        {
          "output_type": "stream",
          "name": "stdout",
          "text": [
            "\n",
            "      Epoch    GPU_mem   box_loss   seg_loss   cls_loss   dfl_loss  Instances       Size\n"
          ]
        },
        {
          "output_type": "stream",
          "name": "stderr",
          "text": [
            "     93/300      14.1G     0.8253     0.9248      0.645     0.8125         18       1440: 100%|██████████| 4/4 [00:03<00:00,  1.21it/s]\n",
            "                 Class     Images  Instances      Box(P          R      mAP50  mAP50-95)     Mask(P          R      mAP50  mAP50-95): 100%|██████████| 1/1 [00:00<00:00,  1.75it/s]"
          ]
        },
        {
          "output_type": "stream",
          "name": "stdout",
          "text": [
            "                   all         15         30      0.996          1      0.995      0.771      0.996          1      0.995      0.654\n"
          ]
        },
        {
          "output_type": "stream",
          "name": "stderr",
          "text": [
            "\n"
          ]
        },
        {
          "output_type": "stream",
          "name": "stdout",
          "text": [
            "\n",
            "      Epoch    GPU_mem   box_loss   seg_loss   cls_loss   dfl_loss  Instances       Size\n"
          ]
        },
        {
          "output_type": "stream",
          "name": "stderr",
          "text": [
            "     94/300      13.8G     0.9131      1.164     0.7191     0.8269         16       1440: 100%|██████████| 4/4 [00:03<00:00,  1.14it/s]\n",
            "                 Class     Images  Instances      Box(P          R      mAP50  mAP50-95)     Mask(P          R      mAP50  mAP50-95): 100%|██████████| 1/1 [00:00<00:00,  1.85it/s]"
          ]
        },
        {
          "output_type": "stream",
          "name": "stdout",
          "text": [
            "                   all         15         30      0.996          1      0.995      0.754      0.996          1      0.995      0.662\n"
          ]
        },
        {
          "output_type": "stream",
          "name": "stderr",
          "text": [
            "\n"
          ]
        },
        {
          "output_type": "stream",
          "name": "stdout",
          "text": [
            "\n",
            "      Epoch    GPU_mem   box_loss   seg_loss   cls_loss   dfl_loss  Instances       Size\n"
          ]
        },
        {
          "output_type": "stream",
          "name": "stderr",
          "text": [
            "     95/300      13.9G     0.9984      1.146     0.7568     0.8457         17       1440: 100%|██████████| 4/4 [00:03<00:00,  1.14it/s]\n",
            "                 Class     Images  Instances      Box(P          R      mAP50  mAP50-95)     Mask(P          R      mAP50  mAP50-95): 100%|██████████| 1/1 [00:00<00:00,  2.39it/s]"
          ]
        },
        {
          "output_type": "stream",
          "name": "stdout",
          "text": [
            "                   all         15         30      0.997          1      0.995      0.764      0.997          1      0.995      0.621\n"
          ]
        },
        {
          "output_type": "stream",
          "name": "stderr",
          "text": [
            "\n"
          ]
        },
        {
          "output_type": "stream",
          "name": "stdout",
          "text": [
            "\n",
            "      Epoch    GPU_mem   box_loss   seg_loss   cls_loss   dfl_loss  Instances       Size\n"
          ]
        },
        {
          "output_type": "stream",
          "name": "stderr",
          "text": [
            "     96/300      14.1G     0.8917      1.088     0.7241     0.8185         12       1440: 100%|██████████| 4/4 [00:03<00:00,  1.20it/s]\n",
            "                 Class     Images  Instances      Box(P          R      mAP50  mAP50-95)     Mask(P          R      mAP50  mAP50-95): 100%|██████████| 1/1 [00:00<00:00,  1.86it/s]"
          ]
        },
        {
          "output_type": "stream",
          "name": "stdout",
          "text": [
            "                   all         15         30      0.998          1      0.995      0.778      0.998          1      0.995      0.584\n"
          ]
        },
        {
          "output_type": "stream",
          "name": "stderr",
          "text": [
            "\n"
          ]
        },
        {
          "output_type": "stream",
          "name": "stdout",
          "text": [
            "\n",
            "      Epoch    GPU_mem   box_loss   seg_loss   cls_loss   dfl_loss  Instances       Size\n"
          ]
        },
        {
          "output_type": "stream",
          "name": "stderr",
          "text": [
            "     97/300      14.2G     0.8626     0.8689     0.6858     0.7986         17       1440: 100%|██████████| 4/4 [00:03<00:00,  1.15it/s]\n",
            "                 Class     Images  Instances      Box(P          R      mAP50  mAP50-95)     Mask(P          R      mAP50  mAP50-95): 100%|██████████| 1/1 [00:00<00:00,  2.29it/s]"
          ]
        },
        {
          "output_type": "stream",
          "name": "stdout",
          "text": [
            "                   all         15         30      0.965      0.967      0.967      0.769      0.965      0.967      0.967      0.647\n"
          ]
        },
        {
          "output_type": "stream",
          "name": "stderr",
          "text": [
            "\n"
          ]
        },
        {
          "output_type": "stream",
          "name": "stdout",
          "text": [
            "\n",
            "      Epoch    GPU_mem   box_loss   seg_loss   cls_loss   dfl_loss  Instances       Size\n"
          ]
        },
        {
          "output_type": "stream",
          "name": "stderr",
          "text": [
            "     98/300      13.8G     0.9146     0.9374     0.7348     0.8088          9       1440: 100%|██████████| 4/4 [00:03<00:00,  1.17it/s]\n",
            "                 Class     Images  Instances      Box(P          R      mAP50  mAP50-95)     Mask(P          R      mAP50  mAP50-95): 100%|██████████| 1/1 [00:00<00:00,  2.12it/s]"
          ]
        },
        {
          "output_type": "stream",
          "name": "stdout",
          "text": [
            "                   all         15         30      0.967      0.964      0.966      0.743      0.966          1      0.991      0.661\n"
          ]
        },
        {
          "output_type": "stream",
          "name": "stderr",
          "text": [
            "\n"
          ]
        },
        {
          "output_type": "stream",
          "name": "stdout",
          "text": [
            "\n",
            "      Epoch    GPU_mem   box_loss   seg_loss   cls_loss   dfl_loss  Instances       Size\n"
          ]
        },
        {
          "output_type": "stream",
          "name": "stderr",
          "text": [
            "     99/300      14.1G      0.832     0.9059     0.6402     0.8365         16       1440: 100%|██████████| 4/4 [00:03<00:00,  1.11it/s]\n",
            "                 Class     Images  Instances      Box(P          R      mAP50  mAP50-95)     Mask(P          R      mAP50  mAP50-95): 100%|██████████| 1/1 [00:00<00:00,  1.25it/s]"
          ]
        },
        {
          "output_type": "stream",
          "name": "stdout",
          "text": [
            "                   all         15         30      0.966      0.967      0.967      0.743          1          1      0.995      0.633\n"
          ]
        },
        {
          "output_type": "stream",
          "name": "stderr",
          "text": [
            "\n"
          ]
        },
        {
          "output_type": "stream",
          "name": "stdout",
          "text": [
            "\n",
            "      Epoch    GPU_mem   box_loss   seg_loss   cls_loss   dfl_loss  Instances       Size\n"
          ]
        },
        {
          "output_type": "stream",
          "name": "stderr",
          "text": [
            "    100/300      13.8G     0.8106     0.9736      0.669     0.7827         14       1440: 100%|██████████| 4/4 [00:03<00:00,  1.22it/s]\n",
            "                 Class     Images  Instances      Box(P          R      mAP50  mAP50-95)     Mask(P          R      mAP50  mAP50-95): 100%|██████████| 1/1 [00:00<00:00,  2.01it/s]"
          ]
        },
        {
          "output_type": "stream",
          "name": "stdout",
          "text": [
            "                   all         15         30      0.997          1      0.995      0.751      0.997          1      0.995       0.55\n"
          ]
        },
        {
          "output_type": "stream",
          "name": "stderr",
          "text": [
            "\n"
          ]
        },
        {
          "output_type": "stream",
          "name": "stdout",
          "text": [
            "\n",
            "      Epoch    GPU_mem   box_loss   seg_loss   cls_loss   dfl_loss  Instances       Size\n"
          ]
        },
        {
          "output_type": "stream",
          "name": "stderr",
          "text": [
            "    101/300      13.7G     0.9067       1.05      0.681     0.8441         10       1440: 100%|██████████| 4/4 [00:03<00:00,  1.22it/s]\n",
            "                 Class     Images  Instances      Box(P          R      mAP50  mAP50-95)     Mask(P          R      mAP50  mAP50-95): 100%|██████████| 1/1 [00:00<00:00,  2.27it/s]"
          ]
        },
        {
          "output_type": "stream",
          "name": "stdout",
          "text": [
            "                   all         15         30      0.996          1      0.995      0.757      0.996          1      0.995       0.54\n"
          ]
        },
        {
          "output_type": "stream",
          "name": "stderr",
          "text": [
            "\n"
          ]
        },
        {
          "output_type": "stream",
          "name": "stdout",
          "text": [
            "\n",
            "      Epoch    GPU_mem   box_loss   seg_loss   cls_loss   dfl_loss  Instances       Size\n"
          ]
        },
        {
          "output_type": "stream",
          "name": "stderr",
          "text": [
            "    102/300      14.1G      0.875     0.9151     0.6829     0.8103         14       1440: 100%|██████████| 4/4 [00:03<00:00,  1.09it/s]\n",
            "                 Class     Images  Instances      Box(P          R      mAP50  mAP50-95)     Mask(P          R      mAP50  mAP50-95): 100%|██████████| 1/1 [00:00<00:00,  2.49it/s]"
          ]
        },
        {
          "output_type": "stream",
          "name": "stdout",
          "text": [
            "                   all         15         30      0.996          1      0.995      0.771      0.996          1      0.995      0.519\n"
          ]
        },
        {
          "output_type": "stream",
          "name": "stderr",
          "text": [
            "\n"
          ]
        },
        {
          "output_type": "stream",
          "name": "stdout",
          "text": [
            "\n",
            "      Epoch    GPU_mem   box_loss   seg_loss   cls_loss   dfl_loss  Instances       Size\n"
          ]
        },
        {
          "output_type": "stream",
          "name": "stderr",
          "text": [
            "    103/300      13.9G      0.769     0.9557     0.6402      0.805         13       1440: 100%|██████████| 4/4 [00:03<00:00,  1.20it/s]\n",
            "                 Class     Images  Instances      Box(P          R      mAP50  mAP50-95)     Mask(P          R      mAP50  mAP50-95): 100%|██████████| 1/1 [00:00<00:00,  2.08it/s]"
          ]
        },
        {
          "output_type": "stream",
          "name": "stdout",
          "text": [
            "                   all         15         30      0.996          1      0.995      0.768      0.996          1      0.995      0.575\n"
          ]
        },
        {
          "output_type": "stream",
          "name": "stderr",
          "text": [
            "\n"
          ]
        },
        {
          "output_type": "stream",
          "name": "stdout",
          "text": [
            "\n",
            "      Epoch    GPU_mem   box_loss   seg_loss   cls_loss   dfl_loss  Instances       Size\n"
          ]
        },
        {
          "output_type": "stream",
          "name": "stderr",
          "text": [
            "    104/300      14.2G     0.7832     0.9052     0.6119     0.8023         20       1440: 100%|██████████| 4/4 [00:03<00:00,  1.20it/s]\n",
            "                 Class     Images  Instances      Box(P          R      mAP50  mAP50-95)     Mask(P          R      mAP50  mAP50-95): 100%|██████████| 1/1 [00:00<00:00,  1.04it/s]"
          ]
        },
        {
          "output_type": "stream",
          "name": "stdout",
          "text": [
            "                   all         15         30      0.996          1      0.995      0.774      0.996          1      0.995      0.622\n"
          ]
        },
        {
          "output_type": "stream",
          "name": "stderr",
          "text": [
            "\n"
          ]
        },
        {
          "output_type": "stream",
          "name": "stdout",
          "text": [
            "\n",
            "      Epoch    GPU_mem   box_loss   seg_loss   cls_loss   dfl_loss  Instances       Size\n"
          ]
        },
        {
          "output_type": "stream",
          "name": "stderr",
          "text": [
            "    105/300      13.9G     0.8063      0.908     0.6449     0.8225         15       1440: 100%|██████████| 4/4 [00:03<00:00,  1.20it/s]\n",
            "                 Class     Images  Instances      Box(P          R      mAP50  mAP50-95)     Mask(P          R      mAP50  mAP50-95): 100%|██████████| 1/1 [00:00<00:00,  2.20it/s]"
          ]
        },
        {
          "output_type": "stream",
          "name": "stdout",
          "text": [
            "                   all         15         30      0.999          1      0.995      0.756      0.999          1      0.995      0.558\n"
          ]
        },
        {
          "output_type": "stream",
          "name": "stderr",
          "text": [
            "\n"
          ]
        },
        {
          "output_type": "stream",
          "name": "stdout",
          "text": [
            "\n",
            "      Epoch    GPU_mem   box_loss   seg_loss   cls_loss   dfl_loss  Instances       Size\n"
          ]
        },
        {
          "output_type": "stream",
          "name": "stderr",
          "text": [
            "    106/300      13.9G      0.871      1.049     0.7001     0.8066         13       1440: 100%|██████████| 4/4 [00:03<00:00,  1.22it/s]\n",
            "                 Class     Images  Instances      Box(P          R      mAP50  mAP50-95)     Mask(P          R      mAP50  mAP50-95): 100%|██████████| 1/1 [00:00<00:00,  2.36it/s]"
          ]
        },
        {
          "output_type": "stream",
          "name": "stdout",
          "text": [
            "                   all         15         30      0.966      0.967      0.967      0.749      0.999          1      0.995       0.56\n"
          ]
        },
        {
          "output_type": "stream",
          "name": "stderr",
          "text": [
            "\n"
          ]
        },
        {
          "output_type": "stream",
          "name": "stdout",
          "text": [
            "\n",
            "      Epoch    GPU_mem   box_loss   seg_loss   cls_loss   dfl_loss  Instances       Size\n"
          ]
        },
        {
          "output_type": "stream",
          "name": "stderr",
          "text": [
            "    107/300      14.1G      0.805     0.8209     0.6311     0.8177         15       1440: 100%|██████████| 4/4 [00:03<00:00,  1.11it/s]\n",
            "                 Class     Images  Instances      Box(P          R      mAP50  mAP50-95)     Mask(P          R      mAP50  mAP50-95): 100%|██████████| 1/1 [00:00<00:00,  2.78it/s]"
          ]
        },
        {
          "output_type": "stream",
          "name": "stdout",
          "text": [
            "                   all         15         30      0.999          1      0.995      0.753      0.999          1      0.995      0.599\n"
          ]
        },
        {
          "output_type": "stream",
          "name": "stderr",
          "text": [
            "\n"
          ]
        },
        {
          "output_type": "stream",
          "name": "stdout",
          "text": [
            "\n",
            "      Epoch    GPU_mem   box_loss   seg_loss   cls_loss   dfl_loss  Instances       Size\n"
          ]
        },
        {
          "output_type": "stream",
          "name": "stderr",
          "text": [
            "    108/300      13.8G       0.81     0.9026     0.6295     0.8004         14       1440: 100%|██████████| 4/4 [00:03<00:00,  1.18it/s]\n",
            "                 Class     Images  Instances      Box(P          R      mAP50  mAP50-95)     Mask(P          R      mAP50  mAP50-95): 100%|██████████| 1/1 [00:00<00:00,  2.48it/s]"
          ]
        },
        {
          "output_type": "stream",
          "name": "stdout",
          "text": [
            "                   all         15         30      0.963          1      0.994      0.764      0.963          1      0.994      0.599\n"
          ]
        },
        {
          "output_type": "stream",
          "name": "stderr",
          "text": [
            "\n"
          ]
        },
        {
          "output_type": "stream",
          "name": "stdout",
          "text": [
            "\n",
            "      Epoch    GPU_mem   box_loss   seg_loss   cls_loss   dfl_loss  Instances       Size\n"
          ]
        },
        {
          "output_type": "stream",
          "name": "stderr",
          "text": [
            "    109/300        14G     0.8927      0.954     0.7416     0.8195         13       1440: 100%|██████████| 4/4 [00:03<00:00,  1.21it/s]\n",
            "                 Class     Images  Instances      Box(P          R      mAP50  mAP50-95)     Mask(P          R      mAP50  mAP50-95): 100%|██████████| 1/1 [00:00<00:00,  1.20it/s]"
          ]
        },
        {
          "output_type": "stream",
          "name": "stdout",
          "text": [
            "                   all         15         30          1      0.995      0.995      0.769          1      0.995      0.995      0.568\n"
          ]
        },
        {
          "output_type": "stream",
          "name": "stderr",
          "text": [
            "\n"
          ]
        },
        {
          "output_type": "stream",
          "name": "stdout",
          "text": [
            "\n",
            "      Epoch    GPU_mem   box_loss   seg_loss   cls_loss   dfl_loss  Instances       Size\n"
          ]
        },
        {
          "output_type": "stream",
          "name": "stderr",
          "text": [
            "    110/300      13.9G     0.8968     0.9695     0.6488     0.8196         13       1440: 100%|██████████| 4/4 [00:03<00:00,  1.21it/s]\n",
            "                 Class     Images  Instances      Box(P          R      mAP50  mAP50-95)     Mask(P          R      mAP50  mAP50-95): 100%|██████████| 1/1 [00:00<00:00,  2.53it/s]"
          ]
        },
        {
          "output_type": "stream",
          "name": "stdout",
          "text": [
            "                   all         15         30      0.994          1      0.995       0.77      0.994          1      0.995      0.654\n"
          ]
        },
        {
          "output_type": "stream",
          "name": "stderr",
          "text": [
            "\n"
          ]
        },
        {
          "output_type": "stream",
          "name": "stdout",
          "text": [
            "\n",
            "      Epoch    GPU_mem   box_loss   seg_loss   cls_loss   dfl_loss  Instances       Size\n"
          ]
        },
        {
          "output_type": "stream",
          "name": "stderr",
          "text": [
            "    111/300        14G     0.8255      0.924     0.6277     0.8035         14       1440: 100%|██████████| 4/4 [00:03<00:00,  1.08it/s]\n",
            "                 Class     Images  Instances      Box(P          R      mAP50  mAP50-95)     Mask(P          R      mAP50  mAP50-95): 100%|██████████| 1/1 [00:00<00:00,  2.44it/s]"
          ]
        },
        {
          "output_type": "stream",
          "name": "stdout",
          "text": [
            "                   all         15         30      0.989          1      0.995      0.771      0.989          1      0.995      0.646\n"
          ]
        },
        {
          "output_type": "stream",
          "name": "stderr",
          "text": [
            "\n"
          ]
        },
        {
          "output_type": "stream",
          "name": "stdout",
          "text": [
            "\n",
            "      Epoch    GPU_mem   box_loss   seg_loss   cls_loss   dfl_loss  Instances       Size\n"
          ]
        },
        {
          "output_type": "stream",
          "name": "stderr",
          "text": [
            "    112/300      14.2G     0.9187      1.032     0.6659     0.7878         14       1440: 100%|██████████| 4/4 [00:03<00:00,  1.15it/s]\n",
            "                 Class     Images  Instances      Box(P          R      mAP50  mAP50-95)     Mask(P          R      mAP50  mAP50-95): 100%|██████████| 1/1 [00:00<00:00,  3.20it/s]"
          ]
        },
        {
          "output_type": "stream",
          "name": "stdout",
          "text": [
            "                   all         15         30      0.996          1      0.995      0.774      0.996          1      0.995      0.584\n"
          ]
        },
        {
          "output_type": "stream",
          "name": "stderr",
          "text": [
            "\n"
          ]
        },
        {
          "output_type": "stream",
          "name": "stdout",
          "text": [
            "\n",
            "      Epoch    GPU_mem   box_loss   seg_loss   cls_loss   dfl_loss  Instances       Size\n"
          ]
        },
        {
          "output_type": "stream",
          "name": "stderr",
          "text": [
            "    113/300      14.1G     0.7974     0.9214     0.6062     0.8087         11       1440: 100%|██████████| 4/4 [00:03<00:00,  1.08it/s]\n",
            "                 Class     Images  Instances      Box(P          R      mAP50  mAP50-95)     Mask(P          R      mAP50  mAP50-95): 100%|██████████| 1/1 [00:00<00:00,  2.37it/s]"
          ]
        },
        {
          "output_type": "stream",
          "name": "stdout",
          "text": [
            "                   all         15         30          1      0.997      0.995      0.737          1      0.997      0.995      0.563\n"
          ]
        },
        {
          "output_type": "stream",
          "name": "stderr",
          "text": [
            "\n"
          ]
        },
        {
          "output_type": "stream",
          "name": "stdout",
          "text": [
            "\n",
            "      Epoch    GPU_mem   box_loss   seg_loss   cls_loss   dfl_loss  Instances       Size\n"
          ]
        },
        {
          "output_type": "stream",
          "name": "stderr",
          "text": [
            "    114/300        14G     0.9503     0.9638     0.6825       0.82          8       1440: 100%|██████████| 4/4 [00:03<00:00,  1.22it/s]\n",
            "                 Class     Images  Instances      Box(P          R      mAP50  mAP50-95)     Mask(P          R      mAP50  mAP50-95): 100%|██████████| 1/1 [00:00<00:00,  2.24it/s]"
          ]
        },
        {
          "output_type": "stream",
          "name": "stdout",
          "text": [
            "                   all         15         30          1      0.995      0.995      0.714          1      0.995      0.995      0.587\n"
          ]
        },
        {
          "output_type": "stream",
          "name": "stderr",
          "text": [
            "\n"
          ]
        },
        {
          "output_type": "stream",
          "name": "stdout",
          "text": [
            "\n",
            "      Epoch    GPU_mem   box_loss   seg_loss   cls_loss   dfl_loss  Instances       Size\n"
          ]
        },
        {
          "output_type": "stream",
          "name": "stderr",
          "text": [
            "    115/300        14G      0.927     0.9105     0.6623     0.8305         15       1440: 100%|██████████| 4/4 [00:03<00:00,  1.12it/s]\n",
            "                 Class     Images  Instances      Box(P          R      mAP50  mAP50-95)     Mask(P          R      mAP50  mAP50-95): 100%|██████████| 1/1 [00:00<00:00,  2.80it/s]"
          ]
        },
        {
          "output_type": "stream",
          "name": "stdout",
          "text": [
            "                   all         15         30          1      0.993      0.995       0.77          1      0.993      0.995      0.582\n"
          ]
        },
        {
          "output_type": "stream",
          "name": "stderr",
          "text": [
            "\n"
          ]
        },
        {
          "output_type": "stream",
          "name": "stdout",
          "text": [
            "\n",
            "      Epoch    GPU_mem   box_loss   seg_loss   cls_loss   dfl_loss  Instances       Size\n"
          ]
        },
        {
          "output_type": "stream",
          "name": "stderr",
          "text": [
            "    116/300      13.7G     0.8489     0.9088     0.6074     0.8154         15       1440: 100%|██████████| 4/4 [00:03<00:00,  1.17it/s]\n",
            "                 Class     Images  Instances      Box(P          R      mAP50  mAP50-95)     Mask(P          R      mAP50  mAP50-95): 100%|██████████| 1/1 [00:00<00:00,  3.12it/s]"
          ]
        },
        {
          "output_type": "stream",
          "name": "stdout",
          "text": [
            "                   all         15         30          1      0.992      0.995      0.749          1      0.992      0.995       0.63\n"
          ]
        },
        {
          "output_type": "stream",
          "name": "stderr",
          "text": [
            "\n"
          ]
        },
        {
          "output_type": "stream",
          "name": "stdout",
          "text": [
            "\n",
            "      Epoch    GPU_mem   box_loss   seg_loss   cls_loss   dfl_loss  Instances       Size\n"
          ]
        },
        {
          "output_type": "stream",
          "name": "stderr",
          "text": [
            "    117/300      13.7G     0.8911      1.027     0.6166     0.8057         14       1440: 100%|██████████| 4/4 [00:03<00:00,  1.12it/s]\n",
            "                 Class     Images  Instances      Box(P          R      mAP50  mAP50-95)     Mask(P          R      mAP50  mAP50-95): 100%|██████████| 1/1 [00:00<00:00,  1.03it/s]"
          ]
        },
        {
          "output_type": "stream",
          "name": "stdout",
          "text": [
            "                   all         15         30          1      0.998      0.995      0.759          1      0.998      0.995       0.54\n"
          ]
        },
        {
          "output_type": "stream",
          "name": "stderr",
          "text": [
            "\n"
          ]
        },
        {
          "output_type": "stream",
          "name": "stdout",
          "text": [
            "\n",
            "      Epoch    GPU_mem   box_loss   seg_loss   cls_loss   dfl_loss  Instances       Size\n"
          ]
        },
        {
          "output_type": "stream",
          "name": "stderr",
          "text": [
            "    118/300      13.9G     0.8307     0.9699     0.6329     0.8131         16       1440: 100%|██████████| 4/4 [00:03<00:00,  1.16it/s]\n",
            "                 Class     Images  Instances      Box(P          R      mAP50  mAP50-95)     Mask(P          R      mAP50  mAP50-95): 100%|██████████| 1/1 [00:00<00:00,  2.45it/s]"
          ]
        },
        {
          "output_type": "stream",
          "name": "stdout",
          "text": [
            "                   all         15         30      0.984          1      0.995      0.769      0.984          1      0.995      0.501\n"
          ]
        },
        {
          "output_type": "stream",
          "name": "stderr",
          "text": [
            "\n"
          ]
        },
        {
          "output_type": "stream",
          "name": "stdout",
          "text": [
            "\n",
            "      Epoch    GPU_mem   box_loss   seg_loss   cls_loss   dfl_loss  Instances       Size\n"
          ]
        },
        {
          "output_type": "stream",
          "name": "stderr",
          "text": [
            "    119/300      13.9G     0.8421     0.8911     0.6459     0.8023         12       1440: 100%|██████████| 4/4 [00:03<00:00,  1.21it/s]\n",
            "                 Class     Images  Instances      Box(P          R      mAP50  mAP50-95)     Mask(P          R      mAP50  mAP50-95): 100%|██████████| 1/1 [00:00<00:00,  1.72it/s]"
          ]
        },
        {
          "output_type": "stream",
          "name": "stdout",
          "text": [
            "                   all         15         30      0.997          1      0.995      0.749      0.997          1      0.995      0.561\n"
          ]
        },
        {
          "output_type": "stream",
          "name": "stderr",
          "text": [
            "\n"
          ]
        },
        {
          "output_type": "stream",
          "name": "stdout",
          "text": [
            "\n",
            "      Epoch    GPU_mem   box_loss   seg_loss   cls_loss   dfl_loss  Instances       Size\n"
          ]
        },
        {
          "output_type": "stream",
          "name": "stderr",
          "text": [
            "    120/300        14G     0.8445      0.967     0.6014      0.803         12       1440: 100%|██████████| 4/4 [00:03<00:00,  1.18it/s]\n",
            "                 Class     Images  Instances      Box(P          R      mAP50  mAP50-95)     Mask(P          R      mAP50  mAP50-95): 100%|██████████| 1/1 [00:00<00:00,  2.42it/s]"
          ]
        },
        {
          "output_type": "stream",
          "name": "stdout",
          "text": [
            "                   all         15         30      0.994          1      0.995      0.724      0.994          1      0.995      0.611\n"
          ]
        },
        {
          "output_type": "stream",
          "name": "stderr",
          "text": [
            "\n"
          ]
        },
        {
          "output_type": "stream",
          "name": "stdout",
          "text": [
            "\n",
            "      Epoch    GPU_mem   box_loss   seg_loss   cls_loss   dfl_loss  Instances       Size\n"
          ]
        },
        {
          "output_type": "stream",
          "name": "stderr",
          "text": [
            "    121/300      14.1G     0.7964     0.9259      0.601     0.8074         17       1440: 100%|██████████| 4/4 [00:03<00:00,  1.18it/s]\n",
            "                 Class     Images  Instances      Box(P          R      mAP50  mAP50-95)     Mask(P          R      mAP50  mAP50-95): 100%|██████████| 1/1 [00:00<00:00,  2.69it/s]"
          ]
        },
        {
          "output_type": "stream",
          "name": "stdout",
          "text": [
            "                   all         15         30      0.995          1      0.995       0.72      0.995          1      0.995      0.615\n"
          ]
        },
        {
          "output_type": "stream",
          "name": "stderr",
          "text": [
            "\n"
          ]
        },
        {
          "output_type": "stream",
          "name": "stdout",
          "text": [
            "\n",
            "      Epoch    GPU_mem   box_loss   seg_loss   cls_loss   dfl_loss  Instances       Size\n"
          ]
        },
        {
          "output_type": "stream",
          "name": "stderr",
          "text": [
            "    122/300      13.7G     0.8703     0.9199     0.5847     0.8446         16       1440: 100%|██████████| 4/4 [00:03<00:00,  1.04it/s]\n",
            "                 Class     Images  Instances      Box(P          R      mAP50  mAP50-95)     Mask(P          R      mAP50  mAP50-95): 100%|██████████| 1/1 [00:00<00:00,  1.73it/s]"
          ]
        },
        {
          "output_type": "stream",
          "name": "stdout",
          "text": [
            "                   all         15         30      0.994          1      0.995      0.716      0.994          1      0.995      0.581\n"
          ]
        },
        {
          "output_type": "stream",
          "name": "stderr",
          "text": [
            "\n"
          ]
        },
        {
          "output_type": "stream",
          "name": "stdout",
          "text": [
            "\n",
            "      Epoch    GPU_mem   box_loss   seg_loss   cls_loss   dfl_loss  Instances       Size\n"
          ]
        },
        {
          "output_type": "stream",
          "name": "stderr",
          "text": [
            "    123/300        14G     0.8266     0.8518     0.6019     0.8164         19       1440: 100%|██████████| 4/4 [00:03<00:00,  1.15it/s]\n",
            "                 Class     Images  Instances      Box(P          R      mAP50  mAP50-95)     Mask(P          R      mAP50  mAP50-95): 100%|██████████| 1/1 [00:00<00:00,  1.89it/s]"
          ]
        },
        {
          "output_type": "stream",
          "name": "stdout",
          "text": [
            "                   all         15         30      0.991          1      0.995      0.726      0.991          1      0.995      0.587\n"
          ]
        },
        {
          "output_type": "stream",
          "name": "stderr",
          "text": [
            "\n"
          ]
        },
        {
          "output_type": "stream",
          "name": "stdout",
          "text": [
            "\n",
            "      Epoch    GPU_mem   box_loss   seg_loss   cls_loss   dfl_loss  Instances       Size\n"
          ]
        },
        {
          "output_type": "stream",
          "name": "stderr",
          "text": [
            "    124/300        14G     0.8719     0.9928     0.5819     0.8322         15       1440: 100%|██████████| 4/4 [00:03<00:00,  1.06it/s]\n",
            "                 Class     Images  Instances      Box(P          R      mAP50  mAP50-95)     Mask(P          R      mAP50  mAP50-95): 100%|██████████| 1/1 [00:00<00:00,  1.66it/s]"
          ]
        },
        {
          "output_type": "stream",
          "name": "stdout",
          "text": [
            "                   all         15         30      0.995          1      0.995      0.742      0.995          1      0.995      0.584\n"
          ]
        },
        {
          "output_type": "stream",
          "name": "stderr",
          "text": [
            "\n"
          ]
        },
        {
          "output_type": "stream",
          "name": "stdout",
          "text": [
            "\n",
            "      Epoch    GPU_mem   box_loss   seg_loss   cls_loss   dfl_loss  Instances       Size\n"
          ]
        },
        {
          "output_type": "stream",
          "name": "stderr",
          "text": [
            "    125/300      14.1G     0.8574     0.9999     0.5967     0.8075         13       1440: 100%|██████████| 4/4 [00:03<00:00,  1.15it/s]\n",
            "                 Class     Images  Instances      Box(P          R      mAP50  mAP50-95)     Mask(P          R      mAP50  mAP50-95): 100%|██████████| 1/1 [00:00<00:00,  2.10it/s]"
          ]
        },
        {
          "output_type": "stream",
          "name": "stdout",
          "text": [
            "                   all         15         30      0.994          1      0.995      0.758      0.994          1      0.995      0.557\n"
          ]
        },
        {
          "output_type": "stream",
          "name": "stderr",
          "text": [
            "\n"
          ]
        },
        {
          "output_type": "stream",
          "name": "stdout",
          "text": [
            "\n",
            "      Epoch    GPU_mem   box_loss   seg_loss   cls_loss   dfl_loss  Instances       Size\n"
          ]
        },
        {
          "output_type": "stream",
          "name": "stderr",
          "text": [
            "    126/300      13.8G     0.8179     0.8901     0.5847     0.8053         18       1440: 100%|██████████| 4/4 [00:03<00:00,  1.19it/s]\n",
            "                 Class     Images  Instances      Box(P          R      mAP50  mAP50-95)     Mask(P          R      mAP50  mAP50-95): 100%|██████████| 1/1 [00:00<00:00,  2.16it/s]"
          ]
        },
        {
          "output_type": "stream",
          "name": "stdout",
          "text": [
            "                   all         15         30      0.994          1      0.995      0.735      0.994          1      0.995      0.632\n"
          ]
        },
        {
          "output_type": "stream",
          "name": "stderr",
          "text": [
            "\n"
          ]
        },
        {
          "output_type": "stream",
          "name": "stdout",
          "text": [
            "\n",
            "      Epoch    GPU_mem   box_loss   seg_loss   cls_loss   dfl_loss  Instances       Size\n"
          ]
        },
        {
          "output_type": "stream",
          "name": "stderr",
          "text": [
            "    127/300      14.3G     0.8476     0.8726     0.5741      0.817          8       1440: 100%|██████████| 4/4 [00:03<00:00,  1.10it/s]\n",
            "                 Class     Images  Instances      Box(P          R      mAP50  mAP50-95)     Mask(P          R      mAP50  mAP50-95): 100%|██████████| 1/1 [00:00<00:00,  2.12it/s]"
          ]
        },
        {
          "output_type": "stream",
          "name": "stdout",
          "text": [
            "                   all         15         30      0.993          1      0.995      0.716      0.993          1      0.995      0.659\n"
          ]
        },
        {
          "output_type": "stream",
          "name": "stderr",
          "text": [
            "\n"
          ]
        },
        {
          "output_type": "stream",
          "name": "stdout",
          "text": [
            "\n",
            "      Epoch    GPU_mem   box_loss   seg_loss   cls_loss   dfl_loss  Instances       Size\n"
          ]
        },
        {
          "output_type": "stream",
          "name": "stderr",
          "text": [
            "    128/300        14G     0.8738     0.8904     0.6072     0.8067         11       1440: 100%|██████████| 4/4 [00:03<00:00,  1.21it/s]\n",
            "                 Class     Images  Instances      Box(P          R      mAP50  mAP50-95)     Mask(P          R      mAP50  mAP50-95): 100%|██████████| 1/1 [00:00<00:00,  1.91it/s]"
          ]
        },
        {
          "output_type": "stream",
          "name": "stdout",
          "text": [
            "                   all         15         30      0.994          1      0.995      0.726      0.994          1      0.995      0.648\n"
          ]
        },
        {
          "output_type": "stream",
          "name": "stderr",
          "text": [
            "\n"
          ]
        },
        {
          "output_type": "stream",
          "name": "stdout",
          "text": [
            "\n",
            "      Epoch    GPU_mem   box_loss   seg_loss   cls_loss   dfl_loss  Instances       Size\n"
          ]
        },
        {
          "output_type": "stream",
          "name": "stderr",
          "text": [
            "    129/300      13.8G     0.8134     0.9393     0.5931     0.8032         16       1440: 100%|██████████| 4/4 [00:03<00:00,  1.20it/s]\n",
            "                 Class     Images  Instances      Box(P          R      mAP50  mAP50-95)     Mask(P          R      mAP50  mAP50-95): 100%|██████████| 1/1 [00:00<00:00,  1.55it/s]"
          ]
        },
        {
          "output_type": "stream",
          "name": "stdout",
          "text": [
            "                   all         15         30      0.991          1      0.995       0.75      0.991          1      0.995      0.584\n"
          ]
        },
        {
          "output_type": "stream",
          "name": "stderr",
          "text": [
            "\n"
          ]
        },
        {
          "output_type": "stream",
          "name": "stdout",
          "text": [
            "\n",
            "      Epoch    GPU_mem   box_loss   seg_loss   cls_loss   dfl_loss  Instances       Size\n"
          ]
        },
        {
          "output_type": "stream",
          "name": "stderr",
          "text": [
            "    130/300      13.8G     0.8544      0.939     0.5886     0.7994         22       1440: 100%|██████████| 4/4 [00:03<00:00,  1.10it/s]\n",
            "                 Class     Images  Instances      Box(P          R      mAP50  mAP50-95)     Mask(P          R      mAP50  mAP50-95): 100%|██████████| 1/1 [00:00<00:00,  2.43it/s]"
          ]
        },
        {
          "output_type": "stream",
          "name": "stdout",
          "text": [
            "                   all         15         30       0.99          1      0.995      0.762       0.99          1      0.995      0.572\n"
          ]
        },
        {
          "output_type": "stream",
          "name": "stderr",
          "text": [
            "\n"
          ]
        },
        {
          "output_type": "stream",
          "name": "stdout",
          "text": [
            "\n",
            "      Epoch    GPU_mem   box_loss   seg_loss   cls_loss   dfl_loss  Instances       Size\n"
          ]
        },
        {
          "output_type": "stream",
          "name": "stderr",
          "text": [
            "    131/300      14.1G     0.8336     0.8895     0.5532     0.8148         18       1440: 100%|██████████| 4/4 [00:03<00:00,  1.21it/s]\n",
            "                 Class     Images  Instances      Box(P          R      mAP50  mAP50-95)     Mask(P          R      mAP50  mAP50-95): 100%|██████████| 1/1 [00:00<00:00,  2.03it/s]"
          ]
        },
        {
          "output_type": "stream",
          "name": "stdout",
          "text": [
            "                   all         15         30       0.99          1      0.995      0.747       0.99          1      0.995      0.601\n"
          ]
        },
        {
          "output_type": "stream",
          "name": "stderr",
          "text": [
            "\n"
          ]
        },
        {
          "output_type": "stream",
          "name": "stdout",
          "text": [
            "\n",
            "      Epoch    GPU_mem   box_loss   seg_loss   cls_loss   dfl_loss  Instances       Size\n"
          ]
        },
        {
          "output_type": "stream",
          "name": "stderr",
          "text": [
            "    132/300      13.9G        0.8     0.9762     0.5678     0.7965         16       1440: 100%|██████████| 4/4 [00:03<00:00,  1.14it/s]\n",
            "                 Class     Images  Instances      Box(P          R      mAP50  mAP50-95)     Mask(P          R      mAP50  mAP50-95): 100%|██████████| 1/1 [00:00<00:00,  1.90it/s]"
          ]
        },
        {
          "output_type": "stream",
          "name": "stdout",
          "text": [
            "                   all         15         30      0.991          1      0.995      0.739      0.991          1      0.995       0.61\n"
          ]
        },
        {
          "output_type": "stream",
          "name": "stderr",
          "text": [
            "\n"
          ]
        },
        {
          "output_type": "stream",
          "name": "stdout",
          "text": [
            "\n",
            "      Epoch    GPU_mem   box_loss   seg_loss   cls_loss   dfl_loss  Instances       Size\n"
          ]
        },
        {
          "output_type": "stream",
          "name": "stderr",
          "text": [
            "    133/300      14.1G     0.8123     0.8643     0.5742     0.8094         16       1440: 100%|██████████| 4/4 [00:03<00:00,  1.22it/s]\n",
            "                 Class     Images  Instances      Box(P          R      mAP50  mAP50-95)     Mask(P          R      mAP50  mAP50-95): 100%|██████████| 1/1 [00:00<00:00,  2.09it/s]"
          ]
        },
        {
          "output_type": "stream",
          "name": "stdout",
          "text": [
            "                   all         15         30      0.994          1      0.995      0.714      0.994          1      0.995        0.6\n"
          ]
        },
        {
          "output_type": "stream",
          "name": "stderr",
          "text": [
            "\n"
          ]
        },
        {
          "output_type": "stream",
          "name": "stdout",
          "text": [
            "\n",
            "      Epoch    GPU_mem   box_loss   seg_loss   cls_loss   dfl_loss  Instances       Size\n"
          ]
        },
        {
          "output_type": "stream",
          "name": "stderr",
          "text": [
            "    134/300      14.1G     0.7893     0.7363     0.5459      0.792         14       1440: 100%|██████████| 4/4 [00:03<00:00,  1.20it/s]\n",
            "                 Class     Images  Instances      Box(P          R      mAP50  mAP50-95)     Mask(P          R      mAP50  mAP50-95): 100%|██████████| 1/1 [00:00<00:00,  1.79it/s]"
          ]
        },
        {
          "output_type": "stream",
          "name": "stdout",
          "text": [
            "                   all         15         30      0.995          1      0.995      0.736      0.995          1      0.995      0.639\n"
          ]
        },
        {
          "output_type": "stream",
          "name": "stderr",
          "text": [
            "\n"
          ]
        },
        {
          "output_type": "stream",
          "name": "stdout",
          "text": [
            "\n",
            "      Epoch    GPU_mem   box_loss   seg_loss   cls_loss   dfl_loss  Instances       Size\n"
          ]
        },
        {
          "output_type": "stream",
          "name": "stderr",
          "text": [
            "    135/300        14G     0.9046      0.903     0.5952     0.8315         18       1440: 100%|██████████| 4/4 [00:03<00:00,  1.06it/s]\n",
            "                 Class     Images  Instances      Box(P          R      mAP50  mAP50-95)     Mask(P          R      mAP50  mAP50-95): 100%|██████████| 1/1 [00:00<00:00,  2.72it/s]"
          ]
        },
        {
          "output_type": "stream",
          "name": "stdout",
          "text": [
            "                   all         15         30      0.993          1      0.995      0.755      0.993          1      0.995      0.624\n"
          ]
        },
        {
          "output_type": "stream",
          "name": "stderr",
          "text": [
            "\n"
          ]
        },
        {
          "output_type": "stream",
          "name": "stdout",
          "text": [
            "\n",
            "      Epoch    GPU_mem   box_loss   seg_loss   cls_loss   dfl_loss  Instances       Size\n"
          ]
        },
        {
          "output_type": "stream",
          "name": "stderr",
          "text": [
            "    136/300      14.2G     0.7995     0.8345     0.5539     0.8241         16       1440: 100%|██████████| 4/4 [00:03<00:00,  1.19it/s]\n",
            "                 Class     Images  Instances      Box(P          R      mAP50  mAP50-95)     Mask(P          R      mAP50  mAP50-95): 100%|██████████| 1/1 [00:00<00:00,  2.20it/s]"
          ]
        },
        {
          "output_type": "stream",
          "name": "stdout",
          "text": [
            "                   all         15         30      0.988          1      0.995      0.767      0.988          1      0.995      0.597\n"
          ]
        },
        {
          "output_type": "stream",
          "name": "stderr",
          "text": [
            "\n"
          ]
        },
        {
          "output_type": "stream",
          "name": "stdout",
          "text": [
            "\n",
            "      Epoch    GPU_mem   box_loss   seg_loss   cls_loss   dfl_loss  Instances       Size\n"
          ]
        },
        {
          "output_type": "stream",
          "name": "stderr",
          "text": [
            "    137/300      14.2G     0.8392      1.005     0.5846     0.8008         16       1440: 100%|██████████| 4/4 [00:04<00:00,  1.06s/it]\n",
            "                 Class     Images  Instances      Box(P          R      mAP50  mAP50-95)     Mask(P          R      mAP50  mAP50-95): 100%|██████████| 1/1 [00:00<00:00,  1.66it/s]"
          ]
        },
        {
          "output_type": "stream",
          "name": "stdout",
          "text": [
            "                   all         15         30      0.986          1      0.995      0.766      0.986          1      0.995       0.61\n"
          ]
        },
        {
          "output_type": "stream",
          "name": "stderr",
          "text": [
            "\n"
          ]
        },
        {
          "output_type": "stream",
          "name": "stdout",
          "text": [
            "\n",
            "      Epoch    GPU_mem   box_loss   seg_loss   cls_loss   dfl_loss  Instances       Size\n"
          ]
        },
        {
          "output_type": "stream",
          "name": "stderr",
          "text": [
            "    138/300      13.8G     0.8398     0.8654     0.5811     0.7971         19       1440: 100%|██████████| 4/4 [00:03<00:00,  1.19it/s]\n",
            "                 Class     Images  Instances      Box(P          R      mAP50  mAP50-95)     Mask(P          R      mAP50  mAP50-95): 100%|██████████| 1/1 [00:00<00:00,  1.93it/s]"
          ]
        },
        {
          "output_type": "stream",
          "name": "stdout",
          "text": [
            "                   all         15         30      0.964          1      0.994      0.758      0.964          1      0.994      0.623\n"
          ]
        },
        {
          "output_type": "stream",
          "name": "stderr",
          "text": [
            "\n"
          ]
        },
        {
          "output_type": "stream",
          "name": "stdout",
          "text": [
            "\n",
            "      Epoch    GPU_mem   box_loss   seg_loss   cls_loss   dfl_loss  Instances       Size\n"
          ]
        },
        {
          "output_type": "stream",
          "name": "stderr",
          "text": [
            "    139/300        14G     0.8387     0.9454     0.5652     0.8219         19       1440: 100%|██████████| 4/4 [00:03<00:00,  1.22it/s]\n",
            "                 Class     Images  Instances      Box(P          R      mAP50  mAP50-95)     Mask(P          R      mAP50  mAP50-95): 100%|██████████| 1/1 [00:00<00:00,  2.34it/s]"
          ]
        },
        {
          "output_type": "stream",
          "name": "stdout",
          "text": [
            "                   all         15         30      0.964          1      0.994      0.747      0.964          1      0.994      0.635\n"
          ]
        },
        {
          "output_type": "stream",
          "name": "stderr",
          "text": [
            "\n"
          ]
        },
        {
          "output_type": "stream",
          "name": "stdout",
          "text": [
            "\n",
            "      Epoch    GPU_mem   box_loss   seg_loss   cls_loss   dfl_loss  Instances       Size\n"
          ]
        },
        {
          "output_type": "stream",
          "name": "stderr",
          "text": [
            "    140/300      14.1G     0.8293     0.9404      0.584     0.7964         16       1440: 100%|██████████| 4/4 [00:03<00:00,  1.12it/s]\n",
            "                 Class     Images  Instances      Box(P          R      mAP50  mAP50-95)     Mask(P          R      mAP50  mAP50-95): 100%|██████████| 1/1 [00:00<00:00,  2.83it/s]"
          ]
        },
        {
          "output_type": "stream",
          "name": "stdout",
          "text": [
            "                   all         15         30      0.965          1      0.992      0.776      0.965          1      0.992      0.568\n"
          ]
        },
        {
          "output_type": "stream",
          "name": "stderr",
          "text": [
            "\n"
          ]
        },
        {
          "output_type": "stream",
          "name": "stdout",
          "text": [
            "\n",
            "      Epoch    GPU_mem   box_loss   seg_loss   cls_loss   dfl_loss  Instances       Size\n"
          ]
        },
        {
          "output_type": "stream",
          "name": "stderr",
          "text": [
            "    141/300      13.8G     0.7961     0.7491     0.5677     0.8035         14       1440: 100%|██████████| 4/4 [00:03<00:00,  1.26it/s]\n",
            "                 Class     Images  Instances      Box(P          R      mAP50  mAP50-95)     Mask(P          R      mAP50  mAP50-95): 100%|██████████| 1/1 [00:00<00:00,  1.84it/s]"
          ]
        },
        {
          "output_type": "stream",
          "name": "stdout",
          "text": [
            "                   all         15         30      0.965          1      0.989      0.788      0.965          1      0.989      0.538\n"
          ]
        },
        {
          "output_type": "stream",
          "name": "stderr",
          "text": [
            "\n"
          ]
        },
        {
          "output_type": "stream",
          "name": "stdout",
          "text": [
            "\n",
            "      Epoch    GPU_mem   box_loss   seg_loss   cls_loss   dfl_loss  Instances       Size\n"
          ]
        },
        {
          "output_type": "stream",
          "name": "stderr",
          "text": [
            "    142/300      13.9G     0.8198     0.7375     0.5809     0.7903         17       1440: 100%|██████████| 4/4 [00:03<00:00,  1.19it/s]\n",
            "                 Class     Images  Instances      Box(P          R      mAP50  mAP50-95)     Mask(P          R      mAP50  mAP50-95): 100%|██████████| 1/1 [00:00<00:00,  1.49it/s]"
          ]
        },
        {
          "output_type": "stream",
          "name": "stdout",
          "text": [
            "                   all         15         30      0.965          1      0.989      0.777      0.965          1      0.989      0.664\n"
          ]
        },
        {
          "output_type": "stream",
          "name": "stderr",
          "text": [
            "\n"
          ]
        },
        {
          "output_type": "stream",
          "name": "stdout",
          "text": [
            "\n",
            "      Epoch    GPU_mem   box_loss   seg_loss   cls_loss   dfl_loss  Instances       Size\n"
          ]
        },
        {
          "output_type": "stream",
          "name": "stderr",
          "text": [
            "    143/300      13.6G     0.8074     0.9029      0.601     0.8084         12       1440: 100%|██████████| 4/4 [00:03<00:00,  1.05it/s]\n",
            "                 Class     Images  Instances      Box(P          R      mAP50  mAP50-95)     Mask(P          R      mAP50  mAP50-95): 100%|██████████| 1/1 [00:00<00:00,  1.93it/s]"
          ]
        },
        {
          "output_type": "stream",
          "name": "stdout",
          "text": [
            "                   all         15         30      0.965          1       0.99      0.785      0.965          1       0.99      0.592\n"
          ]
        },
        {
          "output_type": "stream",
          "name": "stderr",
          "text": [
            "\n"
          ]
        },
        {
          "output_type": "stream",
          "name": "stdout",
          "text": [
            "\n",
            "      Epoch    GPU_mem   box_loss   seg_loss   cls_loss   dfl_loss  Instances       Size\n"
          ]
        },
        {
          "output_type": "stream",
          "name": "stderr",
          "text": [
            "    144/300      13.8G     0.8011     0.8353      0.561     0.8095         17       1440: 100%|██████████| 4/4 [00:03<00:00,  1.18it/s]\n",
            "                 Class     Images  Instances      Box(P          R      mAP50  mAP50-95)     Mask(P          R      mAP50  mAP50-95): 100%|██████████| 1/1 [00:00<00:00,  3.08it/s]"
          ]
        },
        {
          "output_type": "stream",
          "name": "stdout",
          "text": [
            "                   all         15         30      0.964          1      0.991      0.781      0.964          1      0.991      0.564\n"
          ]
        },
        {
          "output_type": "stream",
          "name": "stderr",
          "text": [
            "\n"
          ]
        },
        {
          "output_type": "stream",
          "name": "stdout",
          "text": [
            "\n",
            "      Epoch    GPU_mem   box_loss   seg_loss   cls_loss   dfl_loss  Instances       Size\n"
          ]
        },
        {
          "output_type": "stream",
          "name": "stderr",
          "text": [
            "    145/300      13.9G     0.8304     0.8277     0.6058     0.8142         19       1440: 100%|██████████| 4/4 [00:03<00:00,  1.00it/s]\n",
            "                 Class     Images  Instances      Box(P          R      mAP50  mAP50-95)     Mask(P          R      mAP50  mAP50-95): 100%|██████████| 1/1 [00:00<00:00,  2.87it/s]"
          ]
        },
        {
          "output_type": "stream",
          "name": "stdout",
          "text": [
            "                   all         15         30      0.966          1      0.993      0.764      0.966          1      0.993      0.545\n"
          ]
        },
        {
          "output_type": "stream",
          "name": "stderr",
          "text": [
            "\n"
          ]
        },
        {
          "output_type": "stream",
          "name": "stdout",
          "text": [
            "\n",
            "      Epoch    GPU_mem   box_loss   seg_loss   cls_loss   dfl_loss  Instances       Size\n"
          ]
        },
        {
          "output_type": "stream",
          "name": "stderr",
          "text": [
            "    146/300        14G     0.8602     0.8656     0.5541     0.8263         13       1440: 100%|██████████| 4/4 [00:03<00:00,  1.21it/s]\n",
            "                 Class     Images  Instances      Box(P          R      mAP50  mAP50-95)     Mask(P          R      mAP50  mAP50-95): 100%|██████████| 1/1 [00:00<00:00,  2.85it/s]"
          ]
        },
        {
          "output_type": "stream",
          "name": "stdout",
          "text": [
            "                   all         15         30      0.968      0.994      0.993      0.771      0.968      0.994      0.993      0.579\n"
          ]
        },
        {
          "output_type": "stream",
          "name": "stderr",
          "text": [
            "\n"
          ]
        },
        {
          "output_type": "stream",
          "name": "stdout",
          "text": [
            "\n",
            "      Epoch    GPU_mem   box_loss   seg_loss   cls_loss   dfl_loss  Instances       Size\n"
          ]
        },
        {
          "output_type": "stream",
          "name": "stderr",
          "text": [
            "    147/300      13.8G     0.7619     0.7801     0.5798     0.8099         16       1440: 100%|██████████| 4/4 [00:03<00:00,  1.17it/s]\n",
            "                 Class     Images  Instances      Box(P          R      mAP50  mAP50-95)     Mask(P          R      mAP50  mAP50-95): 100%|██████████| 1/1 [00:00<00:00,  1.64it/s]"
          ]
        },
        {
          "output_type": "stream",
          "name": "stdout",
          "text": [
            "                   all         15         30      0.967      0.991      0.994      0.778      0.967      0.991      0.994      0.598\n"
          ]
        },
        {
          "output_type": "stream",
          "name": "stderr",
          "text": [
            "\n"
          ]
        },
        {
          "output_type": "stream",
          "name": "stdout",
          "text": [
            "\n",
            "      Epoch    GPU_mem   box_loss   seg_loss   cls_loss   dfl_loss  Instances       Size\n"
          ]
        },
        {
          "output_type": "stream",
          "name": "stderr",
          "text": [
            "    148/300      13.9G     0.7977     0.7767      0.549     0.8098         14       1440: 100%|██████████| 4/4 [00:03<00:00,  1.12it/s]\n",
            "                 Class     Images  Instances      Box(P          R      mAP50  mAP50-95)     Mask(P          R      mAP50  mAP50-95): 100%|██████████| 1/1 [00:00<00:00,  2.43it/s]"
          ]
        },
        {
          "output_type": "stream",
          "name": "stdout",
          "text": [
            "                   all         15         30      0.966      0.967      0.993      0.778      0.966      0.967      0.993      0.626\n"
          ]
        },
        {
          "output_type": "stream",
          "name": "stderr",
          "text": [
            "\n"
          ]
        },
        {
          "output_type": "stream",
          "name": "stdout",
          "text": [
            "\n",
            "      Epoch    GPU_mem   box_loss   seg_loss   cls_loss   dfl_loss  Instances       Size\n"
          ]
        },
        {
          "output_type": "stream",
          "name": "stderr",
          "text": [
            "    149/300      13.9G      0.877      0.816     0.5926     0.8184         18       1440: 100%|██████████| 4/4 [00:03<00:00,  1.18it/s]\n",
            "                 Class     Images  Instances      Box(P          R      mAP50  mAP50-95)     Mask(P          R      mAP50  mAP50-95): 100%|██████████| 1/1 [00:00<00:00,  2.34it/s]"
          ]
        },
        {
          "output_type": "stream",
          "name": "stdout",
          "text": [
            "                   all         15         30      0.967      0.988      0.994      0.779      0.967      0.988      0.994      0.595\n"
          ]
        },
        {
          "output_type": "stream",
          "name": "stderr",
          "text": [
            "\n"
          ]
        },
        {
          "output_type": "stream",
          "name": "stdout",
          "text": [
            "\n",
            "      Epoch    GPU_mem   box_loss   seg_loss   cls_loss   dfl_loss  Instances       Size\n"
          ]
        },
        {
          "output_type": "stream",
          "name": "stderr",
          "text": [
            "    150/300      13.9G      0.801     0.8182     0.5757     0.8271         14       1440: 100%|██████████| 4/4 [00:04<00:00,  1.04s/it]\n",
            "                 Class     Images  Instances      Box(P          R      mAP50  mAP50-95)     Mask(P          R      mAP50  mAP50-95): 100%|██████████| 1/1 [00:00<00:00,  2.51it/s]"
          ]
        },
        {
          "output_type": "stream",
          "name": "stdout",
          "text": [
            "                   all         15         30      0.979      0.967      0.994      0.762      0.979      0.967      0.994      0.544\n"
          ]
        },
        {
          "output_type": "stream",
          "name": "stderr",
          "text": [
            "\n"
          ]
        },
        {
          "output_type": "stream",
          "name": "stdout",
          "text": [
            "\n",
            "      Epoch    GPU_mem   box_loss   seg_loss   cls_loss   dfl_loss  Instances       Size\n"
          ]
        },
        {
          "output_type": "stream",
          "name": "stderr",
          "text": [
            "    151/300      13.7G     0.8463     0.8699     0.5939     0.8076          8       1440: 100%|██████████| 4/4 [00:03<00:00,  1.16it/s]\n",
            "                 Class     Images  Instances      Box(P          R      mAP50  mAP50-95)     Mask(P          R      mAP50  mAP50-95): 100%|██████████| 1/1 [00:00<00:00,  2.48it/s]"
          ]
        },
        {
          "output_type": "stream",
          "name": "stdout",
          "text": [
            "                   all         15         30      0.986          1      0.995      0.766      0.986          1      0.995      0.566\n"
          ]
        },
        {
          "output_type": "stream",
          "name": "stderr",
          "text": [
            "\n"
          ]
        },
        {
          "output_type": "stream",
          "name": "stdout",
          "text": [
            "\n",
            "      Epoch    GPU_mem   box_loss   seg_loss   cls_loss   dfl_loss  Instances       Size\n"
          ]
        },
        {
          "output_type": "stream",
          "name": "stderr",
          "text": [
            "    152/300      13.9G     0.7899     0.8499     0.5285     0.8114         22       1440: 100%|██████████| 4/4 [00:03<00:00,  1.20it/s]\n",
            "                 Class     Images  Instances      Box(P          R      mAP50  mAP50-95)     Mask(P          R      mAP50  mAP50-95): 100%|██████████| 1/1 [00:00<00:00,  1.61it/s]"
          ]
        },
        {
          "output_type": "stream",
          "name": "stdout",
          "text": [
            "                   all         15         30      0.986          1      0.995      0.762      0.986          1      0.995      0.587\n"
          ]
        },
        {
          "output_type": "stream",
          "name": "stderr",
          "text": [
            "\n"
          ]
        },
        {
          "output_type": "stream",
          "name": "stdout",
          "text": [
            "\n",
            "      Epoch    GPU_mem   box_loss   seg_loss   cls_loss   dfl_loss  Instances       Size\n"
          ]
        },
        {
          "output_type": "stream",
          "name": "stderr",
          "text": [
            "    153/300      14.1G     0.7099     0.8171     0.5215     0.7963         15       1440: 100%|██████████| 4/4 [00:03<00:00,  1.20it/s]\n",
            "                 Class     Images  Instances      Box(P          R      mAP50  mAP50-95)     Mask(P          R      mAP50  mAP50-95): 100%|██████████| 1/1 [00:00<00:00,  1.91it/s]"
          ]
        },
        {
          "output_type": "stream",
          "name": "stdout",
          "text": [
            "                   all         15         30      0.998          1      0.995      0.776      0.998          1      0.995      0.572\n"
          ]
        },
        {
          "output_type": "stream",
          "name": "stderr",
          "text": [
            "\n"
          ]
        },
        {
          "output_type": "stream",
          "name": "stdout",
          "text": [
            "\n",
            "      Epoch    GPU_mem   box_loss   seg_loss   cls_loss   dfl_loss  Instances       Size\n"
          ]
        },
        {
          "output_type": "stream",
          "name": "stderr",
          "text": [
            "    154/300        14G     0.8429     0.8822     0.5855     0.8451          8       1440: 100%|██████████| 4/4 [00:03<00:00,  1.20it/s]\n",
            "                 Class     Images  Instances      Box(P          R      mAP50  mAP50-95)     Mask(P          R      mAP50  mAP50-95): 100%|██████████| 1/1 [00:00<00:00,  2.27it/s]"
          ]
        },
        {
          "output_type": "stream",
          "name": "stdout",
          "text": [
            "                   all         15         30          1      0.993      0.995      0.765          1      0.993      0.995      0.633\n"
          ]
        },
        {
          "output_type": "stream",
          "name": "stderr",
          "text": [
            "\n"
          ]
        },
        {
          "output_type": "stream",
          "name": "stdout",
          "text": [
            "\n",
            "      Epoch    GPU_mem   box_loss   seg_loss   cls_loss   dfl_loss  Instances       Size\n"
          ]
        },
        {
          "output_type": "stream",
          "name": "stderr",
          "text": [
            "    155/300      13.9G      0.797      1.005     0.5256     0.8134         18       1440: 100%|██████████| 4/4 [00:03<00:00,  1.12it/s]\n",
            "                 Class     Images  Instances      Box(P          R      mAP50  mAP50-95)     Mask(P          R      mAP50  mAP50-95): 100%|██████████| 1/1 [00:00<00:00,  2.55it/s]"
          ]
        },
        {
          "output_type": "stream",
          "name": "stdout",
          "text": [
            "                   all         15         30      0.997      0.967      0.994      0.757      0.997      0.967      0.994      0.659\n"
          ]
        },
        {
          "output_type": "stream",
          "name": "stderr",
          "text": [
            "\n"
          ]
        },
        {
          "output_type": "stream",
          "name": "stdout",
          "text": [
            "\n",
            "      Epoch    GPU_mem   box_loss   seg_loss   cls_loss   dfl_loss  Instances       Size\n"
          ]
        },
        {
          "output_type": "stream",
          "name": "stderr",
          "text": [
            "    156/300      14.1G     0.8095       0.91      0.594     0.8125         11       1440: 100%|██████████| 4/4 [00:03<00:00,  1.22it/s]\n",
            "                 Class     Images  Instances      Box(P          R      mAP50  mAP50-95)     Mask(P          R      mAP50  mAP50-95): 100%|██████████| 1/1 [00:00<00:00,  2.19it/s]"
          ]
        },
        {
          "output_type": "stream",
          "name": "stdout",
          "text": [
            "                   all         15         30      0.998      0.967      0.993      0.765      0.998      0.967      0.993      0.649\n"
          ]
        },
        {
          "output_type": "stream",
          "name": "stderr",
          "text": [
            "\n"
          ]
        },
        {
          "output_type": "stream",
          "name": "stdout",
          "text": [
            "\n",
            "      Epoch    GPU_mem   box_loss   seg_loss   cls_loss   dfl_loss  Instances       Size\n"
          ]
        },
        {
          "output_type": "stream",
          "name": "stderr",
          "text": [
            "    157/300      14.1G      0.789     0.9837     0.5492     0.8123         13       1440: 100%|██████████| 4/4 [00:03<00:00,  1.10it/s]\n",
            "                 Class     Images  Instances      Box(P          R      mAP50  mAP50-95)     Mask(P          R      mAP50  mAP50-95): 100%|██████████| 1/1 [00:00<00:00,  1.63it/s]"
          ]
        },
        {
          "output_type": "stream",
          "name": "stdout",
          "text": [
            "                   all         15         30      0.997      0.967      0.994      0.772      0.997      0.967      0.994      0.633\n"
          ]
        },
        {
          "output_type": "stream",
          "name": "stderr",
          "text": [
            "\n"
          ]
        },
        {
          "output_type": "stream",
          "name": "stdout",
          "text": [
            "\n",
            "      Epoch    GPU_mem   box_loss   seg_loss   cls_loss   dfl_loss  Instances       Size\n"
          ]
        },
        {
          "output_type": "stream",
          "name": "stderr",
          "text": [
            "    158/300      13.9G     0.7549     0.7737     0.5332     0.8048         14       1440: 100%|██████████| 4/4 [00:03<00:00,  1.15it/s]\n",
            "                 Class     Images  Instances      Box(P          R      mAP50  mAP50-95)     Mask(P          R      mAP50  mAP50-95): 100%|██████████| 1/1 [00:00<00:00,  2.49it/s]"
          ]
        },
        {
          "output_type": "stream",
          "name": "stdout",
          "text": [
            "                   all         15         30      0.995      0.967      0.994      0.782      0.995      0.967      0.994      0.629\n"
          ]
        },
        {
          "output_type": "stream",
          "name": "stderr",
          "text": [
            "\n"
          ]
        },
        {
          "output_type": "stream",
          "name": "stdout",
          "text": [
            "\n",
            "      Epoch    GPU_mem   box_loss   seg_loss   cls_loss   dfl_loss  Instances       Size\n"
          ]
        },
        {
          "output_type": "stream",
          "name": "stderr",
          "text": [
            "    159/300      13.7G     0.7774     0.8638     0.5514     0.7978         16       1440: 100%|██████████| 4/4 [00:03<00:00,  1.24it/s]\n",
            "                 Class     Images  Instances      Box(P          R      mAP50  mAP50-95)     Mask(P          R      mAP50  mAP50-95): 100%|██████████| 1/1 [00:00<00:00,  2.83it/s]"
          ]
        },
        {
          "output_type": "stream",
          "name": "stdout",
          "text": [
            "                   all         15         30          1      0.991      0.995      0.768          1      0.991      0.995      0.639\n"
          ]
        },
        {
          "output_type": "stream",
          "name": "stderr",
          "text": [
            "\n"
          ]
        },
        {
          "output_type": "stream",
          "name": "stdout",
          "text": [
            "\n",
            "      Epoch    GPU_mem   box_loss   seg_loss   cls_loss   dfl_loss  Instances       Size\n"
          ]
        },
        {
          "output_type": "stream",
          "name": "stderr",
          "text": [
            "    160/300      13.8G     0.7715     0.7516     0.5367     0.7901         18       1440: 100%|██████████| 4/4 [00:03<00:00,  1.13it/s]\n",
            "                 Class     Images  Instances      Box(P          R      mAP50  mAP50-95)     Mask(P          R      mAP50  mAP50-95): 100%|██████████| 1/1 [00:00<00:00,  2.47it/s]"
          ]
        },
        {
          "output_type": "stream",
          "name": "stdout",
          "text": [
            "                   all         15         30      0.968          1      0.995      0.779      0.968          1      0.995      0.656\n"
          ]
        },
        {
          "output_type": "stream",
          "name": "stderr",
          "text": [
            "\n"
          ]
        },
        {
          "output_type": "stream",
          "name": "stdout",
          "text": [
            "\n",
            "      Epoch    GPU_mem   box_loss   seg_loss   cls_loss   dfl_loss  Instances       Size\n"
          ]
        },
        {
          "output_type": "stream",
          "name": "stderr",
          "text": [
            "    161/300      13.8G     0.8041     0.8437     0.5454     0.8245         15       1440: 100%|██████████| 4/4 [00:03<00:00,  1.20it/s]\n",
            "                 Class     Images  Instances      Box(P          R      mAP50  mAP50-95)     Mask(P          R      mAP50  mAP50-95): 100%|██████████| 1/1 [00:00<00:00,  1.86it/s]"
          ]
        },
        {
          "output_type": "stream",
          "name": "stdout",
          "text": [
            "                   all         15         30      0.977          1      0.995      0.789      0.977          1      0.995      0.679\n"
          ]
        },
        {
          "output_type": "stream",
          "name": "stderr",
          "text": [
            "\n"
          ]
        },
        {
          "output_type": "stream",
          "name": "stdout",
          "text": [
            "\n",
            "      Epoch    GPU_mem   box_loss   seg_loss   cls_loss   dfl_loss  Instances       Size\n"
          ]
        },
        {
          "output_type": "stream",
          "name": "stderr",
          "text": [
            "    162/300      13.9G     0.7939     0.8865     0.5342     0.8249         12       1440: 100%|██████████| 4/4 [00:03<00:00,  1.17it/s]\n",
            "                 Class     Images  Instances      Box(P          R      mAP50  mAP50-95)     Mask(P          R      mAP50  mAP50-95): 100%|██████████| 1/1 [00:00<00:00,  1.19it/s]"
          ]
        },
        {
          "output_type": "stream",
          "name": "stdout",
          "text": [
            "                   all         15         30      0.996          1      0.995      0.778      0.996          1      0.995      0.683\n"
          ]
        },
        {
          "output_type": "stream",
          "name": "stderr",
          "text": [
            "\n"
          ]
        },
        {
          "output_type": "stream",
          "name": "stdout",
          "text": [
            "\n",
            "      Epoch    GPU_mem   box_loss   seg_loss   cls_loss   dfl_loss  Instances       Size\n"
          ]
        },
        {
          "output_type": "stream",
          "name": "stderr",
          "text": [
            "    163/300      13.9G     0.8081     0.8111     0.5281     0.8145         23       1440: 100%|██████████| 4/4 [00:03<00:00,  1.04it/s]\n",
            "                 Class     Images  Instances      Box(P          R      mAP50  mAP50-95)     Mask(P          R      mAP50  mAP50-95): 100%|██████████| 1/1 [00:00<00:00,  2.13it/s]"
          ]
        },
        {
          "output_type": "stream",
          "name": "stdout",
          "text": [
            "                   all         15         30      0.996          1      0.995      0.767      0.996          1      0.995      0.583\n"
          ]
        },
        {
          "output_type": "stream",
          "name": "stderr",
          "text": [
            "\n"
          ]
        },
        {
          "output_type": "stream",
          "name": "stdout",
          "text": [
            "\n",
            "      Epoch    GPU_mem   box_loss   seg_loss   cls_loss   dfl_loss  Instances       Size\n"
          ]
        },
        {
          "output_type": "stream",
          "name": "stderr",
          "text": [
            "    164/300      13.9G     0.8228     0.8091     0.5344     0.7937         17       1440: 100%|██████████| 4/4 [00:03<00:00,  1.19it/s]\n",
            "                 Class     Images  Instances      Box(P          R      mAP50  mAP50-95)     Mask(P          R      mAP50  mAP50-95): 100%|██████████| 1/1 [00:00<00:00,  2.59it/s]"
          ]
        },
        {
          "output_type": "stream",
          "name": "stdout",
          "text": [
            "                   all         15         30      0.996          1      0.995      0.781      0.996          1      0.995      0.566\n"
          ]
        },
        {
          "output_type": "stream",
          "name": "stderr",
          "text": [
            "\n"
          ]
        },
        {
          "output_type": "stream",
          "name": "stdout",
          "text": [
            "\n",
            "      Epoch    GPU_mem   box_loss   seg_loss   cls_loss   dfl_loss  Instances       Size\n"
          ]
        },
        {
          "output_type": "stream",
          "name": "stderr",
          "text": [
            "    165/300      13.6G     0.8578      0.741     0.5567     0.7936         21       1440: 100%|██████████| 4/4 [00:03<00:00,  1.15it/s]\n",
            "                 Class     Images  Instances      Box(P          R      mAP50  mAP50-95)     Mask(P          R      mAP50  mAP50-95): 100%|██████████| 1/1 [00:00<00:00,  1.79it/s]"
          ]
        },
        {
          "output_type": "stream",
          "name": "stdout",
          "text": [
            "                   all         15         30      0.996          1      0.995      0.765      0.996          1      0.995      0.567\n"
          ]
        },
        {
          "output_type": "stream",
          "name": "stderr",
          "text": [
            "\n"
          ]
        },
        {
          "output_type": "stream",
          "name": "stdout",
          "text": [
            "\n",
            "      Epoch    GPU_mem   box_loss   seg_loss   cls_loss   dfl_loss  Instances       Size\n"
          ]
        },
        {
          "output_type": "stream",
          "name": "stderr",
          "text": [
            "    166/300      13.8G     0.7295      0.783     0.5018      0.798          9       1440: 100%|██████████| 4/4 [00:03<00:00,  1.24it/s]\n",
            "                 Class     Images  Instances      Box(P          R      mAP50  mAP50-95)     Mask(P          R      mAP50  mAP50-95): 100%|██████████| 1/1 [00:00<00:00,  1.89it/s]"
          ]
        },
        {
          "output_type": "stream",
          "name": "stdout",
          "text": [
            "                   all         15         30      0.996          1      0.995      0.766      0.996          1      0.995      0.618\n"
          ]
        },
        {
          "output_type": "stream",
          "name": "stderr",
          "text": [
            "\n"
          ]
        },
        {
          "output_type": "stream",
          "name": "stdout",
          "text": [
            "\n",
            "      Epoch    GPU_mem   box_loss   seg_loss   cls_loss   dfl_loss  Instances       Size\n"
          ]
        },
        {
          "output_type": "stream",
          "name": "stderr",
          "text": [
            "    167/300      13.8G     0.8208     0.9047     0.5371     0.8205         19       1440: 100%|██████████| 4/4 [00:03<00:00,  1.19it/s]\n",
            "                 Class     Images  Instances      Box(P          R      mAP50  mAP50-95)     Mask(P          R      mAP50  mAP50-95): 100%|██████████| 1/1 [00:00<00:00,  1.12it/s]"
          ]
        },
        {
          "output_type": "stream",
          "name": "stdout",
          "text": [
            "                   all         15         30      0.996          1      0.995      0.757      0.996          1      0.995      0.619\n"
          ]
        },
        {
          "output_type": "stream",
          "name": "stderr",
          "text": [
            "\n"
          ]
        },
        {
          "output_type": "stream",
          "name": "stdout",
          "text": [
            "\n",
            "      Epoch    GPU_mem   box_loss   seg_loss   cls_loss   dfl_loss  Instances       Size\n"
          ]
        },
        {
          "output_type": "stream",
          "name": "stderr",
          "text": [
            "    168/300      13.9G     0.8221     0.8807     0.5464     0.7922         25       1440: 100%|██████████| 4/4 [00:03<00:00,  1.24it/s]\n",
            "                 Class     Images  Instances      Box(P          R      mAP50  mAP50-95)     Mask(P          R      mAP50  mAP50-95): 100%|██████████| 1/1 [00:00<00:00,  1.95it/s]"
          ]
        },
        {
          "output_type": "stream",
          "name": "stdout",
          "text": [
            "                   all         15         30      0.996          1      0.995      0.761      0.996          1      0.995      0.589\n"
          ]
        },
        {
          "output_type": "stream",
          "name": "stderr",
          "text": [
            "\n"
          ]
        },
        {
          "output_type": "stream",
          "name": "stdout",
          "text": [
            "\n",
            "      Epoch    GPU_mem   box_loss   seg_loss   cls_loss   dfl_loss  Instances       Size\n"
          ]
        },
        {
          "output_type": "stream",
          "name": "stderr",
          "text": [
            "    169/300        14G     0.7886      1.075     0.5616     0.8067         17       1440: 100%|██████████| 4/4 [00:03<00:00,  1.22it/s]\n",
            "                 Class     Images  Instances      Box(P          R      mAP50  mAP50-95)     Mask(P          R      mAP50  mAP50-95): 100%|██████████| 1/1 [00:00<00:00,  1.98it/s]"
          ]
        },
        {
          "output_type": "stream",
          "name": "stdout",
          "text": [
            "                   all         15         30      0.997          1      0.995       0.76      0.997          1      0.995      0.554\n"
          ]
        },
        {
          "output_type": "stream",
          "name": "stderr",
          "text": [
            "\n"
          ]
        },
        {
          "output_type": "stream",
          "name": "stdout",
          "text": [
            "\n",
            "      Epoch    GPU_mem   box_loss   seg_loss   cls_loss   dfl_loss  Instances       Size\n"
          ]
        },
        {
          "output_type": "stream",
          "name": "stderr",
          "text": [
            "    170/300      13.7G     0.7987     0.9069     0.5236     0.8013         15       1440: 100%|██████████| 4/4 [00:04<00:00,  1.03s/it]\n",
            "                 Class     Images  Instances      Box(P          R      mAP50  mAP50-95)     Mask(P          R      mAP50  mAP50-95): 100%|██████████| 1/1 [00:00<00:00,  2.31it/s]"
          ]
        },
        {
          "output_type": "stream",
          "name": "stdout",
          "text": [
            "                   all         15         30      0.996          1      0.995      0.768      0.996          1      0.995      0.555\n"
          ]
        },
        {
          "output_type": "stream",
          "name": "stderr",
          "text": [
            "\n"
          ]
        },
        {
          "output_type": "stream",
          "name": "stdout",
          "text": [
            "\n",
            "      Epoch    GPU_mem   box_loss   seg_loss   cls_loss   dfl_loss  Instances       Size\n"
          ]
        },
        {
          "output_type": "stream",
          "name": "stderr",
          "text": [
            "    171/300        14G     0.7153     0.7095     0.5021     0.7877         12       1440: 100%|██████████| 4/4 [00:03<00:00,  1.08it/s]\n",
            "                 Class     Images  Instances      Box(P          R      mAP50  mAP50-95)     Mask(P          R      mAP50  mAP50-95): 100%|██████████| 1/1 [00:00<00:00,  2.37it/s]"
          ]
        },
        {
          "output_type": "stream",
          "name": "stdout",
          "text": [
            "                   all         15         30      0.997          1      0.995      0.769      0.997          1      0.995      0.578\n"
          ]
        },
        {
          "output_type": "stream",
          "name": "stderr",
          "text": [
            "\n"
          ]
        },
        {
          "output_type": "stream",
          "name": "stdout",
          "text": [
            "\n",
            "      Epoch    GPU_mem   box_loss   seg_loss   cls_loss   dfl_loss  Instances       Size\n"
          ]
        },
        {
          "output_type": "stream",
          "name": "stderr",
          "text": [
            "    172/300      13.9G     0.7918     0.8672     0.5265     0.8209         13       1440: 100%|██████████| 4/4 [00:03<00:00,  1.16it/s]\n",
            "                 Class     Images  Instances      Box(P          R      mAP50  mAP50-95)     Mask(P          R      mAP50  mAP50-95): 100%|██████████| 1/1 [00:00<00:00,  1.14it/s]"
          ]
        },
        {
          "output_type": "stream",
          "name": "stdout",
          "text": [
            "                   all         15         30      0.996          1      0.995       0.77      0.996          1      0.995      0.597\n"
          ]
        },
        {
          "output_type": "stream",
          "name": "stderr",
          "text": [
            "\n"
          ]
        },
        {
          "output_type": "stream",
          "name": "stdout",
          "text": [
            "\n",
            "      Epoch    GPU_mem   box_loss   seg_loss   cls_loss   dfl_loss  Instances       Size\n"
          ]
        },
        {
          "output_type": "stream",
          "name": "stderr",
          "text": [
            "    173/300      14.1G     0.7628     0.7896     0.4838     0.7966         22       1440: 100%|██████████| 4/4 [00:03<00:00,  1.18it/s]\n",
            "                 Class     Images  Instances      Box(P          R      mAP50  mAP50-95)     Mask(P          R      mAP50  mAP50-95): 100%|██████████| 1/1 [00:00<00:00,  2.42it/s]"
          ]
        },
        {
          "output_type": "stream",
          "name": "stdout",
          "text": [
            "                   all         15         30      0.996          1      0.995      0.759      0.996          1      0.995       0.62\n"
          ]
        },
        {
          "output_type": "stream",
          "name": "stderr",
          "text": [
            "\n"
          ]
        },
        {
          "output_type": "stream",
          "name": "stdout",
          "text": [
            "\n",
            "      Epoch    GPU_mem   box_loss   seg_loss   cls_loss   dfl_loss  Instances       Size\n"
          ]
        },
        {
          "output_type": "stream",
          "name": "stderr",
          "text": [
            "    174/300      14.2G     0.7799     0.7374     0.6145     0.7945          6       1440: 100%|██████████| 4/4 [00:03<00:00,  1.18it/s]\n",
            "                 Class     Images  Instances      Box(P          R      mAP50  mAP50-95)     Mask(P          R      mAP50  mAP50-95): 100%|██████████| 1/1 [00:00<00:00,  2.51it/s]"
          ]
        },
        {
          "output_type": "stream",
          "name": "stdout",
          "text": [
            "                   all         15         30      0.996          1      0.995      0.771      0.996          1      0.995      0.571\n"
          ]
        },
        {
          "output_type": "stream",
          "name": "stderr",
          "text": [
            "\n"
          ]
        },
        {
          "output_type": "stream",
          "name": "stdout",
          "text": [
            "\n",
            "      Epoch    GPU_mem   box_loss   seg_loss   cls_loss   dfl_loss  Instances       Size\n"
          ]
        },
        {
          "output_type": "stream",
          "name": "stderr",
          "text": [
            "    175/300      14.1G     0.7753     0.7768     0.5213     0.8098         17       1440: 100%|██████████| 4/4 [00:03<00:00,  1.07it/s]\n",
            "                 Class     Images  Instances      Box(P          R      mAP50  mAP50-95)     Mask(P          R      mAP50  mAP50-95): 100%|██████████| 1/1 [00:00<00:00,  2.19it/s]"
          ]
        },
        {
          "output_type": "stream",
          "name": "stdout",
          "text": [
            "                   all         15         30      0.996          1      0.995      0.789      0.996          1      0.995      0.553\n"
          ]
        },
        {
          "output_type": "stream",
          "name": "stderr",
          "text": [
            "\n"
          ]
        },
        {
          "output_type": "stream",
          "name": "stdout",
          "text": [
            "\n",
            "      Epoch    GPU_mem   box_loss   seg_loss   cls_loss   dfl_loss  Instances       Size\n"
          ]
        },
        {
          "output_type": "stream",
          "name": "stderr",
          "text": [
            "    176/300        14G     0.6869     0.7445     0.4787     0.8062         19       1440: 100%|██████████| 4/4 [00:03<00:00,  1.08it/s]\n",
            "                 Class     Images  Instances      Box(P          R      mAP50  mAP50-95)     Mask(P          R      mAP50  mAP50-95): 100%|██████████| 1/1 [00:00<00:00,  2.87it/s]"
          ]
        },
        {
          "output_type": "stream",
          "name": "stdout",
          "text": [
            "                   all         15         30      0.995          1      0.995      0.766      0.995          1      0.995      0.614\n"
          ]
        },
        {
          "output_type": "stream",
          "name": "stderr",
          "text": [
            "\n"
          ]
        },
        {
          "output_type": "stream",
          "name": "stdout",
          "text": [
            "\n",
            "      Epoch    GPU_mem   box_loss   seg_loss   cls_loss   dfl_loss  Instances       Size\n"
          ]
        },
        {
          "output_type": "stream",
          "name": "stderr",
          "text": [
            "    177/300      13.7G     0.8178     0.8583     0.5599     0.8134          8       1440: 100%|██████████| 4/4 [00:03<00:00,  1.21it/s]\n",
            "                 Class     Images  Instances      Box(P          R      mAP50  mAP50-95)     Mask(P          R      mAP50  mAP50-95): 100%|██████████| 1/1 [00:00<00:00,  1.33it/s]"
          ]
        },
        {
          "output_type": "stream",
          "name": "stdout",
          "text": [
            "                   all         15         30      0.995          1      0.995      0.776      0.995          1      0.995      0.624\n"
          ]
        },
        {
          "output_type": "stream",
          "name": "stderr",
          "text": [
            "\n"
          ]
        },
        {
          "output_type": "stream",
          "name": "stdout",
          "text": [
            "\n",
            "      Epoch    GPU_mem   box_loss   seg_loss   cls_loss   dfl_loss  Instances       Size\n"
          ]
        },
        {
          "output_type": "stream",
          "name": "stderr",
          "text": [
            "    178/300      13.7G       0.79     0.8272      0.534     0.8081         12       1440: 100%|██████████| 4/4 [00:03<00:00,  1.20it/s]\n",
            "                 Class     Images  Instances      Box(P          R      mAP50  mAP50-95)     Mask(P          R      mAP50  mAP50-95): 100%|██████████| 1/1 [00:00<00:00,  1.79it/s]"
          ]
        },
        {
          "output_type": "stream",
          "name": "stdout",
          "text": [
            "                   all         15         30      0.994          1      0.995       0.76      0.994          1      0.995      0.613\n"
          ]
        },
        {
          "output_type": "stream",
          "name": "stderr",
          "text": [
            "\n"
          ]
        },
        {
          "output_type": "stream",
          "name": "stdout",
          "text": [
            "\n",
            "      Epoch    GPU_mem   box_loss   seg_loss   cls_loss   dfl_loss  Instances       Size\n"
          ]
        },
        {
          "output_type": "stream",
          "name": "stderr",
          "text": [
            "    179/300      13.9G     0.7983     0.9271     0.5057     0.7991         18       1440: 100%|██████████| 4/4 [00:03<00:00,  1.22it/s]\n",
            "                 Class     Images  Instances      Box(P          R      mAP50  mAP50-95)     Mask(P          R      mAP50  mAP50-95): 100%|██████████| 1/1 [00:00<00:00,  2.43it/s]"
          ]
        },
        {
          "output_type": "stream",
          "name": "stdout",
          "text": [
            "                   all         15         30      0.992          1      0.995      0.753      0.992          1      0.995      0.621\n"
          ]
        },
        {
          "output_type": "stream",
          "name": "stderr",
          "text": [
            "\n"
          ]
        },
        {
          "output_type": "stream",
          "name": "stdout",
          "text": [
            "\n",
            "      Epoch    GPU_mem   box_loss   seg_loss   cls_loss   dfl_loss  Instances       Size\n"
          ]
        },
        {
          "output_type": "stream",
          "name": "stderr",
          "text": [
            "    180/300      13.7G     0.7384     0.7873     0.4846     0.8184         16       1440: 100%|██████████| 4/4 [00:03<00:00,  1.12it/s]\n",
            "                 Class     Images  Instances      Box(P          R      mAP50  mAP50-95)     Mask(P          R      mAP50  mAP50-95): 100%|██████████| 1/1 [00:00<00:00,  2.34it/s]"
          ]
        },
        {
          "output_type": "stream",
          "name": "stdout",
          "text": [
            "                   all         15         30       0.99          1      0.995      0.776       0.99          1      0.995      0.626\n"
          ]
        },
        {
          "output_type": "stream",
          "name": "stderr",
          "text": [
            "\n"
          ]
        },
        {
          "output_type": "stream",
          "name": "stdout",
          "text": [
            "\n",
            "      Epoch    GPU_mem   box_loss   seg_loss   cls_loss   dfl_loss  Instances       Size\n"
          ]
        },
        {
          "output_type": "stream",
          "name": "stderr",
          "text": [
            "    181/300      13.8G     0.7443     0.8488     0.5032     0.8135          8       1440: 100%|██████████| 4/4 [00:03<00:00,  1.22it/s]\n",
            "                 Class     Images  Instances      Box(P          R      mAP50  mAP50-95)     Mask(P          R      mAP50  mAP50-95): 100%|██████████| 1/1 [00:00<00:00,  2.35it/s]"
          ]
        },
        {
          "output_type": "stream",
          "name": "stdout",
          "text": [
            "                   all         15         30      0.993          1      0.995      0.778      0.993          1      0.995      0.634\n"
          ]
        },
        {
          "output_type": "stream",
          "name": "stderr",
          "text": [
            "\n"
          ]
        },
        {
          "output_type": "stream",
          "name": "stdout",
          "text": [
            "\n",
            "      Epoch    GPU_mem   box_loss   seg_loss   cls_loss   dfl_loss  Instances       Size\n"
          ]
        },
        {
          "output_type": "stream",
          "name": "stderr",
          "text": [
            "    182/300      13.8G     0.7381     0.7321     0.5001     0.7634         12       1440: 100%|██████████| 4/4 [00:03<00:00,  1.22it/s]\n",
            "                 Class     Images  Instances      Box(P          R      mAP50  mAP50-95)     Mask(P          R      mAP50  mAP50-95): 100%|██████████| 1/1 [00:00<00:00,  1.54it/s]"
          ]
        },
        {
          "output_type": "stream",
          "name": "stdout",
          "text": [
            "                   all         15         30      0.994          1      0.995      0.784      0.994          1      0.995      0.649\n"
          ]
        },
        {
          "output_type": "stream",
          "name": "stderr",
          "text": [
            "\n"
          ]
        },
        {
          "output_type": "stream",
          "name": "stdout",
          "text": [
            "\n",
            "      Epoch    GPU_mem   box_loss   seg_loss   cls_loss   dfl_loss  Instances       Size\n"
          ]
        },
        {
          "output_type": "stream",
          "name": "stderr",
          "text": [
            "    183/300      13.9G     0.7408      0.815     0.4995     0.7998         13       1440: 100%|██████████| 4/4 [00:03<00:00,  1.20it/s]\n",
            "                 Class     Images  Instances      Box(P          R      mAP50  mAP50-95)     Mask(P          R      mAP50  mAP50-95): 100%|██████████| 1/1 [00:00<00:00,  2.46it/s]"
          ]
        },
        {
          "output_type": "stream",
          "name": "stdout",
          "text": [
            "                   all         15         30      0.994          1      0.995      0.767      0.994          1      0.995       0.63\n"
          ]
        },
        {
          "output_type": "stream",
          "name": "stderr",
          "text": [
            "\n"
          ]
        },
        {
          "output_type": "stream",
          "name": "stdout",
          "text": [
            "\n",
            "      Epoch    GPU_mem   box_loss   seg_loss   cls_loss   dfl_loss  Instances       Size\n"
          ]
        },
        {
          "output_type": "stream",
          "name": "stderr",
          "text": [
            "    184/300      13.9G     0.7648     0.9012     0.5801     0.7954          4       1440: 100%|██████████| 4/4 [00:03<00:00,  1.23it/s]\n",
            "                 Class     Images  Instances      Box(P          R      mAP50  mAP50-95)     Mask(P          R      mAP50  mAP50-95): 100%|██████████| 1/1 [00:00<00:00,  1.96it/s]"
          ]
        },
        {
          "output_type": "stream",
          "name": "stdout",
          "text": [
            "                   all         15         30      0.995          1      0.995      0.753      0.995          1      0.995      0.622\n"
          ]
        },
        {
          "output_type": "stream",
          "name": "stderr",
          "text": [
            "\n"
          ]
        },
        {
          "output_type": "stream",
          "name": "stdout",
          "text": [
            "\n",
            "      Epoch    GPU_mem   box_loss   seg_loss   cls_loss   dfl_loss  Instances       Size\n"
          ]
        },
        {
          "output_type": "stream",
          "name": "stderr",
          "text": [
            "    185/300      13.9G     0.7374     0.7998     0.5112     0.8077         15       1440: 100%|██████████| 4/4 [00:03<00:00,  1.13it/s]\n",
            "                 Class     Images  Instances      Box(P          R      mAP50  mAP50-95)     Mask(P          R      mAP50  mAP50-95): 100%|██████████| 1/1 [00:00<00:00,  2.29it/s]"
          ]
        },
        {
          "output_type": "stream",
          "name": "stdout",
          "text": [
            "                   all         15         30      0.995          1      0.995      0.752      0.995          1      0.995      0.607\n"
          ]
        },
        {
          "output_type": "stream",
          "name": "stderr",
          "text": [
            "\n"
          ]
        },
        {
          "output_type": "stream",
          "name": "stdout",
          "text": [
            "\n",
            "      Epoch    GPU_mem   box_loss   seg_loss   cls_loss   dfl_loss  Instances       Size\n"
          ]
        },
        {
          "output_type": "stream",
          "name": "stderr",
          "text": [
            "    186/300        14G     0.7067     0.8556     0.4967     0.8018         15       1440: 100%|██████████| 4/4 [00:03<00:00,  1.20it/s]\n",
            "                 Class     Images  Instances      Box(P          R      mAP50  mAP50-95)     Mask(P          R      mAP50  mAP50-95): 100%|██████████| 1/1 [00:00<00:00,  1.77it/s]"
          ]
        },
        {
          "output_type": "stream",
          "name": "stdout",
          "text": [
            "                   all         15         30      0.996          1      0.995      0.765      0.996          1      0.995      0.604\n"
          ]
        },
        {
          "output_type": "stream",
          "name": "stderr",
          "text": [
            "\n"
          ]
        },
        {
          "output_type": "stream",
          "name": "stdout",
          "text": [
            "\n",
            "      Epoch    GPU_mem   box_loss   seg_loss   cls_loss   dfl_loss  Instances       Size\n"
          ]
        },
        {
          "output_type": "stream",
          "name": "stderr",
          "text": [
            "    187/300      13.7G     0.7125     0.6824     0.4672     0.8021         14       1440: 100%|██████████| 4/4 [00:03<00:00,  1.18it/s]\n",
            "                 Class     Images  Instances      Box(P          R      mAP50  mAP50-95)     Mask(P          R      mAP50  mAP50-95): 100%|██████████| 1/1 [00:00<00:00,  1.61it/s]"
          ]
        },
        {
          "output_type": "stream",
          "name": "stdout",
          "text": [
            "                   all         15         30      0.996          1      0.995      0.758      0.996          1      0.995      0.623\n"
          ]
        },
        {
          "output_type": "stream",
          "name": "stderr",
          "text": [
            "\n"
          ]
        },
        {
          "output_type": "stream",
          "name": "stdout",
          "text": [
            "\n",
            "      Epoch    GPU_mem   box_loss   seg_loss   cls_loss   dfl_loss  Instances       Size\n"
          ]
        },
        {
          "output_type": "stream",
          "name": "stderr",
          "text": [
            "    188/300      14.2G     0.7295     0.7137     0.4783     0.8148         21       1440: 100%|██████████| 4/4 [00:03<00:00,  1.20it/s]\n",
            "                 Class     Images  Instances      Box(P          R      mAP50  mAP50-95)     Mask(P          R      mAP50  mAP50-95): 100%|██████████| 1/1 [00:00<00:00,  2.25it/s]"
          ]
        },
        {
          "output_type": "stream",
          "name": "stdout",
          "text": [
            "                   all         15         30      0.997          1      0.995      0.751      0.997          1      0.995      0.651\n"
          ]
        },
        {
          "output_type": "stream",
          "name": "stderr",
          "text": [
            "\n"
          ]
        },
        {
          "output_type": "stream",
          "name": "stdout",
          "text": [
            "\n",
            "      Epoch    GPU_mem   box_loss   seg_loss   cls_loss   dfl_loss  Instances       Size\n"
          ]
        },
        {
          "output_type": "stream",
          "name": "stderr",
          "text": [
            "    189/300      13.9G     0.7326     0.7359     0.5045     0.7976         14       1440: 100%|██████████| 4/4 [00:04<00:00,  1.01s/it]\n",
            "                 Class     Images  Instances      Box(P          R      mAP50  mAP50-95)     Mask(P          R      mAP50  mAP50-95): 100%|██████████| 1/1 [00:00<00:00,  1.68it/s]"
          ]
        },
        {
          "output_type": "stream",
          "name": "stdout",
          "text": [
            "                   all         15         30      0.997          1      0.995       0.75      0.997          1      0.995      0.639\n"
          ]
        },
        {
          "output_type": "stream",
          "name": "stderr",
          "text": [
            "\n"
          ]
        },
        {
          "output_type": "stream",
          "name": "stdout",
          "text": [
            "\n",
            "      Epoch    GPU_mem   box_loss   seg_loss   cls_loss   dfl_loss  Instances       Size\n"
          ]
        },
        {
          "output_type": "stream",
          "name": "stderr",
          "text": [
            "    190/300        14G     0.7656     0.7617     0.5047     0.7999         18       1440: 100%|██████████| 4/4 [00:03<00:00,  1.10it/s]\n",
            "                 Class     Images  Instances      Box(P          R      mAP50  mAP50-95)     Mask(P          R      mAP50  mAP50-95): 100%|██████████| 1/1 [00:00<00:00,  2.29it/s]"
          ]
        },
        {
          "output_type": "stream",
          "name": "stdout",
          "text": [
            "                   all         15         30      0.997          1      0.995      0.776      0.997          1      0.995       0.59\n"
          ]
        },
        {
          "output_type": "stream",
          "name": "stderr",
          "text": [
            "\n"
          ]
        },
        {
          "output_type": "stream",
          "name": "stdout",
          "text": [
            "\n",
            "      Epoch    GPU_mem   box_loss   seg_loss   cls_loss   dfl_loss  Instances       Size\n"
          ]
        },
        {
          "output_type": "stream",
          "name": "stderr",
          "text": [
            "    191/300        14G     0.7267     0.8052     0.4782     0.8058         15       1440: 100%|██████████| 4/4 [00:03<00:00,  1.19it/s]\n",
            "                 Class     Images  Instances      Box(P          R      mAP50  mAP50-95)     Mask(P          R      mAP50  mAP50-95): 100%|██████████| 1/1 [00:00<00:00,  2.37it/s]"
          ]
        },
        {
          "output_type": "stream",
          "name": "stdout",
          "text": [
            "                   all         15         30      0.997          1      0.995      0.785      0.997          1      0.995       0.61\n"
          ]
        },
        {
          "output_type": "stream",
          "name": "stderr",
          "text": [
            "\n"
          ]
        },
        {
          "output_type": "stream",
          "name": "stdout",
          "text": [
            "\n",
            "      Epoch    GPU_mem   box_loss   seg_loss   cls_loss   dfl_loss  Instances       Size\n"
          ]
        },
        {
          "output_type": "stream",
          "name": "stderr",
          "text": [
            "    192/300        14G     0.7598      0.901     0.4925     0.7967         17       1440: 100%|██████████| 4/4 [00:03<00:00,  1.21it/s]\n",
            "                 Class     Images  Instances      Box(P          R      mAP50  mAP50-95)     Mask(P          R      mAP50  mAP50-95): 100%|██████████| 1/1 [00:00<00:00,  1.38it/s]"
          ]
        },
        {
          "output_type": "stream",
          "name": "stdout",
          "text": [
            "                   all         15         30      0.997          1      0.995      0.795      0.997          1      0.995      0.627\n"
          ]
        },
        {
          "output_type": "stream",
          "name": "stderr",
          "text": [
            "\n"
          ]
        },
        {
          "output_type": "stream",
          "name": "stdout",
          "text": [
            "\n",
            "      Epoch    GPU_mem   box_loss   seg_loss   cls_loss   dfl_loss  Instances       Size\n"
          ]
        },
        {
          "output_type": "stream",
          "name": "stderr",
          "text": [
            "    193/300      13.9G     0.7164     0.7635      0.497     0.7995         16       1440: 100%|██████████| 4/4 [00:03<00:00,  1.22it/s]\n",
            "                 Class     Images  Instances      Box(P          R      mAP50  mAP50-95)     Mask(P          R      mAP50  mAP50-95): 100%|██████████| 1/1 [00:00<00:00,  2.14it/s]"
          ]
        },
        {
          "output_type": "stream",
          "name": "stdout",
          "text": [
            "                   all         15         30      0.997          1      0.995      0.777      0.997          1      0.995      0.631\n"
          ]
        },
        {
          "output_type": "stream",
          "name": "stderr",
          "text": [
            "\n"
          ]
        },
        {
          "output_type": "stream",
          "name": "stdout",
          "text": [
            "\n",
            "      Epoch    GPU_mem   box_loss   seg_loss   cls_loss   dfl_loss  Instances       Size\n"
          ]
        },
        {
          "output_type": "stream",
          "name": "stderr",
          "text": [
            "    194/300      13.6G     0.7484     0.7208     0.4962      0.769         15       1440: 100%|██████████| 4/4 [00:03<00:00,  1.21it/s]\n",
            "                 Class     Images  Instances      Box(P          R      mAP50  mAP50-95)     Mask(P          R      mAP50  mAP50-95): 100%|██████████| 1/1 [00:00<00:00,  2.59it/s]"
          ]
        },
        {
          "output_type": "stream",
          "name": "stdout",
          "text": [
            "                   all         15         30      0.996          1      0.995      0.775      0.996          1      0.995      0.671\n"
          ]
        },
        {
          "output_type": "stream",
          "name": "stderr",
          "text": [
            "\n"
          ]
        },
        {
          "output_type": "stream",
          "name": "stdout",
          "text": [
            "\n",
            "      Epoch    GPU_mem   box_loss   seg_loss   cls_loss   dfl_loss  Instances       Size\n"
          ]
        },
        {
          "output_type": "stream",
          "name": "stderr",
          "text": [
            "    195/300      13.9G     0.7553     0.8122     0.4984      0.796         18       1440: 100%|██████████| 4/4 [00:03<00:00,  1.13it/s]\n",
            "                 Class     Images  Instances      Box(P          R      mAP50  mAP50-95)     Mask(P          R      mAP50  mAP50-95): 100%|██████████| 1/1 [00:00<00:00,  1.02it/s]"
          ]
        },
        {
          "output_type": "stream",
          "name": "stdout",
          "text": [
            "                   all         15         30      0.997          1      0.995      0.768      0.997          1      0.995       0.62\n"
          ]
        },
        {
          "output_type": "stream",
          "name": "stderr",
          "text": [
            "\n"
          ]
        },
        {
          "output_type": "stream",
          "name": "stdout",
          "text": [
            "\n",
            "      Epoch    GPU_mem   box_loss   seg_loss   cls_loss   dfl_loss  Instances       Size\n"
          ]
        },
        {
          "output_type": "stream",
          "name": "stderr",
          "text": [
            "    196/300      13.9G     0.7129     0.7497     0.4628     0.8078         10       1440: 100%|██████████| 4/4 [00:03<00:00,  1.22it/s]\n",
            "                 Class     Images  Instances      Box(P          R      mAP50  mAP50-95)     Mask(P          R      mAP50  mAP50-95): 100%|██████████| 1/1 [00:00<00:00,  2.86it/s]"
          ]
        },
        {
          "output_type": "stream",
          "name": "stdout",
          "text": [
            "                   all         15         30      0.997          1      0.995      0.784      0.997          1      0.995      0.533\n"
          ]
        },
        {
          "output_type": "stream",
          "name": "stderr",
          "text": [
            "\n"
          ]
        },
        {
          "output_type": "stream",
          "name": "stdout",
          "text": [
            "\n",
            "      Epoch    GPU_mem   box_loss   seg_loss   cls_loss   dfl_loss  Instances       Size\n"
          ]
        },
        {
          "output_type": "stream",
          "name": "stderr",
          "text": [
            "    197/300      14.2G     0.7217     0.8531     0.4712      0.781         19       1440: 100%|██████████| 4/4 [00:03<00:00,  1.21it/s]\n",
            "                 Class     Images  Instances      Box(P          R      mAP50  mAP50-95)     Mask(P          R      mAP50  mAP50-95): 100%|██████████| 1/1 [00:00<00:00,  1.58it/s]"
          ]
        },
        {
          "output_type": "stream",
          "name": "stdout",
          "text": [
            "                   all         15         30      0.997          1      0.995      0.773      0.997          1      0.995      0.519\n"
          ]
        },
        {
          "output_type": "stream",
          "name": "stderr",
          "text": [
            "\n"
          ]
        },
        {
          "output_type": "stream",
          "name": "stdout",
          "text": [
            "\n",
            "      Epoch    GPU_mem   box_loss   seg_loss   cls_loss   dfl_loss  Instances       Size\n"
          ]
        },
        {
          "output_type": "stream",
          "name": "stderr",
          "text": [
            "    198/300        14G     0.7809     0.7645     0.4897     0.8115         17       1440: 100%|██████████| 4/4 [00:03<00:00,  1.21it/s]\n",
            "                 Class     Images  Instances      Box(P          R      mAP50  mAP50-95)     Mask(P          R      mAP50  mAP50-95): 100%|██████████| 1/1 [00:00<00:00,  1.74it/s]"
          ]
        },
        {
          "output_type": "stream",
          "name": "stdout",
          "text": [
            "                   all         15         30      0.998          1      0.995      0.772      0.998          1      0.995       0.56\n"
          ]
        },
        {
          "output_type": "stream",
          "name": "stderr",
          "text": [
            "\n"
          ]
        },
        {
          "output_type": "stream",
          "name": "stdout",
          "text": [
            "\n",
            "      Epoch    GPU_mem   box_loss   seg_loss   cls_loss   dfl_loss  Instances       Size\n"
          ]
        },
        {
          "output_type": "stream",
          "name": "stderr",
          "text": [
            "    199/300        14G     0.6891     0.8211     0.4543     0.8139         14       1440: 100%|██████████| 4/4 [00:03<00:00,  1.25it/s]\n",
            "                 Class     Images  Instances      Box(P          R      mAP50  mAP50-95)     Mask(P          R      mAP50  mAP50-95): 100%|██████████| 1/1 [00:00<00:00,  2.35it/s]"
          ]
        },
        {
          "output_type": "stream",
          "name": "stdout",
          "text": [
            "                   all         15         30      0.998          1      0.995      0.772      0.998          1      0.995      0.636\n"
          ]
        },
        {
          "output_type": "stream",
          "name": "stderr",
          "text": [
            "\n"
          ]
        },
        {
          "output_type": "stream",
          "name": "stdout",
          "text": [
            "\n",
            "      Epoch    GPU_mem   box_loss   seg_loss   cls_loss   dfl_loss  Instances       Size\n"
          ]
        },
        {
          "output_type": "stream",
          "name": "stderr",
          "text": [
            "    200/300        14G     0.7091     0.7856     0.4684     0.7995         10       1440: 100%|██████████| 4/4 [00:03<00:00,  1.16it/s]\n",
            "                 Class     Images  Instances      Box(P          R      mAP50  mAP50-95)     Mask(P          R      mAP50  mAP50-95): 100%|██████████| 1/1 [00:00<00:00,  1.64it/s]"
          ]
        },
        {
          "output_type": "stream",
          "name": "stdout",
          "text": [
            "                   all         15         30      0.998          1      0.995       0.79      0.998          1      0.995      0.693\n"
          ]
        },
        {
          "output_type": "stream",
          "name": "stderr",
          "text": [
            "\n"
          ]
        },
        {
          "output_type": "stream",
          "name": "stdout",
          "text": [
            "\n",
            "      Epoch    GPU_mem   box_loss   seg_loss   cls_loss   dfl_loss  Instances       Size\n"
          ]
        },
        {
          "output_type": "stream",
          "name": "stderr",
          "text": [
            "    201/300      13.8G     0.7098     0.6798     0.4624     0.8113         16       1440: 100%|██████████| 4/4 [00:03<00:00,  1.24it/s]\n",
            "                 Class     Images  Instances      Box(P          R      mAP50  mAP50-95)     Mask(P          R      mAP50  mAP50-95): 100%|██████████| 1/1 [00:00<00:00,  2.05it/s]"
          ]
        },
        {
          "output_type": "stream",
          "name": "stdout",
          "text": [
            "                   all         15         30      0.997          1      0.995      0.796      0.997          1      0.995      0.627\n"
          ]
        },
        {
          "output_type": "stream",
          "name": "stderr",
          "text": [
            "\n"
          ]
        },
        {
          "output_type": "stream",
          "name": "stdout",
          "text": [
            "\n",
            "      Epoch    GPU_mem   box_loss   seg_loss   cls_loss   dfl_loss  Instances       Size\n"
          ]
        },
        {
          "output_type": "stream",
          "name": "stderr",
          "text": [
            "    202/300      14.1G     0.7271     0.8042     0.4843     0.7837         15       1440: 100%|██████████| 4/4 [00:03<00:00,  1.21it/s]\n",
            "                 Class     Images  Instances      Box(P          R      mAP50  mAP50-95)     Mask(P          R      mAP50  mAP50-95): 100%|██████████| 1/1 [00:00<00:00,  2.42it/s]"
          ]
        },
        {
          "output_type": "stream",
          "name": "stdout",
          "text": [
            "                   all         15         30      0.998          1      0.995      0.777      0.998          1      0.995      0.567\n"
          ]
        },
        {
          "output_type": "stream",
          "name": "stderr",
          "text": [
            "\n"
          ]
        },
        {
          "output_type": "stream",
          "name": "stdout",
          "text": [
            "\n",
            "      Epoch    GPU_mem   box_loss   seg_loss   cls_loss   dfl_loss  Instances       Size\n"
          ]
        },
        {
          "output_type": "stream",
          "name": "stderr",
          "text": [
            "    203/300      13.9G     0.6828     0.6818     0.4807     0.7953          8       1440: 100%|██████████| 4/4 [00:03<00:00,  1.09it/s]\n",
            "                 Class     Images  Instances      Box(P          R      mAP50  mAP50-95)     Mask(P          R      mAP50  mAP50-95): 100%|██████████| 1/1 [00:00<00:00,  2.54it/s]"
          ]
        },
        {
          "output_type": "stream",
          "name": "stdout",
          "text": [
            "                   all         15         30      0.995          1      0.995      0.768      0.995          1      0.995       0.57\n"
          ]
        },
        {
          "output_type": "stream",
          "name": "stderr",
          "text": [
            "\n"
          ]
        },
        {
          "output_type": "stream",
          "name": "stdout",
          "text": [
            "\n",
            "      Epoch    GPU_mem   box_loss   seg_loss   cls_loss   dfl_loss  Instances       Size\n"
          ]
        },
        {
          "output_type": "stream",
          "name": "stderr",
          "text": [
            "    204/300      14.1G     0.7192     0.8683     0.4919     0.7943         12       1440: 100%|██████████| 4/4 [00:03<00:00,  1.17it/s]\n",
            "                 Class     Images  Instances      Box(P          R      mAP50  mAP50-95)     Mask(P          R      mAP50  mAP50-95): 100%|██████████| 1/1 [00:00<00:00,  2.55it/s]"
          ]
        },
        {
          "output_type": "stream",
          "name": "stdout",
          "text": [
            "                   all         15         30      0.994          1      0.995      0.783      0.994          1      0.995      0.629\n"
          ]
        },
        {
          "output_type": "stream",
          "name": "stderr",
          "text": [
            "\n"
          ]
        },
        {
          "output_type": "stream",
          "name": "stdout",
          "text": [
            "\n",
            "      Epoch    GPU_mem   box_loss   seg_loss   cls_loss   dfl_loss  Instances       Size\n"
          ]
        },
        {
          "output_type": "stream",
          "name": "stderr",
          "text": [
            "    205/300      13.7G     0.7409     0.8182      0.496     0.7924          8       1440: 100%|██████████| 4/4 [00:04<00:00,  1.10s/it]\n",
            "                 Class     Images  Instances      Box(P          R      mAP50  mAP50-95)     Mask(P          R      mAP50  mAP50-95): 100%|██████████| 1/1 [00:00<00:00,  1.88it/s]"
          ]
        },
        {
          "output_type": "stream",
          "name": "stdout",
          "text": [
            "                   all         15         30      0.994          1      0.995       0.79      0.994          1      0.995       0.64\n"
          ]
        },
        {
          "output_type": "stream",
          "name": "stderr",
          "text": [
            "\n"
          ]
        },
        {
          "output_type": "stream",
          "name": "stdout",
          "text": [
            "\n",
            "      Epoch    GPU_mem   box_loss   seg_loss   cls_loss   dfl_loss  Instances       Size\n"
          ]
        },
        {
          "output_type": "stream",
          "name": "stderr",
          "text": [
            "    206/300        14G     0.7357     0.6843     0.4691     0.8117         13       1440: 100%|██████████| 4/4 [00:03<00:00,  1.18it/s]\n",
            "                 Class     Images  Instances      Box(P          R      mAP50  mAP50-95)     Mask(P          R      mAP50  mAP50-95): 100%|██████████| 1/1 [00:00<00:00,  2.61it/s]"
          ]
        },
        {
          "output_type": "stream",
          "name": "stdout",
          "text": [
            "                   all         15         30      0.994          1      0.995      0.783      0.994          1      0.995       0.65\n"
          ]
        },
        {
          "output_type": "stream",
          "name": "stderr",
          "text": [
            "\n"
          ]
        },
        {
          "output_type": "stream",
          "name": "stdout",
          "text": [
            "\n",
            "      Epoch    GPU_mem   box_loss   seg_loss   cls_loss   dfl_loss  Instances       Size\n"
          ]
        },
        {
          "output_type": "stream",
          "name": "stderr",
          "text": [
            "    207/300      13.7G     0.7354     0.7335     0.4704     0.7913         19       1440: 100%|██████████| 4/4 [00:03<00:00,  1.25it/s]\n",
            "                 Class     Images  Instances      Box(P          R      mAP50  mAP50-95)     Mask(P          R      mAP50  mAP50-95): 100%|██████████| 1/1 [00:00<00:00,  2.23it/s]"
          ]
        },
        {
          "output_type": "stream",
          "name": "stdout",
          "text": [
            "                   all         15         30      0.997          1      0.995      0.784      0.997          1      0.995      0.642\n"
          ]
        },
        {
          "output_type": "stream",
          "name": "stderr",
          "text": [
            "\n"
          ]
        },
        {
          "output_type": "stream",
          "name": "stdout",
          "text": [
            "\n",
            "      Epoch    GPU_mem   box_loss   seg_loss   cls_loss   dfl_loss  Instances       Size\n"
          ]
        },
        {
          "output_type": "stream",
          "name": "stderr",
          "text": [
            "    208/300      14.1G     0.7241     0.7719     0.4632     0.7877         21       1440: 100%|██████████| 4/4 [00:04<00:00,  1.01s/it]\n",
            "                 Class     Images  Instances      Box(P          R      mAP50  mAP50-95)     Mask(P          R      mAP50  mAP50-95): 100%|██████████| 1/1 [00:00<00:00,  1.98it/s]"
          ]
        },
        {
          "output_type": "stream",
          "name": "stdout",
          "text": [
            "                   all         15         30      0.996          1      0.995      0.795      0.996          1      0.995      0.633\n"
          ]
        },
        {
          "output_type": "stream",
          "name": "stderr",
          "text": [
            "\n"
          ]
        },
        {
          "output_type": "stream",
          "name": "stdout",
          "text": [
            "\n",
            "      Epoch    GPU_mem   box_loss   seg_loss   cls_loss   dfl_loss  Instances       Size\n"
          ]
        },
        {
          "output_type": "stream",
          "name": "stderr",
          "text": [
            "    209/300      14.1G     0.7638     0.7901      0.494     0.8301          8       1440: 100%|██████████| 4/4 [00:03<00:00,  1.22it/s]\n",
            "                 Class     Images  Instances      Box(P          R      mAP50  mAP50-95)     Mask(P          R      mAP50  mAP50-95): 100%|██████████| 1/1 [00:00<00:00,  2.25it/s]"
          ]
        },
        {
          "output_type": "stream",
          "name": "stdout",
          "text": [
            "                   all         15         30      0.996          1      0.995      0.789      0.996          1      0.995      0.658\n"
          ]
        },
        {
          "output_type": "stream",
          "name": "stderr",
          "text": [
            "\n"
          ]
        },
        {
          "output_type": "stream",
          "name": "stdout",
          "text": [
            "\n",
            "      Epoch    GPU_mem   box_loss   seg_loss   cls_loss   dfl_loss  Instances       Size\n"
          ]
        },
        {
          "output_type": "stream",
          "name": "stderr",
          "text": [
            "    210/300      14.1G     0.7214     0.7926       0.45     0.7844         16       1440: 100%|██████████| 4/4 [00:03<00:00,  1.14it/s]\n",
            "                 Class     Images  Instances      Box(P          R      mAP50  mAP50-95)     Mask(P          R      mAP50  mAP50-95): 100%|██████████| 1/1 [00:00<00:00,  1.55it/s]"
          ]
        },
        {
          "output_type": "stream",
          "name": "stdout",
          "text": [
            "                   all         15         30      0.995          1      0.995      0.775      0.995          1      0.995      0.652\n"
          ]
        },
        {
          "output_type": "stream",
          "name": "stderr",
          "text": [
            "\n"
          ]
        },
        {
          "output_type": "stream",
          "name": "stdout",
          "text": [
            "\n",
            "      Epoch    GPU_mem   box_loss   seg_loss   cls_loss   dfl_loss  Instances       Size\n"
          ]
        },
        {
          "output_type": "stream",
          "name": "stderr",
          "text": [
            "    211/300      13.9G     0.7538     0.7131     0.4814     0.7958         18       1440: 100%|██████████| 4/4 [00:03<00:00,  1.23it/s]\n",
            "                 Class     Images  Instances      Box(P          R      mAP50  mAP50-95)     Mask(P          R      mAP50  mAP50-95): 100%|██████████| 1/1 [00:00<00:00,  2.01it/s]"
          ]
        },
        {
          "output_type": "stream",
          "name": "stdout",
          "text": [
            "                   all         15         30      0.995          1      0.995       0.79      0.995          1      0.995      0.643\n"
          ]
        },
        {
          "output_type": "stream",
          "name": "stderr",
          "text": [
            "\n"
          ]
        },
        {
          "output_type": "stream",
          "name": "stdout",
          "text": [
            "\n",
            "      Epoch    GPU_mem   box_loss   seg_loss   cls_loss   dfl_loss  Instances       Size\n"
          ]
        },
        {
          "output_type": "stream",
          "name": "stderr",
          "text": [
            "    212/300      13.9G     0.6758     0.7682     0.4639     0.7859         12       1440: 100%|██████████| 4/4 [00:03<00:00,  1.18it/s]\n",
            "                 Class     Images  Instances      Box(P          R      mAP50  mAP50-95)     Mask(P          R      mAP50  mAP50-95): 100%|██████████| 1/1 [00:00<00:00,  2.21it/s]"
          ]
        },
        {
          "output_type": "stream",
          "name": "stdout",
          "text": [
            "                   all         15         30      0.995          1      0.995      0.792      0.995          1      0.995      0.655\n"
          ]
        },
        {
          "output_type": "stream",
          "name": "stderr",
          "text": [
            "\n"
          ]
        },
        {
          "output_type": "stream",
          "name": "stdout",
          "text": [
            "\n",
            "      Epoch    GPU_mem   box_loss   seg_loss   cls_loss   dfl_loss  Instances       Size\n"
          ]
        },
        {
          "output_type": "stream",
          "name": "stderr",
          "text": [
            "    213/300      13.9G     0.6913     0.7016     0.4735      0.797         10       1440: 100%|██████████| 4/4 [00:03<00:00,  1.14it/s]\n",
            "                 Class     Images  Instances      Box(P          R      mAP50  mAP50-95)     Mask(P          R      mAP50  mAP50-95): 100%|██████████| 1/1 [00:00<00:00,  2.09it/s]"
          ]
        },
        {
          "output_type": "stream",
          "name": "stdout",
          "text": [
            "                   all         15         30      0.996          1      0.995      0.772      0.996          1      0.995      0.613\n"
          ]
        },
        {
          "output_type": "stream",
          "name": "stderr",
          "text": [
            "\n"
          ]
        },
        {
          "output_type": "stream",
          "name": "stdout",
          "text": [
            "\n",
            "      Epoch    GPU_mem   box_loss   seg_loss   cls_loss   dfl_loss  Instances       Size\n"
          ]
        },
        {
          "output_type": "stream",
          "name": "stderr",
          "text": [
            "    214/300      13.7G     0.6659     0.7331     0.4525     0.7834         16       1440: 100%|██████████| 4/4 [00:03<00:00,  1.19it/s]\n",
            "                 Class     Images  Instances      Box(P          R      mAP50  mAP50-95)     Mask(P          R      mAP50  mAP50-95): 100%|██████████| 1/1 [00:00<00:00,  2.07it/s]"
          ]
        },
        {
          "output_type": "stream",
          "name": "stdout",
          "text": [
            "                   all         15         30      0.996          1      0.995       0.77      0.996          1      0.995      0.626\n"
          ]
        },
        {
          "output_type": "stream",
          "name": "stderr",
          "text": [
            "\n"
          ]
        },
        {
          "output_type": "stream",
          "name": "stdout",
          "text": [
            "\n",
            "      Epoch    GPU_mem   box_loss   seg_loss   cls_loss   dfl_loss  Instances       Size\n"
          ]
        },
        {
          "output_type": "stream",
          "name": "stderr",
          "text": [
            "    215/300      13.9G     0.7192     0.8258     0.4662     0.8128         20       1440: 100%|██████████| 4/4 [00:03<00:00,  1.13it/s]\n",
            "                 Class     Images  Instances      Box(P          R      mAP50  mAP50-95)     Mask(P          R      mAP50  mAP50-95): 100%|██████████| 1/1 [00:00<00:00,  1.70it/s]"
          ]
        },
        {
          "output_type": "stream",
          "name": "stdout",
          "text": [
            "                   all         15         30      0.995          1      0.995      0.765      0.995          1      0.995      0.626\n"
          ]
        },
        {
          "output_type": "stream",
          "name": "stderr",
          "text": [
            "\n"
          ]
        },
        {
          "output_type": "stream",
          "name": "stdout",
          "text": [
            "\n",
            "      Epoch    GPU_mem   box_loss   seg_loss   cls_loss   dfl_loss  Instances       Size\n"
          ]
        },
        {
          "output_type": "stream",
          "name": "stderr",
          "text": [
            "    216/300        14G     0.6865     0.7407     0.4805     0.7689         14       1440: 100%|██████████| 4/4 [00:03<00:00,  1.11it/s]\n",
            "                 Class     Images  Instances      Box(P          R      mAP50  mAP50-95)     Mask(P          R      mAP50  mAP50-95): 100%|██████████| 1/1 [00:00<00:00,  3.30it/s]"
          ]
        },
        {
          "output_type": "stream",
          "name": "stdout",
          "text": [
            "                   all         15         30      0.995          1      0.995      0.757      0.995          1      0.995      0.648\n"
          ]
        },
        {
          "output_type": "stream",
          "name": "stderr",
          "text": [
            "\n"
          ]
        },
        {
          "output_type": "stream",
          "name": "stdout",
          "text": [
            "\n",
            "      Epoch    GPU_mem   box_loss   seg_loss   cls_loss   dfl_loss  Instances       Size\n"
          ]
        },
        {
          "output_type": "stream",
          "name": "stderr",
          "text": [
            "    217/300      13.9G     0.6674     0.7568      0.453     0.8202         12       1440: 100%|██████████| 4/4 [00:03<00:00,  1.22it/s]\n",
            "                 Class     Images  Instances      Box(P          R      mAP50  mAP50-95)     Mask(P          R      mAP50  mAP50-95): 100%|██████████| 1/1 [00:00<00:00,  1.62it/s]"
          ]
        },
        {
          "output_type": "stream",
          "name": "stdout",
          "text": [
            "                   all         15         30      0.995          1      0.995       0.77      0.995          1      0.995      0.626\n"
          ]
        },
        {
          "output_type": "stream",
          "name": "stderr",
          "text": [
            "\n"
          ]
        },
        {
          "output_type": "stream",
          "name": "stdout",
          "text": [
            "\n",
            "      Epoch    GPU_mem   box_loss   seg_loss   cls_loss   dfl_loss  Instances       Size\n"
          ]
        },
        {
          "output_type": "stream",
          "name": "stderr",
          "text": [
            "    218/300      13.9G     0.6908     0.7131     0.4589     0.7812         12       1440: 100%|██████████| 4/4 [00:03<00:00,  1.14it/s]\n",
            "                 Class     Images  Instances      Box(P          R      mAP50  mAP50-95)     Mask(P          R      mAP50  mAP50-95): 100%|██████████| 1/1 [00:00<00:00,  2.71it/s]"
          ]
        },
        {
          "output_type": "stream",
          "name": "stdout",
          "text": [
            "                   all         15         30      0.995          1      0.995      0.784      0.995          1      0.995      0.633\n"
          ]
        },
        {
          "output_type": "stream",
          "name": "stderr",
          "text": [
            "\n"
          ]
        },
        {
          "output_type": "stream",
          "name": "stdout",
          "text": [
            "\n",
            "      Epoch    GPU_mem   box_loss   seg_loss   cls_loss   dfl_loss  Instances       Size\n"
          ]
        },
        {
          "output_type": "stream",
          "name": "stderr",
          "text": [
            "    219/300      13.9G     0.7252     0.7045     0.4588     0.7897         14       1440: 100%|██████████| 4/4 [00:03<00:00,  1.19it/s]\n",
            "                 Class     Images  Instances      Box(P          R      mAP50  mAP50-95)     Mask(P          R      mAP50  mAP50-95): 100%|██████████| 1/1 [00:00<00:00,  1.99it/s]"
          ]
        },
        {
          "output_type": "stream",
          "name": "stdout",
          "text": [
            "                   all         15         30      0.996          1      0.995      0.774      0.996          1      0.995      0.612\n"
          ]
        },
        {
          "output_type": "stream",
          "name": "stderr",
          "text": [
            "\n"
          ]
        },
        {
          "output_type": "stream",
          "name": "stdout",
          "text": [
            "\n",
            "      Epoch    GPU_mem   box_loss   seg_loss   cls_loss   dfl_loss  Instances       Size\n"
          ]
        },
        {
          "output_type": "stream",
          "name": "stderr",
          "text": [
            "    220/300        14G     0.6538      0.736     0.4374     0.7882         18       1440: 100%|██████████| 4/4 [00:03<00:00,  1.16it/s]\n",
            "                 Class     Images  Instances      Box(P          R      mAP50  mAP50-95)     Mask(P          R      mAP50  mAP50-95): 100%|██████████| 1/1 [00:00<00:00,  1.76it/s]"
          ]
        },
        {
          "output_type": "stream",
          "name": "stdout",
          "text": [
            "                   all         15         30      0.996          1      0.995      0.761      0.996          1      0.995      0.645\n"
          ]
        },
        {
          "output_type": "stream",
          "name": "stderr",
          "text": [
            "\n"
          ]
        },
        {
          "output_type": "stream",
          "name": "stdout",
          "text": [
            "\n",
            "      Epoch    GPU_mem   box_loss   seg_loss   cls_loss   dfl_loss  Instances       Size\n"
          ]
        },
        {
          "output_type": "stream",
          "name": "stderr",
          "text": [
            "    221/300      13.8G     0.7198     0.6845     0.4594     0.7961         16       1440: 100%|██████████| 4/4 [00:04<00:00,  1.13s/it]\n",
            "                 Class     Images  Instances      Box(P          R      mAP50  mAP50-95)     Mask(P          R      mAP50  mAP50-95): 100%|██████████| 1/1 [00:00<00:00,  1.64it/s]"
          ]
        },
        {
          "output_type": "stream",
          "name": "stdout",
          "text": [
            "                   all         15         30      0.997          1      0.995      0.756      0.997          1      0.995      0.685\n"
          ]
        },
        {
          "output_type": "stream",
          "name": "stderr",
          "text": [
            "\n"
          ]
        },
        {
          "output_type": "stream",
          "name": "stdout",
          "text": [
            "\n",
            "      Epoch    GPU_mem   box_loss   seg_loss   cls_loss   dfl_loss  Instances       Size\n"
          ]
        },
        {
          "output_type": "stream",
          "name": "stderr",
          "text": [
            "    222/300      13.9G     0.7243     0.7464     0.4736     0.7818         14       1440: 100%|██████████| 4/4 [00:03<00:00,  1.25it/s]\n",
            "                 Class     Images  Instances      Box(P          R      mAP50  mAP50-95)     Mask(P          R      mAP50  mAP50-95): 100%|██████████| 1/1 [00:00<00:00,  2.77it/s]"
          ]
        },
        {
          "output_type": "stream",
          "name": "stdout",
          "text": [
            "                   all         15         30      0.997          1      0.995      0.769      0.997          1      0.995      0.632\n"
          ]
        },
        {
          "output_type": "stream",
          "name": "stderr",
          "text": [
            "\n"
          ]
        },
        {
          "output_type": "stream",
          "name": "stdout",
          "text": [
            "\n",
            "      Epoch    GPU_mem   box_loss   seg_loss   cls_loss   dfl_loss  Instances       Size\n"
          ]
        },
        {
          "output_type": "stream",
          "name": "stderr",
          "text": [
            "    223/300      13.9G     0.7156     0.6582      0.455     0.7836         12       1440: 100%|██████████| 4/4 [00:03<00:00,  1.17it/s]\n",
            "                 Class     Images  Instances      Box(P          R      mAP50  mAP50-95)     Mask(P          R      mAP50  mAP50-95): 100%|██████████| 1/1 [00:00<00:00,  2.44it/s]"
          ]
        },
        {
          "output_type": "stream",
          "name": "stdout",
          "text": [
            "                   all         15         30      0.997          1      0.995      0.786      0.997          1      0.995      0.598\n"
          ]
        },
        {
          "output_type": "stream",
          "name": "stderr",
          "text": [
            "\n"
          ]
        },
        {
          "output_type": "stream",
          "name": "stdout",
          "text": [
            "\n",
            "      Epoch    GPU_mem   box_loss   seg_loss   cls_loss   dfl_loss  Instances       Size\n"
          ]
        },
        {
          "output_type": "stream",
          "name": "stderr",
          "text": [
            "    224/300        14G     0.6811     0.8526     0.4617     0.7977         14       1440: 100%|██████████| 4/4 [00:03<00:00,  1.19it/s]\n",
            "                 Class     Images  Instances      Box(P          R      mAP50  mAP50-95)     Mask(P          R      mAP50  mAP50-95): 100%|██████████| 1/1 [00:00<00:00,  1.94it/s]"
          ]
        },
        {
          "output_type": "stream",
          "name": "stdout",
          "text": [
            "                   all         15         30      0.997          1      0.995      0.794      0.997          1      0.995      0.552\n"
          ]
        },
        {
          "output_type": "stream",
          "name": "stderr",
          "text": [
            "\n"
          ]
        },
        {
          "output_type": "stream",
          "name": "stdout",
          "text": [
            "\n",
            "      Epoch    GPU_mem   box_loss   seg_loss   cls_loss   dfl_loss  Instances       Size\n"
          ]
        },
        {
          "output_type": "stream",
          "name": "stderr",
          "text": [
            "    225/300        14G     0.7092     0.6955     0.4569     0.8071         18       1440: 100%|██████████| 4/4 [00:03<00:00,  1.22it/s]\n",
            "                 Class     Images  Instances      Box(P          R      mAP50  mAP50-95)     Mask(P          R      mAP50  mAP50-95): 100%|██████████| 1/1 [00:00<00:00,  1.32it/s]"
          ]
        },
        {
          "output_type": "stream",
          "name": "stdout",
          "text": [
            "                   all         15         30      0.998          1      0.995      0.791      0.998          1      0.995      0.557\n"
          ]
        },
        {
          "output_type": "stream",
          "name": "stderr",
          "text": [
            "\n"
          ]
        },
        {
          "output_type": "stream",
          "name": "stdout",
          "text": [
            "\n",
            "      Epoch    GPU_mem   box_loss   seg_loss   cls_loss   dfl_loss  Instances       Size\n"
          ]
        },
        {
          "output_type": "stream",
          "name": "stderr",
          "text": [
            "    226/300      13.9G     0.6884     0.6819     0.4475     0.7911         18       1440: 100%|██████████| 4/4 [00:03<00:00,  1.13it/s]\n",
            "                 Class     Images  Instances      Box(P          R      mAP50  mAP50-95)     Mask(P          R      mAP50  mAP50-95): 100%|██████████| 1/1 [00:00<00:00,  2.66it/s]"
          ]
        },
        {
          "output_type": "stream",
          "name": "stdout",
          "text": [
            "                   all         15         30      0.996          1      0.995      0.796      0.996          1      0.995      0.543\n"
          ]
        },
        {
          "output_type": "stream",
          "name": "stderr",
          "text": [
            "\n"
          ]
        },
        {
          "output_type": "stream",
          "name": "stdout",
          "text": [
            "\n",
            "      Epoch    GPU_mem   box_loss   seg_loss   cls_loss   dfl_loss  Instances       Size\n"
          ]
        },
        {
          "output_type": "stream",
          "name": "stderr",
          "text": [
            "    227/300      13.9G     0.6624     0.7073     0.4499     0.7798         15       1440: 100%|██████████| 4/4 [00:03<00:00,  1.18it/s]\n",
            "                 Class     Images  Instances      Box(P          R      mAP50  mAP50-95)     Mask(P          R      mAP50  mAP50-95): 100%|██████████| 1/1 [00:00<00:00,  2.11it/s]"
          ]
        },
        {
          "output_type": "stream",
          "name": "stdout",
          "text": [
            "                   all         15         30      0.997          1      0.995      0.786      0.997          1      0.995      0.635\n"
          ]
        },
        {
          "output_type": "stream",
          "name": "stderr",
          "text": [
            "\n"
          ]
        },
        {
          "output_type": "stream",
          "name": "stdout",
          "text": [
            "\n",
            "      Epoch    GPU_mem   box_loss   seg_loss   cls_loss   dfl_loss  Instances       Size\n"
          ]
        },
        {
          "output_type": "stream",
          "name": "stderr",
          "text": [
            "    228/300      13.8G     0.7443     0.6215      0.476     0.8077          9       1440: 100%|██████████| 4/4 [00:03<00:00,  1.06it/s]\n",
            "                 Class     Images  Instances      Box(P          R      mAP50  mAP50-95)     Mask(P          R      mAP50  mAP50-95): 100%|██████████| 1/1 [00:00<00:00,  4.28it/s]"
          ]
        },
        {
          "output_type": "stream",
          "name": "stdout",
          "text": [
            "                   all         15         30      0.997          1      0.995      0.782      0.997          1      0.995      0.624\n"
          ]
        },
        {
          "output_type": "stream",
          "name": "stderr",
          "text": [
            "\n"
          ]
        },
        {
          "output_type": "stream",
          "name": "stdout",
          "text": [
            "\n",
            "      Epoch    GPU_mem   box_loss   seg_loss   cls_loss   dfl_loss  Instances       Size\n"
          ]
        },
        {
          "output_type": "stream",
          "name": "stderr",
          "text": [
            "    229/300      13.6G     0.6681     0.7157     0.4555     0.7886          6       1440: 100%|██████████| 4/4 [00:03<00:00,  1.16it/s]\n",
            "                 Class     Images  Instances      Box(P          R      mAP50  mAP50-95)     Mask(P          R      mAP50  mAP50-95): 100%|██████████| 1/1 [00:00<00:00,  1.84it/s]"
          ]
        },
        {
          "output_type": "stream",
          "name": "stdout",
          "text": [
            "                   all         15         30      0.997          1      0.995      0.778      0.997          1      0.995      0.612\n"
          ]
        },
        {
          "output_type": "stream",
          "name": "stderr",
          "text": [
            "\n"
          ]
        },
        {
          "output_type": "stream",
          "name": "stdout",
          "text": [
            "\n",
            "      Epoch    GPU_mem   box_loss   seg_loss   cls_loss   dfl_loss  Instances       Size\n"
          ]
        },
        {
          "output_type": "stream",
          "name": "stderr",
          "text": [
            "    230/300        14G     0.6964     0.7998     0.4347     0.8229         13       1440: 100%|██████████| 4/4 [00:03<00:00,  1.14it/s]\n",
            "                 Class     Images  Instances      Box(P          R      mAP50  mAP50-95)     Mask(P          R      mAP50  mAP50-95): 100%|██████████| 1/1 [00:00<00:00,  1.48it/s]"
          ]
        },
        {
          "output_type": "stream",
          "name": "stdout",
          "text": [
            "                   all         15         30      0.997          1      0.995      0.788      0.997          1      0.995      0.598\n"
          ]
        },
        {
          "output_type": "stream",
          "name": "stderr",
          "text": [
            "\n"
          ]
        },
        {
          "output_type": "stream",
          "name": "stdout",
          "text": [
            "\n",
            "      Epoch    GPU_mem   box_loss   seg_loss   cls_loss   dfl_loss  Instances       Size\n"
          ]
        },
        {
          "output_type": "stream",
          "name": "stderr",
          "text": [
            "    231/300        14G     0.6593     0.6989     0.4285     0.8071         16       1440: 100%|██████████| 4/4 [00:03<00:00,  1.18it/s]\n",
            "                 Class     Images  Instances      Box(P          R      mAP50  mAP50-95)     Mask(P          R      mAP50  mAP50-95): 100%|██████████| 1/1 [00:00<00:00,  1.90it/s]"
          ]
        },
        {
          "output_type": "stream",
          "name": "stdout",
          "text": [
            "                   all         15         30      0.996          1      0.995      0.795      0.996          1      0.995      0.605\n"
          ]
        },
        {
          "output_type": "stream",
          "name": "stderr",
          "text": [
            "\n"
          ]
        },
        {
          "output_type": "stream",
          "name": "stdout",
          "text": [
            "\n",
            "      Epoch    GPU_mem   box_loss   seg_loss   cls_loss   dfl_loss  Instances       Size\n"
          ]
        },
        {
          "output_type": "stream",
          "name": "stderr",
          "text": [
            "    232/300      13.7G     0.7124     0.7825     0.4511     0.8207         18       1440: 100%|██████████| 4/4 [00:03<00:00,  1.19it/s]\n",
            "                 Class     Images  Instances      Box(P          R      mAP50  mAP50-95)     Mask(P          R      mAP50  mAP50-95): 100%|██████████| 1/1 [00:00<00:00,  1.83it/s]"
          ]
        },
        {
          "output_type": "stream",
          "name": "stdout",
          "text": [
            "                   all         15         30      0.997          1      0.995      0.798      0.997          1      0.995      0.611\n"
          ]
        },
        {
          "output_type": "stream",
          "name": "stderr",
          "text": [
            "\n"
          ]
        },
        {
          "output_type": "stream",
          "name": "stdout",
          "text": [
            "\n",
            "      Epoch    GPU_mem   box_loss   seg_loss   cls_loss   dfl_loss  Instances       Size\n"
          ]
        },
        {
          "output_type": "stream",
          "name": "stderr",
          "text": [
            "    233/300      14.1G     0.6678     0.8293     0.4365     0.8039         14       1440: 100%|██████████| 4/4 [00:03<00:00,  1.14it/s]\n",
            "                 Class     Images  Instances      Box(P          R      mAP50  mAP50-95)     Mask(P          R      mAP50  mAP50-95): 100%|██████████| 1/1 [00:00<00:00,  1.41it/s]"
          ]
        },
        {
          "output_type": "stream",
          "name": "stdout",
          "text": [
            "                   all         15         30      0.997          1      0.995      0.785      0.997          1      0.995      0.647\n"
          ]
        },
        {
          "output_type": "stream",
          "name": "stderr",
          "text": [
            "\n"
          ]
        },
        {
          "output_type": "stream",
          "name": "stdout",
          "text": [
            "\n",
            "      Epoch    GPU_mem   box_loss   seg_loss   cls_loss   dfl_loss  Instances       Size\n"
          ]
        },
        {
          "output_type": "stream",
          "name": "stderr",
          "text": [
            "    234/300      13.8G     0.6115      0.678     0.4207     0.8086         21       1440: 100%|██████████| 4/4 [00:03<00:00,  1.16it/s]\n",
            "                 Class     Images  Instances      Box(P          R      mAP50  mAP50-95)     Mask(P          R      mAP50  mAP50-95): 100%|██████████| 1/1 [00:00<00:00,  1.31it/s]"
          ]
        },
        {
          "output_type": "stream",
          "name": "stdout",
          "text": [
            "                   all         15         30      0.999          1      0.995      0.793      0.999          1      0.995      0.612\n"
          ]
        },
        {
          "output_type": "stream",
          "name": "stderr",
          "text": [
            "\n"
          ]
        },
        {
          "output_type": "stream",
          "name": "stdout",
          "text": [
            "\n",
            "      Epoch    GPU_mem   box_loss   seg_loss   cls_loss   dfl_loss  Instances       Size\n"
          ]
        },
        {
          "output_type": "stream",
          "name": "stderr",
          "text": [
            "    235/300      13.8G     0.7781     0.8095      0.482     0.7811         21       1440: 100%|██████████| 4/4 [00:03<00:00,  1.20it/s]\n",
            "                 Class     Images  Instances      Box(P          R      mAP50  mAP50-95)     Mask(P          R      mAP50  mAP50-95): 100%|██████████| 1/1 [00:00<00:00,  1.84it/s]"
          ]
        },
        {
          "output_type": "stream",
          "name": "stdout",
          "text": [
            "                   all         15         30          1      0.998      0.995      0.786          1      0.998      0.995      0.605\n"
          ]
        },
        {
          "output_type": "stream",
          "name": "stderr",
          "text": [
            "\n"
          ]
        },
        {
          "output_type": "stream",
          "name": "stdout",
          "text": [
            "\n",
            "      Epoch    GPU_mem   box_loss   seg_loss   cls_loss   dfl_loss  Instances       Size\n"
          ]
        },
        {
          "output_type": "stream",
          "name": "stderr",
          "text": [
            "    236/300        14G      0.704     0.6665     0.4364     0.7924         15       1440: 100%|██████████| 4/4 [00:03<00:00,  1.18it/s]\n",
            "                 Class     Images  Instances      Box(P          R      mAP50  mAP50-95)     Mask(P          R      mAP50  mAP50-95): 100%|██████████| 1/1 [00:00<00:00,  2.27it/s]"
          ]
        },
        {
          "output_type": "stream",
          "name": "stdout",
          "text": [
            "                   all         15         30          1      0.998      0.995      0.802          1      0.998      0.995      0.616\n"
          ]
        },
        {
          "output_type": "stream",
          "name": "stderr",
          "text": [
            "\n"
          ]
        },
        {
          "output_type": "stream",
          "name": "stdout",
          "text": [
            "\n",
            "      Epoch    GPU_mem   box_loss   seg_loss   cls_loss   dfl_loss  Instances       Size\n"
          ]
        },
        {
          "output_type": "stream",
          "name": "stderr",
          "text": [
            "    237/300        14G     0.6524     0.6782     0.4379     0.7821         18       1440: 100%|██████████| 4/4 [00:03<00:00,  1.18it/s]\n",
            "                 Class     Images  Instances      Box(P          R      mAP50  mAP50-95)     Mask(P          R      mAP50  mAP50-95): 100%|██████████| 1/1 [00:00<00:00,  2.26it/s]"
          ]
        },
        {
          "output_type": "stream",
          "name": "stdout",
          "text": [
            "                   all         15         30          1      0.998      0.995      0.801          1      0.998      0.995      0.626\n"
          ]
        },
        {
          "output_type": "stream",
          "name": "stderr",
          "text": [
            "\n"
          ]
        },
        {
          "output_type": "stream",
          "name": "stdout",
          "text": [
            "\n",
            "      Epoch    GPU_mem   box_loss   seg_loss   cls_loss   dfl_loss  Instances       Size\n"
          ]
        },
        {
          "output_type": "stream",
          "name": "stderr",
          "text": [
            "    238/300      14.2G       0.63     0.6452      0.415     0.8054         14       1440: 100%|██████████| 4/4 [00:04<00:00,  1.14s/it]\n",
            "                 Class     Images  Instances      Box(P          R      mAP50  mAP50-95)     Mask(P          R      mAP50  mAP50-95): 100%|██████████| 1/1 [00:00<00:00,  1.69it/s]"
          ]
        },
        {
          "output_type": "stream",
          "name": "stdout",
          "text": [
            "                   all         15         30          1          1      0.995      0.787          1          1      0.995      0.653\n"
          ]
        },
        {
          "output_type": "stream",
          "name": "stderr",
          "text": [
            "\n"
          ]
        },
        {
          "output_type": "stream",
          "name": "stdout",
          "text": [
            "\n",
            "      Epoch    GPU_mem   box_loss   seg_loss   cls_loss   dfl_loss  Instances       Size\n"
          ]
        },
        {
          "output_type": "stream",
          "name": "stderr",
          "text": [
            "    239/300      13.9G     0.6325     0.7195     0.4202      0.804         12       1440: 100%|██████████| 4/4 [00:03<00:00,  1.25it/s]\n",
            "                 Class     Images  Instances      Box(P          R      mAP50  mAP50-95)     Mask(P          R      mAP50  mAP50-95): 100%|██████████| 1/1 [00:00<00:00,  3.58it/s]"
          ]
        },
        {
          "output_type": "stream",
          "name": "stdout",
          "text": [
            "                   all         15         30      0.998          1      0.995      0.783      0.998          1      0.995      0.654\n"
          ]
        },
        {
          "output_type": "stream",
          "name": "stderr",
          "text": [
            "\n"
          ]
        },
        {
          "output_type": "stream",
          "name": "stdout",
          "text": [
            "\n",
            "      Epoch    GPU_mem   box_loss   seg_loss   cls_loss   dfl_loss  Instances       Size\n"
          ]
        },
        {
          "output_type": "stream",
          "name": "stderr",
          "text": [
            "    240/300      13.8G     0.6925     0.6823     0.4419     0.7802         17       1440: 100%|██████████| 4/4 [00:03<00:00,  1.25it/s]\n",
            "                 Class     Images  Instances      Box(P          R      mAP50  mAP50-95)     Mask(P          R      mAP50  mAP50-95): 100%|██████████| 1/1 [00:00<00:00,  2.24it/s]"
          ]
        },
        {
          "output_type": "stream",
          "name": "stdout",
          "text": [
            "                   all         15         30      0.997          1      0.995      0.795      0.997          1      0.995      0.628\n"
          ]
        },
        {
          "output_type": "stream",
          "name": "stderr",
          "text": [
            "\n"
          ]
        },
        {
          "output_type": "stream",
          "name": "stdout",
          "text": [
            "\n",
            "      Epoch    GPU_mem   box_loss   seg_loss   cls_loss   dfl_loss  Instances       Size\n"
          ]
        },
        {
          "output_type": "stream",
          "name": "stderr",
          "text": [
            "    241/300      13.9G     0.7083     0.6945     0.4519     0.7961         21       1440: 100%|██████████| 4/4 [00:04<00:00,  1.02s/it]\n",
            "                 Class     Images  Instances      Box(P          R      mAP50  mAP50-95)     Mask(P          R      mAP50  mAP50-95): 100%|██████████| 1/1 [00:00<00:00,  2.47it/s]"
          ]
        },
        {
          "output_type": "stream",
          "name": "stdout",
          "text": [
            "                   all         15         30      0.997          1      0.995      0.794      0.997          1      0.995       0.64\n"
          ]
        },
        {
          "output_type": "stream",
          "name": "stderr",
          "text": [
            "\n"
          ]
        },
        {
          "output_type": "stream",
          "name": "stdout",
          "text": [
            "\n",
            "      Epoch    GPU_mem   box_loss   seg_loss   cls_loss   dfl_loss  Instances       Size\n"
          ]
        },
        {
          "output_type": "stream",
          "name": "stderr",
          "text": [
            "    242/300      13.9G     0.7595     0.7492     0.4668     0.7871         17       1440: 100%|██████████| 4/4 [00:03<00:00,  1.27it/s]\n",
            "                 Class     Images  Instances      Box(P          R      mAP50  mAP50-95)     Mask(P          R      mAP50  mAP50-95): 100%|██████████| 1/1 [00:00<00:00,  4.46it/s]"
          ]
        },
        {
          "output_type": "stream",
          "name": "stdout",
          "text": [
            "                   all         15         30      0.997          1      0.995      0.796      0.997          1      0.995      0.621\n"
          ]
        },
        {
          "output_type": "stream",
          "name": "stderr",
          "text": [
            "\n"
          ]
        },
        {
          "output_type": "stream",
          "name": "stdout",
          "text": [
            "\n",
            "      Epoch    GPU_mem   box_loss   seg_loss   cls_loss   dfl_loss  Instances       Size\n"
          ]
        },
        {
          "output_type": "stream",
          "name": "stderr",
          "text": [
            "    243/300      13.7G     0.6762     0.8152     0.4401     0.7995         11       1440: 100%|██████████| 4/4 [00:03<00:00,  1.11it/s]\n",
            "                 Class     Images  Instances      Box(P          R      mAP50  mAP50-95)     Mask(P          R      mAP50  mAP50-95): 100%|██████████| 1/1 [00:00<00:00,  1.67it/s]"
          ]
        },
        {
          "output_type": "stream",
          "name": "stdout",
          "text": [
            "                   all         15         30      0.997          1      0.995      0.802      0.997          1      0.995      0.622\n"
          ]
        },
        {
          "output_type": "stream",
          "name": "stderr",
          "text": [
            "\n"
          ]
        },
        {
          "output_type": "stream",
          "name": "stdout",
          "text": [
            "\n",
            "      Epoch    GPU_mem   box_loss   seg_loss   cls_loss   dfl_loss  Instances       Size\n"
          ]
        },
        {
          "output_type": "stream",
          "name": "stderr",
          "text": [
            "    244/300      13.8G     0.6856     0.7274     0.4377      0.787         17       1440: 100%|██████████| 4/4 [00:03<00:00,  1.11it/s]\n",
            "                 Class     Images  Instances      Box(P          R      mAP50  mAP50-95)     Mask(P          R      mAP50  mAP50-95): 100%|██████████| 1/1 [00:00<00:00,  2.74it/s]"
          ]
        },
        {
          "output_type": "stream",
          "name": "stdout",
          "text": [
            "                   all         15         30      0.997          1      0.995      0.784      0.997          1      0.995       0.65\n"
          ]
        },
        {
          "output_type": "stream",
          "name": "stderr",
          "text": [
            "\n"
          ]
        },
        {
          "output_type": "stream",
          "name": "stdout",
          "text": [
            "\n",
            "      Epoch    GPU_mem   box_loss   seg_loss   cls_loss   dfl_loss  Instances       Size\n"
          ]
        },
        {
          "output_type": "stream",
          "name": "stderr",
          "text": [
            "    245/300      13.7G     0.6648     0.7424     0.4285     0.8004         18       1440: 100%|██████████| 4/4 [00:03<00:00,  1.22it/s]\n",
            "                 Class     Images  Instances      Box(P          R      mAP50  mAP50-95)     Mask(P          R      mAP50  mAP50-95): 100%|██████████| 1/1 [00:00<00:00,  2.35it/s]"
          ]
        },
        {
          "output_type": "stream",
          "name": "stdout",
          "text": [
            "                   all         15         30      0.996          1      0.995      0.783      0.996          1      0.995      0.666\n"
          ]
        },
        {
          "output_type": "stream",
          "name": "stderr",
          "text": [
            "\n"
          ]
        },
        {
          "output_type": "stream",
          "name": "stdout",
          "text": [
            "\n",
            "      Epoch    GPU_mem   box_loss   seg_loss   cls_loss   dfl_loss  Instances       Size\n"
          ]
        },
        {
          "output_type": "stream",
          "name": "stderr",
          "text": [
            "    246/300      13.7G     0.7152     0.6796     0.4446      0.826         12       1440: 100%|██████████| 4/4 [00:04<00:00,  1.00s/it]\n",
            "                 Class     Images  Instances      Box(P          R      mAP50  mAP50-95)     Mask(P          R      mAP50  mAP50-95): 100%|██████████| 1/1 [00:00<00:00,  3.30it/s]"
          ]
        },
        {
          "output_type": "stream",
          "name": "stdout",
          "text": [
            "                   all         15         30      0.996          1      0.995      0.776      0.996          1      0.995      0.618\n"
          ]
        },
        {
          "output_type": "stream",
          "name": "stderr",
          "text": [
            "\n"
          ]
        },
        {
          "output_type": "stream",
          "name": "stdout",
          "text": [
            "\n",
            "      Epoch    GPU_mem   box_loss   seg_loss   cls_loss   dfl_loss  Instances       Size\n"
          ]
        },
        {
          "output_type": "stream",
          "name": "stderr",
          "text": [
            "    247/300      13.9G     0.6508      0.721     0.4185     0.8065         12       1440: 100%|██████████| 4/4 [00:03<00:00,  1.13it/s]\n",
            "                 Class     Images  Instances      Box(P          R      mAP50  mAP50-95)     Mask(P          R      mAP50  mAP50-95): 100%|██████████| 1/1 [00:00<00:00,  1.81it/s]"
          ]
        },
        {
          "output_type": "stream",
          "name": "stdout",
          "text": [
            "                   all         15         30      0.996          1      0.995      0.774      0.996          1      0.995       0.62\n"
          ]
        },
        {
          "output_type": "stream",
          "name": "stderr",
          "text": [
            "\n"
          ]
        },
        {
          "output_type": "stream",
          "name": "stdout",
          "text": [
            "\n",
            "      Epoch    GPU_mem   box_loss   seg_loss   cls_loss   dfl_loss  Instances       Size\n"
          ]
        },
        {
          "output_type": "stream",
          "name": "stderr",
          "text": [
            "    248/300      13.6G     0.7813      0.614      0.516     0.7715         10       1440: 100%|██████████| 4/4 [00:03<00:00,  1.18it/s]\n",
            "                 Class     Images  Instances      Box(P          R      mAP50  mAP50-95)     Mask(P          R      mAP50  mAP50-95): 100%|██████████| 1/1 [00:00<00:00,  1.54it/s]"
          ]
        },
        {
          "output_type": "stream",
          "name": "stdout",
          "text": [
            "                   all         15         30      0.996          1      0.995      0.793      0.996          1      0.995      0.612\n"
          ]
        },
        {
          "output_type": "stream",
          "name": "stderr",
          "text": [
            "\n"
          ]
        },
        {
          "output_type": "stream",
          "name": "stdout",
          "text": [
            "\n",
            "      Epoch    GPU_mem   box_loss   seg_loss   cls_loss   dfl_loss  Instances       Size\n"
          ]
        },
        {
          "output_type": "stream",
          "name": "stderr",
          "text": [
            "    249/300      13.9G     0.6163     0.6929     0.4217     0.7999         12       1440: 100%|██████████| 4/4 [00:03<00:00,  1.19it/s]\n",
            "                 Class     Images  Instances      Box(P          R      mAP50  mAP50-95)     Mask(P          R      mAP50  mAP50-95): 100%|██████████| 1/1 [00:00<00:00,  2.02it/s]"
          ]
        },
        {
          "output_type": "stream",
          "name": "stdout",
          "text": [
            "                   all         15         30      0.996          1      0.995      0.805      0.996          1      0.995       0.61\n"
          ]
        },
        {
          "output_type": "stream",
          "name": "stderr",
          "text": [
            "\n"
          ]
        },
        {
          "output_type": "stream",
          "name": "stdout",
          "text": [
            "\n",
            "      Epoch    GPU_mem   box_loss   seg_loss   cls_loss   dfl_loss  Instances       Size\n"
          ]
        },
        {
          "output_type": "stream",
          "name": "stderr",
          "text": [
            "    250/300        14G     0.6409      0.718     0.4149     0.7886         22       1440: 100%|██████████| 4/4 [00:03<00:00,  1.22it/s]\n",
            "                 Class     Images  Instances      Box(P          R      mAP50  mAP50-95)     Mask(P          R      mAP50  mAP50-95): 100%|██████████| 1/1 [00:00<00:00,  2.26it/s]"
          ]
        },
        {
          "output_type": "stream",
          "name": "stdout",
          "text": [
            "                   all         15         30      0.995          1      0.995      0.798      0.995          1      0.995      0.622\n"
          ]
        },
        {
          "output_type": "stream",
          "name": "stderr",
          "text": [
            "\n"
          ]
        },
        {
          "output_type": "stream",
          "name": "stdout",
          "text": [
            "\n",
            "      Epoch    GPU_mem   box_loss   seg_loss   cls_loss   dfl_loss  Instances       Size\n"
          ]
        },
        {
          "output_type": "stream",
          "name": "stderr",
          "text": [
            "    251/300      13.9G     0.6165     0.7146     0.4103     0.8088         14       1440: 100%|██████████| 4/4 [00:03<00:00,  1.13it/s]\n",
            "                 Class     Images  Instances      Box(P          R      mAP50  mAP50-95)     Mask(P          R      mAP50  mAP50-95): 100%|██████████| 1/1 [00:00<00:00,  2.44it/s]"
          ]
        },
        {
          "output_type": "stream",
          "name": "stdout",
          "text": [
            "                   all         15         30      0.995          1      0.995      0.789      0.995          1      0.995      0.654\n"
          ]
        },
        {
          "output_type": "stream",
          "name": "stderr",
          "text": [
            "\n"
          ]
        },
        {
          "output_type": "stream",
          "name": "stdout",
          "text": [
            "\n",
            "      Epoch    GPU_mem   box_loss   seg_loss   cls_loss   dfl_loss  Instances       Size\n"
          ]
        },
        {
          "output_type": "stream",
          "name": "stderr",
          "text": [
            "    252/300        14G     0.6607     0.7621     0.4272     0.8052         15       1440: 100%|██████████| 4/4 [00:03<00:00,  1.16it/s]\n",
            "                 Class     Images  Instances      Box(P          R      mAP50  mAP50-95)     Mask(P          R      mAP50  mAP50-95): 100%|██████████| 1/1 [00:00<00:00,  2.08it/s]"
          ]
        },
        {
          "output_type": "stream",
          "name": "stdout",
          "text": [
            "                   all         15         30      0.995          1      0.995      0.784      0.995          1      0.995      0.644\n"
          ]
        },
        {
          "output_type": "stream",
          "name": "stderr",
          "text": [
            "\n"
          ]
        },
        {
          "output_type": "stream",
          "name": "stdout",
          "text": [
            "\n",
            "      Epoch    GPU_mem   box_loss   seg_loss   cls_loss   dfl_loss  Instances       Size\n"
          ]
        },
        {
          "output_type": "stream",
          "name": "stderr",
          "text": [
            "    253/300      13.9G     0.6368     0.7004      0.425     0.8046         14       1440: 100%|██████████| 4/4 [00:03<00:00,  1.18it/s]\n",
            "                 Class     Images  Instances      Box(P          R      mAP50  mAP50-95)     Mask(P          R      mAP50  mAP50-95): 100%|██████████| 1/1 [00:00<00:00,  1.50it/s]"
          ]
        },
        {
          "output_type": "stream",
          "name": "stdout",
          "text": [
            "                   all         15         30      0.995          1      0.995      0.787      0.995          1      0.995       0.66\n"
          ]
        },
        {
          "output_type": "stream",
          "name": "stderr",
          "text": [
            "\n"
          ]
        },
        {
          "output_type": "stream",
          "name": "stdout",
          "text": [
            "\n",
            "      Epoch    GPU_mem   box_loss   seg_loss   cls_loss   dfl_loss  Instances       Size\n"
          ]
        },
        {
          "output_type": "stream",
          "name": "stderr",
          "text": [
            "    254/300      13.9G     0.6142     0.6844     0.4306     0.8022         15       1440: 100%|██████████| 4/4 [00:03<00:00,  1.19it/s]\n",
            "                 Class     Images  Instances      Box(P          R      mAP50  mAP50-95)     Mask(P          R      mAP50  mAP50-95): 100%|██████████| 1/1 [00:00<00:00,  1.90it/s]"
          ]
        },
        {
          "output_type": "stream",
          "name": "stdout",
          "text": [
            "                   all         15         30      0.996          1      0.995      0.793      0.996          1      0.995      0.641\n"
          ]
        },
        {
          "output_type": "stream",
          "name": "stderr",
          "text": [
            "\n"
          ]
        },
        {
          "output_type": "stream",
          "name": "stdout",
          "text": [
            "\n",
            "      Epoch    GPU_mem   box_loss   seg_loss   cls_loss   dfl_loss  Instances       Size\n"
          ]
        },
        {
          "output_type": "stream",
          "name": "stderr",
          "text": [
            "    255/300        14G     0.6513     0.6469     0.4242     0.7814         20       1440: 100%|██████████| 4/4 [00:03<00:00,  1.24it/s]\n",
            "                 Class     Images  Instances      Box(P          R      mAP50  mAP50-95)     Mask(P          R      mAP50  mAP50-95): 100%|██████████| 1/1 [00:00<00:00,  2.61it/s]"
          ]
        },
        {
          "output_type": "stream",
          "name": "stdout",
          "text": [
            "                   all         15         30      0.996          1      0.995      0.804      0.996          1      0.995      0.595\n"
          ]
        },
        {
          "output_type": "stream",
          "name": "stderr",
          "text": [
            "\n"
          ]
        },
        {
          "output_type": "stream",
          "name": "stdout",
          "text": [
            "\n",
            "      Epoch    GPU_mem   box_loss   seg_loss   cls_loss   dfl_loss  Instances       Size\n"
          ]
        },
        {
          "output_type": "stream",
          "name": "stderr",
          "text": [
            "    256/300        14G     0.6226     0.7565     0.4301     0.7819          8       1440: 100%|██████████| 4/4 [00:03<00:00,  1.08it/s]\n",
            "                 Class     Images  Instances      Box(P          R      mAP50  mAP50-95)     Mask(P          R      mAP50  mAP50-95): 100%|██████████| 1/1 [00:00<00:00,  3.53it/s]"
          ]
        },
        {
          "output_type": "stream",
          "name": "stdout",
          "text": [
            "                   all         15         30      0.997          1      0.995       0.81      0.997          1      0.995      0.584\n"
          ]
        },
        {
          "output_type": "stream",
          "name": "stderr",
          "text": [
            "\n"
          ]
        },
        {
          "output_type": "stream",
          "name": "stdout",
          "text": [
            "\n",
            "      Epoch    GPU_mem   box_loss   seg_loss   cls_loss   dfl_loss  Instances       Size\n"
          ]
        },
        {
          "output_type": "stream",
          "name": "stderr",
          "text": [
            "    257/300      13.9G     0.5967     0.5684     0.3992     0.8008         14       1440: 100%|██████████| 4/4 [00:03<00:00,  1.17it/s]\n",
            "                 Class     Images  Instances      Box(P          R      mAP50  mAP50-95)     Mask(P          R      mAP50  mAP50-95): 100%|██████████| 1/1 [00:00<00:00,  2.22it/s]"
          ]
        },
        {
          "output_type": "stream",
          "name": "stdout",
          "text": [
            "                   all         15         30      0.997          1      0.995      0.794      0.997          1      0.995      0.605\n"
          ]
        },
        {
          "output_type": "stream",
          "name": "stderr",
          "text": [
            "\n"
          ]
        },
        {
          "output_type": "stream",
          "name": "stdout",
          "text": [
            "\n",
            "      Epoch    GPU_mem   box_loss   seg_loss   cls_loss   dfl_loss  Instances       Size\n"
          ]
        },
        {
          "output_type": "stream",
          "name": "stderr",
          "text": [
            "    258/300      13.9G     0.6199     0.7221     0.4138     0.7963         18       1440: 100%|██████████| 4/4 [00:03<00:00,  1.12it/s]\n",
            "                 Class     Images  Instances      Box(P          R      mAP50  mAP50-95)     Mask(P          R      mAP50  mAP50-95): 100%|██████████| 1/1 [00:00<00:00,  1.43it/s]"
          ]
        },
        {
          "output_type": "stream",
          "name": "stdout",
          "text": [
            "                   all         15         30      0.997          1      0.995      0.795      0.997          1      0.995      0.615\n"
          ]
        },
        {
          "output_type": "stream",
          "name": "stderr",
          "text": [
            "\n"
          ]
        },
        {
          "output_type": "stream",
          "name": "stdout",
          "text": [
            "\n",
            "      Epoch    GPU_mem   box_loss   seg_loss   cls_loss   dfl_loss  Instances       Size\n"
          ]
        },
        {
          "output_type": "stream",
          "name": "stderr",
          "text": [
            "    259/300      13.8G     0.6644     0.7756      0.422     0.7856         14       1440: 100%|██████████| 4/4 [00:03<00:00,  1.18it/s]\n",
            "                 Class     Images  Instances      Box(P          R      mAP50  mAP50-95)     Mask(P          R      mAP50  mAP50-95): 100%|██████████| 1/1 [00:00<00:00,  2.09it/s]"
          ]
        },
        {
          "output_type": "stream",
          "name": "stdout",
          "text": [
            "                   all         15         30      0.996          1      0.995      0.783      0.996          1      0.995      0.679\n"
          ]
        },
        {
          "output_type": "stream",
          "name": "stderr",
          "text": [
            "\n"
          ]
        },
        {
          "output_type": "stream",
          "name": "stdout",
          "text": [
            "\n",
            "      Epoch    GPU_mem   box_loss   seg_loss   cls_loss   dfl_loss  Instances       Size\n"
          ]
        },
        {
          "output_type": "stream",
          "name": "stderr",
          "text": [
            "    260/300      13.9G     0.6377     0.7206     0.4266     0.7957         16       1440: 100%|██████████| 4/4 [00:03<00:00,  1.23it/s]\n",
            "                 Class     Images  Instances      Box(P          R      mAP50  mAP50-95)     Mask(P          R      mAP50  mAP50-95): 100%|██████████| 1/1 [00:00<00:00,  2.51it/s]"
          ]
        },
        {
          "output_type": "stream",
          "name": "stdout",
          "text": [
            "                   all         15         30      0.996          1      0.995       0.79      0.996          1      0.995      0.679\n"
          ]
        },
        {
          "output_type": "stream",
          "name": "stderr",
          "text": [
            "\n"
          ]
        },
        {
          "output_type": "stream",
          "name": "stdout",
          "text": [
            "\n",
            "      Epoch    GPU_mem   box_loss   seg_loss   cls_loss   dfl_loss  Instances       Size\n"
          ]
        },
        {
          "output_type": "stream",
          "name": "stderr",
          "text": [
            "    261/300      13.9G     0.6709     0.6451      0.408     0.8248         20       1440: 100%|██████████| 4/4 [00:03<00:00,  1.14it/s]\n",
            "                 Class     Images  Instances      Box(P          R      mAP50  mAP50-95)     Mask(P          R      mAP50  mAP50-95): 100%|██████████| 1/1 [00:00<00:00,  1.88it/s]"
          ]
        },
        {
          "output_type": "stream",
          "name": "stdout",
          "text": [
            "                   all         15         30      0.996          1      0.995      0.781      0.996          1      0.995      0.679\n"
          ]
        },
        {
          "output_type": "stream",
          "name": "stderr",
          "text": [
            "\n"
          ]
        },
        {
          "output_type": "stream",
          "name": "stdout",
          "text": [
            "\n",
            "      Epoch    GPU_mem   box_loss   seg_loss   cls_loss   dfl_loss  Instances       Size\n"
          ]
        },
        {
          "output_type": "stream",
          "name": "stderr",
          "text": [
            "    262/300      13.9G     0.6304     0.7191     0.4019     0.8028         14       1440: 100%|██████████| 4/4 [00:03<00:00,  1.12it/s]\n",
            "                 Class     Images  Instances      Box(P          R      mAP50  mAP50-95)     Mask(P          R      mAP50  mAP50-95): 100%|██████████| 1/1 [00:00<00:00,  2.49it/s]"
          ]
        },
        {
          "output_type": "stream",
          "name": "stdout",
          "text": [
            "                   all         15         30      0.996          1      0.995      0.791      0.996          1      0.995      0.656\n"
          ]
        },
        {
          "output_type": "stream",
          "name": "stderr",
          "text": [
            "\n"
          ]
        },
        {
          "output_type": "stream",
          "name": "stdout",
          "text": [
            "\n",
            "      Epoch    GPU_mem   box_loss   seg_loss   cls_loss   dfl_loss  Instances       Size\n"
          ]
        },
        {
          "output_type": "stream",
          "name": "stderr",
          "text": [
            "    263/300      13.7G     0.6273     0.6801     0.4236      0.796         10       1440: 100%|██████████| 4/4 [00:03<00:00,  1.20it/s]\n",
            "                 Class     Images  Instances      Box(P          R      mAP50  mAP50-95)     Mask(P          R      mAP50  mAP50-95): 100%|██████████| 1/1 [00:00<00:00,  1.47it/s]"
          ]
        },
        {
          "output_type": "stream",
          "name": "stdout",
          "text": [
            "                   all         15         30      0.996          1      0.995      0.798      0.996          1      0.995      0.649\n"
          ]
        },
        {
          "output_type": "stream",
          "name": "stderr",
          "text": [
            "\n"
          ]
        },
        {
          "output_type": "stream",
          "name": "stdout",
          "text": [
            "\n",
            "      Epoch    GPU_mem   box_loss   seg_loss   cls_loss   dfl_loss  Instances       Size\n"
          ]
        },
        {
          "output_type": "stream",
          "name": "stderr",
          "text": [
            "    264/300      13.9G     0.6148     0.6296     0.4105     0.7843         19       1440: 100%|██████████| 4/4 [00:03<00:00,  1.08it/s]\n",
            "                 Class     Images  Instances      Box(P          R      mAP50  mAP50-95)     Mask(P          R      mAP50  mAP50-95): 100%|██████████| 1/1 [00:00<00:00,  2.70it/s]"
          ]
        },
        {
          "output_type": "stream",
          "name": "stdout",
          "text": [
            "                   all         15         30      0.995          1      0.995      0.799      0.995          1      0.995      0.627\n"
          ]
        },
        {
          "output_type": "stream",
          "name": "stderr",
          "text": [
            "\n"
          ]
        },
        {
          "output_type": "stream",
          "name": "stdout",
          "text": [
            "\n",
            "      Epoch    GPU_mem   box_loss   seg_loss   cls_loss   dfl_loss  Instances       Size\n"
          ]
        },
        {
          "output_type": "stream",
          "name": "stderr",
          "text": [
            "    265/300      13.8G     0.6301      0.688     0.4109     0.7958         17       1440: 100%|██████████| 4/4 [00:03<00:00,  1.22it/s]\n",
            "                 Class     Images  Instances      Box(P          R      mAP50  mAP50-95)     Mask(P          R      mAP50  mAP50-95): 100%|██████████| 1/1 [00:00<00:00,  2.82it/s]"
          ]
        },
        {
          "output_type": "stream",
          "name": "stdout",
          "text": [
            "                   all         15         30      0.995          1      0.995      0.797      0.995          1      0.995      0.632\n"
          ]
        },
        {
          "output_type": "stream",
          "name": "stderr",
          "text": [
            "\n"
          ]
        },
        {
          "output_type": "stream",
          "name": "stdout",
          "text": [
            "\n",
            "      Epoch    GPU_mem   box_loss   seg_loss   cls_loss   dfl_loss  Instances       Size\n"
          ]
        },
        {
          "output_type": "stream",
          "name": "stderr",
          "text": [
            "    266/300      13.8G     0.5953      0.715     0.4059     0.7711         10       1440: 100%|██████████| 4/4 [00:04<00:00,  1.05s/it]\n",
            "                 Class     Images  Instances      Box(P          R      mAP50  mAP50-95)     Mask(P          R      mAP50  mAP50-95): 100%|██████████| 1/1 [00:00<00:00,  1.70it/s]"
          ]
        },
        {
          "output_type": "stream",
          "name": "stdout",
          "text": [
            "                   all         15         30      0.996          1      0.995      0.781      0.996          1      0.995      0.655\n"
          ]
        },
        {
          "output_type": "stream",
          "name": "stderr",
          "text": [
            "\n"
          ]
        },
        {
          "output_type": "stream",
          "name": "stdout",
          "text": [
            "\n",
            "      Epoch    GPU_mem   box_loss   seg_loss   cls_loss   dfl_loss  Instances       Size\n"
          ]
        },
        {
          "output_type": "stream",
          "name": "stderr",
          "text": [
            "    267/300      13.9G      0.623      0.696     0.4116     0.7825         15       1440: 100%|██████████| 4/4 [00:03<00:00,  1.22it/s]\n",
            "                 Class     Images  Instances      Box(P          R      mAP50  mAP50-95)     Mask(P          R      mAP50  mAP50-95): 100%|██████████| 1/1 [00:00<00:00,  1.78it/s]"
          ]
        },
        {
          "output_type": "stream",
          "name": "stdout",
          "text": [
            "                   all         15         30      0.997          1      0.995      0.772      0.997          1      0.995       0.65\n"
          ]
        },
        {
          "output_type": "stream",
          "name": "stderr",
          "text": [
            "\n"
          ]
        },
        {
          "output_type": "stream",
          "name": "stdout",
          "text": [
            "\n",
            "      Epoch    GPU_mem   box_loss   seg_loss   cls_loss   dfl_loss  Instances       Size\n"
          ]
        },
        {
          "output_type": "stream",
          "name": "stderr",
          "text": [
            "    268/300        14G     0.6341     0.7583     0.4072     0.7992         15       1440: 100%|██████████| 4/4 [00:03<00:00,  1.23it/s]\n",
            "                 Class     Images  Instances      Box(P          R      mAP50  mAP50-95)     Mask(P          R      mAP50  mAP50-95): 100%|██████████| 1/1 [00:00<00:00,  2.20it/s]"
          ]
        },
        {
          "output_type": "stream",
          "name": "stdout",
          "text": [
            "                   all         15         30      0.997          1      0.995      0.755      0.997          1      0.995      0.637\n"
          ]
        },
        {
          "output_type": "stream",
          "name": "stderr",
          "text": [
            "\n"
          ]
        },
        {
          "output_type": "stream",
          "name": "stdout",
          "text": [
            "\n",
            "      Epoch    GPU_mem   box_loss   seg_loss   cls_loss   dfl_loss  Instances       Size\n"
          ]
        },
        {
          "output_type": "stream",
          "name": "stderr",
          "text": [
            "    269/300        14G     0.5797     0.7042     0.4042     0.7911         13       1440: 100%|██████████| 4/4 [00:03<00:00,  1.09it/s]\n",
            "                 Class     Images  Instances      Box(P          R      mAP50  mAP50-95)     Mask(P          R      mAP50  mAP50-95): 100%|██████████| 1/1 [00:00<00:00,  2.17it/s]"
          ]
        },
        {
          "output_type": "stream",
          "name": "stdout",
          "text": [
            "                   all         15         30      0.997          1      0.995      0.757      0.997          1      0.995      0.639\n"
          ]
        },
        {
          "output_type": "stream",
          "name": "stderr",
          "text": [
            "\n"
          ]
        },
        {
          "output_type": "stream",
          "name": "stdout",
          "text": [
            "\n",
            "      Epoch    GPU_mem   box_loss   seg_loss   cls_loss   dfl_loss  Instances       Size\n"
          ]
        },
        {
          "output_type": "stream",
          "name": "stderr",
          "text": [
            "    270/300        14G     0.6125     0.6593     0.4426     0.7677         14       1440: 100%|██████████| 4/4 [00:03<00:00,  1.22it/s]\n",
            "                 Class     Images  Instances      Box(P          R      mAP50  mAP50-95)     Mask(P          R      mAP50  mAP50-95): 100%|██████████| 1/1 [00:00<00:00,  2.06it/s]"
          ]
        },
        {
          "output_type": "stream",
          "name": "stdout",
          "text": [
            "                   all         15         30      0.996          1      0.995      0.773      0.996          1      0.995      0.636\n"
          ]
        },
        {
          "output_type": "stream",
          "name": "stderr",
          "text": [
            "\n"
          ]
        },
        {
          "output_type": "stream",
          "name": "stdout",
          "text": [
            "\n",
            "      Epoch    GPU_mem   box_loss   seg_loss   cls_loss   dfl_loss  Instances       Size\n"
          ]
        },
        {
          "output_type": "stream",
          "name": "stderr",
          "text": [
            "    271/300        14G     0.6254     0.6887     0.4254     0.7781         16       1440: 100%|██████████| 4/4 [00:03<00:00,  1.08it/s]\n",
            "                 Class     Images  Instances      Box(P          R      mAP50  mAP50-95)     Mask(P          R      mAP50  mAP50-95): 100%|██████████| 1/1 [00:00<00:00,  1.90it/s]"
          ]
        },
        {
          "output_type": "stream",
          "name": "stdout",
          "text": [
            "                   all         15         30      0.996          1      0.995      0.767      0.996          1      0.995      0.639\n"
          ]
        },
        {
          "output_type": "stream",
          "name": "stderr",
          "text": [
            "\n"
          ]
        },
        {
          "output_type": "stream",
          "name": "stdout",
          "text": [
            "\n",
            "      Epoch    GPU_mem   box_loss   seg_loss   cls_loss   dfl_loss  Instances       Size\n"
          ]
        },
        {
          "output_type": "stream",
          "name": "stderr",
          "text": [
            "    272/300      14.2G     0.6088      0.806     0.4123     0.7811         21       1440: 100%|██████████| 4/4 [00:03<00:00,  1.18it/s]\n",
            "                 Class     Images  Instances      Box(P          R      mAP50  mAP50-95)     Mask(P          R      mAP50  mAP50-95): 100%|██████████| 1/1 [00:00<00:00,  2.15it/s]"
          ]
        },
        {
          "output_type": "stream",
          "name": "stdout",
          "text": [
            "                   all         15         30      0.996          1      0.995      0.782      0.996          1      0.995      0.641\n"
          ]
        },
        {
          "output_type": "stream",
          "name": "stderr",
          "text": [
            "\n"
          ]
        },
        {
          "output_type": "stream",
          "name": "stdout",
          "text": [
            "\n",
            "      Epoch    GPU_mem   box_loss   seg_loss   cls_loss   dfl_loss  Instances       Size\n"
          ]
        },
        {
          "output_type": "stream",
          "name": "stderr",
          "text": [
            "    273/300      13.8G     0.5968     0.7164     0.3849     0.7967         22       1440: 100%|██████████| 4/4 [00:03<00:00,  1.22it/s]\n",
            "                 Class     Images  Instances      Box(P          R      mAP50  mAP50-95)     Mask(P          R      mAP50  mAP50-95): 100%|██████████| 1/1 [00:00<00:00,  1.57it/s]"
          ]
        },
        {
          "output_type": "stream",
          "name": "stdout",
          "text": [
            "                   all         15         30      0.996          1      0.995      0.786      0.996          1      0.995      0.636\n"
          ]
        },
        {
          "output_type": "stream",
          "name": "stderr",
          "text": [
            "\n"
          ]
        },
        {
          "output_type": "stream",
          "name": "stdout",
          "text": [
            "\n",
            "      Epoch    GPU_mem   box_loss   seg_loss   cls_loss   dfl_loss  Instances       Size\n"
          ]
        },
        {
          "output_type": "stream",
          "name": "stderr",
          "text": [
            "    274/300        14G     0.6842     0.6252     0.4588      0.786         10       1440: 100%|██████████| 4/4 [00:03<00:00,  1.19it/s]\n",
            "                 Class     Images  Instances      Box(P          R      mAP50  mAP50-95)     Mask(P          R      mAP50  mAP50-95): 100%|██████████| 1/1 [00:00<00:00,  2.27it/s]"
          ]
        },
        {
          "output_type": "stream",
          "name": "stdout",
          "text": [
            "                   all         15         30      0.996          1      0.995      0.785      0.996          1      0.995      0.638\n"
          ]
        },
        {
          "output_type": "stream",
          "name": "stderr",
          "text": [
            "\n"
          ]
        },
        {
          "output_type": "stream",
          "name": "stdout",
          "text": [
            "\n",
            "      Epoch    GPU_mem   box_loss   seg_loss   cls_loss   dfl_loss  Instances       Size\n"
          ]
        },
        {
          "output_type": "stream",
          "name": "stderr",
          "text": [
            "    275/300      13.9G     0.5855     0.6663     0.4068     0.7809         15       1440: 100%|██████████| 4/4 [00:03<00:00,  1.20it/s]\n",
            "                 Class     Images  Instances      Box(P          R      mAP50  mAP50-95)     Mask(P          R      mAP50  mAP50-95): 100%|██████████| 1/1 [00:00<00:00,  2.55it/s]"
          ]
        },
        {
          "output_type": "stream",
          "name": "stdout",
          "text": [
            "                   all         15         30      0.996          1      0.995      0.786      0.996          1      0.995      0.636\n"
          ]
        },
        {
          "output_type": "stream",
          "name": "stderr",
          "text": [
            "\n"
          ]
        },
        {
          "output_type": "stream",
          "name": "stdout",
          "text": [
            "\n",
            "      Epoch    GPU_mem   box_loss   seg_loss   cls_loss   dfl_loss  Instances       Size\n"
          ]
        },
        {
          "output_type": "stream",
          "name": "stderr",
          "text": [
            "    276/300      14.1G     0.6312     0.6585     0.4218     0.7706         25       1440: 100%|██████████| 4/4 [00:03<00:00,  1.11it/s]\n",
            "                 Class     Images  Instances      Box(P          R      mAP50  mAP50-95)     Mask(P          R      mAP50  mAP50-95): 100%|██████████| 1/1 [00:00<00:00,  1.71it/s]"
          ]
        },
        {
          "output_type": "stream",
          "name": "stdout",
          "text": [
            "                   all         15         30      0.996          1      0.995      0.772      0.996          1      0.995      0.688\n"
          ]
        },
        {
          "output_type": "stream",
          "name": "stderr",
          "text": [
            "\n"
          ]
        },
        {
          "output_type": "stream",
          "name": "stdout",
          "text": [
            "\n",
            "      Epoch    GPU_mem   box_loss   seg_loss   cls_loss   dfl_loss  Instances       Size\n"
          ]
        },
        {
          "output_type": "stream",
          "name": "stderr",
          "text": [
            "    277/300      13.8G     0.5637     0.6087     0.3861     0.7902         14       1440: 100%|██████████| 4/4 [00:03<00:00,  1.24it/s]\n",
            "                 Class     Images  Instances      Box(P          R      mAP50  mAP50-95)     Mask(P          R      mAP50  mAP50-95): 100%|██████████| 1/1 [00:00<00:00,  2.68it/s]"
          ]
        },
        {
          "output_type": "stream",
          "name": "stdout",
          "text": [
            "                   all         15         30      0.996          1      0.995      0.772      0.996          1      0.995      0.689\n"
          ]
        },
        {
          "output_type": "stream",
          "name": "stderr",
          "text": [
            "\n"
          ]
        },
        {
          "output_type": "stream",
          "name": "stdout",
          "text": [
            "\n",
            "      Epoch    GPU_mem   box_loss   seg_loss   cls_loss   dfl_loss  Instances       Size\n"
          ]
        },
        {
          "output_type": "stream",
          "name": "stderr",
          "text": [
            "    278/300      13.8G     0.6468     0.6937     0.4103     0.7859         16       1440: 100%|██████████| 4/4 [00:03<00:00,  1.20it/s]\n",
            "                 Class     Images  Instances      Box(P          R      mAP50  mAP50-95)     Mask(P          R      mAP50  mAP50-95): 100%|██████████| 1/1 [00:00<00:00,  1.83it/s]"
          ]
        },
        {
          "output_type": "stream",
          "name": "stdout",
          "text": [
            "                   all         15         30      0.996          1      0.995      0.772      0.996          1      0.995      0.693\n"
          ]
        },
        {
          "output_type": "stream",
          "name": "stderr",
          "text": [
            "\n"
          ]
        },
        {
          "output_type": "stream",
          "name": "stdout",
          "text": [
            "\n",
            "      Epoch    GPU_mem   box_loss   seg_loss   cls_loss   dfl_loss  Instances       Size\n"
          ]
        },
        {
          "output_type": "stream",
          "name": "stderr",
          "text": [
            "    279/300      14.1G      0.604     0.6604     0.4011     0.8097         18       1440: 100%|██████████| 4/4 [00:04<00:00,  1.05s/it]\n",
            "                 Class     Images  Instances      Box(P          R      mAP50  mAP50-95)     Mask(P          R      mAP50  mAP50-95): 100%|██████████| 1/1 [00:00<00:00,  3.25it/s]"
          ]
        },
        {
          "output_type": "stream",
          "name": "stdout",
          "text": [
            "                   all         15         30      0.996          1      0.995      0.781      0.996          1      0.995       0.67\n"
          ]
        },
        {
          "output_type": "stream",
          "name": "stderr",
          "text": [
            "\n"
          ]
        },
        {
          "output_type": "stream",
          "name": "stdout",
          "text": [
            "\n",
            "      Epoch    GPU_mem   box_loss   seg_loss   cls_loss   dfl_loss  Instances       Size\n"
          ]
        },
        {
          "output_type": "stream",
          "name": "stderr",
          "text": [
            "    280/300        14G     0.5936     0.6916     0.4059     0.7894         24       1440: 100%|██████████| 4/4 [00:03<00:00,  1.18it/s]\n",
            "                 Class     Images  Instances      Box(P          R      mAP50  mAP50-95)     Mask(P          R      mAP50  mAP50-95): 100%|██████████| 1/1 [00:00<00:00,  2.54it/s]"
          ]
        },
        {
          "output_type": "stream",
          "name": "stdout",
          "text": [
            "                   all         15         30      0.996          1      0.995      0.787      0.996          1      0.995      0.663\n"
          ]
        },
        {
          "output_type": "stream",
          "name": "stderr",
          "text": [
            "\n"
          ]
        },
        {
          "output_type": "stream",
          "name": "stdout",
          "text": [
            "\n",
            "      Epoch    GPU_mem   box_loss   seg_loss   cls_loss   dfl_loss  Instances       Size\n"
          ]
        },
        {
          "output_type": "stream",
          "name": "stderr",
          "text": [
            "    281/300        14G     0.5997     0.7172     0.4092     0.7892         18       1440: 100%|██████████| 4/4 [00:03<00:00,  1.12it/s]\n",
            "                 Class     Images  Instances      Box(P          R      mAP50  mAP50-95)     Mask(P          R      mAP50  mAP50-95): 100%|██████████| 1/1 [00:00<00:00,  1.69it/s]"
          ]
        },
        {
          "output_type": "stream",
          "name": "stdout",
          "text": [
            "                   all         15         30      0.996          1      0.995      0.786      0.996          1      0.995       0.65\n"
          ]
        },
        {
          "output_type": "stream",
          "name": "stderr",
          "text": [
            "\n"
          ]
        },
        {
          "output_type": "stream",
          "name": "stdout",
          "text": [
            "\n",
            "      Epoch    GPU_mem   box_loss   seg_loss   cls_loss   dfl_loss  Instances       Size\n"
          ]
        },
        {
          "output_type": "stream",
          "name": "stderr",
          "text": [
            "    282/300      14.1G     0.5733     0.6507     0.3924     0.7913         18       1440: 100%|██████████| 4/4 [00:03<00:00,  1.20it/s]\n",
            "                 Class     Images  Instances      Box(P          R      mAP50  mAP50-95)     Mask(P          R      mAP50  mAP50-95): 100%|██████████| 1/1 [00:00<00:00,  1.95it/s]"
          ]
        },
        {
          "output_type": "stream",
          "name": "stdout",
          "text": [
            "                   all         15         30      0.996          1      0.995      0.784      0.996          1      0.995      0.657\n"
          ]
        },
        {
          "output_type": "stream",
          "name": "stderr",
          "text": [
            "\n"
          ]
        },
        {
          "output_type": "stream",
          "name": "stdout",
          "text": [
            "\n",
            "      Epoch    GPU_mem   box_loss   seg_loss   cls_loss   dfl_loss  Instances       Size\n"
          ]
        },
        {
          "output_type": "stream",
          "name": "stderr",
          "text": [
            "    283/300      13.9G     0.6789     0.6289     0.4086     0.7973         19       1440: 100%|██████████| 4/4 [00:03<00:00,  1.22it/s]\n",
            "                 Class     Images  Instances      Box(P          R      mAP50  mAP50-95)     Mask(P          R      mAP50  mAP50-95): 100%|██████████| 1/1 [00:00<00:00,  1.93it/s]"
          ]
        },
        {
          "output_type": "stream",
          "name": "stdout",
          "text": [
            "                   all         15         30      0.996          1      0.995      0.775      0.996          1      0.995      0.653\n"
          ]
        },
        {
          "output_type": "stream",
          "name": "stderr",
          "text": [
            "\n"
          ]
        },
        {
          "output_type": "stream",
          "name": "stdout",
          "text": [
            "\n",
            "      Epoch    GPU_mem   box_loss   seg_loss   cls_loss   dfl_loss  Instances       Size\n"
          ]
        },
        {
          "output_type": "stream",
          "name": "stderr",
          "text": [
            "    284/300      14.2G     0.5864     0.5772     0.3881     0.7711         22       1440: 100%|██████████| 4/4 [00:04<00:00,  1.05s/it]\n",
            "                 Class     Images  Instances      Box(P          R      mAP50  mAP50-95)     Mask(P          R      mAP50  mAP50-95): 100%|██████████| 1/1 [00:00<00:00,  2.73it/s]"
          ]
        },
        {
          "output_type": "stream",
          "name": "stdout",
          "text": [
            "                   all         15         30      0.996          1      0.995      0.778      0.996          1      0.995      0.652\n"
          ]
        },
        {
          "output_type": "stream",
          "name": "stderr",
          "text": [
            "\n"
          ]
        },
        {
          "output_type": "stream",
          "name": "stdout",
          "text": [
            "\n",
            "      Epoch    GPU_mem   box_loss   seg_loss   cls_loss   dfl_loss  Instances       Size\n"
          ]
        },
        {
          "output_type": "stream",
          "name": "stderr",
          "text": [
            "    285/300      14.3G     0.6001     0.6343     0.4277     0.7661          8       1440: 100%|██████████| 4/4 [00:03<00:00,  1.22it/s]\n",
            "                 Class     Images  Instances      Box(P          R      mAP50  mAP50-95)     Mask(P          R      mAP50  mAP50-95): 100%|██████████| 1/1 [00:00<00:00,  1.02it/s]"
          ]
        },
        {
          "output_type": "stream",
          "name": "stdout",
          "text": [
            "                   all         15         30      0.996          1      0.995      0.781      0.996          1      0.995      0.655\n"
          ]
        },
        {
          "output_type": "stream",
          "name": "stderr",
          "text": [
            "\n"
          ]
        },
        {
          "output_type": "stream",
          "name": "stdout",
          "text": [
            "\n",
            "      Epoch    GPU_mem   box_loss   seg_loss   cls_loss   dfl_loss  Instances       Size\n"
          ]
        },
        {
          "output_type": "stream",
          "name": "stderr",
          "text": [
            "    286/300      13.7G     0.5587     0.6919     0.3964     0.7539         21       1440: 100%|██████████| 4/4 [00:03<00:00,  1.16it/s]\n",
            "                 Class     Images  Instances      Box(P          R      mAP50  mAP50-95)     Mask(P          R      mAP50  mAP50-95): 100%|██████████| 1/1 [00:00<00:00,  2.09it/s]"
          ]
        },
        {
          "output_type": "stream",
          "name": "stdout",
          "text": [
            "                   all         15         30      0.996          1      0.995       0.78      0.996          1      0.995      0.656\n"
          ]
        },
        {
          "output_type": "stream",
          "name": "stderr",
          "text": [
            "\n"
          ]
        },
        {
          "output_type": "stream",
          "name": "stdout",
          "text": [
            "\n",
            "      Epoch    GPU_mem   box_loss   seg_loss   cls_loss   dfl_loss  Instances       Size\n"
          ]
        },
        {
          "output_type": "stream",
          "name": "stderr",
          "text": [
            "    287/300      13.9G     0.5184     0.6487     0.3778     0.7799         12       1440: 100%|██████████| 4/4 [00:03<00:00,  1.22it/s]\n",
            "                 Class     Images  Instances      Box(P          R      mAP50  mAP50-95)     Mask(P          R      mAP50  mAP50-95): 100%|██████████| 1/1 [00:00<00:00,  1.97it/s]"
          ]
        },
        {
          "output_type": "stream",
          "name": "stdout",
          "text": [
            "                   all         15         30      0.996          1      0.995      0.776      0.996          1      0.995       0.66\n"
          ]
        },
        {
          "output_type": "stream",
          "name": "stderr",
          "text": [
            "\n"
          ]
        },
        {
          "output_type": "stream",
          "name": "stdout",
          "text": [
            "\n",
            "      Epoch    GPU_mem   box_loss   seg_loss   cls_loss   dfl_loss  Instances       Size\n"
          ]
        },
        {
          "output_type": "stream",
          "name": "stderr",
          "text": [
            "    288/300      13.8G     0.6009     0.6688     0.3996     0.7764         15       1440: 100%|██████████| 4/4 [00:03<00:00,  1.17it/s]\n",
            "                 Class     Images  Instances      Box(P          R      mAP50  mAP50-95)     Mask(P          R      mAP50  mAP50-95): 100%|██████████| 1/1 [00:00<00:00,  2.02it/s]"
          ]
        },
        {
          "output_type": "stream",
          "name": "stdout",
          "text": [
            "                   all         15         30      0.995          1      0.995      0.778      0.995          1      0.995      0.661\n"
          ]
        },
        {
          "output_type": "stream",
          "name": "stderr",
          "text": [
            "\n"
          ]
        },
        {
          "output_type": "stream",
          "name": "stdout",
          "text": [
            "\n",
            "      Epoch    GPU_mem   box_loss   seg_loss   cls_loss   dfl_loss  Instances       Size\n"
          ]
        },
        {
          "output_type": "stream",
          "name": "stderr",
          "text": [
            "    289/300      13.9G      0.594     0.7074     0.4092     0.7941          7       1440: 100%|██████████| 4/4 [00:03<00:00,  1.15it/s]\n",
            "                 Class     Images  Instances      Box(P          R      mAP50  mAP50-95)     Mask(P          R      mAP50  mAP50-95): 100%|██████████| 1/1 [00:00<00:00,  2.54it/s]"
          ]
        },
        {
          "output_type": "stream",
          "name": "stdout",
          "text": [
            "                   all         15         30      0.995          1      0.995      0.778      0.995          1      0.995      0.653\n"
          ]
        },
        {
          "output_type": "stream",
          "name": "stderr",
          "text": [
            "\n"
          ]
        },
        {
          "output_type": "stream",
          "name": "stdout",
          "text": [
            "\n",
            "      Epoch    GPU_mem   box_loss   seg_loss   cls_loss   dfl_loss  Instances       Size\n"
          ]
        },
        {
          "output_type": "stream",
          "name": "stderr",
          "text": [
            "    290/300      13.9G     0.6393     0.7006     0.4096     0.7894         10       1440: 100%|██████████| 4/4 [00:03<00:00,  1.21it/s]\n",
            "                 Class     Images  Instances      Box(P          R      mAP50  mAP50-95)     Mask(P          R      mAP50  mAP50-95): 100%|██████████| 1/1 [00:00<00:00,  2.35it/s]"
          ]
        },
        {
          "output_type": "stream",
          "name": "stdout",
          "text": [
            "                   all         15         30      0.995          1      0.995      0.779      0.995          1      0.995      0.657\n"
          ]
        },
        {
          "output_type": "stream",
          "name": "stderr",
          "text": [
            "\n"
          ]
        },
        {
          "output_type": "stream",
          "name": "stdout",
          "text": [
            "Closing dataloader mosaic\n",
            "\u001b[34m\u001b[1malbumentations: \u001b[0mBlur(p=0.01, blur_limit=(3, 7)), MedianBlur(p=0.01, blur_limit=(3, 7)), ToGray(p=0.01), CLAHE(p=0.01, clip_limit=(1, 4.0), tile_grid_size=(8, 8))\n"
          ]
        },
        {
          "output_type": "stream",
          "name": "stderr",
          "text": [
            "os.fork() was called. os.fork() is incompatible with multithreaded code, and JAX is multithreaded, so this will likely lead to a deadlock.\n",
            "os.fork() was called. os.fork() is incompatible with multithreaded code, and JAX is multithreaded, so this will likely lead to a deadlock.\n"
          ]
        },
        {
          "output_type": "stream",
          "name": "stdout",
          "text": [
            "\n",
            "      Epoch    GPU_mem   box_loss   seg_loss   cls_loss   dfl_loss  Instances       Size\n"
          ]
        },
        {
          "output_type": "stream",
          "name": "stderr",
          "text": [
            "    291/300      13.6G     0.6375     0.6119     0.4735     0.8028          8       1440: 100%|██████████| 4/4 [00:08<00:00,  2.10s/it]\n",
            "                 Class     Images  Instances      Box(P          R      mAP50  mAP50-95)     Mask(P          R      mAP50  mAP50-95): 100%|██████████| 1/1 [00:00<00:00,  1.65it/s]"
          ]
        },
        {
          "output_type": "stream",
          "name": "stdout",
          "text": [
            "                   all         15         30      0.995          1      0.995      0.788      0.995          1      0.995      0.662\n"
          ]
        },
        {
          "output_type": "stream",
          "name": "stderr",
          "text": [
            "\n"
          ]
        },
        {
          "output_type": "stream",
          "name": "stdout",
          "text": [
            "\n",
            "      Epoch    GPU_mem   box_loss   seg_loss   cls_loss   dfl_loss  Instances       Size\n"
          ]
        },
        {
          "output_type": "stream",
          "name": "stderr",
          "text": [
            "    292/300        14G     0.5959     0.7744     0.4478     0.7798          7       1440: 100%|██████████| 4/4 [00:03<00:00,  1.18it/s]\n",
            "                 Class     Images  Instances      Box(P          R      mAP50  mAP50-95)     Mask(P          R      mAP50  mAP50-95): 100%|██████████| 1/1 [00:00<00:00,  1.52it/s]"
          ]
        },
        {
          "output_type": "stream",
          "name": "stdout",
          "text": [
            "                   all         15         30      0.995          1      0.995      0.783      0.995          1      0.995      0.666\n"
          ]
        },
        {
          "output_type": "stream",
          "name": "stderr",
          "text": [
            "\n"
          ]
        },
        {
          "output_type": "stream",
          "name": "stdout",
          "text": [
            "\n",
            "      Epoch    GPU_mem   box_loss   seg_loss   cls_loss   dfl_loss  Instances       Size\n"
          ]
        },
        {
          "output_type": "stream",
          "name": "stderr",
          "text": [
            "    293/300      13.6G      0.579     0.6016     0.4547     0.7848          8       1440: 100%|██████████| 4/4 [00:03<00:00,  1.19it/s]\n",
            "                 Class     Images  Instances      Box(P          R      mAP50  mAP50-95)     Mask(P          R      mAP50  mAP50-95): 100%|██████████| 1/1 [00:00<00:00,  2.38it/s]"
          ]
        },
        {
          "output_type": "stream",
          "name": "stdout",
          "text": [
            "                   all         15         30      0.995          1      0.995      0.788      0.995          1      0.995      0.643\n"
          ]
        },
        {
          "output_type": "stream",
          "name": "stderr",
          "text": [
            "\n"
          ]
        },
        {
          "output_type": "stream",
          "name": "stdout",
          "text": [
            "\n",
            "      Epoch    GPU_mem   box_loss   seg_loss   cls_loss   dfl_loss  Instances       Size\n"
          ]
        },
        {
          "output_type": "stream",
          "name": "stderr",
          "text": [
            "    294/300      13.8G     0.6409     0.7032      0.473     0.7836          8       1440: 100%|██████████| 4/4 [00:03<00:00,  1.24it/s]\n",
            "                 Class     Images  Instances      Box(P          R      mAP50  mAP50-95)     Mask(P          R      mAP50  mAP50-95): 100%|██████████| 1/1 [00:00<00:00,  2.17it/s]"
          ]
        },
        {
          "output_type": "stream",
          "name": "stdout",
          "text": [
            "                   all         15         30      0.995          1      0.995      0.785      0.995          1      0.995      0.648\n"
          ]
        },
        {
          "output_type": "stream",
          "name": "stderr",
          "text": [
            "\n"
          ]
        },
        {
          "output_type": "stream",
          "name": "stdout",
          "text": [
            "\n",
            "      Epoch    GPU_mem   box_loss   seg_loss   cls_loss   dfl_loss  Instances       Size\n"
          ]
        },
        {
          "output_type": "stream",
          "name": "stderr",
          "text": [
            "    295/300      13.7G     0.5168     0.6457     0.4422     0.8008          6       1440: 100%|██████████| 4/4 [00:03<00:00,  1.19it/s]\n",
            "                 Class     Images  Instances      Box(P          R      mAP50  mAP50-95)     Mask(P          R      mAP50  mAP50-95): 100%|██████████| 1/1 [00:00<00:00,  1.45it/s]"
          ]
        },
        {
          "output_type": "stream",
          "name": "stdout",
          "text": [
            "                   all         15         30      0.995          1      0.995       0.79      0.995          1      0.995      0.648\n"
          ]
        },
        {
          "output_type": "stream",
          "name": "stderr",
          "text": [
            "\n"
          ]
        },
        {
          "output_type": "stream",
          "name": "stdout",
          "text": [
            "\n",
            "      Epoch    GPU_mem   box_loss   seg_loss   cls_loss   dfl_loss  Instances       Size\n"
          ]
        },
        {
          "output_type": "stream",
          "name": "stderr",
          "text": [
            "    296/300      13.5G     0.5766     0.6088     0.4472     0.7862          8       1440: 100%|██████████| 4/4 [00:03<00:00,  1.27it/s]\n",
            "                 Class     Images  Instances      Box(P          R      mAP50  mAP50-95)     Mask(P          R      mAP50  mAP50-95): 100%|██████████| 1/1 [00:00<00:00,  1.54it/s]"
          ]
        },
        {
          "output_type": "stream",
          "name": "stdout",
          "text": [
            "                   all         15         30      0.995          1      0.995      0.784      0.995          1      0.995      0.661\n"
          ]
        },
        {
          "output_type": "stream",
          "name": "stderr",
          "text": [
            "\n"
          ]
        },
        {
          "output_type": "stream",
          "name": "stdout",
          "text": [
            "\n",
            "      Epoch    GPU_mem   box_loss   seg_loss   cls_loss   dfl_loss  Instances       Size\n"
          ]
        },
        {
          "output_type": "stream",
          "name": "stderr",
          "text": [
            "    297/300      13.7G     0.5793     0.7017     0.4574     0.7682          7       1440: 100%|██████████| 4/4 [00:03<00:00,  1.19it/s]\n",
            "                 Class     Images  Instances      Box(P          R      mAP50  mAP50-95)     Mask(P          R      mAP50  mAP50-95): 100%|██████████| 1/1 [00:00<00:00,  2.87it/s]"
          ]
        },
        {
          "output_type": "stream",
          "name": "stdout",
          "text": [
            "                   all         15         30      0.995          1      0.995      0.782      0.995          1      0.995      0.663\n"
          ]
        },
        {
          "output_type": "stream",
          "name": "stderr",
          "text": [
            "\n"
          ]
        },
        {
          "output_type": "stream",
          "name": "stdout",
          "text": [
            "\n",
            "      Epoch    GPU_mem   box_loss   seg_loss   cls_loss   dfl_loss  Instances       Size\n"
          ]
        },
        {
          "output_type": "stream",
          "name": "stderr",
          "text": [
            "    298/300      13.5G     0.6023     0.6317     0.4576     0.7743          8       1440: 100%|██████████| 4/4 [00:03<00:00,  1.16it/s]\n",
            "                 Class     Images  Instances      Box(P          R      mAP50  mAP50-95)     Mask(P          R      mAP50  mAP50-95): 100%|██████████| 1/1 [00:00<00:00,  2.42it/s]"
          ]
        },
        {
          "output_type": "stream",
          "name": "stdout",
          "text": [
            "                   all         15         30      0.996          1      0.995      0.781      0.996          1      0.995      0.661\n"
          ]
        },
        {
          "output_type": "stream",
          "name": "stderr",
          "text": [
            "\n"
          ]
        },
        {
          "output_type": "stream",
          "name": "stdout",
          "text": [
            "\n",
            "      Epoch    GPU_mem   box_loss   seg_loss   cls_loss   dfl_loss  Instances       Size\n"
          ]
        },
        {
          "output_type": "stream",
          "name": "stderr",
          "text": [
            "    299/300      13.5G     0.6059     0.7813     0.4404     0.7819          8       1440: 100%|██████████| 4/4 [00:03<00:00,  1.28it/s]\n",
            "                 Class     Images  Instances      Box(P          R      mAP50  mAP50-95)     Mask(P          R      mAP50  mAP50-95): 100%|██████████| 1/1 [00:00<00:00,  2.31it/s]"
          ]
        },
        {
          "output_type": "stream",
          "name": "stdout",
          "text": [
            "                   all         15         30      0.996          1      0.995       0.78      0.996          1      0.995      0.668\n"
          ]
        },
        {
          "output_type": "stream",
          "name": "stderr",
          "text": [
            "\n"
          ]
        },
        {
          "output_type": "stream",
          "name": "stdout",
          "text": [
            "\n",
            "      Epoch    GPU_mem   box_loss   seg_loss   cls_loss   dfl_loss  Instances       Size\n"
          ]
        },
        {
          "output_type": "stream",
          "name": "stderr",
          "text": [
            "    300/300      13.7G     0.6131     0.7389     0.4527     0.8256          8       1440: 100%|██████████| 4/4 [00:03<00:00,  1.23it/s]\n",
            "                 Class     Images  Instances      Box(P          R      mAP50  mAP50-95)     Mask(P          R      mAP50  mAP50-95): 100%|██████████| 1/1 [00:00<00:00,  1.51it/s]"
          ]
        },
        {
          "output_type": "stream",
          "name": "stdout",
          "text": [
            "                   all         15         30      0.996          1      0.995       0.78      0.996          1      0.995      0.664\n",
            "\u001b[34m\u001b[1mEarlyStopping: \u001b[0mTraining stopped early as no improvement observed in last 100 epochs. Best results observed at epoch 200, best model saved as best.pt.\n",
            "To update EarlyStopping(patience=100) pass a new patience value, i.e. `patience=300` or use `patience=0` to disable EarlyStopping.\n"
          ]
        },
        {
          "output_type": "stream",
          "name": "stderr",
          "text": [
            "\n"
          ]
        },
        {
          "output_type": "stream",
          "name": "stdout",
          "text": [
            "\n",
            "300 epochs completed in 0.435 hours.\n",
            "Optimizer stripped from runs/segment/train4/weights/last.pt, 6.8MB\n",
            "Optimizer stripped from runs/segment/train4/weights/best.pt, 6.8MB\n",
            "\n",
            "Validating runs/segment/train4/weights/best.pt...\n",
            "Ultralytics YOLOv8.1.47 🚀 Python-3.10.12 torch-2.2.1+cu121 CUDA:0 (Tesla T4, 15102MiB)\n",
            "YOLOv8n-seg summary (fused): 195 layers, 3258259 parameters, 0 gradients, 12.0 GFLOPs\n"
          ]
        },
        {
          "output_type": "stream",
          "name": "stderr",
          "text": [
            "                 Class     Images  Instances      Box(P          R      mAP50  mAP50-95)     Mask(P          R      mAP50  mAP50-95): 100%|██████████| 1/1 [00:00<00:00,  5.39it/s]\n"
          ]
        },
        {
          "output_type": "stream",
          "name": "stdout",
          "text": [
            "                   all         15         30      0.998          1      0.995       0.79      0.998          1      0.995      0.696\n",
            "Speed: 0.2ms preprocess, 2.5ms inference, 0.0ms loss, 0.9ms postprocess per image\n",
            "Results saved to \u001b[1mruns/segment/train4\u001b[0m\n"
          ]
        }
      ]
    },
    {
      "cell_type": "code",
      "source": [
        "project.version(6).deploy(model_type=\"yolov8-seg\", model_path=\"runs/segment/train4\")\n"
      ],
      "metadata": {
        "colab": {
          "base_uri": "https://localhost:8080/"
        },
        "id": "4UNX8OUdA4Nl",
        "outputId": "fa090f0d-399c-4b0d-f1c6-aa5182fde8bd"
      },
      "execution_count": 7,
      "outputs": [
        {
          "output_type": "stream",
          "name": "stdout",
          "text": [
            "Dependency ultralytics==8.0.196 is required but found version=8.1.47, to fix: `pip install ultralytics==8.0.196`\n",
            "Would you like to continue with the wrong version of ultralytics? y/n: y\n",
            "An error occured when getting the model upload URL: This version already has a trained model. Please generate and train a new version in order to upload model to Roboflow.\n"
          ]
        }
      ]
    },
    {
      "cell_type": "markdown",
      "source": [],
      "metadata": {
        "id": "eLygsKx0CHb3"
      }
    },
    {
      "cell_type": "code",
      "source": [
        "import cv2\n",
        "from ultralytics import YOLO\n",
        "\n",
        "# Carga el modelo\n",
        "model = YOLO('best_seg.pt')\n",
        "\n",
        "# Abre el video\n",
        "\n",
        "results = model('Prueba 5.MOV', save=True, max_det=2)\n"
      ],
      "metadata": {
        "colab": {
          "base_uri": "https://localhost:8080/"
        },
        "id": "kO0a6U6ZCIjw",
        "outputId": "9659b2e8-854c-4603-f1eb-a856df2e8162"
      },
      "execution_count": null,
      "outputs": [
        {
          "output_type": "stream",
          "name": "stdout",
          "text": [
            "\n",
            "\n",
            "WARNING ⚠️ inference results will accumulate in RAM unless `stream=True` is passed, causing potential out-of-memory\n",
            "errors for large sources or long-running streams and videos. See https://docs.ultralytics.com/modes/predict/ for help.\n",
            "\n",
            "Example:\n",
            "    results = model(source=..., stream=True)  # generator of Results objects\n",
            "    for r in results:\n",
            "        boxes = r.boxes  # Boxes object for bbox outputs\n",
            "        masks = r.masks  # Masks object for segment masks outputs\n",
            "        probs = r.probs  # Class probabilities for classification outputs\n",
            "\n",
            "video 1/1 (1/279) /content/Prueba 5.MOV: 576x1024 (no detections), 45.4ms\n",
            "video 1/1 (2/279) /content/Prueba 5.MOV: 576x1024 (no detections), 18.6ms\n",
            "video 1/1 (3/279) /content/Prueba 5.MOV: 576x1024 (no detections), 17.9ms\n",
            "video 1/1 (4/279) /content/Prueba 5.MOV: 576x1024 (no detections), 29.4ms\n",
            "video 1/1 (5/279) /content/Prueba 5.MOV: 576x1024 (no detections), 13.0ms\n",
            "video 1/1 (6/279) /content/Prueba 5.MOV: 576x1024 (no detections), 18.5ms\n",
            "video 1/1 (7/279) /content/Prueba 5.MOV: 576x1024 (no detections), 20.8ms\n",
            "video 1/1 (8/279) /content/Prueba 5.MOV: 576x1024 (no detections), 13.9ms\n",
            "video 1/1 (9/279) /content/Prueba 5.MOV: 576x1024 (no detections), 25.2ms\n",
            "video 1/1 (10/279) /content/Prueba 5.MOV: 576x1024 (no detections), 13.0ms\n",
            "video 1/1 (11/279) /content/Prueba 5.MOV: 576x1024 (no detections), 12.3ms\n",
            "video 1/1 (12/279) /content/Prueba 5.MOV: 576x1024 (no detections), 19.5ms\n",
            "video 1/1 (13/279) /content/Prueba 5.MOV: 576x1024 (no detections), 21.9ms\n",
            "video 1/1 (14/279) /content/Prueba 5.MOV: 576x1024 (no detections), 18.9ms\n",
            "video 1/1 (15/279) /content/Prueba 5.MOV: 576x1024 (no detections), 12.5ms\n",
            "video 1/1 (16/279) /content/Prueba 5.MOV: 576x1024 (no detections), 29.3ms\n",
            "video 1/1 (17/279) /content/Prueba 5.MOV: 576x1024 (no detections), 33.2ms\n",
            "video 1/1 (18/279) /content/Prueba 5.MOV: 576x1024 (no detections), 18.9ms\n",
            "video 1/1 (19/279) /content/Prueba 5.MOV: 576x1024 (no detections), 15.7ms\n",
            "video 1/1 (20/279) /content/Prueba 5.MOV: 576x1024 (no detections), 13.2ms\n",
            "video 1/1 (21/279) /content/Prueba 5.MOV: 576x1024 (no detections), 16.3ms\n",
            "video 1/1 (22/279) /content/Prueba 5.MOV: 576x1024 (no detections), 15.4ms\n",
            "video 1/1 (23/279) /content/Prueba 5.MOV: 576x1024 (no detections), 23.8ms\n",
            "video 1/1 (24/279) /content/Prueba 5.MOV: 576x1024 (no detections), 33.2ms\n",
            "video 1/1 (25/279) /content/Prueba 5.MOV: 576x1024 (no detections), 34.5ms\n",
            "video 1/1 (26/279) /content/Prueba 5.MOV: 576x1024 (no detections), 17.1ms\n",
            "video 1/1 (27/279) /content/Prueba 5.MOV: 576x1024 (no detections), 14.2ms\n",
            "video 1/1 (28/279) /content/Prueba 5.MOV: 576x1024 (no detections), 13.4ms\n",
            "video 1/1 (29/279) /content/Prueba 5.MOV: 576x1024 (no detections), 13.4ms\n",
            "video 1/1 (30/279) /content/Prueba 5.MOV: 576x1024 (no detections), 13.8ms\n",
            "video 1/1 (31/279) /content/Prueba 5.MOV: 576x1024 (no detections), 12.8ms\n",
            "video 1/1 (32/279) /content/Prueba 5.MOV: 576x1024 (no detections), 14.1ms\n",
            "video 1/1 (33/279) /content/Prueba 5.MOV: 576x1024 (no detections), 19.5ms\n",
            "video 1/1 (34/279) /content/Prueba 5.MOV: 576x1024 (no detections), 14.7ms\n",
            "video 1/1 (35/279) /content/Prueba 5.MOV: 576x1024 (no detections), 14.4ms\n",
            "video 1/1 (36/279) /content/Prueba 5.MOV: 576x1024 (no detections), 14.1ms\n",
            "video 1/1 (37/279) /content/Prueba 5.MOV: 576x1024 (no detections), 15.0ms\n",
            "video 1/1 (38/279) /content/Prueba 5.MOV: 576x1024 (no detections), 14.0ms\n",
            "video 1/1 (39/279) /content/Prueba 5.MOV: 576x1024 (no detections), 12.2ms\n",
            "video 1/1 (40/279) /content/Prueba 5.MOV: 576x1024 (no detections), 15.4ms\n",
            "video 1/1 (41/279) /content/Prueba 5.MOV: 576x1024 (no detections), 19.6ms\n",
            "video 1/1 (42/279) /content/Prueba 5.MOV: 576x1024 (no detections), 13.7ms\n",
            "video 1/1 (43/279) /content/Prueba 5.MOV: 576x1024 (no detections), 11.8ms\n",
            "video 1/1 (44/279) /content/Prueba 5.MOV: 576x1024 (no detections), 12.4ms\n",
            "video 1/1 (45/279) /content/Prueba 5.MOV: 576x1024 (no detections), 14.8ms\n",
            "video 1/1 (46/279) /content/Prueba 5.MOV: 576x1024 (no detections), 13.8ms\n",
            "video 1/1 (47/279) /content/Prueba 5.MOV: 576x1024 (no detections), 14.1ms\n",
            "video 1/1 (48/279) /content/Prueba 5.MOV: 576x1024 (no detections), 13.1ms\n",
            "video 1/1 (49/279) /content/Prueba 5.MOV: 576x1024 (no detections), 13.5ms\n",
            "video 1/1 (50/279) /content/Prueba 5.MOV: 576x1024 (no detections), 15.0ms\n",
            "video 1/1 (51/279) /content/Prueba 5.MOV: 576x1024 (no detections), 14.2ms\n",
            "video 1/1 (52/279) /content/Prueba 5.MOV: 576x1024 (no detections), 16.6ms\n",
            "video 1/1 (53/279) /content/Prueba 5.MOV: 576x1024 (no detections), 16.1ms\n",
            "video 1/1 (54/279) /content/Prueba 5.MOV: 576x1024 (no detections), 13.8ms\n",
            "video 1/1 (55/279) /content/Prueba 5.MOV: 576x1024 (no detections), 18.6ms\n",
            "video 1/1 (56/279) /content/Prueba 5.MOV: 576x1024 (no detections), 13.4ms\n",
            "video 1/1 (57/279) /content/Prueba 5.MOV: 576x1024 (no detections), 16.1ms\n",
            "video 1/1 (58/279) /content/Prueba 5.MOV: 576x1024 (no detections), 13.8ms\n",
            "video 1/1 (59/279) /content/Prueba 5.MOV: 576x1024 (no detections), 13.6ms\n",
            "video 1/1 (60/279) /content/Prueba 5.MOV: 576x1024 (no detections), 14.8ms\n",
            "video 1/1 (61/279) /content/Prueba 5.MOV: 576x1024 (no detections), 12.0ms\n",
            "video 1/1 (62/279) /content/Prueba 5.MOV: 576x1024 (no detections), 16.6ms\n",
            "video 1/1 (63/279) /content/Prueba 5.MOV: 576x1024 (no detections), 22.7ms\n",
            "video 1/1 (64/279) /content/Prueba 5.MOV: 576x1024 (no detections), 13.3ms\n",
            "video 1/1 (65/279) /content/Prueba 5.MOV: 576x1024 (no detections), 14.3ms\n",
            "video 1/1 (66/279) /content/Prueba 5.MOV: 576x1024 1 left, 11.9ms\n",
            "video 1/1 (67/279) /content/Prueba 5.MOV: 576x1024 1 right, 13.8ms\n",
            "video 1/1 (68/279) /content/Prueba 5.MOV: 576x1024 1 left, 13.3ms\n",
            "video 1/1 (69/279) /content/Prueba 5.MOV: 576x1024 (no detections), 14.3ms\n",
            "video 1/1 (70/279) /content/Prueba 5.MOV: 576x1024 (no detections), 11.8ms\n",
            "video 1/1 (71/279) /content/Prueba 5.MOV: 576x1024 (no detections), 14.7ms\n",
            "video 1/1 (72/279) /content/Prueba 5.MOV: 576x1024 1 right, 17.3ms\n",
            "video 1/1 (73/279) /content/Prueba 5.MOV: 576x1024 (no detections), 13.4ms\n",
            "video 1/1 (74/279) /content/Prueba 5.MOV: 576x1024 (no detections), 14.0ms\n",
            "video 1/1 (75/279) /content/Prueba 5.MOV: 576x1024 1 right, 13.6ms\n",
            "video 1/1 (76/279) /content/Prueba 5.MOV: 576x1024 2 rights, 17.3ms\n",
            "video 1/1 (77/279) /content/Prueba 5.MOV: 576x1024 2 rights, 12.0ms\n",
            "video 1/1 (78/279) /content/Prueba 5.MOV: 576x1024 1 left, 1 right, 14.2ms\n",
            "video 1/1 (79/279) /content/Prueba 5.MOV: 576x1024 2 rights, 16.3ms\n",
            "video 1/1 (80/279) /content/Prueba 5.MOV: 576x1024 2 rights, 14.3ms\n",
            "video 1/1 (81/279) /content/Prueba 5.MOV: 576x1024 2 rights, 14.2ms\n",
            "video 1/1 (82/279) /content/Prueba 5.MOV: 576x1024 2 rights, 14.4ms\n",
            "video 1/1 (83/279) /content/Prueba 5.MOV: 576x1024 2 rights, 14.2ms\n",
            "video 1/1 (84/279) /content/Prueba 5.MOV: 576x1024 2 rights, 13.8ms\n",
            "video 1/1 (85/279) /content/Prueba 5.MOV: 576x1024 2 rights, 11.5ms\n",
            "video 1/1 (86/279) /content/Prueba 5.MOV: 576x1024 2 rights, 16.6ms\n",
            "video 1/1 (87/279) /content/Prueba 5.MOV: 576x1024 2 rights, 13.3ms\n",
            "video 1/1 (88/279) /content/Prueba 5.MOV: 576x1024 2 rights, 13.7ms\n",
            "video 1/1 (89/279) /content/Prueba 5.MOV: 576x1024 2 rights, 13.4ms\n",
            "video 1/1 (90/279) /content/Prueba 5.MOV: 576x1024 2 rights, 20.0ms\n",
            "video 1/1 (91/279) /content/Prueba 5.MOV: 576x1024 2 rights, 11.4ms\n",
            "video 1/1 (92/279) /content/Prueba 5.MOV: 576x1024 2 rights, 13.4ms\n",
            "video 1/1 (93/279) /content/Prueba 5.MOV: 576x1024 2 rights, 14.1ms\n",
            "video 1/1 (94/279) /content/Prueba 5.MOV: 576x1024 1 left, 1 right, 13.9ms\n",
            "video 1/1 (95/279) /content/Prueba 5.MOV: 576x1024 2 rights, 11.6ms\n",
            "video 1/1 (96/279) /content/Prueba 5.MOV: 576x1024 1 left, 1 right, 12.1ms\n",
            "video 1/1 (97/279) /content/Prueba 5.MOV: 576x1024 2 rights, 14.1ms\n",
            "video 1/1 (98/279) /content/Prueba 5.MOV: 576x1024 2 rights, 14.1ms\n",
            "video 1/1 (99/279) /content/Prueba 5.MOV: 576x1024 2 rights, 20.8ms\n",
            "video 1/1 (100/279) /content/Prueba 5.MOV: 576x1024 2 rights, 17.3ms\n",
            "video 1/1 (101/279) /content/Prueba 5.MOV: 576x1024 1 left, 1 right, 14.5ms\n",
            "video 1/1 (102/279) /content/Prueba 5.MOV: 576x1024 2 rights, 14.5ms\n",
            "video 1/1 (103/279) /content/Prueba 5.MOV: 576x1024 2 rights, 13.8ms\n",
            "video 1/1 (104/279) /content/Prueba 5.MOV: 576x1024 2 rights, 15.3ms\n",
            "video 1/1 (105/279) /content/Prueba 5.MOV: 576x1024 2 rights, 14.2ms\n",
            "video 1/1 (106/279) /content/Prueba 5.MOV: 576x1024 1 left, 1 right, 16.9ms\n",
            "video 1/1 (107/279) /content/Prueba 5.MOV: 576x1024 1 left, 1 right, 12.1ms\n",
            "video 1/1 (108/279) /content/Prueba 5.MOV: 576x1024 1 left, 1 right, 14.8ms\n",
            "video 1/1 (109/279) /content/Prueba 5.MOV: 576x1024 1 right, 13.9ms\n",
            "video 1/1 (110/279) /content/Prueba 5.MOV: 576x1024 1 left, 1 right, 14.7ms\n",
            "video 1/1 (111/279) /content/Prueba 5.MOV: 576x1024 1 left, 1 right, 11.5ms\n",
            "video 1/1 (112/279) /content/Prueba 5.MOV: 576x1024 1 left, 1 right, 14.0ms\n",
            "video 1/1 (113/279) /content/Prueba 5.MOV: 576x1024 1 left, 1 right, 14.8ms\n",
            "video 1/1 (114/279) /content/Prueba 5.MOV: 576x1024 1 left, 1 right, 14.6ms\n",
            "video 1/1 (115/279) /content/Prueba 5.MOV: 576x1024 1 right, 12.8ms\n",
            "video 1/1 (116/279) /content/Prueba 5.MOV: 576x1024 1 right, 16.7ms\n",
            "video 1/1 (117/279) /content/Prueba 5.MOV: 576x1024 1 left, 1 right, 13.0ms\n",
            "video 1/1 (118/279) /content/Prueba 5.MOV: 576x1024 1 left, 1 right, 14.7ms\n",
            "video 1/1 (119/279) /content/Prueba 5.MOV: 576x1024 1 left, 1 right, 13.9ms\n",
            "video 1/1 (120/279) /content/Prueba 5.MOV: 576x1024 1 left, 1 right, 13.9ms\n",
            "video 1/1 (121/279) /content/Prueba 5.MOV: 576x1024 2 rights, 14.0ms\n",
            "video 1/1 (122/279) /content/Prueba 5.MOV: 576x1024 2 rights, 12.1ms\n",
            "video 1/1 (123/279) /content/Prueba 5.MOV: 576x1024 1 right, 14.0ms\n",
            "video 1/1 (124/279) /content/Prueba 5.MOV: 576x1024 1 right, 13.4ms\n",
            "video 1/1 (125/279) /content/Prueba 5.MOV: 576x1024 1 right, 14.2ms\n",
            "video 1/1 (126/279) /content/Prueba 5.MOV: 576x1024 1 left, 1 right, 12.7ms\n",
            "video 1/1 (127/279) /content/Prueba 5.MOV: 576x1024 1 right, 13.4ms\n",
            "video 1/1 (128/279) /content/Prueba 5.MOV: 576x1024 1 right, 13.1ms\n",
            "video 1/1 (129/279) /content/Prueba 5.MOV: 576x1024 1 left, 1 right, 11.6ms\n",
            "video 1/1 (130/279) /content/Prueba 5.MOV: 576x1024 1 left, 1 right, 11.4ms\n",
            "video 1/1 (131/279) /content/Prueba 5.MOV: 576x1024 1 left, 1 right, 13.0ms\n",
            "video 1/1 (132/279) /content/Prueba 5.MOV: 576x1024 1 left, 1 right, 13.7ms\n",
            "video 1/1 (133/279) /content/Prueba 5.MOV: 576x1024 1 left, 1 right, 12.1ms\n",
            "video 1/1 (134/279) /content/Prueba 5.MOV: 576x1024 1 left, 1 right, 13.3ms\n",
            "video 1/1 (135/279) /content/Prueba 5.MOV: 576x1024 1 left, 1 right, 13.5ms\n",
            "video 1/1 (136/279) /content/Prueba 5.MOV: 576x1024 1 left, 1 right, 13.8ms\n",
            "video 1/1 (137/279) /content/Prueba 5.MOV: 576x1024 1 right, 12.7ms\n",
            "video 1/1 (138/279) /content/Prueba 5.MOV: 576x1024 1 left, 1 right, 17.9ms\n",
            "video 1/1 (139/279) /content/Prueba 5.MOV: 576x1024 1 left, 1 right, 13.6ms\n",
            "video 1/1 (140/279) /content/Prueba 5.MOV: 576x1024 1 left, 1 right, 14.0ms\n",
            "video 1/1 (141/279) /content/Prueba 5.MOV: 576x1024 1 left, 1 right, 12.4ms\n",
            "video 1/1 (142/279) /content/Prueba 5.MOV: 576x1024 1 left, 1 right, 17.0ms\n",
            "video 1/1 (143/279) /content/Prueba 5.MOV: 576x1024 2 rights, 13.8ms\n",
            "video 1/1 (144/279) /content/Prueba 5.MOV: 576x1024 1 right, 13.9ms\n",
            "video 1/1 (145/279) /content/Prueba 5.MOV: 576x1024 1 right, 14.1ms\n",
            "video 1/1 (146/279) /content/Prueba 5.MOV: 576x1024 1 right, 12.1ms\n",
            "video 1/1 (147/279) /content/Prueba 5.MOV: 576x1024 2 rights, 13.1ms\n",
            "video 1/1 (148/279) /content/Prueba 5.MOV: 576x1024 1 left, 1 right, 12.8ms\n",
            "video 1/1 (149/279) /content/Prueba 5.MOV: 576x1024 1 right, 14.5ms\n",
            "video 1/1 (150/279) /content/Prueba 5.MOV: 576x1024 1 left, 1 right, 13.8ms\n",
            "video 1/1 (151/279) /content/Prueba 5.MOV: 576x1024 2 rights, 13.1ms\n",
            "video 1/1 (152/279) /content/Prueba 5.MOV: 576x1024 2 rights, 13.7ms\n",
            "video 1/1 (153/279) /content/Prueba 5.MOV: 576x1024 1 left, 1 right, 13.7ms\n",
            "video 1/1 (154/279) /content/Prueba 5.MOV: 576x1024 2 rights, 13.7ms\n",
            "video 1/1 (155/279) /content/Prueba 5.MOV: 576x1024 1 left, 1 right, 12.8ms\n",
            "video 1/1 (156/279) /content/Prueba 5.MOV: 576x1024 1 left, 1 right, 11.5ms\n",
            "video 1/1 (157/279) /content/Prueba 5.MOV: 576x1024 1 left, 1 right, 13.7ms\n",
            "video 1/1 (158/279) /content/Prueba 5.MOV: 576x1024 1 left, 1 right, 13.9ms\n",
            "video 1/1 (159/279) /content/Prueba 5.MOV: 576x1024 2 rights, 12.7ms\n",
            "video 1/1 (160/279) /content/Prueba 5.MOV: 576x1024 1 left, 1 right, 13.7ms\n",
            "video 1/1 (161/279) /content/Prueba 5.MOV: 576x1024 1 left, 1 right, 13.5ms\n",
            "video 1/1 (162/279) /content/Prueba 5.MOV: 576x1024 1 left, 1 right, 13.5ms\n",
            "video 1/1 (163/279) /content/Prueba 5.MOV: 576x1024 1 left, 1 right, 14.6ms\n",
            "video 1/1 (164/279) /content/Prueba 5.MOV: 576x1024 2 rights, 15.2ms\n",
            "video 1/1 (165/279) /content/Prueba 5.MOV: 576x1024 1 left, 1 right, 13.8ms\n",
            "video 1/1 (166/279) /content/Prueba 5.MOV: 576x1024 2 rights, 13.4ms\n",
            "video 1/1 (167/279) /content/Prueba 5.MOV: 576x1024 2 rights, 11.8ms\n",
            "video 1/1 (168/279) /content/Prueba 5.MOV: 576x1024 1 right, 14.7ms\n",
            "video 1/1 (169/279) /content/Prueba 5.MOV: 576x1024 2 rights, 15.8ms\n",
            "video 1/1 (170/279) /content/Prueba 5.MOV: 576x1024 1 left, 1 right, 16.5ms\n",
            "video 1/1 (171/279) /content/Prueba 5.MOV: 576x1024 1 right, 21.2ms\n",
            "video 1/1 (172/279) /content/Prueba 5.MOV: 576x1024 2 rights, 17.9ms\n",
            "video 1/1 (173/279) /content/Prueba 5.MOV: 576x1024 1 right, 25.6ms\n",
            "video 1/1 (174/279) /content/Prueba 5.MOV: 576x1024 1 left, 1 right, 16.0ms\n",
            "video 1/1 (175/279) /content/Prueba 5.MOV: 576x1024 1 right, 13.2ms\n",
            "video 1/1 (176/279) /content/Prueba 5.MOV: 576x1024 1 right, 13.2ms\n",
            "video 1/1 (177/279) /content/Prueba 5.MOV: 576x1024 2 rights, 13.4ms\n",
            "video 1/1 (178/279) /content/Prueba 5.MOV: 576x1024 1 right, 12.0ms\n",
            "video 1/1 (179/279) /content/Prueba 5.MOV: 576x1024 2 rights, 20.0ms\n",
            "video 1/1 (180/279) /content/Prueba 5.MOV: 576x1024 2 rights, 38.9ms\n",
            "video 1/1 (181/279) /content/Prueba 5.MOV: 576x1024 2 rights, 13.0ms\n",
            "video 1/1 (182/279) /content/Prueba 5.MOV: 576x1024 2 rights, 16.2ms\n",
            "video 1/1 (183/279) /content/Prueba 5.MOV: 576x1024 1 right, 12.6ms\n",
            "video 1/1 (184/279) /content/Prueba 5.MOV: 576x1024 2 rights, 18.6ms\n",
            "video 1/1 (185/279) /content/Prueba 5.MOV: 576x1024 2 rights, 22.7ms\n",
            "video 1/1 (186/279) /content/Prueba 5.MOV: 576x1024 1 right, 13.8ms\n",
            "video 1/1 (187/279) /content/Prueba 5.MOV: 576x1024 2 rights, 18.6ms\n",
            "video 1/1 (188/279) /content/Prueba 5.MOV: 576x1024 1 right, 22.5ms\n",
            "video 1/1 (189/279) /content/Prueba 5.MOV: 576x1024 1 right, 12.6ms\n",
            "video 1/1 (190/279) /content/Prueba 5.MOV: 576x1024 2 rights, 14.3ms\n",
            "video 1/1 (191/279) /content/Prueba 5.MOV: 576x1024 1 right, 20.7ms\n",
            "video 1/1 (192/279) /content/Prueba 5.MOV: 576x1024 2 rights, 30.1ms\n",
            "video 1/1 (193/279) /content/Prueba 5.MOV: 576x1024 1 right, 18.2ms\n",
            "video 1/1 (194/279) /content/Prueba 5.MOV: 576x1024 1 right, 13.4ms\n",
            "video 1/1 (195/279) /content/Prueba 5.MOV: 576x1024 2 rights, 13.0ms\n",
            "video 1/1 (196/279) /content/Prueba 5.MOV: 576x1024 (no detections), 13.6ms\n",
            "video 1/1 (197/279) /content/Prueba 5.MOV: 576x1024 1 right, 13.6ms\n",
            "video 1/1 (198/279) /content/Prueba 5.MOV: 576x1024 1 right, 18.1ms\n",
            "video 1/1 (199/279) /content/Prueba 5.MOV: 576x1024 1 right, 13.7ms\n",
            "video 1/1 (200/279) /content/Prueba 5.MOV: 576x1024 1 right, 13.8ms\n",
            "video 1/1 (201/279) /content/Prueba 5.MOV: 576x1024 2 rights, 12.5ms\n",
            "video 1/1 (202/279) /content/Prueba 5.MOV: 576x1024 1 right, 13.4ms\n",
            "video 1/1 (203/279) /content/Prueba 5.MOV: 576x1024 1 right, 13.3ms\n",
            "video 1/1 (204/279) /content/Prueba 5.MOV: 576x1024 1 right, 15.5ms\n",
            "video 1/1 (205/279) /content/Prueba 5.MOV: 576x1024 1 right, 13.9ms\n",
            "video 1/1 (206/279) /content/Prueba 5.MOV: 576x1024 1 right, 12.5ms\n",
            "video 1/1 (207/279) /content/Prueba 5.MOV: 576x1024 1 left, 1 right, 12.9ms\n",
            "video 1/1 (208/279) /content/Prueba 5.MOV: 576x1024 1 right, 12.4ms\n",
            "video 1/1 (209/279) /content/Prueba 5.MOV: 576x1024 1 left, 1 right, 14.5ms\n",
            "video 1/1 (210/279) /content/Prueba 5.MOV: 576x1024 1 right, 13.7ms\n",
            "video 1/1 (211/279) /content/Prueba 5.MOV: 576x1024 1 left, 1 right, 14.0ms\n",
            "video 1/1 (212/279) /content/Prueba 5.MOV: 576x1024 2 rights, 14.0ms\n",
            "video 1/1 (213/279) /content/Prueba 5.MOV: 576x1024 1 right, 14.0ms\n",
            "video 1/1 (214/279) /content/Prueba 5.MOV: 576x1024 1 left, 1 right, 13.8ms\n",
            "video 1/1 (215/279) /content/Prueba 5.MOV: 576x1024 1 left, 1 right, 14.0ms\n",
            "video 1/1 (216/279) /content/Prueba 5.MOV: 576x1024 1 left, 1 right, 12.1ms\n",
            "video 1/1 (217/279) /content/Prueba 5.MOV: 576x1024 2 rights, 14.0ms\n",
            "video 1/1 (218/279) /content/Prueba 5.MOV: 576x1024 1 right, 13.4ms\n",
            "video 1/1 (219/279) /content/Prueba 5.MOV: 576x1024 1 right, 11.8ms\n",
            "video 1/1 (220/279) /content/Prueba 5.MOV: 576x1024 2 rights, 12.5ms\n",
            "video 1/1 (221/279) /content/Prueba 5.MOV: 576x1024 1 left, 1 right, 15.6ms\n",
            "video 1/1 (222/279) /content/Prueba 5.MOV: 576x1024 2 rights, 13.3ms\n",
            "video 1/1 (223/279) /content/Prueba 5.MOV: 576x1024 2 rights, 14.0ms\n",
            "video 1/1 (224/279) /content/Prueba 5.MOV: 576x1024 1 left, 1 right, 12.4ms\n",
            "video 1/1 (225/279) /content/Prueba 5.MOV: 576x1024 2 rights, 23.1ms\n",
            "video 1/1 (226/279) /content/Prueba 5.MOV: 576x1024 1 right, 13.4ms\n",
            "video 1/1 (227/279) /content/Prueba 5.MOV: 576x1024 1 left, 1 right, 14.3ms\n",
            "video 1/1 (228/279) /content/Prueba 5.MOV: 576x1024 2 rights, 11.9ms\n",
            "video 1/1 (229/279) /content/Prueba 5.MOV: 576x1024 1 left, 1 right, 14.0ms\n",
            "video 1/1 (230/279) /content/Prueba 5.MOV: 576x1024 1 left, 1 right, 13.9ms\n",
            "video 1/1 (231/279) /content/Prueba 5.MOV: 576x1024 1 left, 1 right, 14.1ms\n",
            "video 1/1 (232/279) /content/Prueba 5.MOV: 576x1024 1 left, 1 right, 11.6ms\n",
            "video 1/1 (233/279) /content/Prueba 5.MOV: 576x1024 1 left, 1 right, 17.9ms\n",
            "video 1/1 (234/279) /content/Prueba 5.MOV: 576x1024 1 left, 1 right, 14.2ms\n",
            "video 1/1 (235/279) /content/Prueba 5.MOV: 576x1024 1 left, 1 right, 14.1ms\n",
            "video 1/1 (236/279) /content/Prueba 5.MOV: 576x1024 1 left, 1 right, 13.9ms\n",
            "video 1/1 (237/279) /content/Prueba 5.MOV: 576x1024 1 left, 1 right, 13.6ms\n",
            "video 1/1 (238/279) /content/Prueba 5.MOV: 576x1024 2 rights, 11.4ms\n",
            "video 1/1 (239/279) /content/Prueba 5.MOV: 576x1024 1 left, 1 right, 14.9ms\n",
            "video 1/1 (240/279) /content/Prueba 5.MOV: 576x1024 1 right, 13.4ms\n",
            "video 1/1 (241/279) /content/Prueba 5.MOV: 576x1024 2 rights, 14.2ms\n",
            "video 1/1 (242/279) /content/Prueba 5.MOV: 576x1024 1 left, 1 right, 12.3ms\n",
            "video 1/1 (243/279) /content/Prueba 5.MOV: 576x1024 2 rights, 15.3ms\n",
            "video 1/1 (244/279) /content/Prueba 5.MOV: 576x1024 1 left, 1 right, 14.4ms\n",
            "video 1/1 (245/279) /content/Prueba 5.MOV: 576x1024 2 rights, 14.7ms\n",
            "video 1/1 (246/279) /content/Prueba 5.MOV: 576x1024 2 rights, 13.6ms\n",
            "video 1/1 (247/279) /content/Prueba 5.MOV: 576x1024 2 rights, 14.0ms\n",
            "video 1/1 (248/279) /content/Prueba 5.MOV: 576x1024 2 rights, 14.0ms\n",
            "video 1/1 (249/279) /content/Prueba 5.MOV: 576x1024 1 left, 1 right, 14.7ms\n",
            "video 1/1 (250/279) /content/Prueba 5.MOV: 576x1024 2 rights, 15.0ms\n",
            "video 1/1 (251/279) /content/Prueba 5.MOV: 576x1024 2 rights, 13.8ms\n",
            "video 1/1 (252/279) /content/Prueba 5.MOV: 576x1024 2 rights, 14.7ms\n",
            "video 1/1 (253/279) /content/Prueba 5.MOV: 576x1024 2 rights, 14.2ms\n",
            "video 1/1 (254/279) /content/Prueba 5.MOV: 576x1024 1 left, 1 right, 12.5ms\n",
            "video 1/1 (255/279) /content/Prueba 5.MOV: 576x1024 1 right, 13.7ms\n",
            "video 1/1 (256/279) /content/Prueba 5.MOV: 576x1024 2 rights, 13.7ms\n",
            "video 1/1 (257/279) /content/Prueba 5.MOV: 576x1024 2 rights, 11.4ms\n",
            "video 1/1 (258/279) /content/Prueba 5.MOV: 576x1024 2 rights, 12.0ms\n",
            "video 1/1 (259/279) /content/Prueba 5.MOV: 576x1024 1 right, 13.0ms\n",
            "video 1/1 (260/279) /content/Prueba 5.MOV: 576x1024 1 right, 13.7ms\n",
            "video 1/1 (261/279) /content/Prueba 5.MOV: 576x1024 1 left, 14.3ms\n",
            "video 1/1 (262/279) /content/Prueba 5.MOV: 576x1024 1 left, 1 right, 16.7ms\n",
            "video 1/1 (263/279) /content/Prueba 5.MOV: 576x1024 1 left, 13.7ms\n",
            "video 1/1 (264/279) /content/Prueba 5.MOV: 576x1024 (no detections), 13.8ms\n",
            "video 1/1 (265/279) /content/Prueba 5.MOV: 576x1024 1 right, 14.5ms\n",
            "video 1/1 (266/279) /content/Prueba 5.MOV: 576x1024 1 right, 13.7ms\n",
            "video 1/1 (267/279) /content/Prueba 5.MOV: 576x1024 2 rights, 13.0ms\n",
            "video 1/1 (268/279) /content/Prueba 5.MOV: 576x1024 (no detections), 11.8ms\n",
            "video 1/1 (269/279) /content/Prueba 5.MOV: 576x1024 (no detections), 13.4ms\n",
            "video 1/1 (270/279) /content/Prueba 5.MOV: 576x1024 1 right, 14.2ms\n",
            "video 1/1 (271/279) /content/Prueba 5.MOV: 576x1024 (no detections), 14.7ms\n",
            "video 1/1 (272/279) /content/Prueba 5.MOV: 576x1024 1 right, 13.8ms\n",
            "video 1/1 (273/279) /content/Prueba 5.MOV: 576x1024 1 right, 14.3ms\n",
            "video 1/1 (274/279) /content/Prueba 5.MOV: 576x1024 1 left, 15.7ms\n",
            "video 1/1 (275/279) /content/Prueba 5.MOV: 576x1024 1 right, 12.7ms\n",
            "video 1/1 (276/279) /content/Prueba 5.MOV: 576x1024 1 right, 13.7ms\n",
            "video 1/1 (277/279) /content/Prueba 5.MOV: 576x1024 1 right, 12.5ms\n",
            "video 1/1 (278/279) /content/Prueba 5.MOV: 576x1024 (no detections), 13.1ms\n",
            "video 1/1 (279/279) /content/Prueba 5.MOV: 576x1024 (no detections), 11.4ms\n",
            "Speed: 8.4ms preprocess, 15.1ms inference, 2.1ms postprocess per image at shape (1, 3, 576, 1024)\n",
            "Results saved to \u001b[1mruns/segment/predict3\u001b[0m\n"
          ]
        }
      ]
    },
    {
      "cell_type": "code",
      "source": [
        "import cv2\n",
        "from ultralytics import YOLO\n",
        "\n",
        "# Load the YOLOv8 model\n",
        "model = YOLO('best_seg.pt')\n",
        "\n",
        "# Open the video file\n",
        "video_path = \"Prueba 5.MOV\"\n",
        "cap = cv2.VideoCapture(video_path)\n",
        "\n",
        "# Get the video dimensions\n",
        "frame_width = int(cap.get(3))\n",
        "frame_height = int(cap.get(4))\n",
        "\n",
        "# Create a VideoWriter object to save the output video\n",
        "out = cv2.VideoWriter('output.avi', cv2.VideoWriter_fourcc('M','J','P','G'), 10, (frame_width, frame_height))\n",
        "\n",
        "# Loop through the video frames\n",
        "while cap.isOpened():\n",
        "    # Read a frame from the video\n",
        "    success, frame = cap.read()\n",
        "\n",
        "    if success:\n",
        "        # Run YOLOv8 tracking on the frame, persisting tracks between frames\n",
        "        results = model.track(frame, persist=True)\n",
        "\n",
        "        # Visualize the results on the frame\n",
        "        annotated_frame = results[0].plot()\n",
        "\n",
        "        # Write the annotated frame to the output video\n",
        "        out.write(annotated_frame)\n",
        "    else:\n",
        "        # Break the loop if the end of the video is reached\n",
        "        break\n",
        "\n",
        "# Release the video capture and writer objects\n",
        "cap.release()\n",
        "out.release()\n"
      ],
      "metadata": {
        "colab": {
          "base_uri": "https://localhost:8080/"
        },
        "id": "IoYwL87hbWE1",
        "outputId": "62a9eebd-8dd5-4021-b994-30c787fcfd34"
      },
      "execution_count": null,
      "outputs": [
        {
          "output_type": "stream",
          "name": "stdout",
          "text": [
            "\n",
            "0: 576x1024 (no detections), 11.9ms\n",
            "Speed: 4.5ms preprocess, 11.9ms inference, 0.5ms postprocess per image at shape (1, 3, 576, 1024)\n",
            "\n",
            "0: 576x1024 (no detections), 13.9ms\n",
            "Speed: 7.2ms preprocess, 13.9ms inference, 0.7ms postprocess per image at shape (1, 3, 576, 1024)\n",
            "\n",
            "0: 576x1024 (no detections), 13.5ms\n",
            "Speed: 7.3ms preprocess, 13.5ms inference, 0.8ms postprocess per image at shape (1, 3, 576, 1024)\n",
            "\n",
            "0: 576x1024 (no detections), 16.4ms\n",
            "Speed: 7.4ms preprocess, 16.4ms inference, 0.5ms postprocess per image at shape (1, 3, 576, 1024)\n",
            "\n",
            "0: 576x1024 (no detections), 14.8ms\n",
            "Speed: 7.5ms preprocess, 14.8ms inference, 0.8ms postprocess per image at shape (1, 3, 576, 1024)\n",
            "\n",
            "0: 576x1024 (no detections), 13.9ms\n",
            "Speed: 7.0ms preprocess, 13.9ms inference, 0.6ms postprocess per image at shape (1, 3, 576, 1024)\n",
            "\n",
            "0: 576x1024 (no detections), 13.6ms\n",
            "Speed: 7.4ms preprocess, 13.6ms inference, 0.8ms postprocess per image at shape (1, 3, 576, 1024)\n",
            "\n",
            "0: 576x1024 (no detections), 13.5ms\n",
            "Speed: 7.6ms preprocess, 13.5ms inference, 0.6ms postprocess per image at shape (1, 3, 576, 1024)\n",
            "\n",
            "0: 576x1024 (no detections), 14.0ms\n",
            "Speed: 7.4ms preprocess, 14.0ms inference, 0.6ms postprocess per image at shape (1, 3, 576, 1024)\n",
            "\n",
            "0: 576x1024 (no detections), 13.6ms\n",
            "Speed: 7.2ms preprocess, 13.6ms inference, 0.5ms postprocess per image at shape (1, 3, 576, 1024)\n",
            "\n",
            "0: 576x1024 (no detections), 11.4ms\n",
            "Speed: 8.5ms preprocess, 11.4ms inference, 0.7ms postprocess per image at shape (1, 3, 576, 1024)\n",
            "\n",
            "0: 576x1024 (no detections), 14.3ms\n",
            "Speed: 9.0ms preprocess, 14.3ms inference, 0.7ms postprocess per image at shape (1, 3, 576, 1024)\n",
            "\n",
            "0: 576x1024 (no detections), 14.1ms\n",
            "Speed: 7.2ms preprocess, 14.1ms inference, 0.5ms postprocess per image at shape (1, 3, 576, 1024)\n",
            "\n",
            "0: 576x1024 (no detections), 12.5ms\n",
            "Speed: 7.3ms preprocess, 12.5ms inference, 0.5ms postprocess per image at shape (1, 3, 576, 1024)\n",
            "\n",
            "0: 576x1024 (no detections), 13.2ms\n",
            "Speed: 9.1ms preprocess, 13.2ms inference, 0.5ms postprocess per image at shape (1, 3, 576, 1024)\n",
            "\n",
            "0: 576x1024 (no detections), 16.6ms\n",
            "Speed: 6.8ms preprocess, 16.6ms inference, 0.8ms postprocess per image at shape (1, 3, 576, 1024)\n",
            "\n",
            "0: 576x1024 (no detections), 14.4ms\n",
            "Speed: 6.6ms preprocess, 14.4ms inference, 0.7ms postprocess per image at shape (1, 3, 576, 1024)\n",
            "\n",
            "0: 576x1024 (no detections), 12.4ms\n",
            "Speed: 7.3ms preprocess, 12.4ms inference, 0.8ms postprocess per image at shape (1, 3, 576, 1024)\n",
            "\n",
            "0: 576x1024 (no detections), 13.2ms\n",
            "Speed: 7.0ms preprocess, 13.2ms inference, 0.6ms postprocess per image at shape (1, 3, 576, 1024)\n",
            "\n",
            "0: 576x1024 (no detections), 14.6ms\n",
            "Speed: 6.5ms preprocess, 14.6ms inference, 0.7ms postprocess per image at shape (1, 3, 576, 1024)\n",
            "\n",
            "0: 576x1024 (no detections), 14.0ms\n",
            "Speed: 6.3ms preprocess, 14.0ms inference, 0.8ms postprocess per image at shape (1, 3, 576, 1024)\n",
            "\n",
            "0: 576x1024 (no detections), 15.1ms\n",
            "Speed: 7.5ms preprocess, 15.1ms inference, 0.8ms postprocess per image at shape (1, 3, 576, 1024)\n",
            "\n",
            "0: 576x1024 (no detections), 12.4ms\n",
            "Speed: 7.1ms preprocess, 12.4ms inference, 0.5ms postprocess per image at shape (1, 3, 576, 1024)\n",
            "\n",
            "0: 576x1024 (no detections), 13.2ms\n",
            "Speed: 7.5ms preprocess, 13.2ms inference, 1.0ms postprocess per image at shape (1, 3, 576, 1024)\n",
            "\n",
            "0: 576x1024 (no detections), 13.7ms\n",
            "Speed: 7.3ms preprocess, 13.7ms inference, 0.9ms postprocess per image at shape (1, 3, 576, 1024)\n",
            "\n",
            "0: 576x1024 (no detections), 17.4ms\n",
            "Speed: 8.2ms preprocess, 17.4ms inference, 0.8ms postprocess per image at shape (1, 3, 576, 1024)\n",
            "\n",
            "0: 576x1024 (no detections), 14.1ms\n",
            "Speed: 7.6ms preprocess, 14.1ms inference, 0.6ms postprocess per image at shape (1, 3, 576, 1024)\n",
            "\n",
            "0: 576x1024 (no detections), 13.5ms\n",
            "Speed: 6.9ms preprocess, 13.5ms inference, 0.7ms postprocess per image at shape (1, 3, 576, 1024)\n",
            "\n",
            "0: 576x1024 (no detections), 14.8ms\n",
            "Speed: 7.8ms preprocess, 14.8ms inference, 0.7ms postprocess per image at shape (1, 3, 576, 1024)\n",
            "\n",
            "0: 576x1024 (no detections), 13.5ms\n",
            "Speed: 7.2ms preprocess, 13.5ms inference, 0.5ms postprocess per image at shape (1, 3, 576, 1024)\n",
            "\n",
            "0: 576x1024 (no detections), 13.9ms\n",
            "Speed: 7.5ms preprocess, 13.9ms inference, 0.6ms postprocess per image at shape (1, 3, 576, 1024)\n",
            "\n",
            "0: 576x1024 (no detections), 11.9ms\n",
            "Speed: 7.2ms preprocess, 11.9ms inference, 0.7ms postprocess per image at shape (1, 3, 576, 1024)\n",
            "\n",
            "0: 576x1024 (no detections), 13.8ms\n",
            "Speed: 6.3ms preprocess, 13.8ms inference, 0.7ms postprocess per image at shape (1, 3, 576, 1024)\n",
            "\n",
            "0: 576x1024 (no detections), 14.8ms\n",
            "Speed: 7.1ms preprocess, 14.8ms inference, 0.6ms postprocess per image at shape (1, 3, 576, 1024)\n",
            "\n",
            "0: 576x1024 (no detections), 14.0ms\n",
            "Speed: 6.1ms preprocess, 14.0ms inference, 0.8ms postprocess per image at shape (1, 3, 576, 1024)\n",
            "\n",
            "0: 576x1024 (no detections), 15.1ms\n",
            "Speed: 6.6ms preprocess, 15.1ms inference, 0.6ms postprocess per image at shape (1, 3, 576, 1024)\n",
            "\n",
            "0: 576x1024 (no detections), 13.8ms\n",
            "Speed: 6.4ms preprocess, 13.8ms inference, 0.7ms postprocess per image at shape (1, 3, 576, 1024)\n",
            "\n",
            "0: 576x1024 (no detections), 14.5ms\n",
            "Speed: 7.0ms preprocess, 14.5ms inference, 0.8ms postprocess per image at shape (1, 3, 576, 1024)\n",
            "\n",
            "0: 576x1024 (no detections), 13.8ms\n",
            "Speed: 6.5ms preprocess, 13.8ms inference, 0.6ms postprocess per image at shape (1, 3, 576, 1024)\n",
            "\n",
            "0: 576x1024 (no detections), 13.6ms\n",
            "Speed: 6.1ms preprocess, 13.6ms inference, 0.6ms postprocess per image at shape (1, 3, 576, 1024)\n",
            "\n",
            "0: 576x1024 (no detections), 17.7ms\n",
            "Speed: 7.9ms preprocess, 17.7ms inference, 0.9ms postprocess per image at shape (1, 3, 576, 1024)\n",
            "\n",
            "0: 576x1024 (no detections), 14.6ms\n",
            "Speed: 6.7ms preprocess, 14.6ms inference, 0.7ms postprocess per image at shape (1, 3, 576, 1024)\n",
            "\n",
            "0: 576x1024 (no detections), 13.6ms\n",
            "Speed: 6.7ms preprocess, 13.6ms inference, 0.6ms postprocess per image at shape (1, 3, 576, 1024)\n",
            "\n",
            "0: 576x1024 (no detections), 17.3ms\n",
            "Speed: 7.6ms preprocess, 17.3ms inference, 0.7ms postprocess per image at shape (1, 3, 576, 1024)\n",
            "\n",
            "0: 576x1024 (no detections), 13.4ms\n",
            "Speed: 6.3ms preprocess, 13.4ms inference, 0.7ms postprocess per image at shape (1, 3, 576, 1024)\n",
            "\n",
            "0: 576x1024 (no detections), 13.9ms\n",
            "Speed: 6.7ms preprocess, 13.9ms inference, 0.8ms postprocess per image at shape (1, 3, 576, 1024)\n",
            "\n",
            "0: 576x1024 (no detections), 13.5ms\n",
            "Speed: 6.4ms preprocess, 13.5ms inference, 0.5ms postprocess per image at shape (1, 3, 576, 1024)\n",
            "\n",
            "0: 576x1024 (no detections), 12.3ms\n",
            "Speed: 6.9ms preprocess, 12.3ms inference, 0.8ms postprocess per image at shape (1, 3, 576, 1024)\n",
            "\n",
            "0: 576x1024 (no detections), 14.5ms\n",
            "Speed: 7.5ms preprocess, 14.5ms inference, 0.7ms postprocess per image at shape (1, 3, 576, 1024)\n",
            "\n",
            "0: 576x1024 (no detections), 14.5ms\n",
            "Speed: 6.6ms preprocess, 14.5ms inference, 0.7ms postprocess per image at shape (1, 3, 576, 1024)\n",
            "\n",
            "0: 576x1024 (no detections), 12.1ms\n",
            "Speed: 9.3ms preprocess, 12.1ms inference, 0.5ms postprocess per image at shape (1, 3, 576, 1024)\n",
            "\n",
            "0: 576x1024 (no detections), 13.8ms\n",
            "Speed: 6.9ms preprocess, 13.8ms inference, 0.7ms postprocess per image at shape (1, 3, 576, 1024)\n",
            "\n",
            "0: 576x1024 (no detections), 13.4ms\n",
            "Speed: 7.0ms preprocess, 13.4ms inference, 0.7ms postprocess per image at shape (1, 3, 576, 1024)\n",
            "\n",
            "0: 576x1024 (no detections), 13.4ms\n",
            "Speed: 7.4ms preprocess, 13.4ms inference, 0.6ms postprocess per image at shape (1, 3, 576, 1024)\n",
            "\n",
            "0: 576x1024 (no detections), 12.6ms\n",
            "Speed: 7.2ms preprocess, 12.6ms inference, 0.8ms postprocess per image at shape (1, 3, 576, 1024)\n",
            "\n",
            "0: 576x1024 (no detections), 17.8ms\n",
            "Speed: 7.9ms preprocess, 17.8ms inference, 0.8ms postprocess per image at shape (1, 3, 576, 1024)\n",
            "\n",
            "0: 576x1024 (no detections), 13.0ms\n",
            "Speed: 6.9ms preprocess, 13.0ms inference, 0.7ms postprocess per image at shape (1, 3, 576, 1024)\n",
            "\n",
            "0: 576x1024 (no detections), 11.6ms\n",
            "Speed: 7.4ms preprocess, 11.6ms inference, 0.5ms postprocess per image at shape (1, 3, 576, 1024)\n",
            "\n",
            "0: 576x1024 1 right, 13.8ms\n",
            "Speed: 8.5ms preprocess, 13.8ms inference, 2.3ms postprocess per image at shape (1, 3, 576, 1024)\n",
            "\n",
            "0: 576x1024 1 right, 13.9ms\n",
            "Speed: 7.5ms preprocess, 13.9ms inference, 2.8ms postprocess per image at shape (1, 3, 576, 1024)\n",
            "\n",
            "0: 576x1024 1 right, 12.0ms\n",
            "Speed: 7.0ms preprocess, 12.0ms inference, 2.0ms postprocess per image at shape (1, 3, 576, 1024)\n",
            "\n",
            "0: 576x1024 1 right, 12.8ms\n",
            "Speed: 7.8ms preprocess, 12.8ms inference, 2.0ms postprocess per image at shape (1, 3, 576, 1024)\n",
            "\n",
            "0: 576x1024 1 right, 14.1ms\n",
            "Speed: 7.2ms preprocess, 14.1ms inference, 2.4ms postprocess per image at shape (1, 3, 576, 1024)\n",
            "\n",
            "0: 576x1024 1 right, 13.5ms\n",
            "Speed: 7.3ms preprocess, 13.5ms inference, 2.1ms postprocess per image at shape (1, 3, 576, 1024)\n",
            "\n",
            "0: 576x1024 1 right, 11.4ms\n",
            "Speed: 7.1ms preprocess, 11.4ms inference, 2.8ms postprocess per image at shape (1, 3, 576, 1024)\n",
            "\n",
            "0: 576x1024 1 left, 1 right, 12.4ms\n",
            "Speed: 8.2ms preprocess, 12.4ms inference, 2.0ms postprocess per image at shape (1, 3, 576, 1024)\n",
            "\n",
            "0: 576x1024 2 rights, 13.3ms\n",
            "Speed: 7.5ms preprocess, 13.3ms inference, 2.0ms postprocess per image at shape (1, 3, 576, 1024)\n",
            "\n",
            "0: 576x1024 2 lefts, 1 right, 13.5ms\n",
            "Speed: 7.1ms preprocess, 13.5ms inference, 2.5ms postprocess per image at shape (1, 3, 576, 1024)\n",
            "\n",
            "0: 576x1024 1 left, 1 right, 11.4ms\n",
            "Speed: 6.9ms preprocess, 11.4ms inference, 2.0ms postprocess per image at shape (1, 3, 576, 1024)\n",
            "\n",
            "0: 576x1024 2 rights, 11.9ms\n",
            "Speed: 12.8ms preprocess, 11.9ms inference, 2.0ms postprocess per image at shape (1, 3, 576, 1024)\n",
            "\n",
            "0: 576x1024 1 left, 2 rights, 14.0ms\n",
            "Speed: 6.4ms preprocess, 14.0ms inference, 2.8ms postprocess per image at shape (1, 3, 576, 1024)\n",
            "\n",
            "0: 576x1024 1 left, 3 rights, 15.4ms\n",
            "Speed: 7.6ms preprocess, 15.4ms inference, 3.7ms postprocess per image at shape (1, 3, 576, 1024)\n",
            "\n",
            "0: 576x1024 2 lefts, 2 rights, 12.0ms\n",
            "Speed: 7.5ms preprocess, 12.0ms inference, 2.2ms postprocess per image at shape (1, 3, 576, 1024)\n",
            "\n",
            "0: 576x1024 2 lefts, 2 rights, 13.6ms\n",
            "Speed: 6.6ms preprocess, 13.6ms inference, 2.0ms postprocess per image at shape (1, 3, 576, 1024)\n",
            "\n",
            "0: 576x1024 3 rights, 15.4ms\n",
            "Speed: 7.4ms preprocess, 15.4ms inference, 3.0ms postprocess per image at shape (1, 3, 576, 1024)\n",
            "\n",
            "0: 576x1024 3 rights, 13.7ms\n",
            "Speed: 7.6ms preprocess, 13.7ms inference, 3.3ms postprocess per image at shape (1, 3, 576, 1024)\n",
            "\n",
            "0: 576x1024 3 lefts, 4 rights, 15.7ms\n",
            "Speed: 9.8ms preprocess, 15.7ms inference, 2.0ms postprocess per image at shape (1, 3, 576, 1024)\n",
            "\n",
            "0: 576x1024 1 left, 1 right, 12.4ms\n",
            "Speed: 7.2ms preprocess, 12.4ms inference, 2.0ms postprocess per image at shape (1, 3, 576, 1024)\n",
            "\n",
            "0: 576x1024 1 left, 2 rights, 13.4ms\n",
            "Speed: 7.1ms preprocess, 13.4ms inference, 2.9ms postprocess per image at shape (1, 3, 576, 1024)\n",
            "\n",
            "0: 576x1024 1 left, 3 rights, 15.2ms\n",
            "Speed: 7.9ms preprocess, 15.2ms inference, 3.0ms postprocess per image at shape (1, 3, 576, 1024)\n",
            "\n",
            "0: 576x1024 3 rights, 13.9ms\n",
            "Speed: 8.0ms preprocess, 13.9ms inference, 2.5ms postprocess per image at shape (1, 3, 576, 1024)\n",
            "\n",
            "0: 576x1024 3 rights, 11.4ms\n",
            "Speed: 7.2ms preprocess, 11.4ms inference, 2.0ms postprocess per image at shape (1, 3, 576, 1024)\n",
            "\n",
            "0: 576x1024 1 left, 2 rights, 14.1ms\n",
            "Speed: 7.5ms preprocess, 14.1ms inference, 2.8ms postprocess per image at shape (1, 3, 576, 1024)\n",
            "\n",
            "0: 576x1024 1 right, 14.4ms\n",
            "Speed: 7.9ms preprocess, 14.4ms inference, 3.1ms postprocess per image at shape (1, 3, 576, 1024)\n",
            "\n",
            "0: 576x1024 1 left, 2 rights, 12.0ms\n",
            "Speed: 9.7ms preprocess, 12.0ms inference, 2.0ms postprocess per image at shape (1, 3, 576, 1024)\n",
            "\n",
            "0: 576x1024 1 right, 11.5ms\n",
            "Speed: 7.5ms preprocess, 11.5ms inference, 2.1ms postprocess per image at shape (1, 3, 576, 1024)\n",
            "\n",
            "0: 576x1024 2 lefts, 3 rights, 12.9ms\n",
            "Speed: 11.9ms preprocess, 12.9ms inference, 2.8ms postprocess per image at shape (1, 3, 576, 1024)\n",
            "\n",
            "0: 576x1024 2 lefts, 3 rights, 11.9ms\n",
            "Speed: 7.5ms preprocess, 11.9ms inference, 1.9ms postprocess per image at shape (1, 3, 576, 1024)\n",
            "\n",
            "0: 576x1024 1 left, 2 rights, 14.4ms\n",
            "Speed: 7.1ms preprocess, 14.4ms inference, 2.7ms postprocess per image at shape (1, 3, 576, 1024)\n",
            "\n",
            "0: 576x1024 1 left, 2 rights, 13.9ms\n",
            "Speed: 7.1ms preprocess, 13.9ms inference, 2.1ms postprocess per image at shape (1, 3, 576, 1024)\n",
            "\n",
            "0: 576x1024 1 left, 2 rights, 11.4ms\n",
            "Speed: 7.3ms preprocess, 11.4ms inference, 2.0ms postprocess per image at shape (1, 3, 576, 1024)\n",
            "\n",
            "0: 576x1024 1 left, 3 rights, 11.4ms\n",
            "Speed: 6.9ms preprocess, 11.4ms inference, 2.2ms postprocess per image at shape (1, 3, 576, 1024)\n",
            "\n",
            "0: 576x1024 1 left, 3 rights, 16.4ms\n",
            "Speed: 10.3ms preprocess, 16.4ms inference, 2.9ms postprocess per image at shape (1, 3, 576, 1024)\n",
            "\n",
            "0: 576x1024 2 lefts, 3 rights, 24.2ms\n",
            "Speed: 12.9ms preprocess, 24.2ms inference, 2.7ms postprocess per image at shape (1, 3, 576, 1024)\n",
            "\n",
            "0: 576x1024 1 left, 3 rights, 15.2ms\n",
            "Speed: 12.7ms preprocess, 15.2ms inference, 2.9ms postprocess per image at shape (1, 3, 576, 1024)\n",
            "\n",
            "0: 576x1024 2 lefts, 1 right, 25.5ms\n",
            "Speed: 7.3ms preprocess, 25.5ms inference, 2.9ms postprocess per image at shape (1, 3, 576, 1024)\n",
            "\n",
            "0: 576x1024 1 left, 3 rights, 22.8ms\n",
            "Speed: 12.5ms preprocess, 22.8ms inference, 2.7ms postprocess per image at shape (1, 3, 576, 1024)\n",
            "\n",
            "0: 576x1024 1 left, 3 rights, 12.6ms\n",
            "Speed: 9.1ms preprocess, 12.6ms inference, 2.6ms postprocess per image at shape (1, 3, 576, 1024)\n",
            "\n",
            "0: 576x1024 2 rights, 12.5ms\n",
            "Speed: 7.1ms preprocess, 12.5ms inference, 2.7ms postprocess per image at shape (1, 3, 576, 1024)\n",
            "\n",
            "0: 576x1024 3 rights, 16.1ms\n",
            "Speed: 6.8ms preprocess, 16.1ms inference, 2.6ms postprocess per image at shape (1, 3, 576, 1024)\n",
            "\n",
            "0: 576x1024 3 lefts, 2 rights, 25.9ms\n",
            "Speed: 6.8ms preprocess, 25.9ms inference, 2.6ms postprocess per image at shape (1, 3, 576, 1024)\n",
            "\n",
            "0: 576x1024 2 rights, 16.0ms\n",
            "Speed: 7.0ms preprocess, 16.0ms inference, 2.8ms postprocess per image at shape (1, 3, 576, 1024)\n",
            "\n",
            "0: 576x1024 3 rights, 12.0ms\n",
            "Speed: 10.2ms preprocess, 12.0ms inference, 3.1ms postprocess per image at shape (1, 3, 576, 1024)\n",
            "\n",
            "0: 576x1024 3 rights, 20.2ms\n",
            "Speed: 9.7ms preprocess, 20.2ms inference, 6.5ms postprocess per image at shape (1, 3, 576, 1024)\n",
            "\n",
            "0: 576x1024 3 rights, 17.9ms\n",
            "Speed: 7.4ms preprocess, 17.9ms inference, 6.2ms postprocess per image at shape (1, 3, 576, 1024)\n",
            "\n",
            "0: 576x1024 3 lefts, 3 rights, 26.8ms\n",
            "Speed: 6.9ms preprocess, 26.8ms inference, 3.0ms postprocess per image at shape (1, 3, 576, 1024)\n",
            "\n",
            "0: 576x1024 2 lefts, 2 rights, 19.7ms\n",
            "Speed: 9.5ms preprocess, 19.7ms inference, 3.0ms postprocess per image at shape (1, 3, 576, 1024)\n",
            "\n",
            "0: 576x1024 2 lefts, 2 rights, 15.4ms\n",
            "Speed: 7.6ms preprocess, 15.4ms inference, 2.0ms postprocess per image at shape (1, 3, 576, 1024)\n",
            "\n",
            "0: 576x1024 2 rights, 14.4ms\n",
            "Speed: 7.3ms preprocess, 14.4ms inference, 2.8ms postprocess per image at shape (1, 3, 576, 1024)\n",
            "\n",
            "0: 576x1024 1 left, 2 rights, 13.9ms\n",
            "Speed: 7.6ms preprocess, 13.9ms inference, 2.3ms postprocess per image at shape (1, 3, 576, 1024)\n",
            "\n",
            "0: 576x1024 3 lefts, 2 rights, 11.5ms\n",
            "Speed: 6.9ms preprocess, 11.5ms inference, 2.1ms postprocess per image at shape (1, 3, 576, 1024)\n",
            "\n",
            "0: 576x1024 1 left, 1 right, 15.2ms\n",
            "Speed: 7.5ms preprocess, 15.2ms inference, 2.1ms postprocess per image at shape (1, 3, 576, 1024)\n",
            "\n",
            "0: 576x1024 2 lefts, 2 rights, 13.2ms\n",
            "Speed: 7.5ms preprocess, 13.2ms inference, 2.9ms postprocess per image at shape (1, 3, 576, 1024)\n",
            "\n",
            "0: 576x1024 2 lefts, 3 rights, 13.8ms\n",
            "Speed: 8.6ms preprocess, 13.8ms inference, 5.3ms postprocess per image at shape (1, 3, 576, 1024)\n",
            "\n",
            "0: 576x1024 2 lefts, 1 right, 12.3ms\n",
            "Speed: 7.0ms preprocess, 12.3ms inference, 2.0ms postprocess per image at shape (1, 3, 576, 1024)\n",
            "\n",
            "0: 576x1024 2 lefts, 3 rights, 12.0ms\n",
            "Speed: 6.9ms preprocess, 12.0ms inference, 2.0ms postprocess per image at shape (1, 3, 576, 1024)\n",
            "\n",
            "0: 576x1024 2 lefts, 3 rights, 13.2ms\n",
            "Speed: 7.5ms preprocess, 13.2ms inference, 2.7ms postprocess per image at shape (1, 3, 576, 1024)\n",
            "\n",
            "0: 576x1024 2 lefts, 2 rights, 13.9ms\n",
            "Speed: 7.0ms preprocess, 13.9ms inference, 2.0ms postprocess per image at shape (1, 3, 576, 1024)\n",
            "\n",
            "0: 576x1024 2 lefts, 3 rights, 13.6ms\n",
            "Speed: 7.2ms preprocess, 13.6ms inference, 2.0ms postprocess per image at shape (1, 3, 576, 1024)\n",
            "\n",
            "0: 576x1024 2 lefts, 1 right, 13.7ms\n",
            "Speed: 7.3ms preprocess, 13.7ms inference, 2.1ms postprocess per image at shape (1, 3, 576, 1024)\n",
            "\n",
            "0: 576x1024 1 left, 2 rights, 14.1ms\n",
            "Speed: 7.2ms preprocess, 14.1ms inference, 2.1ms postprocess per image at shape (1, 3, 576, 1024)\n",
            "\n",
            "0: 576x1024 2 lefts, 3 rights, 13.0ms\n",
            "Speed: 7.2ms preprocess, 13.0ms inference, 2.0ms postprocess per image at shape (1, 3, 576, 1024)\n",
            "\n",
            "0: 576x1024 1 left, 2 rights, 16.0ms\n",
            "Speed: 6.5ms preprocess, 16.0ms inference, 3.3ms postprocess per image at shape (1, 3, 576, 1024)\n",
            "\n",
            "0: 576x1024 2 rights, 13.8ms\n",
            "Speed: 6.3ms preprocess, 13.8ms inference, 2.9ms postprocess per image at shape (1, 3, 576, 1024)\n",
            "\n",
            "0: 576x1024 1 left, 2 rights, 13.7ms\n",
            "Speed: 6.9ms preprocess, 13.7ms inference, 2.6ms postprocess per image at shape (1, 3, 576, 1024)\n",
            "\n",
            "0: 576x1024 1 left, 1 right, 12.4ms\n",
            "Speed: 7.1ms preprocess, 12.4ms inference, 2.1ms postprocess per image at shape (1, 3, 576, 1024)\n",
            "\n",
            "0: 576x1024 1 left, 1 right, 13.7ms\n",
            "Speed: 6.3ms preprocess, 13.7ms inference, 2.7ms postprocess per image at shape (1, 3, 576, 1024)\n",
            "\n",
            "0: 576x1024 2 lefts, 1 right, 13.3ms\n",
            "Speed: 6.9ms preprocess, 13.3ms inference, 2.1ms postprocess per image at shape (1, 3, 576, 1024)\n",
            "\n",
            "0: 576x1024 1 left, 1 right, 13.6ms\n",
            "Speed: 7.5ms preprocess, 13.6ms inference, 4.3ms postprocess per image at shape (1, 3, 576, 1024)\n",
            "\n",
            "0: 576x1024 1 left, 1 right, 11.4ms\n",
            "Speed: 6.6ms preprocess, 11.4ms inference, 2.3ms postprocess per image at shape (1, 3, 576, 1024)\n",
            "\n",
            "0: 576x1024 1 left, 2 rights, 13.3ms\n",
            "Speed: 7.1ms preprocess, 13.3ms inference, 2.7ms postprocess per image at shape (1, 3, 576, 1024)\n",
            "\n",
            "0: 576x1024 2 lefts, 1 right, 18.6ms\n",
            "Speed: 8.0ms preprocess, 18.6ms inference, 3.0ms postprocess per image at shape (1, 3, 576, 1024)\n",
            "\n",
            "0: 576x1024 1 left, 1 right, 15.0ms\n",
            "Speed: 6.7ms preprocess, 15.0ms inference, 2.6ms postprocess per image at shape (1, 3, 576, 1024)\n",
            "\n",
            "0: 576x1024 1 right, 14.8ms\n",
            "Speed: 7.0ms preprocess, 14.8ms inference, 2.1ms postprocess per image at shape (1, 3, 576, 1024)\n",
            "\n",
            "0: 576x1024 1 left, 1 right, 14.1ms\n",
            "Speed: 10.6ms preprocess, 14.1ms inference, 3.0ms postprocess per image at shape (1, 3, 576, 1024)\n",
            "\n",
            "0: 576x1024 1 right, 14.2ms\n",
            "Speed: 6.9ms preprocess, 14.2ms inference, 2.7ms postprocess per image at shape (1, 3, 576, 1024)\n",
            "\n",
            "0: 576x1024 1 right, 13.4ms\n",
            "Speed: 9.0ms preprocess, 13.4ms inference, 2.1ms postprocess per image at shape (1, 3, 576, 1024)\n",
            "\n",
            "0: 576x1024 1 left, 1 right, 13.7ms\n",
            "Speed: 7.3ms preprocess, 13.7ms inference, 2.0ms postprocess per image at shape (1, 3, 576, 1024)\n",
            "\n",
            "0: 576x1024 1 left, 1 right, 13.6ms\n",
            "Speed: 6.5ms preprocess, 13.6ms inference, 2.8ms postprocess per image at shape (1, 3, 576, 1024)\n",
            "\n",
            "0: 576x1024 1 left, 1 right, 13.4ms\n",
            "Speed: 8.0ms preprocess, 13.4ms inference, 2.1ms postprocess per image at shape (1, 3, 576, 1024)\n",
            "\n",
            "0: 576x1024 1 left, 3 rights, 17.3ms\n",
            "Speed: 7.3ms preprocess, 17.3ms inference, 2.6ms postprocess per image at shape (1, 3, 576, 1024)\n",
            "\n",
            "0: 576x1024 1 right, 14.7ms\n",
            "Speed: 6.5ms preprocess, 14.7ms inference, 2.7ms postprocess per image at shape (1, 3, 576, 1024)\n",
            "\n",
            "0: 576x1024 1 left, 3 rights, 13.7ms\n",
            "Speed: 7.3ms preprocess, 13.7ms inference, 2.7ms postprocess per image at shape (1, 3, 576, 1024)\n",
            "\n",
            "0: 576x1024 2 lefts, 2 rights, 13.2ms\n",
            "Speed: 7.3ms preprocess, 13.2ms inference, 2.2ms postprocess per image at shape (1, 3, 576, 1024)\n",
            "\n",
            "0: 576x1024 1 left, 2 rights, 14.5ms\n",
            "Speed: 7.3ms preprocess, 14.5ms inference, 2.0ms postprocess per image at shape (1, 3, 576, 1024)\n",
            "\n",
            "0: 576x1024 1 left, 2 rights, 11.7ms\n",
            "Speed: 9.4ms preprocess, 11.7ms inference, 2.0ms postprocess per image at shape (1, 3, 576, 1024)\n",
            "\n",
            "0: 576x1024 1 left, 2 rights, 13.2ms\n",
            "Speed: 7.7ms preprocess, 13.2ms inference, 3.0ms postprocess per image at shape (1, 3, 576, 1024)\n",
            "\n",
            "0: 576x1024 1 left, 2 rights, 13.8ms\n",
            "Speed: 7.2ms preprocess, 13.8ms inference, 2.2ms postprocess per image at shape (1, 3, 576, 1024)\n",
            "\n",
            "0: 576x1024 2 lefts, 3 rights, 13.5ms\n",
            "Speed: 7.2ms preprocess, 13.5ms inference, 2.8ms postprocess per image at shape (1, 3, 576, 1024)\n",
            "\n",
            "0: 576x1024 1 right, 23.0ms\n",
            "Speed: 6.8ms preprocess, 23.0ms inference, 3.3ms postprocess per image at shape (1, 3, 576, 1024)\n",
            "\n",
            "0: 576x1024 1 left, 2 rights, 11.4ms\n",
            "Speed: 7.1ms preprocess, 11.4ms inference, 2.4ms postprocess per image at shape (1, 3, 576, 1024)\n",
            "\n",
            "0: 576x1024 1 left, 2 rights, 11.9ms\n",
            "Speed: 6.8ms preprocess, 11.9ms inference, 2.0ms postprocess per image at shape (1, 3, 576, 1024)\n",
            "\n",
            "0: 576x1024 1 left, 1 right, 14.1ms\n",
            "Speed: 7.8ms preprocess, 14.1ms inference, 2.3ms postprocess per image at shape (1, 3, 576, 1024)\n",
            "\n",
            "0: 576x1024 1 left, 2 rights, 12.3ms\n",
            "Speed: 13.3ms preprocess, 12.3ms inference, 2.0ms postprocess per image at shape (1, 3, 576, 1024)\n",
            "\n",
            "0: 576x1024 1 right, 12.9ms\n",
            "Speed: 7.1ms preprocess, 12.9ms inference, 2.0ms postprocess per image at shape (1, 3, 576, 1024)\n",
            "\n",
            "0: 576x1024 1 left, 2 rights, 11.4ms\n",
            "Speed: 7.9ms preprocess, 11.4ms inference, 2.0ms postprocess per image at shape (1, 3, 576, 1024)\n",
            "\n",
            "0: 576x1024 1 right, 13.7ms\n",
            "Speed: 6.9ms preprocess, 13.7ms inference, 2.9ms postprocess per image at shape (1, 3, 576, 1024)\n",
            "\n",
            "0: 576x1024 1 right, 13.3ms\n",
            "Speed: 7.2ms preprocess, 13.3ms inference, 2.0ms postprocess per image at shape (1, 3, 576, 1024)\n",
            "\n",
            "0: 576x1024 4 rights, 11.4ms\n",
            "Speed: 8.5ms preprocess, 11.4ms inference, 2.0ms postprocess per image at shape (1, 3, 576, 1024)\n",
            "\n",
            "0: 576x1024 1 right, 13.9ms\n",
            "Speed: 7.1ms preprocess, 13.9ms inference, 2.1ms postprocess per image at shape (1, 3, 576, 1024)\n",
            "\n",
            "0: 576x1024 2 lefts, 2 rights, 14.4ms\n",
            "Speed: 7.4ms preprocess, 14.4ms inference, 2.8ms postprocess per image at shape (1, 3, 576, 1024)\n",
            "\n",
            "0: 576x1024 1 left, 2 rights, 13.4ms\n",
            "Speed: 6.9ms preprocess, 13.4ms inference, 2.0ms postprocess per image at shape (1, 3, 576, 1024)\n",
            "\n",
            "0: 576x1024 1 left, 1 right, 14.1ms\n",
            "Speed: 7.5ms preprocess, 14.1ms inference, 2.0ms postprocess per image at shape (1, 3, 576, 1024)\n",
            "\n",
            "0: 576x1024 1 left, 2 rights, 13.5ms\n",
            "Speed: 9.6ms preprocess, 13.5ms inference, 2.2ms postprocess per image at shape (1, 3, 576, 1024)\n",
            "\n",
            "0: 576x1024 1 right, 13.5ms\n",
            "Speed: 8.1ms preprocess, 13.5ms inference, 3.1ms postprocess per image at shape (1, 3, 576, 1024)\n",
            "\n",
            "0: 576x1024 1 left, 2 rights, 13.8ms\n",
            "Speed: 7.8ms preprocess, 13.8ms inference, 2.3ms postprocess per image at shape (1, 3, 576, 1024)\n",
            "\n",
            "0: 576x1024 1 left, 2 rights, 11.4ms\n",
            "Speed: 7.1ms preprocess, 11.4ms inference, 2.8ms postprocess per image at shape (1, 3, 576, 1024)\n",
            "\n",
            "0: 576x1024 1 right, 15.2ms\n",
            "Speed: 9.5ms preprocess, 15.2ms inference, 3.6ms postprocess per image at shape (1, 3, 576, 1024)\n",
            "\n",
            "0: 576x1024 1 left, 2 rights, 14.0ms\n",
            "Speed: 7.7ms preprocess, 14.0ms inference, 2.9ms postprocess per image at shape (1, 3, 576, 1024)\n",
            "\n",
            "0: 576x1024 1 right, 13.4ms\n",
            "Speed: 7.7ms preprocess, 13.4ms inference, 2.7ms postprocess per image at shape (1, 3, 576, 1024)\n",
            "\n",
            "0: 576x1024 1 left, 1 right, 14.3ms\n",
            "Speed: 6.9ms preprocess, 14.3ms inference, 2.0ms postprocess per image at shape (1, 3, 576, 1024)\n",
            "\n",
            "0: 576x1024 1 right, 15.0ms\n",
            "Speed: 6.9ms preprocess, 15.0ms inference, 2.1ms postprocess per image at shape (1, 3, 576, 1024)\n",
            "\n",
            "0: 576x1024 1 right, 13.4ms\n",
            "Speed: 7.0ms preprocess, 13.4ms inference, 2.6ms postprocess per image at shape (1, 3, 576, 1024)\n",
            "\n",
            "0: 576x1024 1 right, 13.8ms\n",
            "Speed: 7.8ms preprocess, 13.8ms inference, 2.0ms postprocess per image at shape (1, 3, 576, 1024)\n",
            "\n",
            "0: 576x1024 1 left, 2 rights, 13.0ms\n",
            "Speed: 7.2ms preprocess, 13.0ms inference, 2.1ms postprocess per image at shape (1, 3, 576, 1024)\n",
            "\n",
            "0: 576x1024 2 rights, 13.6ms\n",
            "Speed: 6.9ms preprocess, 13.6ms inference, 2.0ms postprocess per image at shape (1, 3, 576, 1024)\n",
            "\n",
            "0: 576x1024 1 right, 22.9ms\n",
            "Speed: 11.8ms preprocess, 22.9ms inference, 3.5ms postprocess per image at shape (1, 3, 576, 1024)\n",
            "\n",
            "0: 576x1024 1 right, 11.4ms\n",
            "Speed: 5.6ms preprocess, 11.4ms inference, 2.0ms postprocess per image at shape (1, 3, 576, 1024)\n",
            "\n",
            "0: 576x1024 1 right, 14.1ms\n",
            "Speed: 7.1ms preprocess, 14.1ms inference, 2.8ms postprocess per image at shape (1, 3, 576, 1024)\n",
            "\n",
            "0: 576x1024 2 rights, 14.1ms\n",
            "Speed: 6.5ms preprocess, 14.1ms inference, 2.7ms postprocess per image at shape (1, 3, 576, 1024)\n",
            "\n",
            "0: 576x1024 1 right, 18.4ms\n",
            "Speed: 8.3ms preprocess, 18.4ms inference, 3.0ms postprocess per image at shape (1, 3, 576, 1024)\n",
            "\n",
            "0: 576x1024 1 left, 2 rights, 11.4ms\n",
            "Speed: 6.9ms preprocess, 11.4ms inference, 2.0ms postprocess per image at shape (1, 3, 576, 1024)\n",
            "\n",
            "0: 576x1024 1 left, 1 right, 14.2ms\n",
            "Speed: 6.4ms preprocess, 14.2ms inference, 2.9ms postprocess per image at shape (1, 3, 576, 1024)\n",
            "\n",
            "0: 576x1024 1 left, 2 rights, 13.6ms\n",
            "Speed: 6.9ms preprocess, 13.6ms inference, 2.0ms postprocess per image at shape (1, 3, 576, 1024)\n",
            "\n",
            "0: 576x1024 1 left, 2 rights, 12.1ms\n",
            "Speed: 12.0ms preprocess, 12.1ms inference, 2.1ms postprocess per image at shape (1, 3, 576, 1024)\n",
            "\n",
            "0: 576x1024 1 left, 1 right, 12.5ms\n",
            "Speed: 9.7ms preprocess, 12.5ms inference, 2.4ms postprocess per image at shape (1, 3, 576, 1024)\n",
            "\n",
            "0: 576x1024 1 right, 13.6ms\n",
            "Speed: 7.3ms preprocess, 13.6ms inference, 2.9ms postprocess per image at shape (1, 3, 576, 1024)\n",
            "\n",
            "0: 576x1024 1 left, 1 right, 13.5ms\n",
            "Speed: 6.8ms preprocess, 13.5ms inference, 2.0ms postprocess per image at shape (1, 3, 576, 1024)\n",
            "\n",
            "0: 576x1024 1 left, 2 rights, 11.4ms\n",
            "Speed: 6.9ms preprocess, 11.4ms inference, 2.0ms postprocess per image at shape (1, 3, 576, 1024)\n",
            "\n",
            "0: 576x1024 1 left, 2 rights, 12.1ms\n",
            "Speed: 7.2ms preprocess, 12.1ms inference, 2.1ms postprocess per image at shape (1, 3, 576, 1024)\n",
            "\n",
            "0: 576x1024 1 left, 1 right, 13.2ms\n",
            "Speed: 6.8ms preprocess, 13.2ms inference, 2.8ms postprocess per image at shape (1, 3, 576, 1024)\n",
            "\n",
            "0: 576x1024 1 left, 3 rights, 13.8ms\n",
            "Speed: 7.0ms preprocess, 13.8ms inference, 2.0ms postprocess per image at shape (1, 3, 576, 1024)\n",
            "\n",
            "0: 576x1024 2 rights, 11.4ms\n",
            "Speed: 14.5ms preprocess, 11.4ms inference, 2.0ms postprocess per image at shape (1, 3, 576, 1024)\n",
            "\n",
            "0: 576x1024 2 rights, 22.1ms\n",
            "Speed: 9.4ms preprocess, 22.1ms inference, 3.3ms postprocess per image at shape (1, 3, 576, 1024)\n",
            "\n",
            "0: 576x1024 2 rights, 25.2ms\n",
            "Speed: 8.8ms preprocess, 25.2ms inference, 7.5ms postprocess per image at shape (1, 3, 576, 1024)\n",
            "\n",
            "0: 576x1024 1 left, 2 rights, 13.2ms\n",
            "Speed: 7.4ms preprocess, 13.2ms inference, 9.8ms postprocess per image at shape (1, 3, 576, 1024)\n",
            "\n",
            "0: 576x1024 1 left, 2 rights, 15.8ms\n",
            "Speed: 7.3ms preprocess, 15.8ms inference, 3.8ms postprocess per image at shape (1, 3, 576, 1024)\n",
            "\n",
            "0: 576x1024 1 left, 1 right, 17.1ms\n",
            "Speed: 7.3ms preprocess, 17.1ms inference, 2.7ms postprocess per image at shape (1, 3, 576, 1024)\n",
            "\n",
            "0: 576x1024 1 left, 1 right, 12.6ms\n",
            "Speed: 7.7ms preprocess, 12.6ms inference, 9.6ms postprocess per image at shape (1, 3, 576, 1024)\n",
            "\n",
            "0: 576x1024 1 left, 1 right, 28.2ms\n",
            "Speed: 9.0ms preprocess, 28.2ms inference, 2.8ms postprocess per image at shape (1, 3, 576, 1024)\n",
            "\n",
            "0: 576x1024 1 left, 2 rights, 13.4ms\n",
            "Speed: 12.5ms preprocess, 13.4ms inference, 3.4ms postprocess per image at shape (1, 3, 576, 1024)\n",
            "\n",
            "0: 576x1024 1 right, 15.4ms\n",
            "Speed: 15.2ms preprocess, 15.4ms inference, 2.6ms postprocess per image at shape (1, 3, 576, 1024)\n",
            "\n",
            "0: 576x1024 2 lefts, 1 right, 34.1ms\n",
            "Speed: 8.1ms preprocess, 34.1ms inference, 2.8ms postprocess per image at shape (1, 3, 576, 1024)\n",
            "\n",
            "0: 576x1024 1 left, 1 right, 15.1ms\n",
            "Speed: 10.7ms preprocess, 15.1ms inference, 2.6ms postprocess per image at shape (1, 3, 576, 1024)\n",
            "\n",
            "0: 576x1024 2 lefts, 1 right, 23.1ms\n",
            "Speed: 6.3ms preprocess, 23.1ms inference, 2.8ms postprocess per image at shape (1, 3, 576, 1024)\n",
            "\n",
            "0: 576x1024 2 rights, 21.4ms\n",
            "Speed: 11.4ms preprocess, 21.4ms inference, 3.1ms postprocess per image at shape (1, 3, 576, 1024)\n",
            "\n",
            "0: 576x1024 2 lefts, 1 right, 34.6ms\n",
            "Speed: 8.2ms preprocess, 34.6ms inference, 3.1ms postprocess per image at shape (1, 3, 576, 1024)\n",
            "\n",
            "0: 576x1024 1 left, 1 right, 11.4ms\n",
            "Speed: 10.5ms preprocess, 11.4ms inference, 2.1ms postprocess per image at shape (1, 3, 576, 1024)\n",
            "\n",
            "0: 576x1024 1 left, 2 rights, 13.9ms\n",
            "Speed: 6.3ms preprocess, 13.9ms inference, 2.8ms postprocess per image at shape (1, 3, 576, 1024)\n",
            "\n",
            "0: 576x1024 2 lefts, 1 right, 13.9ms\n",
            "Speed: 6.5ms preprocess, 13.9ms inference, 2.7ms postprocess per image at shape (1, 3, 576, 1024)\n",
            "\n",
            "0: 576x1024 1 left, 3 rights, 11.4ms\n",
            "Speed: 6.9ms preprocess, 11.4ms inference, 2.1ms postprocess per image at shape (1, 3, 576, 1024)\n",
            "\n",
            "0: 576x1024 1 left, 2 rights, 11.4ms\n",
            "Speed: 5.8ms preprocess, 11.4ms inference, 2.2ms postprocess per image at shape (1, 3, 576, 1024)\n",
            "\n",
            "0: 576x1024 1 left, 1 right, 13.7ms\n",
            "Speed: 7.8ms preprocess, 13.7ms inference, 2.3ms postprocess per image at shape (1, 3, 576, 1024)\n",
            "\n",
            "0: 576x1024 1 left, 2 rights, 13.0ms\n",
            "Speed: 6.7ms preprocess, 13.0ms inference, 2.1ms postprocess per image at shape (1, 3, 576, 1024)\n",
            "\n",
            "0: 576x1024 2 lefts, 1 right, 11.4ms\n",
            "Speed: 6.9ms preprocess, 11.4ms inference, 2.0ms postprocess per image at shape (1, 3, 576, 1024)\n",
            "\n",
            "0: 576x1024 1 left, 1 right, 11.4ms\n",
            "Speed: 9.3ms preprocess, 11.4ms inference, 2.3ms postprocess per image at shape (1, 3, 576, 1024)\n",
            "\n",
            "0: 576x1024 2 lefts, 3 rights, 15.3ms\n",
            "Speed: 6.9ms preprocess, 15.3ms inference, 3.2ms postprocess per image at shape (1, 3, 576, 1024)\n",
            "\n",
            "0: 576x1024 2 lefts, 1 right, 13.6ms\n",
            "Speed: 7.1ms preprocess, 13.6ms inference, 2.2ms postprocess per image at shape (1, 3, 576, 1024)\n",
            "\n",
            "0: 576x1024 1 right, 13.8ms\n",
            "Speed: 6.6ms preprocess, 13.8ms inference, 2.2ms postprocess per image at shape (1, 3, 576, 1024)\n",
            "\n",
            "0: 576x1024 1 left, 2 rights, 11.8ms\n",
            "Speed: 6.7ms preprocess, 11.8ms inference, 2.1ms postprocess per image at shape (1, 3, 576, 1024)\n",
            "\n",
            "0: 576x1024 1 left, 1 right, 13.1ms\n",
            "Speed: 7.1ms preprocess, 13.1ms inference, 2.3ms postprocess per image at shape (1, 3, 576, 1024)\n",
            "\n",
            "0: 576x1024 1 left, 2 rights, 12.9ms\n",
            "Speed: 6.7ms preprocess, 12.9ms inference, 2.1ms postprocess per image at shape (1, 3, 576, 1024)\n",
            "\n",
            "0: 576x1024 2 lefts, 2 rights, 11.4ms\n",
            "Speed: 7.1ms preprocess, 11.4ms inference, 2.0ms postprocess per image at shape (1, 3, 576, 1024)\n",
            "\n",
            "0: 576x1024 1 left, 1 right, 11.4ms\n",
            "Speed: 7.7ms preprocess, 11.4ms inference, 2.0ms postprocess per image at shape (1, 3, 576, 1024)\n",
            "\n",
            "0: 576x1024 2 lefts, 3 rights, 14.4ms\n",
            "Speed: 6.8ms preprocess, 14.4ms inference, 2.9ms postprocess per image at shape (1, 3, 576, 1024)\n",
            "\n",
            "0: 576x1024 1 left, 1 right, 13.7ms\n",
            "Speed: 6.3ms preprocess, 13.7ms inference, 2.7ms postprocess per image at shape (1, 3, 576, 1024)\n",
            "\n",
            "0: 576x1024 1 right, 14.1ms\n",
            "Speed: 6.2ms preprocess, 14.1ms inference, 2.2ms postprocess per image at shape (1, 3, 576, 1024)\n",
            "\n",
            "0: 576x1024 2 lefts, 3 rights, 13.7ms\n",
            "Speed: 6.1ms preprocess, 13.7ms inference, 2.0ms postprocess per image at shape (1, 3, 576, 1024)\n",
            "\n",
            "0: 576x1024 1 left, 1 right, 13.8ms\n",
            "Speed: 6.2ms preprocess, 13.8ms inference, 2.8ms postprocess per image at shape (1, 3, 576, 1024)\n",
            "\n",
            "0: 576x1024 2 lefts, 2 rights, 13.3ms\n",
            "Speed: 7.0ms preprocess, 13.3ms inference, 2.0ms postprocess per image at shape (1, 3, 576, 1024)\n",
            "\n",
            "0: 576x1024 1 left, 3 rights, 11.4ms\n",
            "Speed: 6.5ms preprocess, 11.4ms inference, 2.0ms postprocess per image at shape (1, 3, 576, 1024)\n",
            "\n",
            "0: 576x1024 2 lefts, 1 right, 12.6ms\n",
            "Speed: 7.4ms preprocess, 12.6ms inference, 2.1ms postprocess per image at shape (1, 3, 576, 1024)\n",
            "\n",
            "0: 576x1024 1 left, 2 rights, 13.6ms\n",
            "Speed: 8.5ms preprocess, 13.6ms inference, 3.0ms postprocess per image at shape (1, 3, 576, 1024)\n",
            "\n",
            "0: 576x1024 1 right, 14.2ms\n",
            "Speed: 7.8ms preprocess, 14.2ms inference, 3.1ms postprocess per image at shape (1, 3, 576, 1024)\n",
            "\n",
            "0: 576x1024 2 lefts, 1 right, 13.5ms\n",
            "Speed: 7.5ms preprocess, 13.5ms inference, 2.2ms postprocess per image at shape (1, 3, 576, 1024)\n",
            "\n",
            "0: 576x1024 1 right, 12.7ms\n",
            "Speed: 7.2ms preprocess, 12.7ms inference, 2.1ms postprocess per image at shape (1, 3, 576, 1024)\n",
            "\n",
            "0: 576x1024 1 left, 1 right, 12.8ms\n",
            "Speed: 6.9ms preprocess, 12.8ms inference, 2.7ms postprocess per image at shape (1, 3, 576, 1024)\n",
            "\n",
            "0: 576x1024 1 right, 12.1ms\n",
            "Speed: 7.3ms preprocess, 12.1ms inference, 2.0ms postprocess per image at shape (1, 3, 576, 1024)\n",
            "\n",
            "0: 576x1024 1 right, 13.5ms\n",
            "Speed: 9.2ms preprocess, 13.5ms inference, 2.5ms postprocess per image at shape (1, 3, 576, 1024)\n",
            "\n",
            "0: 576x1024 1 right, 15.8ms\n",
            "Speed: 6.7ms preprocess, 15.8ms inference, 3.0ms postprocess per image at shape (1, 3, 576, 1024)\n",
            "\n",
            "0: 576x1024 1 right, 12.2ms\n",
            "Speed: 7.1ms preprocess, 12.2ms inference, 3.2ms postprocess per image at shape (1, 3, 576, 1024)\n",
            "\n",
            "0: 576x1024 1 right, 14.1ms\n",
            "Speed: 7.5ms preprocess, 14.1ms inference, 2.0ms postprocess per image at shape (1, 3, 576, 1024)\n",
            "\n",
            "0: 576x1024 1 right, 13.6ms\n",
            "Speed: 7.4ms preprocess, 13.6ms inference, 2.8ms postprocess per image at shape (1, 3, 576, 1024)\n",
            "\n",
            "0: 576x1024 1 right, 13.6ms\n",
            "Speed: 7.5ms preprocess, 13.6ms inference, 2.0ms postprocess per image at shape (1, 3, 576, 1024)\n",
            "\n",
            "0: 576x1024 1 right, 15.2ms\n",
            "Speed: 11.0ms preprocess, 15.2ms inference, 2.1ms postprocess per image at shape (1, 3, 576, 1024)\n",
            "\n",
            "0: 576x1024 1 right, 12.2ms\n",
            "Speed: 7.1ms preprocess, 12.2ms inference, 2.2ms postprocess per image at shape (1, 3, 576, 1024)\n",
            "\n",
            "0: 576x1024 1 right, 13.1ms\n",
            "Speed: 6.7ms preprocess, 13.1ms inference, 2.2ms postprocess per image at shape (1, 3, 576, 1024)\n",
            "\n",
            "0: 576x1024 1 right, 14.1ms\n",
            "Speed: 7.3ms preprocess, 14.1ms inference, 2.1ms postprocess per image at shape (1, 3, 576, 1024)\n",
            "\n",
            "0: 576x1024 1 right, 11.4ms\n",
            "Speed: 7.3ms preprocess, 11.4ms inference, 2.4ms postprocess per image at shape (1, 3, 576, 1024)\n",
            "\n",
            "0: 576x1024 1 right, 14.5ms\n",
            "Speed: 7.1ms preprocess, 14.5ms inference, 2.1ms postprocess per image at shape (1, 3, 576, 1024)\n",
            "\n",
            "0: 576x1024 1 right, 14.9ms\n",
            "Speed: 7.3ms preprocess, 14.9ms inference, 2.9ms postprocess per image at shape (1, 3, 576, 1024)\n",
            "\n",
            "0: 576x1024 1 right, 13.8ms\n",
            "Speed: 6.3ms preprocess, 13.8ms inference, 3.2ms postprocess per image at shape (1, 3, 576, 1024)\n",
            "\n",
            "0: 576x1024 1 right, 11.7ms\n",
            "Speed: 6.9ms preprocess, 11.7ms inference, 1.9ms postprocess per image at shape (1, 3, 576, 1024)\n",
            "\n",
            "0: 576x1024 1 right, 12.3ms\n",
            "Speed: 7.8ms preprocess, 12.3ms inference, 2.3ms postprocess per image at shape (1, 3, 576, 1024)\n",
            "\n",
            "0: 576x1024 1 right, 16.9ms\n",
            "Speed: 7.6ms preprocess, 16.9ms inference, 2.8ms postprocess per image at shape (1, 3, 576, 1024)\n",
            "\n",
            "0: 576x1024 1 right, 13.8ms\n",
            "Speed: 9.8ms preprocess, 13.8ms inference, 2.1ms postprocess per image at shape (1, 3, 576, 1024)\n",
            "\n",
            "0: 576x1024 2 rights, 11.4ms\n",
            "Speed: 5.5ms preprocess, 11.4ms inference, 2.1ms postprocess per image at shape (1, 3, 576, 1024)\n",
            "\n",
            "0: 576x1024 2 rights, 11.5ms\n",
            "Speed: 6.8ms preprocess, 11.5ms inference, 2.1ms postprocess per image at shape (1, 3, 576, 1024)\n",
            "\n",
            "0: 576x1024 1 left, 2 rights, 14.4ms\n",
            "Speed: 7.2ms preprocess, 14.4ms inference, 2.7ms postprocess per image at shape (1, 3, 576, 1024)\n",
            "\n",
            "0: 576x1024 2 lefts, 2 rights, 14.0ms\n",
            "Speed: 7.0ms preprocess, 14.0ms inference, 2.0ms postprocess per image at shape (1, 3, 576, 1024)\n",
            "\n",
            "0: 576x1024 1 left, 2 rights, 14.3ms\n",
            "Speed: 7.1ms preprocess, 14.3ms inference, 2.0ms postprocess per image at shape (1, 3, 576, 1024)\n",
            "\n",
            "0: 576x1024 1 left, 2 rights, 11.4ms\n",
            "Speed: 7.0ms preprocess, 11.4ms inference, 1.9ms postprocess per image at shape (1, 3, 576, 1024)\n",
            "\n",
            "0: 576x1024 1 left, 2 rights, 12.9ms\n",
            "Speed: 7.2ms preprocess, 12.9ms inference, 2.7ms postprocess per image at shape (1, 3, 576, 1024)\n",
            "\n",
            "0: 576x1024 2 lefts, 1 right, 14.1ms\n",
            "Speed: 7.5ms preprocess, 14.1ms inference, 2.0ms postprocess per image at shape (1, 3, 576, 1024)\n",
            "\n",
            "0: 576x1024 2 rights, 12.4ms\n",
            "Speed: 7.0ms preprocess, 12.4ms inference, 2.0ms postprocess per image at shape (1, 3, 576, 1024)\n",
            "\n",
            "0: 576x1024 2 rights, 13.0ms\n",
            "Speed: 11.1ms preprocess, 13.0ms inference, 2.1ms postprocess per image at shape (1, 3, 576, 1024)\n",
            "\n",
            "0: 576x1024 1 left, 2 rights, 13.7ms\n",
            "Speed: 7.6ms preprocess, 13.7ms inference, 2.8ms postprocess per image at shape (1, 3, 576, 1024)\n",
            "\n",
            "0: 576x1024 2 rights, 14.5ms\n",
            "Speed: 8.0ms preprocess, 14.5ms inference, 2.0ms postprocess per image at shape (1, 3, 576, 1024)\n",
            "\n",
            "0: 576x1024 2 lefts, 3 rights, 13.3ms\n",
            "Speed: 7.5ms preprocess, 13.3ms inference, 2.2ms postprocess per image at shape (1, 3, 576, 1024)\n",
            "\n",
            "0: 576x1024 2 rights, 13.9ms\n",
            "Speed: 7.5ms preprocess, 13.9ms inference, 2.2ms postprocess per image at shape (1, 3, 576, 1024)\n",
            "\n",
            "0: 576x1024 1 right, 12.3ms\n",
            "Speed: 6.7ms preprocess, 12.3ms inference, 2.0ms postprocess per image at shape (1, 3, 576, 1024)\n",
            "\n",
            "0: 576x1024 2 lefts, 1 right, 11.7ms\n",
            "Speed: 9.1ms preprocess, 11.7ms inference, 2.0ms postprocess per image at shape (1, 3, 576, 1024)\n",
            "\n",
            "0: 576x1024 2 lefts, 1 right, 13.6ms\n",
            "Speed: 6.3ms preprocess, 13.6ms inference, 2.7ms postprocess per image at shape (1, 3, 576, 1024)\n",
            "\n",
            "0: 576x1024 2 lefts, 2 rights, 13.8ms\n",
            "Speed: 8.7ms preprocess, 13.8ms inference, 2.2ms postprocess per image at shape (1, 3, 576, 1024)\n",
            "\n",
            "0: 576x1024 1 right, 11.4ms\n",
            "Speed: 6.1ms preprocess, 11.4ms inference, 2.0ms postprocess per image at shape (1, 3, 576, 1024)\n",
            "\n",
            "0: 576x1024 1 right, 12.4ms\n",
            "Speed: 8.1ms preprocess, 12.4ms inference, 2.1ms postprocess per image at shape (1, 3, 576, 1024)\n",
            "\n",
            "0: 576x1024 1 left, 1 right, 11.4ms\n",
            "Speed: 6.9ms preprocess, 11.4ms inference, 2.3ms postprocess per image at shape (1, 3, 576, 1024)\n",
            "\n",
            "0: 576x1024 (no detections), 11.4ms\n",
            "Speed: 6.9ms preprocess, 11.4ms inference, 0.5ms postprocess per image at shape (1, 3, 576, 1024)\n",
            "\n",
            "0: 576x1024 (no detections), 17.2ms\n",
            "Speed: 7.7ms preprocess, 17.2ms inference, 0.9ms postprocess per image at shape (1, 3, 576, 1024)\n"
          ]
        }
      ]
    },
    {
      "cell_type": "code",
      "source": [
        "from collections import defaultdict\n",
        "import cv2\n",
        "import numpy as np\n",
        "from ultralytics import YOLO\n",
        "\n",
        "# Load the YOLOv8 model\n",
        "model = YOLO('best.pt')\n",
        "\n",
        "# Open the video file\n",
        "video_path = \"Prueba 15.MOV\"\n",
        "cap = cv2.VideoCapture(video_path)\n",
        "\n",
        "# Get the video dimensions\n",
        "frame_width = int(cap.get(3))\n",
        "frame_height = int(cap.get(4))\n",
        "\n",
        "\n",
        "# Create a VideoWriter object to save the output video\n",
        "out = cv2.VideoWriter('output.avi', cv2.VideoWriter_fourcc('M','J','P','G'), 10, (frame_width, frame_height))\n",
        "\n",
        "# Store the track history\n",
        "track_history = defaultdict(lambda: [])\n",
        "\n",
        "# Loop through the video frames\n",
        "while cap.isOpened():\n",
        "    # Read a frame from the video\n",
        "    success, frame = cap.read()\n",
        "\n",
        "    if success:\n",
        "        # Run YOLOv8 tracking on the frame, persisting tracks between frames\n",
        "        results = model.track(frame, persist=True)\n",
        "\n",
        "        # Get the boxes and track IDs\n",
        "        boxes = results[0].boxes.xywh.cpu()\n",
        "        track_ids = results[0].boxes.id.int().cpu().tolist() if results[0].boxes.id is not None else []\n",
        "\n",
        "        # Visualize the results on the frame\n",
        "        annotated_frame = results[0].plot()\n",
        "\n",
        "        # Plot the tracks\n",
        "        for box, track_id in zip(boxes, track_ids):\n",
        "            x, y, w, h = box\n",
        "            track = track_history[track_id]\n",
        "            track.append((float(x), float(y)))  # x, y center point\n",
        "            if len(track) > 30:  # retain 90 tracks for 90 frames\n",
        "                track.pop(0)\n",
        "\n",
        "            # Draw the tracking lines\n",
        "            points = np.hstack(track).astype(np.int32).reshape((-1, 1, 2))\n",
        "            cv2.polylines(annotated_frame, [points], isClosed=False, color=(230, 230, 230), thickness=10)\n",
        "\n",
        "        # Write the annotated frame to the output video\n",
        "        out.write(annotated_frame)\n",
        "    else:\n",
        "        # Break the loop if the end of the video is reached\n",
        "        break\n",
        "\n",
        "# Release the video capture and writer objects\n",
        "cap.release()\n",
        "out.release()\n"
      ],
      "metadata": {
        "colab": {
          "base_uri": "https://localhost:8080/"
        },
        "id": "Lby7PFL9d5qx",
        "outputId": "adfc8116-8706-4bbb-f794-e47f66e305d5"
      },
      "execution_count": null,
      "outputs": [
        {
          "output_type": "stream",
          "name": "stdout",
          "text": [
            "\n",
            "0: 576x1024 (no detections), 12.0ms\n",
            "Speed: 4.6ms preprocess, 12.0ms inference, 0.5ms postprocess per image at shape (1, 3, 576, 1024)\n",
            "\n",
            "0: 576x1024 (no detections), 14.2ms\n",
            "Speed: 7.3ms preprocess, 14.2ms inference, 0.7ms postprocess per image at shape (1, 3, 576, 1024)\n",
            "\n",
            "0: 576x1024 (no detections), 13.8ms\n",
            "Speed: 7.1ms preprocess, 13.8ms inference, 0.7ms postprocess per image at shape (1, 3, 576, 1024)\n",
            "\n",
            "0: 576x1024 (no detections), 14.3ms\n",
            "Speed: 7.3ms preprocess, 14.3ms inference, 0.8ms postprocess per image at shape (1, 3, 576, 1024)\n",
            "\n",
            "0: 576x1024 (no detections), 15.0ms\n",
            "Speed: 6.6ms preprocess, 15.0ms inference, 0.9ms postprocess per image at shape (1, 3, 576, 1024)\n",
            "\n",
            "0: 576x1024 (no detections), 15.4ms\n",
            "Speed: 7.0ms preprocess, 15.4ms inference, 0.7ms postprocess per image at shape (1, 3, 576, 1024)\n",
            "\n",
            "0: 576x1024 (no detections), 14.9ms\n",
            "Speed: 6.8ms preprocess, 14.9ms inference, 0.7ms postprocess per image at shape (1, 3, 576, 1024)\n",
            "\n",
            "0: 576x1024 (no detections), 14.8ms\n",
            "Speed: 7.0ms preprocess, 14.8ms inference, 0.8ms postprocess per image at shape (1, 3, 576, 1024)\n",
            "\n",
            "0: 576x1024 (no detections), 17.0ms\n",
            "Speed: 6.7ms preprocess, 17.0ms inference, 0.8ms postprocess per image at shape (1, 3, 576, 1024)\n",
            "\n",
            "0: 576x1024 (no detections), 22.6ms\n",
            "Speed: 6.6ms preprocess, 22.6ms inference, 0.8ms postprocess per image at shape (1, 3, 576, 1024)\n",
            "\n",
            "0: 576x1024 (no detections), 14.0ms\n",
            "Speed: 6.5ms preprocess, 14.0ms inference, 0.7ms postprocess per image at shape (1, 3, 576, 1024)\n",
            "\n",
            "0: 576x1024 (no detections), 14.8ms\n",
            "Speed: 6.6ms preprocess, 14.8ms inference, 0.8ms postprocess per image at shape (1, 3, 576, 1024)\n",
            "\n",
            "0: 576x1024 (no detections), 14.1ms\n",
            "Speed: 6.9ms preprocess, 14.1ms inference, 0.8ms postprocess per image at shape (1, 3, 576, 1024)\n",
            "\n",
            "0: 576x1024 (no detections), 14.5ms\n",
            "Speed: 6.5ms preprocess, 14.5ms inference, 0.8ms postprocess per image at shape (1, 3, 576, 1024)\n",
            "\n",
            "0: 576x1024 (no detections), 14.3ms\n",
            "Speed: 6.3ms preprocess, 14.3ms inference, 0.7ms postprocess per image at shape (1, 3, 576, 1024)\n",
            "\n",
            "0: 576x1024 (no detections), 14.4ms\n",
            "Speed: 6.2ms preprocess, 14.4ms inference, 0.7ms postprocess per image at shape (1, 3, 576, 1024)\n",
            "\n",
            "0: 576x1024 (no detections), 16.1ms\n",
            "Speed: 7.4ms preprocess, 16.1ms inference, 0.8ms postprocess per image at shape (1, 3, 576, 1024)\n",
            "\n",
            "0: 576x1024 (no detections), 16.7ms\n",
            "Speed: 7.2ms preprocess, 16.7ms inference, 0.8ms postprocess per image at shape (1, 3, 576, 1024)\n",
            "\n",
            "0: 576x1024 (no detections), 14.9ms\n",
            "Speed: 7.4ms preprocess, 14.9ms inference, 0.8ms postprocess per image at shape (1, 3, 576, 1024)\n",
            "\n",
            "0: 576x1024 (no detections), 19.3ms\n",
            "Speed: 7.0ms preprocess, 19.3ms inference, 0.8ms postprocess per image at shape (1, 3, 576, 1024)\n",
            "\n",
            "0: 576x1024 (no detections), 14.2ms\n",
            "Speed: 7.3ms preprocess, 14.2ms inference, 0.7ms postprocess per image at shape (1, 3, 576, 1024)\n",
            "\n",
            "0: 576x1024 (no detections), 14.3ms\n",
            "Speed: 8.2ms preprocess, 14.3ms inference, 0.8ms postprocess per image at shape (1, 3, 576, 1024)\n",
            "\n",
            "0: 576x1024 (no detections), 14.9ms\n",
            "Speed: 7.9ms preprocess, 14.9ms inference, 0.7ms postprocess per image at shape (1, 3, 576, 1024)\n",
            "\n",
            "0: 576x1024 (no detections), 14.3ms\n",
            "Speed: 7.6ms preprocess, 14.3ms inference, 0.7ms postprocess per image at shape (1, 3, 576, 1024)\n",
            "\n",
            "0: 576x1024 (no detections), 14.1ms\n",
            "Speed: 7.9ms preprocess, 14.1ms inference, 0.7ms postprocess per image at shape (1, 3, 576, 1024)\n",
            "\n",
            "0: 576x1024 (no detections), 13.9ms\n",
            "Speed: 8.1ms preprocess, 13.9ms inference, 0.8ms postprocess per image at shape (1, 3, 576, 1024)\n",
            "\n",
            "0: 576x1024 (no detections), 12.9ms\n",
            "Speed: 6.7ms preprocess, 12.9ms inference, 0.7ms postprocess per image at shape (1, 3, 576, 1024)\n",
            "\n",
            "0: 576x1024 (no detections), 14.0ms\n",
            "Speed: 7.1ms preprocess, 14.0ms inference, 0.7ms postprocess per image at shape (1, 3, 576, 1024)\n",
            "\n",
            "0: 576x1024 (no detections), 13.6ms\n",
            "Speed: 7.3ms preprocess, 13.6ms inference, 0.8ms postprocess per image at shape (1, 3, 576, 1024)\n",
            "\n",
            "0: 576x1024 (no detections), 13.5ms\n",
            "Speed: 7.4ms preprocess, 13.5ms inference, 0.7ms postprocess per image at shape (1, 3, 576, 1024)\n",
            "\n",
            "0: 576x1024 (no detections), 16.6ms\n",
            "Speed: 7.3ms preprocess, 16.6ms inference, 0.8ms postprocess per image at shape (1, 3, 576, 1024)\n",
            "\n",
            "0: 576x1024 (no detections), 19.9ms\n",
            "Speed: 7.6ms preprocess, 19.9ms inference, 0.8ms postprocess per image at shape (1, 3, 576, 1024)\n",
            "\n",
            "0: 576x1024 (no detections), 36.0ms\n",
            "Speed: 10.6ms preprocess, 36.0ms inference, 2.9ms postprocess per image at shape (1, 3, 576, 1024)\n",
            "\n",
            "0: 576x1024 (no detections), 15.0ms\n",
            "Speed: 13.3ms preprocess, 15.0ms inference, 0.7ms postprocess per image at shape (1, 3, 576, 1024)\n",
            "\n",
            "0: 576x1024 (no detections), 27.3ms\n",
            "Speed: 8.4ms preprocess, 27.3ms inference, 0.7ms postprocess per image at shape (1, 3, 576, 1024)\n",
            "\n",
            "0: 576x1024 (no detections), 13.5ms\n",
            "Speed: 11.6ms preprocess, 13.5ms inference, 0.7ms postprocess per image at shape (1, 3, 576, 1024)\n",
            "\n",
            "0: 576x1024 (no detections), 34.3ms\n",
            "Speed: 19.7ms preprocess, 34.3ms inference, 0.7ms postprocess per image at shape (1, 3, 576, 1024)\n",
            "\n",
            "0: 576x1024 (no detections), 18.7ms\n",
            "Speed: 7.5ms preprocess, 18.7ms inference, 0.7ms postprocess per image at shape (1, 3, 576, 1024)\n",
            "\n",
            "0: 576x1024 (no detections), 15.3ms\n",
            "Speed: 19.0ms preprocess, 15.3ms inference, 0.7ms postprocess per image at shape (1, 3, 576, 1024)\n",
            "\n",
            "0: 576x1024 (no detections), 17.5ms\n",
            "Speed: 16.4ms preprocess, 17.5ms inference, 0.7ms postprocess per image at shape (1, 3, 576, 1024)\n",
            "\n",
            "0: 576x1024 (no detections), 22.5ms\n",
            "Speed: 6.8ms preprocess, 22.5ms inference, 0.6ms postprocess per image at shape (1, 3, 576, 1024)\n",
            "\n",
            "0: 576x1024 (no detections), 24.3ms\n",
            "Speed: 8.7ms preprocess, 24.3ms inference, 0.7ms postprocess per image at shape (1, 3, 576, 1024)\n",
            "\n",
            "0: 576x1024 (no detections), 17.3ms\n",
            "Speed: 6.8ms preprocess, 17.3ms inference, 0.7ms postprocess per image at shape (1, 3, 576, 1024)\n",
            "\n",
            "0: 576x1024 (no detections), 24.9ms\n",
            "Speed: 12.7ms preprocess, 24.9ms inference, 0.8ms postprocess per image at shape (1, 3, 576, 1024)\n",
            "\n",
            "0: 576x1024 (no detections), 17.7ms\n",
            "Speed: 7.1ms preprocess, 17.7ms inference, 0.6ms postprocess per image at shape (1, 3, 576, 1024)\n",
            "\n",
            "0: 576x1024 (no detections), 17.8ms\n",
            "Speed: 7.0ms preprocess, 17.8ms inference, 0.8ms postprocess per image at shape (1, 3, 576, 1024)\n",
            "\n",
            "0: 576x1024 (no detections), 18.1ms\n",
            "Speed: 6.8ms preprocess, 18.1ms inference, 0.8ms postprocess per image at shape (1, 3, 576, 1024)\n",
            "\n",
            "0: 576x1024 (no detections), 18.8ms\n",
            "Speed: 6.7ms preprocess, 18.8ms inference, 0.8ms postprocess per image at shape (1, 3, 576, 1024)\n",
            "\n",
            "0: 576x1024 (no detections), 28.7ms\n",
            "Speed: 13.5ms preprocess, 28.7ms inference, 0.8ms postprocess per image at shape (1, 3, 576, 1024)\n",
            "\n",
            "0: 576x1024 (no detections), 14.3ms\n",
            "Speed: 21.0ms preprocess, 14.3ms inference, 0.7ms postprocess per image at shape (1, 3, 576, 1024)\n",
            "\n",
            "0: 576x1024 (no detections), 16.8ms\n",
            "Speed: 13.7ms preprocess, 16.8ms inference, 0.8ms postprocess per image at shape (1, 3, 576, 1024)\n",
            "\n",
            "0: 576x1024 (no detections), 27.7ms\n",
            "Speed: 6.9ms preprocess, 27.7ms inference, 0.7ms postprocess per image at shape (1, 3, 576, 1024)\n",
            "\n",
            "0: 576x1024 (no detections), 39.8ms\n",
            "Speed: 14.9ms preprocess, 39.8ms inference, 0.7ms postprocess per image at shape (1, 3, 576, 1024)\n",
            "\n",
            "0: 576x1024 (no detections), 30.8ms\n",
            "Speed: 14.7ms preprocess, 30.8ms inference, 0.8ms postprocess per image at shape (1, 3, 576, 1024)\n",
            "\n",
            "0: 576x1024 (no detections), 15.6ms\n",
            "Speed: 10.5ms preprocess, 15.6ms inference, 0.8ms postprocess per image at shape (1, 3, 576, 1024)\n",
            "\n",
            "0: 576x1024 (no detections), 24.8ms\n",
            "Speed: 13.6ms preprocess, 24.8ms inference, 0.8ms postprocess per image at shape (1, 3, 576, 1024)\n",
            "\n",
            "0: 576x1024 (no detections), 13.7ms\n",
            "Speed: 7.2ms preprocess, 13.7ms inference, 0.7ms postprocess per image at shape (1, 3, 576, 1024)\n",
            "\n",
            "0: 576x1024 (no detections), 13.1ms\n",
            "Speed: 7.8ms preprocess, 13.1ms inference, 0.5ms postprocess per image at shape (1, 3, 576, 1024)\n",
            "\n",
            "0: 576x1024 (no detections), 13.5ms\n",
            "Speed: 8.8ms preprocess, 13.5ms inference, 0.8ms postprocess per image at shape (1, 3, 576, 1024)\n",
            "\n",
            "0: 576x1024 (no detections), 12.9ms\n",
            "Speed: 9.8ms preprocess, 12.9ms inference, 0.6ms postprocess per image at shape (1, 3, 576, 1024)\n",
            "\n",
            "0: 576x1024 (no detections), 12.9ms\n",
            "Speed: 8.8ms preprocess, 12.9ms inference, 0.6ms postprocess per image at shape (1, 3, 576, 1024)\n",
            "\n",
            "0: 576x1024 (no detections), 13.2ms\n",
            "Speed: 6.9ms preprocess, 13.2ms inference, 0.5ms postprocess per image at shape (1, 3, 576, 1024)\n",
            "\n",
            "0: 576x1024 (no detections), 13.4ms\n",
            "Speed: 7.2ms preprocess, 13.4ms inference, 0.9ms postprocess per image at shape (1, 3, 576, 1024)\n",
            "\n",
            "0: 576x1024 (no detections), 13.3ms\n",
            "Speed: 7.4ms preprocess, 13.3ms inference, 0.8ms postprocess per image at shape (1, 3, 576, 1024)\n",
            "\n",
            "0: 576x1024 (no detections), 13.5ms\n",
            "Speed: 7.0ms preprocess, 13.5ms inference, 0.5ms postprocess per image at shape (1, 3, 576, 1024)\n",
            "\n",
            "0: 576x1024 (no detections), 11.7ms\n",
            "Speed: 7.1ms preprocess, 11.7ms inference, 0.5ms postprocess per image at shape (1, 3, 576, 1024)\n",
            "\n",
            "0: 576x1024 (no detections), 17.2ms\n",
            "Speed: 7.4ms preprocess, 17.2ms inference, 0.8ms postprocess per image at shape (1, 3, 576, 1024)\n",
            "\n",
            "0: 576x1024 (no detections), 13.3ms\n",
            "Speed: 7.2ms preprocess, 13.3ms inference, 0.6ms postprocess per image at shape (1, 3, 576, 1024)\n",
            "\n",
            "0: 576x1024 (no detections), 12.6ms\n",
            "Speed: 7.5ms preprocess, 12.6ms inference, 0.5ms postprocess per image at shape (1, 3, 576, 1024)\n",
            "\n",
            "0: 576x1024 (no detections), 12.4ms\n",
            "Speed: 7.4ms preprocess, 12.4ms inference, 0.6ms postprocess per image at shape (1, 3, 576, 1024)\n",
            "\n",
            "0: 576x1024 (no detections), 15.3ms\n",
            "Speed: 9.2ms preprocess, 15.3ms inference, 0.8ms postprocess per image at shape (1, 3, 576, 1024)\n",
            "\n",
            "0: 576x1024 (no detections), 13.7ms\n",
            "Speed: 8.1ms preprocess, 13.7ms inference, 0.8ms postprocess per image at shape (1, 3, 576, 1024)\n",
            "\n",
            "0: 576x1024 (no detections), 12.9ms\n",
            "Speed: 10.1ms preprocess, 12.9ms inference, 0.5ms postprocess per image at shape (1, 3, 576, 1024)\n",
            "\n",
            "0: 576x1024 (no detections), 12.8ms\n",
            "Speed: 7.2ms preprocess, 12.8ms inference, 0.7ms postprocess per image at shape (1, 3, 576, 1024)\n",
            "\n",
            "0: 576x1024 (no detections), 12.7ms\n",
            "Speed: 6.8ms preprocess, 12.7ms inference, 0.7ms postprocess per image at shape (1, 3, 576, 1024)\n",
            "\n",
            "0: 576x1024 (no detections), 13.1ms\n",
            "Speed: 7.0ms preprocess, 13.1ms inference, 0.7ms postprocess per image at shape (1, 3, 576, 1024)\n",
            "\n",
            "0: 576x1024 (no detections), 13.9ms\n",
            "Speed: 8.0ms preprocess, 13.9ms inference, 0.5ms postprocess per image at shape (1, 3, 576, 1024)\n",
            "\n",
            "0: 576x1024 (no detections), 14.0ms\n",
            "Speed: 7.0ms preprocess, 14.0ms inference, 0.7ms postprocess per image at shape (1, 3, 576, 1024)\n",
            "\n",
            "0: 576x1024 (no detections), 15.6ms\n",
            "Speed: 7.8ms preprocess, 15.6ms inference, 0.7ms postprocess per image at shape (1, 3, 576, 1024)\n",
            "\n",
            "0: 576x1024 (no detections), 13.6ms\n",
            "Speed: 9.3ms preprocess, 13.6ms inference, 0.6ms postprocess per image at shape (1, 3, 576, 1024)\n",
            "\n",
            "0: 576x1024 (no detections), 12.2ms\n",
            "Speed: 6.8ms preprocess, 12.2ms inference, 0.5ms postprocess per image at shape (1, 3, 576, 1024)\n",
            "\n",
            "0: 576x1024 (no detections), 18.6ms\n",
            "Speed: 7.1ms preprocess, 18.6ms inference, 0.8ms postprocess per image at shape (1, 3, 576, 1024)\n",
            "\n",
            "0: 576x1024 (no detections), 12.9ms\n",
            "Speed: 7.2ms preprocess, 12.9ms inference, 0.9ms postprocess per image at shape (1, 3, 576, 1024)\n",
            "\n",
            "0: 576x1024 (no detections), 14.2ms\n",
            "Speed: 7.5ms preprocess, 14.2ms inference, 0.8ms postprocess per image at shape (1, 3, 576, 1024)\n",
            "\n",
            "0: 576x1024 (no detections), 13.4ms\n",
            "Speed: 9.8ms preprocess, 13.4ms inference, 0.6ms postprocess per image at shape (1, 3, 576, 1024)\n",
            "\n",
            "0: 576x1024 (no detections), 12.5ms\n",
            "Speed: 7.0ms preprocess, 12.5ms inference, 0.5ms postprocess per image at shape (1, 3, 576, 1024)\n",
            "\n",
            "0: 576x1024 (no detections), 22.6ms\n",
            "Speed: 6.9ms preprocess, 22.6ms inference, 0.7ms postprocess per image at shape (1, 3, 576, 1024)\n",
            "\n",
            "0: 576x1024 (no detections), 11.7ms\n",
            "Speed: 7.1ms preprocess, 11.7ms inference, 0.5ms postprocess per image at shape (1, 3, 576, 1024)\n",
            "\n",
            "0: 576x1024 (no detections), 13.1ms\n",
            "Speed: 7.1ms preprocess, 13.1ms inference, 0.5ms postprocess per image at shape (1, 3, 576, 1024)\n",
            "\n",
            "0: 576x1024 (no detections), 13.3ms\n",
            "Speed: 6.9ms preprocess, 13.3ms inference, 0.6ms postprocess per image at shape (1, 3, 576, 1024)\n",
            "\n",
            "0: 576x1024 (no detections), 13.3ms\n",
            "Speed: 6.9ms preprocess, 13.3ms inference, 0.7ms postprocess per image at shape (1, 3, 576, 1024)\n",
            "\n",
            "0: 576x1024 (no detections), 17.9ms\n",
            "Speed: 7.3ms preprocess, 17.9ms inference, 0.8ms postprocess per image at shape (1, 3, 576, 1024)\n",
            "\n",
            "0: 576x1024 (no detections), 13.2ms\n",
            "Speed: 7.1ms preprocess, 13.2ms inference, 0.7ms postprocess per image at shape (1, 3, 576, 1024)\n",
            "\n",
            "0: 576x1024 (no detections), 13.1ms\n",
            "Speed: 7.3ms preprocess, 13.1ms inference, 0.6ms postprocess per image at shape (1, 3, 576, 1024)\n",
            "\n",
            "0: 576x1024 (no detections), 11.5ms\n",
            "Speed: 7.3ms preprocess, 11.5ms inference, 0.5ms postprocess per image at shape (1, 3, 576, 1024)\n",
            "\n",
            "0: 576x1024 (no detections), 13.0ms\n",
            "Speed: 7.3ms preprocess, 13.0ms inference, 0.5ms postprocess per image at shape (1, 3, 576, 1024)\n",
            "\n",
            "0: 576x1024 (no detections), 16.6ms\n",
            "Speed: 7.1ms preprocess, 16.6ms inference, 0.8ms postprocess per image at shape (1, 3, 576, 1024)\n",
            "\n",
            "0: 576x1024 (no detections), 13.6ms\n",
            "Speed: 7.1ms preprocess, 13.6ms inference, 0.7ms postprocess per image at shape (1, 3, 576, 1024)\n",
            "\n",
            "0: 576x1024 (no detections), 13.3ms\n",
            "Speed: 7.3ms preprocess, 13.3ms inference, 0.7ms postprocess per image at shape (1, 3, 576, 1024)\n",
            "\n",
            "0: 576x1024 (no detections), 11.9ms\n",
            "Speed: 7.4ms preprocess, 11.9ms inference, 0.7ms postprocess per image at shape (1, 3, 576, 1024)\n",
            "\n",
            "0: 576x1024 (no detections), 14.9ms\n",
            "Speed: 7.5ms preprocess, 14.9ms inference, 0.7ms postprocess per image at shape (1, 3, 576, 1024)\n",
            "\n",
            "0: 576x1024 (no detections), 13.3ms\n",
            "Speed: 7.1ms preprocess, 13.3ms inference, 0.9ms postprocess per image at shape (1, 3, 576, 1024)\n",
            "\n",
            "0: 576x1024 (no detections), 13.5ms\n",
            "Speed: 6.8ms preprocess, 13.5ms inference, 0.5ms postprocess per image at shape (1, 3, 576, 1024)\n",
            "\n",
            "0: 576x1024 (no detections), 13.4ms\n",
            "Speed: 9.1ms preprocess, 13.4ms inference, 0.5ms postprocess per image at shape (1, 3, 576, 1024)\n",
            "\n",
            "0: 576x1024 (no detections), 13.0ms\n",
            "Speed: 7.3ms preprocess, 13.0ms inference, 0.7ms postprocess per image at shape (1, 3, 576, 1024)\n",
            "\n",
            "0: 576x1024 (no detections), 16.2ms\n",
            "Speed: 7.1ms preprocess, 16.2ms inference, 0.7ms postprocess per image at shape (1, 3, 576, 1024)\n",
            "\n",
            "0: 576x1024 (no detections), 12.2ms\n",
            "Speed: 6.8ms preprocess, 12.2ms inference, 0.7ms postprocess per image at shape (1, 3, 576, 1024)\n",
            "\n",
            "0: 576x1024 (no detections), 12.5ms\n",
            "Speed: 6.6ms preprocess, 12.5ms inference, 0.7ms postprocess per image at shape (1, 3, 576, 1024)\n",
            "\n",
            "0: 576x1024 (no detections), 13.1ms\n",
            "Speed: 6.9ms preprocess, 13.1ms inference, 0.7ms postprocess per image at shape (1, 3, 576, 1024)\n",
            "\n",
            "0: 576x1024 (no detections), 13.4ms\n",
            "Speed: 7.1ms preprocess, 13.4ms inference, 0.7ms postprocess per image at shape (1, 3, 576, 1024)\n",
            "\n",
            "0: 576x1024 (no detections), 13.3ms\n",
            "Speed: 6.8ms preprocess, 13.3ms inference, 0.5ms postprocess per image at shape (1, 3, 576, 1024)\n",
            "\n",
            "0: 576x1024 (no detections), 13.2ms\n",
            "Speed: 7.2ms preprocess, 13.2ms inference, 0.5ms postprocess per image at shape (1, 3, 576, 1024)\n",
            "\n",
            "0: 576x1024 (no detections), 13.4ms\n",
            "Speed: 6.9ms preprocess, 13.4ms inference, 0.7ms postprocess per image at shape (1, 3, 576, 1024)\n",
            "\n",
            "0: 576x1024 (no detections), 13.0ms\n",
            "Speed: 7.5ms preprocess, 13.0ms inference, 0.7ms postprocess per image at shape (1, 3, 576, 1024)\n",
            "\n",
            "0: 576x1024 (no detections), 13.4ms\n",
            "Speed: 7.1ms preprocess, 13.4ms inference, 0.6ms postprocess per image at shape (1, 3, 576, 1024)\n",
            "\n",
            "0: 576x1024 (no detections), 12.9ms\n",
            "Speed: 7.3ms preprocess, 12.9ms inference, 0.5ms postprocess per image at shape (1, 3, 576, 1024)\n",
            "\n",
            "0: 576x1024 (no detections), 12.9ms\n",
            "Speed: 6.8ms preprocess, 12.9ms inference, 0.7ms postprocess per image at shape (1, 3, 576, 1024)\n",
            "\n",
            "0: 576x1024 (no detections), 15.0ms\n",
            "Speed: 6.8ms preprocess, 15.0ms inference, 0.5ms postprocess per image at shape (1, 3, 576, 1024)\n",
            "\n",
            "0: 576x1024 (no detections), 13.4ms\n",
            "Speed: 7.5ms preprocess, 13.4ms inference, 0.8ms postprocess per image at shape (1, 3, 576, 1024)\n",
            "\n",
            "0: 576x1024 (no detections), 13.5ms\n",
            "Speed: 7.2ms preprocess, 13.5ms inference, 0.7ms postprocess per image at shape (1, 3, 576, 1024)\n",
            "\n",
            "0: 576x1024 (no detections), 13.4ms\n",
            "Speed: 7.1ms preprocess, 13.4ms inference, 0.7ms postprocess per image at shape (1, 3, 576, 1024)\n",
            "\n",
            "0: 576x1024 (no detections), 14.0ms\n",
            "Speed: 7.4ms preprocess, 14.0ms inference, 1.0ms postprocess per image at shape (1, 3, 576, 1024)\n",
            "\n",
            "0: 576x1024 (no detections), 13.2ms\n",
            "Speed: 7.1ms preprocess, 13.2ms inference, 0.8ms postprocess per image at shape (1, 3, 576, 1024)\n",
            "\n",
            "0: 576x1024 (no detections), 15.0ms\n",
            "Speed: 7.7ms preprocess, 15.0ms inference, 0.5ms postprocess per image at shape (1, 3, 576, 1024)\n",
            "\n",
            "0: 576x1024 (no detections), 12.8ms\n",
            "Speed: 7.4ms preprocess, 12.8ms inference, 0.5ms postprocess per image at shape (1, 3, 576, 1024)\n",
            "\n",
            "0: 576x1024 (no detections), 11.6ms\n",
            "Speed: 7.3ms preprocess, 11.6ms inference, 0.5ms postprocess per image at shape (1, 3, 576, 1024)\n",
            "\n",
            "0: 576x1024 (no detections), 13.6ms\n",
            "Speed: 7.0ms preprocess, 13.6ms inference, 0.7ms postprocess per image at shape (1, 3, 576, 1024)\n",
            "\n",
            "0: 576x1024 (no detections), 13.1ms\n",
            "Speed: 10.7ms preprocess, 13.1ms inference, 0.5ms postprocess per image at shape (1, 3, 576, 1024)\n",
            "\n",
            "0: 576x1024 (no detections), 11.4ms\n",
            "Speed: 7.0ms preprocess, 11.4ms inference, 0.6ms postprocess per image at shape (1, 3, 576, 1024)\n",
            "\n",
            "0: 576x1024 (no detections), 11.5ms\n",
            "Speed: 10.6ms preprocess, 11.5ms inference, 0.5ms postprocess per image at shape (1, 3, 576, 1024)\n",
            "\n",
            "0: 576x1024 (no detections), 13.4ms\n",
            "Speed: 7.3ms preprocess, 13.4ms inference, 0.7ms postprocess per image at shape (1, 3, 576, 1024)\n",
            "\n",
            "0: 576x1024 (no detections), 13.9ms\n",
            "Speed: 7.4ms preprocess, 13.9ms inference, 0.7ms postprocess per image at shape (1, 3, 576, 1024)\n",
            "\n",
            "0: 576x1024 (no detections), 14.4ms\n",
            "Speed: 7.3ms preprocess, 14.4ms inference, 0.5ms postprocess per image at shape (1, 3, 576, 1024)\n",
            "\n",
            "0: 576x1024 (no detections), 11.8ms\n",
            "Speed: 7.0ms preprocess, 11.8ms inference, 0.6ms postprocess per image at shape (1, 3, 576, 1024)\n",
            "\n",
            "0: 576x1024 (no detections), 12.9ms\n",
            "Speed: 7.2ms preprocess, 12.9ms inference, 0.8ms postprocess per image at shape (1, 3, 576, 1024)\n",
            "\n",
            "0: 576x1024 (no detections), 15.9ms\n",
            "Speed: 6.7ms preprocess, 15.9ms inference, 0.6ms postprocess per image at shape (1, 3, 576, 1024)\n",
            "\n",
            "0: 576x1024 (no detections), 12.9ms\n",
            "Speed: 7.0ms preprocess, 12.9ms inference, 0.6ms postprocess per image at shape (1, 3, 576, 1024)\n",
            "\n",
            "0: 576x1024 (no detections), 12.3ms\n",
            "Speed: 6.9ms preprocess, 12.3ms inference, 0.5ms postprocess per image at shape (1, 3, 576, 1024)\n",
            "\n",
            "0: 576x1024 (no detections), 12.9ms\n",
            "Speed: 9.8ms preprocess, 12.9ms inference, 0.7ms postprocess per image at shape (1, 3, 576, 1024)\n",
            "\n",
            "0: 576x1024 (no detections), 13.8ms\n",
            "Speed: 7.5ms preprocess, 13.8ms inference, 0.7ms postprocess per image at shape (1, 3, 576, 1024)\n",
            "\n",
            "0: 576x1024 (no detections), 11.5ms\n",
            "Speed: 7.0ms preprocess, 11.5ms inference, 0.6ms postprocess per image at shape (1, 3, 576, 1024)\n",
            "\n",
            "0: 576x1024 (no detections), 15.8ms\n",
            "Speed: 7.6ms preprocess, 15.8ms inference, 0.8ms postprocess per image at shape (1, 3, 576, 1024)\n",
            "\n",
            "0: 576x1024 (no detections), 13.2ms\n",
            "Speed: 8.8ms preprocess, 13.2ms inference, 0.7ms postprocess per image at shape (1, 3, 576, 1024)\n",
            "\n",
            "0: 576x1024 (no detections), 13.6ms\n",
            "Speed: 8.1ms preprocess, 13.6ms inference, 0.6ms postprocess per image at shape (1, 3, 576, 1024)\n",
            "\n",
            "0: 576x1024 (no detections), 13.3ms\n",
            "Speed: 8.0ms preprocess, 13.3ms inference, 0.5ms postprocess per image at shape (1, 3, 576, 1024)\n",
            "\n",
            "0: 576x1024 (no detections), 13.5ms\n",
            "Speed: 6.9ms preprocess, 13.5ms inference, 0.5ms postprocess per image at shape (1, 3, 576, 1024)\n",
            "\n",
            "0: 576x1024 (no detections), 12.9ms\n",
            "Speed: 7.3ms preprocess, 12.9ms inference, 0.7ms postprocess per image at shape (1, 3, 576, 1024)\n",
            "\n",
            "0: 576x1024 (no detections), 13.3ms\n",
            "Speed: 7.2ms preprocess, 13.3ms inference, 0.6ms postprocess per image at shape (1, 3, 576, 1024)\n",
            "\n",
            "0: 576x1024 (no detections), 13.6ms\n",
            "Speed: 7.1ms preprocess, 13.6ms inference, 0.7ms postprocess per image at shape (1, 3, 576, 1024)\n",
            "\n",
            "0: 576x1024 (no detections), 13.7ms\n",
            "Speed: 8.8ms preprocess, 13.7ms inference, 0.6ms postprocess per image at shape (1, 3, 576, 1024)\n",
            "\n",
            "0: 576x1024 (no detections), 13.6ms\n",
            "Speed: 8.7ms preprocess, 13.6ms inference, 0.7ms postprocess per image at shape (1, 3, 576, 1024)\n",
            "\n",
            "0: 576x1024 (no detections), 13.8ms\n",
            "Speed: 7.0ms preprocess, 13.8ms inference, 0.7ms postprocess per image at shape (1, 3, 576, 1024)\n",
            "\n",
            "0: 576x1024 (no detections), 13.3ms\n",
            "Speed: 9.9ms preprocess, 13.3ms inference, 0.7ms postprocess per image at shape (1, 3, 576, 1024)\n",
            "\n",
            "0: 576x1024 (no detections), 14.0ms\n",
            "Speed: 9.0ms preprocess, 14.0ms inference, 0.7ms postprocess per image at shape (1, 3, 576, 1024)\n",
            "\n",
            "0: 576x1024 (no detections), 13.6ms\n",
            "Speed: 7.4ms preprocess, 13.6ms inference, 0.5ms postprocess per image at shape (1, 3, 576, 1024)\n",
            "\n",
            "0: 576x1024 (no detections), 14.0ms\n",
            "Speed: 7.5ms preprocess, 14.0ms inference, 0.5ms postprocess per image at shape (1, 3, 576, 1024)\n",
            "\n",
            "0: 576x1024 (no detections), 13.0ms\n",
            "Speed: 7.1ms preprocess, 13.0ms inference, 0.7ms postprocess per image at shape (1, 3, 576, 1024)\n",
            "\n",
            "0: 576x1024 (no detections), 13.9ms\n",
            "Speed: 7.7ms preprocess, 13.9ms inference, 0.7ms postprocess per image at shape (1, 3, 576, 1024)\n",
            "\n",
            "0: 576x1024 (no detections), 12.2ms\n",
            "Speed: 7.2ms preprocess, 12.2ms inference, 0.5ms postprocess per image at shape (1, 3, 576, 1024)\n",
            "\n",
            "0: 576x1024 (no detections), 12.0ms\n",
            "Speed: 7.3ms preprocess, 12.0ms inference, 0.5ms postprocess per image at shape (1, 3, 576, 1024)\n",
            "\n",
            "0: 576x1024 (no detections), 12.8ms\n",
            "Speed: 7.3ms preprocess, 12.8ms inference, 0.8ms postprocess per image at shape (1, 3, 576, 1024)\n",
            "\n",
            "0: 576x1024 (no detections), 13.1ms\n",
            "Speed: 7.3ms preprocess, 13.1ms inference, 0.7ms postprocess per image at shape (1, 3, 576, 1024)\n",
            "\n",
            "0: 576x1024 (no detections), 13.1ms\n",
            "Speed: 7.4ms preprocess, 13.1ms inference, 0.6ms postprocess per image at shape (1, 3, 576, 1024)\n",
            "\n",
            "0: 576x1024 (no detections), 13.7ms\n",
            "Speed: 6.6ms preprocess, 13.7ms inference, 0.5ms postprocess per image at shape (1, 3, 576, 1024)\n",
            "\n",
            "0: 576x1024 (no detections), 13.4ms\n",
            "Speed: 6.2ms preprocess, 13.4ms inference, 0.7ms postprocess per image at shape (1, 3, 576, 1024)\n",
            "\n",
            "0: 576x1024 (no detections), 13.7ms\n",
            "Speed: 6.8ms preprocess, 13.7ms inference, 0.7ms postprocess per image at shape (1, 3, 576, 1024)\n",
            "\n",
            "0: 576x1024 (no detections), 13.7ms\n",
            "Speed: 6.2ms preprocess, 13.7ms inference, 0.7ms postprocess per image at shape (1, 3, 576, 1024)\n",
            "\n",
            "0: 576x1024 (no detections), 13.8ms\n",
            "Speed: 6.9ms preprocess, 13.8ms inference, 0.6ms postprocess per image at shape (1, 3, 576, 1024)\n",
            "\n",
            "0: 576x1024 (no detections), 13.0ms\n",
            "Speed: 6.9ms preprocess, 13.0ms inference, 0.7ms postprocess per image at shape (1, 3, 576, 1024)\n",
            "\n",
            "0: 576x1024 1 left, 13.5ms\n",
            "Speed: 6.3ms preprocess, 13.5ms inference, 2.8ms postprocess per image at shape (1, 3, 576, 1024)\n",
            "\n",
            "0: 576x1024 1 left, 11.5ms\n",
            "Speed: 7.0ms preprocess, 11.5ms inference, 1.9ms postprocess per image at shape (1, 3, 576, 1024)\n",
            "\n",
            "0: 576x1024 3 lefts, 13.2ms\n",
            "Speed: 7.4ms preprocess, 13.2ms inference, 1.9ms postprocess per image at shape (1, 3, 576, 1024)\n",
            "\n",
            "0: 576x1024 2 lefts, 1 right, 13.5ms\n",
            "Speed: 6.8ms preprocess, 13.5ms inference, 2.8ms postprocess per image at shape (1, 3, 576, 1024)\n",
            "\n",
            "0: 576x1024 2 lefts, 1 right, 13.3ms\n",
            "Speed: 7.5ms preprocess, 13.3ms inference, 3.3ms postprocess per image at shape (1, 3, 576, 1024)\n",
            "\n",
            "0: 576x1024 2 lefts, 2 rights, 11.5ms\n",
            "Speed: 7.3ms preprocess, 11.5ms inference, 2.0ms postprocess per image at shape (1, 3, 576, 1024)\n",
            "\n",
            "0: 576x1024 2 rights, 14.3ms\n",
            "Speed: 7.4ms preprocess, 14.3ms inference, 2.0ms postprocess per image at shape (1, 3, 576, 1024)\n",
            "\n",
            "0: 576x1024 1 left, 1 right, 13.2ms\n",
            "Speed: 7.2ms preprocess, 13.2ms inference, 2.8ms postprocess per image at shape (1, 3, 576, 1024)\n",
            "\n",
            "0: 576x1024 2 lefts, 1 right, 12.5ms\n",
            "Speed: 7.0ms preprocess, 12.5ms inference, 2.0ms postprocess per image at shape (1, 3, 576, 1024)\n",
            "\n",
            "0: 576x1024 3 lefts, 1 right, 13.1ms\n",
            "Speed: 7.2ms preprocess, 13.1ms inference, 2.7ms postprocess per image at shape (1, 3, 576, 1024)\n",
            "\n",
            "0: 576x1024 2 lefts, 2 rights, 13.5ms\n",
            "Speed: 7.3ms preprocess, 13.5ms inference, 2.1ms postprocess per image at shape (1, 3, 576, 1024)\n",
            "\n",
            "0: 576x1024 3 lefts, 1 right, 13.7ms\n",
            "Speed: 8.1ms preprocess, 13.7ms inference, 2.1ms postprocess per image at shape (1, 3, 576, 1024)\n",
            "\n",
            "0: 576x1024 2 rights, 12.1ms\n",
            "Speed: 7.9ms preprocess, 12.1ms inference, 2.0ms postprocess per image at shape (1, 3, 576, 1024)\n",
            "\n",
            "0: 576x1024 2 lefts, 1 right, 14.6ms\n",
            "Speed: 7.1ms preprocess, 14.6ms inference, 2.5ms postprocess per image at shape (1, 3, 576, 1024)\n",
            "\n",
            "0: 576x1024 2 lefts, 3 rights, 13.2ms\n",
            "Speed: 10.9ms preprocess, 13.2ms inference, 3.1ms postprocess per image at shape (1, 3, 576, 1024)\n",
            "\n",
            "0: 576x1024 2 lefts, 2 rights, 13.8ms\n",
            "Speed: 6.6ms preprocess, 13.8ms inference, 2.0ms postprocess per image at shape (1, 3, 576, 1024)\n",
            "\n",
            "0: 576x1024 2 lefts, 2 rights, 13.1ms\n",
            "Speed: 6.7ms preprocess, 13.1ms inference, 2.4ms postprocess per image at shape (1, 3, 576, 1024)\n",
            "\n",
            "0: 576x1024 1 left, 2 rights, 12.9ms\n",
            "Speed: 6.9ms preprocess, 12.9ms inference, 2.9ms postprocess per image at shape (1, 3, 576, 1024)\n",
            "\n",
            "0: 576x1024 3 lefts, 2 rights, 12.9ms\n",
            "Speed: 7.0ms preprocess, 12.9ms inference, 1.9ms postprocess per image at shape (1, 3, 576, 1024)\n",
            "\n",
            "0: 576x1024 2 lefts, 2 rights, 12.1ms\n",
            "Speed: 7.2ms preprocess, 12.1ms inference, 1.9ms postprocess per image at shape (1, 3, 576, 1024)\n",
            "\n",
            "0: 576x1024 1 left, 1 right, 15.4ms\n",
            "Speed: 10.1ms preprocess, 15.4ms inference, 2.9ms postprocess per image at shape (1, 3, 576, 1024)\n",
            "\n",
            "0: 576x1024 1 left, 3 rights, 20.8ms\n",
            "Speed: 7.6ms preprocess, 20.8ms inference, 2.8ms postprocess per image at shape (1, 3, 576, 1024)\n",
            "\n",
            "0: 576x1024 2 lefts, 2 rights, 12.8ms\n",
            "Speed: 7.6ms preprocess, 12.8ms inference, 2.7ms postprocess per image at shape (1, 3, 576, 1024)\n",
            "\n",
            "0: 576x1024 1 left, 2 rights, 14.9ms\n",
            "Speed: 9.2ms preprocess, 14.9ms inference, 2.8ms postprocess per image at shape (1, 3, 576, 1024)\n",
            "\n",
            "0: 576x1024 1 left, 2 rights, 15.2ms\n",
            "Speed: 14.4ms preprocess, 15.2ms inference, 2.6ms postprocess per image at shape (1, 3, 576, 1024)\n",
            "\n",
            "0: 576x1024 1 left, 2 rights, 19.4ms\n",
            "Speed: 7.1ms preprocess, 19.4ms inference, 7.4ms postprocess per image at shape (1, 3, 576, 1024)\n",
            "\n",
            "0: 576x1024 2 lefts, 3 rights, 22.7ms\n",
            "Speed: 10.4ms preprocess, 22.7ms inference, 2.6ms postprocess per image at shape (1, 3, 576, 1024)\n",
            "\n",
            "0: 576x1024 2 lefts, 1 right, 15.0ms\n",
            "Speed: 14.3ms preprocess, 15.0ms inference, 2.9ms postprocess per image at shape (1, 3, 576, 1024)\n",
            "\n",
            "0: 576x1024 2 lefts, 1 right, 14.3ms\n",
            "Speed: 14.4ms preprocess, 14.3ms inference, 3.0ms postprocess per image at shape (1, 3, 576, 1024)\n",
            "\n",
            "0: 576x1024 1 left, 1 right, 24.5ms\n",
            "Speed: 11.9ms preprocess, 24.5ms inference, 2.7ms postprocess per image at shape (1, 3, 576, 1024)\n",
            "\n",
            "0: 576x1024 2 rights, 28.8ms\n",
            "Speed: 6.7ms preprocess, 28.8ms inference, 3.6ms postprocess per image at shape (1, 3, 576, 1024)\n",
            "\n",
            "0: 576x1024 2 lefts, 2 rights, 13.8ms\n",
            "Speed: 12.0ms preprocess, 13.8ms inference, 2.6ms postprocess per image at shape (1, 3, 576, 1024)\n",
            "\n",
            "0: 576x1024 1 left, 1 right, 27.9ms\n",
            "Speed: 10.1ms preprocess, 27.9ms inference, 3.0ms postprocess per image at shape (1, 3, 576, 1024)\n",
            "\n",
            "0: 576x1024 2 lefts, 1 right, 29.7ms\n",
            "Speed: 12.9ms preprocess, 29.7ms inference, 3.1ms postprocess per image at shape (1, 3, 576, 1024)\n",
            "\n",
            "0: 576x1024 1 left, 3 rights, 13.9ms\n",
            "Speed: 7.0ms preprocess, 13.9ms inference, 2.2ms postprocess per image at shape (1, 3, 576, 1024)\n",
            "\n",
            "0: 576x1024 1 left, 1 right, 14.1ms\n",
            "Speed: 7.8ms preprocess, 14.1ms inference, 2.8ms postprocess per image at shape (1, 3, 576, 1024)\n",
            "\n",
            "0: 576x1024 1 left, 1 right, 13.9ms\n",
            "Speed: 8.2ms preprocess, 13.9ms inference, 2.0ms postprocess per image at shape (1, 3, 576, 1024)\n",
            "\n",
            "0: 576x1024 1 left, 2 rights, 13.0ms\n",
            "Speed: 6.6ms preprocess, 13.0ms inference, 2.7ms postprocess per image at shape (1, 3, 576, 1024)\n",
            "\n",
            "0: 576x1024 1 left, 2 rights, 12.8ms\n",
            "Speed: 7.6ms preprocess, 12.8ms inference, 2.3ms postprocess per image at shape (1, 3, 576, 1024)\n",
            "\n",
            "0: 576x1024 2 lefts, 1 right, 13.0ms\n",
            "Speed: 7.1ms preprocess, 13.0ms inference, 4.5ms postprocess per image at shape (1, 3, 576, 1024)\n",
            "\n",
            "0: 576x1024 1 left, 1 right, 16.0ms\n",
            "Speed: 7.6ms preprocess, 16.0ms inference, 3.0ms postprocess per image at shape (1, 3, 576, 1024)\n",
            "\n",
            "0: 576x1024 1 left, 2 rights, 14.0ms\n",
            "Speed: 7.3ms preprocess, 14.0ms inference, 2.0ms postprocess per image at shape (1, 3, 576, 1024)\n",
            "\n",
            "0: 576x1024 1 left, 1 right, 12.0ms\n",
            "Speed: 6.8ms preprocess, 12.0ms inference, 2.0ms postprocess per image at shape (1, 3, 576, 1024)\n",
            "\n",
            "0: 576x1024 1 left, 1 right, 13.6ms\n",
            "Speed: 8.1ms preprocess, 13.6ms inference, 2.2ms postprocess per image at shape (1, 3, 576, 1024)\n",
            "\n",
            "0: 576x1024 1 left, 1 right, 13.1ms\n",
            "Speed: 7.8ms preprocess, 13.1ms inference, 2.3ms postprocess per image at shape (1, 3, 576, 1024)\n",
            "\n",
            "0: 576x1024 2 lefts, 1 right, 11.7ms\n",
            "Speed: 6.4ms preprocess, 11.7ms inference, 2.7ms postprocess per image at shape (1, 3, 576, 1024)\n",
            "\n",
            "0: 576x1024 1 left, 1 right, 11.8ms\n",
            "Speed: 6.9ms preprocess, 11.8ms inference, 1.9ms postprocess per image at shape (1, 3, 576, 1024)\n",
            "\n",
            "0: 576x1024 2 lefts, 1 right, 13.5ms\n",
            "Speed: 8.1ms preprocess, 13.5ms inference, 2.7ms postprocess per image at shape (1, 3, 576, 1024)\n",
            "\n",
            "0: 576x1024 1 left, 1 right, 15.9ms\n",
            "Speed: 7.9ms preprocess, 15.9ms inference, 2.7ms postprocess per image at shape (1, 3, 576, 1024)\n",
            "\n",
            "0: 576x1024 1 left, 1 right, 13.1ms\n",
            "Speed: 7.7ms preprocess, 13.1ms inference, 1.9ms postprocess per image at shape (1, 3, 576, 1024)\n",
            "\n",
            "0: 576x1024 1 left, 1 right, 12.8ms\n",
            "Speed: 7.0ms preprocess, 12.8ms inference, 1.9ms postprocess per image at shape (1, 3, 576, 1024)\n",
            "\n",
            "0: 576x1024 1 left, 1 right, 12.9ms\n",
            "Speed: 7.1ms preprocess, 12.9ms inference, 2.4ms postprocess per image at shape (1, 3, 576, 1024)\n",
            "\n",
            "0: 576x1024 1 left, 1 right, 14.7ms\n",
            "Speed: 6.4ms preprocess, 14.7ms inference, 3.1ms postprocess per image at shape (1, 3, 576, 1024)\n",
            "\n",
            "0: 576x1024 1 left, 2 rights, 13.2ms\n",
            "Speed: 6.9ms preprocess, 13.2ms inference, 2.3ms postprocess per image at shape (1, 3, 576, 1024)\n",
            "\n",
            "0: 576x1024 2 lefts, 2 rights, 11.6ms\n",
            "Speed: 7.4ms preprocess, 11.6ms inference, 1.9ms postprocess per image at shape (1, 3, 576, 1024)\n",
            "\n",
            "0: 576x1024 1 left, 1 right, 12.7ms\n",
            "Speed: 7.0ms preprocess, 12.7ms inference, 2.7ms postprocess per image at shape (1, 3, 576, 1024)\n",
            "\n",
            "0: 576x1024 1 right, 13.2ms\n",
            "Speed: 7.7ms preprocess, 13.2ms inference, 2.0ms postprocess per image at shape (1, 3, 576, 1024)\n",
            "\n",
            "0: 576x1024 1 left, 2 rights, 13.3ms\n",
            "Speed: 7.6ms preprocess, 13.3ms inference, 4.1ms postprocess per image at shape (1, 3, 576, 1024)\n",
            "\n",
            "0: 576x1024 1 left, 1 right, 12.9ms\n",
            "Speed: 7.4ms preprocess, 12.9ms inference, 2.0ms postprocess per image at shape (1, 3, 576, 1024)\n",
            "\n",
            "0: 576x1024 1 right, 14.3ms\n",
            "Speed: 6.7ms preprocess, 14.3ms inference, 2.9ms postprocess per image at shape (1, 3, 576, 1024)\n",
            "\n",
            "0: 576x1024 2 lefts, 1 right, 13.4ms\n",
            "Speed: 9.2ms preprocess, 13.4ms inference, 2.7ms postprocess per image at shape (1, 3, 576, 1024)\n",
            "\n",
            "0: 576x1024 1 left, 2 rights, 13.6ms\n",
            "Speed: 7.6ms preprocess, 13.6ms inference, 2.8ms postprocess per image at shape (1, 3, 576, 1024)\n",
            "\n",
            "0: 576x1024 1 right, 11.4ms\n",
            "Speed: 6.3ms preprocess, 11.4ms inference, 2.9ms postprocess per image at shape (1, 3, 576, 1024)\n",
            "\n",
            "0: 576x1024 2 lefts, 1 right, 13.7ms\n",
            "Speed: 6.3ms preprocess, 13.7ms inference, 3.0ms postprocess per image at shape (1, 3, 576, 1024)\n",
            "\n",
            "0: 576x1024 1 right, 13.3ms\n",
            "Speed: 6.9ms preprocess, 13.3ms inference, 2.5ms postprocess per image at shape (1, 3, 576, 1024)\n",
            "\n",
            "0: 576x1024 2 lefts, 1 right, 13.5ms\n",
            "Speed: 8.9ms preprocess, 13.5ms inference, 2.2ms postprocess per image at shape (1, 3, 576, 1024)\n",
            "\n",
            "0: 576x1024 1 left, 1 right, 14.2ms\n",
            "Speed: 8.0ms preprocess, 14.2ms inference, 2.8ms postprocess per image at shape (1, 3, 576, 1024)\n",
            "\n",
            "0: 576x1024 3 lefts, 1 right, 12.6ms\n",
            "Speed: 6.8ms preprocess, 12.6ms inference, 2.6ms postprocess per image at shape (1, 3, 576, 1024)\n",
            "\n",
            "0: 576x1024 2 lefts, 1 right, 13.1ms\n",
            "Speed: 8.0ms preprocess, 13.1ms inference, 1.9ms postprocess per image at shape (1, 3, 576, 1024)\n",
            "\n",
            "0: 576x1024 1 left, 1 right, 13.5ms\n",
            "Speed: 6.2ms preprocess, 13.5ms inference, 3.0ms postprocess per image at shape (1, 3, 576, 1024)\n",
            "\n",
            "0: 576x1024 3 rights, 13.4ms\n",
            "Speed: 7.2ms preprocess, 13.4ms inference, 2.0ms postprocess per image at shape (1, 3, 576, 1024)\n",
            "\n",
            "0: 576x1024 2 lefts, 1 right, 12.9ms\n",
            "Speed: 8.7ms preprocess, 12.9ms inference, 1.8ms postprocess per image at shape (1, 3, 576, 1024)\n",
            "\n",
            "0: 576x1024 1 left, 1 right, 11.7ms\n",
            "Speed: 9.7ms preprocess, 11.7ms inference, 1.9ms postprocess per image at shape (1, 3, 576, 1024)\n",
            "\n",
            "0: 576x1024 2 rights, 13.4ms\n",
            "Speed: 7.1ms preprocess, 13.4ms inference, 1.9ms postprocess per image at shape (1, 3, 576, 1024)\n",
            "\n",
            "0: 576x1024 2 lefts, 1 right, 13.6ms\n",
            "Speed: 9.3ms preprocess, 13.6ms inference, 2.6ms postprocess per image at shape (1, 3, 576, 1024)\n",
            "\n",
            "0: 576x1024 1 left, 1 right, 13.7ms\n",
            "Speed: 6.3ms preprocess, 13.7ms inference, 2.0ms postprocess per image at shape (1, 3, 576, 1024)\n",
            "\n",
            "0: 576x1024 1 left, 2 rights, 13.5ms\n",
            "Speed: 7.8ms preprocess, 13.5ms inference, 2.0ms postprocess per image at shape (1, 3, 576, 1024)\n",
            "\n",
            "0: 576x1024 2 lefts, 1 right, 13.9ms\n",
            "Speed: 7.1ms preprocess, 13.9ms inference, 2.7ms postprocess per image at shape (1, 3, 576, 1024)\n",
            "\n",
            "0: 576x1024 1 right, 14.8ms\n",
            "Speed: 7.8ms preprocess, 14.8ms inference, 2.8ms postprocess per image at shape (1, 3, 576, 1024)\n",
            "\n",
            "0: 576x1024 2 rights, 12.0ms\n",
            "Speed: 7.4ms preprocess, 12.0ms inference, 2.1ms postprocess per image at shape (1, 3, 576, 1024)\n",
            "\n",
            "0: 576x1024 1 right, 13.2ms\n",
            "Speed: 8.0ms preprocess, 13.2ms inference, 2.0ms postprocess per image at shape (1, 3, 576, 1024)\n",
            "\n",
            "0: 576x1024 1 right, 13.7ms\n",
            "Speed: 6.2ms preprocess, 13.7ms inference, 2.7ms postprocess per image at shape (1, 3, 576, 1024)\n",
            "\n",
            "0: 576x1024 2 rights, 13.4ms\n",
            "Speed: 6.6ms preprocess, 13.4ms inference, 2.8ms postprocess per image at shape (1, 3, 576, 1024)\n",
            "\n",
            "0: 576x1024 2 rights, 11.7ms\n",
            "Speed: 6.8ms preprocess, 11.7ms inference, 1.9ms postprocess per image at shape (1, 3, 576, 1024)\n",
            "\n",
            "0: 576x1024 1 right, 12.3ms\n",
            "Speed: 7.0ms preprocess, 12.3ms inference, 2.1ms postprocess per image at shape (1, 3, 576, 1024)\n",
            "\n",
            "0: 576x1024 1 right, 13.4ms\n",
            "Speed: 7.3ms preprocess, 13.4ms inference, 2.9ms postprocess per image at shape (1, 3, 576, 1024)\n",
            "\n",
            "0: 576x1024 1 right, 20.7ms\n",
            "Speed: 7.0ms preprocess, 20.7ms inference, 2.3ms postprocess per image at shape (1, 3, 576, 1024)\n",
            "\n",
            "0: 576x1024 1 right, 15.0ms\n",
            "Speed: 10.7ms preprocess, 15.0ms inference, 2.0ms postprocess per image at shape (1, 3, 576, 1024)\n",
            "\n",
            "0: 576x1024 1 right, 12.5ms\n",
            "Speed: 6.7ms preprocess, 12.5ms inference, 2.1ms postprocess per image at shape (1, 3, 576, 1024)\n",
            "\n",
            "0: 576x1024 1 right, 13.5ms\n",
            "Speed: 8.5ms preprocess, 13.5ms inference, 2.7ms postprocess per image at shape (1, 3, 576, 1024)\n",
            "\n",
            "0: 576x1024 1 right, 13.1ms\n",
            "Speed: 7.4ms preprocess, 13.1ms inference, 2.4ms postprocess per image at shape (1, 3, 576, 1024)\n",
            "\n",
            "0: 576x1024 1 right, 11.4ms\n",
            "Speed: 7.7ms preprocess, 11.4ms inference, 2.0ms postprocess per image at shape (1, 3, 576, 1024)\n",
            "\n",
            "0: 576x1024 1 right, 14.9ms\n",
            "Speed: 6.4ms preprocess, 14.9ms inference, 2.7ms postprocess per image at shape (1, 3, 576, 1024)\n",
            "\n",
            "0: 576x1024 1 right, 13.3ms\n",
            "Speed: 7.3ms preprocess, 13.3ms inference, 2.7ms postprocess per image at shape (1, 3, 576, 1024)\n",
            "\n",
            "0: 576x1024 1 right, 13.5ms\n",
            "Speed: 6.7ms preprocess, 13.5ms inference, 2.7ms postprocess per image at shape (1, 3, 576, 1024)\n",
            "\n",
            "0: 576x1024 1 right, 17.4ms\n",
            "Speed: 10.0ms preprocess, 17.4ms inference, 2.2ms postprocess per image at shape (1, 3, 576, 1024)\n",
            "\n",
            "0: 576x1024 1 right, 13.6ms\n",
            "Speed: 6.4ms preprocess, 13.6ms inference, 1.9ms postprocess per image at shape (1, 3, 576, 1024)\n",
            "\n",
            "0: 576x1024 1 right, 13.3ms\n",
            "Speed: 6.4ms preprocess, 13.3ms inference, 2.8ms postprocess per image at shape (1, 3, 576, 1024)\n",
            "\n",
            "0: 576x1024 1 right, 13.9ms\n",
            "Speed: 6.7ms preprocess, 13.9ms inference, 2.0ms postprocess per image at shape (1, 3, 576, 1024)\n",
            "\n",
            "0: 576x1024 1 right, 13.8ms\n",
            "Speed: 9.1ms preprocess, 13.8ms inference, 2.9ms postprocess per image at shape (1, 3, 576, 1024)\n",
            "\n",
            "0: 576x1024 1 right, 13.9ms\n",
            "Speed: 7.8ms preprocess, 13.9ms inference, 2.0ms postprocess per image at shape (1, 3, 576, 1024)\n",
            "\n",
            "0: 576x1024 1 right, 12.0ms\n",
            "Speed: 6.6ms preprocess, 12.0ms inference, 2.1ms postprocess per image at shape (1, 3, 576, 1024)\n",
            "\n",
            "0: 576x1024 1 right, 12.8ms\n",
            "Speed: 7.0ms preprocess, 12.8ms inference, 2.0ms postprocess per image at shape (1, 3, 576, 1024)\n",
            "\n",
            "0: 576x1024 1 right, 13.2ms\n",
            "Speed: 10.7ms preprocess, 13.2ms inference, 2.0ms postprocess per image at shape (1, 3, 576, 1024)\n",
            "\n",
            "0: 576x1024 1 right, 14.9ms\n",
            "Speed: 11.3ms preprocess, 14.9ms inference, 3.0ms postprocess per image at shape (1, 3, 576, 1024)\n",
            "\n",
            "0: 576x1024 1 right, 11.4ms\n",
            "Speed: 6.7ms preprocess, 11.4ms inference, 2.2ms postprocess per image at shape (1, 3, 576, 1024)\n",
            "\n",
            "0: 576x1024 1 right, 11.5ms\n",
            "Speed: 10.5ms preprocess, 11.5ms inference, 1.9ms postprocess per image at shape (1, 3, 576, 1024)\n",
            "\n",
            "0: 576x1024 1 right, 13.1ms\n",
            "Speed: 7.2ms preprocess, 13.1ms inference, 2.6ms postprocess per image at shape (1, 3, 576, 1024)\n",
            "\n",
            "0: 576x1024 1 right, 13.7ms\n",
            "Speed: 7.2ms preprocess, 13.7ms inference, 1.9ms postprocess per image at shape (1, 3, 576, 1024)\n",
            "\n",
            "0: 576x1024 1 right, 11.4ms\n",
            "Speed: 6.6ms preprocess, 11.4ms inference, 1.9ms postprocess per image at shape (1, 3, 576, 1024)\n",
            "\n",
            "0: 576x1024 1 right, 14.7ms\n",
            "Speed: 7.4ms preprocess, 14.7ms inference, 2.8ms postprocess per image at shape (1, 3, 576, 1024)\n",
            "\n",
            "0: 576x1024 1 right, 13.2ms\n",
            "Speed: 7.5ms preprocess, 13.2ms inference, 2.7ms postprocess per image at shape (1, 3, 576, 1024)\n",
            "\n",
            "0: 576x1024 1 right, 13.5ms\n",
            "Speed: 7.7ms preprocess, 13.5ms inference, 2.7ms postprocess per image at shape (1, 3, 576, 1024)\n",
            "\n",
            "0: 576x1024 1 right, 13.9ms\n",
            "Speed: 7.1ms preprocess, 13.9ms inference, 2.0ms postprocess per image at shape (1, 3, 576, 1024)\n",
            "\n",
            "0: 576x1024 1 right, 12.4ms\n",
            "Speed: 10.8ms preprocess, 12.4ms inference, 2.1ms postprocess per image at shape (1, 3, 576, 1024)\n",
            "\n",
            "0: 576x1024 1 right, 13.3ms\n",
            "Speed: 7.3ms preprocess, 13.3ms inference, 2.7ms postprocess per image at shape (1, 3, 576, 1024)\n",
            "\n",
            "0: 576x1024 1 right, 14.8ms\n",
            "Speed: 6.6ms preprocess, 14.8ms inference, 2.7ms postprocess per image at shape (1, 3, 576, 1024)\n",
            "\n",
            "0: 576x1024 1 right, 13.3ms\n",
            "Speed: 9.9ms preprocess, 13.3ms inference, 1.9ms postprocess per image at shape (1, 3, 576, 1024)\n",
            "\n",
            "0: 576x1024 1 right, 14.3ms\n",
            "Speed: 6.8ms preprocess, 14.3ms inference, 2.8ms postprocess per image at shape (1, 3, 576, 1024)\n",
            "\n",
            "0: 576x1024 1 right, 13.2ms\n",
            "Speed: 7.9ms preprocess, 13.2ms inference, 2.9ms postprocess per image at shape (1, 3, 576, 1024)\n",
            "\n",
            "0: 576x1024 1 right, 13.4ms\n",
            "Speed: 6.6ms preprocess, 13.4ms inference, 2.0ms postprocess per image at shape (1, 3, 576, 1024)\n",
            "\n",
            "0: 576x1024 1 right, 11.6ms\n",
            "Speed: 7.5ms preprocess, 11.6ms inference, 1.9ms postprocess per image at shape (1, 3, 576, 1024)\n",
            "\n",
            "0: 576x1024 1 right, 18.7ms\n",
            "Speed: 10.8ms preprocess, 18.7ms inference, 3.2ms postprocess per image at shape (1, 3, 576, 1024)\n",
            "\n",
            "0: 576x1024 1 right, 13.9ms\n",
            "Speed: 8.5ms preprocess, 13.9ms inference, 9.5ms postprocess per image at shape (1, 3, 576, 1024)\n",
            "\n",
            "0: 576x1024 1 right, 18.6ms\n",
            "Speed: 6.2ms preprocess, 18.6ms inference, 2.9ms postprocess per image at shape (1, 3, 576, 1024)\n",
            "\n",
            "0: 576x1024 2 lefts, 5 rights, 12.2ms\n",
            "Speed: 16.7ms preprocess, 12.2ms inference, 2.6ms postprocess per image at shape (1, 3, 576, 1024)\n",
            "\n",
            "0: 576x1024 2 lefts, 4 rights, 17.8ms\n",
            "Speed: 13.1ms preprocess, 17.8ms inference, 2.6ms postprocess per image at shape (1, 3, 576, 1024)\n",
            "\n",
            "0: 576x1024 1 left, 3 rights, 25.4ms\n",
            "Speed: 13.6ms preprocess, 25.4ms inference, 2.6ms postprocess per image at shape (1, 3, 576, 1024)\n",
            "\n",
            "0: 576x1024 1 right, 14.1ms\n",
            "Speed: 13.4ms preprocess, 14.1ms inference, 3.0ms postprocess per image at shape (1, 3, 576, 1024)\n",
            "\n",
            "0: 576x1024 1 right, 18.9ms\n",
            "Speed: 20.2ms preprocess, 18.9ms inference, 3.8ms postprocess per image at shape (1, 3, 576, 1024)\n",
            "\n",
            "0: 576x1024 1 right, 22.0ms\n",
            "Speed: 15.1ms preprocess, 22.0ms inference, 2.9ms postprocess per image at shape (1, 3, 576, 1024)\n",
            "\n",
            "0: 576x1024 1 right, 13.3ms\n",
            "Speed: 7.0ms preprocess, 13.3ms inference, 2.6ms postprocess per image at shape (1, 3, 576, 1024)\n",
            "\n",
            "0: 576x1024 1 left, 3 rights, 24.1ms\n",
            "Speed: 7.1ms preprocess, 24.1ms inference, 3.6ms postprocess per image at shape (1, 3, 576, 1024)\n",
            "\n",
            "0: 576x1024 1 right, 31.7ms\n",
            "Speed: 8.8ms preprocess, 31.7ms inference, 3.0ms postprocess per image at shape (1, 3, 576, 1024)\n",
            "\n",
            "0: 576x1024 1 right, 23.4ms\n",
            "Speed: 13.6ms preprocess, 23.4ms inference, 3.1ms postprocess per image at shape (1, 3, 576, 1024)\n",
            "\n",
            "0: 576x1024 1 right, 12.2ms\n",
            "Speed: 14.7ms preprocess, 12.2ms inference, 2.1ms postprocess per image at shape (1, 3, 576, 1024)\n",
            "\n",
            "0: 576x1024 1 right, 13.9ms\n",
            "Speed: 7.2ms preprocess, 13.9ms inference, 2.1ms postprocess per image at shape (1, 3, 576, 1024)\n",
            "\n",
            "0: 576x1024 1 right, 14.2ms\n",
            "Speed: 7.2ms preprocess, 14.2ms inference, 3.1ms postprocess per image at shape (1, 3, 576, 1024)\n",
            "\n",
            "0: 576x1024 1 right, 13.4ms\n",
            "Speed: 7.2ms preprocess, 13.4ms inference, 2.0ms postprocess per image at shape (1, 3, 576, 1024)\n",
            "\n",
            "0: 576x1024 1 right, 13.8ms\n",
            "Speed: 8.2ms preprocess, 13.8ms inference, 2.0ms postprocess per image at shape (1, 3, 576, 1024)\n",
            "\n",
            "0: 576x1024 1 right, 13.2ms\n",
            "Speed: 7.3ms preprocess, 13.2ms inference, 2.2ms postprocess per image at shape (1, 3, 576, 1024)\n",
            "\n",
            "0: 576x1024 1 right, 13.6ms\n",
            "Speed: 7.5ms preprocess, 13.6ms inference, 2.9ms postprocess per image at shape (1, 3, 576, 1024)\n",
            "\n",
            "0: 576x1024 1 right, 21.6ms\n",
            "Speed: 9.5ms preprocess, 21.6ms inference, 2.0ms postprocess per image at shape (1, 3, 576, 1024)\n",
            "\n",
            "0: 576x1024 1 right, 13.5ms\n",
            "Speed: 7.7ms preprocess, 13.5ms inference, 2.7ms postprocess per image at shape (1, 3, 576, 1024)\n",
            "\n",
            "0: 576x1024 1 right, 13.4ms\n",
            "Speed: 6.8ms preprocess, 13.4ms inference, 2.1ms postprocess per image at shape (1, 3, 576, 1024)\n",
            "\n",
            "0: 576x1024 1 right, 13.4ms\n",
            "Speed: 6.6ms preprocess, 13.4ms inference, 2.7ms postprocess per image at shape (1, 3, 576, 1024)\n",
            "\n",
            "0: 576x1024 1 right, 14.0ms\n",
            "Speed: 7.4ms preprocess, 14.0ms inference, 2.7ms postprocess per image at shape (1, 3, 576, 1024)\n",
            "\n",
            "0: 576x1024 1 right, 13.4ms\n",
            "Speed: 9.7ms preprocess, 13.4ms inference, 2.0ms postprocess per image at shape (1, 3, 576, 1024)\n",
            "\n",
            "0: 576x1024 1 right, 13.3ms\n",
            "Speed: 7.4ms preprocess, 13.3ms inference, 1.9ms postprocess per image at shape (1, 3, 576, 1024)\n",
            "\n",
            "0: 576x1024 1 right, 13.5ms\n",
            "Speed: 7.7ms preprocess, 13.5ms inference, 2.8ms postprocess per image at shape (1, 3, 576, 1024)\n",
            "\n",
            "0: 576x1024 1 right, 13.6ms\n",
            "Speed: 7.3ms preprocess, 13.6ms inference, 2.2ms postprocess per image at shape (1, 3, 576, 1024)\n",
            "\n",
            "0: 576x1024 1 right, 13.2ms\n",
            "Speed: 7.8ms preprocess, 13.2ms inference, 2.0ms postprocess per image at shape (1, 3, 576, 1024)\n",
            "\n",
            "0: 576x1024 1 right, 13.5ms\n",
            "Speed: 9.8ms preprocess, 13.5ms inference, 1.9ms postprocess per image at shape (1, 3, 576, 1024)\n",
            "\n",
            "0: 576x1024 1 right, 13.3ms\n",
            "Speed: 6.6ms preprocess, 13.3ms inference, 2.7ms postprocess per image at shape (1, 3, 576, 1024)\n",
            "\n",
            "0: 576x1024 1 right, 14.0ms\n",
            "Speed: 7.0ms preprocess, 14.0ms inference, 2.8ms postprocess per image at shape (1, 3, 576, 1024)\n",
            "\n",
            "0: 576x1024 1 right, 12.6ms\n",
            "Speed: 6.4ms preprocess, 12.6ms inference, 2.8ms postprocess per image at shape (1, 3, 576, 1024)\n",
            "\n",
            "0: 576x1024 1 right, 13.4ms\n",
            "Speed: 7.5ms preprocess, 13.4ms inference, 2.0ms postprocess per image at shape (1, 3, 576, 1024)\n",
            "\n",
            "0: 576x1024 1 right, 13.1ms\n",
            "Speed: 7.2ms preprocess, 13.1ms inference, 2.9ms postprocess per image at shape (1, 3, 576, 1024)\n",
            "\n",
            "0: 576x1024 1 right, 14.0ms\n",
            "Speed: 7.6ms preprocess, 14.0ms inference, 2.1ms postprocess per image at shape (1, 3, 576, 1024)\n",
            "\n",
            "0: 576x1024 1 right, 16.2ms\n",
            "Speed: 7.2ms preprocess, 16.2ms inference, 3.1ms postprocess per image at shape (1, 3, 576, 1024)\n",
            "\n",
            "0: 576x1024 1 right, 13.8ms\n",
            "Speed: 7.4ms preprocess, 13.8ms inference, 2.4ms postprocess per image at shape (1, 3, 576, 1024)\n",
            "\n",
            "0: 576x1024 1 right, 11.4ms\n",
            "Speed: 9.3ms preprocess, 11.4ms inference, 2.1ms postprocess per image at shape (1, 3, 576, 1024)\n",
            "\n",
            "0: 576x1024 1 right, 13.9ms\n",
            "Speed: 7.9ms preprocess, 13.9ms inference, 2.5ms postprocess per image at shape (1, 3, 576, 1024)\n",
            "\n",
            "0: 576x1024 2 lefts, 1 right, 14.3ms\n",
            "Speed: 7.2ms preprocess, 14.3ms inference, 2.3ms postprocess per image at shape (1, 3, 576, 1024)\n",
            "\n",
            "0: 576x1024 2 rights, 13.6ms\n",
            "Speed: 7.2ms preprocess, 13.6ms inference, 2.3ms postprocess per image at shape (1, 3, 576, 1024)\n",
            "\n",
            "0: 576x1024 3 rights, 15.8ms\n",
            "Speed: 7.2ms preprocess, 15.8ms inference, 2.1ms postprocess per image at shape (1, 3, 576, 1024)\n",
            "\n",
            "0: 576x1024 2 rights, 13.9ms\n",
            "Speed: 7.1ms preprocess, 13.9ms inference, 2.1ms postprocess per image at shape (1, 3, 576, 1024)\n",
            "\n",
            "0: 576x1024 2 rights, 13.0ms\n",
            "Speed: 7.3ms preprocess, 13.0ms inference, 2.1ms postprocess per image at shape (1, 3, 576, 1024)\n",
            "\n",
            "0: 576x1024 1 left, 1 right, 14.7ms\n",
            "Speed: 7.3ms preprocess, 14.7ms inference, 2.5ms postprocess per image at shape (1, 3, 576, 1024)\n",
            "\n",
            "0: 576x1024 1 right, 14.3ms\n",
            "Speed: 7.1ms preprocess, 14.3ms inference, 2.1ms postprocess per image at shape (1, 3, 576, 1024)\n",
            "\n",
            "0: 576x1024 1 right, 11.4ms\n",
            "Speed: 7.0ms preprocess, 11.4ms inference, 2.0ms postprocess per image at shape (1, 3, 576, 1024)\n",
            "\n",
            "0: 576x1024 2 rights, 11.4ms\n",
            "Speed: 6.6ms preprocess, 11.4ms inference, 2.1ms postprocess per image at shape (1, 3, 576, 1024)\n",
            "\n",
            "0: 576x1024 1 right, 11.4ms\n",
            "Speed: 7.0ms preprocess, 11.4ms inference, 1.9ms postprocess per image at shape (1, 3, 576, 1024)\n"
          ]
        }
      ]
    }
  ]
}