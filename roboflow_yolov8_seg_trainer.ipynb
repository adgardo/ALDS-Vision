{
  "nbformat": 4,
  "nbformat_minor": 0,
  "metadata": {
    "colab": {
      "provenance": [],
      "gpuType": "T4"
    },
    "kernelspec": {
      "name": "python3",
      "display_name": "Python 3"
    },
    "language_info": {
      "name": "python"
    },
    "accelerator": "GPU"
  },
  "cells": [
    {
      "cell_type": "code",
      "execution_count": null,
      "metadata": {
        "colab": {
          "base_uri": "https://localhost:8080/"
        },
        "id": "w3F_B3AQcwq9",
        "outputId": "b1f53a31-1788-4122-fcdc-4e5ac246560a"
      },
      "outputs": [
        {
          "output_type": "stream",
          "name": "stdout",
          "text": [
            "Requirement already satisfied: roboflow in /usr/local/lib/python3.10/dist-packages (1.1.24)\n",
            "Requirement already satisfied: certifi==2023.7.22 in /usr/local/lib/python3.10/dist-packages (from roboflow) (2023.7.22)\n",
            "Requirement already satisfied: chardet==4.0.0 in /usr/local/lib/python3.10/dist-packages (from roboflow) (4.0.0)\n",
            "Requirement already satisfied: cycler==0.10.0 in /usr/local/lib/python3.10/dist-packages (from roboflow) (0.10.0)\n",
            "Requirement already satisfied: idna==2.10 in /usr/local/lib/python3.10/dist-packages (from roboflow) (2.10)\n",
            "Requirement already satisfied: kiwisolver>=1.3.1 in /usr/local/lib/python3.10/dist-packages (from roboflow) (1.4.5)\n",
            "Requirement already satisfied: matplotlib in /usr/local/lib/python3.10/dist-packages (from roboflow) (3.7.1)\n",
            "Requirement already satisfied: numpy>=1.18.5 in /usr/local/lib/python3.10/dist-packages (from roboflow) (1.25.2)\n",
            "Requirement already satisfied: opencv-python-headless==4.8.0.74 in /usr/local/lib/python3.10/dist-packages (from roboflow) (4.8.0.74)\n",
            "Requirement already satisfied: Pillow>=7.1.2 in /usr/local/lib/python3.10/dist-packages (from roboflow) (9.4.0)\n",
            "Requirement already satisfied: python-dateutil in /usr/local/lib/python3.10/dist-packages (from roboflow) (2.8.2)\n",
            "Requirement already satisfied: python-dotenv in /usr/local/lib/python3.10/dist-packages (from roboflow) (1.0.1)\n",
            "Requirement already satisfied: requests in /usr/local/lib/python3.10/dist-packages (from roboflow) (2.31.0)\n",
            "Requirement already satisfied: six in /usr/local/lib/python3.10/dist-packages (from roboflow) (1.16.0)\n",
            "Requirement already satisfied: urllib3>=1.26.6 in /usr/local/lib/python3.10/dist-packages (from roboflow) (2.0.7)\n",
            "Requirement already satisfied: tqdm>=4.41.0 in /usr/local/lib/python3.10/dist-packages (from roboflow) (4.66.2)\n",
            "Requirement already satisfied: PyYAML>=5.3.1 in /usr/local/lib/python3.10/dist-packages (from roboflow) (6.0.1)\n",
            "Requirement already satisfied: requests-toolbelt in /usr/local/lib/python3.10/dist-packages (from roboflow) (1.0.0)\n",
            "Requirement already satisfied: python-magic in /usr/local/lib/python3.10/dist-packages (from roboflow) (0.4.27)\n",
            "Requirement already satisfied: contourpy>=1.0.1 in /usr/local/lib/python3.10/dist-packages (from matplotlib->roboflow) (1.2.0)\n",
            "Requirement already satisfied: fonttools>=4.22.0 in /usr/local/lib/python3.10/dist-packages (from matplotlib->roboflow) (4.49.0)\n",
            "Requirement already satisfied: packaging>=20.0 in /usr/local/lib/python3.10/dist-packages (from matplotlib->roboflow) (24.0)\n",
            "Requirement already satisfied: pyparsing>=2.3.1 in /usr/local/lib/python3.10/dist-packages (from matplotlib->roboflow) (3.1.2)\n",
            "Requirement already satisfied: charset-normalizer<4,>=2 in /usr/local/lib/python3.10/dist-packages (from requests->roboflow) (3.3.2)\n",
            "Collecting ultralytics\n",
            "  Using cached ultralytics-8.1.29-py3-none-any.whl (721 kB)\n",
            "Requirement already satisfied: matplotlib>=3.3.0 in /usr/local/lib/python3.10/dist-packages (from ultralytics) (3.7.1)\n",
            "Requirement already satisfied: opencv-python>=4.6.0 in /usr/local/lib/python3.10/dist-packages (from ultralytics) (4.8.0.76)\n",
            "Requirement already satisfied: pillow>=7.1.2 in /usr/local/lib/python3.10/dist-packages (from ultralytics) (9.4.0)\n",
            "Requirement already satisfied: pyyaml>=5.3.1 in /usr/local/lib/python3.10/dist-packages (from ultralytics) (6.0.1)\n",
            "Requirement already satisfied: requests>=2.23.0 in /usr/local/lib/python3.10/dist-packages (from ultralytics) (2.31.0)\n",
            "Requirement already satisfied: scipy>=1.4.1 in /usr/local/lib/python3.10/dist-packages (from ultralytics) (1.11.4)\n",
            "Requirement already satisfied: torch>=1.8.0 in /usr/local/lib/python3.10/dist-packages (from ultralytics) (2.2.1+cu121)\n",
            "Requirement already satisfied: torchvision>=0.9.0 in /usr/local/lib/python3.10/dist-packages (from ultralytics) (0.17.1+cu121)\n",
            "Requirement already satisfied: tqdm>=4.64.0 in /usr/local/lib/python3.10/dist-packages (from ultralytics) (4.66.2)\n",
            "Requirement already satisfied: psutil in /usr/local/lib/python3.10/dist-packages (from ultralytics) (5.9.5)\n",
            "Requirement already satisfied: py-cpuinfo in /usr/local/lib/python3.10/dist-packages (from ultralytics) (9.0.0)\n",
            "Collecting thop>=0.1.1 (from ultralytics)\n",
            "  Using cached thop-0.1.1.post2209072238-py3-none-any.whl (15 kB)\n",
            "Requirement already satisfied: pandas>=1.1.4 in /usr/local/lib/python3.10/dist-packages (from ultralytics) (1.5.3)\n",
            "Requirement already satisfied: seaborn>=0.11.0 in /usr/local/lib/python3.10/dist-packages (from ultralytics) (0.13.1)\n",
            "Requirement already satisfied: contourpy>=1.0.1 in /usr/local/lib/python3.10/dist-packages (from matplotlib>=3.3.0->ultralytics) (1.2.0)\n",
            "Requirement already satisfied: cycler>=0.10 in /usr/local/lib/python3.10/dist-packages (from matplotlib>=3.3.0->ultralytics) (0.10.0)\n",
            "Requirement already satisfied: fonttools>=4.22.0 in /usr/local/lib/python3.10/dist-packages (from matplotlib>=3.3.0->ultralytics) (4.49.0)\n",
            "Requirement already satisfied: kiwisolver>=1.0.1 in /usr/local/lib/python3.10/dist-packages (from matplotlib>=3.3.0->ultralytics) (1.4.5)\n",
            "Requirement already satisfied: numpy>=1.20 in /usr/local/lib/python3.10/dist-packages (from matplotlib>=3.3.0->ultralytics) (1.25.2)\n",
            "Requirement already satisfied: packaging>=20.0 in /usr/local/lib/python3.10/dist-packages (from matplotlib>=3.3.0->ultralytics) (24.0)\n",
            "Requirement already satisfied: pyparsing>=2.3.1 in /usr/local/lib/python3.10/dist-packages (from matplotlib>=3.3.0->ultralytics) (3.1.2)\n",
            "Requirement already satisfied: python-dateutil>=2.7 in /usr/local/lib/python3.10/dist-packages (from matplotlib>=3.3.0->ultralytics) (2.8.2)\n",
            "Requirement already satisfied: pytz>=2020.1 in /usr/local/lib/python3.10/dist-packages (from pandas>=1.1.4->ultralytics) (2023.4)\n",
            "Requirement already satisfied: charset-normalizer<4,>=2 in /usr/local/lib/python3.10/dist-packages (from requests>=2.23.0->ultralytics) (3.3.2)\n",
            "Requirement already satisfied: idna<4,>=2.5 in /usr/local/lib/python3.10/dist-packages (from requests>=2.23.0->ultralytics) (2.10)\n",
            "Requirement already satisfied: urllib3<3,>=1.21.1 in /usr/local/lib/python3.10/dist-packages (from requests>=2.23.0->ultralytics) (2.0.7)\n",
            "Requirement already satisfied: certifi>=2017.4.17 in /usr/local/lib/python3.10/dist-packages (from requests>=2.23.0->ultralytics) (2023.7.22)\n",
            "Requirement already satisfied: filelock in /usr/local/lib/python3.10/dist-packages (from torch>=1.8.0->ultralytics) (3.13.1)\n",
            "Requirement already satisfied: typing-extensions>=4.8.0 in /usr/local/lib/python3.10/dist-packages (from torch>=1.8.0->ultralytics) (4.10.0)\n",
            "Requirement already satisfied: sympy in /usr/local/lib/python3.10/dist-packages (from torch>=1.8.0->ultralytics) (1.12)\n",
            "Requirement already satisfied: networkx in /usr/local/lib/python3.10/dist-packages (from torch>=1.8.0->ultralytics) (3.2.1)\n",
            "Requirement already satisfied: jinja2 in /usr/local/lib/python3.10/dist-packages (from torch>=1.8.0->ultralytics) (3.1.3)\n",
            "Requirement already satisfied: fsspec in /usr/local/lib/python3.10/dist-packages (from torch>=1.8.0->ultralytics) (2023.6.0)\n",
            "Collecting nvidia-cuda-nvrtc-cu12==12.1.105 (from torch>=1.8.0->ultralytics)\n",
            "  Using cached nvidia_cuda_nvrtc_cu12-12.1.105-py3-none-manylinux1_x86_64.whl (23.7 MB)\n",
            "Collecting nvidia-cuda-runtime-cu12==12.1.105 (from torch>=1.8.0->ultralytics)\n",
            "  Downloading nvidia_cuda_runtime_cu12-12.1.105-py3-none-manylinux1_x86_64.whl (823 kB)\n",
            "\u001b[2K     \u001b[90m━━━━━━━━━━━━━━━━━━━━━━━━━━━━━━━━━━━━━━━━\u001b[0m \u001b[32m823.6/823.6 kB\u001b[0m \u001b[31m7.0 MB/s\u001b[0m eta \u001b[36m0:00:00\u001b[0m\n",
            "\u001b[?25hCollecting nvidia-cuda-cupti-cu12==12.1.105 (from torch>=1.8.0->ultralytics)\n",
            "  Downloading nvidia_cuda_cupti_cu12-12.1.105-py3-none-manylinux1_x86_64.whl (14.1 MB)\n",
            "\u001b[2K     \u001b[90m━━━━━━━━━━━━━━━━━━━━━━━━━━━━━━━━━━━━━━━━\u001b[0m \u001b[32m14.1/14.1 MB\u001b[0m \u001b[31m49.0 MB/s\u001b[0m eta \u001b[36m0:00:00\u001b[0m\n",
            "\u001b[?25hCollecting nvidia-cudnn-cu12==8.9.2.26 (from torch>=1.8.0->ultralytics)\n",
            "  Downloading nvidia_cudnn_cu12-8.9.2.26-py3-none-manylinux1_x86_64.whl (731.7 MB)\n",
            "\u001b[2K     \u001b[90m━━━━━━━━━━━━━━━━━━━━━━━━━━━━━━━━━━━━━━━━\u001b[0m \u001b[32m731.7/731.7 MB\u001b[0m \u001b[31m2.3 MB/s\u001b[0m eta \u001b[36m0:00:00\u001b[0m\n",
            "\u001b[?25hCollecting nvidia-cublas-cu12==12.1.3.1 (from torch>=1.8.0->ultralytics)\n",
            "  Downloading nvidia_cublas_cu12-12.1.3.1-py3-none-manylinux1_x86_64.whl (410.6 MB)\n",
            "\u001b[2K     \u001b[90m━━━━━━━━━━━━━━━━━━━━━━━━━━━━━━━━━━━━━━━━\u001b[0m \u001b[32m410.6/410.6 MB\u001b[0m \u001b[31m3.5 MB/s\u001b[0m eta \u001b[36m0:00:00\u001b[0m\n",
            "\u001b[?25hCollecting nvidia-cufft-cu12==11.0.2.54 (from torch>=1.8.0->ultralytics)\n",
            "  Downloading nvidia_cufft_cu12-11.0.2.54-py3-none-manylinux1_x86_64.whl (121.6 MB)\n",
            "\u001b[2K     \u001b[90m━━━━━━━━━━━━━━━━━━━━━━━━━━━━━━━━━━━━━━━━\u001b[0m \u001b[32m121.6/121.6 MB\u001b[0m \u001b[31m8.7 MB/s\u001b[0m eta \u001b[36m0:00:00\u001b[0m\n",
            "\u001b[?25hCollecting nvidia-curand-cu12==10.3.2.106 (from torch>=1.8.0->ultralytics)\n",
            "  Downloading nvidia_curand_cu12-10.3.2.106-py3-none-manylinux1_x86_64.whl (56.5 MB)\n",
            "\u001b[2K     \u001b[90m━━━━━━━━━━━━━━━━━━━━━━━━━━━━━━━━━━━━━━━━\u001b[0m \u001b[32m56.5/56.5 MB\u001b[0m \u001b[31m11.0 MB/s\u001b[0m eta \u001b[36m0:00:00\u001b[0m\n",
            "\u001b[?25hCollecting nvidia-cusolver-cu12==11.4.5.107 (from torch>=1.8.0->ultralytics)\n",
            "  Downloading nvidia_cusolver_cu12-11.4.5.107-py3-none-manylinux1_x86_64.whl (124.2 MB)\n",
            "\u001b[2K     \u001b[90m━━━━━━━━━━━━━━━━━━━━━━━━━━━━━━━━━━━━━━━━\u001b[0m \u001b[32m124.2/124.2 MB\u001b[0m \u001b[31m8.2 MB/s\u001b[0m eta \u001b[36m0:00:00\u001b[0m\n",
            "\u001b[?25hCollecting nvidia-cusparse-cu12==12.1.0.106 (from torch>=1.8.0->ultralytics)\n",
            "  Downloading nvidia_cusparse_cu12-12.1.0.106-py3-none-manylinux1_x86_64.whl (196.0 MB)\n",
            "\u001b[2K     \u001b[90m━━━━━━━━━━━━━━━━━━━━━━━━━━━━━━━━━━━━━━━━\u001b[0m \u001b[32m196.0/196.0 MB\u001b[0m \u001b[31m6.8 MB/s\u001b[0m eta \u001b[36m0:00:00\u001b[0m\n",
            "\u001b[?25hCollecting nvidia-nccl-cu12==2.19.3 (from torch>=1.8.0->ultralytics)\n",
            "  Downloading nvidia_nccl_cu12-2.19.3-py3-none-manylinux1_x86_64.whl (166.0 MB)\n",
            "\u001b[2K     \u001b[90m━━━━━━━━━━━━━━━━━━━━━━━━━━━━━━━━━━━━━━━━\u001b[0m \u001b[32m166.0/166.0 MB\u001b[0m \u001b[31m7.0 MB/s\u001b[0m eta \u001b[36m0:00:00\u001b[0m\n",
            "\u001b[?25hCollecting nvidia-nvtx-cu12==12.1.105 (from torch>=1.8.0->ultralytics)\n",
            "  Downloading nvidia_nvtx_cu12-12.1.105-py3-none-manylinux1_x86_64.whl (99 kB)\n",
            "\u001b[2K     \u001b[90m━━━━━━━━━━━━━━━━━━━━━━━━━━━━━━━━━━━━━━━━\u001b[0m \u001b[32m99.1/99.1 kB\u001b[0m \u001b[31m13.8 MB/s\u001b[0m eta \u001b[36m0:00:00\u001b[0m\n",
            "\u001b[?25hRequirement already satisfied: triton==2.2.0 in /usr/local/lib/python3.10/dist-packages (from torch>=1.8.0->ultralytics) (2.2.0)\n",
            "Collecting nvidia-nvjitlink-cu12 (from nvidia-cusolver-cu12==11.4.5.107->torch>=1.8.0->ultralytics)\n",
            "  Downloading nvidia_nvjitlink_cu12-12.4.99-py3-none-manylinux2014_x86_64.whl (21.1 MB)\n",
            "\u001b[2K     \u001b[90m━━━━━━━━━━━━━━━━━━━━━━━━━━━━━━━━━━━━━━━━\u001b[0m \u001b[32m21.1/21.1 MB\u001b[0m \u001b[31m52.7 MB/s\u001b[0m eta \u001b[36m0:00:00\u001b[0m\n",
            "\u001b[?25hRequirement already satisfied: six in /usr/local/lib/python3.10/dist-packages (from cycler>=0.10->matplotlib>=3.3.0->ultralytics) (1.16.0)\n",
            "Requirement already satisfied: MarkupSafe>=2.0 in /usr/local/lib/python3.10/dist-packages (from jinja2->torch>=1.8.0->ultralytics) (2.1.5)\n",
            "Requirement already satisfied: mpmath>=0.19 in /usr/local/lib/python3.10/dist-packages (from sympy->torch>=1.8.0->ultralytics) (1.3.0)\n",
            "Installing collected packages: nvidia-nvtx-cu12, nvidia-nvjitlink-cu12, nvidia-nccl-cu12, nvidia-curand-cu12, nvidia-cufft-cu12, nvidia-cuda-runtime-cu12, nvidia-cuda-nvrtc-cu12, nvidia-cuda-cupti-cu12, nvidia-cublas-cu12, nvidia-cusparse-cu12, nvidia-cudnn-cu12, nvidia-cusolver-cu12, thop, ultralytics\n",
            "Successfully installed nvidia-cublas-cu12-12.1.3.1 nvidia-cuda-cupti-cu12-12.1.105 nvidia-cuda-nvrtc-cu12-12.1.105 nvidia-cuda-runtime-cu12-12.1.105 nvidia-cudnn-cu12-8.9.2.26 nvidia-cufft-cu12-11.0.2.54 nvidia-curand-cu12-10.3.2.106 nvidia-cusolver-cu12-11.4.5.107 nvidia-cusparse-cu12-12.1.0.106 nvidia-nccl-cu12-2.19.3 nvidia-nvjitlink-cu12-12.4.99 nvidia-nvtx-cu12-12.1.105 thop-0.1.1.post2209072238 ultralytics-8.1.29\n"
          ]
        }
      ],
      "source": [
        "!pip install roboflow\n",
        "!pip install ultralytics\n",
        "\n",
        "\n",
        "\n"
      ]
    },
    {
      "cell_type": "code",
      "source": [
        "!pip install roboflow\n",
        "\n",
        "from roboflow import Roboflow\n",
        "rf = Roboflow(api_key=\"FjNNE4nwARLc7CLcN6eJ\")\n",
        "project = rf.workspace(\"adrin-garca-domingo\").project(\"instance-segmentation-wheels\")\n",
        "version = project.version(6)\n",
        "dataset = version.download(\"yolov8\")\n"
      ],
      "metadata": {
        "colab": {
          "base_uri": "https://localhost:8080/"
        },
        "id": "UNgVFnxSjcMW",
        "outputId": "ccb086d0-88ae-4edc-e4a6-19f10881e0fc"
      },
      "execution_count": null,
      "outputs": [
        {
          "output_type": "stream",
          "name": "stdout",
          "text": [
            "Requirement already satisfied: roboflow in /usr/local/lib/python3.10/dist-packages (1.1.24)\n",
            "Requirement already satisfied: certifi==2023.7.22 in /usr/local/lib/python3.10/dist-packages (from roboflow) (2023.7.22)\n",
            "Requirement already satisfied: chardet==4.0.0 in /usr/local/lib/python3.10/dist-packages (from roboflow) (4.0.0)\n",
            "Requirement already satisfied: cycler==0.10.0 in /usr/local/lib/python3.10/dist-packages (from roboflow) (0.10.0)\n",
            "Requirement already satisfied: idna==2.10 in /usr/local/lib/python3.10/dist-packages (from roboflow) (2.10)\n",
            "Requirement already satisfied: kiwisolver>=1.3.1 in /usr/local/lib/python3.10/dist-packages (from roboflow) (1.4.5)\n",
            "Requirement already satisfied: matplotlib in /usr/local/lib/python3.10/dist-packages (from roboflow) (3.7.1)\n",
            "Requirement already satisfied: numpy>=1.18.5 in /usr/local/lib/python3.10/dist-packages (from roboflow) (1.25.2)\n",
            "Requirement already satisfied: opencv-python-headless==4.8.0.74 in /usr/local/lib/python3.10/dist-packages (from roboflow) (4.8.0.74)\n",
            "Requirement already satisfied: Pillow>=7.1.2 in /usr/local/lib/python3.10/dist-packages (from roboflow) (9.4.0)\n",
            "Requirement already satisfied: python-dateutil in /usr/local/lib/python3.10/dist-packages (from roboflow) (2.8.2)\n",
            "Requirement already satisfied: python-dotenv in /usr/local/lib/python3.10/dist-packages (from roboflow) (1.0.1)\n",
            "Requirement already satisfied: requests in /usr/local/lib/python3.10/dist-packages (from roboflow) (2.31.0)\n",
            "Requirement already satisfied: six in /usr/local/lib/python3.10/dist-packages (from roboflow) (1.16.0)\n",
            "Requirement already satisfied: urllib3>=1.26.6 in /usr/local/lib/python3.10/dist-packages (from roboflow) (2.0.7)\n",
            "Requirement already satisfied: tqdm>=4.41.0 in /usr/local/lib/python3.10/dist-packages (from roboflow) (4.66.2)\n",
            "Requirement already satisfied: PyYAML>=5.3.1 in /usr/local/lib/python3.10/dist-packages (from roboflow) (6.0.1)\n",
            "Requirement already satisfied: requests-toolbelt in /usr/local/lib/python3.10/dist-packages (from roboflow) (1.0.0)\n",
            "Requirement already satisfied: python-magic in /usr/local/lib/python3.10/dist-packages (from roboflow) (0.4.27)\n",
            "Requirement already satisfied: contourpy>=1.0.1 in /usr/local/lib/python3.10/dist-packages (from matplotlib->roboflow) (1.2.0)\n",
            "Requirement already satisfied: fonttools>=4.22.0 in /usr/local/lib/python3.10/dist-packages (from matplotlib->roboflow) (4.49.0)\n",
            "Requirement already satisfied: packaging>=20.0 in /usr/local/lib/python3.10/dist-packages (from matplotlib->roboflow) (24.0)\n",
            "Requirement already satisfied: pyparsing>=2.3.1 in /usr/local/lib/python3.10/dist-packages (from matplotlib->roboflow) (3.1.2)\n",
            "Requirement already satisfied: charset-normalizer<4,>=2 in /usr/local/lib/python3.10/dist-packages (from requests->roboflow) (3.3.2)\n",
            "loading Roboflow workspace...\n",
            "loading Roboflow project...\n",
            "[WARNING] we noticed you are downloading a `yolov8` datasets but you don't have `ultralytics` installed. Roboflow `.deploy` supports only models trained with `ultralytics==8.0.196`, to intall it `pip install ultralytics==8.0.196`.\n"
          ]
        },
        {
          "output_type": "stream",
          "name": "stderr",
          "text": [
            "Downloading Dataset Version Zip in instance-segmentation-wheels-6 to yolov8:: 100%|██████████| 5281/5281 [00:00<00:00, 16121.52it/s]"
          ]
        },
        {
          "output_type": "stream",
          "name": "stdout",
          "text": [
            "\n"
          ]
        },
        {
          "output_type": "stream",
          "name": "stderr",
          "text": [
            "\n",
            "Extracting Dataset Version Zip to instance-segmentation-wheels-6 in yolov8:: 100%|██████████| 160/160 [00:00<00:00, 5720.50it/s]\n"
          ]
        }
      ]
    },
    {
      "cell_type": "code",
      "source": [
        "from ultralytics import YOLO\n",
        "\n",
        "# Load a model\n",
        "model = YOLO('yolov8n-seg.pt')  # load a pretrained model (recommended for training)\n",
        "\n",
        "# Train the model\n",
        "results = model.train(data='data.yaml', epochs=200, imgsz=1440)"
      ],
      "metadata": {
        "colab": {
          "base_uri": "https://localhost:8080/"
        },
        "id": "fnvKRu4PcyH4",
        "outputId": "3fae8742-cea2-4149-ec02-8361d0ecb82a"
      },
      "execution_count": null,
      "outputs": [
        {
          "metadata": {
            "tags": null
          },
          "name": "stdout",
          "output_type": "stream",
          "text": [
            "Ultralytics YOLOv8.1.29 🚀 Python-3.10.12 torch-2.2.1+cu121 CUDA:0 (Tesla T4, 15102MiB)\n",
            "\u001b[34m\u001b[1mengine/trainer: \u001b[0mtask=segment, mode=train, model=yolov8n-seg.pt, data=data.yaml, epochs=200, time=None, patience=100, batch=16, imgsz=1440, save=True, save_period=-1, cache=False, device=None, workers=8, project=None, name=train4, exist_ok=False, pretrained=True, optimizer=auto, verbose=True, seed=0, deterministic=True, single_cls=False, rect=False, cos_lr=False, close_mosaic=10, resume=False, amp=True, fraction=1.0, profile=False, freeze=None, multi_scale=False, overlap_mask=True, mask_ratio=4, dropout=0.0, val=True, split=val, save_json=False, save_hybrid=False, conf=None, iou=0.7, max_det=300, half=False, dnn=False, plots=True, source=None, vid_stride=1, stream_buffer=False, visualize=False, augment=False, agnostic_nms=False, classes=None, retina_masks=False, embed=None, show=False, save_frames=False, save_txt=False, save_conf=False, save_crop=False, show_labels=True, show_conf=True, show_boxes=True, line_width=None, format=torchscript, keras=False, optimize=False, int8=False, dynamic=False, simplify=False, opset=None, workspace=4, nms=False, lr0=0.01, lrf=0.01, momentum=0.937, weight_decay=0.0005, warmup_epochs=3.0, warmup_momentum=0.8, warmup_bias_lr=0.1, box=7.5, cls=0.5, dfl=1.5, pose=12.0, kobj=1.0, label_smoothing=0.0, nbs=64, hsv_h=0.015, hsv_s=0.7, hsv_v=0.4, degrees=0.0, translate=0.1, scale=0.5, shear=0.0, perspective=0.0, flipud=0.0, fliplr=0.5, mosaic=1.0, mixup=0.0, copy_paste=0.0, auto_augment=randaugment, erasing=0.4, crop_fraction=1.0, cfg=None, tracker=botsort.yaml, save_dir=runs/segment/train4\n",
            "Overriding model.yaml nc=80 with nc=1\n",
            "\n",
            "                   from  n    params  module                                       arguments                     \n",
            "  0                  -1  1       464  ultralytics.nn.modules.conv.Conv             [3, 16, 3, 2]                 \n",
            "  1                  -1  1      4672  ultralytics.nn.modules.conv.Conv             [16, 32, 3, 2]                \n",
            "  2                  -1  1      7360  ultralytics.nn.modules.block.C2f             [32, 32, 1, True]             \n",
            "  3                  -1  1     18560  ultralytics.nn.modules.conv.Conv             [32, 64, 3, 2]                \n",
            "  4                  -1  2     49664  ultralytics.nn.modules.block.C2f             [64, 64, 2, True]             \n",
            "  5                  -1  1     73984  ultralytics.nn.modules.conv.Conv             [64, 128, 3, 2]               \n",
            "  6                  -1  2    197632  ultralytics.nn.modules.block.C2f             [128, 128, 2, True]           \n",
            "  7                  -1  1    295424  ultralytics.nn.modules.conv.Conv             [128, 256, 3, 2]              \n",
            "  8                  -1  1    460288  ultralytics.nn.modules.block.C2f             [256, 256, 1, True]           \n",
            "  9                  -1  1    164608  ultralytics.nn.modules.block.SPPF            [256, 256, 5]                 \n",
            " 10                  -1  1         0  torch.nn.modules.upsampling.Upsample         [None, 2, 'nearest']          \n",
            " 11             [-1, 6]  1         0  ultralytics.nn.modules.conv.Concat           [1]                           \n",
            " 12                  -1  1    148224  ultralytics.nn.modules.block.C2f             [384, 128, 1]                 \n",
            " 13                  -1  1         0  torch.nn.modules.upsampling.Upsample         [None, 2, 'nearest']          \n",
            " 14             [-1, 4]  1         0  ultralytics.nn.modules.conv.Concat           [1]                           \n",
            " 15                  -1  1     37248  ultralytics.nn.modules.block.C2f             [192, 64, 1]                  \n",
            " 16                  -1  1     36992  ultralytics.nn.modules.conv.Conv             [64, 64, 3, 2]                \n",
            " 17            [-1, 12]  1         0  ultralytics.nn.modules.conv.Concat           [1]                           \n",
            " 18                  -1  1    123648  ultralytics.nn.modules.block.C2f             [192, 128, 1]                 \n",
            " 19                  -1  1    147712  ultralytics.nn.modules.conv.Conv             [128, 128, 3, 2]              \n",
            " 20             [-1, 9]  1         0  ultralytics.nn.modules.conv.Concat           [1]                           \n",
            " 21                  -1  1    493056  ultralytics.nn.modules.block.C2f             [384, 256, 1]                 \n",
            " 22        [15, 18, 21]  1   1004275  ultralytics.nn.modules.head.Segment          [1, 32, 64, [64, 128, 256]]   \n",
            "YOLOv8n-seg summary: 261 layers, 3263811 parameters, 3263795 gradients, 12.1 GFLOPs\n",
            "\n",
            "Transferred 381/417 items from pretrained weights\n",
            "\u001b[34m\u001b[1mTensorBoard: \u001b[0mStart with 'tensorboard --logdir runs/segment/train4', view at http://localhost:6006/\n",
            "Freezing layer 'model.22.dfl.conv.weight'\n",
            "\u001b[34m\u001b[1mAMP: \u001b[0mrunning Automatic Mixed Precision (AMP) checks with YOLOv8n...\n",
            "\u001b[34m\u001b[1mAMP: \u001b[0mchecks passed ✅\n"
          ]
        },
        {
          "metadata": {
            "tags": null
          },
          "name": "stderr",
          "output_type": "stream",
          "text": [
            "\u001b[34m\u001b[1mtrain: \u001b[0mScanning /content/datasets/instance-segmentation-wheels-6/train/labels.cache... 52 images, 0 backgrounds, 0 corrupt: 100%|██████████| 52/52 [00:00<?, ?it/s]"
          ]
        },
        {
          "metadata": {
            "tags": null
          },
          "name": "stdout",
          "output_type": "stream",
          "text": [
            "\u001b[34m\u001b[1malbumentations: \u001b[0mBlur(p=0.01, blur_limit=(3, 7)), MedianBlur(p=0.01, blur_limit=(3, 7)), ToGray(p=0.01), CLAHE(p=0.01, clip_limit=(1, 4.0), tile_grid_size=(8, 8))\n"
          ]
        },
        {
          "metadata": {
            "tags": null
          },
          "name": "stderr",
          "output_type": "stream",
          "text": [
            "\n",
            "\u001b[34m\u001b[1mval: \u001b[0mScanning /content/datasets/instance-segmentation-wheels-6/valid/labels.cache... 15 images, 0 backgrounds, 0 corrupt: 100%|██████████| 15/15 [00:00<?, ?it/s]\n"
          ]
        },
        {
          "output_type": "stream",
          "name": "stdout",
          "text": [
            "Plotting labels to runs/segment/train4/labels.jpg... \n",
            "\u001b[34m\u001b[1moptimizer:\u001b[0m 'optimizer=auto' found, ignoring 'lr0=0.01' and 'momentum=0.937' and determining best 'optimizer', 'lr0' and 'momentum' automatically... \n",
            "\u001b[34m\u001b[1moptimizer:\u001b[0m AdamW(lr=0.002, momentum=0.9) with parameter groups 66 weight(decay=0.0), 77 weight(decay=0.0005), 76 bias(decay=0.0)\n",
            "\u001b[34m\u001b[1mTensorBoard: \u001b[0mmodel graph visualization added ✅\n",
            "Image sizes 1440 train, 1440 val\n",
            "Using 2 dataloader workers\n",
            "Logging results to \u001b[1mruns/segment/train4\u001b[0m\n",
            "Starting training for 200 epochs...\n",
            "\n",
            "      Epoch    GPU_mem   box_loss   seg_loss   cls_loss   dfl_loss  Instances       Size\n"
          ]
        },
        {
          "output_type": "stream",
          "name": "stderr",
          "text": [
            "      1/200      13.4G      3.321      4.085         21      1.668         18       1440: 100%|██████████| 4/4 [00:08<00:00,  2.03s/it]\n",
            "                 Class     Images  Instances      Box(P          R      mAP50  mAP50-95)     Mask(P          R      mAP50  mAP50-95): 100%|██████████| 1/1 [00:01<00:00,  1.50s/it]"
          ]
        },
        {
          "output_type": "stream",
          "name": "stdout",
          "text": [
            "                   all         15         30   0.000222     0.0333   0.000118   2.36e-05   0.000222     0.0333   0.000118   8.26e-05\n"
          ]
        },
        {
          "output_type": "stream",
          "name": "stderr",
          "text": [
            "\n"
          ]
        },
        {
          "output_type": "stream",
          "name": "stdout",
          "text": [
            "\n",
            "      Epoch    GPU_mem   box_loss   seg_loss   cls_loss   dfl_loss  Instances       Size\n"
          ]
        },
        {
          "output_type": "stream",
          "name": "stderr",
          "text": [
            "      2/200      13.3G      3.292       4.03       19.6      1.602         23       1440: 100%|██████████| 4/4 [00:03<00:00,  1.14it/s]\n",
            "                 Class     Images  Instances      Box(P          R      mAP50  mAP50-95)     Mask(P          R      mAP50  mAP50-95): 100%|██████████| 1/1 [00:00<00:00,  2.21it/s]"
          ]
        },
        {
          "output_type": "stream",
          "name": "stdout",
          "text": [
            "                   all         15         30   0.000667        0.1    0.00038     0.0002    0.00156      0.233    0.00104   0.000349\n"
          ]
        },
        {
          "output_type": "stream",
          "name": "stderr",
          "text": [
            "\n"
          ]
        },
        {
          "output_type": "stream",
          "name": "stdout",
          "text": [
            "\n",
            "      Epoch    GPU_mem   box_loss   seg_loss   cls_loss   dfl_loss  Instances       Size\n"
          ]
        },
        {
          "output_type": "stream",
          "name": "stderr",
          "text": [
            "      3/200      13.4G      2.142      2.868      10.94      1.177         11       1440: 100%|██████████| 4/4 [00:03<00:00,  1.22it/s]\n",
            "                 Class     Images  Instances      Box(P          R      mAP50  mAP50-95)     Mask(P          R      mAP50  mAP50-95): 100%|██████████| 1/1 [00:00<00:00,  1.94it/s]"
          ]
        },
        {
          "output_type": "stream",
          "name": "stdout",
          "text": [
            "                   all         15         30    0.00556      0.833     0.0072    0.00354    0.00556      0.833    0.00786    0.00495\n"
          ]
        },
        {
          "output_type": "stream",
          "name": "stderr",
          "text": [
            "\n"
          ]
        },
        {
          "output_type": "stream",
          "name": "stdout",
          "text": [
            "\n",
            "      Epoch    GPU_mem   box_loss   seg_loss   cls_loss   dfl_loss  Instances       Size\n"
          ]
        },
        {
          "output_type": "stream",
          "name": "stderr",
          "text": [
            "      4/200      13.3G      1.846      2.131       6.88     0.9993         14       1440: 100%|██████████| 4/4 [00:03<00:00,  1.10it/s]\n",
            "                 Class     Images  Instances      Box(P          R      mAP50  mAP50-95)     Mask(P          R      mAP50  mAP50-95): 100%|██████████| 1/1 [00:00<00:00,  4.13it/s]"
          ]
        },
        {
          "output_type": "stream",
          "name": "stdout",
          "text": [
            "                   all         15         30    0.00622      0.933     0.0135    0.00562      0.006        0.9     0.0122    0.00703\n"
          ]
        },
        {
          "output_type": "stream",
          "name": "stderr",
          "text": [
            "\n"
          ]
        },
        {
          "output_type": "stream",
          "name": "stdout",
          "text": [
            "\n",
            "      Epoch    GPU_mem   box_loss   seg_loss   cls_loss   dfl_loss  Instances       Size\n"
          ]
        },
        {
          "output_type": "stream",
          "name": "stderr",
          "text": [
            "      5/200      13.4G        1.6      1.819      5.792     0.9502         17       1440: 100%|██████████| 4/4 [00:03<00:00,  1.25it/s]\n",
            "                 Class     Images  Instances      Box(P          R      mAP50  mAP50-95)     Mask(P          R      mAP50  mAP50-95): 100%|██████████| 1/1 [00:00<00:00,  2.25it/s]"
          ]
        },
        {
          "output_type": "stream",
          "name": "stdout",
          "text": [
            "                   all         15         30    0.00533        0.8    0.00963     0.0039    0.00556      0.833    0.00982    0.00541\n"
          ]
        },
        {
          "output_type": "stream",
          "name": "stderr",
          "text": [
            "\n"
          ]
        },
        {
          "output_type": "stream",
          "name": "stdout",
          "text": [
            "\n",
            "      Epoch    GPU_mem   box_loss   seg_loss   cls_loss   dfl_loss  Instances       Size\n"
          ]
        },
        {
          "output_type": "stream",
          "name": "stderr",
          "text": [
            "      6/200      13.4G      1.392      1.878       5.54     0.9367         10       1440: 100%|██████████| 4/4 [00:03<00:00,  1.19it/s]\n",
            "                 Class     Images  Instances      Box(P          R      mAP50  mAP50-95)     Mask(P          R      mAP50  mAP50-95): 100%|██████████| 1/1 [00:00<00:00,  1.60it/s]"
          ]
        },
        {
          "output_type": "stream",
          "name": "stdout",
          "text": [
            "                   all         15         30    0.00533        0.8    0.00731    0.00269    0.00533        0.8    0.00701    0.00405\n"
          ]
        },
        {
          "output_type": "stream",
          "name": "stderr",
          "text": [
            "\n"
          ]
        },
        {
          "output_type": "stream",
          "name": "stdout",
          "text": [
            "\n",
            "      Epoch    GPU_mem   box_loss   seg_loss   cls_loss   dfl_loss  Instances       Size\n"
          ]
        },
        {
          "output_type": "stream",
          "name": "stderr",
          "text": [
            "      7/200      13.3G      1.211      1.551      5.504     0.8797          4       1440: 100%|██████████| 4/4 [00:03<00:00,  1.24it/s]\n",
            "                 Class     Images  Instances      Box(P          R      mAP50  mAP50-95)     Mask(P          R      mAP50  mAP50-95): 100%|██████████| 1/1 [00:00<00:00,  2.32it/s]"
          ]
        },
        {
          "output_type": "stream",
          "name": "stdout",
          "text": [
            "                   all         15         30    0.00556      0.833    0.00649    0.00242    0.00533        0.8    0.00633    0.00372\n"
          ]
        },
        {
          "output_type": "stream",
          "name": "stderr",
          "text": [
            "\n"
          ]
        },
        {
          "output_type": "stream",
          "name": "stdout",
          "text": [
            "\n",
            "      Epoch    GPU_mem   box_loss   seg_loss   cls_loss   dfl_loss  Instances       Size\n"
          ]
        },
        {
          "output_type": "stream",
          "name": "stderr",
          "text": [
            "      8/200      13.2G      1.317      1.655      4.378     0.8913         15       1440: 100%|██████████| 4/4 [00:03<00:00,  1.33it/s]\n",
            "                 Class     Images  Instances      Box(P          R      mAP50  mAP50-95)     Mask(P          R      mAP50  mAP50-95): 100%|██████████| 1/1 [00:00<00:00,  1.98it/s]"
          ]
        },
        {
          "output_type": "stream",
          "name": "stdout",
          "text": [
            "                   all         15         30    0.00533        0.8    0.00524     0.0017    0.00578      0.867    0.00575    0.00263\n"
          ]
        },
        {
          "output_type": "stream",
          "name": "stderr",
          "text": [
            "\n"
          ]
        },
        {
          "output_type": "stream",
          "name": "stdout",
          "text": [
            "\n",
            "      Epoch    GPU_mem   box_loss   seg_loss   cls_loss   dfl_loss  Instances       Size\n"
          ]
        },
        {
          "output_type": "stream",
          "name": "stderr",
          "text": [
            "      9/200      13.2G      1.321      1.655      4.696     0.8793         10       1440: 100%|██████████| 4/4 [00:03<00:00,  1.11it/s]\n",
            "                 Class     Images  Instances      Box(P          R      mAP50  mAP50-95)     Mask(P          R      mAP50  mAP50-95): 100%|██████████| 1/1 [00:00<00:00,  2.56it/s]"
          ]
        },
        {
          "output_type": "stream",
          "name": "stdout",
          "text": [
            "                   all         15         30    0.00267        0.4    0.00188    0.00111    0.00422      0.633    0.00348    0.00146\n"
          ]
        },
        {
          "output_type": "stream",
          "name": "stderr",
          "text": [
            "\n"
          ]
        },
        {
          "output_type": "stream",
          "name": "stdout",
          "text": [
            "\n",
            "      Epoch    GPU_mem   box_loss   seg_loss   cls_loss   dfl_loss  Instances       Size\n"
          ]
        },
        {
          "output_type": "stream",
          "name": "stderr",
          "text": [
            "     10/200      13.4G      1.335      1.501      4.184     0.8535         18       1440: 100%|██████████| 4/4 [00:03<00:00,  1.13it/s]\n",
            "                 Class     Images  Instances      Box(P          R      mAP50  mAP50-95)     Mask(P          R      mAP50  mAP50-95): 100%|██████████| 1/1 [00:00<00:00,  1.46it/s]"
          ]
        },
        {
          "output_type": "stream",
          "name": "stdout",
          "text": [
            "                   all         15         30   0.000222     0.0333   0.000115   0.000103   0.000889      0.133   0.000504   0.000219\n"
          ]
        },
        {
          "output_type": "stream",
          "name": "stderr",
          "text": [
            "\n"
          ]
        },
        {
          "output_type": "stream",
          "name": "stdout",
          "text": [
            "\n",
            "      Epoch    GPU_mem   box_loss   seg_loss   cls_loss   dfl_loss  Instances       Size\n"
          ]
        },
        {
          "output_type": "stream",
          "name": "stderr",
          "text": [
            "     11/200      13.4G      1.373      1.436      4.308     0.8983         13       1440: 100%|██████████| 4/4 [00:03<00:00,  1.16it/s]\n",
            "                 Class     Images  Instances      Box(P          R      mAP50  mAP50-95)     Mask(P          R      mAP50  mAP50-95): 100%|██████████| 1/1 [00:00<00:00,  1.39it/s]"
          ]
        },
        {
          "output_type": "stream",
          "name": "stdout",
          "text": [
            "                   all         15         30    0.00356      0.533    0.00275     0.0013    0.00467        0.7    0.00401    0.00194\n"
          ]
        },
        {
          "output_type": "stream",
          "name": "stderr",
          "text": [
            "\n"
          ]
        },
        {
          "output_type": "stream",
          "name": "stdout",
          "text": [
            "\n",
            "      Epoch    GPU_mem   box_loss   seg_loss   cls_loss   dfl_loss  Instances       Size\n"
          ]
        },
        {
          "output_type": "stream",
          "name": "stderr",
          "text": [
            "     12/200      13.3G      1.548       1.79       4.13     0.9148         20       1440: 100%|██████████| 4/4 [00:03<00:00,  1.17it/s]\n",
            "                 Class     Images  Instances      Box(P          R      mAP50  mAP50-95)     Mask(P          R      mAP50  mAP50-95): 100%|██████████| 1/1 [00:00<00:00,  1.83it/s]"
          ]
        },
        {
          "output_type": "stream",
          "name": "stdout",
          "text": [
            "                   all         15         30    0.00444      0.667    0.00423    0.00201    0.00556      0.833    0.00622    0.00271\n"
          ]
        },
        {
          "output_type": "stream",
          "name": "stderr",
          "text": [
            "\n"
          ]
        },
        {
          "output_type": "stream",
          "name": "stdout",
          "text": [
            "\n",
            "      Epoch    GPU_mem   box_loss   seg_loss   cls_loss   dfl_loss  Instances       Size\n"
          ]
        },
        {
          "output_type": "stream",
          "name": "stderr",
          "text": [
            "     13/200      13.3G      1.362      1.598      3.846     0.8934         20       1440: 100%|██████████| 4/4 [00:03<00:00,  1.24it/s]\n",
            "                 Class     Images  Instances      Box(P          R      mAP50  mAP50-95)     Mask(P          R      mAP50  mAP50-95): 100%|██████████| 1/1 [00:00<00:00,  2.38it/s]"
          ]
        },
        {
          "output_type": "stream",
          "name": "stdout",
          "text": [
            "                   all         15         30    0.00378      0.567    0.00348    0.00135    0.00467        0.7    0.00499    0.00211\n"
          ]
        },
        {
          "output_type": "stream",
          "name": "stderr",
          "text": [
            "\n"
          ]
        },
        {
          "output_type": "stream",
          "name": "stdout",
          "text": [
            "\n",
            "      Epoch    GPU_mem   box_loss   seg_loss   cls_loss   dfl_loss  Instances       Size\n"
          ]
        },
        {
          "output_type": "stream",
          "name": "stderr",
          "text": [
            "     14/200      13.4G      1.132      1.361      3.135     0.8624         20       1440: 100%|██████████| 4/4 [00:03<00:00,  1.18it/s]\n",
            "                 Class     Images  Instances      Box(P          R      mAP50  mAP50-95)     Mask(P          R      mAP50  mAP50-95): 100%|██████████| 1/1 [00:00<00:00,  2.37it/s]"
          ]
        },
        {
          "output_type": "stream",
          "name": "stdout",
          "text": [
            "                   all         15         30    0.00489      0.733    0.00472    0.00235    0.00556      0.833    0.00568    0.00325\n"
          ]
        },
        {
          "output_type": "stream",
          "name": "stderr",
          "text": [
            "\n"
          ]
        },
        {
          "output_type": "stream",
          "name": "stdout",
          "text": [
            "\n",
            "      Epoch    GPU_mem   box_loss   seg_loss   cls_loss   dfl_loss  Instances       Size\n"
          ]
        },
        {
          "output_type": "stream",
          "name": "stderr",
          "text": [
            "     15/200      13.3G      1.146      1.366      2.988     0.8605         13       1440: 100%|██████████| 4/4 [00:03<00:00,  1.23it/s]\n",
            "                 Class     Images  Instances      Box(P          R      mAP50  mAP50-95)     Mask(P          R      mAP50  mAP50-95): 100%|██████████| 1/1 [00:00<00:00,  1.91it/s]"
          ]
        },
        {
          "output_type": "stream",
          "name": "stdout",
          "text": [
            "                   all         15         30    0.00578      0.867    0.00673    0.00357    0.00622      0.933      0.007    0.00471\n"
          ]
        },
        {
          "output_type": "stream",
          "name": "stderr",
          "text": [
            "\n"
          ]
        },
        {
          "output_type": "stream",
          "name": "stdout",
          "text": [
            "\n",
            "      Epoch    GPU_mem   box_loss   seg_loss   cls_loss   dfl_loss  Instances       Size\n"
          ]
        },
        {
          "output_type": "stream",
          "name": "stderr",
          "text": [
            "     16/200      13.2G      1.147      1.174        4.3     0.8716          3       1440: 100%|██████████| 4/4 [00:03<00:00,  1.19it/s]\n",
            "                 Class     Images  Instances      Box(P          R      mAP50  mAP50-95)     Mask(P          R      mAP50  mAP50-95): 100%|██████████| 1/1 [00:00<00:00,  1.69it/s]"
          ]
        },
        {
          "output_type": "stream",
          "name": "stdout",
          "text": [
            "                   all         15         30    0.00578      0.867    0.00582    0.00407    0.00578      0.867    0.00622    0.00415\n"
          ]
        },
        {
          "output_type": "stream",
          "name": "stderr",
          "text": [
            "\n"
          ]
        },
        {
          "output_type": "stream",
          "name": "stdout",
          "text": [
            "\n",
            "      Epoch    GPU_mem   box_loss   seg_loss   cls_loss   dfl_loss  Instances       Size\n"
          ]
        },
        {
          "output_type": "stream",
          "name": "stderr",
          "text": [
            "     17/200      13.3G      1.254      1.446      2.971     0.8712         16       1440: 100%|██████████| 4/4 [00:03<00:00,  1.23it/s]\n",
            "                 Class     Images  Instances      Box(P          R      mAP50  mAP50-95)     Mask(P          R      mAP50  mAP50-95): 100%|██████████| 1/1 [00:00<00:00,  2.83it/s]"
          ]
        },
        {
          "output_type": "stream",
          "name": "stdout",
          "text": [
            "                   all         15         30    0.00378      0.567      0.156      0.112    0.00444      0.667      0.156     0.0963\n"
          ]
        },
        {
          "output_type": "stream",
          "name": "stderr",
          "text": [
            "\n"
          ]
        },
        {
          "output_type": "stream",
          "name": "stdout",
          "text": [
            "\n",
            "      Epoch    GPU_mem   box_loss   seg_loss   cls_loss   dfl_loss  Instances       Size\n"
          ]
        },
        {
          "output_type": "stream",
          "name": "stderr",
          "text": [
            "     18/200      13.2G      1.227      1.329      3.383     0.8815         15       1440: 100%|██████████| 4/4 [00:03<00:00,  1.24it/s]\n",
            "                 Class     Images  Instances      Box(P          R      mAP50  mAP50-95)     Mask(P          R      mAP50  mAP50-95): 100%|██████████| 1/1 [00:00<00:00,  2.31it/s]"
          ]
        },
        {
          "output_type": "stream",
          "name": "stdout",
          "text": [
            "                   all         15         30      0.006        0.9      0.655      0.465    0.00622      0.933      0.656      0.399\n"
          ]
        },
        {
          "output_type": "stream",
          "name": "stderr",
          "text": [
            "\n"
          ]
        },
        {
          "output_type": "stream",
          "name": "stdout",
          "text": [
            "\n",
            "      Epoch    GPU_mem   box_loss   seg_loss   cls_loss   dfl_loss  Instances       Size\n"
          ]
        },
        {
          "output_type": "stream",
          "name": "stderr",
          "text": [
            "     19/200      13.3G      1.214      1.499      2.956     0.8724         19       1440: 100%|██████████| 4/4 [00:03<00:00,  1.25it/s]\n",
            "                 Class     Images  Instances      Box(P          R      mAP50  mAP50-95)     Mask(P          R      mAP50  mAP50-95): 100%|██████████| 1/1 [00:00<00:00,  1.95it/s]"
          ]
        },
        {
          "output_type": "stream",
          "name": "stdout",
          "text": [
            "                   all         15         30    0.00578      0.867      0.577      0.362      0.006        0.9      0.577      0.351\n"
          ]
        },
        {
          "output_type": "stream",
          "name": "stderr",
          "text": [
            "\n"
          ]
        },
        {
          "output_type": "stream",
          "name": "stdout",
          "text": [
            "\n",
            "      Epoch    GPU_mem   box_loss   seg_loss   cls_loss   dfl_loss  Instances       Size\n"
          ]
        },
        {
          "output_type": "stream",
          "name": "stderr",
          "text": [
            "     20/200      13.2G      1.251      1.504      3.109     0.8731         16       1440: 100%|██████████| 4/4 [00:03<00:00,  1.29it/s]\n",
            "                 Class     Images  Instances      Box(P          R      mAP50  mAP50-95)     Mask(P          R      mAP50  mAP50-95): 100%|██████████| 1/1 [00:00<00:00,  2.13it/s]"
          ]
        },
        {
          "output_type": "stream",
          "name": "stdout",
          "text": [
            "                   all         15         30    0.00578      0.867      0.197      0.139    0.00556      0.833      0.197      0.111\n"
          ]
        },
        {
          "output_type": "stream",
          "name": "stderr",
          "text": [
            "\n"
          ]
        },
        {
          "output_type": "stream",
          "name": "stdout",
          "text": [
            "\n",
            "      Epoch    GPU_mem   box_loss   seg_loss   cls_loss   dfl_loss  Instances       Size\n"
          ]
        },
        {
          "output_type": "stream",
          "name": "stderr",
          "text": [
            "     21/200      13.2G      1.206      1.621      2.942     0.8571         20       1440: 100%|██████████| 4/4 [00:03<00:00,  1.15it/s]\n",
            "                 Class     Images  Instances      Box(P          R      mAP50  mAP50-95)     Mask(P          R      mAP50  mAP50-95): 100%|██████████| 1/1 [00:00<00:00,  1.53it/s]"
          ]
        },
        {
          "output_type": "stream",
          "name": "stdout",
          "text": [
            "                   all         15         30          1      0.304      0.992      0.723          1      0.304      0.992      0.558\n"
          ]
        },
        {
          "output_type": "stream",
          "name": "stderr",
          "text": [
            "\n"
          ]
        },
        {
          "output_type": "stream",
          "name": "stdout",
          "text": [
            "\n",
            "      Epoch    GPU_mem   box_loss   seg_loss   cls_loss   dfl_loss  Instances       Size\n"
          ]
        },
        {
          "output_type": "stream",
          "name": "stderr",
          "text": [
            "     22/200      13.4G      1.327      1.613      3.097     0.8596         22       1440: 100%|██████████| 4/4 [00:03<00:00,  1.25it/s]\n",
            "                 Class     Images  Instances      Box(P          R      mAP50  mAP50-95)     Mask(P          R      mAP50  mAP50-95): 100%|██████████| 1/1 [00:00<00:00,  2.29it/s]"
          ]
        },
        {
          "output_type": "stream",
          "name": "stdout",
          "text": [
            "                   all         15         30          1      0.624      0.962      0.709          1      0.624      0.962      0.546\n"
          ]
        },
        {
          "output_type": "stream",
          "name": "stderr",
          "text": [
            "\n"
          ]
        },
        {
          "output_type": "stream",
          "name": "stdout",
          "text": [
            "\n",
            "      Epoch    GPU_mem   box_loss   seg_loss   cls_loss   dfl_loss  Instances       Size\n"
          ]
        },
        {
          "output_type": "stream",
          "name": "stderr",
          "text": [
            "     23/200      13.1G      1.201      1.662      2.653     0.8835         13       1440: 100%|██████████| 4/4 [00:03<00:00,  1.18it/s]\n",
            "                 Class     Images  Instances      Box(P          R      mAP50  mAP50-95)     Mask(P          R      mAP50  mAP50-95): 100%|██████████| 1/1 [00:00<00:00,  2.09it/s]"
          ]
        },
        {
          "output_type": "stream",
          "name": "stdout",
          "text": [
            "                   all         15         30          1      0.395      0.994      0.656          1      0.395      0.965      0.613\n"
          ]
        },
        {
          "output_type": "stream",
          "name": "stderr",
          "text": [
            "\n"
          ]
        },
        {
          "output_type": "stream",
          "name": "stdout",
          "text": [
            "\n",
            "      Epoch    GPU_mem   box_loss   seg_loss   cls_loss   dfl_loss  Instances       Size\n"
          ]
        },
        {
          "output_type": "stream",
          "name": "stderr",
          "text": [
            "     24/200      13.4G      1.264      1.575      2.585     0.9084         19       1440: 100%|██████████| 4/4 [00:03<00:00,  1.27it/s]\n",
            "                 Class     Images  Instances      Box(P          R      mAP50  mAP50-95)     Mask(P          R      mAP50  mAP50-95): 100%|██████████| 1/1 [00:00<00:00,  2.18it/s]"
          ]
        },
        {
          "output_type": "stream",
          "name": "stdout",
          "text": [
            "                   all         15         30          1       0.59      0.993       0.67          1       0.59      0.993      0.589\n"
          ]
        },
        {
          "output_type": "stream",
          "name": "stderr",
          "text": [
            "\n"
          ]
        },
        {
          "output_type": "stream",
          "name": "stdout",
          "text": [
            "\n",
            "      Epoch    GPU_mem   box_loss   seg_loss   cls_loss   dfl_loss  Instances       Size\n"
          ]
        },
        {
          "output_type": "stream",
          "name": "stderr",
          "text": [
            "     25/200      13.3G      1.245      1.363      2.502     0.8792         12       1440: 100%|██████████| 4/4 [00:03<00:00,  1.20it/s]\n",
            "                 Class     Images  Instances      Box(P          R      mAP50  mAP50-95)     Mask(P          R      mAP50  mAP50-95): 100%|██████████| 1/1 [00:00<00:00,  2.01it/s]"
          ]
        },
        {
          "output_type": "stream",
          "name": "stdout",
          "text": [
            "                   all         15         30          1      0.874      0.994      0.722          1      0.874      0.994      0.613\n"
          ]
        },
        {
          "output_type": "stream",
          "name": "stderr",
          "text": [
            "\n"
          ]
        },
        {
          "output_type": "stream",
          "name": "stdout",
          "text": [
            "\n",
            "      Epoch    GPU_mem   box_loss   seg_loss   cls_loss   dfl_loss  Instances       Size\n"
          ]
        },
        {
          "output_type": "stream",
          "name": "stderr",
          "text": [
            "     26/200      13.5G      1.112      1.371      2.499     0.8658         14       1440: 100%|██████████| 4/4 [00:03<00:00,  1.15it/s]\n",
            "                 Class     Images  Instances      Box(P          R      mAP50  mAP50-95)     Mask(P          R      mAP50  mAP50-95): 100%|██████████| 1/1 [00:00<00:00,  2.28it/s]"
          ]
        },
        {
          "output_type": "stream",
          "name": "stdout",
          "text": [
            "                   all         15         30      0.929      0.967      0.986      0.644      0.929      0.967      0.986      0.628\n"
          ]
        },
        {
          "output_type": "stream",
          "name": "stderr",
          "text": [
            "\n"
          ]
        },
        {
          "output_type": "stream",
          "name": "stdout",
          "text": [
            "\n",
            "      Epoch    GPU_mem   box_loss   seg_loss   cls_loss   dfl_loss  Instances       Size\n"
          ]
        },
        {
          "output_type": "stream",
          "name": "stderr",
          "text": [
            "     27/200      13.5G      1.083      1.229      2.112     0.8553         15       1440: 100%|██████████| 4/4 [00:03<00:00,  1.23it/s]\n",
            "                 Class     Images  Instances      Box(P          R      mAP50  mAP50-95)     Mask(P          R      mAP50  mAP50-95): 100%|██████████| 1/1 [00:00<00:00,  1.99it/s]"
          ]
        },
        {
          "output_type": "stream",
          "name": "stdout",
          "text": [
            "                   all         15         30      0.965      0.918      0.987      0.665      0.965      0.918      0.987      0.569\n"
          ]
        },
        {
          "output_type": "stream",
          "name": "stderr",
          "text": [
            "\n"
          ]
        },
        {
          "output_type": "stream",
          "name": "stdout",
          "text": [
            "\n",
            "      Epoch    GPU_mem   box_loss   seg_loss   cls_loss   dfl_loss  Instances       Size\n"
          ]
        },
        {
          "output_type": "stream",
          "name": "stderr",
          "text": [
            "     28/200      13.1G      1.205      1.303      2.191     0.8525         21       1440: 100%|██████████| 4/4 [00:03<00:00,  1.15it/s]\n",
            "                 Class     Images  Instances      Box(P          R      mAP50  mAP50-95)     Mask(P          R      mAP50  mAP50-95): 100%|██████████| 1/1 [00:00<00:00,  1.28it/s]"
          ]
        },
        {
          "output_type": "stream",
          "name": "stdout",
          "text": [
            "                   all         15         30      0.934      0.967      0.987      0.656      0.934      0.967      0.987      0.595\n"
          ]
        },
        {
          "output_type": "stream",
          "name": "stderr",
          "text": [
            "\n"
          ]
        },
        {
          "output_type": "stream",
          "name": "stdout",
          "text": [
            "\n",
            "      Epoch    GPU_mem   box_loss   seg_loss   cls_loss   dfl_loss  Instances       Size\n"
          ]
        },
        {
          "output_type": "stream",
          "name": "stderr",
          "text": [
            "     29/200      13.2G      1.147       1.28      2.297     0.8454         16       1440: 100%|██████████| 4/4 [00:03<00:00,  1.22it/s]\n",
            "                 Class     Images  Instances      Box(P          R      mAP50  mAP50-95)     Mask(P          R      mAP50  mAP50-95): 100%|██████████| 1/1 [00:00<00:00,  1.78it/s]"
          ]
        },
        {
          "output_type": "stream",
          "name": "stdout",
          "text": [
            "                   all         15         30       0.95      0.967      0.988      0.648       0.95      0.967      0.988      0.649\n"
          ]
        },
        {
          "output_type": "stream",
          "name": "stderr",
          "text": [
            "\n"
          ]
        },
        {
          "output_type": "stream",
          "name": "stdout",
          "text": [
            "\n",
            "      Epoch    GPU_mem   box_loss   seg_loss   cls_loss   dfl_loss  Instances       Size\n"
          ]
        },
        {
          "output_type": "stream",
          "name": "stderr",
          "text": [
            "     30/200      13.2G      1.149       1.16      2.088      0.855         17       1440: 100%|██████████| 4/4 [00:03<00:00,  1.23it/s]\n",
            "                 Class     Images  Instances      Box(P          R      mAP50  mAP50-95)     Mask(P          R      mAP50  mAP50-95): 100%|██████████| 1/1 [00:00<00:00,  2.19it/s]"
          ]
        },
        {
          "output_type": "stream",
          "name": "stdout",
          "text": [
            "                   all         15         30      0.978          1      0.995       0.73      0.937      0.967      0.989      0.545\n"
          ]
        },
        {
          "output_type": "stream",
          "name": "stderr",
          "text": [
            "\n"
          ]
        },
        {
          "output_type": "stream",
          "name": "stdout",
          "text": [
            "\n",
            "      Epoch    GPU_mem   box_loss   seg_loss   cls_loss   dfl_loss  Instances       Size\n"
          ]
        },
        {
          "output_type": "stream",
          "name": "stderr",
          "text": [
            "     31/200      13.3G      1.142      1.501      2.257     0.8914         15       1440: 100%|██████████| 4/4 [00:03<00:00,  1.16it/s]\n",
            "                 Class     Images  Instances      Box(P          R      mAP50  mAP50-95)     Mask(P          R      mAP50  mAP50-95): 100%|██████████| 1/1 [00:00<00:00,  2.22it/s]"
          ]
        },
        {
          "output_type": "stream",
          "name": "stdout",
          "text": [
            "                   all         15         30      0.966          1      0.995      0.711      0.921      0.967      0.986       0.54\n"
          ]
        },
        {
          "output_type": "stream",
          "name": "stderr",
          "text": [
            "\n"
          ]
        },
        {
          "output_type": "stream",
          "name": "stdout",
          "text": [
            "\n",
            "      Epoch    GPU_mem   box_loss   seg_loss   cls_loss   dfl_loss  Instances       Size\n"
          ]
        },
        {
          "output_type": "stream",
          "name": "stderr",
          "text": [
            "     32/200      13.4G      1.103      1.296      1.781     0.8596         24       1440: 100%|██████████| 4/4 [00:03<00:00,  1.20it/s]\n",
            "                 Class     Images  Instances      Box(P          R      mAP50  mAP50-95)     Mask(P          R      mAP50  mAP50-95): 100%|██████████| 1/1 [00:00<00:00,  1.82it/s]"
          ]
        },
        {
          "output_type": "stream",
          "name": "stdout",
          "text": [
            "                   all         15         30      0.937          1      0.992      0.715      0.937          1      0.992      0.494\n"
          ]
        },
        {
          "output_type": "stream",
          "name": "stderr",
          "text": [
            "\n"
          ]
        },
        {
          "output_type": "stream",
          "name": "stdout",
          "text": [
            "\n",
            "      Epoch    GPU_mem   box_loss   seg_loss   cls_loss   dfl_loss  Instances       Size\n"
          ]
        },
        {
          "output_type": "stream",
          "name": "stderr",
          "text": [
            "     33/200      13.3G      1.099      1.212      1.888     0.8894         10       1440: 100%|██████████| 4/4 [00:03<00:00,  1.18it/s]\n",
            "                 Class     Images  Instances      Box(P          R      mAP50  mAP50-95)     Mask(P          R      mAP50  mAP50-95): 100%|██████████| 1/1 [00:00<00:00,  1.01it/s]"
          ]
        },
        {
          "output_type": "stream",
          "name": "stdout",
          "text": [
            "                   all         15         30      0.937          1      0.993        0.7      0.937          1      0.993      0.556\n"
          ]
        },
        {
          "output_type": "stream",
          "name": "stderr",
          "text": [
            "\n"
          ]
        },
        {
          "output_type": "stream",
          "name": "stdout",
          "text": [
            "\n",
            "      Epoch    GPU_mem   box_loss   seg_loss   cls_loss   dfl_loss  Instances       Size\n"
          ]
        },
        {
          "output_type": "stream",
          "name": "stderr",
          "text": [
            "     34/200      13.4G      1.123       1.12      1.954     0.8484         18       1440: 100%|██████████| 4/4 [00:03<00:00,  1.27it/s]\n",
            "                 Class     Images  Instances      Box(P          R      mAP50  mAP50-95)     Mask(P          R      mAP50  mAP50-95): 100%|██████████| 1/1 [00:00<00:00,  2.12it/s]"
          ]
        },
        {
          "output_type": "stream",
          "name": "stdout",
          "text": [
            "                   all         15         30       0.94      0.967      0.991      0.681       0.94      0.967      0.991      0.515\n"
          ]
        },
        {
          "output_type": "stream",
          "name": "stderr",
          "text": [
            "\n"
          ]
        },
        {
          "output_type": "stream",
          "name": "stdout",
          "text": [
            "\n",
            "      Epoch    GPU_mem   box_loss   seg_loss   cls_loss   dfl_loss  Instances       Size\n"
          ]
        },
        {
          "output_type": "stream",
          "name": "stderr",
          "text": [
            "     35/200      13.4G      1.114      1.236      1.847     0.8445         22       1440: 100%|██████████| 4/4 [00:03<00:00,  1.18it/s]\n",
            "                 Class     Images  Instances      Box(P          R      mAP50  mAP50-95)     Mask(P          R      mAP50  mAP50-95): 100%|██████████| 1/1 [00:00<00:00,  1.47it/s]"
          ]
        },
        {
          "output_type": "stream",
          "name": "stdout",
          "text": [
            "                   all         15         30      0.965          1      0.992      0.687      0.965          1      0.992      0.555\n"
          ]
        },
        {
          "output_type": "stream",
          "name": "stderr",
          "text": [
            "\n"
          ]
        },
        {
          "output_type": "stream",
          "name": "stdout",
          "text": [
            "\n",
            "      Epoch    GPU_mem   box_loss   seg_loss   cls_loss   dfl_loss  Instances       Size\n"
          ]
        },
        {
          "output_type": "stream",
          "name": "stderr",
          "text": [
            "     36/200      13.6G      1.052      1.115      1.664      0.856         17       1440: 100%|██████████| 4/4 [00:03<00:00,  1.19it/s]\n",
            "                 Class     Images  Instances      Box(P          R      mAP50  mAP50-95)     Mask(P          R      mAP50  mAP50-95): 100%|██████████| 1/1 [00:00<00:00,  2.66it/s]"
          ]
        },
        {
          "output_type": "stream",
          "name": "stdout",
          "text": [
            "                   all         15         30      0.955          1      0.993      0.718      0.955          1      0.993      0.569\n"
          ]
        },
        {
          "output_type": "stream",
          "name": "stderr",
          "text": [
            "\n"
          ]
        },
        {
          "output_type": "stream",
          "name": "stdout",
          "text": [
            "\n",
            "      Epoch    GPU_mem   box_loss   seg_loss   cls_loss   dfl_loss  Instances       Size\n"
          ]
        },
        {
          "output_type": "stream",
          "name": "stderr",
          "text": [
            "     37/200      13.3G      1.054      1.112      1.733     0.8508         18       1440: 100%|██████████| 4/4 [00:03<00:00,  1.25it/s]\n",
            "                 Class     Images  Instances      Box(P          R      mAP50  mAP50-95)     Mask(P          R      mAP50  mAP50-95): 100%|██████████| 1/1 [00:00<00:00,  2.15it/s]"
          ]
        },
        {
          "output_type": "stream",
          "name": "stdout",
          "text": [
            "                   all         15         30      0.968      0.996      0.992       0.73      0.968      0.996      0.992      0.577\n"
          ]
        },
        {
          "output_type": "stream",
          "name": "stderr",
          "text": [
            "\n"
          ]
        },
        {
          "output_type": "stream",
          "name": "stdout",
          "text": [
            "\n",
            "      Epoch    GPU_mem   box_loss   seg_loss   cls_loss   dfl_loss  Instances       Size\n"
          ]
        },
        {
          "output_type": "stream",
          "name": "stderr",
          "text": [
            "     38/200      13.1G     0.9633      1.005       1.66     0.8354         11       1440: 100%|██████████| 4/4 [00:03<00:00,  1.22it/s]\n",
            "                 Class     Images  Instances      Box(P          R      mAP50  mAP50-95)     Mask(P          R      mAP50  mAP50-95): 100%|██████████| 1/1 [00:00<00:00,  1.44it/s]"
          ]
        },
        {
          "output_type": "stream",
          "name": "stdout",
          "text": [
            "                   all         15         30      0.984          1      0.995       0.71      0.984          1      0.995      0.569\n"
          ]
        },
        {
          "output_type": "stream",
          "name": "stderr",
          "text": [
            "\n"
          ]
        },
        {
          "output_type": "stream",
          "name": "stdout",
          "text": [
            "\n",
            "      Epoch    GPU_mem   box_loss   seg_loss   cls_loss   dfl_loss  Instances       Size\n"
          ]
        },
        {
          "output_type": "stream",
          "name": "stderr",
          "text": [
            "     39/200      13.6G      1.013      1.094      1.728     0.8081         18       1440: 100%|██████████| 4/4 [00:03<00:00,  1.23it/s]\n",
            "                 Class     Images  Instances      Box(P          R      mAP50  mAP50-95)     Mask(P          R      mAP50  mAP50-95): 100%|██████████| 1/1 [00:00<00:00,  2.10it/s]"
          ]
        },
        {
          "output_type": "stream",
          "name": "stdout",
          "text": [
            "                   all         15         30      0.963          1      0.995      0.724      0.963          1      0.995       0.56\n"
          ]
        },
        {
          "output_type": "stream",
          "name": "stderr",
          "text": [
            "\n"
          ]
        },
        {
          "output_type": "stream",
          "name": "stdout",
          "text": [
            "\n",
            "      Epoch    GPU_mem   box_loss   seg_loss   cls_loss   dfl_loss  Instances       Size\n"
          ]
        },
        {
          "output_type": "stream",
          "name": "stderr",
          "text": [
            "     40/200      13.6G      1.033      1.267      1.678     0.8273         16       1440: 100%|██████████| 4/4 [00:03<00:00,  1.25it/s]\n",
            "                 Class     Images  Instances      Box(P          R      mAP50  mAP50-95)     Mask(P          R      mAP50  mAP50-95): 100%|██████████| 1/1 [00:00<00:00,  3.24it/s]"
          ]
        },
        {
          "output_type": "stream",
          "name": "stdout",
          "text": [
            "                   all         15         30      0.964          1      0.995      0.713      0.964          1      0.995      0.489\n"
          ]
        },
        {
          "output_type": "stream",
          "name": "stderr",
          "text": [
            "\n"
          ]
        },
        {
          "output_type": "stream",
          "name": "stdout",
          "text": [
            "\n",
            "      Epoch    GPU_mem   box_loss   seg_loss   cls_loss   dfl_loss  Instances       Size\n"
          ]
        },
        {
          "output_type": "stream",
          "name": "stderr",
          "text": [
            "     41/200      13.1G      1.076      1.265       1.54     0.8366         19       1440: 100%|██████████| 4/4 [00:03<00:00,  1.19it/s]\n",
            "                 Class     Images  Instances      Box(P          R      mAP50  mAP50-95)     Mask(P          R      mAP50  mAP50-95): 100%|██████████| 1/1 [00:00<00:00,  2.57it/s]"
          ]
        },
        {
          "output_type": "stream",
          "name": "stdout",
          "text": [
            "                   all         15         30      0.978          1      0.995      0.722      0.978          1      0.995      0.502\n"
          ]
        },
        {
          "output_type": "stream",
          "name": "stderr",
          "text": [
            "\n"
          ]
        },
        {
          "output_type": "stream",
          "name": "stdout",
          "text": [
            "\n",
            "      Epoch    GPU_mem   box_loss   seg_loss   cls_loss   dfl_loss  Instances       Size\n"
          ]
        },
        {
          "output_type": "stream",
          "name": "stderr",
          "text": [
            "     42/200      13.6G      1.064      1.151      1.488      0.847         19       1440: 100%|██████████| 4/4 [00:03<00:00,  1.22it/s]\n",
            "                 Class     Images  Instances      Box(P          R      mAP50  mAP50-95)     Mask(P          R      mAP50  mAP50-95): 100%|██████████| 1/1 [00:00<00:00,  1.79it/s]"
          ]
        },
        {
          "output_type": "stream",
          "name": "stdout",
          "text": [
            "                   all         15         30      0.958      0.967       0.99      0.726      0.991          1      0.995      0.588\n"
          ]
        },
        {
          "output_type": "stream",
          "name": "stderr",
          "text": [
            "\n"
          ]
        },
        {
          "output_type": "stream",
          "name": "stdout",
          "text": [
            "\n",
            "      Epoch    GPU_mem   box_loss   seg_loss   cls_loss   dfl_loss  Instances       Size\n"
          ]
        },
        {
          "output_type": "stream",
          "name": "stderr",
          "text": [
            "     43/200      13.1G      1.199      1.232      1.557      0.866         19       1440: 100%|██████████| 4/4 [00:03<00:00,  1.13it/s]\n",
            "                 Class     Images  Instances      Box(P          R      mAP50  mAP50-95)     Mask(P          R      mAP50  mAP50-95): 100%|██████████| 1/1 [00:00<00:00,  1.95it/s]"
          ]
        },
        {
          "output_type": "stream",
          "name": "stdout",
          "text": [
            "                   all         15         30      0.989          1      0.995       0.74      0.966      0.952      0.991      0.578\n"
          ]
        },
        {
          "output_type": "stream",
          "name": "stderr",
          "text": [
            "\n"
          ]
        },
        {
          "output_type": "stream",
          "name": "stdout",
          "text": [
            "\n",
            "      Epoch    GPU_mem   box_loss   seg_loss   cls_loss   dfl_loss  Instances       Size\n"
          ]
        },
        {
          "output_type": "stream",
          "name": "stderr",
          "text": [
            "     44/200      13.4G      1.104      1.187      1.489      0.872         19       1440: 100%|██████████| 4/4 [00:03<00:00,  1.29it/s]\n",
            "                 Class     Images  Instances      Box(P          R      mAP50  mAP50-95)     Mask(P          R      mAP50  mAP50-95): 100%|██████████| 1/1 [00:00<00:00,  1.76it/s]"
          ]
        },
        {
          "output_type": "stream",
          "name": "stdout",
          "text": [
            "                   all         15         30      0.981          1      0.995      0.744      0.981          1      0.995      0.503\n"
          ]
        },
        {
          "output_type": "stream",
          "name": "stderr",
          "text": [
            "\n"
          ]
        },
        {
          "output_type": "stream",
          "name": "stdout",
          "text": [
            "\n",
            "      Epoch    GPU_mem   box_loss   seg_loss   cls_loss   dfl_loss  Instances       Size\n"
          ]
        },
        {
          "output_type": "stream",
          "name": "stderr",
          "text": [
            "     45/200      13.4G      1.096      1.168      1.585     0.8486         12       1440: 100%|██████████| 4/4 [00:03<00:00,  1.29it/s]\n",
            "                 Class     Images  Instances      Box(P          R      mAP50  mAP50-95)     Mask(P          R      mAP50  mAP50-95): 100%|██████████| 1/1 [00:00<00:00,  1.78it/s]"
          ]
        },
        {
          "output_type": "stream",
          "name": "stdout",
          "text": [
            "                   all         15         30      0.974          1      0.995       0.74      0.974          1      0.995      0.497\n"
          ]
        },
        {
          "output_type": "stream",
          "name": "stderr",
          "text": [
            "\n"
          ]
        },
        {
          "output_type": "stream",
          "name": "stdout",
          "text": [
            "\n",
            "      Epoch    GPU_mem   box_loss   seg_loss   cls_loss   dfl_loss  Instances       Size\n"
          ]
        },
        {
          "output_type": "stream",
          "name": "stderr",
          "text": [
            "     46/200      13.4G      1.155      1.311      1.839     0.8544         11       1440: 100%|██████████| 4/4 [00:03<00:00,  1.26it/s]\n",
            "                 Class     Images  Instances      Box(P          R      mAP50  mAP50-95)     Mask(P          R      mAP50  mAP50-95): 100%|██████████| 1/1 [00:00<00:00,  1.77it/s]"
          ]
        },
        {
          "output_type": "stream",
          "name": "stdout",
          "text": [
            "                   all         15         30      0.967          1      0.994       0.69      0.967          1      0.994      0.524\n"
          ]
        },
        {
          "output_type": "stream",
          "name": "stderr",
          "text": [
            "\n"
          ]
        },
        {
          "output_type": "stream",
          "name": "stdout",
          "text": [
            "\n",
            "      Epoch    GPU_mem   box_loss   seg_loss   cls_loss   dfl_loss  Instances       Size\n"
          ]
        },
        {
          "output_type": "stream",
          "name": "stderr",
          "text": [
            "     47/200      13.2G      1.087      1.147      1.344     0.8523         16       1440: 100%|██████████| 4/4 [00:03<00:00,  1.31it/s]\n",
            "                 Class     Images  Instances      Box(P          R      mAP50  mAP50-95)     Mask(P          R      mAP50  mAP50-95): 100%|██████████| 1/1 [00:00<00:00,  1.60it/s]"
          ]
        },
        {
          "output_type": "stream",
          "name": "stdout",
          "text": [
            "                   all         15         30       0.99          1      0.995      0.708       0.99          1      0.995      0.548\n"
          ]
        },
        {
          "output_type": "stream",
          "name": "stderr",
          "text": [
            "\n"
          ]
        },
        {
          "output_type": "stream",
          "name": "stdout",
          "text": [
            "\n",
            "      Epoch    GPU_mem   box_loss   seg_loss   cls_loss   dfl_loss  Instances       Size\n"
          ]
        },
        {
          "output_type": "stream",
          "name": "stderr",
          "text": [
            "     48/200      13.3G     0.9289      1.165      1.297     0.8592         21       1440: 100%|██████████| 4/4 [00:03<00:00,  1.14it/s]\n",
            "                 Class     Images  Instances      Box(P          R      mAP50  mAP50-95)     Mask(P          R      mAP50  mAP50-95): 100%|██████████| 1/1 [00:00<00:00,  1.89it/s]"
          ]
        },
        {
          "output_type": "stream",
          "name": "stdout",
          "text": [
            "                   all         15         30      0.994          1      0.995      0.733      0.994          1      0.995      0.522\n"
          ]
        },
        {
          "output_type": "stream",
          "name": "stderr",
          "text": [
            "\n"
          ]
        },
        {
          "output_type": "stream",
          "name": "stdout",
          "text": [
            "\n",
            "      Epoch    GPU_mem   box_loss   seg_loss   cls_loss   dfl_loss  Instances       Size\n"
          ]
        },
        {
          "output_type": "stream",
          "name": "stderr",
          "text": [
            "     49/200      13.4G      1.152      1.201       1.55     0.8322         22       1440: 100%|██████████| 4/4 [00:03<00:00,  1.25it/s]\n",
            "                 Class     Images  Instances      Box(P          R      mAP50  mAP50-95)     Mask(P          R      mAP50  mAP50-95): 100%|██████████| 1/1 [00:00<00:00,  2.17it/s]"
          ]
        },
        {
          "output_type": "stream",
          "name": "stdout",
          "text": [
            "                   all         15         30          1      0.994      0.995      0.746          1      0.994      0.995      0.537\n"
          ]
        },
        {
          "output_type": "stream",
          "name": "stderr",
          "text": [
            "\n"
          ]
        },
        {
          "output_type": "stream",
          "name": "stdout",
          "text": [
            "\n",
            "      Epoch    GPU_mem   box_loss   seg_loss   cls_loss   dfl_loss  Instances       Size\n"
          ]
        },
        {
          "output_type": "stream",
          "name": "stderr",
          "text": [
            "     50/200      13.4G      1.019      1.161      1.378     0.8643         12       1440: 100%|██████████| 4/4 [00:03<00:00,  1.18it/s]\n",
            "                 Class     Images  Instances      Box(P          R      mAP50  mAP50-95)     Mask(P          R      mAP50  mAP50-95): 100%|██████████| 1/1 [00:00<00:00,  1.60it/s]"
          ]
        },
        {
          "output_type": "stream",
          "name": "stdout",
          "text": [
            "                   all         15         30          1      0.986      0.995       0.73          1      0.986      0.995      0.578\n"
          ]
        },
        {
          "output_type": "stream",
          "name": "stderr",
          "text": [
            "\n"
          ]
        },
        {
          "output_type": "stream",
          "name": "stdout",
          "text": [
            "\n",
            "      Epoch    GPU_mem   box_loss   seg_loss   cls_loss   dfl_loss  Instances       Size\n"
          ]
        },
        {
          "output_type": "stream",
          "name": "stderr",
          "text": [
            "     51/200      13.5G      1.023      1.111      1.347     0.8651         13       1440: 100%|██████████| 4/4 [00:03<00:00,  1.20it/s]\n",
            "                 Class     Images  Instances      Box(P          R      mAP50  mAP50-95)     Mask(P          R      mAP50  mAP50-95): 100%|██████████| 1/1 [00:00<00:00,  2.15it/s]"
          ]
        },
        {
          "output_type": "stream",
          "name": "stdout",
          "text": [
            "                   all         15         30          1      0.988      0.995      0.736          1      0.988      0.995      0.594\n"
          ]
        },
        {
          "output_type": "stream",
          "name": "stderr",
          "text": [
            "\n"
          ]
        },
        {
          "output_type": "stream",
          "name": "stdout",
          "text": [
            "\n",
            "      Epoch    GPU_mem   box_loss   seg_loss   cls_loss   dfl_loss  Instances       Size\n"
          ]
        },
        {
          "output_type": "stream",
          "name": "stderr",
          "text": [
            "     52/200      13.6G      1.089      1.285      1.343     0.8326         16       1440: 100%|██████████| 4/4 [00:03<00:00,  1.26it/s]\n",
            "                 Class     Images  Instances      Box(P          R      mAP50  mAP50-95)     Mask(P          R      mAP50  mAP50-95): 100%|██████████| 1/1 [00:00<00:00,  2.21it/s]"
          ]
        },
        {
          "output_type": "stream",
          "name": "stdout",
          "text": [
            "                   all         15         30          1      0.999      0.995      0.773          1      0.999      0.995      0.572\n"
          ]
        },
        {
          "output_type": "stream",
          "name": "stderr",
          "text": [
            "\n"
          ]
        },
        {
          "output_type": "stream",
          "name": "stdout",
          "text": [
            "\n",
            "      Epoch    GPU_mem   box_loss   seg_loss   cls_loss   dfl_loss  Instances       Size\n"
          ]
        },
        {
          "output_type": "stream",
          "name": "stderr",
          "text": [
            "     53/200      13.2G     0.9665      1.024      1.266     0.8192         15       1440: 100%|██████████| 4/4 [00:03<00:00,  1.16it/s]\n",
            "                 Class     Images  Instances      Box(P          R      mAP50  mAP50-95)     Mask(P          R      mAP50  mAP50-95): 100%|██████████| 1/1 [00:00<00:00,  2.51it/s]"
          ]
        },
        {
          "output_type": "stream",
          "name": "stdout",
          "text": [
            "                   all         15         30      0.992          1      0.995      0.761      0.992          1      0.995      0.566\n"
          ]
        },
        {
          "output_type": "stream",
          "name": "stderr",
          "text": [
            "\n"
          ]
        },
        {
          "output_type": "stream",
          "name": "stdout",
          "text": [
            "\n",
            "      Epoch    GPU_mem   box_loss   seg_loss   cls_loss   dfl_loss  Instances       Size\n"
          ]
        },
        {
          "output_type": "stream",
          "name": "stderr",
          "text": [
            "     54/200      13.4G     0.9765      1.079      1.179     0.8278         18       1440: 100%|██████████| 4/4 [00:03<00:00,  1.24it/s]\n",
            "                 Class     Images  Instances      Box(P          R      mAP50  mAP50-95)     Mask(P          R      mAP50  mAP50-95): 100%|██████████| 1/1 [00:00<00:00,  1.72it/s]"
          ]
        },
        {
          "output_type": "stream",
          "name": "stdout",
          "text": [
            "                   all         15         30      0.994          1      0.995      0.765      0.994          1      0.995      0.561\n"
          ]
        },
        {
          "output_type": "stream",
          "name": "stderr",
          "text": [
            "\n"
          ]
        },
        {
          "output_type": "stream",
          "name": "stdout",
          "text": [
            "\n",
            "      Epoch    GPU_mem   box_loss   seg_loss   cls_loss   dfl_loss  Instances       Size\n"
          ]
        },
        {
          "output_type": "stream",
          "name": "stderr",
          "text": [
            "     55/200      13.4G     0.9507     0.9909      1.126     0.8355         16       1440: 100%|██████████| 4/4 [00:03<00:00,  1.20it/s]\n",
            "                 Class     Images  Instances      Box(P          R      mAP50  mAP50-95)     Mask(P          R      mAP50  mAP50-95): 100%|██████████| 1/1 [00:00<00:00,  1.30it/s]"
          ]
        },
        {
          "output_type": "stream",
          "name": "stdout",
          "text": [
            "                   all         15         30      0.996          1      0.995      0.719      0.996          1      0.995      0.552\n"
          ]
        },
        {
          "output_type": "stream",
          "name": "stderr",
          "text": [
            "\n"
          ]
        },
        {
          "output_type": "stream",
          "name": "stdout",
          "text": [
            "\n",
            "      Epoch    GPU_mem   box_loss   seg_loss   cls_loss   dfl_loss  Instances       Size\n"
          ]
        },
        {
          "output_type": "stream",
          "name": "stderr",
          "text": [
            "     56/200      13.5G      1.079      1.099      1.239     0.8472         15       1440: 100%|██████████| 4/4 [00:03<00:00,  1.23it/s]\n",
            "                 Class     Images  Instances      Box(P          R      mAP50  mAP50-95)     Mask(P          R      mAP50  mAP50-95): 100%|██████████| 1/1 [00:00<00:00,  1.79it/s]"
          ]
        },
        {
          "output_type": "stream",
          "name": "stdout",
          "text": [
            "                   all         15         30      0.996          1      0.995      0.744      0.996          1      0.995      0.501\n"
          ]
        },
        {
          "output_type": "stream",
          "name": "stderr",
          "text": [
            "\n"
          ]
        },
        {
          "output_type": "stream",
          "name": "stdout",
          "text": [
            "\n",
            "      Epoch    GPU_mem   box_loss   seg_loss   cls_loss   dfl_loss  Instances       Size\n"
          ]
        },
        {
          "output_type": "stream",
          "name": "stderr",
          "text": [
            "     57/200      13.3G      1.026       1.09       1.17     0.8379         15       1440: 100%|██████████| 4/4 [00:03<00:00,  1.20it/s]\n",
            "                 Class     Images  Instances      Box(P          R      mAP50  mAP50-95)     Mask(P          R      mAP50  mAP50-95): 100%|██████████| 1/1 [00:00<00:00,  1.79it/s]"
          ]
        },
        {
          "output_type": "stream",
          "name": "stdout",
          "text": [
            "                   all         15         30      0.996          1      0.995      0.737      0.996          1      0.995      0.553\n"
          ]
        },
        {
          "output_type": "stream",
          "name": "stderr",
          "text": [
            "\n"
          ]
        },
        {
          "output_type": "stream",
          "name": "stdout",
          "text": [
            "\n",
            "      Epoch    GPU_mem   box_loss   seg_loss   cls_loss   dfl_loss  Instances       Size\n"
          ]
        },
        {
          "output_type": "stream",
          "name": "stderr",
          "text": [
            "     58/200      13.4G      1.074      1.133      1.304     0.8406         18       1440: 100%|██████████| 4/4 [00:03<00:00,  1.16it/s]\n",
            "                 Class     Images  Instances      Box(P          R      mAP50  mAP50-95)     Mask(P          R      mAP50  mAP50-95): 100%|██████████| 1/1 [00:00<00:00,  2.43it/s]"
          ]
        },
        {
          "output_type": "stream",
          "name": "stdout",
          "text": [
            "                   all         15         30      0.995          1      0.995      0.742      0.995          1      0.995      0.552\n"
          ]
        },
        {
          "output_type": "stream",
          "name": "stderr",
          "text": [
            "\n"
          ]
        },
        {
          "output_type": "stream",
          "name": "stdout",
          "text": [
            "\n",
            "      Epoch    GPU_mem   box_loss   seg_loss   cls_loss   dfl_loss  Instances       Size\n"
          ]
        },
        {
          "output_type": "stream",
          "name": "stderr",
          "text": [
            "     59/200      13.3G      1.069      1.175      1.207     0.8504         17       1440: 100%|██████████| 4/4 [00:03<00:00,  1.21it/s]\n",
            "                 Class     Images  Instances      Box(P          R      mAP50  mAP50-95)     Mask(P          R      mAP50  mAP50-95): 100%|██████████| 1/1 [00:00<00:00,  2.32it/s]"
          ]
        },
        {
          "output_type": "stream",
          "name": "stdout",
          "text": [
            "                   all         15         30      0.994          1      0.995      0.728      0.994          1      0.995      0.558\n"
          ]
        },
        {
          "output_type": "stream",
          "name": "stderr",
          "text": [
            "\n"
          ]
        },
        {
          "output_type": "stream",
          "name": "stdout",
          "text": [
            "\n",
            "      Epoch    GPU_mem   box_loss   seg_loss   cls_loss   dfl_loss  Instances       Size\n"
          ]
        },
        {
          "output_type": "stream",
          "name": "stderr",
          "text": [
            "     60/200      13.6G      0.965      1.065      1.152     0.8212         13       1440: 100%|██████████| 4/4 [00:03<00:00,  1.27it/s]\n",
            "                 Class     Images  Instances      Box(P          R      mAP50  mAP50-95)     Mask(P          R      mAP50  mAP50-95): 100%|██████████| 1/1 [00:00<00:00,  1.50it/s]"
          ]
        },
        {
          "output_type": "stream",
          "name": "stdout",
          "text": [
            "                   all         15         30      0.994          1      0.995      0.715      0.994          1      0.995      0.612\n"
          ]
        },
        {
          "output_type": "stream",
          "name": "stderr",
          "text": [
            "\n"
          ]
        },
        {
          "output_type": "stream",
          "name": "stdout",
          "text": [
            "\n",
            "      Epoch    GPU_mem   box_loss   seg_loss   cls_loss   dfl_loss  Instances       Size\n"
          ]
        },
        {
          "output_type": "stream",
          "name": "stderr",
          "text": [
            "     61/200      13.3G     0.9633     0.9599      1.209     0.8137         12       1440: 100%|██████████| 4/4 [00:03<00:00,  1.26it/s]\n",
            "                 Class     Images  Instances      Box(P          R      mAP50  mAP50-95)     Mask(P          R      mAP50  mAP50-95): 100%|██████████| 1/1 [00:00<00:00,  1.90it/s]"
          ]
        },
        {
          "output_type": "stream",
          "name": "stdout",
          "text": [
            "                   all         15         30      0.996          1      0.995      0.717      0.996          1      0.995      0.599\n"
          ]
        },
        {
          "output_type": "stream",
          "name": "stderr",
          "text": [
            "\n"
          ]
        },
        {
          "output_type": "stream",
          "name": "stdout",
          "text": [
            "\n",
            "      Epoch    GPU_mem   box_loss   seg_loss   cls_loss   dfl_loss  Instances       Size\n"
          ]
        },
        {
          "output_type": "stream",
          "name": "stderr",
          "text": [
            "     62/200      13.4G      1.038      1.199      1.142      0.836         15       1440: 100%|██████████| 4/4 [00:03<00:00,  1.25it/s]\n",
            "                 Class     Images  Instances      Box(P          R      mAP50  mAP50-95)     Mask(P          R      mAP50  mAP50-95): 100%|██████████| 1/1 [00:00<00:00,  1.73it/s]"
          ]
        },
        {
          "output_type": "stream",
          "name": "stdout",
          "text": [
            "                   all         15         30      0.997          1      0.995       0.72      0.997          1      0.995      0.556\n"
          ]
        },
        {
          "output_type": "stream",
          "name": "stderr",
          "text": [
            "\n"
          ]
        },
        {
          "output_type": "stream",
          "name": "stdout",
          "text": [
            "\n",
            "      Epoch    GPU_mem   box_loss   seg_loss   cls_loss   dfl_loss  Instances       Size\n"
          ]
        },
        {
          "output_type": "stream",
          "name": "stderr",
          "text": [
            "     63/200      13.4G     0.9744       1.07      1.196      0.818          8       1440: 100%|██████████| 4/4 [00:04<00:00,  1.03s/it]\n",
            "                 Class     Images  Instances      Box(P          R      mAP50  mAP50-95)     Mask(P          R      mAP50  mAP50-95): 100%|██████████| 1/1 [00:00<00:00,  2.24it/s]"
          ]
        },
        {
          "output_type": "stream",
          "name": "stdout",
          "text": [
            "                   all         15         30      0.995          1      0.995      0.736      0.995          1      0.995      0.587\n"
          ]
        },
        {
          "output_type": "stream",
          "name": "stderr",
          "text": [
            "\n"
          ]
        },
        {
          "output_type": "stream",
          "name": "stdout",
          "text": [
            "\n",
            "      Epoch    GPU_mem   box_loss   seg_loss   cls_loss   dfl_loss  Instances       Size\n"
          ]
        },
        {
          "output_type": "stream",
          "name": "stderr",
          "text": [
            "     64/200      13.4G     0.9977      1.047      1.064     0.8514         16       1440: 100%|██████████| 4/4 [00:03<00:00,  1.24it/s]\n",
            "                 Class     Images  Instances      Box(P          R      mAP50  mAP50-95)     Mask(P          R      mAP50  mAP50-95): 100%|██████████| 1/1 [00:00<00:00,  2.84it/s]"
          ]
        },
        {
          "output_type": "stream",
          "name": "stdout",
          "text": [
            "                   all         15         30      0.992          1      0.995      0.707      0.992          1      0.995      0.638\n"
          ]
        },
        {
          "output_type": "stream",
          "name": "stderr",
          "text": [
            "\n"
          ]
        },
        {
          "output_type": "stream",
          "name": "stdout",
          "text": [
            "\n",
            "      Epoch    GPU_mem   box_loss   seg_loss   cls_loss   dfl_loss  Instances       Size\n"
          ]
        },
        {
          "output_type": "stream",
          "name": "stderr",
          "text": [
            "     65/200      13.6G      1.009       1.13      1.042     0.8137         18       1440: 100%|██████████| 4/4 [00:03<00:00,  1.19it/s]\n",
            "                 Class     Images  Instances      Box(P          R      mAP50  mAP50-95)     Mask(P          R      mAP50  mAP50-95): 100%|██████████| 1/1 [00:00<00:00,  1.89it/s]"
          ]
        },
        {
          "output_type": "stream",
          "name": "stdout",
          "text": [
            "                   all         15         30      0.995          1      0.995      0.656      0.995          1      0.995      0.672\n"
          ]
        },
        {
          "output_type": "stream",
          "name": "stderr",
          "text": [
            "\n"
          ]
        },
        {
          "output_type": "stream",
          "name": "stdout",
          "text": [
            "\n",
            "      Epoch    GPU_mem   box_loss   seg_loss   cls_loss   dfl_loss  Instances       Size\n"
          ]
        },
        {
          "output_type": "stream",
          "name": "stderr",
          "text": [
            "     66/200      13.2G     0.9762      1.172     0.9997      0.856         15       1440: 100%|██████████| 4/4 [00:03<00:00,  1.20it/s]\n",
            "                 Class     Images  Instances      Box(P          R      mAP50  mAP50-95)     Mask(P          R      mAP50  mAP50-95): 100%|██████████| 1/1 [00:00<00:00,  2.14it/s]"
          ]
        },
        {
          "output_type": "stream",
          "name": "stdout",
          "text": [
            "                   all         15         30      0.994          1      0.995      0.691      0.994          1      0.995      0.634\n"
          ]
        },
        {
          "output_type": "stream",
          "name": "stderr",
          "text": [
            "\n"
          ]
        },
        {
          "output_type": "stream",
          "name": "stdout",
          "text": [
            "\n",
            "      Epoch    GPU_mem   box_loss   seg_loss   cls_loss   dfl_loss  Instances       Size\n"
          ]
        },
        {
          "output_type": "stream",
          "name": "stderr",
          "text": [
            "     67/200      13.6G      1.072      1.189      1.149     0.8277         16       1440: 100%|██████████| 4/4 [00:03<00:00,  1.28it/s]\n",
            "                 Class     Images  Instances      Box(P          R      mAP50  mAP50-95)     Mask(P          R      mAP50  mAP50-95): 100%|██████████| 1/1 [00:00<00:00,  2.30it/s]"
          ]
        },
        {
          "output_type": "stream",
          "name": "stdout",
          "text": [
            "                   all         15         30      0.992          1      0.995      0.716      0.992          1      0.995      0.588\n"
          ]
        },
        {
          "output_type": "stream",
          "name": "stderr",
          "text": [
            "\n"
          ]
        },
        {
          "output_type": "stream",
          "name": "stdout",
          "text": [
            "\n",
            "      Epoch    GPU_mem   box_loss   seg_loss   cls_loss   dfl_loss  Instances       Size\n"
          ]
        },
        {
          "output_type": "stream",
          "name": "stderr",
          "text": [
            "     68/200      13.3G     0.9771      1.271      1.056     0.8309          6       1440: 100%|██████████| 4/4 [00:03<00:00,  1.12it/s]\n",
            "                 Class     Images  Instances      Box(P          R      mAP50  mAP50-95)     Mask(P          R      mAP50  mAP50-95): 100%|██████████| 1/1 [00:00<00:00,  2.48it/s]"
          ]
        },
        {
          "output_type": "stream",
          "name": "stdout",
          "text": [
            "                   all         15         30      0.995          1      0.995      0.728      0.995          1      0.995      0.615\n"
          ]
        },
        {
          "output_type": "stream",
          "name": "stderr",
          "text": [
            "\n"
          ]
        },
        {
          "output_type": "stream",
          "name": "stdout",
          "text": [
            "\n",
            "      Epoch    GPU_mem   box_loss   seg_loss   cls_loss   dfl_loss  Instances       Size\n"
          ]
        },
        {
          "output_type": "stream",
          "name": "stderr",
          "text": [
            "     69/200      13.3G     0.9194      1.063     0.9571     0.8414         14       1440: 100%|██████████| 4/4 [00:03<00:00,  1.25it/s]\n",
            "                 Class     Images  Instances      Box(P          R      mAP50  mAP50-95)     Mask(P          R      mAP50  mAP50-95): 100%|██████████| 1/1 [00:00<00:00,  2.00it/s]"
          ]
        },
        {
          "output_type": "stream",
          "name": "stdout",
          "text": [
            "                   all         15         30      0.995          1      0.995      0.734      0.995          1      0.995      0.575\n"
          ]
        },
        {
          "output_type": "stream",
          "name": "stderr",
          "text": [
            "\n"
          ]
        },
        {
          "output_type": "stream",
          "name": "stdout",
          "text": [
            "\n",
            "      Epoch    GPU_mem   box_loss   seg_loss   cls_loss   dfl_loss  Instances       Size\n"
          ]
        },
        {
          "output_type": "stream",
          "name": "stderr",
          "text": [
            "     70/200      13.2G     0.9888      1.016      1.026      0.845         14       1440: 100%|██████████| 4/4 [00:03<00:00,  1.23it/s]\n",
            "                 Class     Images  Instances      Box(P          R      mAP50  mAP50-95)     Mask(P          R      mAP50  mAP50-95): 100%|██████████| 1/1 [00:00<00:00,  1.17it/s]"
          ]
        },
        {
          "output_type": "stream",
          "name": "stdout",
          "text": [
            "                   all         15         30      0.996          1      0.995      0.739      0.996          1      0.995      0.539\n"
          ]
        },
        {
          "output_type": "stream",
          "name": "stderr",
          "text": [
            "\n"
          ]
        },
        {
          "output_type": "stream",
          "name": "stdout",
          "text": [
            "\n",
            "      Epoch    GPU_mem   box_loss   seg_loss   cls_loss   dfl_loss  Instances       Size\n"
          ]
        },
        {
          "output_type": "stream",
          "name": "stderr",
          "text": [
            "     71/200      13.4G     0.9918      1.089      0.995     0.8388         20       1440: 100%|██████████| 4/4 [00:03<00:00,  1.22it/s]\n",
            "                 Class     Images  Instances      Box(P          R      mAP50  mAP50-95)     Mask(P          R      mAP50  mAP50-95): 100%|██████████| 1/1 [00:00<00:00,  1.85it/s]"
          ]
        },
        {
          "output_type": "stream",
          "name": "stdout",
          "text": [
            "                   all         15         30      0.995          1      0.995      0.767      0.995          1      0.995       0.61\n"
          ]
        },
        {
          "output_type": "stream",
          "name": "stderr",
          "text": [
            "\n"
          ]
        },
        {
          "output_type": "stream",
          "name": "stdout",
          "text": [
            "\n",
            "      Epoch    GPU_mem   box_loss   seg_loss   cls_loss   dfl_loss  Instances       Size\n"
          ]
        },
        {
          "output_type": "stream",
          "name": "stderr",
          "text": [
            "     72/200      13.4G     0.9622     0.9689      0.958     0.8365         21       1440: 100%|██████████| 4/4 [00:03<00:00,  1.21it/s]\n",
            "                 Class     Images  Instances      Box(P          R      mAP50  mAP50-95)     Mask(P          R      mAP50  mAP50-95): 100%|██████████| 1/1 [00:00<00:00,  2.05it/s]"
          ]
        },
        {
          "output_type": "stream",
          "name": "stdout",
          "text": [
            "                   all         15         30      0.992          1      0.995      0.722      0.992          1      0.995      0.624\n"
          ]
        },
        {
          "output_type": "stream",
          "name": "stderr",
          "text": [
            "\n"
          ]
        },
        {
          "output_type": "stream",
          "name": "stdout",
          "text": [
            "\n",
            "      Epoch    GPU_mem   box_loss   seg_loss   cls_loss   dfl_loss  Instances       Size\n"
          ]
        },
        {
          "output_type": "stream",
          "name": "stderr",
          "text": [
            "     73/200      13.4G     0.9271      1.074     0.8932     0.8493         11       1440: 100%|██████████| 4/4 [00:03<00:00,  1.15it/s]\n",
            "                 Class     Images  Instances      Box(P          R      mAP50  mAP50-95)     Mask(P          R      mAP50  mAP50-95): 100%|██████████| 1/1 [00:00<00:00,  2.21it/s]"
          ]
        },
        {
          "output_type": "stream",
          "name": "stdout",
          "text": [
            "                   all         15         30      0.992          1      0.995      0.703      0.992          1      0.995      0.641\n"
          ]
        },
        {
          "output_type": "stream",
          "name": "stderr",
          "text": [
            "\n"
          ]
        },
        {
          "output_type": "stream",
          "name": "stdout",
          "text": [
            "\n",
            "      Epoch    GPU_mem   box_loss   seg_loss   cls_loss   dfl_loss  Instances       Size\n"
          ]
        },
        {
          "output_type": "stream",
          "name": "stderr",
          "text": [
            "     74/200      13.2G       1.02      0.998      0.976     0.8163         21       1440: 100%|██████████| 4/4 [00:03<00:00,  1.18it/s]\n",
            "                 Class     Images  Instances      Box(P          R      mAP50  mAP50-95)     Mask(P          R      mAP50  mAP50-95): 100%|██████████| 1/1 [00:00<00:00,  2.31it/s]"
          ]
        },
        {
          "output_type": "stream",
          "name": "stdout",
          "text": [
            "                   all         15         30      0.995          1      0.995      0.752      0.995          1      0.995      0.616\n"
          ]
        },
        {
          "output_type": "stream",
          "name": "stderr",
          "text": [
            "\n"
          ]
        },
        {
          "output_type": "stream",
          "name": "stdout",
          "text": [
            "\n",
            "      Epoch    GPU_mem   box_loss   seg_loss   cls_loss   dfl_loss  Instances       Size\n"
          ]
        },
        {
          "output_type": "stream",
          "name": "stderr",
          "text": [
            "     75/200      13.4G     0.9371      1.014      0.923     0.8328         15       1440: 100%|██████████| 4/4 [00:03<00:00,  1.19it/s]\n",
            "                 Class     Images  Instances      Box(P          R      mAP50  mAP50-95)     Mask(P          R      mAP50  mAP50-95): 100%|██████████| 1/1 [00:00<00:00,  1.38it/s]"
          ]
        },
        {
          "output_type": "stream",
          "name": "stdout",
          "text": [
            "                   all         15         30      0.994          1      0.995      0.743      0.994          1      0.995      0.577\n"
          ]
        },
        {
          "output_type": "stream",
          "name": "stderr",
          "text": [
            "\n"
          ]
        },
        {
          "output_type": "stream",
          "name": "stdout",
          "text": [
            "\n",
            "      Epoch    GPU_mem   box_loss   seg_loss   cls_loss   dfl_loss  Instances       Size\n"
          ]
        },
        {
          "output_type": "stream",
          "name": "stderr",
          "text": [
            "     76/200      13.2G     0.9302      1.048     0.8451     0.8222         20       1440: 100%|██████████| 4/4 [00:03<00:00,  1.30it/s]\n",
            "                 Class     Images  Instances      Box(P          R      mAP50  mAP50-95)     Mask(P          R      mAP50  mAP50-95): 100%|██████████| 1/1 [00:00<00:00,  3.30it/s]"
          ]
        },
        {
          "output_type": "stream",
          "name": "stdout",
          "text": [
            "                   all         15         30      0.993          1      0.995       0.74      0.993          1      0.995      0.595\n"
          ]
        },
        {
          "output_type": "stream",
          "name": "stderr",
          "text": [
            "\n"
          ]
        },
        {
          "output_type": "stream",
          "name": "stdout",
          "text": [
            "\n",
            "      Epoch    GPU_mem   box_loss   seg_loss   cls_loss   dfl_loss  Instances       Size\n"
          ]
        },
        {
          "output_type": "stream",
          "name": "stderr",
          "text": [
            "     77/200      13.3G     0.9349      1.034     0.8916     0.8213         18       1440: 100%|██████████| 4/4 [00:03<00:00,  1.31it/s]\n",
            "                 Class     Images  Instances      Box(P          R      mAP50  mAP50-95)     Mask(P          R      mAP50  mAP50-95): 100%|██████████| 1/1 [00:00<00:00,  3.45it/s]"
          ]
        },
        {
          "output_type": "stream",
          "name": "stdout",
          "text": [
            "                   all         15         30      0.994          1      0.995      0.752      0.994          1      0.995      0.578\n"
          ]
        },
        {
          "output_type": "stream",
          "name": "stderr",
          "text": [
            "\n"
          ]
        },
        {
          "output_type": "stream",
          "name": "stdout",
          "text": [
            "\n",
            "      Epoch    GPU_mem   box_loss   seg_loss   cls_loss   dfl_loss  Instances       Size\n"
          ]
        },
        {
          "output_type": "stream",
          "name": "stderr",
          "text": [
            "     78/200      13.6G     0.9908      1.088     0.8819     0.8593         13       1440: 100%|██████████| 4/4 [00:03<00:00,  1.16it/s]\n",
            "                 Class     Images  Instances      Box(P          R      mAP50  mAP50-95)     Mask(P          R      mAP50  mAP50-95): 100%|██████████| 1/1 [00:00<00:00,  2.56it/s]"
          ]
        },
        {
          "output_type": "stream",
          "name": "stdout",
          "text": [
            "                   all         15         30      0.995          1      0.995      0.747      0.995          1      0.995       0.58\n"
          ]
        },
        {
          "output_type": "stream",
          "name": "stderr",
          "text": [
            "\n"
          ]
        },
        {
          "output_type": "stream",
          "name": "stdout",
          "text": [
            "\n",
            "      Epoch    GPU_mem   box_loss   seg_loss   cls_loss   dfl_loss  Instances       Size\n"
          ]
        },
        {
          "output_type": "stream",
          "name": "stderr",
          "text": [
            "     79/200      13.1G     0.9823      1.024     0.9484     0.8386         16       1440: 100%|██████████| 4/4 [00:03<00:00,  1.23it/s]\n",
            "                 Class     Images  Instances      Box(P          R      mAP50  mAP50-95)     Mask(P          R      mAP50  mAP50-95): 100%|██████████| 1/1 [00:00<00:00,  1.87it/s]"
          ]
        },
        {
          "output_type": "stream",
          "name": "stdout",
          "text": [
            "                   all         15         30      0.996          1      0.995      0.774      0.996          1      0.995      0.597\n"
          ]
        },
        {
          "output_type": "stream",
          "name": "stderr",
          "text": [
            "\n"
          ]
        },
        {
          "output_type": "stream",
          "name": "stdout",
          "text": [
            "\n",
            "      Epoch    GPU_mem   box_loss   seg_loss   cls_loss   dfl_loss  Instances       Size\n"
          ]
        },
        {
          "output_type": "stream",
          "name": "stderr",
          "text": [
            "     80/200      13.3G     0.8448     0.9359     0.7888     0.8294         13       1440: 100%|██████████| 4/4 [00:03<00:00,  1.18it/s]\n",
            "                 Class     Images  Instances      Box(P          R      mAP50  mAP50-95)     Mask(P          R      mAP50  mAP50-95): 100%|██████████| 1/1 [00:00<00:00,  1.26it/s]"
          ]
        },
        {
          "output_type": "stream",
          "name": "stdout",
          "text": [
            "                   all         15         30      0.996          1      0.995      0.779      0.996          1      0.995      0.606\n"
          ]
        },
        {
          "output_type": "stream",
          "name": "stderr",
          "text": [
            "\n"
          ]
        },
        {
          "output_type": "stream",
          "name": "stdout",
          "text": [
            "\n",
            "      Epoch    GPU_mem   box_loss   seg_loss   cls_loss   dfl_loss  Instances       Size\n"
          ]
        },
        {
          "output_type": "stream",
          "name": "stderr",
          "text": [
            "     81/200      13.5G     0.9728      1.042     0.8665     0.8476         14       1440: 100%|██████████| 4/4 [00:03<00:00,  1.23it/s]\n",
            "                 Class     Images  Instances      Box(P          R      mAP50  mAP50-95)     Mask(P          R      mAP50  mAP50-95): 100%|██████████| 1/1 [00:00<00:00,  2.62it/s]"
          ]
        },
        {
          "output_type": "stream",
          "name": "stdout",
          "text": [
            "                   all         15         30      0.999          1      0.995      0.759      0.999          1      0.995      0.567\n"
          ]
        },
        {
          "output_type": "stream",
          "name": "stderr",
          "text": [
            "\n"
          ]
        },
        {
          "output_type": "stream",
          "name": "stdout",
          "text": [
            "\n",
            "      Epoch    GPU_mem   box_loss   seg_loss   cls_loss   dfl_loss  Instances       Size\n"
          ]
        },
        {
          "output_type": "stream",
          "name": "stderr",
          "text": [
            "     82/200      13.5G     0.8368     0.8845     0.8298     0.8575         13       1440: 100%|██████████| 4/4 [00:03<00:00,  1.20it/s]\n",
            "                 Class     Images  Instances      Box(P          R      mAP50  mAP50-95)     Mask(P          R      mAP50  mAP50-95): 100%|██████████| 1/1 [00:00<00:00,  2.40it/s]"
          ]
        },
        {
          "output_type": "stream",
          "name": "stdout",
          "text": [
            "                   all         15         30      0.998          1      0.995      0.744      0.998          1      0.995       0.58\n"
          ]
        },
        {
          "output_type": "stream",
          "name": "stderr",
          "text": [
            "\n"
          ]
        },
        {
          "output_type": "stream",
          "name": "stdout",
          "text": [
            "\n",
            "      Epoch    GPU_mem   box_loss   seg_loss   cls_loss   dfl_loss  Instances       Size\n"
          ]
        },
        {
          "output_type": "stream",
          "name": "stderr",
          "text": [
            "     83/200      13.4G     0.9034     0.8761     0.8054     0.8461         18       1440: 100%|██████████| 4/4 [00:03<00:00,  1.14it/s]\n",
            "                 Class     Images  Instances      Box(P          R      mAP50  mAP50-95)     Mask(P          R      mAP50  mAP50-95): 100%|██████████| 1/1 [00:00<00:00,  2.39it/s]"
          ]
        },
        {
          "output_type": "stream",
          "name": "stdout",
          "text": [
            "                   all         15         30      0.978          1      0.995      0.761      0.978          1      0.995      0.633\n"
          ]
        },
        {
          "output_type": "stream",
          "name": "stderr",
          "text": [
            "\n"
          ]
        },
        {
          "output_type": "stream",
          "name": "stdout",
          "text": [
            "\n",
            "      Epoch    GPU_mem   box_loss   seg_loss   cls_loss   dfl_loss  Instances       Size\n"
          ]
        },
        {
          "output_type": "stream",
          "name": "stderr",
          "text": [
            "     84/200      13.4G     0.9376      1.128     0.8518     0.8139         18       1440: 100%|██████████| 4/4 [00:03<00:00,  1.13it/s]\n",
            "                 Class     Images  Instances      Box(P          R      mAP50  mAP50-95)     Mask(P          R      mAP50  mAP50-95): 100%|██████████| 1/1 [00:00<00:00,  2.17it/s]"
          ]
        },
        {
          "output_type": "stream",
          "name": "stdout",
          "text": [
            "                   all         15         30      0.961          1      0.993      0.761      0.961          1      0.993       0.56\n"
          ]
        },
        {
          "output_type": "stream",
          "name": "stderr",
          "text": [
            "\n"
          ]
        },
        {
          "output_type": "stream",
          "name": "stdout",
          "text": [
            "\n",
            "      Epoch    GPU_mem   box_loss   seg_loss   cls_loss   dfl_loss  Instances       Size\n"
          ]
        },
        {
          "output_type": "stream",
          "name": "stderr",
          "text": [
            "     85/200      13.3G      0.898     0.9647     0.7915     0.7998         11       1440: 100%|██████████| 4/4 [00:03<00:00,  1.19it/s]\n",
            "                 Class     Images  Instances      Box(P          R      mAP50  mAP50-95)     Mask(P          R      mAP50  mAP50-95): 100%|██████████| 1/1 [00:00<00:00,  2.07it/s]"
          ]
        },
        {
          "output_type": "stream",
          "name": "stdout",
          "text": [
            "                   all         15         30      0.995          1      0.995      0.764      0.995          1      0.995      0.569\n"
          ]
        },
        {
          "output_type": "stream",
          "name": "stderr",
          "text": [
            "\n"
          ]
        },
        {
          "output_type": "stream",
          "name": "stdout",
          "text": [
            "\n",
            "      Epoch    GPU_mem   box_loss   seg_loss   cls_loss   dfl_loss  Instances       Size\n"
          ]
        },
        {
          "output_type": "stream",
          "name": "stderr",
          "text": [
            "     86/200      13.5G     0.9805     0.9733     0.8928     0.8521         12       1440: 100%|██████████| 4/4 [00:03<00:00,  1.20it/s]\n",
            "                 Class     Images  Instances      Box(P          R      mAP50  mAP50-95)     Mask(P          R      mAP50  mAP50-95): 100%|██████████| 1/1 [00:00<00:00,  2.03it/s]"
          ]
        },
        {
          "output_type": "stream",
          "name": "stdout",
          "text": [
            "                   all         15         30      0.997          1      0.995      0.756      0.997          1      0.995      0.631\n"
          ]
        },
        {
          "output_type": "stream",
          "name": "stderr",
          "text": [
            "\n"
          ]
        },
        {
          "output_type": "stream",
          "name": "stdout",
          "text": [
            "\n",
            "      Epoch    GPU_mem   box_loss   seg_loss   cls_loss   dfl_loss  Instances       Size\n"
          ]
        },
        {
          "output_type": "stream",
          "name": "stderr",
          "text": [
            "     87/200      13.3G     0.8988     0.9061     0.8503     0.8019          9       1440: 100%|██████████| 4/4 [00:03<00:00,  1.27it/s]\n",
            "                 Class     Images  Instances      Box(P          R      mAP50  mAP50-95)     Mask(P          R      mAP50  mAP50-95): 100%|██████████| 1/1 [00:00<00:00,  2.41it/s]"
          ]
        },
        {
          "output_type": "stream",
          "name": "stdout",
          "text": [
            "                   all         15         30      0.995          1      0.995      0.746      0.995          1      0.995      0.645\n"
          ]
        },
        {
          "output_type": "stream",
          "name": "stderr",
          "text": [
            "\n"
          ]
        },
        {
          "output_type": "stream",
          "name": "stdout",
          "text": [
            "\n",
            "      Epoch    GPU_mem   box_loss   seg_loss   cls_loss   dfl_loss  Instances       Size\n"
          ]
        },
        {
          "output_type": "stream",
          "name": "stderr",
          "text": [
            "     88/200      13.2G     0.9219     0.9211     0.8609     0.8254          8       1440: 100%|██████████| 4/4 [00:03<00:00,  1.20it/s]\n",
            "                 Class     Images  Instances      Box(P          R      mAP50  mAP50-95)     Mask(P          R      mAP50  mAP50-95): 100%|██████████| 1/1 [00:00<00:00,  1.88it/s]"
          ]
        },
        {
          "output_type": "stream",
          "name": "stdout",
          "text": [
            "                   all         15         30      0.994          1      0.995      0.765      0.994          1      0.995      0.601\n"
          ]
        },
        {
          "output_type": "stream",
          "name": "stderr",
          "text": [
            "\n"
          ]
        },
        {
          "output_type": "stream",
          "name": "stdout",
          "text": [
            "\n",
            "      Epoch    GPU_mem   box_loss   seg_loss   cls_loss   dfl_loss  Instances       Size\n"
          ]
        },
        {
          "output_type": "stream",
          "name": "stderr",
          "text": [
            "     89/200      13.3G     0.9378      1.073      0.863     0.8381         15       1440: 100%|██████████| 4/4 [00:03<00:00,  1.19it/s]\n",
            "                 Class     Images  Instances      Box(P          R      mAP50  mAP50-95)     Mask(P          R      mAP50  mAP50-95): 100%|██████████| 1/1 [00:00<00:00,  2.40it/s]"
          ]
        },
        {
          "output_type": "stream",
          "name": "stdout",
          "text": [
            "                   all         15         30      0.996          1      0.995      0.745      0.996          1      0.995      0.564\n"
          ]
        },
        {
          "output_type": "stream",
          "name": "stderr",
          "text": [
            "\n"
          ]
        },
        {
          "output_type": "stream",
          "name": "stdout",
          "text": [
            "\n",
            "      Epoch    GPU_mem   box_loss   seg_loss   cls_loss   dfl_loss  Instances       Size\n"
          ]
        },
        {
          "output_type": "stream",
          "name": "stderr",
          "text": [
            "     90/200      13.4G     0.8607     0.9714     0.7169     0.8309         22       1440: 100%|██████████| 4/4 [00:03<00:00,  1.18it/s]\n",
            "                 Class     Images  Instances      Box(P          R      mAP50  mAP50-95)     Mask(P          R      mAP50  mAP50-95): 100%|██████████| 1/1 [00:00<00:00,  1.53it/s]"
          ]
        },
        {
          "output_type": "stream",
          "name": "stdout",
          "text": [
            "                   all         15         30      0.996          1      0.995      0.754      0.996          1      0.995      0.576\n"
          ]
        },
        {
          "output_type": "stream",
          "name": "stderr",
          "text": [
            "\n"
          ]
        },
        {
          "output_type": "stream",
          "name": "stdout",
          "text": [
            "\n",
            "      Epoch    GPU_mem   box_loss   seg_loss   cls_loss   dfl_loss  Instances       Size\n"
          ]
        },
        {
          "output_type": "stream",
          "name": "stderr",
          "text": [
            "     91/200      13.2G     0.9534      1.058     0.8395     0.8242          9       1440: 100%|██████████| 4/4 [00:03<00:00,  1.01it/s]\n",
            "                 Class     Images  Instances      Box(P          R      mAP50  mAP50-95)     Mask(P          R      mAP50  mAP50-95): 100%|██████████| 1/1 [00:00<00:00,  2.72it/s]"
          ]
        },
        {
          "output_type": "stream",
          "name": "stdout",
          "text": [
            "                   all         15         30      0.997          1      0.995      0.763      0.997          1      0.995      0.601\n"
          ]
        },
        {
          "output_type": "stream",
          "name": "stderr",
          "text": [
            "\n"
          ]
        },
        {
          "output_type": "stream",
          "name": "stdout",
          "text": [
            "\n",
            "      Epoch    GPU_mem   box_loss   seg_loss   cls_loss   dfl_loss  Instances       Size\n"
          ]
        },
        {
          "output_type": "stream",
          "name": "stderr",
          "text": [
            "     92/200      13.3G     0.9293     0.9745     0.8133     0.8128         13       1440: 100%|██████████| 4/4 [00:03<00:00,  1.25it/s]\n",
            "                 Class     Images  Instances      Box(P          R      mAP50  mAP50-95)     Mask(P          R      mAP50  mAP50-95): 100%|██████████| 1/1 [00:00<00:00,  2.51it/s]"
          ]
        },
        {
          "output_type": "stream",
          "name": "stdout",
          "text": [
            "                   all         15         30      0.997          1      0.995       0.74      0.997          1      0.995      0.615\n"
          ]
        },
        {
          "output_type": "stream",
          "name": "stderr",
          "text": [
            "\n"
          ]
        },
        {
          "output_type": "stream",
          "name": "stdout",
          "text": [
            "\n",
            "      Epoch    GPU_mem   box_loss   seg_loss   cls_loss   dfl_loss  Instances       Size\n"
          ]
        },
        {
          "output_type": "stream",
          "name": "stderr",
          "text": [
            "     93/200      13.2G     0.9613     0.9937     0.8667     0.8101         16       1440: 100%|██████████| 4/4 [00:03<00:00,  1.24it/s]\n",
            "                 Class     Images  Instances      Box(P          R      mAP50  mAP50-95)     Mask(P          R      mAP50  mAP50-95): 100%|██████████| 1/1 [00:00<00:00,  2.27it/s]"
          ]
        },
        {
          "output_type": "stream",
          "name": "stdout",
          "text": [
            "                   all         15         30      0.997          1      0.995      0.734      0.997          1      0.995      0.632\n"
          ]
        },
        {
          "output_type": "stream",
          "name": "stderr",
          "text": [
            "\n"
          ]
        },
        {
          "output_type": "stream",
          "name": "stdout",
          "text": [
            "\n",
            "      Epoch    GPU_mem   box_loss   seg_loss   cls_loss   dfl_loss  Instances       Size\n"
          ]
        },
        {
          "output_type": "stream",
          "name": "stderr",
          "text": [
            "     94/200      13.3G     0.9063     0.8904     0.8181     0.8144         18       1440: 100%|██████████| 4/4 [00:03<00:00,  1.21it/s]\n",
            "                 Class     Images  Instances      Box(P          R      mAP50  mAP50-95)     Mask(P          R      mAP50  mAP50-95): 100%|██████████| 1/1 [00:00<00:00,  2.33it/s]"
          ]
        },
        {
          "output_type": "stream",
          "name": "stdout",
          "text": [
            "                   all         15         30      0.997          1      0.995      0.746      0.997          1      0.995      0.623\n"
          ]
        },
        {
          "output_type": "stream",
          "name": "stderr",
          "text": [
            "\n"
          ]
        },
        {
          "output_type": "stream",
          "name": "stdout",
          "text": [
            "\n",
            "      Epoch    GPU_mem   box_loss   seg_loss   cls_loss   dfl_loss  Instances       Size\n"
          ]
        },
        {
          "output_type": "stream",
          "name": "stderr",
          "text": [
            "     95/200      13.4G      1.043       1.11     0.8044     0.8329         16       1440: 100%|██████████| 4/4 [00:03<00:00,  1.14it/s]\n",
            "                 Class     Images  Instances      Box(P          R      mAP50  mAP50-95)     Mask(P          R      mAP50  mAP50-95): 100%|██████████| 1/1 [00:00<00:00,  1.86it/s]"
          ]
        },
        {
          "output_type": "stream",
          "name": "stdout",
          "text": [
            "                   all         15         30      0.997          1      0.995      0.723      0.997          1      0.995      0.575\n"
          ]
        },
        {
          "output_type": "stream",
          "name": "stderr",
          "text": [
            "\n"
          ]
        },
        {
          "output_type": "stream",
          "name": "stdout",
          "text": [
            "\n",
            "      Epoch    GPU_mem   box_loss   seg_loss   cls_loss   dfl_loss  Instances       Size\n"
          ]
        },
        {
          "output_type": "stream",
          "name": "stderr",
          "text": [
            "     96/200      13.3G     0.8404     0.9514     0.7273     0.7958         20       1440: 100%|██████████| 4/4 [00:03<00:00,  1.21it/s]\n",
            "                 Class     Images  Instances      Box(P          R      mAP50  mAP50-95)     Mask(P          R      mAP50  mAP50-95): 100%|██████████| 1/1 [00:00<00:00,  1.96it/s]"
          ]
        },
        {
          "output_type": "stream",
          "name": "stdout",
          "text": [
            "                   all         15         30      0.997          1      0.995      0.726      0.997          1      0.995      0.548\n"
          ]
        },
        {
          "output_type": "stream",
          "name": "stderr",
          "text": [
            "\n"
          ]
        },
        {
          "output_type": "stream",
          "name": "stdout",
          "text": [
            "\n",
            "      Epoch    GPU_mem   box_loss   seg_loss   cls_loss   dfl_loss  Instances       Size\n"
          ]
        },
        {
          "output_type": "stream",
          "name": "stderr",
          "text": [
            "     97/200      13.3G      0.903      1.093     0.7421     0.8199         18       1440: 100%|██████████| 4/4 [00:03<00:00,  1.27it/s]\n",
            "                 Class     Images  Instances      Box(P          R      mAP50  mAP50-95)     Mask(P          R      mAP50  mAP50-95): 100%|██████████| 1/1 [00:00<00:00,  2.07it/s]"
          ]
        },
        {
          "output_type": "stream",
          "name": "stdout",
          "text": [
            "                   all         15         30      0.997          1      0.995       0.73      0.997          1      0.995      0.532\n"
          ]
        },
        {
          "output_type": "stream",
          "name": "stderr",
          "text": [
            "\n"
          ]
        },
        {
          "output_type": "stream",
          "name": "stdout",
          "text": [
            "\n",
            "      Epoch    GPU_mem   box_loss   seg_loss   cls_loss   dfl_loss  Instances       Size\n"
          ]
        },
        {
          "output_type": "stream",
          "name": "stderr",
          "text": [
            "     98/200        13G     0.9287     0.8944     0.8471     0.8393         10       1440: 100%|██████████| 4/4 [00:03<00:00,  1.20it/s]\n",
            "                 Class     Images  Instances      Box(P          R      mAP50  mAP50-95)     Mask(P          R      mAP50  mAP50-95): 100%|██████████| 1/1 [00:00<00:00,  2.46it/s]"
          ]
        },
        {
          "output_type": "stream",
          "name": "stdout",
          "text": [
            "                   all         15         30      0.996          1      0.995      0.743      0.996          1      0.995      0.591\n"
          ]
        },
        {
          "output_type": "stream",
          "name": "stderr",
          "text": [
            "\n"
          ]
        },
        {
          "output_type": "stream",
          "name": "stdout",
          "text": [
            "\n",
            "      Epoch    GPU_mem   box_loss   seg_loss   cls_loss   dfl_loss  Instances       Size\n"
          ]
        },
        {
          "output_type": "stream",
          "name": "stderr",
          "text": [
            "     99/200      13.3G     0.9016     0.8567     0.7731     0.8016         16       1440: 100%|██████████| 4/4 [00:03<00:00,  1.22it/s]\n",
            "                 Class     Images  Instances      Box(P          R      mAP50  mAP50-95)     Mask(P          R      mAP50  mAP50-95): 100%|██████████| 1/1 [00:00<00:00,  2.13it/s]"
          ]
        },
        {
          "output_type": "stream",
          "name": "stdout",
          "text": [
            "                   all         15         30      0.997          1      0.995      0.758      0.997          1      0.995      0.556\n"
          ]
        },
        {
          "output_type": "stream",
          "name": "stderr",
          "text": [
            "\n"
          ]
        },
        {
          "output_type": "stream",
          "name": "stdout",
          "text": [
            "\n",
            "      Epoch    GPU_mem   box_loss   seg_loss   cls_loss   dfl_loss  Instances       Size\n"
          ]
        },
        {
          "output_type": "stream",
          "name": "stderr",
          "text": [
            "    100/200      13.2G     0.9072      1.028     0.7246      0.826         12       1440: 100%|██████████| 4/4 [00:03<00:00,  1.13it/s]\n",
            "                 Class     Images  Instances      Box(P          R      mAP50  mAP50-95)     Mask(P          R      mAP50  mAP50-95): 100%|██████████| 1/1 [00:00<00:00,  2.31it/s]"
          ]
        },
        {
          "output_type": "stream",
          "name": "stdout",
          "text": [
            "                   all         15         30      0.991          1      0.995      0.753      0.991          1      0.995      0.567\n"
          ]
        },
        {
          "output_type": "stream",
          "name": "stderr",
          "text": [
            "\n"
          ]
        },
        {
          "output_type": "stream",
          "name": "stdout",
          "text": [
            "\n",
            "      Epoch    GPU_mem   box_loss   seg_loss   cls_loss   dfl_loss  Instances       Size\n"
          ]
        },
        {
          "output_type": "stream",
          "name": "stderr",
          "text": [
            "    101/200      13.5G     0.8938     0.9471      0.765     0.8328          8       1440: 100%|██████████| 4/4 [00:03<00:00,  1.24it/s]\n",
            "                 Class     Images  Instances      Box(P          R      mAP50  mAP50-95)     Mask(P          R      mAP50  mAP50-95): 100%|██████████| 1/1 [00:00<00:00,  2.57it/s]"
          ]
        },
        {
          "output_type": "stream",
          "name": "stdout",
          "text": [
            "                   all         15         30      0.988          1      0.995      0.763      0.988          1      0.995        0.6\n"
          ]
        },
        {
          "output_type": "stream",
          "name": "stderr",
          "text": [
            "\n"
          ]
        },
        {
          "output_type": "stream",
          "name": "stdout",
          "text": [
            "\n",
            "      Epoch    GPU_mem   box_loss   seg_loss   cls_loss   dfl_loss  Instances       Size\n"
          ]
        },
        {
          "output_type": "stream",
          "name": "stderr",
          "text": [
            "    102/200      13.3G     0.8775      1.047     0.7658      0.806         20       1440: 100%|██████████| 4/4 [00:03<00:00,  1.19it/s]\n",
            "                 Class     Images  Instances      Box(P          R      mAP50  mAP50-95)     Mask(P          R      mAP50  mAP50-95): 100%|██████████| 1/1 [00:00<00:00,  1.74it/s]"
          ]
        },
        {
          "output_type": "stream",
          "name": "stdout",
          "text": [
            "                   all         15         30      0.994          1      0.995      0.756      0.994          1      0.995      0.608\n"
          ]
        },
        {
          "output_type": "stream",
          "name": "stderr",
          "text": [
            "\n"
          ]
        },
        {
          "output_type": "stream",
          "name": "stdout",
          "text": [
            "\n",
            "      Epoch    GPU_mem   box_loss   seg_loss   cls_loss   dfl_loss  Instances       Size\n"
          ]
        },
        {
          "output_type": "stream",
          "name": "stderr",
          "text": [
            "    103/200      13.2G     0.9032      1.137     0.7302     0.8229         10       1440: 100%|██████████| 4/4 [00:03<00:00,  1.20it/s]\n",
            "                 Class     Images  Instances      Box(P          R      mAP50  mAP50-95)     Mask(P          R      mAP50  mAP50-95): 100%|██████████| 1/1 [00:00<00:00,  2.25it/s]"
          ]
        },
        {
          "output_type": "stream",
          "name": "stdout",
          "text": [
            "                   all         15         30      0.992          1      0.995      0.757      0.992          1      0.995      0.599\n"
          ]
        },
        {
          "output_type": "stream",
          "name": "stderr",
          "text": [
            "\n"
          ]
        },
        {
          "output_type": "stream",
          "name": "stdout",
          "text": [
            "\n",
            "      Epoch    GPU_mem   box_loss   seg_loss   cls_loss   dfl_loss  Instances       Size\n"
          ]
        },
        {
          "output_type": "stream",
          "name": "stderr",
          "text": [
            "    104/200      13.1G     0.8299     0.8774     0.6889     0.7977         16       1440: 100%|██████████| 4/4 [00:03<00:00,  1.19it/s]\n",
            "                 Class     Images  Instances      Box(P          R      mAP50  mAP50-95)     Mask(P          R      mAP50  mAP50-95): 100%|██████████| 1/1 [00:00<00:00,  2.55it/s]"
          ]
        },
        {
          "output_type": "stream",
          "name": "stdout",
          "text": [
            "                   all         15         30      0.993          1      0.995      0.757      0.993          1      0.995      0.593\n"
          ]
        },
        {
          "output_type": "stream",
          "name": "stderr",
          "text": [
            "\n"
          ]
        },
        {
          "output_type": "stream",
          "name": "stdout",
          "text": [
            "\n",
            "      Epoch    GPU_mem   box_loss   seg_loss   cls_loss   dfl_loss  Instances       Size\n"
          ]
        },
        {
          "output_type": "stream",
          "name": "stderr",
          "text": [
            "    105/200        13G     0.8714       1.05     0.6866     0.8118         12       1440: 100%|██████████| 4/4 [00:03<00:00,  1.04it/s]\n",
            "                 Class     Images  Instances      Box(P          R      mAP50  mAP50-95)     Mask(P          R      mAP50  mAP50-95): 100%|██████████| 1/1 [00:00<00:00,  2.76it/s]"
          ]
        },
        {
          "output_type": "stream",
          "name": "stdout",
          "text": [
            "                   all         15         30      0.992          1      0.995      0.744      0.992          1      0.995      0.554\n"
          ]
        },
        {
          "output_type": "stream",
          "name": "stderr",
          "text": [
            "\n"
          ]
        },
        {
          "output_type": "stream",
          "name": "stdout",
          "text": [
            "\n",
            "      Epoch    GPU_mem   box_loss   seg_loss   cls_loss   dfl_loss  Instances       Size\n"
          ]
        },
        {
          "output_type": "stream",
          "name": "stderr",
          "text": [
            "    106/200      13.2G     0.8244     0.9448     0.7011     0.8283         10       1440: 100%|██████████| 4/4 [00:03<00:00,  1.23it/s]\n",
            "                 Class     Images  Instances      Box(P          R      mAP50  mAP50-95)     Mask(P          R      mAP50  mAP50-95): 100%|██████████| 1/1 [00:00<00:00,  2.90it/s]"
          ]
        },
        {
          "output_type": "stream",
          "name": "stdout",
          "text": [
            "                   all         15         30      0.996          1      0.995      0.733      0.996          1      0.995      0.586\n"
          ]
        },
        {
          "output_type": "stream",
          "name": "stderr",
          "text": [
            "\n"
          ]
        },
        {
          "output_type": "stream",
          "name": "stdout",
          "text": [
            "\n",
            "      Epoch    GPU_mem   box_loss   seg_loss   cls_loss   dfl_loss  Instances       Size\n"
          ]
        },
        {
          "output_type": "stream",
          "name": "stderr",
          "text": [
            "    107/200      13.2G     0.7512     0.8092     0.6687     0.7998         13       1440: 100%|██████████| 4/4 [00:03<00:00,  1.26it/s]\n",
            "                 Class     Images  Instances      Box(P          R      mAP50  mAP50-95)     Mask(P          R      mAP50  mAP50-95): 100%|██████████| 1/1 [00:00<00:00,  1.52it/s]"
          ]
        },
        {
          "output_type": "stream",
          "name": "stdout",
          "text": [
            "                   all         15         30      0.996          1      0.995      0.738      0.996          1      0.995      0.615\n"
          ]
        },
        {
          "output_type": "stream",
          "name": "stderr",
          "text": [
            "\n"
          ]
        },
        {
          "output_type": "stream",
          "name": "stdout",
          "text": [
            "\n",
            "      Epoch    GPU_mem   box_loss   seg_loss   cls_loss   dfl_loss  Instances       Size\n"
          ]
        },
        {
          "output_type": "stream",
          "name": "stderr",
          "text": [
            "    108/200      13.5G     0.8134     0.9895     0.6351     0.8113         22       1440: 100%|██████████| 4/4 [00:03<00:00,  1.25it/s]\n",
            "                 Class     Images  Instances      Box(P          R      mAP50  mAP50-95)     Mask(P          R      mAP50  mAP50-95): 100%|██████████| 1/1 [00:00<00:00,  2.68it/s]"
          ]
        },
        {
          "output_type": "stream",
          "name": "stdout",
          "text": [
            "                   all         15         30      0.995          1      0.995      0.749      0.995          1      0.995      0.616\n"
          ]
        },
        {
          "output_type": "stream",
          "name": "stderr",
          "text": [
            "\n"
          ]
        },
        {
          "output_type": "stream",
          "name": "stdout",
          "text": [
            "\n",
            "      Epoch    GPU_mem   box_loss   seg_loss   cls_loss   dfl_loss  Instances       Size\n"
          ]
        },
        {
          "output_type": "stream",
          "name": "stderr",
          "text": [
            "    109/200      13.2G      0.806     0.8335     0.6448      0.828         19       1440: 100%|██████████| 4/4 [00:03<00:00,  1.15it/s]\n",
            "                 Class     Images  Instances      Box(P          R      mAP50  mAP50-95)     Mask(P          R      mAP50  mAP50-95): 100%|██████████| 1/1 [00:00<00:00,  2.30it/s]"
          ]
        },
        {
          "output_type": "stream",
          "name": "stdout",
          "text": [
            "                   all         15         30      0.994          1      0.995      0.756      0.994          1      0.995      0.648\n"
          ]
        },
        {
          "output_type": "stream",
          "name": "stderr",
          "text": [
            "\n"
          ]
        },
        {
          "output_type": "stream",
          "name": "stdout",
          "text": [
            "\n",
            "      Epoch    GPU_mem   box_loss   seg_loss   cls_loss   dfl_loss  Instances       Size\n"
          ]
        },
        {
          "output_type": "stream",
          "name": "stderr",
          "text": [
            "    110/200      13.1G      0.765     0.8905     0.6475      0.804          8       1440: 100%|██████████| 4/4 [00:03<00:00,  1.15it/s]\n",
            "                 Class     Images  Instances      Box(P          R      mAP50  mAP50-95)     Mask(P          R      mAP50  mAP50-95): 100%|██████████| 1/1 [00:00<00:00,  3.40it/s]"
          ]
        },
        {
          "output_type": "stream",
          "name": "stdout",
          "text": [
            "                   all         15         30      0.998          1      0.995      0.759      0.998          1      0.995      0.667\n"
          ]
        },
        {
          "output_type": "stream",
          "name": "stderr",
          "text": [
            "\n"
          ]
        },
        {
          "output_type": "stream",
          "name": "stdout",
          "text": [
            "\n",
            "      Epoch    GPU_mem   box_loss   seg_loss   cls_loss   dfl_loss  Instances       Size\n"
          ]
        },
        {
          "output_type": "stream",
          "name": "stderr",
          "text": [
            "    111/200      13.2G     0.9001     0.8214     0.7383     0.7894         17       1440: 100%|██████████| 4/4 [00:03<00:00,  1.21it/s]\n",
            "                 Class     Images  Instances      Box(P          R      mAP50  mAP50-95)     Mask(P          R      mAP50  mAP50-95): 100%|██████████| 1/1 [00:00<00:00,  2.06it/s]"
          ]
        },
        {
          "output_type": "stream",
          "name": "stdout",
          "text": [
            "                   all         15         30          1      0.995      0.995      0.773          1      0.995      0.995      0.648\n"
          ]
        },
        {
          "output_type": "stream",
          "name": "stderr",
          "text": [
            "\n"
          ]
        },
        {
          "output_type": "stream",
          "name": "stdout",
          "text": [
            "\n",
            "      Epoch    GPU_mem   box_loss   seg_loss   cls_loss   dfl_loss  Instances       Size\n"
          ]
        },
        {
          "output_type": "stream",
          "name": "stderr",
          "text": [
            "    112/200      13.3G     0.8486     0.9966     0.7378     0.8111         13       1440: 100%|██████████| 4/4 [00:03<00:00,  1.06it/s]\n",
            "                 Class     Images  Instances      Box(P          R      mAP50  mAP50-95)     Mask(P          R      mAP50  mAP50-95): 100%|██████████| 1/1 [00:00<00:00,  1.39it/s]"
          ]
        },
        {
          "output_type": "stream",
          "name": "stdout",
          "text": [
            "                   all         15         30          1      0.995      0.995      0.769          1      0.995      0.995      0.627\n"
          ]
        },
        {
          "output_type": "stream",
          "name": "stderr",
          "text": [
            "\n"
          ]
        },
        {
          "output_type": "stream",
          "name": "stdout",
          "text": [
            "\n",
            "      Epoch    GPU_mem   box_loss   seg_loss   cls_loss   dfl_loss  Instances       Size\n"
          ]
        },
        {
          "output_type": "stream",
          "name": "stderr",
          "text": [
            "    113/200      13.5G     0.8158     0.9008     0.6568     0.8126         12       1440: 100%|██████████| 4/4 [00:03<00:00,  1.28it/s]\n",
            "                 Class     Images  Instances      Box(P          R      mAP50  mAP50-95)     Mask(P          R      mAP50  mAP50-95): 100%|██████████| 1/1 [00:00<00:00,  1.84it/s]"
          ]
        },
        {
          "output_type": "stream",
          "name": "stdout",
          "text": [
            "                   all         15         30          1      0.993      0.995      0.747          1      0.993      0.995      0.668\n"
          ]
        },
        {
          "output_type": "stream",
          "name": "stderr",
          "text": [
            "\n"
          ]
        },
        {
          "output_type": "stream",
          "name": "stdout",
          "text": [
            "\n",
            "      Epoch    GPU_mem   box_loss   seg_loss   cls_loss   dfl_loss  Instances       Size\n"
          ]
        },
        {
          "output_type": "stream",
          "name": "stderr",
          "text": [
            "    114/200      13.7G     0.8478       1.04     0.6803     0.8177         15       1440: 100%|██████████| 4/4 [00:03<00:00,  1.26it/s]\n",
            "                 Class     Images  Instances      Box(P          R      mAP50  mAP50-95)     Mask(P          R      mAP50  mAP50-95): 100%|██████████| 1/1 [00:00<00:00,  2.22it/s]"
          ]
        },
        {
          "output_type": "stream",
          "name": "stdout",
          "text": [
            "                   all         15         30      0.995          1      0.995      0.764      0.995          1      0.995      0.662\n"
          ]
        },
        {
          "output_type": "stream",
          "name": "stderr",
          "text": [
            "\n"
          ]
        },
        {
          "output_type": "stream",
          "name": "stdout",
          "text": [
            "\n",
            "      Epoch    GPU_mem   box_loss   seg_loss   cls_loss   dfl_loss  Instances       Size\n"
          ]
        },
        {
          "output_type": "stream",
          "name": "stderr",
          "text": [
            "    115/200      13.5G     0.7979     0.7597     0.6532     0.7861         20       1440: 100%|██████████| 4/4 [00:03<00:00,  1.20it/s]\n",
            "                 Class     Images  Instances      Box(P          R      mAP50  mAP50-95)     Mask(P          R      mAP50  mAP50-95): 100%|██████████| 1/1 [00:00<00:00,  2.62it/s]"
          ]
        },
        {
          "output_type": "stream",
          "name": "stdout",
          "text": [
            "                   all         15         30      0.992          1      0.995      0.752      0.992          1      0.995      0.641\n"
          ]
        },
        {
          "output_type": "stream",
          "name": "stderr",
          "text": [
            "\n"
          ]
        },
        {
          "output_type": "stream",
          "name": "stdout",
          "text": [
            "\n",
            "      Epoch    GPU_mem   box_loss   seg_loss   cls_loss   dfl_loss  Instances       Size\n"
          ]
        },
        {
          "output_type": "stream",
          "name": "stderr",
          "text": [
            "    116/200      13.4G     0.9085      1.075     0.7265     0.8273         17       1440: 100%|██████████| 4/4 [00:03<00:00,  1.29it/s]\n",
            "                 Class     Images  Instances      Box(P          R      mAP50  mAP50-95)     Mask(P          R      mAP50  mAP50-95): 100%|██████████| 1/1 [00:00<00:00,  2.30it/s]"
          ]
        },
        {
          "output_type": "stream",
          "name": "stdout",
          "text": [
            "                   all         15         30      0.995          1      0.995      0.763      0.995          1      0.995      0.604\n"
          ]
        },
        {
          "output_type": "stream",
          "name": "stderr",
          "text": [
            "\n"
          ]
        },
        {
          "output_type": "stream",
          "name": "stdout",
          "text": [
            "\n",
            "      Epoch    GPU_mem   box_loss   seg_loss   cls_loss   dfl_loss  Instances       Size\n"
          ]
        },
        {
          "output_type": "stream",
          "name": "stderr",
          "text": [
            "    117/200      13.4G     0.8691      0.865     0.7055     0.8212          8       1440: 100%|██████████| 4/4 [00:03<00:00,  1.21it/s]\n",
            "                 Class     Images  Instances      Box(P          R      mAP50  mAP50-95)     Mask(P          R      mAP50  mAP50-95): 100%|██████████| 1/1 [00:00<00:00,  1.33it/s]"
          ]
        },
        {
          "output_type": "stream",
          "name": "stdout",
          "text": [
            "                   all         15         30      0.995          1      0.995      0.784      0.995          1      0.995      0.566\n"
          ]
        },
        {
          "output_type": "stream",
          "name": "stderr",
          "text": [
            "\n"
          ]
        },
        {
          "output_type": "stream",
          "name": "stdout",
          "text": [
            "\n",
            "      Epoch    GPU_mem   box_loss   seg_loss   cls_loss   dfl_loss  Instances       Size\n"
          ]
        },
        {
          "output_type": "stream",
          "name": "stderr",
          "text": [
            "    118/200      13.4G     0.8668     0.8671     0.6599     0.8039         20       1440: 100%|██████████| 4/4 [00:03<00:00,  1.10it/s]\n",
            "                 Class     Images  Instances      Box(P          R      mAP50  mAP50-95)     Mask(P          R      mAP50  mAP50-95): 100%|██████████| 1/1 [00:00<00:00,  1.35it/s]"
          ]
        },
        {
          "output_type": "stream",
          "name": "stdout",
          "text": [
            "                   all         15         30      0.992          1      0.995      0.786      0.992          1      0.995      0.578\n"
          ]
        },
        {
          "output_type": "stream",
          "name": "stderr",
          "text": [
            "\n"
          ]
        },
        {
          "output_type": "stream",
          "name": "stdout",
          "text": [
            "\n",
            "      Epoch    GPU_mem   box_loss   seg_loss   cls_loss   dfl_loss  Instances       Size\n"
          ]
        },
        {
          "output_type": "stream",
          "name": "stderr",
          "text": [
            "    119/200      13.4G     0.7764      0.907     0.6433     0.7855         13       1440: 100%|██████████| 4/4 [00:03<00:00,  1.24it/s]\n",
            "                 Class     Images  Instances      Box(P          R      mAP50  mAP50-95)     Mask(P          R      mAP50  mAP50-95): 100%|██████████| 1/1 [00:00<00:00,  1.71it/s]"
          ]
        },
        {
          "output_type": "stream",
          "name": "stdout",
          "text": [
            "                   all         15         30      0.988          1      0.995      0.782      0.988          1      0.995      0.576\n"
          ]
        },
        {
          "output_type": "stream",
          "name": "stderr",
          "text": [
            "\n"
          ]
        },
        {
          "output_type": "stream",
          "name": "stdout",
          "text": [
            "\n",
            "      Epoch    GPU_mem   box_loss   seg_loss   cls_loss   dfl_loss  Instances       Size\n"
          ]
        },
        {
          "output_type": "stream",
          "name": "stderr",
          "text": [
            "    120/200      13.2G      0.866      0.868     0.6582     0.8193         16       1440: 100%|██████████| 4/4 [00:03<00:00,  1.21it/s]\n",
            "                 Class     Images  Instances      Box(P          R      mAP50  mAP50-95)     Mask(P          R      mAP50  mAP50-95): 100%|██████████| 1/1 [00:00<00:00,  2.36it/s]"
          ]
        },
        {
          "output_type": "stream",
          "name": "stdout",
          "text": [
            "                   all         15         30      0.991          1      0.995      0.769      0.991          1      0.995       0.58\n"
          ]
        },
        {
          "output_type": "stream",
          "name": "stderr",
          "text": [
            "\n"
          ]
        },
        {
          "output_type": "stream",
          "name": "stdout",
          "text": [
            "\n",
            "      Epoch    GPU_mem   box_loss   seg_loss   cls_loss   dfl_loss  Instances       Size\n"
          ]
        },
        {
          "output_type": "stream",
          "name": "stderr",
          "text": [
            "    121/200      13.2G     0.8555      1.047       0.62     0.8232         17       1440: 100%|██████████| 4/4 [00:03<00:00,  1.26it/s]\n",
            "                 Class     Images  Instances      Box(P          R      mAP50  mAP50-95)     Mask(P          R      mAP50  mAP50-95): 100%|██████████| 1/1 [00:00<00:00,  2.14it/s]"
          ]
        },
        {
          "output_type": "stream",
          "name": "stdout",
          "text": [
            "                   all         15         30      0.993          1      0.995       0.77      0.993          1      0.995       0.55\n"
          ]
        },
        {
          "output_type": "stream",
          "name": "stderr",
          "text": [
            "\n"
          ]
        },
        {
          "output_type": "stream",
          "name": "stdout",
          "text": [
            "\n",
            "      Epoch    GPU_mem   box_loss   seg_loss   cls_loss   dfl_loss  Instances       Size\n"
          ]
        },
        {
          "output_type": "stream",
          "name": "stderr",
          "text": [
            "    122/200      13.4G     0.8449     0.8822      0.619     0.8254         18       1440: 100%|██████████| 4/4 [00:03<00:00,  1.17it/s]\n",
            "                 Class     Images  Instances      Box(P          R      mAP50  mAP50-95)     Mask(P          R      mAP50  mAP50-95): 100%|██████████| 1/1 [00:00<00:00,  2.14it/s]"
          ]
        },
        {
          "output_type": "stream",
          "name": "stdout",
          "text": [
            "                   all         15         30      0.993          1      0.995      0.767      0.993          1      0.995      0.603\n"
          ]
        },
        {
          "output_type": "stream",
          "name": "stderr",
          "text": [
            "\n"
          ]
        },
        {
          "output_type": "stream",
          "name": "stdout",
          "text": [
            "\n",
            "      Epoch    GPU_mem   box_loss   seg_loss   cls_loss   dfl_loss  Instances       Size\n"
          ]
        },
        {
          "output_type": "stream",
          "name": "stderr",
          "text": [
            "    123/200      13.4G     0.7913     0.9089     0.6459     0.8279         11       1440: 100%|██████████| 4/4 [00:03<00:00,  1.22it/s]\n",
            "                 Class     Images  Instances      Box(P          R      mAP50  mAP50-95)     Mask(P          R      mAP50  mAP50-95): 100%|██████████| 1/1 [00:00<00:00,  2.82it/s]"
          ]
        },
        {
          "output_type": "stream",
          "name": "stdout",
          "text": [
            "                   all         15         30      0.993          1      0.995      0.767      0.993          1      0.995      0.622\n"
          ]
        },
        {
          "output_type": "stream",
          "name": "stderr",
          "text": [
            "\n"
          ]
        },
        {
          "output_type": "stream",
          "name": "stdout",
          "text": [
            "\n",
            "      Epoch    GPU_mem   box_loss   seg_loss   cls_loss   dfl_loss  Instances       Size\n"
          ]
        },
        {
          "output_type": "stream",
          "name": "stderr",
          "text": [
            "    124/200      13.2G     0.7911     0.8981     0.6162     0.7879         17       1440: 100%|██████████| 4/4 [00:03<00:00,  1.23it/s]\n",
            "                 Class     Images  Instances      Box(P          R      mAP50  mAP50-95)     Mask(P          R      mAP50  mAP50-95): 100%|██████████| 1/1 [00:00<00:00,  2.16it/s]"
          ]
        },
        {
          "output_type": "stream",
          "name": "stdout",
          "text": [
            "                   all         15         30      0.996          1      0.995      0.768      0.996          1      0.995       0.61\n"
          ]
        },
        {
          "output_type": "stream",
          "name": "stderr",
          "text": [
            "\n"
          ]
        },
        {
          "output_type": "stream",
          "name": "stdout",
          "text": [
            "\n",
            "      Epoch    GPU_mem   box_loss   seg_loss   cls_loss   dfl_loss  Instances       Size\n"
          ]
        },
        {
          "output_type": "stream",
          "name": "stderr",
          "text": [
            "    125/200      13.2G     0.8041     0.8906     0.6236     0.7977         18       1440: 100%|██████████| 4/4 [00:03<00:00,  1.14it/s]\n",
            "                 Class     Images  Instances      Box(P          R      mAP50  mAP50-95)     Mask(P          R      mAP50  mAP50-95): 100%|██████████| 1/1 [00:00<00:00,  2.84it/s]"
          ]
        },
        {
          "output_type": "stream",
          "name": "stdout",
          "text": [
            "                   all         15         30      0.996          1      0.995      0.766      0.996          1      0.995      0.629\n"
          ]
        },
        {
          "output_type": "stream",
          "name": "stderr",
          "text": [
            "\n"
          ]
        },
        {
          "output_type": "stream",
          "name": "stdout",
          "text": [
            "\n",
            "      Epoch    GPU_mem   box_loss   seg_loss   cls_loss   dfl_loss  Instances       Size\n"
          ]
        },
        {
          "output_type": "stream",
          "name": "stderr",
          "text": [
            "    126/200      13.1G     0.8258     0.8878      0.642     0.8175         17       1440: 100%|██████████| 4/4 [00:03<00:00,  1.17it/s]\n",
            "                 Class     Images  Instances      Box(P          R      mAP50  mAP50-95)     Mask(P          R      mAP50  mAP50-95): 100%|██████████| 1/1 [00:00<00:00,  2.32it/s]"
          ]
        },
        {
          "output_type": "stream",
          "name": "stdout",
          "text": [
            "                   all         15         30      0.995          1      0.995      0.733      0.995          1      0.995      0.655\n"
          ]
        },
        {
          "output_type": "stream",
          "name": "stderr",
          "text": [
            "\n"
          ]
        },
        {
          "output_type": "stream",
          "name": "stdout",
          "text": [
            "\n",
            "      Epoch    GPU_mem   box_loss   seg_loss   cls_loss   dfl_loss  Instances       Size\n"
          ]
        },
        {
          "output_type": "stream",
          "name": "stderr",
          "text": [
            "    127/200      13.4G     0.9453      1.022     0.7501     0.8438          9       1440: 100%|██████████| 4/4 [00:03<00:00,  1.13it/s]\n",
            "                 Class     Images  Instances      Box(P          R      mAP50  mAP50-95)     Mask(P          R      mAP50  mAP50-95): 100%|██████████| 1/1 [00:00<00:00,  2.42it/s]"
          ]
        },
        {
          "output_type": "stream",
          "name": "stdout",
          "text": [
            "                   all         15         30      0.996          1      0.995      0.733      0.996          1      0.995      0.639\n"
          ]
        },
        {
          "output_type": "stream",
          "name": "stderr",
          "text": [
            "\n"
          ]
        },
        {
          "output_type": "stream",
          "name": "stdout",
          "text": [
            "\n",
            "      Epoch    GPU_mem   box_loss   seg_loss   cls_loss   dfl_loss  Instances       Size\n"
          ]
        },
        {
          "output_type": "stream",
          "name": "stderr",
          "text": [
            "    128/200      13.4G     0.8471     0.8436     0.6295     0.7986         17       1440: 100%|██████████| 4/4 [00:03<00:00,  1.25it/s]\n",
            "                 Class     Images  Instances      Box(P          R      mAP50  mAP50-95)     Mask(P          R      mAP50  mAP50-95): 100%|██████████| 1/1 [00:00<00:00,  1.89it/s]"
          ]
        },
        {
          "output_type": "stream",
          "name": "stdout",
          "text": [
            "                   all         15         30      0.996          1      0.995      0.748      0.996          1      0.995      0.646\n"
          ]
        },
        {
          "output_type": "stream",
          "name": "stderr",
          "text": [
            "\n"
          ]
        },
        {
          "output_type": "stream",
          "name": "stdout",
          "text": [
            "\n",
            "      Epoch    GPU_mem   box_loss   seg_loss   cls_loss   dfl_loss  Instances       Size\n"
          ]
        },
        {
          "output_type": "stream",
          "name": "stderr",
          "text": [
            "    129/200      13.4G     0.8473     0.7842     0.6459     0.8255         16       1440: 100%|██████████| 4/4 [00:03<00:00,  1.23it/s]\n",
            "                 Class     Images  Instances      Box(P          R      mAP50  mAP50-95)     Mask(P          R      mAP50  mAP50-95): 100%|██████████| 1/1 [00:00<00:00,  1.61it/s]"
          ]
        },
        {
          "output_type": "stream",
          "name": "stdout",
          "text": [
            "                   all         15         30      0.996          1      0.995      0.756      0.996          1      0.995      0.611\n"
          ]
        },
        {
          "output_type": "stream",
          "name": "stderr",
          "text": [
            "\n"
          ]
        },
        {
          "output_type": "stream",
          "name": "stdout",
          "text": [
            "\n",
            "      Epoch    GPU_mem   box_loss   seg_loss   cls_loss   dfl_loss  Instances       Size\n"
          ]
        },
        {
          "output_type": "stream",
          "name": "stderr",
          "text": [
            "    130/200      13.4G      0.856     0.8751     0.6514     0.8023         18       1440: 100%|██████████| 4/4 [00:03<00:00,  1.26it/s]\n",
            "                 Class     Images  Instances      Box(P          R      mAP50  mAP50-95)     Mask(P          R      mAP50  mAP50-95): 100%|██████████| 1/1 [00:00<00:00,  1.92it/s]"
          ]
        },
        {
          "output_type": "stream",
          "name": "stdout",
          "text": [
            "                   all         15         30      0.994          1      0.995       0.76      0.994          1      0.995      0.609\n"
          ]
        },
        {
          "output_type": "stream",
          "name": "stderr",
          "text": [
            "\n"
          ]
        },
        {
          "output_type": "stream",
          "name": "stdout",
          "text": [
            "\n",
            "      Epoch    GPU_mem   box_loss   seg_loss   cls_loss   dfl_loss  Instances       Size\n"
          ]
        },
        {
          "output_type": "stream",
          "name": "stderr",
          "text": [
            "    131/200      13.3G     0.8182     0.8494     0.6234     0.8058         19       1440: 100%|██████████| 4/4 [00:03<00:00,  1.17it/s]\n",
            "                 Class     Images  Instances      Box(P          R      mAP50  mAP50-95)     Mask(P          R      mAP50  mAP50-95): 100%|██████████| 1/1 [00:00<00:00,  1.34it/s]"
          ]
        },
        {
          "output_type": "stream",
          "name": "stdout",
          "text": [
            "                   all         15         30      0.999          1      0.995      0.771      0.999          1      0.995      0.608\n"
          ]
        },
        {
          "output_type": "stream",
          "name": "stderr",
          "text": [
            "\n"
          ]
        },
        {
          "output_type": "stream",
          "name": "stdout",
          "text": [
            "\n",
            "      Epoch    GPU_mem   box_loss   seg_loss   cls_loss   dfl_loss  Instances       Size\n"
          ]
        },
        {
          "output_type": "stream",
          "name": "stderr",
          "text": [
            "    132/200      13.3G     0.7597     0.7338     0.5908     0.8079         13       1440: 100%|██████████| 4/4 [00:03<00:00,  1.16it/s]\n",
            "                 Class     Images  Instances      Box(P          R      mAP50  mAP50-95)     Mask(P          R      mAP50  mAP50-95): 100%|██████████| 1/1 [00:00<00:00,  2.55it/s]"
          ]
        },
        {
          "output_type": "stream",
          "name": "stdout",
          "text": [
            "                   all         15         30          1      0.998      0.995      0.772          1      0.998      0.995      0.601\n"
          ]
        },
        {
          "output_type": "stream",
          "name": "stderr",
          "text": [
            "\n"
          ]
        },
        {
          "output_type": "stream",
          "name": "stdout",
          "text": [
            "\n",
            "      Epoch    GPU_mem   box_loss   seg_loss   cls_loss   dfl_loss  Instances       Size\n"
          ]
        },
        {
          "output_type": "stream",
          "name": "stderr",
          "text": [
            "    133/200      13.4G     0.7953     0.8744     0.5955     0.7933         15       1440: 100%|██████████| 4/4 [00:03<00:00,  1.21it/s]\n",
            "                 Class     Images  Instances      Box(P          R      mAP50  mAP50-95)     Mask(P          R      mAP50  mAP50-95): 100%|██████████| 1/1 [00:00<00:00,  2.61it/s]"
          ]
        },
        {
          "output_type": "stream",
          "name": "stdout",
          "text": [
            "                   all         15         30          1      0.998      0.995      0.757          1      0.998      0.995      0.554\n"
          ]
        },
        {
          "output_type": "stream",
          "name": "stderr",
          "text": [
            "\n"
          ]
        },
        {
          "output_type": "stream",
          "name": "stdout",
          "text": [
            "\n",
            "      Epoch    GPU_mem   box_loss   seg_loss   cls_loss   dfl_loss  Instances       Size\n"
          ]
        },
        {
          "output_type": "stream",
          "name": "stderr",
          "text": [
            "    134/200      13.5G     0.8024     0.9021      0.618     0.8176         17       1440: 100%|██████████| 4/4 [00:03<00:00,  1.13it/s]\n",
            "                 Class     Images  Instances      Box(P          R      mAP50  mAP50-95)     Mask(P          R      mAP50  mAP50-95): 100%|██████████| 1/1 [00:00<00:00,  1.59it/s]"
          ]
        },
        {
          "output_type": "stream",
          "name": "stdout",
          "text": [
            "                   all         15         30      0.999          1      0.995      0.759      0.999          1      0.995      0.568\n"
          ]
        },
        {
          "output_type": "stream",
          "name": "stderr",
          "text": [
            "\n"
          ]
        },
        {
          "output_type": "stream",
          "name": "stdout",
          "text": [
            "\n",
            "      Epoch    GPU_mem   box_loss   seg_loss   cls_loss   dfl_loss  Instances       Size\n"
          ]
        },
        {
          "output_type": "stream",
          "name": "stderr",
          "text": [
            "    135/200      13.2G     0.7874     0.8064       0.62      0.797         12       1440: 100%|██████████| 4/4 [00:03<00:00,  1.27it/s]\n",
            "                 Class     Images  Instances      Box(P          R      mAP50  mAP50-95)     Mask(P          R      mAP50  mAP50-95): 100%|██████████| 1/1 [00:00<00:00,  2.49it/s]"
          ]
        },
        {
          "output_type": "stream",
          "name": "stdout",
          "text": [
            "                   all         15         30      0.996          1      0.995      0.748      0.996          1      0.995      0.609\n"
          ]
        },
        {
          "output_type": "stream",
          "name": "stderr",
          "text": [
            "\n"
          ]
        },
        {
          "output_type": "stream",
          "name": "stdout",
          "text": [
            "\n",
            "      Epoch    GPU_mem   box_loss   seg_loss   cls_loss   dfl_loss  Instances       Size\n"
          ]
        },
        {
          "output_type": "stream",
          "name": "stderr",
          "text": [
            "    136/200      13.3G     0.9156     0.8615     0.6435     0.8292         26       1440: 100%|██████████| 4/4 [00:03<00:00,  1.21it/s]\n",
            "                 Class     Images  Instances      Box(P          R      mAP50  mAP50-95)     Mask(P          R      mAP50  mAP50-95): 100%|██████████| 1/1 [00:00<00:00,  1.98it/s]"
          ]
        },
        {
          "output_type": "stream",
          "name": "stdout",
          "text": [
            "                   all         15         30      0.996          1      0.995      0.736      0.996          1      0.995      0.638\n"
          ]
        },
        {
          "output_type": "stream",
          "name": "stderr",
          "text": [
            "\n"
          ]
        },
        {
          "output_type": "stream",
          "name": "stdout",
          "text": [
            "\n",
            "      Epoch    GPU_mem   box_loss   seg_loss   cls_loss   dfl_loss  Instances       Size\n"
          ]
        },
        {
          "output_type": "stream",
          "name": "stderr",
          "text": [
            "    137/200      13.4G     0.8428     0.8691     0.6259     0.7906         16       1440: 100%|██████████| 4/4 [00:03<00:00,  1.20it/s]\n",
            "                 Class     Images  Instances      Box(P          R      mAP50  mAP50-95)     Mask(P          R      mAP50  mAP50-95): 100%|██████████| 1/1 [00:00<00:00,  2.51it/s]"
          ]
        },
        {
          "output_type": "stream",
          "name": "stdout",
          "text": [
            "                   all         15         30      0.997          1      0.995      0.728      0.997          1      0.995      0.623\n"
          ]
        },
        {
          "output_type": "stream",
          "name": "stderr",
          "text": [
            "\n"
          ]
        },
        {
          "output_type": "stream",
          "name": "stdout",
          "text": [
            "\n",
            "      Epoch    GPU_mem   box_loss   seg_loss   cls_loss   dfl_loss  Instances       Size\n"
          ]
        },
        {
          "output_type": "stream",
          "name": "stderr",
          "text": [
            "    138/200      13.4G     0.8081     0.9359     0.5816     0.8146         16       1440: 100%|██████████| 4/4 [00:03<00:00,  1.26it/s]\n",
            "                 Class     Images  Instances      Box(P          R      mAP50  mAP50-95)     Mask(P          R      mAP50  mAP50-95): 100%|██████████| 1/1 [00:00<00:00,  2.41it/s]"
          ]
        },
        {
          "output_type": "stream",
          "name": "stdout",
          "text": [
            "                   all         15         30      0.997          1      0.995      0.753      0.997          1      0.995      0.618\n"
          ]
        },
        {
          "output_type": "stream",
          "name": "stderr",
          "text": [
            "\n"
          ]
        },
        {
          "output_type": "stream",
          "name": "stdout",
          "text": [
            "\n",
            "      Epoch    GPU_mem   box_loss   seg_loss   cls_loss   dfl_loss  Instances       Size\n"
          ]
        },
        {
          "output_type": "stream",
          "name": "stderr",
          "text": [
            "    139/200      13.4G     0.7769     0.8173     0.6033     0.8011         21       1440: 100%|██████████| 4/4 [00:03<00:00,  1.15it/s]\n",
            "                 Class     Images  Instances      Box(P          R      mAP50  mAP50-95)     Mask(P          R      mAP50  mAP50-95): 100%|██████████| 1/1 [00:00<00:00,  1.60it/s]"
          ]
        },
        {
          "output_type": "stream",
          "name": "stdout",
          "text": [
            "                   all         15         30      0.996          1      0.995      0.748      0.996          1      0.995      0.597\n"
          ]
        },
        {
          "output_type": "stream",
          "name": "stderr",
          "text": [
            "\n"
          ]
        },
        {
          "output_type": "stream",
          "name": "stdout",
          "text": [
            "\n",
            "      Epoch    GPU_mem   box_loss   seg_loss   cls_loss   dfl_loss  Instances       Size\n"
          ]
        },
        {
          "output_type": "stream",
          "name": "stderr",
          "text": [
            "    140/200      13.2G     0.8426      1.001     0.6367     0.8151         17       1440: 100%|██████████| 4/4 [00:03<00:00,  1.26it/s]\n",
            "                 Class     Images  Instances      Box(P          R      mAP50  mAP50-95)     Mask(P          R      mAP50  mAP50-95): 100%|██████████| 1/1 [00:00<00:00,  2.42it/s]"
          ]
        },
        {
          "output_type": "stream",
          "name": "stdout",
          "text": [
            "                   all         15         30      0.996          1      0.995      0.736      0.996          1      0.995      0.633\n"
          ]
        },
        {
          "output_type": "stream",
          "name": "stderr",
          "text": [
            "\n"
          ]
        },
        {
          "output_type": "stream",
          "name": "stdout",
          "text": [
            "\n",
            "      Epoch    GPU_mem   box_loss   seg_loss   cls_loss   dfl_loss  Instances       Size\n"
          ]
        },
        {
          "output_type": "stream",
          "name": "stderr",
          "text": [
            "    141/200      13.4G     0.7871     0.9079     0.6148     0.7901         16       1440: 100%|██████████| 4/4 [00:03<00:00,  1.25it/s]\n",
            "                 Class     Images  Instances      Box(P          R      mAP50  mAP50-95)     Mask(P          R      mAP50  mAP50-95): 100%|██████████| 1/1 [00:00<00:00,  2.39it/s]"
          ]
        },
        {
          "output_type": "stream",
          "name": "stdout",
          "text": [
            "                   all         15         30      0.996          1      0.995      0.745      0.996          1      0.995      0.631\n"
          ]
        },
        {
          "output_type": "stream",
          "name": "stderr",
          "text": [
            "\n"
          ]
        },
        {
          "output_type": "stream",
          "name": "stdout",
          "text": [
            "\n",
            "      Epoch    GPU_mem   box_loss   seg_loss   cls_loss   dfl_loss  Instances       Size\n"
          ]
        },
        {
          "output_type": "stream",
          "name": "stderr",
          "text": [
            "    142/200      13.4G     0.8009      1.074     0.6277      0.792         22       1440: 100%|██████████| 4/4 [00:03<00:00,  1.23it/s]\n",
            "                 Class     Images  Instances      Box(P          R      mAP50  mAP50-95)     Mask(P          R      mAP50  mAP50-95): 100%|██████████| 1/1 [00:00<00:00,  2.71it/s]"
          ]
        },
        {
          "output_type": "stream",
          "name": "stdout",
          "text": [
            "                   all         15         30      0.996          1      0.995      0.736      0.996          1      0.995      0.661\n"
          ]
        },
        {
          "output_type": "stream",
          "name": "stderr",
          "text": [
            "\n"
          ]
        },
        {
          "output_type": "stream",
          "name": "stdout",
          "text": [
            "\n",
            "      Epoch    GPU_mem   box_loss   seg_loss   cls_loss   dfl_loss  Instances       Size\n"
          ]
        },
        {
          "output_type": "stream",
          "name": "stderr",
          "text": [
            "    143/200      13.4G     0.7333     0.7799     0.5622     0.8039         12       1440: 100%|██████████| 4/4 [00:03<00:00,  1.23it/s]\n",
            "                 Class     Images  Instances      Box(P          R      mAP50  mAP50-95)     Mask(P          R      mAP50  mAP50-95): 100%|██████████| 1/1 [00:00<00:00,  2.23it/s]"
          ]
        },
        {
          "output_type": "stream",
          "name": "stdout",
          "text": [
            "                   all         15         30      0.996          1      0.995      0.756      0.996          1      0.995      0.632\n"
          ]
        },
        {
          "output_type": "stream",
          "name": "stderr",
          "text": [
            "\n"
          ]
        },
        {
          "output_type": "stream",
          "name": "stdout",
          "text": [
            "\n",
            "      Epoch    GPU_mem   box_loss   seg_loss   cls_loss   dfl_loss  Instances       Size\n"
          ]
        },
        {
          "output_type": "stream",
          "name": "stderr",
          "text": [
            "    144/200      13.4G     0.8206     0.8555     0.6211     0.7737         18       1440: 100%|██████████| 4/4 [00:03<00:00,  1.25it/s]\n",
            "                 Class     Images  Instances      Box(P          R      mAP50  mAP50-95)     Mask(P          R      mAP50  mAP50-95): 100%|██████████| 1/1 [00:00<00:00,  1.60it/s]"
          ]
        },
        {
          "output_type": "stream",
          "name": "stdout",
          "text": [
            "                   all         15         30      0.996          1      0.995      0.773      0.996          1      0.995      0.595\n"
          ]
        },
        {
          "output_type": "stream",
          "name": "stderr",
          "text": [
            "\n"
          ]
        },
        {
          "output_type": "stream",
          "name": "stdout",
          "text": [
            "\n",
            "      Epoch    GPU_mem   box_loss   seg_loss   cls_loss   dfl_loss  Instances       Size\n"
          ]
        },
        {
          "output_type": "stream",
          "name": "stderr",
          "text": [
            "    145/200      13.5G     0.7551     0.8631     0.5574     0.7981         16       1440: 100%|██████████| 4/4 [00:03<00:00,  1.21it/s]\n",
            "                 Class     Images  Instances      Box(P          R      mAP50  mAP50-95)     Mask(P          R      mAP50  mAP50-95): 100%|██████████| 1/1 [00:00<00:00,  2.42it/s]"
          ]
        },
        {
          "output_type": "stream",
          "name": "stdout",
          "text": [
            "                   all         15         30      0.996          1      0.995      0.757      0.996          1      0.995       0.58\n"
          ]
        },
        {
          "output_type": "stream",
          "name": "stderr",
          "text": [
            "\n"
          ]
        },
        {
          "output_type": "stream",
          "name": "stdout",
          "text": [
            "\n",
            "      Epoch    GPU_mem   box_loss   seg_loss   cls_loss   dfl_loss  Instances       Size\n"
          ]
        },
        {
          "output_type": "stream",
          "name": "stderr",
          "text": [
            "    146/200      13.5G     0.7969     0.8565     0.6046     0.8292         16       1440: 100%|██████████| 4/4 [00:03<00:00,  1.23it/s]\n",
            "                 Class     Images  Instances      Box(P          R      mAP50  mAP50-95)     Mask(P          R      mAP50  mAP50-95): 100%|██████████| 1/1 [00:00<00:00,  2.39it/s]"
          ]
        },
        {
          "output_type": "stream",
          "name": "stdout",
          "text": [
            "                   all         15         30      0.996          1      0.995      0.767      0.996          1      0.995      0.561\n"
          ]
        },
        {
          "output_type": "stream",
          "name": "stderr",
          "text": [
            "\n"
          ]
        },
        {
          "output_type": "stream",
          "name": "stdout",
          "text": [
            "\n",
            "      Epoch    GPU_mem   box_loss   seg_loss   cls_loss   dfl_loss  Instances       Size\n"
          ]
        },
        {
          "output_type": "stream",
          "name": "stderr",
          "text": [
            "    147/200      13.1G     0.7586     0.8753     0.5985     0.8064         15       1440: 100%|██████████| 4/4 [00:03<00:00,  1.16it/s]\n",
            "                 Class     Images  Instances      Box(P          R      mAP50  mAP50-95)     Mask(P          R      mAP50  mAP50-95): 100%|██████████| 1/1 [00:00<00:00,  2.33it/s]"
          ]
        },
        {
          "output_type": "stream",
          "name": "stdout",
          "text": [
            "                   all         15         30      0.996          1      0.995      0.758      0.996          1      0.995      0.584\n"
          ]
        },
        {
          "output_type": "stream",
          "name": "stderr",
          "text": [
            "\n"
          ]
        },
        {
          "output_type": "stream",
          "name": "stdout",
          "text": [
            "\n",
            "      Epoch    GPU_mem   box_loss   seg_loss   cls_loss   dfl_loss  Instances       Size\n"
          ]
        },
        {
          "output_type": "stream",
          "name": "stderr",
          "text": [
            "    148/200      13.4G     0.7633     0.8429     0.5607     0.8129         16       1440: 100%|██████████| 4/4 [00:03<00:00,  1.19it/s]\n",
            "                 Class     Images  Instances      Box(P          R      mAP50  mAP50-95)     Mask(P          R      mAP50  mAP50-95): 100%|██████████| 1/1 [00:00<00:00,  2.09it/s]"
          ]
        },
        {
          "output_type": "stream",
          "name": "stdout",
          "text": [
            "                   all         15         30      0.997          1      0.995      0.769      0.997          1      0.995      0.574\n"
          ]
        },
        {
          "output_type": "stream",
          "name": "stderr",
          "text": [
            "\n"
          ]
        },
        {
          "output_type": "stream",
          "name": "stdout",
          "text": [
            "\n",
            "      Epoch    GPU_mem   box_loss   seg_loss   cls_loss   dfl_loss  Instances       Size\n"
          ]
        },
        {
          "output_type": "stream",
          "name": "stderr",
          "text": [
            "    149/200      13.2G     0.7894     0.8226     0.5888     0.7939         12       1440: 100%|██████████| 4/4 [00:03<00:00,  1.20it/s]\n",
            "                 Class     Images  Instances      Box(P          R      mAP50  mAP50-95)     Mask(P          R      mAP50  mAP50-95): 100%|██████████| 1/1 [00:00<00:00,  1.56it/s]"
          ]
        },
        {
          "output_type": "stream",
          "name": "stdout",
          "text": [
            "                   all         15         30      0.997          1      0.995      0.769      0.997          1      0.995      0.589\n"
          ]
        },
        {
          "output_type": "stream",
          "name": "stderr",
          "text": [
            "\n"
          ]
        },
        {
          "output_type": "stream",
          "name": "stdout",
          "text": [
            "\n",
            "      Epoch    GPU_mem   box_loss   seg_loss   cls_loss   dfl_loss  Instances       Size\n"
          ]
        },
        {
          "output_type": "stream",
          "name": "stderr",
          "text": [
            "    150/200      13.3G     0.8048     0.7643     0.5668     0.7978         22       1440: 100%|██████████| 4/4 [00:03<00:00,  1.22it/s]\n",
            "                 Class     Images  Instances      Box(P          R      mAP50  mAP50-95)     Mask(P          R      mAP50  mAP50-95): 100%|██████████| 1/1 [00:00<00:00,  2.60it/s]"
          ]
        },
        {
          "output_type": "stream",
          "name": "stdout",
          "text": [
            "                   all         15         30      0.997          1      0.995      0.785      0.997          1      0.995      0.588\n"
          ]
        },
        {
          "output_type": "stream",
          "name": "stderr",
          "text": [
            "\n"
          ]
        },
        {
          "output_type": "stream",
          "name": "stdout",
          "text": [
            "\n",
            "      Epoch    GPU_mem   box_loss   seg_loss   cls_loss   dfl_loss  Instances       Size\n"
          ]
        },
        {
          "output_type": "stream",
          "name": "stderr",
          "text": [
            "    151/200      13.3G     0.7688     0.8117     0.5871     0.7944         14       1440: 100%|██████████| 4/4 [00:03<00:00,  1.24it/s]\n",
            "                 Class     Images  Instances      Box(P          R      mAP50  mAP50-95)     Mask(P          R      mAP50  mAP50-95): 100%|██████████| 1/1 [00:00<00:00,  2.29it/s]"
          ]
        },
        {
          "output_type": "stream",
          "name": "stdout",
          "text": [
            "                   all         15         30      0.996          1      0.995      0.775      0.996          1      0.995      0.609\n"
          ]
        },
        {
          "output_type": "stream",
          "name": "stderr",
          "text": [
            "\n"
          ]
        },
        {
          "output_type": "stream",
          "name": "stdout",
          "text": [
            "\n",
            "      Epoch    GPU_mem   box_loss   seg_loss   cls_loss   dfl_loss  Instances       Size\n"
          ]
        },
        {
          "output_type": "stream",
          "name": "stderr",
          "text": [
            "    152/200      13.2G     0.7337     0.8547     0.5635     0.8061         15       1440: 100%|██████████| 4/4 [00:03<00:00,  1.18it/s]\n",
            "                 Class     Images  Instances      Box(P          R      mAP50  mAP50-95)     Mask(P          R      mAP50  mAP50-95): 100%|██████████| 1/1 [00:00<00:00,  2.40it/s]"
          ]
        },
        {
          "output_type": "stream",
          "name": "stdout",
          "text": [
            "                   all         15         30      0.995          1      0.995      0.784      0.995          1      0.995      0.614\n"
          ]
        },
        {
          "output_type": "stream",
          "name": "stderr",
          "text": [
            "\n"
          ]
        },
        {
          "output_type": "stream",
          "name": "stdout",
          "text": [
            "\n",
            "      Epoch    GPU_mem   box_loss   seg_loss   cls_loss   dfl_loss  Instances       Size\n"
          ]
        },
        {
          "output_type": "stream",
          "name": "stderr",
          "text": [
            "    153/200      13.2G      0.782     0.7738     0.6013     0.7952         18       1440: 100%|██████████| 4/4 [00:03<00:00,  1.21it/s]\n",
            "                 Class     Images  Instances      Box(P          R      mAP50  mAP50-95)     Mask(P          R      mAP50  mAP50-95): 100%|██████████| 1/1 [00:00<00:00,  2.27it/s]"
          ]
        },
        {
          "output_type": "stream",
          "name": "stdout",
          "text": [
            "                   all         15         30      0.997          1      0.995      0.775      0.997          1      0.995      0.628\n"
          ]
        },
        {
          "output_type": "stream",
          "name": "stderr",
          "text": [
            "\n"
          ]
        },
        {
          "output_type": "stream",
          "name": "stdout",
          "text": [
            "\n",
            "      Epoch    GPU_mem   box_loss   seg_loss   cls_loss   dfl_loss  Instances       Size\n"
          ]
        },
        {
          "output_type": "stream",
          "name": "stderr",
          "text": [
            "    154/200      13.3G     0.7814     0.8057     0.6131     0.7922         13       1440: 100%|██████████| 4/4 [00:03<00:00,  1.23it/s]\n",
            "                 Class     Images  Instances      Box(P          R      mAP50  mAP50-95)     Mask(P          R      mAP50  mAP50-95): 100%|██████████| 1/1 [00:00<00:00,  1.52it/s]"
          ]
        },
        {
          "output_type": "stream",
          "name": "stdout",
          "text": [
            "                   all         15         30      0.997          1      0.995      0.768      0.997          1      0.995      0.645\n"
          ]
        },
        {
          "output_type": "stream",
          "name": "stderr",
          "text": [
            "\n"
          ]
        },
        {
          "output_type": "stream",
          "name": "stdout",
          "text": [
            "\n",
            "      Epoch    GPU_mem   box_loss   seg_loss   cls_loss   dfl_loss  Instances       Size\n"
          ]
        },
        {
          "output_type": "stream",
          "name": "stderr",
          "text": [
            "    155/200      13.2G     0.7187     0.7218     0.5921     0.7992         10       1440: 100%|██████████| 4/4 [00:03<00:00,  1.24it/s]\n",
            "                 Class     Images  Instances      Box(P          R      mAP50  mAP50-95)     Mask(P          R      mAP50  mAP50-95): 100%|██████████| 1/1 [00:00<00:00,  1.97it/s]"
          ]
        },
        {
          "output_type": "stream",
          "name": "stdout",
          "text": [
            "                   all         15         30      0.997          1      0.995      0.766      0.997          1      0.995      0.636\n"
          ]
        },
        {
          "output_type": "stream",
          "name": "stderr",
          "text": [
            "\n"
          ]
        },
        {
          "output_type": "stream",
          "name": "stdout",
          "text": [
            "\n",
            "      Epoch    GPU_mem   box_loss   seg_loss   cls_loss   dfl_loss  Instances       Size\n"
          ]
        },
        {
          "output_type": "stream",
          "name": "stderr",
          "text": [
            "    156/200      13.6G     0.7282     0.8297     0.5435     0.7912         22       1440: 100%|██████████| 4/4 [00:03<00:00,  1.24it/s]\n",
            "                 Class     Images  Instances      Box(P          R      mAP50  mAP50-95)     Mask(P          R      mAP50  mAP50-95): 100%|██████████| 1/1 [00:00<00:00,  2.14it/s]"
          ]
        },
        {
          "output_type": "stream",
          "name": "stdout",
          "text": [
            "                   all         15         30      0.997          1      0.995      0.773      0.997          1      0.995      0.623\n"
          ]
        },
        {
          "output_type": "stream",
          "name": "stderr",
          "text": [
            "\n"
          ]
        },
        {
          "output_type": "stream",
          "name": "stdout",
          "text": [
            "\n",
            "      Epoch    GPU_mem   box_loss   seg_loss   cls_loss   dfl_loss  Instances       Size\n"
          ]
        },
        {
          "output_type": "stream",
          "name": "stderr",
          "text": [
            "    157/200      13.2G     0.7283     0.8848     0.5523     0.7965          8       1440: 100%|██████████| 4/4 [00:03<00:00,  1.16it/s]\n",
            "                 Class     Images  Instances      Box(P          R      mAP50  mAP50-95)     Mask(P          R      mAP50  mAP50-95): 100%|██████████| 1/1 [00:00<00:00,  2.74it/s]"
          ]
        },
        {
          "output_type": "stream",
          "name": "stdout",
          "text": [
            "                   all         15         30      0.994          1      0.995      0.774      0.994          1      0.995      0.621\n"
          ]
        },
        {
          "output_type": "stream",
          "name": "stderr",
          "text": [
            "\n"
          ]
        },
        {
          "output_type": "stream",
          "name": "stdout",
          "text": [
            "\n",
            "      Epoch    GPU_mem   box_loss   seg_loss   cls_loss   dfl_loss  Instances       Size\n"
          ]
        },
        {
          "output_type": "stream",
          "name": "stderr",
          "text": [
            "    158/200      13.2G     0.7156     0.9339     0.5256     0.7982         12       1440: 100%|██████████| 4/4 [00:03<00:00,  1.25it/s]\n",
            "                 Class     Images  Instances      Box(P          R      mAP50  mAP50-95)     Mask(P          R      mAP50  mAP50-95): 100%|██████████| 1/1 [00:00<00:00,  1.95it/s]"
          ]
        },
        {
          "output_type": "stream",
          "name": "stdout",
          "text": [
            "                   all         15         30       0.99          1      0.995      0.783       0.99          1      0.995      0.628\n"
          ]
        },
        {
          "output_type": "stream",
          "name": "stderr",
          "text": [
            "\n"
          ]
        },
        {
          "output_type": "stream",
          "name": "stdout",
          "text": [
            "\n",
            "      Epoch    GPU_mem   box_loss   seg_loss   cls_loss   dfl_loss  Instances       Size\n"
          ]
        },
        {
          "output_type": "stream",
          "name": "stderr",
          "text": [
            "    159/200      13.5G     0.7582     0.8139     0.5625     0.7814          7       1440: 100%|██████████| 4/4 [00:03<00:00,  1.22it/s]\n",
            "                 Class     Images  Instances      Box(P          R      mAP50  mAP50-95)     Mask(P          R      mAP50  mAP50-95): 100%|██████████| 1/1 [00:00<00:00,  1.63it/s]"
          ]
        },
        {
          "output_type": "stream",
          "name": "stdout",
          "text": [
            "                   all         15         30      0.988          1      0.995      0.749      0.988          1      0.995      0.641\n"
          ]
        },
        {
          "output_type": "stream",
          "name": "stderr",
          "text": [
            "\n"
          ]
        },
        {
          "output_type": "stream",
          "name": "stdout",
          "text": [
            "\n",
            "      Epoch    GPU_mem   box_loss   seg_loss   cls_loss   dfl_loss  Instances       Size\n"
          ]
        },
        {
          "output_type": "stream",
          "name": "stderr",
          "text": [
            "    160/200      13.2G     0.7442     0.8504     0.5498      0.784         19       1440: 100%|██████████| 4/4 [00:03<00:00,  1.27it/s]\n",
            "                 Class     Images  Instances      Box(P          R      mAP50  mAP50-95)     Mask(P          R      mAP50  mAP50-95): 100%|██████████| 1/1 [00:00<00:00,  1.94it/s]"
          ]
        },
        {
          "output_type": "stream",
          "name": "stdout",
          "text": [
            "                   all         15         30      0.987          1      0.995      0.774      0.987          1      0.995      0.621\n"
          ]
        },
        {
          "output_type": "stream",
          "name": "stderr",
          "text": [
            "\n"
          ]
        },
        {
          "output_type": "stream",
          "name": "stdout",
          "text": [
            "\n",
            "      Epoch    GPU_mem   box_loss   seg_loss   cls_loss   dfl_loss  Instances       Size\n"
          ]
        },
        {
          "output_type": "stream",
          "name": "stderr",
          "text": [
            "    161/200      13.4G     0.7454     0.8572     0.5619     0.8103         10       1440: 100%|██████████| 4/4 [00:03<00:00,  1.26it/s]\n",
            "                 Class     Images  Instances      Box(P          R      mAP50  mAP50-95)     Mask(P          R      mAP50  mAP50-95): 100%|██████████| 1/1 [00:00<00:00,  2.55it/s]"
          ]
        },
        {
          "output_type": "stream",
          "name": "stdout",
          "text": [
            "                   all         15         30      0.993          1      0.995      0.768      0.993          1      0.995      0.615\n"
          ]
        },
        {
          "output_type": "stream",
          "name": "stderr",
          "text": [
            "\n"
          ]
        },
        {
          "output_type": "stream",
          "name": "stdout",
          "text": [
            "\n",
            "      Epoch    GPU_mem   box_loss   seg_loss   cls_loss   dfl_loss  Instances       Size\n"
          ]
        },
        {
          "output_type": "stream",
          "name": "stderr",
          "text": [
            "    162/200      13.5G     0.7411     0.7392     0.5608     0.7951         13       1440: 100%|██████████| 4/4 [00:03<00:00,  1.18it/s]\n",
            "                 Class     Images  Instances      Box(P          R      mAP50  mAP50-95)     Mask(P          R      mAP50  mAP50-95): 100%|██████████| 1/1 [00:00<00:00,  2.88it/s]"
          ]
        },
        {
          "output_type": "stream",
          "name": "stdout",
          "text": [
            "                   all         15         30      0.993          1      0.995       0.77      0.993          1      0.995      0.603\n"
          ]
        },
        {
          "output_type": "stream",
          "name": "stderr",
          "text": [
            "\n"
          ]
        },
        {
          "output_type": "stream",
          "name": "stdout",
          "text": [
            "\n",
            "      Epoch    GPU_mem   box_loss   seg_loss   cls_loss   dfl_loss  Instances       Size\n"
          ]
        },
        {
          "output_type": "stream",
          "name": "stderr",
          "text": [
            "    163/200      13.6G     0.7859     0.8732     0.5632     0.8002         15       1440: 100%|██████████| 4/4 [00:03<00:00,  1.22it/s]\n",
            "                 Class     Images  Instances      Box(P          R      mAP50  mAP50-95)     Mask(P          R      mAP50  mAP50-95): 100%|██████████| 1/1 [00:00<00:00,  1.95it/s]"
          ]
        },
        {
          "output_type": "stream",
          "name": "stdout",
          "text": [
            "                   all         15         30      0.994          1      0.995      0.782      0.994          1      0.995      0.593\n"
          ]
        },
        {
          "output_type": "stream",
          "name": "stderr",
          "text": [
            "\n"
          ]
        },
        {
          "output_type": "stream",
          "name": "stdout",
          "text": [
            "\n",
            "      Epoch    GPU_mem   box_loss   seg_loss   cls_loss   dfl_loss  Instances       Size\n"
          ]
        },
        {
          "output_type": "stream",
          "name": "stderr",
          "text": [
            "    164/200      13.4G      0.733     0.7201     0.5338     0.7886         12       1440: 100%|██████████| 4/4 [00:03<00:00,  1.21it/s]\n",
            "                 Class     Images  Instances      Box(P          R      mAP50  mAP50-95)     Mask(P          R      mAP50  mAP50-95): 100%|██████████| 1/1 [00:00<00:00,  1.22it/s]"
          ]
        },
        {
          "output_type": "stream",
          "name": "stdout",
          "text": [
            "                   all         15         30      0.998          1      0.995      0.771      0.998          1      0.995      0.624\n"
          ]
        },
        {
          "output_type": "stream",
          "name": "stderr",
          "text": [
            "\n"
          ]
        },
        {
          "output_type": "stream",
          "name": "stdout",
          "text": [
            "\n",
            "      Epoch    GPU_mem   box_loss   seg_loss   cls_loss   dfl_loss  Instances       Size\n"
          ]
        },
        {
          "output_type": "stream",
          "name": "stderr",
          "text": [
            "    165/200      13.3G     0.7544     0.7937     0.5209     0.8126         18       1440: 100%|██████████| 4/4 [00:03<00:00,  1.20it/s]\n",
            "                 Class     Images  Instances      Box(P          R      mAP50  mAP50-95)     Mask(P          R      mAP50  mAP50-95): 100%|██████████| 1/1 [00:00<00:00,  1.65it/s]"
          ]
        },
        {
          "output_type": "stream",
          "name": "stdout",
          "text": [
            "                   all         15         30      0.998          1      0.995      0.757      0.998          1      0.995      0.627\n"
          ]
        },
        {
          "output_type": "stream",
          "name": "stderr",
          "text": [
            "\n"
          ]
        },
        {
          "output_type": "stream",
          "name": "stdout",
          "text": [
            "\n",
            "      Epoch    GPU_mem   box_loss   seg_loss   cls_loss   dfl_loss  Instances       Size\n"
          ]
        },
        {
          "output_type": "stream",
          "name": "stderr",
          "text": [
            "    166/200      13.3G     0.8706     0.8015     0.6379     0.8061         12       1440: 100%|██████████| 4/4 [00:03<00:00,  1.21it/s]\n",
            "                 Class     Images  Instances      Box(P          R      mAP50  mAP50-95)     Mask(P          R      mAP50  mAP50-95): 100%|██████████| 1/1 [00:00<00:00,  2.93it/s]"
          ]
        },
        {
          "output_type": "stream",
          "name": "stdout",
          "text": [
            "                   all         15         30      0.998          1      0.995      0.742      0.998          1      0.995      0.658\n"
          ]
        },
        {
          "output_type": "stream",
          "name": "stderr",
          "text": [
            "\n"
          ]
        },
        {
          "output_type": "stream",
          "name": "stdout",
          "text": [
            "\n",
            "      Epoch    GPU_mem   box_loss   seg_loss   cls_loss   dfl_loss  Instances       Size\n"
          ]
        },
        {
          "output_type": "stream",
          "name": "stderr",
          "text": [
            "    167/200      13.5G     0.7132     0.7408     0.5757     0.7666          9       1440: 100%|██████████| 4/4 [00:03<00:00,  1.16it/s]\n",
            "                 Class     Images  Instances      Box(P          R      mAP50  mAP50-95)     Mask(P          R      mAP50  mAP50-95): 100%|██████████| 1/1 [00:00<00:00,  2.46it/s]"
          ]
        },
        {
          "output_type": "stream",
          "name": "stdout",
          "text": [
            "                   all         15         30      0.998          1      0.995      0.736      0.998          1      0.995      0.673\n"
          ]
        },
        {
          "output_type": "stream",
          "name": "stderr",
          "text": [
            "\n"
          ]
        },
        {
          "output_type": "stream",
          "name": "stdout",
          "text": [
            "\n",
            "      Epoch    GPU_mem   box_loss   seg_loss   cls_loss   dfl_loss  Instances       Size\n"
          ]
        },
        {
          "output_type": "stream",
          "name": "stderr",
          "text": [
            "    168/200      13.2G     0.8006     0.8478     0.5752     0.8076         24       1440: 100%|██████████| 4/4 [00:03<00:00,  1.19it/s]\n",
            "                 Class     Images  Instances      Box(P          R      mAP50  mAP50-95)     Mask(P          R      mAP50  mAP50-95): 100%|██████████| 1/1 [00:00<00:00,  2.29it/s]"
          ]
        },
        {
          "output_type": "stream",
          "name": "stdout",
          "text": [
            "                   all         15         30      0.998          1      0.995      0.758      0.998          1      0.995      0.638\n"
          ]
        },
        {
          "output_type": "stream",
          "name": "stderr",
          "text": [
            "\n"
          ]
        },
        {
          "output_type": "stream",
          "name": "stdout",
          "text": [
            "\n",
            "      Epoch    GPU_mem   box_loss   seg_loss   cls_loss   dfl_loss  Instances       Size\n"
          ]
        },
        {
          "output_type": "stream",
          "name": "stderr",
          "text": [
            "    169/200      13.4G     0.7327     0.8063     0.5293     0.7916         13       1440: 100%|██████████| 4/4 [00:03<00:00,  1.28it/s]\n",
            "                 Class     Images  Instances      Box(P          R      mAP50  mAP50-95)     Mask(P          R      mAP50  mAP50-95): 100%|██████████| 1/1 [00:00<00:00,  1.31it/s]"
          ]
        },
        {
          "output_type": "stream",
          "name": "stdout",
          "text": [
            "                   all         15         30      0.998          1      0.995      0.759      0.998          1      0.995      0.586\n"
          ]
        },
        {
          "output_type": "stream",
          "name": "stderr",
          "text": [
            "\n"
          ]
        },
        {
          "output_type": "stream",
          "name": "stdout",
          "text": [
            "\n",
            "      Epoch    GPU_mem   box_loss   seg_loss   cls_loss   dfl_loss  Instances       Size\n"
          ]
        },
        {
          "output_type": "stream",
          "name": "stderr",
          "text": [
            "    170/200      13.5G     0.7103     0.6297     0.5742     0.7827         10       1440: 100%|██████████| 4/4 [00:03<00:00,  1.23it/s]\n",
            "                 Class     Images  Instances      Box(P          R      mAP50  mAP50-95)     Mask(P          R      mAP50  mAP50-95): 100%|██████████| 1/1 [00:00<00:00,  2.65it/s]"
          ]
        },
        {
          "output_type": "stream",
          "name": "stdout",
          "text": [
            "                   all         15         30      0.998          1      0.995      0.758      0.998          1      0.995      0.589\n"
          ]
        },
        {
          "output_type": "stream",
          "name": "stderr",
          "text": [
            "\n"
          ]
        },
        {
          "output_type": "stream",
          "name": "stdout",
          "text": [
            "\n",
            "      Epoch    GPU_mem   box_loss   seg_loss   cls_loss   dfl_loss  Instances       Size\n"
          ]
        },
        {
          "output_type": "stream",
          "name": "stderr",
          "text": [
            "    171/200      13.2G     0.6698     0.7855     0.5193     0.7923         13       1440: 100%|██████████| 4/4 [00:03<00:00,  1.16it/s]\n",
            "                 Class     Images  Instances      Box(P          R      mAP50  mAP50-95)     Mask(P          R      mAP50  mAP50-95): 100%|██████████| 1/1 [00:00<00:00,  1.90it/s]"
          ]
        },
        {
          "output_type": "stream",
          "name": "stdout",
          "text": [
            "                   all         15         30      0.998          1      0.995      0.745      0.998          1      0.995      0.608\n"
          ]
        },
        {
          "output_type": "stream",
          "name": "stderr",
          "text": [
            "\n"
          ]
        },
        {
          "output_type": "stream",
          "name": "stdout",
          "text": [
            "\n",
            "      Epoch    GPU_mem   box_loss   seg_loss   cls_loss   dfl_loss  Instances       Size\n"
          ]
        },
        {
          "output_type": "stream",
          "name": "stderr",
          "text": [
            "    172/200      13.5G     0.7767      0.724      0.591     0.7931         19       1440: 100%|██████████| 4/4 [00:03<00:00,  1.16it/s]\n",
            "                 Class     Images  Instances      Box(P          R      mAP50  mAP50-95)     Mask(P          R      mAP50  mAP50-95): 100%|██████████| 1/1 [00:00<00:00,  2.65it/s]"
          ]
        },
        {
          "output_type": "stream",
          "name": "stdout",
          "text": [
            "                   all         15         30      0.998          1      0.995      0.732      0.998          1      0.995      0.635\n"
          ]
        },
        {
          "output_type": "stream",
          "name": "stderr",
          "text": [
            "\n"
          ]
        },
        {
          "output_type": "stream",
          "name": "stdout",
          "text": [
            "\n",
            "      Epoch    GPU_mem   box_loss   seg_loss   cls_loss   dfl_loss  Instances       Size\n"
          ]
        },
        {
          "output_type": "stream",
          "name": "stderr",
          "text": [
            "    173/200      13.2G     0.7196     0.7983     0.5244     0.8019         19       1440: 100%|██████████| 4/4 [00:03<00:00,  1.23it/s]\n",
            "                 Class     Images  Instances      Box(P          R      mAP50  mAP50-95)     Mask(P          R      mAP50  mAP50-95): 100%|██████████| 1/1 [00:00<00:00,  2.08it/s]"
          ]
        },
        {
          "output_type": "stream",
          "name": "stdout",
          "text": [
            "                   all         15         30      0.998          1      0.995      0.748      0.998          1      0.995      0.649\n"
          ]
        },
        {
          "output_type": "stream",
          "name": "stderr",
          "text": [
            "\n"
          ]
        },
        {
          "output_type": "stream",
          "name": "stdout",
          "text": [
            "\n",
            "      Epoch    GPU_mem   box_loss   seg_loss   cls_loss   dfl_loss  Instances       Size\n"
          ]
        },
        {
          "output_type": "stream",
          "name": "stderr",
          "text": [
            "    174/200      13.4G     0.6337     0.6486     0.4916     0.7826         10       1440: 100%|██████████| 4/4 [00:03<00:00,  1.14it/s]\n",
            "                 Class     Images  Instances      Box(P          R      mAP50  mAP50-95)     Mask(P          R      mAP50  mAP50-95): 100%|██████████| 1/1 [00:00<00:00,  1.73it/s]"
          ]
        },
        {
          "output_type": "stream",
          "name": "stdout",
          "text": [
            "                   all         15         30      0.998          1      0.995      0.754      0.998          1      0.995      0.621\n"
          ]
        },
        {
          "output_type": "stream",
          "name": "stderr",
          "text": [
            "\n"
          ]
        },
        {
          "output_type": "stream",
          "name": "stdout",
          "text": [
            "\n",
            "      Epoch    GPU_mem   box_loss   seg_loss   cls_loss   dfl_loss  Instances       Size\n"
          ]
        },
        {
          "output_type": "stream",
          "name": "stderr",
          "text": [
            "    175/200      13.4G     0.6716     0.7733     0.5005     0.7802         20       1440: 100%|██████████| 4/4 [00:03<00:00,  1.21it/s]\n",
            "                 Class     Images  Instances      Box(P          R      mAP50  mAP50-95)     Mask(P          R      mAP50  mAP50-95): 100%|██████████| 1/1 [00:00<00:00,  2.23it/s]"
          ]
        },
        {
          "output_type": "stream",
          "name": "stdout",
          "text": [
            "                   all         15         30      0.998          1      0.995      0.773      0.998          1      0.995      0.605\n"
          ]
        },
        {
          "output_type": "stream",
          "name": "stderr",
          "text": [
            "\n"
          ]
        },
        {
          "output_type": "stream",
          "name": "stdout",
          "text": [
            "\n",
            "      Epoch    GPU_mem   box_loss   seg_loss   cls_loss   dfl_loss  Instances       Size\n"
          ]
        },
        {
          "output_type": "stream",
          "name": "stderr",
          "text": [
            "    176/200      13.5G     0.6568     0.6288     0.5109     0.8027         10       1440: 100%|██████████| 4/4 [00:03<00:00,  1.28it/s]\n",
            "                 Class     Images  Instances      Box(P          R      mAP50  mAP50-95)     Mask(P          R      mAP50  mAP50-95): 100%|██████████| 1/1 [00:00<00:00,  1.94it/s]"
          ]
        },
        {
          "output_type": "stream",
          "name": "stdout",
          "text": [
            "                   all         15         30      0.998          1      0.995      0.773      0.998          1      0.995      0.613\n"
          ]
        },
        {
          "output_type": "stream",
          "name": "stderr",
          "text": [
            "\n"
          ]
        },
        {
          "output_type": "stream",
          "name": "stdout",
          "text": [
            "\n",
            "      Epoch    GPU_mem   box_loss   seg_loss   cls_loss   dfl_loss  Instances       Size\n"
          ]
        },
        {
          "output_type": "stream",
          "name": "stderr",
          "text": [
            "    177/200      13.6G     0.6843      0.781     0.5643     0.7701          8       1440: 100%|██████████| 4/4 [00:03<00:00,  1.08it/s]\n",
            "                 Class     Images  Instances      Box(P          R      mAP50  mAP50-95)     Mask(P          R      mAP50  mAP50-95): 100%|██████████| 1/1 [00:00<00:00,  2.60it/s]"
          ]
        },
        {
          "output_type": "stream",
          "name": "stdout",
          "text": [
            "                   all         15         30      0.998          1      0.995      0.759      0.998          1      0.995      0.634\n"
          ]
        },
        {
          "output_type": "stream",
          "name": "stderr",
          "text": [
            "\n"
          ]
        },
        {
          "output_type": "stream",
          "name": "stdout",
          "text": [
            "\n",
            "      Epoch    GPU_mem   box_loss   seg_loss   cls_loss   dfl_loss  Instances       Size\n"
          ]
        },
        {
          "output_type": "stream",
          "name": "stderr",
          "text": [
            "    178/200      13.4G     0.7218     0.7138     0.5262     0.8023         15       1440: 100%|██████████| 4/4 [00:03<00:00,  1.26it/s]\n",
            "                 Class     Images  Instances      Box(P          R      mAP50  mAP50-95)     Mask(P          R      mAP50  mAP50-95): 100%|██████████| 1/1 [00:00<00:00,  2.04it/s]"
          ]
        },
        {
          "output_type": "stream",
          "name": "stdout",
          "text": [
            "                   all         15         30      0.998          1      0.995      0.739      0.998          1      0.995      0.639\n"
          ]
        },
        {
          "output_type": "stream",
          "name": "stderr",
          "text": [
            "\n"
          ]
        },
        {
          "output_type": "stream",
          "name": "stdout",
          "text": [
            "\n",
            "      Epoch    GPU_mem   box_loss   seg_loss   cls_loss   dfl_loss  Instances       Size\n"
          ]
        },
        {
          "output_type": "stream",
          "name": "stderr",
          "text": [
            "    179/200      13.5G     0.6898     0.7709     0.5139     0.7993         13       1440: 100%|██████████| 4/4 [00:03<00:00,  1.18it/s]\n",
            "                 Class     Images  Instances      Box(P          R      mAP50  mAP50-95)     Mask(P          R      mAP50  mAP50-95): 100%|██████████| 1/1 [00:00<00:00,  1.73it/s]"
          ]
        },
        {
          "output_type": "stream",
          "name": "stdout",
          "text": [
            "                   all         15         30      0.996          1      0.995      0.732      0.996          1      0.995      0.651\n"
          ]
        },
        {
          "output_type": "stream",
          "name": "stderr",
          "text": [
            "\n"
          ]
        },
        {
          "output_type": "stream",
          "name": "stdout",
          "text": [
            "\n",
            "      Epoch    GPU_mem   box_loss   seg_loss   cls_loss   dfl_loss  Instances       Size\n"
          ]
        },
        {
          "output_type": "stream",
          "name": "stderr",
          "text": [
            "    180/200      13.4G     0.6995     0.6925     0.5252     0.7855          6       1440: 100%|██████████| 4/4 [00:03<00:00,  1.27it/s]\n",
            "                 Class     Images  Instances      Box(P          R      mAP50  mAP50-95)     Mask(P          R      mAP50  mAP50-95): 100%|██████████| 1/1 [00:00<00:00,  1.92it/s]"
          ]
        },
        {
          "output_type": "stream",
          "name": "stdout",
          "text": [
            "                   all         15         30      0.995          1      0.995      0.751      0.995          1      0.995      0.629\n"
          ]
        },
        {
          "output_type": "stream",
          "name": "stderr",
          "text": [
            "\n"
          ]
        },
        {
          "output_type": "stream",
          "name": "stdout",
          "text": [
            "\n",
            "      Epoch    GPU_mem   box_loss   seg_loss   cls_loss   dfl_loss  Instances       Size\n"
          ]
        },
        {
          "output_type": "stream",
          "name": "stderr",
          "text": [
            "    181/200      13.4G     0.6779      0.669     0.5078     0.7959         15       1440: 100%|██████████| 4/4 [00:03<00:00,  1.20it/s]\n",
            "                 Class     Images  Instances      Box(P          R      mAP50  mAP50-95)     Mask(P          R      mAP50  mAP50-95): 100%|██████████| 1/1 [00:00<00:00,  2.42it/s]"
          ]
        },
        {
          "output_type": "stream",
          "name": "stdout",
          "text": [
            "                   all         15         30      0.995          1      0.995      0.758      0.995          1      0.995      0.584\n"
          ]
        },
        {
          "output_type": "stream",
          "name": "stderr",
          "text": [
            "\n"
          ]
        },
        {
          "output_type": "stream",
          "name": "stdout",
          "text": [
            "\n",
            "      Epoch    GPU_mem   box_loss   seg_loss   cls_loss   dfl_loss  Instances       Size\n"
          ]
        },
        {
          "output_type": "stream",
          "name": "stderr",
          "text": [
            "    182/200      13.4G     0.7428     0.7358     0.5775     0.7954         13       1440: 100%|██████████| 4/4 [00:03<00:00,  1.17it/s]\n",
            "                 Class     Images  Instances      Box(P          R      mAP50  mAP50-95)     Mask(P          R      mAP50  mAP50-95): 100%|██████████| 1/1 [00:00<00:00,  2.38it/s]"
          ]
        },
        {
          "output_type": "stream",
          "name": "stdout",
          "text": [
            "                   all         15         30      0.995          1      0.995      0.758      0.995          1      0.995      0.581\n"
          ]
        },
        {
          "output_type": "stream",
          "name": "stderr",
          "text": [
            "\n"
          ]
        },
        {
          "output_type": "stream",
          "name": "stdout",
          "text": [
            "\n",
            "      Epoch    GPU_mem   box_loss   seg_loss   cls_loss   dfl_loss  Instances       Size\n"
          ]
        },
        {
          "output_type": "stream",
          "name": "stderr",
          "text": [
            "    183/200      13.4G     0.6833     0.6738       0.51     0.7752         12       1440: 100%|██████████| 4/4 [00:03<00:00,  1.22it/s]\n",
            "                 Class     Images  Instances      Box(P          R      mAP50  mAP50-95)     Mask(P          R      mAP50  mAP50-95): 100%|██████████| 1/1 [00:00<00:00,  2.06it/s]"
          ]
        },
        {
          "output_type": "stream",
          "name": "stdout",
          "text": [
            "                   all         15         30      0.995          1      0.995      0.757      0.995          1      0.995      0.595\n"
          ]
        },
        {
          "output_type": "stream",
          "name": "stderr",
          "text": [
            "\n"
          ]
        },
        {
          "output_type": "stream",
          "name": "stdout",
          "text": [
            "\n",
            "      Epoch    GPU_mem   box_loss   seg_loss   cls_loss   dfl_loss  Instances       Size\n"
          ]
        },
        {
          "output_type": "stream",
          "name": "stderr",
          "text": [
            "    184/200      13.4G     0.6617     0.7646     0.5022     0.7872         20       1440: 100%|██████████| 4/4 [00:03<00:00,  1.16it/s]\n",
            "                 Class     Images  Instances      Box(P          R      mAP50  mAP50-95)     Mask(P          R      mAP50  mAP50-95): 100%|██████████| 1/1 [00:00<00:00,  1.44it/s]"
          ]
        },
        {
          "output_type": "stream",
          "name": "stdout",
          "text": [
            "                   all         15         30      0.995          1      0.995      0.757      0.995          1      0.995      0.591\n"
          ]
        },
        {
          "output_type": "stream",
          "name": "stderr",
          "text": [
            "\n"
          ]
        },
        {
          "output_type": "stream",
          "name": "stdout",
          "text": [
            "\n",
            "      Epoch    GPU_mem   box_loss   seg_loss   cls_loss   dfl_loss  Instances       Size\n"
          ]
        },
        {
          "output_type": "stream",
          "name": "stderr",
          "text": [
            "    185/200      13.4G     0.7173     0.8179     0.5686     0.8082         11       1440: 100%|██████████| 4/4 [00:03<00:00,  1.22it/s]\n",
            "                 Class     Images  Instances      Box(P          R      mAP50  mAP50-95)     Mask(P          R      mAP50  mAP50-95): 100%|██████████| 1/1 [00:00<00:00,  3.32it/s]"
          ]
        },
        {
          "output_type": "stream",
          "name": "stdout",
          "text": [
            "                   all         15         30      0.995          1      0.995      0.757      0.995          1      0.995       0.61\n"
          ]
        },
        {
          "output_type": "stream",
          "name": "stderr",
          "text": [
            "\n"
          ]
        },
        {
          "output_type": "stream",
          "name": "stdout",
          "text": [
            "\n",
            "      Epoch    GPU_mem   box_loss   seg_loss   cls_loss   dfl_loss  Instances       Size\n"
          ]
        },
        {
          "output_type": "stream",
          "name": "stderr",
          "text": [
            "    186/200      13.4G     0.6645     0.7281     0.5014     0.7855         17       1440: 100%|██████████| 4/4 [00:03<00:00,  1.20it/s]\n",
            "                 Class     Images  Instances      Box(P          R      mAP50  mAP50-95)     Mask(P          R      mAP50  mAP50-95): 100%|██████████| 1/1 [00:00<00:00,  2.10it/s]"
          ]
        },
        {
          "output_type": "stream",
          "name": "stdout",
          "text": [
            "                   all         15         30      0.995          1      0.995      0.756      0.995          1      0.995      0.611\n"
          ]
        },
        {
          "output_type": "stream",
          "name": "stderr",
          "text": [
            "\n"
          ]
        },
        {
          "output_type": "stream",
          "name": "stdout",
          "text": [
            "\n",
            "      Epoch    GPU_mem   box_loss   seg_loss   cls_loss   dfl_loss  Instances       Size\n"
          ]
        },
        {
          "output_type": "stream",
          "name": "stderr",
          "text": [
            "    187/200      13.5G     0.6933     0.7868     0.4779     0.7982         13       1440: 100%|██████████| 4/4 [00:03<00:00,  1.16it/s]\n",
            "                 Class     Images  Instances      Box(P          R      mAP50  mAP50-95)     Mask(P          R      mAP50  mAP50-95): 100%|██████████| 1/1 [00:00<00:00,  2.05it/s]"
          ]
        },
        {
          "output_type": "stream",
          "name": "stdout",
          "text": [
            "                   all         15         30      0.996          1      0.995       0.75      0.996          1      0.995       0.62\n"
          ]
        },
        {
          "output_type": "stream",
          "name": "stderr",
          "text": [
            "\n"
          ]
        },
        {
          "output_type": "stream",
          "name": "stdout",
          "text": [
            "\n",
            "      Epoch    GPU_mem   box_loss   seg_loss   cls_loss   dfl_loss  Instances       Size\n"
          ]
        },
        {
          "output_type": "stream",
          "name": "stderr",
          "text": [
            "    188/200      13.3G     0.6662     0.7309     0.4819      0.787         18       1440: 100%|██████████| 4/4 [00:03<00:00,  1.28it/s]\n",
            "                 Class     Images  Instances      Box(P          R      mAP50  mAP50-95)     Mask(P          R      mAP50  mAP50-95): 100%|██████████| 1/1 [00:00<00:00,  2.51it/s]"
          ]
        },
        {
          "output_type": "stream",
          "name": "stdout",
          "text": [
            "                   all         15         30      0.996          1      0.995      0.756      0.996          1      0.995      0.632\n"
          ]
        },
        {
          "output_type": "stream",
          "name": "stderr",
          "text": [
            "\n"
          ]
        },
        {
          "output_type": "stream",
          "name": "stdout",
          "text": [
            "\n",
            "      Epoch    GPU_mem   box_loss   seg_loss   cls_loss   dfl_loss  Instances       Size\n"
          ]
        },
        {
          "output_type": "stream",
          "name": "stderr",
          "text": [
            "    189/200      13.4G     0.6819     0.8146     0.5236     0.7768         10       1440: 100%|██████████| 4/4 [00:03<00:00,  1.18it/s]\n",
            "                 Class     Images  Instances      Box(P          R      mAP50  mAP50-95)     Mask(P          R      mAP50  mAP50-95): 100%|██████████| 1/1 [00:00<00:00,  1.87it/s]"
          ]
        },
        {
          "output_type": "stream",
          "name": "stdout",
          "text": [
            "                   all         15         30      0.996          1      0.995      0.768      0.996          1      0.995      0.639\n"
          ]
        },
        {
          "output_type": "stream",
          "name": "stderr",
          "text": [
            "\n"
          ]
        },
        {
          "output_type": "stream",
          "name": "stdout",
          "text": [
            "\n",
            "      Epoch    GPU_mem   box_loss   seg_loss   cls_loss   dfl_loss  Instances       Size\n"
          ]
        },
        {
          "output_type": "stream",
          "name": "stderr",
          "text": [
            "    190/200      13.5G     0.6804     0.7448     0.5103     0.8155         13       1440: 100%|██████████| 4/4 [00:03<00:00,  1.11it/s]\n",
            "                 Class     Images  Instances      Box(P          R      mAP50  mAP50-95)     Mask(P          R      mAP50  mAP50-95): 100%|██████████| 1/1 [00:00<00:00,  2.53it/s]"
          ]
        },
        {
          "output_type": "stream",
          "name": "stdout",
          "text": [
            "                   all         15         30      0.996          1      0.995      0.754      0.996          1      0.995      0.627\n"
          ]
        },
        {
          "output_type": "stream",
          "name": "stderr",
          "text": [
            "\n"
          ]
        },
        {
          "output_type": "stream",
          "name": "stdout",
          "text": [
            "Closing dataloader mosaic\n",
            "\u001b[34m\u001b[1malbumentations: \u001b[0mBlur(p=0.01, blur_limit=(3, 7)), MedianBlur(p=0.01, blur_limit=(3, 7)), ToGray(p=0.01), CLAHE(p=0.01, clip_limit=(1, 4.0), tile_grid_size=(8, 8))\n",
            "\n",
            "      Epoch    GPU_mem   box_loss   seg_loss   cls_loss   dfl_loss  Instances       Size\n"
          ]
        },
        {
          "output_type": "stream",
          "name": "stderr",
          "text": [
            "    191/200      13.2G     0.7155     0.6124      0.623     0.8042          7       1440: 100%|██████████| 4/4 [00:06<00:00,  1.73s/it]\n",
            "                 Class     Images  Instances      Box(P          R      mAP50  mAP50-95)     Mask(P          R      mAP50  mAP50-95): 100%|██████████| 1/1 [00:01<00:00,  1.34s/it]"
          ]
        },
        {
          "output_type": "stream",
          "name": "stdout",
          "text": [
            "                   all         15         30      0.996          1      0.995      0.764      0.996          1      0.995      0.643\n"
          ]
        },
        {
          "output_type": "stream",
          "name": "stderr",
          "text": [
            "\n"
          ]
        },
        {
          "output_type": "stream",
          "name": "stdout",
          "text": [
            "\n",
            "      Epoch    GPU_mem   box_loss   seg_loss   cls_loss   dfl_loss  Instances       Size\n"
          ]
        },
        {
          "output_type": "stream",
          "name": "stderr",
          "text": [
            "    192/200      13.8G     0.7448     0.7134     0.6503     0.7935          7       1440: 100%|██████████| 4/4 [00:03<00:00,  1.09it/s]\n",
            "                 Class     Images  Instances      Box(P          R      mAP50  mAP50-95)     Mask(P          R      mAP50  mAP50-95): 100%|██████████| 1/1 [00:00<00:00,  2.12it/s]"
          ]
        },
        {
          "output_type": "stream",
          "name": "stdout",
          "text": [
            "                   all         15         30      0.996          1      0.995      0.761      0.996          1      0.995      0.657\n"
          ]
        },
        {
          "output_type": "stream",
          "name": "stderr",
          "text": [
            "\n"
          ]
        },
        {
          "output_type": "stream",
          "name": "stdout",
          "text": [
            "\n",
            "      Epoch    GPU_mem   box_loss   seg_loss   cls_loss   dfl_loss  Instances       Size\n"
          ]
        },
        {
          "output_type": "stream",
          "name": "stderr",
          "text": [
            "    193/200      13.1G     0.6258     0.7363     0.6008     0.7667          6       1440: 100%|██████████| 4/4 [00:03<00:00,  1.17it/s]\n",
            "                 Class     Images  Instances      Box(P          R      mAP50  mAP50-95)     Mask(P          R      mAP50  mAP50-95): 100%|██████████| 1/1 [00:00<00:00,  2.52it/s]"
          ]
        },
        {
          "output_type": "stream",
          "name": "stdout",
          "text": [
            "                   all         15         30      0.996          1      0.995      0.758      0.996          1      0.995      0.662\n"
          ]
        },
        {
          "output_type": "stream",
          "name": "stderr",
          "text": [
            "\n"
          ]
        },
        {
          "output_type": "stream",
          "name": "stdout",
          "text": [
            "\n",
            "      Epoch    GPU_mem   box_loss   seg_loss   cls_loss   dfl_loss  Instances       Size\n"
          ]
        },
        {
          "output_type": "stream",
          "name": "stderr",
          "text": [
            "    194/200      13.1G     0.7429     0.7736     0.6086     0.8135          8       1440: 100%|██████████| 4/4 [00:03<00:00,  1.23it/s]\n",
            "                 Class     Images  Instances      Box(P          R      mAP50  mAP50-95)     Mask(P          R      mAP50  mAP50-95): 100%|██████████| 1/1 [00:00<00:00,  1.86it/s]"
          ]
        },
        {
          "output_type": "stream",
          "name": "stdout",
          "text": [
            "                   all         15         30      0.996          1      0.995      0.754      0.996          1      0.995      0.657\n"
          ]
        },
        {
          "output_type": "stream",
          "name": "stderr",
          "text": [
            "\n"
          ]
        },
        {
          "output_type": "stream",
          "name": "stdout",
          "text": [
            "\n",
            "      Epoch    GPU_mem   box_loss   seg_loss   cls_loss   dfl_loss  Instances       Size\n"
          ]
        },
        {
          "output_type": "stream",
          "name": "stderr",
          "text": [
            "    195/200      13.1G     0.7154     0.6589     0.6325     0.8078          8       1440: 100%|██████████| 4/4 [00:03<00:00,  1.24it/s]\n",
            "                 Class     Images  Instances      Box(P          R      mAP50  mAP50-95)     Mask(P          R      mAP50  mAP50-95): 100%|██████████| 1/1 [00:00<00:00,  1.29it/s]"
          ]
        },
        {
          "output_type": "stream",
          "name": "stdout",
          "text": [
            "                   all         15         30      0.996          1      0.995      0.758      0.996          1      0.995      0.646\n"
          ]
        },
        {
          "output_type": "stream",
          "name": "stderr",
          "text": [
            "\n"
          ]
        },
        {
          "output_type": "stream",
          "name": "stdout",
          "text": [
            "\n",
            "      Epoch    GPU_mem   box_loss   seg_loss   cls_loss   dfl_loss  Instances       Size\n"
          ]
        },
        {
          "output_type": "stream",
          "name": "stderr",
          "text": [
            "    196/200      12.9G      0.689     0.8191      0.639     0.7859          6       1440: 100%|██████████| 4/4 [00:03<00:00,  1.17it/s]\n",
            "                 Class     Images  Instances      Box(P          R      mAP50  mAP50-95)     Mask(P          R      mAP50  mAP50-95): 100%|██████████| 1/1 [00:00<00:00,  2.48it/s]"
          ]
        },
        {
          "output_type": "stream",
          "name": "stdout",
          "text": [
            "                   all         15         30      0.996          1      0.995      0.745      0.996          1      0.995      0.648\n"
          ]
        },
        {
          "output_type": "stream",
          "name": "stderr",
          "text": [
            "\n"
          ]
        },
        {
          "output_type": "stream",
          "name": "stdout",
          "text": [
            "\n",
            "      Epoch    GPU_mem   box_loss   seg_loss   cls_loss   dfl_loss  Instances       Size\n"
          ]
        },
        {
          "output_type": "stream",
          "name": "stderr",
          "text": [
            "    197/200      13.1G     0.7766     0.7661     0.7064     0.7889          5       1440: 100%|██████████| 4/4 [00:03<00:00,  1.26it/s]\n",
            "                 Class     Images  Instances      Box(P          R      mAP50  mAP50-95)     Mask(P          R      mAP50  mAP50-95): 100%|██████████| 1/1 [00:00<00:00,  2.06it/s]"
          ]
        },
        {
          "output_type": "stream",
          "name": "stdout",
          "text": [
            "                   all         15         30      0.997          1      0.995      0.747      0.997          1      0.995      0.642\n"
          ]
        },
        {
          "output_type": "stream",
          "name": "stderr",
          "text": [
            "\n"
          ]
        },
        {
          "output_type": "stream",
          "name": "stdout",
          "text": [
            "\n",
            "      Epoch    GPU_mem   box_loss   seg_loss   cls_loss   dfl_loss  Instances       Size\n"
          ]
        },
        {
          "output_type": "stream",
          "name": "stderr",
          "text": [
            "    198/200      13.1G     0.6479     0.7855     0.5924     0.7968          6       1440: 100%|██████████| 4/4 [00:03<00:00,  1.18it/s]\n",
            "                 Class     Images  Instances      Box(P          R      mAP50  mAP50-95)     Mask(P          R      mAP50  mAP50-95): 100%|██████████| 1/1 [00:00<00:00,  1.61it/s]"
          ]
        },
        {
          "output_type": "stream",
          "name": "stdout",
          "text": [
            "                   all         15         30      0.997          1      0.995      0.752      0.997          1      0.995      0.646\n"
          ]
        },
        {
          "output_type": "stream",
          "name": "stderr",
          "text": [
            "\n"
          ]
        },
        {
          "output_type": "stream",
          "name": "stdout",
          "text": [
            "\n",
            "      Epoch    GPU_mem   box_loss   seg_loss   cls_loss   dfl_loss  Instances       Size\n"
          ]
        },
        {
          "output_type": "stream",
          "name": "stderr",
          "text": [
            "    199/200      13.2G     0.6744       0.73      0.622     0.7812          6       1440: 100%|██████████| 4/4 [00:03<00:00,  1.27it/s]\n",
            "                 Class     Images  Instances      Box(P          R      mAP50  mAP50-95)     Mask(P          R      mAP50  mAP50-95): 100%|██████████| 1/1 [00:00<00:00,  2.28it/s]"
          ]
        },
        {
          "output_type": "stream",
          "name": "stdout",
          "text": [
            "                   all         15         30      0.997          1      0.995      0.758      0.997          1      0.995      0.646\n"
          ]
        },
        {
          "output_type": "stream",
          "name": "stderr",
          "text": [
            "\n"
          ]
        },
        {
          "output_type": "stream",
          "name": "stdout",
          "text": [
            "\n",
            "      Epoch    GPU_mem   box_loss   seg_loss   cls_loss   dfl_loss  Instances       Size\n"
          ]
        },
        {
          "output_type": "stream",
          "name": "stderr",
          "text": [
            "    200/200        13G     0.6304     0.8115     0.5744     0.8267          6       1440: 100%|██████████| 4/4 [00:03<00:00,  1.30it/s]\n",
            "                 Class     Images  Instances      Box(P          R      mAP50  mAP50-95)     Mask(P          R      mAP50  mAP50-95): 100%|██████████| 1/1 [00:00<00:00,  1.98it/s]"
          ]
        },
        {
          "output_type": "stream",
          "name": "stdout",
          "text": [
            "                   all         15         30      0.997          1      0.995      0.766      0.997          1      0.995      0.643\n"
          ]
        },
        {
          "output_type": "stream",
          "name": "stderr",
          "text": [
            "\n"
          ]
        },
        {
          "output_type": "stream",
          "name": "stdout",
          "text": [
            "\n",
            "200 epochs completed in 0.286 hours.\n",
            "Optimizer stripped from runs/segment/train4/weights/last.pt, 6.8MB\n",
            "Optimizer stripped from runs/segment/train4/weights/best.pt, 6.8MB\n",
            "\n",
            "Validating runs/segment/train4/weights/best.pt...\n",
            "Ultralytics YOLOv8.1.29 🚀 Python-3.10.12 torch-2.2.1+cu121 CUDA:0 (Tesla T4, 15102MiB)\n",
            "YOLOv8n-seg summary (fused): 195 layers, 3258259 parameters, 0 gradients, 12.0 GFLOPs\n"
          ]
        },
        {
          "output_type": "stream",
          "name": "stderr",
          "text": [
            "                 Class     Images  Instances      Box(P          R      mAP50  mAP50-95)     Mask(P          R      mAP50  mAP50-95): 100%|██████████| 1/1 [00:00<00:00,  3.09it/s]\n"
          ]
        },
        {
          "output_type": "stream",
          "name": "stdout",
          "text": [
            "                   all         15         30      0.998          1      0.995      0.759      0.998          1      0.995      0.667\n",
            "Speed: 0.5ms preprocess, 3.3ms inference, 0.0ms loss, 2.4ms postprocess per image\n",
            "Results saved to \u001b[1mruns/segment/train4\u001b[0m\n"
          ]
        }
      ]
    },
    {
      "cell_type": "code",
      "source": [
        "project.version(6).deploy(model_type=\"yolov8-seg\", model_path=\"runs/segment/train4\")\n"
      ],
      "metadata": {
        "colab": {
          "base_uri": "https://localhost:8080/"
        },
        "id": "4UNX8OUdA4Nl",
        "outputId": "80059176-165a-4307-e14f-c4335008ae6a"
      },
      "execution_count": null,
      "outputs": [
        {
          "output_type": "stream",
          "name": "stdout",
          "text": [
            "Dependency ultralytics==8.0.196 is required but found version=8.1.29, to fix: `pip install ultralytics==8.0.196`\n",
            "Would you like to continue with the wrong version of ultralytics? y/n: y\n",
            "View the status of your deployment at: https://app.roboflow.com/adrin-garca-domingo/instance-segmentation-wheels/6\n",
            "Share your model with the world at: https://universe.roboflow.com/adrin-garca-domingo/instance-segmentation-wheels/model/6\n"
          ]
        }
      ]
    },
    {
      "cell_type": "markdown",
      "source": [],
      "metadata": {
        "id": "eLygsKx0CHb3"
      }
    },
    {
      "cell_type": "code",
      "source": [
        "import cv2\n",
        "from ultralytics import YOLO\n",
        "\n",
        "# Carga el modelo\n",
        "model = YOLO('best_seg.pt')\n",
        "\n",
        "# Abre el video\n",
        "\n",
        "results = model('Prueba 5.MOV', save=True, max_det=2)\n"
      ],
      "metadata": {
        "colab": {
          "base_uri": "https://localhost:8080/"
        },
        "id": "kO0a6U6ZCIjw",
        "outputId": "9659b2e8-854c-4603-f1eb-a856df2e8162"
      },
      "execution_count": null,
      "outputs": [
        {
          "output_type": "stream",
          "name": "stdout",
          "text": [
            "\n",
            "\n",
            "WARNING ⚠️ inference results will accumulate in RAM unless `stream=True` is passed, causing potential out-of-memory\n",
            "errors for large sources or long-running streams and videos. See https://docs.ultralytics.com/modes/predict/ for help.\n",
            "\n",
            "Example:\n",
            "    results = model(source=..., stream=True)  # generator of Results objects\n",
            "    for r in results:\n",
            "        boxes = r.boxes  # Boxes object for bbox outputs\n",
            "        masks = r.masks  # Masks object for segment masks outputs\n",
            "        probs = r.probs  # Class probabilities for classification outputs\n",
            "\n",
            "video 1/1 (1/279) /content/Prueba 5.MOV: 576x1024 (no detections), 45.4ms\n",
            "video 1/1 (2/279) /content/Prueba 5.MOV: 576x1024 (no detections), 18.6ms\n",
            "video 1/1 (3/279) /content/Prueba 5.MOV: 576x1024 (no detections), 17.9ms\n",
            "video 1/1 (4/279) /content/Prueba 5.MOV: 576x1024 (no detections), 29.4ms\n",
            "video 1/1 (5/279) /content/Prueba 5.MOV: 576x1024 (no detections), 13.0ms\n",
            "video 1/1 (6/279) /content/Prueba 5.MOV: 576x1024 (no detections), 18.5ms\n",
            "video 1/1 (7/279) /content/Prueba 5.MOV: 576x1024 (no detections), 20.8ms\n",
            "video 1/1 (8/279) /content/Prueba 5.MOV: 576x1024 (no detections), 13.9ms\n",
            "video 1/1 (9/279) /content/Prueba 5.MOV: 576x1024 (no detections), 25.2ms\n",
            "video 1/1 (10/279) /content/Prueba 5.MOV: 576x1024 (no detections), 13.0ms\n",
            "video 1/1 (11/279) /content/Prueba 5.MOV: 576x1024 (no detections), 12.3ms\n",
            "video 1/1 (12/279) /content/Prueba 5.MOV: 576x1024 (no detections), 19.5ms\n",
            "video 1/1 (13/279) /content/Prueba 5.MOV: 576x1024 (no detections), 21.9ms\n",
            "video 1/1 (14/279) /content/Prueba 5.MOV: 576x1024 (no detections), 18.9ms\n",
            "video 1/1 (15/279) /content/Prueba 5.MOV: 576x1024 (no detections), 12.5ms\n",
            "video 1/1 (16/279) /content/Prueba 5.MOV: 576x1024 (no detections), 29.3ms\n",
            "video 1/1 (17/279) /content/Prueba 5.MOV: 576x1024 (no detections), 33.2ms\n",
            "video 1/1 (18/279) /content/Prueba 5.MOV: 576x1024 (no detections), 18.9ms\n",
            "video 1/1 (19/279) /content/Prueba 5.MOV: 576x1024 (no detections), 15.7ms\n",
            "video 1/1 (20/279) /content/Prueba 5.MOV: 576x1024 (no detections), 13.2ms\n",
            "video 1/1 (21/279) /content/Prueba 5.MOV: 576x1024 (no detections), 16.3ms\n",
            "video 1/1 (22/279) /content/Prueba 5.MOV: 576x1024 (no detections), 15.4ms\n",
            "video 1/1 (23/279) /content/Prueba 5.MOV: 576x1024 (no detections), 23.8ms\n",
            "video 1/1 (24/279) /content/Prueba 5.MOV: 576x1024 (no detections), 33.2ms\n",
            "video 1/1 (25/279) /content/Prueba 5.MOV: 576x1024 (no detections), 34.5ms\n",
            "video 1/1 (26/279) /content/Prueba 5.MOV: 576x1024 (no detections), 17.1ms\n",
            "video 1/1 (27/279) /content/Prueba 5.MOV: 576x1024 (no detections), 14.2ms\n",
            "video 1/1 (28/279) /content/Prueba 5.MOV: 576x1024 (no detections), 13.4ms\n",
            "video 1/1 (29/279) /content/Prueba 5.MOV: 576x1024 (no detections), 13.4ms\n",
            "video 1/1 (30/279) /content/Prueba 5.MOV: 576x1024 (no detections), 13.8ms\n",
            "video 1/1 (31/279) /content/Prueba 5.MOV: 576x1024 (no detections), 12.8ms\n",
            "video 1/1 (32/279) /content/Prueba 5.MOV: 576x1024 (no detections), 14.1ms\n",
            "video 1/1 (33/279) /content/Prueba 5.MOV: 576x1024 (no detections), 19.5ms\n",
            "video 1/1 (34/279) /content/Prueba 5.MOV: 576x1024 (no detections), 14.7ms\n",
            "video 1/1 (35/279) /content/Prueba 5.MOV: 576x1024 (no detections), 14.4ms\n",
            "video 1/1 (36/279) /content/Prueba 5.MOV: 576x1024 (no detections), 14.1ms\n",
            "video 1/1 (37/279) /content/Prueba 5.MOV: 576x1024 (no detections), 15.0ms\n",
            "video 1/1 (38/279) /content/Prueba 5.MOV: 576x1024 (no detections), 14.0ms\n",
            "video 1/1 (39/279) /content/Prueba 5.MOV: 576x1024 (no detections), 12.2ms\n",
            "video 1/1 (40/279) /content/Prueba 5.MOV: 576x1024 (no detections), 15.4ms\n",
            "video 1/1 (41/279) /content/Prueba 5.MOV: 576x1024 (no detections), 19.6ms\n",
            "video 1/1 (42/279) /content/Prueba 5.MOV: 576x1024 (no detections), 13.7ms\n",
            "video 1/1 (43/279) /content/Prueba 5.MOV: 576x1024 (no detections), 11.8ms\n",
            "video 1/1 (44/279) /content/Prueba 5.MOV: 576x1024 (no detections), 12.4ms\n",
            "video 1/1 (45/279) /content/Prueba 5.MOV: 576x1024 (no detections), 14.8ms\n",
            "video 1/1 (46/279) /content/Prueba 5.MOV: 576x1024 (no detections), 13.8ms\n",
            "video 1/1 (47/279) /content/Prueba 5.MOV: 576x1024 (no detections), 14.1ms\n",
            "video 1/1 (48/279) /content/Prueba 5.MOV: 576x1024 (no detections), 13.1ms\n",
            "video 1/1 (49/279) /content/Prueba 5.MOV: 576x1024 (no detections), 13.5ms\n",
            "video 1/1 (50/279) /content/Prueba 5.MOV: 576x1024 (no detections), 15.0ms\n",
            "video 1/1 (51/279) /content/Prueba 5.MOV: 576x1024 (no detections), 14.2ms\n",
            "video 1/1 (52/279) /content/Prueba 5.MOV: 576x1024 (no detections), 16.6ms\n",
            "video 1/1 (53/279) /content/Prueba 5.MOV: 576x1024 (no detections), 16.1ms\n",
            "video 1/1 (54/279) /content/Prueba 5.MOV: 576x1024 (no detections), 13.8ms\n",
            "video 1/1 (55/279) /content/Prueba 5.MOV: 576x1024 (no detections), 18.6ms\n",
            "video 1/1 (56/279) /content/Prueba 5.MOV: 576x1024 (no detections), 13.4ms\n",
            "video 1/1 (57/279) /content/Prueba 5.MOV: 576x1024 (no detections), 16.1ms\n",
            "video 1/1 (58/279) /content/Prueba 5.MOV: 576x1024 (no detections), 13.8ms\n",
            "video 1/1 (59/279) /content/Prueba 5.MOV: 576x1024 (no detections), 13.6ms\n",
            "video 1/1 (60/279) /content/Prueba 5.MOV: 576x1024 (no detections), 14.8ms\n",
            "video 1/1 (61/279) /content/Prueba 5.MOV: 576x1024 (no detections), 12.0ms\n",
            "video 1/1 (62/279) /content/Prueba 5.MOV: 576x1024 (no detections), 16.6ms\n",
            "video 1/1 (63/279) /content/Prueba 5.MOV: 576x1024 (no detections), 22.7ms\n",
            "video 1/1 (64/279) /content/Prueba 5.MOV: 576x1024 (no detections), 13.3ms\n",
            "video 1/1 (65/279) /content/Prueba 5.MOV: 576x1024 (no detections), 14.3ms\n",
            "video 1/1 (66/279) /content/Prueba 5.MOV: 576x1024 1 left, 11.9ms\n",
            "video 1/1 (67/279) /content/Prueba 5.MOV: 576x1024 1 right, 13.8ms\n",
            "video 1/1 (68/279) /content/Prueba 5.MOV: 576x1024 1 left, 13.3ms\n",
            "video 1/1 (69/279) /content/Prueba 5.MOV: 576x1024 (no detections), 14.3ms\n",
            "video 1/1 (70/279) /content/Prueba 5.MOV: 576x1024 (no detections), 11.8ms\n",
            "video 1/1 (71/279) /content/Prueba 5.MOV: 576x1024 (no detections), 14.7ms\n",
            "video 1/1 (72/279) /content/Prueba 5.MOV: 576x1024 1 right, 17.3ms\n",
            "video 1/1 (73/279) /content/Prueba 5.MOV: 576x1024 (no detections), 13.4ms\n",
            "video 1/1 (74/279) /content/Prueba 5.MOV: 576x1024 (no detections), 14.0ms\n",
            "video 1/1 (75/279) /content/Prueba 5.MOV: 576x1024 1 right, 13.6ms\n",
            "video 1/1 (76/279) /content/Prueba 5.MOV: 576x1024 2 rights, 17.3ms\n",
            "video 1/1 (77/279) /content/Prueba 5.MOV: 576x1024 2 rights, 12.0ms\n",
            "video 1/1 (78/279) /content/Prueba 5.MOV: 576x1024 1 left, 1 right, 14.2ms\n",
            "video 1/1 (79/279) /content/Prueba 5.MOV: 576x1024 2 rights, 16.3ms\n",
            "video 1/1 (80/279) /content/Prueba 5.MOV: 576x1024 2 rights, 14.3ms\n",
            "video 1/1 (81/279) /content/Prueba 5.MOV: 576x1024 2 rights, 14.2ms\n",
            "video 1/1 (82/279) /content/Prueba 5.MOV: 576x1024 2 rights, 14.4ms\n",
            "video 1/1 (83/279) /content/Prueba 5.MOV: 576x1024 2 rights, 14.2ms\n",
            "video 1/1 (84/279) /content/Prueba 5.MOV: 576x1024 2 rights, 13.8ms\n",
            "video 1/1 (85/279) /content/Prueba 5.MOV: 576x1024 2 rights, 11.5ms\n",
            "video 1/1 (86/279) /content/Prueba 5.MOV: 576x1024 2 rights, 16.6ms\n",
            "video 1/1 (87/279) /content/Prueba 5.MOV: 576x1024 2 rights, 13.3ms\n",
            "video 1/1 (88/279) /content/Prueba 5.MOV: 576x1024 2 rights, 13.7ms\n",
            "video 1/1 (89/279) /content/Prueba 5.MOV: 576x1024 2 rights, 13.4ms\n",
            "video 1/1 (90/279) /content/Prueba 5.MOV: 576x1024 2 rights, 20.0ms\n",
            "video 1/1 (91/279) /content/Prueba 5.MOV: 576x1024 2 rights, 11.4ms\n",
            "video 1/1 (92/279) /content/Prueba 5.MOV: 576x1024 2 rights, 13.4ms\n",
            "video 1/1 (93/279) /content/Prueba 5.MOV: 576x1024 2 rights, 14.1ms\n",
            "video 1/1 (94/279) /content/Prueba 5.MOV: 576x1024 1 left, 1 right, 13.9ms\n",
            "video 1/1 (95/279) /content/Prueba 5.MOV: 576x1024 2 rights, 11.6ms\n",
            "video 1/1 (96/279) /content/Prueba 5.MOV: 576x1024 1 left, 1 right, 12.1ms\n",
            "video 1/1 (97/279) /content/Prueba 5.MOV: 576x1024 2 rights, 14.1ms\n",
            "video 1/1 (98/279) /content/Prueba 5.MOV: 576x1024 2 rights, 14.1ms\n",
            "video 1/1 (99/279) /content/Prueba 5.MOV: 576x1024 2 rights, 20.8ms\n",
            "video 1/1 (100/279) /content/Prueba 5.MOV: 576x1024 2 rights, 17.3ms\n",
            "video 1/1 (101/279) /content/Prueba 5.MOV: 576x1024 1 left, 1 right, 14.5ms\n",
            "video 1/1 (102/279) /content/Prueba 5.MOV: 576x1024 2 rights, 14.5ms\n",
            "video 1/1 (103/279) /content/Prueba 5.MOV: 576x1024 2 rights, 13.8ms\n",
            "video 1/1 (104/279) /content/Prueba 5.MOV: 576x1024 2 rights, 15.3ms\n",
            "video 1/1 (105/279) /content/Prueba 5.MOV: 576x1024 2 rights, 14.2ms\n",
            "video 1/1 (106/279) /content/Prueba 5.MOV: 576x1024 1 left, 1 right, 16.9ms\n",
            "video 1/1 (107/279) /content/Prueba 5.MOV: 576x1024 1 left, 1 right, 12.1ms\n",
            "video 1/1 (108/279) /content/Prueba 5.MOV: 576x1024 1 left, 1 right, 14.8ms\n",
            "video 1/1 (109/279) /content/Prueba 5.MOV: 576x1024 1 right, 13.9ms\n",
            "video 1/1 (110/279) /content/Prueba 5.MOV: 576x1024 1 left, 1 right, 14.7ms\n",
            "video 1/1 (111/279) /content/Prueba 5.MOV: 576x1024 1 left, 1 right, 11.5ms\n",
            "video 1/1 (112/279) /content/Prueba 5.MOV: 576x1024 1 left, 1 right, 14.0ms\n",
            "video 1/1 (113/279) /content/Prueba 5.MOV: 576x1024 1 left, 1 right, 14.8ms\n",
            "video 1/1 (114/279) /content/Prueba 5.MOV: 576x1024 1 left, 1 right, 14.6ms\n",
            "video 1/1 (115/279) /content/Prueba 5.MOV: 576x1024 1 right, 12.8ms\n",
            "video 1/1 (116/279) /content/Prueba 5.MOV: 576x1024 1 right, 16.7ms\n",
            "video 1/1 (117/279) /content/Prueba 5.MOV: 576x1024 1 left, 1 right, 13.0ms\n",
            "video 1/1 (118/279) /content/Prueba 5.MOV: 576x1024 1 left, 1 right, 14.7ms\n",
            "video 1/1 (119/279) /content/Prueba 5.MOV: 576x1024 1 left, 1 right, 13.9ms\n",
            "video 1/1 (120/279) /content/Prueba 5.MOV: 576x1024 1 left, 1 right, 13.9ms\n",
            "video 1/1 (121/279) /content/Prueba 5.MOV: 576x1024 2 rights, 14.0ms\n",
            "video 1/1 (122/279) /content/Prueba 5.MOV: 576x1024 2 rights, 12.1ms\n",
            "video 1/1 (123/279) /content/Prueba 5.MOV: 576x1024 1 right, 14.0ms\n",
            "video 1/1 (124/279) /content/Prueba 5.MOV: 576x1024 1 right, 13.4ms\n",
            "video 1/1 (125/279) /content/Prueba 5.MOV: 576x1024 1 right, 14.2ms\n",
            "video 1/1 (126/279) /content/Prueba 5.MOV: 576x1024 1 left, 1 right, 12.7ms\n",
            "video 1/1 (127/279) /content/Prueba 5.MOV: 576x1024 1 right, 13.4ms\n",
            "video 1/1 (128/279) /content/Prueba 5.MOV: 576x1024 1 right, 13.1ms\n",
            "video 1/1 (129/279) /content/Prueba 5.MOV: 576x1024 1 left, 1 right, 11.6ms\n",
            "video 1/1 (130/279) /content/Prueba 5.MOV: 576x1024 1 left, 1 right, 11.4ms\n",
            "video 1/1 (131/279) /content/Prueba 5.MOV: 576x1024 1 left, 1 right, 13.0ms\n",
            "video 1/1 (132/279) /content/Prueba 5.MOV: 576x1024 1 left, 1 right, 13.7ms\n",
            "video 1/1 (133/279) /content/Prueba 5.MOV: 576x1024 1 left, 1 right, 12.1ms\n",
            "video 1/1 (134/279) /content/Prueba 5.MOV: 576x1024 1 left, 1 right, 13.3ms\n",
            "video 1/1 (135/279) /content/Prueba 5.MOV: 576x1024 1 left, 1 right, 13.5ms\n",
            "video 1/1 (136/279) /content/Prueba 5.MOV: 576x1024 1 left, 1 right, 13.8ms\n",
            "video 1/1 (137/279) /content/Prueba 5.MOV: 576x1024 1 right, 12.7ms\n",
            "video 1/1 (138/279) /content/Prueba 5.MOV: 576x1024 1 left, 1 right, 17.9ms\n",
            "video 1/1 (139/279) /content/Prueba 5.MOV: 576x1024 1 left, 1 right, 13.6ms\n",
            "video 1/1 (140/279) /content/Prueba 5.MOV: 576x1024 1 left, 1 right, 14.0ms\n",
            "video 1/1 (141/279) /content/Prueba 5.MOV: 576x1024 1 left, 1 right, 12.4ms\n",
            "video 1/1 (142/279) /content/Prueba 5.MOV: 576x1024 1 left, 1 right, 17.0ms\n",
            "video 1/1 (143/279) /content/Prueba 5.MOV: 576x1024 2 rights, 13.8ms\n",
            "video 1/1 (144/279) /content/Prueba 5.MOV: 576x1024 1 right, 13.9ms\n",
            "video 1/1 (145/279) /content/Prueba 5.MOV: 576x1024 1 right, 14.1ms\n",
            "video 1/1 (146/279) /content/Prueba 5.MOV: 576x1024 1 right, 12.1ms\n",
            "video 1/1 (147/279) /content/Prueba 5.MOV: 576x1024 2 rights, 13.1ms\n",
            "video 1/1 (148/279) /content/Prueba 5.MOV: 576x1024 1 left, 1 right, 12.8ms\n",
            "video 1/1 (149/279) /content/Prueba 5.MOV: 576x1024 1 right, 14.5ms\n",
            "video 1/1 (150/279) /content/Prueba 5.MOV: 576x1024 1 left, 1 right, 13.8ms\n",
            "video 1/1 (151/279) /content/Prueba 5.MOV: 576x1024 2 rights, 13.1ms\n",
            "video 1/1 (152/279) /content/Prueba 5.MOV: 576x1024 2 rights, 13.7ms\n",
            "video 1/1 (153/279) /content/Prueba 5.MOV: 576x1024 1 left, 1 right, 13.7ms\n",
            "video 1/1 (154/279) /content/Prueba 5.MOV: 576x1024 2 rights, 13.7ms\n",
            "video 1/1 (155/279) /content/Prueba 5.MOV: 576x1024 1 left, 1 right, 12.8ms\n",
            "video 1/1 (156/279) /content/Prueba 5.MOV: 576x1024 1 left, 1 right, 11.5ms\n",
            "video 1/1 (157/279) /content/Prueba 5.MOV: 576x1024 1 left, 1 right, 13.7ms\n",
            "video 1/1 (158/279) /content/Prueba 5.MOV: 576x1024 1 left, 1 right, 13.9ms\n",
            "video 1/1 (159/279) /content/Prueba 5.MOV: 576x1024 2 rights, 12.7ms\n",
            "video 1/1 (160/279) /content/Prueba 5.MOV: 576x1024 1 left, 1 right, 13.7ms\n",
            "video 1/1 (161/279) /content/Prueba 5.MOV: 576x1024 1 left, 1 right, 13.5ms\n",
            "video 1/1 (162/279) /content/Prueba 5.MOV: 576x1024 1 left, 1 right, 13.5ms\n",
            "video 1/1 (163/279) /content/Prueba 5.MOV: 576x1024 1 left, 1 right, 14.6ms\n",
            "video 1/1 (164/279) /content/Prueba 5.MOV: 576x1024 2 rights, 15.2ms\n",
            "video 1/1 (165/279) /content/Prueba 5.MOV: 576x1024 1 left, 1 right, 13.8ms\n",
            "video 1/1 (166/279) /content/Prueba 5.MOV: 576x1024 2 rights, 13.4ms\n",
            "video 1/1 (167/279) /content/Prueba 5.MOV: 576x1024 2 rights, 11.8ms\n",
            "video 1/1 (168/279) /content/Prueba 5.MOV: 576x1024 1 right, 14.7ms\n",
            "video 1/1 (169/279) /content/Prueba 5.MOV: 576x1024 2 rights, 15.8ms\n",
            "video 1/1 (170/279) /content/Prueba 5.MOV: 576x1024 1 left, 1 right, 16.5ms\n",
            "video 1/1 (171/279) /content/Prueba 5.MOV: 576x1024 1 right, 21.2ms\n",
            "video 1/1 (172/279) /content/Prueba 5.MOV: 576x1024 2 rights, 17.9ms\n",
            "video 1/1 (173/279) /content/Prueba 5.MOV: 576x1024 1 right, 25.6ms\n",
            "video 1/1 (174/279) /content/Prueba 5.MOV: 576x1024 1 left, 1 right, 16.0ms\n",
            "video 1/1 (175/279) /content/Prueba 5.MOV: 576x1024 1 right, 13.2ms\n",
            "video 1/1 (176/279) /content/Prueba 5.MOV: 576x1024 1 right, 13.2ms\n",
            "video 1/1 (177/279) /content/Prueba 5.MOV: 576x1024 2 rights, 13.4ms\n",
            "video 1/1 (178/279) /content/Prueba 5.MOV: 576x1024 1 right, 12.0ms\n",
            "video 1/1 (179/279) /content/Prueba 5.MOV: 576x1024 2 rights, 20.0ms\n",
            "video 1/1 (180/279) /content/Prueba 5.MOV: 576x1024 2 rights, 38.9ms\n",
            "video 1/1 (181/279) /content/Prueba 5.MOV: 576x1024 2 rights, 13.0ms\n",
            "video 1/1 (182/279) /content/Prueba 5.MOV: 576x1024 2 rights, 16.2ms\n",
            "video 1/1 (183/279) /content/Prueba 5.MOV: 576x1024 1 right, 12.6ms\n",
            "video 1/1 (184/279) /content/Prueba 5.MOV: 576x1024 2 rights, 18.6ms\n",
            "video 1/1 (185/279) /content/Prueba 5.MOV: 576x1024 2 rights, 22.7ms\n",
            "video 1/1 (186/279) /content/Prueba 5.MOV: 576x1024 1 right, 13.8ms\n",
            "video 1/1 (187/279) /content/Prueba 5.MOV: 576x1024 2 rights, 18.6ms\n",
            "video 1/1 (188/279) /content/Prueba 5.MOV: 576x1024 1 right, 22.5ms\n",
            "video 1/1 (189/279) /content/Prueba 5.MOV: 576x1024 1 right, 12.6ms\n",
            "video 1/1 (190/279) /content/Prueba 5.MOV: 576x1024 2 rights, 14.3ms\n",
            "video 1/1 (191/279) /content/Prueba 5.MOV: 576x1024 1 right, 20.7ms\n",
            "video 1/1 (192/279) /content/Prueba 5.MOV: 576x1024 2 rights, 30.1ms\n",
            "video 1/1 (193/279) /content/Prueba 5.MOV: 576x1024 1 right, 18.2ms\n",
            "video 1/1 (194/279) /content/Prueba 5.MOV: 576x1024 1 right, 13.4ms\n",
            "video 1/1 (195/279) /content/Prueba 5.MOV: 576x1024 2 rights, 13.0ms\n",
            "video 1/1 (196/279) /content/Prueba 5.MOV: 576x1024 (no detections), 13.6ms\n",
            "video 1/1 (197/279) /content/Prueba 5.MOV: 576x1024 1 right, 13.6ms\n",
            "video 1/1 (198/279) /content/Prueba 5.MOV: 576x1024 1 right, 18.1ms\n",
            "video 1/1 (199/279) /content/Prueba 5.MOV: 576x1024 1 right, 13.7ms\n",
            "video 1/1 (200/279) /content/Prueba 5.MOV: 576x1024 1 right, 13.8ms\n",
            "video 1/1 (201/279) /content/Prueba 5.MOV: 576x1024 2 rights, 12.5ms\n",
            "video 1/1 (202/279) /content/Prueba 5.MOV: 576x1024 1 right, 13.4ms\n",
            "video 1/1 (203/279) /content/Prueba 5.MOV: 576x1024 1 right, 13.3ms\n",
            "video 1/1 (204/279) /content/Prueba 5.MOV: 576x1024 1 right, 15.5ms\n",
            "video 1/1 (205/279) /content/Prueba 5.MOV: 576x1024 1 right, 13.9ms\n",
            "video 1/1 (206/279) /content/Prueba 5.MOV: 576x1024 1 right, 12.5ms\n",
            "video 1/1 (207/279) /content/Prueba 5.MOV: 576x1024 1 left, 1 right, 12.9ms\n",
            "video 1/1 (208/279) /content/Prueba 5.MOV: 576x1024 1 right, 12.4ms\n",
            "video 1/1 (209/279) /content/Prueba 5.MOV: 576x1024 1 left, 1 right, 14.5ms\n",
            "video 1/1 (210/279) /content/Prueba 5.MOV: 576x1024 1 right, 13.7ms\n",
            "video 1/1 (211/279) /content/Prueba 5.MOV: 576x1024 1 left, 1 right, 14.0ms\n",
            "video 1/1 (212/279) /content/Prueba 5.MOV: 576x1024 2 rights, 14.0ms\n",
            "video 1/1 (213/279) /content/Prueba 5.MOV: 576x1024 1 right, 14.0ms\n",
            "video 1/1 (214/279) /content/Prueba 5.MOV: 576x1024 1 left, 1 right, 13.8ms\n",
            "video 1/1 (215/279) /content/Prueba 5.MOV: 576x1024 1 left, 1 right, 14.0ms\n",
            "video 1/1 (216/279) /content/Prueba 5.MOV: 576x1024 1 left, 1 right, 12.1ms\n",
            "video 1/1 (217/279) /content/Prueba 5.MOV: 576x1024 2 rights, 14.0ms\n",
            "video 1/1 (218/279) /content/Prueba 5.MOV: 576x1024 1 right, 13.4ms\n",
            "video 1/1 (219/279) /content/Prueba 5.MOV: 576x1024 1 right, 11.8ms\n",
            "video 1/1 (220/279) /content/Prueba 5.MOV: 576x1024 2 rights, 12.5ms\n",
            "video 1/1 (221/279) /content/Prueba 5.MOV: 576x1024 1 left, 1 right, 15.6ms\n",
            "video 1/1 (222/279) /content/Prueba 5.MOV: 576x1024 2 rights, 13.3ms\n",
            "video 1/1 (223/279) /content/Prueba 5.MOV: 576x1024 2 rights, 14.0ms\n",
            "video 1/1 (224/279) /content/Prueba 5.MOV: 576x1024 1 left, 1 right, 12.4ms\n",
            "video 1/1 (225/279) /content/Prueba 5.MOV: 576x1024 2 rights, 23.1ms\n",
            "video 1/1 (226/279) /content/Prueba 5.MOV: 576x1024 1 right, 13.4ms\n",
            "video 1/1 (227/279) /content/Prueba 5.MOV: 576x1024 1 left, 1 right, 14.3ms\n",
            "video 1/1 (228/279) /content/Prueba 5.MOV: 576x1024 2 rights, 11.9ms\n",
            "video 1/1 (229/279) /content/Prueba 5.MOV: 576x1024 1 left, 1 right, 14.0ms\n",
            "video 1/1 (230/279) /content/Prueba 5.MOV: 576x1024 1 left, 1 right, 13.9ms\n",
            "video 1/1 (231/279) /content/Prueba 5.MOV: 576x1024 1 left, 1 right, 14.1ms\n",
            "video 1/1 (232/279) /content/Prueba 5.MOV: 576x1024 1 left, 1 right, 11.6ms\n",
            "video 1/1 (233/279) /content/Prueba 5.MOV: 576x1024 1 left, 1 right, 17.9ms\n",
            "video 1/1 (234/279) /content/Prueba 5.MOV: 576x1024 1 left, 1 right, 14.2ms\n",
            "video 1/1 (235/279) /content/Prueba 5.MOV: 576x1024 1 left, 1 right, 14.1ms\n",
            "video 1/1 (236/279) /content/Prueba 5.MOV: 576x1024 1 left, 1 right, 13.9ms\n",
            "video 1/1 (237/279) /content/Prueba 5.MOV: 576x1024 1 left, 1 right, 13.6ms\n",
            "video 1/1 (238/279) /content/Prueba 5.MOV: 576x1024 2 rights, 11.4ms\n",
            "video 1/1 (239/279) /content/Prueba 5.MOV: 576x1024 1 left, 1 right, 14.9ms\n",
            "video 1/1 (240/279) /content/Prueba 5.MOV: 576x1024 1 right, 13.4ms\n",
            "video 1/1 (241/279) /content/Prueba 5.MOV: 576x1024 2 rights, 14.2ms\n",
            "video 1/1 (242/279) /content/Prueba 5.MOV: 576x1024 1 left, 1 right, 12.3ms\n",
            "video 1/1 (243/279) /content/Prueba 5.MOV: 576x1024 2 rights, 15.3ms\n",
            "video 1/1 (244/279) /content/Prueba 5.MOV: 576x1024 1 left, 1 right, 14.4ms\n",
            "video 1/1 (245/279) /content/Prueba 5.MOV: 576x1024 2 rights, 14.7ms\n",
            "video 1/1 (246/279) /content/Prueba 5.MOV: 576x1024 2 rights, 13.6ms\n",
            "video 1/1 (247/279) /content/Prueba 5.MOV: 576x1024 2 rights, 14.0ms\n",
            "video 1/1 (248/279) /content/Prueba 5.MOV: 576x1024 2 rights, 14.0ms\n",
            "video 1/1 (249/279) /content/Prueba 5.MOV: 576x1024 1 left, 1 right, 14.7ms\n",
            "video 1/1 (250/279) /content/Prueba 5.MOV: 576x1024 2 rights, 15.0ms\n",
            "video 1/1 (251/279) /content/Prueba 5.MOV: 576x1024 2 rights, 13.8ms\n",
            "video 1/1 (252/279) /content/Prueba 5.MOV: 576x1024 2 rights, 14.7ms\n",
            "video 1/1 (253/279) /content/Prueba 5.MOV: 576x1024 2 rights, 14.2ms\n",
            "video 1/1 (254/279) /content/Prueba 5.MOV: 576x1024 1 left, 1 right, 12.5ms\n",
            "video 1/1 (255/279) /content/Prueba 5.MOV: 576x1024 1 right, 13.7ms\n",
            "video 1/1 (256/279) /content/Prueba 5.MOV: 576x1024 2 rights, 13.7ms\n",
            "video 1/1 (257/279) /content/Prueba 5.MOV: 576x1024 2 rights, 11.4ms\n",
            "video 1/1 (258/279) /content/Prueba 5.MOV: 576x1024 2 rights, 12.0ms\n",
            "video 1/1 (259/279) /content/Prueba 5.MOV: 576x1024 1 right, 13.0ms\n",
            "video 1/1 (260/279) /content/Prueba 5.MOV: 576x1024 1 right, 13.7ms\n",
            "video 1/1 (261/279) /content/Prueba 5.MOV: 576x1024 1 left, 14.3ms\n",
            "video 1/1 (262/279) /content/Prueba 5.MOV: 576x1024 1 left, 1 right, 16.7ms\n",
            "video 1/1 (263/279) /content/Prueba 5.MOV: 576x1024 1 left, 13.7ms\n",
            "video 1/1 (264/279) /content/Prueba 5.MOV: 576x1024 (no detections), 13.8ms\n",
            "video 1/1 (265/279) /content/Prueba 5.MOV: 576x1024 1 right, 14.5ms\n",
            "video 1/1 (266/279) /content/Prueba 5.MOV: 576x1024 1 right, 13.7ms\n",
            "video 1/1 (267/279) /content/Prueba 5.MOV: 576x1024 2 rights, 13.0ms\n",
            "video 1/1 (268/279) /content/Prueba 5.MOV: 576x1024 (no detections), 11.8ms\n",
            "video 1/1 (269/279) /content/Prueba 5.MOV: 576x1024 (no detections), 13.4ms\n",
            "video 1/1 (270/279) /content/Prueba 5.MOV: 576x1024 1 right, 14.2ms\n",
            "video 1/1 (271/279) /content/Prueba 5.MOV: 576x1024 (no detections), 14.7ms\n",
            "video 1/1 (272/279) /content/Prueba 5.MOV: 576x1024 1 right, 13.8ms\n",
            "video 1/1 (273/279) /content/Prueba 5.MOV: 576x1024 1 right, 14.3ms\n",
            "video 1/1 (274/279) /content/Prueba 5.MOV: 576x1024 1 left, 15.7ms\n",
            "video 1/1 (275/279) /content/Prueba 5.MOV: 576x1024 1 right, 12.7ms\n",
            "video 1/1 (276/279) /content/Prueba 5.MOV: 576x1024 1 right, 13.7ms\n",
            "video 1/1 (277/279) /content/Prueba 5.MOV: 576x1024 1 right, 12.5ms\n",
            "video 1/1 (278/279) /content/Prueba 5.MOV: 576x1024 (no detections), 13.1ms\n",
            "video 1/1 (279/279) /content/Prueba 5.MOV: 576x1024 (no detections), 11.4ms\n",
            "Speed: 8.4ms preprocess, 15.1ms inference, 2.1ms postprocess per image at shape (1, 3, 576, 1024)\n",
            "Results saved to \u001b[1mruns/segment/predict3\u001b[0m\n"
          ]
        }
      ]
    },
    {
      "cell_type": "code",
      "source": [
        "import cv2\n",
        "from ultralytics import YOLO\n",
        "\n",
        "# Load the YOLOv8 model\n",
        "model = YOLO('best_seg.pt')\n",
        "\n",
        "# Open the video file\n",
        "video_path = \"Prueba 5.MOV\"\n",
        "cap = cv2.VideoCapture(video_path)\n",
        "\n",
        "# Get the video dimensions\n",
        "frame_width = int(cap.get(3))\n",
        "frame_height = int(cap.get(4))\n",
        "\n",
        "# Create a VideoWriter object to save the output video\n",
        "out = cv2.VideoWriter('output.avi', cv2.VideoWriter_fourcc('M','J','P','G'), 10, (frame_width, frame_height))\n",
        "\n",
        "# Loop through the video frames\n",
        "while cap.isOpened():\n",
        "    # Read a frame from the video\n",
        "    success, frame = cap.read()\n",
        "\n",
        "    if success:\n",
        "        # Run YOLOv8 tracking on the frame, persisting tracks between frames\n",
        "        results = model.track(frame, persist=True)\n",
        "\n",
        "        # Visualize the results on the frame\n",
        "        annotated_frame = results[0].plot()\n",
        "\n",
        "        # Write the annotated frame to the output video\n",
        "        out.write(annotated_frame)\n",
        "    else:\n",
        "        # Break the loop if the end of the video is reached\n",
        "        break\n",
        "\n",
        "# Release the video capture and writer objects\n",
        "cap.release()\n",
        "out.release()\n"
      ],
      "metadata": {
        "colab": {
          "base_uri": "https://localhost:8080/"
        },
        "id": "IoYwL87hbWE1",
        "outputId": "62a9eebd-8dd5-4021-b994-30c787fcfd34"
      },
      "execution_count": null,
      "outputs": [
        {
          "output_type": "stream",
          "name": "stdout",
          "text": [
            "\n",
            "0: 576x1024 (no detections), 11.9ms\n",
            "Speed: 4.5ms preprocess, 11.9ms inference, 0.5ms postprocess per image at shape (1, 3, 576, 1024)\n",
            "\n",
            "0: 576x1024 (no detections), 13.9ms\n",
            "Speed: 7.2ms preprocess, 13.9ms inference, 0.7ms postprocess per image at shape (1, 3, 576, 1024)\n",
            "\n",
            "0: 576x1024 (no detections), 13.5ms\n",
            "Speed: 7.3ms preprocess, 13.5ms inference, 0.8ms postprocess per image at shape (1, 3, 576, 1024)\n",
            "\n",
            "0: 576x1024 (no detections), 16.4ms\n",
            "Speed: 7.4ms preprocess, 16.4ms inference, 0.5ms postprocess per image at shape (1, 3, 576, 1024)\n",
            "\n",
            "0: 576x1024 (no detections), 14.8ms\n",
            "Speed: 7.5ms preprocess, 14.8ms inference, 0.8ms postprocess per image at shape (1, 3, 576, 1024)\n",
            "\n",
            "0: 576x1024 (no detections), 13.9ms\n",
            "Speed: 7.0ms preprocess, 13.9ms inference, 0.6ms postprocess per image at shape (1, 3, 576, 1024)\n",
            "\n",
            "0: 576x1024 (no detections), 13.6ms\n",
            "Speed: 7.4ms preprocess, 13.6ms inference, 0.8ms postprocess per image at shape (1, 3, 576, 1024)\n",
            "\n",
            "0: 576x1024 (no detections), 13.5ms\n",
            "Speed: 7.6ms preprocess, 13.5ms inference, 0.6ms postprocess per image at shape (1, 3, 576, 1024)\n",
            "\n",
            "0: 576x1024 (no detections), 14.0ms\n",
            "Speed: 7.4ms preprocess, 14.0ms inference, 0.6ms postprocess per image at shape (1, 3, 576, 1024)\n",
            "\n",
            "0: 576x1024 (no detections), 13.6ms\n",
            "Speed: 7.2ms preprocess, 13.6ms inference, 0.5ms postprocess per image at shape (1, 3, 576, 1024)\n",
            "\n",
            "0: 576x1024 (no detections), 11.4ms\n",
            "Speed: 8.5ms preprocess, 11.4ms inference, 0.7ms postprocess per image at shape (1, 3, 576, 1024)\n",
            "\n",
            "0: 576x1024 (no detections), 14.3ms\n",
            "Speed: 9.0ms preprocess, 14.3ms inference, 0.7ms postprocess per image at shape (1, 3, 576, 1024)\n",
            "\n",
            "0: 576x1024 (no detections), 14.1ms\n",
            "Speed: 7.2ms preprocess, 14.1ms inference, 0.5ms postprocess per image at shape (1, 3, 576, 1024)\n",
            "\n",
            "0: 576x1024 (no detections), 12.5ms\n",
            "Speed: 7.3ms preprocess, 12.5ms inference, 0.5ms postprocess per image at shape (1, 3, 576, 1024)\n",
            "\n",
            "0: 576x1024 (no detections), 13.2ms\n",
            "Speed: 9.1ms preprocess, 13.2ms inference, 0.5ms postprocess per image at shape (1, 3, 576, 1024)\n",
            "\n",
            "0: 576x1024 (no detections), 16.6ms\n",
            "Speed: 6.8ms preprocess, 16.6ms inference, 0.8ms postprocess per image at shape (1, 3, 576, 1024)\n",
            "\n",
            "0: 576x1024 (no detections), 14.4ms\n",
            "Speed: 6.6ms preprocess, 14.4ms inference, 0.7ms postprocess per image at shape (1, 3, 576, 1024)\n",
            "\n",
            "0: 576x1024 (no detections), 12.4ms\n",
            "Speed: 7.3ms preprocess, 12.4ms inference, 0.8ms postprocess per image at shape (1, 3, 576, 1024)\n",
            "\n",
            "0: 576x1024 (no detections), 13.2ms\n",
            "Speed: 7.0ms preprocess, 13.2ms inference, 0.6ms postprocess per image at shape (1, 3, 576, 1024)\n",
            "\n",
            "0: 576x1024 (no detections), 14.6ms\n",
            "Speed: 6.5ms preprocess, 14.6ms inference, 0.7ms postprocess per image at shape (1, 3, 576, 1024)\n",
            "\n",
            "0: 576x1024 (no detections), 14.0ms\n",
            "Speed: 6.3ms preprocess, 14.0ms inference, 0.8ms postprocess per image at shape (1, 3, 576, 1024)\n",
            "\n",
            "0: 576x1024 (no detections), 15.1ms\n",
            "Speed: 7.5ms preprocess, 15.1ms inference, 0.8ms postprocess per image at shape (1, 3, 576, 1024)\n",
            "\n",
            "0: 576x1024 (no detections), 12.4ms\n",
            "Speed: 7.1ms preprocess, 12.4ms inference, 0.5ms postprocess per image at shape (1, 3, 576, 1024)\n",
            "\n",
            "0: 576x1024 (no detections), 13.2ms\n",
            "Speed: 7.5ms preprocess, 13.2ms inference, 1.0ms postprocess per image at shape (1, 3, 576, 1024)\n",
            "\n",
            "0: 576x1024 (no detections), 13.7ms\n",
            "Speed: 7.3ms preprocess, 13.7ms inference, 0.9ms postprocess per image at shape (1, 3, 576, 1024)\n",
            "\n",
            "0: 576x1024 (no detections), 17.4ms\n",
            "Speed: 8.2ms preprocess, 17.4ms inference, 0.8ms postprocess per image at shape (1, 3, 576, 1024)\n",
            "\n",
            "0: 576x1024 (no detections), 14.1ms\n",
            "Speed: 7.6ms preprocess, 14.1ms inference, 0.6ms postprocess per image at shape (1, 3, 576, 1024)\n",
            "\n",
            "0: 576x1024 (no detections), 13.5ms\n",
            "Speed: 6.9ms preprocess, 13.5ms inference, 0.7ms postprocess per image at shape (1, 3, 576, 1024)\n",
            "\n",
            "0: 576x1024 (no detections), 14.8ms\n",
            "Speed: 7.8ms preprocess, 14.8ms inference, 0.7ms postprocess per image at shape (1, 3, 576, 1024)\n",
            "\n",
            "0: 576x1024 (no detections), 13.5ms\n",
            "Speed: 7.2ms preprocess, 13.5ms inference, 0.5ms postprocess per image at shape (1, 3, 576, 1024)\n",
            "\n",
            "0: 576x1024 (no detections), 13.9ms\n",
            "Speed: 7.5ms preprocess, 13.9ms inference, 0.6ms postprocess per image at shape (1, 3, 576, 1024)\n",
            "\n",
            "0: 576x1024 (no detections), 11.9ms\n",
            "Speed: 7.2ms preprocess, 11.9ms inference, 0.7ms postprocess per image at shape (1, 3, 576, 1024)\n",
            "\n",
            "0: 576x1024 (no detections), 13.8ms\n",
            "Speed: 6.3ms preprocess, 13.8ms inference, 0.7ms postprocess per image at shape (1, 3, 576, 1024)\n",
            "\n",
            "0: 576x1024 (no detections), 14.8ms\n",
            "Speed: 7.1ms preprocess, 14.8ms inference, 0.6ms postprocess per image at shape (1, 3, 576, 1024)\n",
            "\n",
            "0: 576x1024 (no detections), 14.0ms\n",
            "Speed: 6.1ms preprocess, 14.0ms inference, 0.8ms postprocess per image at shape (1, 3, 576, 1024)\n",
            "\n",
            "0: 576x1024 (no detections), 15.1ms\n",
            "Speed: 6.6ms preprocess, 15.1ms inference, 0.6ms postprocess per image at shape (1, 3, 576, 1024)\n",
            "\n",
            "0: 576x1024 (no detections), 13.8ms\n",
            "Speed: 6.4ms preprocess, 13.8ms inference, 0.7ms postprocess per image at shape (1, 3, 576, 1024)\n",
            "\n",
            "0: 576x1024 (no detections), 14.5ms\n",
            "Speed: 7.0ms preprocess, 14.5ms inference, 0.8ms postprocess per image at shape (1, 3, 576, 1024)\n",
            "\n",
            "0: 576x1024 (no detections), 13.8ms\n",
            "Speed: 6.5ms preprocess, 13.8ms inference, 0.6ms postprocess per image at shape (1, 3, 576, 1024)\n",
            "\n",
            "0: 576x1024 (no detections), 13.6ms\n",
            "Speed: 6.1ms preprocess, 13.6ms inference, 0.6ms postprocess per image at shape (1, 3, 576, 1024)\n",
            "\n",
            "0: 576x1024 (no detections), 17.7ms\n",
            "Speed: 7.9ms preprocess, 17.7ms inference, 0.9ms postprocess per image at shape (1, 3, 576, 1024)\n",
            "\n",
            "0: 576x1024 (no detections), 14.6ms\n",
            "Speed: 6.7ms preprocess, 14.6ms inference, 0.7ms postprocess per image at shape (1, 3, 576, 1024)\n",
            "\n",
            "0: 576x1024 (no detections), 13.6ms\n",
            "Speed: 6.7ms preprocess, 13.6ms inference, 0.6ms postprocess per image at shape (1, 3, 576, 1024)\n",
            "\n",
            "0: 576x1024 (no detections), 17.3ms\n",
            "Speed: 7.6ms preprocess, 17.3ms inference, 0.7ms postprocess per image at shape (1, 3, 576, 1024)\n",
            "\n",
            "0: 576x1024 (no detections), 13.4ms\n",
            "Speed: 6.3ms preprocess, 13.4ms inference, 0.7ms postprocess per image at shape (1, 3, 576, 1024)\n",
            "\n",
            "0: 576x1024 (no detections), 13.9ms\n",
            "Speed: 6.7ms preprocess, 13.9ms inference, 0.8ms postprocess per image at shape (1, 3, 576, 1024)\n",
            "\n",
            "0: 576x1024 (no detections), 13.5ms\n",
            "Speed: 6.4ms preprocess, 13.5ms inference, 0.5ms postprocess per image at shape (1, 3, 576, 1024)\n",
            "\n",
            "0: 576x1024 (no detections), 12.3ms\n",
            "Speed: 6.9ms preprocess, 12.3ms inference, 0.8ms postprocess per image at shape (1, 3, 576, 1024)\n",
            "\n",
            "0: 576x1024 (no detections), 14.5ms\n",
            "Speed: 7.5ms preprocess, 14.5ms inference, 0.7ms postprocess per image at shape (1, 3, 576, 1024)\n",
            "\n",
            "0: 576x1024 (no detections), 14.5ms\n",
            "Speed: 6.6ms preprocess, 14.5ms inference, 0.7ms postprocess per image at shape (1, 3, 576, 1024)\n",
            "\n",
            "0: 576x1024 (no detections), 12.1ms\n",
            "Speed: 9.3ms preprocess, 12.1ms inference, 0.5ms postprocess per image at shape (1, 3, 576, 1024)\n",
            "\n",
            "0: 576x1024 (no detections), 13.8ms\n",
            "Speed: 6.9ms preprocess, 13.8ms inference, 0.7ms postprocess per image at shape (1, 3, 576, 1024)\n",
            "\n",
            "0: 576x1024 (no detections), 13.4ms\n",
            "Speed: 7.0ms preprocess, 13.4ms inference, 0.7ms postprocess per image at shape (1, 3, 576, 1024)\n",
            "\n",
            "0: 576x1024 (no detections), 13.4ms\n",
            "Speed: 7.4ms preprocess, 13.4ms inference, 0.6ms postprocess per image at shape (1, 3, 576, 1024)\n",
            "\n",
            "0: 576x1024 (no detections), 12.6ms\n",
            "Speed: 7.2ms preprocess, 12.6ms inference, 0.8ms postprocess per image at shape (1, 3, 576, 1024)\n",
            "\n",
            "0: 576x1024 (no detections), 17.8ms\n",
            "Speed: 7.9ms preprocess, 17.8ms inference, 0.8ms postprocess per image at shape (1, 3, 576, 1024)\n",
            "\n",
            "0: 576x1024 (no detections), 13.0ms\n",
            "Speed: 6.9ms preprocess, 13.0ms inference, 0.7ms postprocess per image at shape (1, 3, 576, 1024)\n",
            "\n",
            "0: 576x1024 (no detections), 11.6ms\n",
            "Speed: 7.4ms preprocess, 11.6ms inference, 0.5ms postprocess per image at shape (1, 3, 576, 1024)\n",
            "\n",
            "0: 576x1024 1 right, 13.8ms\n",
            "Speed: 8.5ms preprocess, 13.8ms inference, 2.3ms postprocess per image at shape (1, 3, 576, 1024)\n",
            "\n",
            "0: 576x1024 1 right, 13.9ms\n",
            "Speed: 7.5ms preprocess, 13.9ms inference, 2.8ms postprocess per image at shape (1, 3, 576, 1024)\n",
            "\n",
            "0: 576x1024 1 right, 12.0ms\n",
            "Speed: 7.0ms preprocess, 12.0ms inference, 2.0ms postprocess per image at shape (1, 3, 576, 1024)\n",
            "\n",
            "0: 576x1024 1 right, 12.8ms\n",
            "Speed: 7.8ms preprocess, 12.8ms inference, 2.0ms postprocess per image at shape (1, 3, 576, 1024)\n",
            "\n",
            "0: 576x1024 1 right, 14.1ms\n",
            "Speed: 7.2ms preprocess, 14.1ms inference, 2.4ms postprocess per image at shape (1, 3, 576, 1024)\n",
            "\n",
            "0: 576x1024 1 right, 13.5ms\n",
            "Speed: 7.3ms preprocess, 13.5ms inference, 2.1ms postprocess per image at shape (1, 3, 576, 1024)\n",
            "\n",
            "0: 576x1024 1 right, 11.4ms\n",
            "Speed: 7.1ms preprocess, 11.4ms inference, 2.8ms postprocess per image at shape (1, 3, 576, 1024)\n",
            "\n",
            "0: 576x1024 1 left, 1 right, 12.4ms\n",
            "Speed: 8.2ms preprocess, 12.4ms inference, 2.0ms postprocess per image at shape (1, 3, 576, 1024)\n",
            "\n",
            "0: 576x1024 2 rights, 13.3ms\n",
            "Speed: 7.5ms preprocess, 13.3ms inference, 2.0ms postprocess per image at shape (1, 3, 576, 1024)\n",
            "\n",
            "0: 576x1024 2 lefts, 1 right, 13.5ms\n",
            "Speed: 7.1ms preprocess, 13.5ms inference, 2.5ms postprocess per image at shape (1, 3, 576, 1024)\n",
            "\n",
            "0: 576x1024 1 left, 1 right, 11.4ms\n",
            "Speed: 6.9ms preprocess, 11.4ms inference, 2.0ms postprocess per image at shape (1, 3, 576, 1024)\n",
            "\n",
            "0: 576x1024 2 rights, 11.9ms\n",
            "Speed: 12.8ms preprocess, 11.9ms inference, 2.0ms postprocess per image at shape (1, 3, 576, 1024)\n",
            "\n",
            "0: 576x1024 1 left, 2 rights, 14.0ms\n",
            "Speed: 6.4ms preprocess, 14.0ms inference, 2.8ms postprocess per image at shape (1, 3, 576, 1024)\n",
            "\n",
            "0: 576x1024 1 left, 3 rights, 15.4ms\n",
            "Speed: 7.6ms preprocess, 15.4ms inference, 3.7ms postprocess per image at shape (1, 3, 576, 1024)\n",
            "\n",
            "0: 576x1024 2 lefts, 2 rights, 12.0ms\n",
            "Speed: 7.5ms preprocess, 12.0ms inference, 2.2ms postprocess per image at shape (1, 3, 576, 1024)\n",
            "\n",
            "0: 576x1024 2 lefts, 2 rights, 13.6ms\n",
            "Speed: 6.6ms preprocess, 13.6ms inference, 2.0ms postprocess per image at shape (1, 3, 576, 1024)\n",
            "\n",
            "0: 576x1024 3 rights, 15.4ms\n",
            "Speed: 7.4ms preprocess, 15.4ms inference, 3.0ms postprocess per image at shape (1, 3, 576, 1024)\n",
            "\n",
            "0: 576x1024 3 rights, 13.7ms\n",
            "Speed: 7.6ms preprocess, 13.7ms inference, 3.3ms postprocess per image at shape (1, 3, 576, 1024)\n",
            "\n",
            "0: 576x1024 3 lefts, 4 rights, 15.7ms\n",
            "Speed: 9.8ms preprocess, 15.7ms inference, 2.0ms postprocess per image at shape (1, 3, 576, 1024)\n",
            "\n",
            "0: 576x1024 1 left, 1 right, 12.4ms\n",
            "Speed: 7.2ms preprocess, 12.4ms inference, 2.0ms postprocess per image at shape (1, 3, 576, 1024)\n",
            "\n",
            "0: 576x1024 1 left, 2 rights, 13.4ms\n",
            "Speed: 7.1ms preprocess, 13.4ms inference, 2.9ms postprocess per image at shape (1, 3, 576, 1024)\n",
            "\n",
            "0: 576x1024 1 left, 3 rights, 15.2ms\n",
            "Speed: 7.9ms preprocess, 15.2ms inference, 3.0ms postprocess per image at shape (1, 3, 576, 1024)\n",
            "\n",
            "0: 576x1024 3 rights, 13.9ms\n",
            "Speed: 8.0ms preprocess, 13.9ms inference, 2.5ms postprocess per image at shape (1, 3, 576, 1024)\n",
            "\n",
            "0: 576x1024 3 rights, 11.4ms\n",
            "Speed: 7.2ms preprocess, 11.4ms inference, 2.0ms postprocess per image at shape (1, 3, 576, 1024)\n",
            "\n",
            "0: 576x1024 1 left, 2 rights, 14.1ms\n",
            "Speed: 7.5ms preprocess, 14.1ms inference, 2.8ms postprocess per image at shape (1, 3, 576, 1024)\n",
            "\n",
            "0: 576x1024 1 right, 14.4ms\n",
            "Speed: 7.9ms preprocess, 14.4ms inference, 3.1ms postprocess per image at shape (1, 3, 576, 1024)\n",
            "\n",
            "0: 576x1024 1 left, 2 rights, 12.0ms\n",
            "Speed: 9.7ms preprocess, 12.0ms inference, 2.0ms postprocess per image at shape (1, 3, 576, 1024)\n",
            "\n",
            "0: 576x1024 1 right, 11.5ms\n",
            "Speed: 7.5ms preprocess, 11.5ms inference, 2.1ms postprocess per image at shape (1, 3, 576, 1024)\n",
            "\n",
            "0: 576x1024 2 lefts, 3 rights, 12.9ms\n",
            "Speed: 11.9ms preprocess, 12.9ms inference, 2.8ms postprocess per image at shape (1, 3, 576, 1024)\n",
            "\n",
            "0: 576x1024 2 lefts, 3 rights, 11.9ms\n",
            "Speed: 7.5ms preprocess, 11.9ms inference, 1.9ms postprocess per image at shape (1, 3, 576, 1024)\n",
            "\n",
            "0: 576x1024 1 left, 2 rights, 14.4ms\n",
            "Speed: 7.1ms preprocess, 14.4ms inference, 2.7ms postprocess per image at shape (1, 3, 576, 1024)\n",
            "\n",
            "0: 576x1024 1 left, 2 rights, 13.9ms\n",
            "Speed: 7.1ms preprocess, 13.9ms inference, 2.1ms postprocess per image at shape (1, 3, 576, 1024)\n",
            "\n",
            "0: 576x1024 1 left, 2 rights, 11.4ms\n",
            "Speed: 7.3ms preprocess, 11.4ms inference, 2.0ms postprocess per image at shape (1, 3, 576, 1024)\n",
            "\n",
            "0: 576x1024 1 left, 3 rights, 11.4ms\n",
            "Speed: 6.9ms preprocess, 11.4ms inference, 2.2ms postprocess per image at shape (1, 3, 576, 1024)\n",
            "\n",
            "0: 576x1024 1 left, 3 rights, 16.4ms\n",
            "Speed: 10.3ms preprocess, 16.4ms inference, 2.9ms postprocess per image at shape (1, 3, 576, 1024)\n",
            "\n",
            "0: 576x1024 2 lefts, 3 rights, 24.2ms\n",
            "Speed: 12.9ms preprocess, 24.2ms inference, 2.7ms postprocess per image at shape (1, 3, 576, 1024)\n",
            "\n",
            "0: 576x1024 1 left, 3 rights, 15.2ms\n",
            "Speed: 12.7ms preprocess, 15.2ms inference, 2.9ms postprocess per image at shape (1, 3, 576, 1024)\n",
            "\n",
            "0: 576x1024 2 lefts, 1 right, 25.5ms\n",
            "Speed: 7.3ms preprocess, 25.5ms inference, 2.9ms postprocess per image at shape (1, 3, 576, 1024)\n",
            "\n",
            "0: 576x1024 1 left, 3 rights, 22.8ms\n",
            "Speed: 12.5ms preprocess, 22.8ms inference, 2.7ms postprocess per image at shape (1, 3, 576, 1024)\n",
            "\n",
            "0: 576x1024 1 left, 3 rights, 12.6ms\n",
            "Speed: 9.1ms preprocess, 12.6ms inference, 2.6ms postprocess per image at shape (1, 3, 576, 1024)\n",
            "\n",
            "0: 576x1024 2 rights, 12.5ms\n",
            "Speed: 7.1ms preprocess, 12.5ms inference, 2.7ms postprocess per image at shape (1, 3, 576, 1024)\n",
            "\n",
            "0: 576x1024 3 rights, 16.1ms\n",
            "Speed: 6.8ms preprocess, 16.1ms inference, 2.6ms postprocess per image at shape (1, 3, 576, 1024)\n",
            "\n",
            "0: 576x1024 3 lefts, 2 rights, 25.9ms\n",
            "Speed: 6.8ms preprocess, 25.9ms inference, 2.6ms postprocess per image at shape (1, 3, 576, 1024)\n",
            "\n",
            "0: 576x1024 2 rights, 16.0ms\n",
            "Speed: 7.0ms preprocess, 16.0ms inference, 2.8ms postprocess per image at shape (1, 3, 576, 1024)\n",
            "\n",
            "0: 576x1024 3 rights, 12.0ms\n",
            "Speed: 10.2ms preprocess, 12.0ms inference, 3.1ms postprocess per image at shape (1, 3, 576, 1024)\n",
            "\n",
            "0: 576x1024 3 rights, 20.2ms\n",
            "Speed: 9.7ms preprocess, 20.2ms inference, 6.5ms postprocess per image at shape (1, 3, 576, 1024)\n",
            "\n",
            "0: 576x1024 3 rights, 17.9ms\n",
            "Speed: 7.4ms preprocess, 17.9ms inference, 6.2ms postprocess per image at shape (1, 3, 576, 1024)\n",
            "\n",
            "0: 576x1024 3 lefts, 3 rights, 26.8ms\n",
            "Speed: 6.9ms preprocess, 26.8ms inference, 3.0ms postprocess per image at shape (1, 3, 576, 1024)\n",
            "\n",
            "0: 576x1024 2 lefts, 2 rights, 19.7ms\n",
            "Speed: 9.5ms preprocess, 19.7ms inference, 3.0ms postprocess per image at shape (1, 3, 576, 1024)\n",
            "\n",
            "0: 576x1024 2 lefts, 2 rights, 15.4ms\n",
            "Speed: 7.6ms preprocess, 15.4ms inference, 2.0ms postprocess per image at shape (1, 3, 576, 1024)\n",
            "\n",
            "0: 576x1024 2 rights, 14.4ms\n",
            "Speed: 7.3ms preprocess, 14.4ms inference, 2.8ms postprocess per image at shape (1, 3, 576, 1024)\n",
            "\n",
            "0: 576x1024 1 left, 2 rights, 13.9ms\n",
            "Speed: 7.6ms preprocess, 13.9ms inference, 2.3ms postprocess per image at shape (1, 3, 576, 1024)\n",
            "\n",
            "0: 576x1024 3 lefts, 2 rights, 11.5ms\n",
            "Speed: 6.9ms preprocess, 11.5ms inference, 2.1ms postprocess per image at shape (1, 3, 576, 1024)\n",
            "\n",
            "0: 576x1024 1 left, 1 right, 15.2ms\n",
            "Speed: 7.5ms preprocess, 15.2ms inference, 2.1ms postprocess per image at shape (1, 3, 576, 1024)\n",
            "\n",
            "0: 576x1024 2 lefts, 2 rights, 13.2ms\n",
            "Speed: 7.5ms preprocess, 13.2ms inference, 2.9ms postprocess per image at shape (1, 3, 576, 1024)\n",
            "\n",
            "0: 576x1024 2 lefts, 3 rights, 13.8ms\n",
            "Speed: 8.6ms preprocess, 13.8ms inference, 5.3ms postprocess per image at shape (1, 3, 576, 1024)\n",
            "\n",
            "0: 576x1024 2 lefts, 1 right, 12.3ms\n",
            "Speed: 7.0ms preprocess, 12.3ms inference, 2.0ms postprocess per image at shape (1, 3, 576, 1024)\n",
            "\n",
            "0: 576x1024 2 lefts, 3 rights, 12.0ms\n",
            "Speed: 6.9ms preprocess, 12.0ms inference, 2.0ms postprocess per image at shape (1, 3, 576, 1024)\n",
            "\n",
            "0: 576x1024 2 lefts, 3 rights, 13.2ms\n",
            "Speed: 7.5ms preprocess, 13.2ms inference, 2.7ms postprocess per image at shape (1, 3, 576, 1024)\n",
            "\n",
            "0: 576x1024 2 lefts, 2 rights, 13.9ms\n",
            "Speed: 7.0ms preprocess, 13.9ms inference, 2.0ms postprocess per image at shape (1, 3, 576, 1024)\n",
            "\n",
            "0: 576x1024 2 lefts, 3 rights, 13.6ms\n",
            "Speed: 7.2ms preprocess, 13.6ms inference, 2.0ms postprocess per image at shape (1, 3, 576, 1024)\n",
            "\n",
            "0: 576x1024 2 lefts, 1 right, 13.7ms\n",
            "Speed: 7.3ms preprocess, 13.7ms inference, 2.1ms postprocess per image at shape (1, 3, 576, 1024)\n",
            "\n",
            "0: 576x1024 1 left, 2 rights, 14.1ms\n",
            "Speed: 7.2ms preprocess, 14.1ms inference, 2.1ms postprocess per image at shape (1, 3, 576, 1024)\n",
            "\n",
            "0: 576x1024 2 lefts, 3 rights, 13.0ms\n",
            "Speed: 7.2ms preprocess, 13.0ms inference, 2.0ms postprocess per image at shape (1, 3, 576, 1024)\n",
            "\n",
            "0: 576x1024 1 left, 2 rights, 16.0ms\n",
            "Speed: 6.5ms preprocess, 16.0ms inference, 3.3ms postprocess per image at shape (1, 3, 576, 1024)\n",
            "\n",
            "0: 576x1024 2 rights, 13.8ms\n",
            "Speed: 6.3ms preprocess, 13.8ms inference, 2.9ms postprocess per image at shape (1, 3, 576, 1024)\n",
            "\n",
            "0: 576x1024 1 left, 2 rights, 13.7ms\n",
            "Speed: 6.9ms preprocess, 13.7ms inference, 2.6ms postprocess per image at shape (1, 3, 576, 1024)\n",
            "\n",
            "0: 576x1024 1 left, 1 right, 12.4ms\n",
            "Speed: 7.1ms preprocess, 12.4ms inference, 2.1ms postprocess per image at shape (1, 3, 576, 1024)\n",
            "\n",
            "0: 576x1024 1 left, 1 right, 13.7ms\n",
            "Speed: 6.3ms preprocess, 13.7ms inference, 2.7ms postprocess per image at shape (1, 3, 576, 1024)\n",
            "\n",
            "0: 576x1024 2 lefts, 1 right, 13.3ms\n",
            "Speed: 6.9ms preprocess, 13.3ms inference, 2.1ms postprocess per image at shape (1, 3, 576, 1024)\n",
            "\n",
            "0: 576x1024 1 left, 1 right, 13.6ms\n",
            "Speed: 7.5ms preprocess, 13.6ms inference, 4.3ms postprocess per image at shape (1, 3, 576, 1024)\n",
            "\n",
            "0: 576x1024 1 left, 1 right, 11.4ms\n",
            "Speed: 6.6ms preprocess, 11.4ms inference, 2.3ms postprocess per image at shape (1, 3, 576, 1024)\n",
            "\n",
            "0: 576x1024 1 left, 2 rights, 13.3ms\n",
            "Speed: 7.1ms preprocess, 13.3ms inference, 2.7ms postprocess per image at shape (1, 3, 576, 1024)\n",
            "\n",
            "0: 576x1024 2 lefts, 1 right, 18.6ms\n",
            "Speed: 8.0ms preprocess, 18.6ms inference, 3.0ms postprocess per image at shape (1, 3, 576, 1024)\n",
            "\n",
            "0: 576x1024 1 left, 1 right, 15.0ms\n",
            "Speed: 6.7ms preprocess, 15.0ms inference, 2.6ms postprocess per image at shape (1, 3, 576, 1024)\n",
            "\n",
            "0: 576x1024 1 right, 14.8ms\n",
            "Speed: 7.0ms preprocess, 14.8ms inference, 2.1ms postprocess per image at shape (1, 3, 576, 1024)\n",
            "\n",
            "0: 576x1024 1 left, 1 right, 14.1ms\n",
            "Speed: 10.6ms preprocess, 14.1ms inference, 3.0ms postprocess per image at shape (1, 3, 576, 1024)\n",
            "\n",
            "0: 576x1024 1 right, 14.2ms\n",
            "Speed: 6.9ms preprocess, 14.2ms inference, 2.7ms postprocess per image at shape (1, 3, 576, 1024)\n",
            "\n",
            "0: 576x1024 1 right, 13.4ms\n",
            "Speed: 9.0ms preprocess, 13.4ms inference, 2.1ms postprocess per image at shape (1, 3, 576, 1024)\n",
            "\n",
            "0: 576x1024 1 left, 1 right, 13.7ms\n",
            "Speed: 7.3ms preprocess, 13.7ms inference, 2.0ms postprocess per image at shape (1, 3, 576, 1024)\n",
            "\n",
            "0: 576x1024 1 left, 1 right, 13.6ms\n",
            "Speed: 6.5ms preprocess, 13.6ms inference, 2.8ms postprocess per image at shape (1, 3, 576, 1024)\n",
            "\n",
            "0: 576x1024 1 left, 1 right, 13.4ms\n",
            "Speed: 8.0ms preprocess, 13.4ms inference, 2.1ms postprocess per image at shape (1, 3, 576, 1024)\n",
            "\n",
            "0: 576x1024 1 left, 3 rights, 17.3ms\n",
            "Speed: 7.3ms preprocess, 17.3ms inference, 2.6ms postprocess per image at shape (1, 3, 576, 1024)\n",
            "\n",
            "0: 576x1024 1 right, 14.7ms\n",
            "Speed: 6.5ms preprocess, 14.7ms inference, 2.7ms postprocess per image at shape (1, 3, 576, 1024)\n",
            "\n",
            "0: 576x1024 1 left, 3 rights, 13.7ms\n",
            "Speed: 7.3ms preprocess, 13.7ms inference, 2.7ms postprocess per image at shape (1, 3, 576, 1024)\n",
            "\n",
            "0: 576x1024 2 lefts, 2 rights, 13.2ms\n",
            "Speed: 7.3ms preprocess, 13.2ms inference, 2.2ms postprocess per image at shape (1, 3, 576, 1024)\n",
            "\n",
            "0: 576x1024 1 left, 2 rights, 14.5ms\n",
            "Speed: 7.3ms preprocess, 14.5ms inference, 2.0ms postprocess per image at shape (1, 3, 576, 1024)\n",
            "\n",
            "0: 576x1024 1 left, 2 rights, 11.7ms\n",
            "Speed: 9.4ms preprocess, 11.7ms inference, 2.0ms postprocess per image at shape (1, 3, 576, 1024)\n",
            "\n",
            "0: 576x1024 1 left, 2 rights, 13.2ms\n",
            "Speed: 7.7ms preprocess, 13.2ms inference, 3.0ms postprocess per image at shape (1, 3, 576, 1024)\n",
            "\n",
            "0: 576x1024 1 left, 2 rights, 13.8ms\n",
            "Speed: 7.2ms preprocess, 13.8ms inference, 2.2ms postprocess per image at shape (1, 3, 576, 1024)\n",
            "\n",
            "0: 576x1024 2 lefts, 3 rights, 13.5ms\n",
            "Speed: 7.2ms preprocess, 13.5ms inference, 2.8ms postprocess per image at shape (1, 3, 576, 1024)\n",
            "\n",
            "0: 576x1024 1 right, 23.0ms\n",
            "Speed: 6.8ms preprocess, 23.0ms inference, 3.3ms postprocess per image at shape (1, 3, 576, 1024)\n",
            "\n",
            "0: 576x1024 1 left, 2 rights, 11.4ms\n",
            "Speed: 7.1ms preprocess, 11.4ms inference, 2.4ms postprocess per image at shape (1, 3, 576, 1024)\n",
            "\n",
            "0: 576x1024 1 left, 2 rights, 11.9ms\n",
            "Speed: 6.8ms preprocess, 11.9ms inference, 2.0ms postprocess per image at shape (1, 3, 576, 1024)\n",
            "\n",
            "0: 576x1024 1 left, 1 right, 14.1ms\n",
            "Speed: 7.8ms preprocess, 14.1ms inference, 2.3ms postprocess per image at shape (1, 3, 576, 1024)\n",
            "\n",
            "0: 576x1024 1 left, 2 rights, 12.3ms\n",
            "Speed: 13.3ms preprocess, 12.3ms inference, 2.0ms postprocess per image at shape (1, 3, 576, 1024)\n",
            "\n",
            "0: 576x1024 1 right, 12.9ms\n",
            "Speed: 7.1ms preprocess, 12.9ms inference, 2.0ms postprocess per image at shape (1, 3, 576, 1024)\n",
            "\n",
            "0: 576x1024 1 left, 2 rights, 11.4ms\n",
            "Speed: 7.9ms preprocess, 11.4ms inference, 2.0ms postprocess per image at shape (1, 3, 576, 1024)\n",
            "\n",
            "0: 576x1024 1 right, 13.7ms\n",
            "Speed: 6.9ms preprocess, 13.7ms inference, 2.9ms postprocess per image at shape (1, 3, 576, 1024)\n",
            "\n",
            "0: 576x1024 1 right, 13.3ms\n",
            "Speed: 7.2ms preprocess, 13.3ms inference, 2.0ms postprocess per image at shape (1, 3, 576, 1024)\n",
            "\n",
            "0: 576x1024 4 rights, 11.4ms\n",
            "Speed: 8.5ms preprocess, 11.4ms inference, 2.0ms postprocess per image at shape (1, 3, 576, 1024)\n",
            "\n",
            "0: 576x1024 1 right, 13.9ms\n",
            "Speed: 7.1ms preprocess, 13.9ms inference, 2.1ms postprocess per image at shape (1, 3, 576, 1024)\n",
            "\n",
            "0: 576x1024 2 lefts, 2 rights, 14.4ms\n",
            "Speed: 7.4ms preprocess, 14.4ms inference, 2.8ms postprocess per image at shape (1, 3, 576, 1024)\n",
            "\n",
            "0: 576x1024 1 left, 2 rights, 13.4ms\n",
            "Speed: 6.9ms preprocess, 13.4ms inference, 2.0ms postprocess per image at shape (1, 3, 576, 1024)\n",
            "\n",
            "0: 576x1024 1 left, 1 right, 14.1ms\n",
            "Speed: 7.5ms preprocess, 14.1ms inference, 2.0ms postprocess per image at shape (1, 3, 576, 1024)\n",
            "\n",
            "0: 576x1024 1 left, 2 rights, 13.5ms\n",
            "Speed: 9.6ms preprocess, 13.5ms inference, 2.2ms postprocess per image at shape (1, 3, 576, 1024)\n",
            "\n",
            "0: 576x1024 1 right, 13.5ms\n",
            "Speed: 8.1ms preprocess, 13.5ms inference, 3.1ms postprocess per image at shape (1, 3, 576, 1024)\n",
            "\n",
            "0: 576x1024 1 left, 2 rights, 13.8ms\n",
            "Speed: 7.8ms preprocess, 13.8ms inference, 2.3ms postprocess per image at shape (1, 3, 576, 1024)\n",
            "\n",
            "0: 576x1024 1 left, 2 rights, 11.4ms\n",
            "Speed: 7.1ms preprocess, 11.4ms inference, 2.8ms postprocess per image at shape (1, 3, 576, 1024)\n",
            "\n",
            "0: 576x1024 1 right, 15.2ms\n",
            "Speed: 9.5ms preprocess, 15.2ms inference, 3.6ms postprocess per image at shape (1, 3, 576, 1024)\n",
            "\n",
            "0: 576x1024 1 left, 2 rights, 14.0ms\n",
            "Speed: 7.7ms preprocess, 14.0ms inference, 2.9ms postprocess per image at shape (1, 3, 576, 1024)\n",
            "\n",
            "0: 576x1024 1 right, 13.4ms\n",
            "Speed: 7.7ms preprocess, 13.4ms inference, 2.7ms postprocess per image at shape (1, 3, 576, 1024)\n",
            "\n",
            "0: 576x1024 1 left, 1 right, 14.3ms\n",
            "Speed: 6.9ms preprocess, 14.3ms inference, 2.0ms postprocess per image at shape (1, 3, 576, 1024)\n",
            "\n",
            "0: 576x1024 1 right, 15.0ms\n",
            "Speed: 6.9ms preprocess, 15.0ms inference, 2.1ms postprocess per image at shape (1, 3, 576, 1024)\n",
            "\n",
            "0: 576x1024 1 right, 13.4ms\n",
            "Speed: 7.0ms preprocess, 13.4ms inference, 2.6ms postprocess per image at shape (1, 3, 576, 1024)\n",
            "\n",
            "0: 576x1024 1 right, 13.8ms\n",
            "Speed: 7.8ms preprocess, 13.8ms inference, 2.0ms postprocess per image at shape (1, 3, 576, 1024)\n",
            "\n",
            "0: 576x1024 1 left, 2 rights, 13.0ms\n",
            "Speed: 7.2ms preprocess, 13.0ms inference, 2.1ms postprocess per image at shape (1, 3, 576, 1024)\n",
            "\n",
            "0: 576x1024 2 rights, 13.6ms\n",
            "Speed: 6.9ms preprocess, 13.6ms inference, 2.0ms postprocess per image at shape (1, 3, 576, 1024)\n",
            "\n",
            "0: 576x1024 1 right, 22.9ms\n",
            "Speed: 11.8ms preprocess, 22.9ms inference, 3.5ms postprocess per image at shape (1, 3, 576, 1024)\n",
            "\n",
            "0: 576x1024 1 right, 11.4ms\n",
            "Speed: 5.6ms preprocess, 11.4ms inference, 2.0ms postprocess per image at shape (1, 3, 576, 1024)\n",
            "\n",
            "0: 576x1024 1 right, 14.1ms\n",
            "Speed: 7.1ms preprocess, 14.1ms inference, 2.8ms postprocess per image at shape (1, 3, 576, 1024)\n",
            "\n",
            "0: 576x1024 2 rights, 14.1ms\n",
            "Speed: 6.5ms preprocess, 14.1ms inference, 2.7ms postprocess per image at shape (1, 3, 576, 1024)\n",
            "\n",
            "0: 576x1024 1 right, 18.4ms\n",
            "Speed: 8.3ms preprocess, 18.4ms inference, 3.0ms postprocess per image at shape (1, 3, 576, 1024)\n",
            "\n",
            "0: 576x1024 1 left, 2 rights, 11.4ms\n",
            "Speed: 6.9ms preprocess, 11.4ms inference, 2.0ms postprocess per image at shape (1, 3, 576, 1024)\n",
            "\n",
            "0: 576x1024 1 left, 1 right, 14.2ms\n",
            "Speed: 6.4ms preprocess, 14.2ms inference, 2.9ms postprocess per image at shape (1, 3, 576, 1024)\n",
            "\n",
            "0: 576x1024 1 left, 2 rights, 13.6ms\n",
            "Speed: 6.9ms preprocess, 13.6ms inference, 2.0ms postprocess per image at shape (1, 3, 576, 1024)\n",
            "\n",
            "0: 576x1024 1 left, 2 rights, 12.1ms\n",
            "Speed: 12.0ms preprocess, 12.1ms inference, 2.1ms postprocess per image at shape (1, 3, 576, 1024)\n",
            "\n",
            "0: 576x1024 1 left, 1 right, 12.5ms\n",
            "Speed: 9.7ms preprocess, 12.5ms inference, 2.4ms postprocess per image at shape (1, 3, 576, 1024)\n",
            "\n",
            "0: 576x1024 1 right, 13.6ms\n",
            "Speed: 7.3ms preprocess, 13.6ms inference, 2.9ms postprocess per image at shape (1, 3, 576, 1024)\n",
            "\n",
            "0: 576x1024 1 left, 1 right, 13.5ms\n",
            "Speed: 6.8ms preprocess, 13.5ms inference, 2.0ms postprocess per image at shape (1, 3, 576, 1024)\n",
            "\n",
            "0: 576x1024 1 left, 2 rights, 11.4ms\n",
            "Speed: 6.9ms preprocess, 11.4ms inference, 2.0ms postprocess per image at shape (1, 3, 576, 1024)\n",
            "\n",
            "0: 576x1024 1 left, 2 rights, 12.1ms\n",
            "Speed: 7.2ms preprocess, 12.1ms inference, 2.1ms postprocess per image at shape (1, 3, 576, 1024)\n",
            "\n",
            "0: 576x1024 1 left, 1 right, 13.2ms\n",
            "Speed: 6.8ms preprocess, 13.2ms inference, 2.8ms postprocess per image at shape (1, 3, 576, 1024)\n",
            "\n",
            "0: 576x1024 1 left, 3 rights, 13.8ms\n",
            "Speed: 7.0ms preprocess, 13.8ms inference, 2.0ms postprocess per image at shape (1, 3, 576, 1024)\n",
            "\n",
            "0: 576x1024 2 rights, 11.4ms\n",
            "Speed: 14.5ms preprocess, 11.4ms inference, 2.0ms postprocess per image at shape (1, 3, 576, 1024)\n",
            "\n",
            "0: 576x1024 2 rights, 22.1ms\n",
            "Speed: 9.4ms preprocess, 22.1ms inference, 3.3ms postprocess per image at shape (1, 3, 576, 1024)\n",
            "\n",
            "0: 576x1024 2 rights, 25.2ms\n",
            "Speed: 8.8ms preprocess, 25.2ms inference, 7.5ms postprocess per image at shape (1, 3, 576, 1024)\n",
            "\n",
            "0: 576x1024 1 left, 2 rights, 13.2ms\n",
            "Speed: 7.4ms preprocess, 13.2ms inference, 9.8ms postprocess per image at shape (1, 3, 576, 1024)\n",
            "\n",
            "0: 576x1024 1 left, 2 rights, 15.8ms\n",
            "Speed: 7.3ms preprocess, 15.8ms inference, 3.8ms postprocess per image at shape (1, 3, 576, 1024)\n",
            "\n",
            "0: 576x1024 1 left, 1 right, 17.1ms\n",
            "Speed: 7.3ms preprocess, 17.1ms inference, 2.7ms postprocess per image at shape (1, 3, 576, 1024)\n",
            "\n",
            "0: 576x1024 1 left, 1 right, 12.6ms\n",
            "Speed: 7.7ms preprocess, 12.6ms inference, 9.6ms postprocess per image at shape (1, 3, 576, 1024)\n",
            "\n",
            "0: 576x1024 1 left, 1 right, 28.2ms\n",
            "Speed: 9.0ms preprocess, 28.2ms inference, 2.8ms postprocess per image at shape (1, 3, 576, 1024)\n",
            "\n",
            "0: 576x1024 1 left, 2 rights, 13.4ms\n",
            "Speed: 12.5ms preprocess, 13.4ms inference, 3.4ms postprocess per image at shape (1, 3, 576, 1024)\n",
            "\n",
            "0: 576x1024 1 right, 15.4ms\n",
            "Speed: 15.2ms preprocess, 15.4ms inference, 2.6ms postprocess per image at shape (1, 3, 576, 1024)\n",
            "\n",
            "0: 576x1024 2 lefts, 1 right, 34.1ms\n",
            "Speed: 8.1ms preprocess, 34.1ms inference, 2.8ms postprocess per image at shape (1, 3, 576, 1024)\n",
            "\n",
            "0: 576x1024 1 left, 1 right, 15.1ms\n",
            "Speed: 10.7ms preprocess, 15.1ms inference, 2.6ms postprocess per image at shape (1, 3, 576, 1024)\n",
            "\n",
            "0: 576x1024 2 lefts, 1 right, 23.1ms\n",
            "Speed: 6.3ms preprocess, 23.1ms inference, 2.8ms postprocess per image at shape (1, 3, 576, 1024)\n",
            "\n",
            "0: 576x1024 2 rights, 21.4ms\n",
            "Speed: 11.4ms preprocess, 21.4ms inference, 3.1ms postprocess per image at shape (1, 3, 576, 1024)\n",
            "\n",
            "0: 576x1024 2 lefts, 1 right, 34.6ms\n",
            "Speed: 8.2ms preprocess, 34.6ms inference, 3.1ms postprocess per image at shape (1, 3, 576, 1024)\n",
            "\n",
            "0: 576x1024 1 left, 1 right, 11.4ms\n",
            "Speed: 10.5ms preprocess, 11.4ms inference, 2.1ms postprocess per image at shape (1, 3, 576, 1024)\n",
            "\n",
            "0: 576x1024 1 left, 2 rights, 13.9ms\n",
            "Speed: 6.3ms preprocess, 13.9ms inference, 2.8ms postprocess per image at shape (1, 3, 576, 1024)\n",
            "\n",
            "0: 576x1024 2 lefts, 1 right, 13.9ms\n",
            "Speed: 6.5ms preprocess, 13.9ms inference, 2.7ms postprocess per image at shape (1, 3, 576, 1024)\n",
            "\n",
            "0: 576x1024 1 left, 3 rights, 11.4ms\n",
            "Speed: 6.9ms preprocess, 11.4ms inference, 2.1ms postprocess per image at shape (1, 3, 576, 1024)\n",
            "\n",
            "0: 576x1024 1 left, 2 rights, 11.4ms\n",
            "Speed: 5.8ms preprocess, 11.4ms inference, 2.2ms postprocess per image at shape (1, 3, 576, 1024)\n",
            "\n",
            "0: 576x1024 1 left, 1 right, 13.7ms\n",
            "Speed: 7.8ms preprocess, 13.7ms inference, 2.3ms postprocess per image at shape (1, 3, 576, 1024)\n",
            "\n",
            "0: 576x1024 1 left, 2 rights, 13.0ms\n",
            "Speed: 6.7ms preprocess, 13.0ms inference, 2.1ms postprocess per image at shape (1, 3, 576, 1024)\n",
            "\n",
            "0: 576x1024 2 lefts, 1 right, 11.4ms\n",
            "Speed: 6.9ms preprocess, 11.4ms inference, 2.0ms postprocess per image at shape (1, 3, 576, 1024)\n",
            "\n",
            "0: 576x1024 1 left, 1 right, 11.4ms\n",
            "Speed: 9.3ms preprocess, 11.4ms inference, 2.3ms postprocess per image at shape (1, 3, 576, 1024)\n",
            "\n",
            "0: 576x1024 2 lefts, 3 rights, 15.3ms\n",
            "Speed: 6.9ms preprocess, 15.3ms inference, 3.2ms postprocess per image at shape (1, 3, 576, 1024)\n",
            "\n",
            "0: 576x1024 2 lefts, 1 right, 13.6ms\n",
            "Speed: 7.1ms preprocess, 13.6ms inference, 2.2ms postprocess per image at shape (1, 3, 576, 1024)\n",
            "\n",
            "0: 576x1024 1 right, 13.8ms\n",
            "Speed: 6.6ms preprocess, 13.8ms inference, 2.2ms postprocess per image at shape (1, 3, 576, 1024)\n",
            "\n",
            "0: 576x1024 1 left, 2 rights, 11.8ms\n",
            "Speed: 6.7ms preprocess, 11.8ms inference, 2.1ms postprocess per image at shape (1, 3, 576, 1024)\n",
            "\n",
            "0: 576x1024 1 left, 1 right, 13.1ms\n",
            "Speed: 7.1ms preprocess, 13.1ms inference, 2.3ms postprocess per image at shape (1, 3, 576, 1024)\n",
            "\n",
            "0: 576x1024 1 left, 2 rights, 12.9ms\n",
            "Speed: 6.7ms preprocess, 12.9ms inference, 2.1ms postprocess per image at shape (1, 3, 576, 1024)\n",
            "\n",
            "0: 576x1024 2 lefts, 2 rights, 11.4ms\n",
            "Speed: 7.1ms preprocess, 11.4ms inference, 2.0ms postprocess per image at shape (1, 3, 576, 1024)\n",
            "\n",
            "0: 576x1024 1 left, 1 right, 11.4ms\n",
            "Speed: 7.7ms preprocess, 11.4ms inference, 2.0ms postprocess per image at shape (1, 3, 576, 1024)\n",
            "\n",
            "0: 576x1024 2 lefts, 3 rights, 14.4ms\n",
            "Speed: 6.8ms preprocess, 14.4ms inference, 2.9ms postprocess per image at shape (1, 3, 576, 1024)\n",
            "\n",
            "0: 576x1024 1 left, 1 right, 13.7ms\n",
            "Speed: 6.3ms preprocess, 13.7ms inference, 2.7ms postprocess per image at shape (1, 3, 576, 1024)\n",
            "\n",
            "0: 576x1024 1 right, 14.1ms\n",
            "Speed: 6.2ms preprocess, 14.1ms inference, 2.2ms postprocess per image at shape (1, 3, 576, 1024)\n",
            "\n",
            "0: 576x1024 2 lefts, 3 rights, 13.7ms\n",
            "Speed: 6.1ms preprocess, 13.7ms inference, 2.0ms postprocess per image at shape (1, 3, 576, 1024)\n",
            "\n",
            "0: 576x1024 1 left, 1 right, 13.8ms\n",
            "Speed: 6.2ms preprocess, 13.8ms inference, 2.8ms postprocess per image at shape (1, 3, 576, 1024)\n",
            "\n",
            "0: 576x1024 2 lefts, 2 rights, 13.3ms\n",
            "Speed: 7.0ms preprocess, 13.3ms inference, 2.0ms postprocess per image at shape (1, 3, 576, 1024)\n",
            "\n",
            "0: 576x1024 1 left, 3 rights, 11.4ms\n",
            "Speed: 6.5ms preprocess, 11.4ms inference, 2.0ms postprocess per image at shape (1, 3, 576, 1024)\n",
            "\n",
            "0: 576x1024 2 lefts, 1 right, 12.6ms\n",
            "Speed: 7.4ms preprocess, 12.6ms inference, 2.1ms postprocess per image at shape (1, 3, 576, 1024)\n",
            "\n",
            "0: 576x1024 1 left, 2 rights, 13.6ms\n",
            "Speed: 8.5ms preprocess, 13.6ms inference, 3.0ms postprocess per image at shape (1, 3, 576, 1024)\n",
            "\n",
            "0: 576x1024 1 right, 14.2ms\n",
            "Speed: 7.8ms preprocess, 14.2ms inference, 3.1ms postprocess per image at shape (1, 3, 576, 1024)\n",
            "\n",
            "0: 576x1024 2 lefts, 1 right, 13.5ms\n",
            "Speed: 7.5ms preprocess, 13.5ms inference, 2.2ms postprocess per image at shape (1, 3, 576, 1024)\n",
            "\n",
            "0: 576x1024 1 right, 12.7ms\n",
            "Speed: 7.2ms preprocess, 12.7ms inference, 2.1ms postprocess per image at shape (1, 3, 576, 1024)\n",
            "\n",
            "0: 576x1024 1 left, 1 right, 12.8ms\n",
            "Speed: 6.9ms preprocess, 12.8ms inference, 2.7ms postprocess per image at shape (1, 3, 576, 1024)\n",
            "\n",
            "0: 576x1024 1 right, 12.1ms\n",
            "Speed: 7.3ms preprocess, 12.1ms inference, 2.0ms postprocess per image at shape (1, 3, 576, 1024)\n",
            "\n",
            "0: 576x1024 1 right, 13.5ms\n",
            "Speed: 9.2ms preprocess, 13.5ms inference, 2.5ms postprocess per image at shape (1, 3, 576, 1024)\n",
            "\n",
            "0: 576x1024 1 right, 15.8ms\n",
            "Speed: 6.7ms preprocess, 15.8ms inference, 3.0ms postprocess per image at shape (1, 3, 576, 1024)\n",
            "\n",
            "0: 576x1024 1 right, 12.2ms\n",
            "Speed: 7.1ms preprocess, 12.2ms inference, 3.2ms postprocess per image at shape (1, 3, 576, 1024)\n",
            "\n",
            "0: 576x1024 1 right, 14.1ms\n",
            "Speed: 7.5ms preprocess, 14.1ms inference, 2.0ms postprocess per image at shape (1, 3, 576, 1024)\n",
            "\n",
            "0: 576x1024 1 right, 13.6ms\n",
            "Speed: 7.4ms preprocess, 13.6ms inference, 2.8ms postprocess per image at shape (1, 3, 576, 1024)\n",
            "\n",
            "0: 576x1024 1 right, 13.6ms\n",
            "Speed: 7.5ms preprocess, 13.6ms inference, 2.0ms postprocess per image at shape (1, 3, 576, 1024)\n",
            "\n",
            "0: 576x1024 1 right, 15.2ms\n",
            "Speed: 11.0ms preprocess, 15.2ms inference, 2.1ms postprocess per image at shape (1, 3, 576, 1024)\n",
            "\n",
            "0: 576x1024 1 right, 12.2ms\n",
            "Speed: 7.1ms preprocess, 12.2ms inference, 2.2ms postprocess per image at shape (1, 3, 576, 1024)\n",
            "\n",
            "0: 576x1024 1 right, 13.1ms\n",
            "Speed: 6.7ms preprocess, 13.1ms inference, 2.2ms postprocess per image at shape (1, 3, 576, 1024)\n",
            "\n",
            "0: 576x1024 1 right, 14.1ms\n",
            "Speed: 7.3ms preprocess, 14.1ms inference, 2.1ms postprocess per image at shape (1, 3, 576, 1024)\n",
            "\n",
            "0: 576x1024 1 right, 11.4ms\n",
            "Speed: 7.3ms preprocess, 11.4ms inference, 2.4ms postprocess per image at shape (1, 3, 576, 1024)\n",
            "\n",
            "0: 576x1024 1 right, 14.5ms\n",
            "Speed: 7.1ms preprocess, 14.5ms inference, 2.1ms postprocess per image at shape (1, 3, 576, 1024)\n",
            "\n",
            "0: 576x1024 1 right, 14.9ms\n",
            "Speed: 7.3ms preprocess, 14.9ms inference, 2.9ms postprocess per image at shape (1, 3, 576, 1024)\n",
            "\n",
            "0: 576x1024 1 right, 13.8ms\n",
            "Speed: 6.3ms preprocess, 13.8ms inference, 3.2ms postprocess per image at shape (1, 3, 576, 1024)\n",
            "\n",
            "0: 576x1024 1 right, 11.7ms\n",
            "Speed: 6.9ms preprocess, 11.7ms inference, 1.9ms postprocess per image at shape (1, 3, 576, 1024)\n",
            "\n",
            "0: 576x1024 1 right, 12.3ms\n",
            "Speed: 7.8ms preprocess, 12.3ms inference, 2.3ms postprocess per image at shape (1, 3, 576, 1024)\n",
            "\n",
            "0: 576x1024 1 right, 16.9ms\n",
            "Speed: 7.6ms preprocess, 16.9ms inference, 2.8ms postprocess per image at shape (1, 3, 576, 1024)\n",
            "\n",
            "0: 576x1024 1 right, 13.8ms\n",
            "Speed: 9.8ms preprocess, 13.8ms inference, 2.1ms postprocess per image at shape (1, 3, 576, 1024)\n",
            "\n",
            "0: 576x1024 2 rights, 11.4ms\n",
            "Speed: 5.5ms preprocess, 11.4ms inference, 2.1ms postprocess per image at shape (1, 3, 576, 1024)\n",
            "\n",
            "0: 576x1024 2 rights, 11.5ms\n",
            "Speed: 6.8ms preprocess, 11.5ms inference, 2.1ms postprocess per image at shape (1, 3, 576, 1024)\n",
            "\n",
            "0: 576x1024 1 left, 2 rights, 14.4ms\n",
            "Speed: 7.2ms preprocess, 14.4ms inference, 2.7ms postprocess per image at shape (1, 3, 576, 1024)\n",
            "\n",
            "0: 576x1024 2 lefts, 2 rights, 14.0ms\n",
            "Speed: 7.0ms preprocess, 14.0ms inference, 2.0ms postprocess per image at shape (1, 3, 576, 1024)\n",
            "\n",
            "0: 576x1024 1 left, 2 rights, 14.3ms\n",
            "Speed: 7.1ms preprocess, 14.3ms inference, 2.0ms postprocess per image at shape (1, 3, 576, 1024)\n",
            "\n",
            "0: 576x1024 1 left, 2 rights, 11.4ms\n",
            "Speed: 7.0ms preprocess, 11.4ms inference, 1.9ms postprocess per image at shape (1, 3, 576, 1024)\n",
            "\n",
            "0: 576x1024 1 left, 2 rights, 12.9ms\n",
            "Speed: 7.2ms preprocess, 12.9ms inference, 2.7ms postprocess per image at shape (1, 3, 576, 1024)\n",
            "\n",
            "0: 576x1024 2 lefts, 1 right, 14.1ms\n",
            "Speed: 7.5ms preprocess, 14.1ms inference, 2.0ms postprocess per image at shape (1, 3, 576, 1024)\n",
            "\n",
            "0: 576x1024 2 rights, 12.4ms\n",
            "Speed: 7.0ms preprocess, 12.4ms inference, 2.0ms postprocess per image at shape (1, 3, 576, 1024)\n",
            "\n",
            "0: 576x1024 2 rights, 13.0ms\n",
            "Speed: 11.1ms preprocess, 13.0ms inference, 2.1ms postprocess per image at shape (1, 3, 576, 1024)\n",
            "\n",
            "0: 576x1024 1 left, 2 rights, 13.7ms\n",
            "Speed: 7.6ms preprocess, 13.7ms inference, 2.8ms postprocess per image at shape (1, 3, 576, 1024)\n",
            "\n",
            "0: 576x1024 2 rights, 14.5ms\n",
            "Speed: 8.0ms preprocess, 14.5ms inference, 2.0ms postprocess per image at shape (1, 3, 576, 1024)\n",
            "\n",
            "0: 576x1024 2 lefts, 3 rights, 13.3ms\n",
            "Speed: 7.5ms preprocess, 13.3ms inference, 2.2ms postprocess per image at shape (1, 3, 576, 1024)\n",
            "\n",
            "0: 576x1024 2 rights, 13.9ms\n",
            "Speed: 7.5ms preprocess, 13.9ms inference, 2.2ms postprocess per image at shape (1, 3, 576, 1024)\n",
            "\n",
            "0: 576x1024 1 right, 12.3ms\n",
            "Speed: 6.7ms preprocess, 12.3ms inference, 2.0ms postprocess per image at shape (1, 3, 576, 1024)\n",
            "\n",
            "0: 576x1024 2 lefts, 1 right, 11.7ms\n",
            "Speed: 9.1ms preprocess, 11.7ms inference, 2.0ms postprocess per image at shape (1, 3, 576, 1024)\n",
            "\n",
            "0: 576x1024 2 lefts, 1 right, 13.6ms\n",
            "Speed: 6.3ms preprocess, 13.6ms inference, 2.7ms postprocess per image at shape (1, 3, 576, 1024)\n",
            "\n",
            "0: 576x1024 2 lefts, 2 rights, 13.8ms\n",
            "Speed: 8.7ms preprocess, 13.8ms inference, 2.2ms postprocess per image at shape (1, 3, 576, 1024)\n",
            "\n",
            "0: 576x1024 1 right, 11.4ms\n",
            "Speed: 6.1ms preprocess, 11.4ms inference, 2.0ms postprocess per image at shape (1, 3, 576, 1024)\n",
            "\n",
            "0: 576x1024 1 right, 12.4ms\n",
            "Speed: 8.1ms preprocess, 12.4ms inference, 2.1ms postprocess per image at shape (1, 3, 576, 1024)\n",
            "\n",
            "0: 576x1024 1 left, 1 right, 11.4ms\n",
            "Speed: 6.9ms preprocess, 11.4ms inference, 2.3ms postprocess per image at shape (1, 3, 576, 1024)\n",
            "\n",
            "0: 576x1024 (no detections), 11.4ms\n",
            "Speed: 6.9ms preprocess, 11.4ms inference, 0.5ms postprocess per image at shape (1, 3, 576, 1024)\n",
            "\n",
            "0: 576x1024 (no detections), 17.2ms\n",
            "Speed: 7.7ms preprocess, 17.2ms inference, 0.9ms postprocess per image at shape (1, 3, 576, 1024)\n"
          ]
        }
      ]
    },
    {
      "cell_type": "code",
      "source": [
        "from collections import defaultdict\n",
        "import cv2\n",
        "import numpy as np\n",
        "from ultralytics import YOLO\n",
        "\n",
        "# Load the YOLOv8 model\n",
        "model = YOLO('best.pt')\n",
        "\n",
        "# Open the video file\n",
        "video_path = \"Prueba 15.MOV\"\n",
        "cap = cv2.VideoCapture(video_path)\n",
        "\n",
        "# Get the video dimensions\n",
        "frame_width = int(cap.get(3))\n",
        "frame_height = int(cap.get(4))\n",
        "\n",
        "\n",
        "# Create a VideoWriter object to save the output video\n",
        "out = cv2.VideoWriter('output.avi', cv2.VideoWriter_fourcc('M','J','P','G'), 10, (frame_width, frame_height))\n",
        "\n",
        "# Store the track history\n",
        "track_history = defaultdict(lambda: [])\n",
        "\n",
        "# Loop through the video frames\n",
        "while cap.isOpened():\n",
        "    # Read a frame from the video\n",
        "    success, frame = cap.read()\n",
        "\n",
        "    if success:\n",
        "        # Run YOLOv8 tracking on the frame, persisting tracks between frames\n",
        "        results = model.track(frame, persist=True)\n",
        "\n",
        "        # Get the boxes and track IDs\n",
        "        boxes = results[0].boxes.xywh.cpu()\n",
        "        track_ids = results[0].boxes.id.int().cpu().tolist() if results[0].boxes.id is not None else []\n",
        "\n",
        "        # Visualize the results on the frame\n",
        "        annotated_frame = results[0].plot()\n",
        "\n",
        "        # Plot the tracks\n",
        "        for box, track_id in zip(boxes, track_ids):\n",
        "            x, y, w, h = box\n",
        "            track = track_history[track_id]\n",
        "            track.append((float(x), float(y)))  # x, y center point\n",
        "            if len(track) > 30:  # retain 90 tracks for 90 frames\n",
        "                track.pop(0)\n",
        "\n",
        "            # Draw the tracking lines\n",
        "            points = np.hstack(track).astype(np.int32).reshape((-1, 1, 2))\n",
        "            cv2.polylines(annotated_frame, [points], isClosed=False, color=(230, 230, 230), thickness=10)\n",
        "\n",
        "        # Write the annotated frame to the output video\n",
        "        out.write(annotated_frame)\n",
        "    else:\n",
        "        # Break the loop if the end of the video is reached\n",
        "        break\n",
        "\n",
        "# Release the video capture and writer objects\n",
        "cap.release()\n",
        "out.release()\n"
      ],
      "metadata": {
        "colab": {
          "base_uri": "https://localhost:8080/"
        },
        "id": "Lby7PFL9d5qx",
        "outputId": "adfc8116-8706-4bbb-f794-e47f66e305d5"
      },
      "execution_count": null,
      "outputs": [
        {
          "output_type": "stream",
          "name": "stdout",
          "text": [
            "\n",
            "0: 576x1024 (no detections), 12.0ms\n",
            "Speed: 4.6ms preprocess, 12.0ms inference, 0.5ms postprocess per image at shape (1, 3, 576, 1024)\n",
            "\n",
            "0: 576x1024 (no detections), 14.2ms\n",
            "Speed: 7.3ms preprocess, 14.2ms inference, 0.7ms postprocess per image at shape (1, 3, 576, 1024)\n",
            "\n",
            "0: 576x1024 (no detections), 13.8ms\n",
            "Speed: 7.1ms preprocess, 13.8ms inference, 0.7ms postprocess per image at shape (1, 3, 576, 1024)\n",
            "\n",
            "0: 576x1024 (no detections), 14.3ms\n",
            "Speed: 7.3ms preprocess, 14.3ms inference, 0.8ms postprocess per image at shape (1, 3, 576, 1024)\n",
            "\n",
            "0: 576x1024 (no detections), 15.0ms\n",
            "Speed: 6.6ms preprocess, 15.0ms inference, 0.9ms postprocess per image at shape (1, 3, 576, 1024)\n",
            "\n",
            "0: 576x1024 (no detections), 15.4ms\n",
            "Speed: 7.0ms preprocess, 15.4ms inference, 0.7ms postprocess per image at shape (1, 3, 576, 1024)\n",
            "\n",
            "0: 576x1024 (no detections), 14.9ms\n",
            "Speed: 6.8ms preprocess, 14.9ms inference, 0.7ms postprocess per image at shape (1, 3, 576, 1024)\n",
            "\n",
            "0: 576x1024 (no detections), 14.8ms\n",
            "Speed: 7.0ms preprocess, 14.8ms inference, 0.8ms postprocess per image at shape (1, 3, 576, 1024)\n",
            "\n",
            "0: 576x1024 (no detections), 17.0ms\n",
            "Speed: 6.7ms preprocess, 17.0ms inference, 0.8ms postprocess per image at shape (1, 3, 576, 1024)\n",
            "\n",
            "0: 576x1024 (no detections), 22.6ms\n",
            "Speed: 6.6ms preprocess, 22.6ms inference, 0.8ms postprocess per image at shape (1, 3, 576, 1024)\n",
            "\n",
            "0: 576x1024 (no detections), 14.0ms\n",
            "Speed: 6.5ms preprocess, 14.0ms inference, 0.7ms postprocess per image at shape (1, 3, 576, 1024)\n",
            "\n",
            "0: 576x1024 (no detections), 14.8ms\n",
            "Speed: 6.6ms preprocess, 14.8ms inference, 0.8ms postprocess per image at shape (1, 3, 576, 1024)\n",
            "\n",
            "0: 576x1024 (no detections), 14.1ms\n",
            "Speed: 6.9ms preprocess, 14.1ms inference, 0.8ms postprocess per image at shape (1, 3, 576, 1024)\n",
            "\n",
            "0: 576x1024 (no detections), 14.5ms\n",
            "Speed: 6.5ms preprocess, 14.5ms inference, 0.8ms postprocess per image at shape (1, 3, 576, 1024)\n",
            "\n",
            "0: 576x1024 (no detections), 14.3ms\n",
            "Speed: 6.3ms preprocess, 14.3ms inference, 0.7ms postprocess per image at shape (1, 3, 576, 1024)\n",
            "\n",
            "0: 576x1024 (no detections), 14.4ms\n",
            "Speed: 6.2ms preprocess, 14.4ms inference, 0.7ms postprocess per image at shape (1, 3, 576, 1024)\n",
            "\n",
            "0: 576x1024 (no detections), 16.1ms\n",
            "Speed: 7.4ms preprocess, 16.1ms inference, 0.8ms postprocess per image at shape (1, 3, 576, 1024)\n",
            "\n",
            "0: 576x1024 (no detections), 16.7ms\n",
            "Speed: 7.2ms preprocess, 16.7ms inference, 0.8ms postprocess per image at shape (1, 3, 576, 1024)\n",
            "\n",
            "0: 576x1024 (no detections), 14.9ms\n",
            "Speed: 7.4ms preprocess, 14.9ms inference, 0.8ms postprocess per image at shape (1, 3, 576, 1024)\n",
            "\n",
            "0: 576x1024 (no detections), 19.3ms\n",
            "Speed: 7.0ms preprocess, 19.3ms inference, 0.8ms postprocess per image at shape (1, 3, 576, 1024)\n",
            "\n",
            "0: 576x1024 (no detections), 14.2ms\n",
            "Speed: 7.3ms preprocess, 14.2ms inference, 0.7ms postprocess per image at shape (1, 3, 576, 1024)\n",
            "\n",
            "0: 576x1024 (no detections), 14.3ms\n",
            "Speed: 8.2ms preprocess, 14.3ms inference, 0.8ms postprocess per image at shape (1, 3, 576, 1024)\n",
            "\n",
            "0: 576x1024 (no detections), 14.9ms\n",
            "Speed: 7.9ms preprocess, 14.9ms inference, 0.7ms postprocess per image at shape (1, 3, 576, 1024)\n",
            "\n",
            "0: 576x1024 (no detections), 14.3ms\n",
            "Speed: 7.6ms preprocess, 14.3ms inference, 0.7ms postprocess per image at shape (1, 3, 576, 1024)\n",
            "\n",
            "0: 576x1024 (no detections), 14.1ms\n",
            "Speed: 7.9ms preprocess, 14.1ms inference, 0.7ms postprocess per image at shape (1, 3, 576, 1024)\n",
            "\n",
            "0: 576x1024 (no detections), 13.9ms\n",
            "Speed: 8.1ms preprocess, 13.9ms inference, 0.8ms postprocess per image at shape (1, 3, 576, 1024)\n",
            "\n",
            "0: 576x1024 (no detections), 12.9ms\n",
            "Speed: 6.7ms preprocess, 12.9ms inference, 0.7ms postprocess per image at shape (1, 3, 576, 1024)\n",
            "\n",
            "0: 576x1024 (no detections), 14.0ms\n",
            "Speed: 7.1ms preprocess, 14.0ms inference, 0.7ms postprocess per image at shape (1, 3, 576, 1024)\n",
            "\n",
            "0: 576x1024 (no detections), 13.6ms\n",
            "Speed: 7.3ms preprocess, 13.6ms inference, 0.8ms postprocess per image at shape (1, 3, 576, 1024)\n",
            "\n",
            "0: 576x1024 (no detections), 13.5ms\n",
            "Speed: 7.4ms preprocess, 13.5ms inference, 0.7ms postprocess per image at shape (1, 3, 576, 1024)\n",
            "\n",
            "0: 576x1024 (no detections), 16.6ms\n",
            "Speed: 7.3ms preprocess, 16.6ms inference, 0.8ms postprocess per image at shape (1, 3, 576, 1024)\n",
            "\n",
            "0: 576x1024 (no detections), 19.9ms\n",
            "Speed: 7.6ms preprocess, 19.9ms inference, 0.8ms postprocess per image at shape (1, 3, 576, 1024)\n",
            "\n",
            "0: 576x1024 (no detections), 36.0ms\n",
            "Speed: 10.6ms preprocess, 36.0ms inference, 2.9ms postprocess per image at shape (1, 3, 576, 1024)\n",
            "\n",
            "0: 576x1024 (no detections), 15.0ms\n",
            "Speed: 13.3ms preprocess, 15.0ms inference, 0.7ms postprocess per image at shape (1, 3, 576, 1024)\n",
            "\n",
            "0: 576x1024 (no detections), 27.3ms\n",
            "Speed: 8.4ms preprocess, 27.3ms inference, 0.7ms postprocess per image at shape (1, 3, 576, 1024)\n",
            "\n",
            "0: 576x1024 (no detections), 13.5ms\n",
            "Speed: 11.6ms preprocess, 13.5ms inference, 0.7ms postprocess per image at shape (1, 3, 576, 1024)\n",
            "\n",
            "0: 576x1024 (no detections), 34.3ms\n",
            "Speed: 19.7ms preprocess, 34.3ms inference, 0.7ms postprocess per image at shape (1, 3, 576, 1024)\n",
            "\n",
            "0: 576x1024 (no detections), 18.7ms\n",
            "Speed: 7.5ms preprocess, 18.7ms inference, 0.7ms postprocess per image at shape (1, 3, 576, 1024)\n",
            "\n",
            "0: 576x1024 (no detections), 15.3ms\n",
            "Speed: 19.0ms preprocess, 15.3ms inference, 0.7ms postprocess per image at shape (1, 3, 576, 1024)\n",
            "\n",
            "0: 576x1024 (no detections), 17.5ms\n",
            "Speed: 16.4ms preprocess, 17.5ms inference, 0.7ms postprocess per image at shape (1, 3, 576, 1024)\n",
            "\n",
            "0: 576x1024 (no detections), 22.5ms\n",
            "Speed: 6.8ms preprocess, 22.5ms inference, 0.6ms postprocess per image at shape (1, 3, 576, 1024)\n",
            "\n",
            "0: 576x1024 (no detections), 24.3ms\n",
            "Speed: 8.7ms preprocess, 24.3ms inference, 0.7ms postprocess per image at shape (1, 3, 576, 1024)\n",
            "\n",
            "0: 576x1024 (no detections), 17.3ms\n",
            "Speed: 6.8ms preprocess, 17.3ms inference, 0.7ms postprocess per image at shape (1, 3, 576, 1024)\n",
            "\n",
            "0: 576x1024 (no detections), 24.9ms\n",
            "Speed: 12.7ms preprocess, 24.9ms inference, 0.8ms postprocess per image at shape (1, 3, 576, 1024)\n",
            "\n",
            "0: 576x1024 (no detections), 17.7ms\n",
            "Speed: 7.1ms preprocess, 17.7ms inference, 0.6ms postprocess per image at shape (1, 3, 576, 1024)\n",
            "\n",
            "0: 576x1024 (no detections), 17.8ms\n",
            "Speed: 7.0ms preprocess, 17.8ms inference, 0.8ms postprocess per image at shape (1, 3, 576, 1024)\n",
            "\n",
            "0: 576x1024 (no detections), 18.1ms\n",
            "Speed: 6.8ms preprocess, 18.1ms inference, 0.8ms postprocess per image at shape (1, 3, 576, 1024)\n",
            "\n",
            "0: 576x1024 (no detections), 18.8ms\n",
            "Speed: 6.7ms preprocess, 18.8ms inference, 0.8ms postprocess per image at shape (1, 3, 576, 1024)\n",
            "\n",
            "0: 576x1024 (no detections), 28.7ms\n",
            "Speed: 13.5ms preprocess, 28.7ms inference, 0.8ms postprocess per image at shape (1, 3, 576, 1024)\n",
            "\n",
            "0: 576x1024 (no detections), 14.3ms\n",
            "Speed: 21.0ms preprocess, 14.3ms inference, 0.7ms postprocess per image at shape (1, 3, 576, 1024)\n",
            "\n",
            "0: 576x1024 (no detections), 16.8ms\n",
            "Speed: 13.7ms preprocess, 16.8ms inference, 0.8ms postprocess per image at shape (1, 3, 576, 1024)\n",
            "\n",
            "0: 576x1024 (no detections), 27.7ms\n",
            "Speed: 6.9ms preprocess, 27.7ms inference, 0.7ms postprocess per image at shape (1, 3, 576, 1024)\n",
            "\n",
            "0: 576x1024 (no detections), 39.8ms\n",
            "Speed: 14.9ms preprocess, 39.8ms inference, 0.7ms postprocess per image at shape (1, 3, 576, 1024)\n",
            "\n",
            "0: 576x1024 (no detections), 30.8ms\n",
            "Speed: 14.7ms preprocess, 30.8ms inference, 0.8ms postprocess per image at shape (1, 3, 576, 1024)\n",
            "\n",
            "0: 576x1024 (no detections), 15.6ms\n",
            "Speed: 10.5ms preprocess, 15.6ms inference, 0.8ms postprocess per image at shape (1, 3, 576, 1024)\n",
            "\n",
            "0: 576x1024 (no detections), 24.8ms\n",
            "Speed: 13.6ms preprocess, 24.8ms inference, 0.8ms postprocess per image at shape (1, 3, 576, 1024)\n",
            "\n",
            "0: 576x1024 (no detections), 13.7ms\n",
            "Speed: 7.2ms preprocess, 13.7ms inference, 0.7ms postprocess per image at shape (1, 3, 576, 1024)\n",
            "\n",
            "0: 576x1024 (no detections), 13.1ms\n",
            "Speed: 7.8ms preprocess, 13.1ms inference, 0.5ms postprocess per image at shape (1, 3, 576, 1024)\n",
            "\n",
            "0: 576x1024 (no detections), 13.5ms\n",
            "Speed: 8.8ms preprocess, 13.5ms inference, 0.8ms postprocess per image at shape (1, 3, 576, 1024)\n",
            "\n",
            "0: 576x1024 (no detections), 12.9ms\n",
            "Speed: 9.8ms preprocess, 12.9ms inference, 0.6ms postprocess per image at shape (1, 3, 576, 1024)\n",
            "\n",
            "0: 576x1024 (no detections), 12.9ms\n",
            "Speed: 8.8ms preprocess, 12.9ms inference, 0.6ms postprocess per image at shape (1, 3, 576, 1024)\n",
            "\n",
            "0: 576x1024 (no detections), 13.2ms\n",
            "Speed: 6.9ms preprocess, 13.2ms inference, 0.5ms postprocess per image at shape (1, 3, 576, 1024)\n",
            "\n",
            "0: 576x1024 (no detections), 13.4ms\n",
            "Speed: 7.2ms preprocess, 13.4ms inference, 0.9ms postprocess per image at shape (1, 3, 576, 1024)\n",
            "\n",
            "0: 576x1024 (no detections), 13.3ms\n",
            "Speed: 7.4ms preprocess, 13.3ms inference, 0.8ms postprocess per image at shape (1, 3, 576, 1024)\n",
            "\n",
            "0: 576x1024 (no detections), 13.5ms\n",
            "Speed: 7.0ms preprocess, 13.5ms inference, 0.5ms postprocess per image at shape (1, 3, 576, 1024)\n",
            "\n",
            "0: 576x1024 (no detections), 11.7ms\n",
            "Speed: 7.1ms preprocess, 11.7ms inference, 0.5ms postprocess per image at shape (1, 3, 576, 1024)\n",
            "\n",
            "0: 576x1024 (no detections), 17.2ms\n",
            "Speed: 7.4ms preprocess, 17.2ms inference, 0.8ms postprocess per image at shape (1, 3, 576, 1024)\n",
            "\n",
            "0: 576x1024 (no detections), 13.3ms\n",
            "Speed: 7.2ms preprocess, 13.3ms inference, 0.6ms postprocess per image at shape (1, 3, 576, 1024)\n",
            "\n",
            "0: 576x1024 (no detections), 12.6ms\n",
            "Speed: 7.5ms preprocess, 12.6ms inference, 0.5ms postprocess per image at shape (1, 3, 576, 1024)\n",
            "\n",
            "0: 576x1024 (no detections), 12.4ms\n",
            "Speed: 7.4ms preprocess, 12.4ms inference, 0.6ms postprocess per image at shape (1, 3, 576, 1024)\n",
            "\n",
            "0: 576x1024 (no detections), 15.3ms\n",
            "Speed: 9.2ms preprocess, 15.3ms inference, 0.8ms postprocess per image at shape (1, 3, 576, 1024)\n",
            "\n",
            "0: 576x1024 (no detections), 13.7ms\n",
            "Speed: 8.1ms preprocess, 13.7ms inference, 0.8ms postprocess per image at shape (1, 3, 576, 1024)\n",
            "\n",
            "0: 576x1024 (no detections), 12.9ms\n",
            "Speed: 10.1ms preprocess, 12.9ms inference, 0.5ms postprocess per image at shape (1, 3, 576, 1024)\n",
            "\n",
            "0: 576x1024 (no detections), 12.8ms\n",
            "Speed: 7.2ms preprocess, 12.8ms inference, 0.7ms postprocess per image at shape (1, 3, 576, 1024)\n",
            "\n",
            "0: 576x1024 (no detections), 12.7ms\n",
            "Speed: 6.8ms preprocess, 12.7ms inference, 0.7ms postprocess per image at shape (1, 3, 576, 1024)\n",
            "\n",
            "0: 576x1024 (no detections), 13.1ms\n",
            "Speed: 7.0ms preprocess, 13.1ms inference, 0.7ms postprocess per image at shape (1, 3, 576, 1024)\n",
            "\n",
            "0: 576x1024 (no detections), 13.9ms\n",
            "Speed: 8.0ms preprocess, 13.9ms inference, 0.5ms postprocess per image at shape (1, 3, 576, 1024)\n",
            "\n",
            "0: 576x1024 (no detections), 14.0ms\n",
            "Speed: 7.0ms preprocess, 14.0ms inference, 0.7ms postprocess per image at shape (1, 3, 576, 1024)\n",
            "\n",
            "0: 576x1024 (no detections), 15.6ms\n",
            "Speed: 7.8ms preprocess, 15.6ms inference, 0.7ms postprocess per image at shape (1, 3, 576, 1024)\n",
            "\n",
            "0: 576x1024 (no detections), 13.6ms\n",
            "Speed: 9.3ms preprocess, 13.6ms inference, 0.6ms postprocess per image at shape (1, 3, 576, 1024)\n",
            "\n",
            "0: 576x1024 (no detections), 12.2ms\n",
            "Speed: 6.8ms preprocess, 12.2ms inference, 0.5ms postprocess per image at shape (1, 3, 576, 1024)\n",
            "\n",
            "0: 576x1024 (no detections), 18.6ms\n",
            "Speed: 7.1ms preprocess, 18.6ms inference, 0.8ms postprocess per image at shape (1, 3, 576, 1024)\n",
            "\n",
            "0: 576x1024 (no detections), 12.9ms\n",
            "Speed: 7.2ms preprocess, 12.9ms inference, 0.9ms postprocess per image at shape (1, 3, 576, 1024)\n",
            "\n",
            "0: 576x1024 (no detections), 14.2ms\n",
            "Speed: 7.5ms preprocess, 14.2ms inference, 0.8ms postprocess per image at shape (1, 3, 576, 1024)\n",
            "\n",
            "0: 576x1024 (no detections), 13.4ms\n",
            "Speed: 9.8ms preprocess, 13.4ms inference, 0.6ms postprocess per image at shape (1, 3, 576, 1024)\n",
            "\n",
            "0: 576x1024 (no detections), 12.5ms\n",
            "Speed: 7.0ms preprocess, 12.5ms inference, 0.5ms postprocess per image at shape (1, 3, 576, 1024)\n",
            "\n",
            "0: 576x1024 (no detections), 22.6ms\n",
            "Speed: 6.9ms preprocess, 22.6ms inference, 0.7ms postprocess per image at shape (1, 3, 576, 1024)\n",
            "\n",
            "0: 576x1024 (no detections), 11.7ms\n",
            "Speed: 7.1ms preprocess, 11.7ms inference, 0.5ms postprocess per image at shape (1, 3, 576, 1024)\n",
            "\n",
            "0: 576x1024 (no detections), 13.1ms\n",
            "Speed: 7.1ms preprocess, 13.1ms inference, 0.5ms postprocess per image at shape (1, 3, 576, 1024)\n",
            "\n",
            "0: 576x1024 (no detections), 13.3ms\n",
            "Speed: 6.9ms preprocess, 13.3ms inference, 0.6ms postprocess per image at shape (1, 3, 576, 1024)\n",
            "\n",
            "0: 576x1024 (no detections), 13.3ms\n",
            "Speed: 6.9ms preprocess, 13.3ms inference, 0.7ms postprocess per image at shape (1, 3, 576, 1024)\n",
            "\n",
            "0: 576x1024 (no detections), 17.9ms\n",
            "Speed: 7.3ms preprocess, 17.9ms inference, 0.8ms postprocess per image at shape (1, 3, 576, 1024)\n",
            "\n",
            "0: 576x1024 (no detections), 13.2ms\n",
            "Speed: 7.1ms preprocess, 13.2ms inference, 0.7ms postprocess per image at shape (1, 3, 576, 1024)\n",
            "\n",
            "0: 576x1024 (no detections), 13.1ms\n",
            "Speed: 7.3ms preprocess, 13.1ms inference, 0.6ms postprocess per image at shape (1, 3, 576, 1024)\n",
            "\n",
            "0: 576x1024 (no detections), 11.5ms\n",
            "Speed: 7.3ms preprocess, 11.5ms inference, 0.5ms postprocess per image at shape (1, 3, 576, 1024)\n",
            "\n",
            "0: 576x1024 (no detections), 13.0ms\n",
            "Speed: 7.3ms preprocess, 13.0ms inference, 0.5ms postprocess per image at shape (1, 3, 576, 1024)\n",
            "\n",
            "0: 576x1024 (no detections), 16.6ms\n",
            "Speed: 7.1ms preprocess, 16.6ms inference, 0.8ms postprocess per image at shape (1, 3, 576, 1024)\n",
            "\n",
            "0: 576x1024 (no detections), 13.6ms\n",
            "Speed: 7.1ms preprocess, 13.6ms inference, 0.7ms postprocess per image at shape (1, 3, 576, 1024)\n",
            "\n",
            "0: 576x1024 (no detections), 13.3ms\n",
            "Speed: 7.3ms preprocess, 13.3ms inference, 0.7ms postprocess per image at shape (1, 3, 576, 1024)\n",
            "\n",
            "0: 576x1024 (no detections), 11.9ms\n",
            "Speed: 7.4ms preprocess, 11.9ms inference, 0.7ms postprocess per image at shape (1, 3, 576, 1024)\n",
            "\n",
            "0: 576x1024 (no detections), 14.9ms\n",
            "Speed: 7.5ms preprocess, 14.9ms inference, 0.7ms postprocess per image at shape (1, 3, 576, 1024)\n",
            "\n",
            "0: 576x1024 (no detections), 13.3ms\n",
            "Speed: 7.1ms preprocess, 13.3ms inference, 0.9ms postprocess per image at shape (1, 3, 576, 1024)\n",
            "\n",
            "0: 576x1024 (no detections), 13.5ms\n",
            "Speed: 6.8ms preprocess, 13.5ms inference, 0.5ms postprocess per image at shape (1, 3, 576, 1024)\n",
            "\n",
            "0: 576x1024 (no detections), 13.4ms\n",
            "Speed: 9.1ms preprocess, 13.4ms inference, 0.5ms postprocess per image at shape (1, 3, 576, 1024)\n",
            "\n",
            "0: 576x1024 (no detections), 13.0ms\n",
            "Speed: 7.3ms preprocess, 13.0ms inference, 0.7ms postprocess per image at shape (1, 3, 576, 1024)\n",
            "\n",
            "0: 576x1024 (no detections), 16.2ms\n",
            "Speed: 7.1ms preprocess, 16.2ms inference, 0.7ms postprocess per image at shape (1, 3, 576, 1024)\n",
            "\n",
            "0: 576x1024 (no detections), 12.2ms\n",
            "Speed: 6.8ms preprocess, 12.2ms inference, 0.7ms postprocess per image at shape (1, 3, 576, 1024)\n",
            "\n",
            "0: 576x1024 (no detections), 12.5ms\n",
            "Speed: 6.6ms preprocess, 12.5ms inference, 0.7ms postprocess per image at shape (1, 3, 576, 1024)\n",
            "\n",
            "0: 576x1024 (no detections), 13.1ms\n",
            "Speed: 6.9ms preprocess, 13.1ms inference, 0.7ms postprocess per image at shape (1, 3, 576, 1024)\n",
            "\n",
            "0: 576x1024 (no detections), 13.4ms\n",
            "Speed: 7.1ms preprocess, 13.4ms inference, 0.7ms postprocess per image at shape (1, 3, 576, 1024)\n",
            "\n",
            "0: 576x1024 (no detections), 13.3ms\n",
            "Speed: 6.8ms preprocess, 13.3ms inference, 0.5ms postprocess per image at shape (1, 3, 576, 1024)\n",
            "\n",
            "0: 576x1024 (no detections), 13.2ms\n",
            "Speed: 7.2ms preprocess, 13.2ms inference, 0.5ms postprocess per image at shape (1, 3, 576, 1024)\n",
            "\n",
            "0: 576x1024 (no detections), 13.4ms\n",
            "Speed: 6.9ms preprocess, 13.4ms inference, 0.7ms postprocess per image at shape (1, 3, 576, 1024)\n",
            "\n",
            "0: 576x1024 (no detections), 13.0ms\n",
            "Speed: 7.5ms preprocess, 13.0ms inference, 0.7ms postprocess per image at shape (1, 3, 576, 1024)\n",
            "\n",
            "0: 576x1024 (no detections), 13.4ms\n",
            "Speed: 7.1ms preprocess, 13.4ms inference, 0.6ms postprocess per image at shape (1, 3, 576, 1024)\n",
            "\n",
            "0: 576x1024 (no detections), 12.9ms\n",
            "Speed: 7.3ms preprocess, 12.9ms inference, 0.5ms postprocess per image at shape (1, 3, 576, 1024)\n",
            "\n",
            "0: 576x1024 (no detections), 12.9ms\n",
            "Speed: 6.8ms preprocess, 12.9ms inference, 0.7ms postprocess per image at shape (1, 3, 576, 1024)\n",
            "\n",
            "0: 576x1024 (no detections), 15.0ms\n",
            "Speed: 6.8ms preprocess, 15.0ms inference, 0.5ms postprocess per image at shape (1, 3, 576, 1024)\n",
            "\n",
            "0: 576x1024 (no detections), 13.4ms\n",
            "Speed: 7.5ms preprocess, 13.4ms inference, 0.8ms postprocess per image at shape (1, 3, 576, 1024)\n",
            "\n",
            "0: 576x1024 (no detections), 13.5ms\n",
            "Speed: 7.2ms preprocess, 13.5ms inference, 0.7ms postprocess per image at shape (1, 3, 576, 1024)\n",
            "\n",
            "0: 576x1024 (no detections), 13.4ms\n",
            "Speed: 7.1ms preprocess, 13.4ms inference, 0.7ms postprocess per image at shape (1, 3, 576, 1024)\n",
            "\n",
            "0: 576x1024 (no detections), 14.0ms\n",
            "Speed: 7.4ms preprocess, 14.0ms inference, 1.0ms postprocess per image at shape (1, 3, 576, 1024)\n",
            "\n",
            "0: 576x1024 (no detections), 13.2ms\n",
            "Speed: 7.1ms preprocess, 13.2ms inference, 0.8ms postprocess per image at shape (1, 3, 576, 1024)\n",
            "\n",
            "0: 576x1024 (no detections), 15.0ms\n",
            "Speed: 7.7ms preprocess, 15.0ms inference, 0.5ms postprocess per image at shape (1, 3, 576, 1024)\n",
            "\n",
            "0: 576x1024 (no detections), 12.8ms\n",
            "Speed: 7.4ms preprocess, 12.8ms inference, 0.5ms postprocess per image at shape (1, 3, 576, 1024)\n",
            "\n",
            "0: 576x1024 (no detections), 11.6ms\n",
            "Speed: 7.3ms preprocess, 11.6ms inference, 0.5ms postprocess per image at shape (1, 3, 576, 1024)\n",
            "\n",
            "0: 576x1024 (no detections), 13.6ms\n",
            "Speed: 7.0ms preprocess, 13.6ms inference, 0.7ms postprocess per image at shape (1, 3, 576, 1024)\n",
            "\n",
            "0: 576x1024 (no detections), 13.1ms\n",
            "Speed: 10.7ms preprocess, 13.1ms inference, 0.5ms postprocess per image at shape (1, 3, 576, 1024)\n",
            "\n",
            "0: 576x1024 (no detections), 11.4ms\n",
            "Speed: 7.0ms preprocess, 11.4ms inference, 0.6ms postprocess per image at shape (1, 3, 576, 1024)\n",
            "\n",
            "0: 576x1024 (no detections), 11.5ms\n",
            "Speed: 10.6ms preprocess, 11.5ms inference, 0.5ms postprocess per image at shape (1, 3, 576, 1024)\n",
            "\n",
            "0: 576x1024 (no detections), 13.4ms\n",
            "Speed: 7.3ms preprocess, 13.4ms inference, 0.7ms postprocess per image at shape (1, 3, 576, 1024)\n",
            "\n",
            "0: 576x1024 (no detections), 13.9ms\n",
            "Speed: 7.4ms preprocess, 13.9ms inference, 0.7ms postprocess per image at shape (1, 3, 576, 1024)\n",
            "\n",
            "0: 576x1024 (no detections), 14.4ms\n",
            "Speed: 7.3ms preprocess, 14.4ms inference, 0.5ms postprocess per image at shape (1, 3, 576, 1024)\n",
            "\n",
            "0: 576x1024 (no detections), 11.8ms\n",
            "Speed: 7.0ms preprocess, 11.8ms inference, 0.6ms postprocess per image at shape (1, 3, 576, 1024)\n",
            "\n",
            "0: 576x1024 (no detections), 12.9ms\n",
            "Speed: 7.2ms preprocess, 12.9ms inference, 0.8ms postprocess per image at shape (1, 3, 576, 1024)\n",
            "\n",
            "0: 576x1024 (no detections), 15.9ms\n",
            "Speed: 6.7ms preprocess, 15.9ms inference, 0.6ms postprocess per image at shape (1, 3, 576, 1024)\n",
            "\n",
            "0: 576x1024 (no detections), 12.9ms\n",
            "Speed: 7.0ms preprocess, 12.9ms inference, 0.6ms postprocess per image at shape (1, 3, 576, 1024)\n",
            "\n",
            "0: 576x1024 (no detections), 12.3ms\n",
            "Speed: 6.9ms preprocess, 12.3ms inference, 0.5ms postprocess per image at shape (1, 3, 576, 1024)\n",
            "\n",
            "0: 576x1024 (no detections), 12.9ms\n",
            "Speed: 9.8ms preprocess, 12.9ms inference, 0.7ms postprocess per image at shape (1, 3, 576, 1024)\n",
            "\n",
            "0: 576x1024 (no detections), 13.8ms\n",
            "Speed: 7.5ms preprocess, 13.8ms inference, 0.7ms postprocess per image at shape (1, 3, 576, 1024)\n",
            "\n",
            "0: 576x1024 (no detections), 11.5ms\n",
            "Speed: 7.0ms preprocess, 11.5ms inference, 0.6ms postprocess per image at shape (1, 3, 576, 1024)\n",
            "\n",
            "0: 576x1024 (no detections), 15.8ms\n",
            "Speed: 7.6ms preprocess, 15.8ms inference, 0.8ms postprocess per image at shape (1, 3, 576, 1024)\n",
            "\n",
            "0: 576x1024 (no detections), 13.2ms\n",
            "Speed: 8.8ms preprocess, 13.2ms inference, 0.7ms postprocess per image at shape (1, 3, 576, 1024)\n",
            "\n",
            "0: 576x1024 (no detections), 13.6ms\n",
            "Speed: 8.1ms preprocess, 13.6ms inference, 0.6ms postprocess per image at shape (1, 3, 576, 1024)\n",
            "\n",
            "0: 576x1024 (no detections), 13.3ms\n",
            "Speed: 8.0ms preprocess, 13.3ms inference, 0.5ms postprocess per image at shape (1, 3, 576, 1024)\n",
            "\n",
            "0: 576x1024 (no detections), 13.5ms\n",
            "Speed: 6.9ms preprocess, 13.5ms inference, 0.5ms postprocess per image at shape (1, 3, 576, 1024)\n",
            "\n",
            "0: 576x1024 (no detections), 12.9ms\n",
            "Speed: 7.3ms preprocess, 12.9ms inference, 0.7ms postprocess per image at shape (1, 3, 576, 1024)\n",
            "\n",
            "0: 576x1024 (no detections), 13.3ms\n",
            "Speed: 7.2ms preprocess, 13.3ms inference, 0.6ms postprocess per image at shape (1, 3, 576, 1024)\n",
            "\n",
            "0: 576x1024 (no detections), 13.6ms\n",
            "Speed: 7.1ms preprocess, 13.6ms inference, 0.7ms postprocess per image at shape (1, 3, 576, 1024)\n",
            "\n",
            "0: 576x1024 (no detections), 13.7ms\n",
            "Speed: 8.8ms preprocess, 13.7ms inference, 0.6ms postprocess per image at shape (1, 3, 576, 1024)\n",
            "\n",
            "0: 576x1024 (no detections), 13.6ms\n",
            "Speed: 8.7ms preprocess, 13.6ms inference, 0.7ms postprocess per image at shape (1, 3, 576, 1024)\n",
            "\n",
            "0: 576x1024 (no detections), 13.8ms\n",
            "Speed: 7.0ms preprocess, 13.8ms inference, 0.7ms postprocess per image at shape (1, 3, 576, 1024)\n",
            "\n",
            "0: 576x1024 (no detections), 13.3ms\n",
            "Speed: 9.9ms preprocess, 13.3ms inference, 0.7ms postprocess per image at shape (1, 3, 576, 1024)\n",
            "\n",
            "0: 576x1024 (no detections), 14.0ms\n",
            "Speed: 9.0ms preprocess, 14.0ms inference, 0.7ms postprocess per image at shape (1, 3, 576, 1024)\n",
            "\n",
            "0: 576x1024 (no detections), 13.6ms\n",
            "Speed: 7.4ms preprocess, 13.6ms inference, 0.5ms postprocess per image at shape (1, 3, 576, 1024)\n",
            "\n",
            "0: 576x1024 (no detections), 14.0ms\n",
            "Speed: 7.5ms preprocess, 14.0ms inference, 0.5ms postprocess per image at shape (1, 3, 576, 1024)\n",
            "\n",
            "0: 576x1024 (no detections), 13.0ms\n",
            "Speed: 7.1ms preprocess, 13.0ms inference, 0.7ms postprocess per image at shape (1, 3, 576, 1024)\n",
            "\n",
            "0: 576x1024 (no detections), 13.9ms\n",
            "Speed: 7.7ms preprocess, 13.9ms inference, 0.7ms postprocess per image at shape (1, 3, 576, 1024)\n",
            "\n",
            "0: 576x1024 (no detections), 12.2ms\n",
            "Speed: 7.2ms preprocess, 12.2ms inference, 0.5ms postprocess per image at shape (1, 3, 576, 1024)\n",
            "\n",
            "0: 576x1024 (no detections), 12.0ms\n",
            "Speed: 7.3ms preprocess, 12.0ms inference, 0.5ms postprocess per image at shape (1, 3, 576, 1024)\n",
            "\n",
            "0: 576x1024 (no detections), 12.8ms\n",
            "Speed: 7.3ms preprocess, 12.8ms inference, 0.8ms postprocess per image at shape (1, 3, 576, 1024)\n",
            "\n",
            "0: 576x1024 (no detections), 13.1ms\n",
            "Speed: 7.3ms preprocess, 13.1ms inference, 0.7ms postprocess per image at shape (1, 3, 576, 1024)\n",
            "\n",
            "0: 576x1024 (no detections), 13.1ms\n",
            "Speed: 7.4ms preprocess, 13.1ms inference, 0.6ms postprocess per image at shape (1, 3, 576, 1024)\n",
            "\n",
            "0: 576x1024 (no detections), 13.7ms\n",
            "Speed: 6.6ms preprocess, 13.7ms inference, 0.5ms postprocess per image at shape (1, 3, 576, 1024)\n",
            "\n",
            "0: 576x1024 (no detections), 13.4ms\n",
            "Speed: 6.2ms preprocess, 13.4ms inference, 0.7ms postprocess per image at shape (1, 3, 576, 1024)\n",
            "\n",
            "0: 576x1024 (no detections), 13.7ms\n",
            "Speed: 6.8ms preprocess, 13.7ms inference, 0.7ms postprocess per image at shape (1, 3, 576, 1024)\n",
            "\n",
            "0: 576x1024 (no detections), 13.7ms\n",
            "Speed: 6.2ms preprocess, 13.7ms inference, 0.7ms postprocess per image at shape (1, 3, 576, 1024)\n",
            "\n",
            "0: 576x1024 (no detections), 13.8ms\n",
            "Speed: 6.9ms preprocess, 13.8ms inference, 0.6ms postprocess per image at shape (1, 3, 576, 1024)\n",
            "\n",
            "0: 576x1024 (no detections), 13.0ms\n",
            "Speed: 6.9ms preprocess, 13.0ms inference, 0.7ms postprocess per image at shape (1, 3, 576, 1024)\n",
            "\n",
            "0: 576x1024 1 left, 13.5ms\n",
            "Speed: 6.3ms preprocess, 13.5ms inference, 2.8ms postprocess per image at shape (1, 3, 576, 1024)\n",
            "\n",
            "0: 576x1024 1 left, 11.5ms\n",
            "Speed: 7.0ms preprocess, 11.5ms inference, 1.9ms postprocess per image at shape (1, 3, 576, 1024)\n",
            "\n",
            "0: 576x1024 3 lefts, 13.2ms\n",
            "Speed: 7.4ms preprocess, 13.2ms inference, 1.9ms postprocess per image at shape (1, 3, 576, 1024)\n",
            "\n",
            "0: 576x1024 2 lefts, 1 right, 13.5ms\n",
            "Speed: 6.8ms preprocess, 13.5ms inference, 2.8ms postprocess per image at shape (1, 3, 576, 1024)\n",
            "\n",
            "0: 576x1024 2 lefts, 1 right, 13.3ms\n",
            "Speed: 7.5ms preprocess, 13.3ms inference, 3.3ms postprocess per image at shape (1, 3, 576, 1024)\n",
            "\n",
            "0: 576x1024 2 lefts, 2 rights, 11.5ms\n",
            "Speed: 7.3ms preprocess, 11.5ms inference, 2.0ms postprocess per image at shape (1, 3, 576, 1024)\n",
            "\n",
            "0: 576x1024 2 rights, 14.3ms\n",
            "Speed: 7.4ms preprocess, 14.3ms inference, 2.0ms postprocess per image at shape (1, 3, 576, 1024)\n",
            "\n",
            "0: 576x1024 1 left, 1 right, 13.2ms\n",
            "Speed: 7.2ms preprocess, 13.2ms inference, 2.8ms postprocess per image at shape (1, 3, 576, 1024)\n",
            "\n",
            "0: 576x1024 2 lefts, 1 right, 12.5ms\n",
            "Speed: 7.0ms preprocess, 12.5ms inference, 2.0ms postprocess per image at shape (1, 3, 576, 1024)\n",
            "\n",
            "0: 576x1024 3 lefts, 1 right, 13.1ms\n",
            "Speed: 7.2ms preprocess, 13.1ms inference, 2.7ms postprocess per image at shape (1, 3, 576, 1024)\n",
            "\n",
            "0: 576x1024 2 lefts, 2 rights, 13.5ms\n",
            "Speed: 7.3ms preprocess, 13.5ms inference, 2.1ms postprocess per image at shape (1, 3, 576, 1024)\n",
            "\n",
            "0: 576x1024 3 lefts, 1 right, 13.7ms\n",
            "Speed: 8.1ms preprocess, 13.7ms inference, 2.1ms postprocess per image at shape (1, 3, 576, 1024)\n",
            "\n",
            "0: 576x1024 2 rights, 12.1ms\n",
            "Speed: 7.9ms preprocess, 12.1ms inference, 2.0ms postprocess per image at shape (1, 3, 576, 1024)\n",
            "\n",
            "0: 576x1024 2 lefts, 1 right, 14.6ms\n",
            "Speed: 7.1ms preprocess, 14.6ms inference, 2.5ms postprocess per image at shape (1, 3, 576, 1024)\n",
            "\n",
            "0: 576x1024 2 lefts, 3 rights, 13.2ms\n",
            "Speed: 10.9ms preprocess, 13.2ms inference, 3.1ms postprocess per image at shape (1, 3, 576, 1024)\n",
            "\n",
            "0: 576x1024 2 lefts, 2 rights, 13.8ms\n",
            "Speed: 6.6ms preprocess, 13.8ms inference, 2.0ms postprocess per image at shape (1, 3, 576, 1024)\n",
            "\n",
            "0: 576x1024 2 lefts, 2 rights, 13.1ms\n",
            "Speed: 6.7ms preprocess, 13.1ms inference, 2.4ms postprocess per image at shape (1, 3, 576, 1024)\n",
            "\n",
            "0: 576x1024 1 left, 2 rights, 12.9ms\n",
            "Speed: 6.9ms preprocess, 12.9ms inference, 2.9ms postprocess per image at shape (1, 3, 576, 1024)\n",
            "\n",
            "0: 576x1024 3 lefts, 2 rights, 12.9ms\n",
            "Speed: 7.0ms preprocess, 12.9ms inference, 1.9ms postprocess per image at shape (1, 3, 576, 1024)\n",
            "\n",
            "0: 576x1024 2 lefts, 2 rights, 12.1ms\n",
            "Speed: 7.2ms preprocess, 12.1ms inference, 1.9ms postprocess per image at shape (1, 3, 576, 1024)\n",
            "\n",
            "0: 576x1024 1 left, 1 right, 15.4ms\n",
            "Speed: 10.1ms preprocess, 15.4ms inference, 2.9ms postprocess per image at shape (1, 3, 576, 1024)\n",
            "\n",
            "0: 576x1024 1 left, 3 rights, 20.8ms\n",
            "Speed: 7.6ms preprocess, 20.8ms inference, 2.8ms postprocess per image at shape (1, 3, 576, 1024)\n",
            "\n",
            "0: 576x1024 2 lefts, 2 rights, 12.8ms\n",
            "Speed: 7.6ms preprocess, 12.8ms inference, 2.7ms postprocess per image at shape (1, 3, 576, 1024)\n",
            "\n",
            "0: 576x1024 1 left, 2 rights, 14.9ms\n",
            "Speed: 9.2ms preprocess, 14.9ms inference, 2.8ms postprocess per image at shape (1, 3, 576, 1024)\n",
            "\n",
            "0: 576x1024 1 left, 2 rights, 15.2ms\n",
            "Speed: 14.4ms preprocess, 15.2ms inference, 2.6ms postprocess per image at shape (1, 3, 576, 1024)\n",
            "\n",
            "0: 576x1024 1 left, 2 rights, 19.4ms\n",
            "Speed: 7.1ms preprocess, 19.4ms inference, 7.4ms postprocess per image at shape (1, 3, 576, 1024)\n",
            "\n",
            "0: 576x1024 2 lefts, 3 rights, 22.7ms\n",
            "Speed: 10.4ms preprocess, 22.7ms inference, 2.6ms postprocess per image at shape (1, 3, 576, 1024)\n",
            "\n",
            "0: 576x1024 2 lefts, 1 right, 15.0ms\n",
            "Speed: 14.3ms preprocess, 15.0ms inference, 2.9ms postprocess per image at shape (1, 3, 576, 1024)\n",
            "\n",
            "0: 576x1024 2 lefts, 1 right, 14.3ms\n",
            "Speed: 14.4ms preprocess, 14.3ms inference, 3.0ms postprocess per image at shape (1, 3, 576, 1024)\n",
            "\n",
            "0: 576x1024 1 left, 1 right, 24.5ms\n",
            "Speed: 11.9ms preprocess, 24.5ms inference, 2.7ms postprocess per image at shape (1, 3, 576, 1024)\n",
            "\n",
            "0: 576x1024 2 rights, 28.8ms\n",
            "Speed: 6.7ms preprocess, 28.8ms inference, 3.6ms postprocess per image at shape (1, 3, 576, 1024)\n",
            "\n",
            "0: 576x1024 2 lefts, 2 rights, 13.8ms\n",
            "Speed: 12.0ms preprocess, 13.8ms inference, 2.6ms postprocess per image at shape (1, 3, 576, 1024)\n",
            "\n",
            "0: 576x1024 1 left, 1 right, 27.9ms\n",
            "Speed: 10.1ms preprocess, 27.9ms inference, 3.0ms postprocess per image at shape (1, 3, 576, 1024)\n",
            "\n",
            "0: 576x1024 2 lefts, 1 right, 29.7ms\n",
            "Speed: 12.9ms preprocess, 29.7ms inference, 3.1ms postprocess per image at shape (1, 3, 576, 1024)\n",
            "\n",
            "0: 576x1024 1 left, 3 rights, 13.9ms\n",
            "Speed: 7.0ms preprocess, 13.9ms inference, 2.2ms postprocess per image at shape (1, 3, 576, 1024)\n",
            "\n",
            "0: 576x1024 1 left, 1 right, 14.1ms\n",
            "Speed: 7.8ms preprocess, 14.1ms inference, 2.8ms postprocess per image at shape (1, 3, 576, 1024)\n",
            "\n",
            "0: 576x1024 1 left, 1 right, 13.9ms\n",
            "Speed: 8.2ms preprocess, 13.9ms inference, 2.0ms postprocess per image at shape (1, 3, 576, 1024)\n",
            "\n",
            "0: 576x1024 1 left, 2 rights, 13.0ms\n",
            "Speed: 6.6ms preprocess, 13.0ms inference, 2.7ms postprocess per image at shape (1, 3, 576, 1024)\n",
            "\n",
            "0: 576x1024 1 left, 2 rights, 12.8ms\n",
            "Speed: 7.6ms preprocess, 12.8ms inference, 2.3ms postprocess per image at shape (1, 3, 576, 1024)\n",
            "\n",
            "0: 576x1024 2 lefts, 1 right, 13.0ms\n",
            "Speed: 7.1ms preprocess, 13.0ms inference, 4.5ms postprocess per image at shape (1, 3, 576, 1024)\n",
            "\n",
            "0: 576x1024 1 left, 1 right, 16.0ms\n",
            "Speed: 7.6ms preprocess, 16.0ms inference, 3.0ms postprocess per image at shape (1, 3, 576, 1024)\n",
            "\n",
            "0: 576x1024 1 left, 2 rights, 14.0ms\n",
            "Speed: 7.3ms preprocess, 14.0ms inference, 2.0ms postprocess per image at shape (1, 3, 576, 1024)\n",
            "\n",
            "0: 576x1024 1 left, 1 right, 12.0ms\n",
            "Speed: 6.8ms preprocess, 12.0ms inference, 2.0ms postprocess per image at shape (1, 3, 576, 1024)\n",
            "\n",
            "0: 576x1024 1 left, 1 right, 13.6ms\n",
            "Speed: 8.1ms preprocess, 13.6ms inference, 2.2ms postprocess per image at shape (1, 3, 576, 1024)\n",
            "\n",
            "0: 576x1024 1 left, 1 right, 13.1ms\n",
            "Speed: 7.8ms preprocess, 13.1ms inference, 2.3ms postprocess per image at shape (1, 3, 576, 1024)\n",
            "\n",
            "0: 576x1024 2 lefts, 1 right, 11.7ms\n",
            "Speed: 6.4ms preprocess, 11.7ms inference, 2.7ms postprocess per image at shape (1, 3, 576, 1024)\n",
            "\n",
            "0: 576x1024 1 left, 1 right, 11.8ms\n",
            "Speed: 6.9ms preprocess, 11.8ms inference, 1.9ms postprocess per image at shape (1, 3, 576, 1024)\n",
            "\n",
            "0: 576x1024 2 lefts, 1 right, 13.5ms\n",
            "Speed: 8.1ms preprocess, 13.5ms inference, 2.7ms postprocess per image at shape (1, 3, 576, 1024)\n",
            "\n",
            "0: 576x1024 1 left, 1 right, 15.9ms\n",
            "Speed: 7.9ms preprocess, 15.9ms inference, 2.7ms postprocess per image at shape (1, 3, 576, 1024)\n",
            "\n",
            "0: 576x1024 1 left, 1 right, 13.1ms\n",
            "Speed: 7.7ms preprocess, 13.1ms inference, 1.9ms postprocess per image at shape (1, 3, 576, 1024)\n",
            "\n",
            "0: 576x1024 1 left, 1 right, 12.8ms\n",
            "Speed: 7.0ms preprocess, 12.8ms inference, 1.9ms postprocess per image at shape (1, 3, 576, 1024)\n",
            "\n",
            "0: 576x1024 1 left, 1 right, 12.9ms\n",
            "Speed: 7.1ms preprocess, 12.9ms inference, 2.4ms postprocess per image at shape (1, 3, 576, 1024)\n",
            "\n",
            "0: 576x1024 1 left, 1 right, 14.7ms\n",
            "Speed: 6.4ms preprocess, 14.7ms inference, 3.1ms postprocess per image at shape (1, 3, 576, 1024)\n",
            "\n",
            "0: 576x1024 1 left, 2 rights, 13.2ms\n",
            "Speed: 6.9ms preprocess, 13.2ms inference, 2.3ms postprocess per image at shape (1, 3, 576, 1024)\n",
            "\n",
            "0: 576x1024 2 lefts, 2 rights, 11.6ms\n",
            "Speed: 7.4ms preprocess, 11.6ms inference, 1.9ms postprocess per image at shape (1, 3, 576, 1024)\n",
            "\n",
            "0: 576x1024 1 left, 1 right, 12.7ms\n",
            "Speed: 7.0ms preprocess, 12.7ms inference, 2.7ms postprocess per image at shape (1, 3, 576, 1024)\n",
            "\n",
            "0: 576x1024 1 right, 13.2ms\n",
            "Speed: 7.7ms preprocess, 13.2ms inference, 2.0ms postprocess per image at shape (1, 3, 576, 1024)\n",
            "\n",
            "0: 576x1024 1 left, 2 rights, 13.3ms\n",
            "Speed: 7.6ms preprocess, 13.3ms inference, 4.1ms postprocess per image at shape (1, 3, 576, 1024)\n",
            "\n",
            "0: 576x1024 1 left, 1 right, 12.9ms\n",
            "Speed: 7.4ms preprocess, 12.9ms inference, 2.0ms postprocess per image at shape (1, 3, 576, 1024)\n",
            "\n",
            "0: 576x1024 1 right, 14.3ms\n",
            "Speed: 6.7ms preprocess, 14.3ms inference, 2.9ms postprocess per image at shape (1, 3, 576, 1024)\n",
            "\n",
            "0: 576x1024 2 lefts, 1 right, 13.4ms\n",
            "Speed: 9.2ms preprocess, 13.4ms inference, 2.7ms postprocess per image at shape (1, 3, 576, 1024)\n",
            "\n",
            "0: 576x1024 1 left, 2 rights, 13.6ms\n",
            "Speed: 7.6ms preprocess, 13.6ms inference, 2.8ms postprocess per image at shape (1, 3, 576, 1024)\n",
            "\n",
            "0: 576x1024 1 right, 11.4ms\n",
            "Speed: 6.3ms preprocess, 11.4ms inference, 2.9ms postprocess per image at shape (1, 3, 576, 1024)\n",
            "\n",
            "0: 576x1024 2 lefts, 1 right, 13.7ms\n",
            "Speed: 6.3ms preprocess, 13.7ms inference, 3.0ms postprocess per image at shape (1, 3, 576, 1024)\n",
            "\n",
            "0: 576x1024 1 right, 13.3ms\n",
            "Speed: 6.9ms preprocess, 13.3ms inference, 2.5ms postprocess per image at shape (1, 3, 576, 1024)\n",
            "\n",
            "0: 576x1024 2 lefts, 1 right, 13.5ms\n",
            "Speed: 8.9ms preprocess, 13.5ms inference, 2.2ms postprocess per image at shape (1, 3, 576, 1024)\n",
            "\n",
            "0: 576x1024 1 left, 1 right, 14.2ms\n",
            "Speed: 8.0ms preprocess, 14.2ms inference, 2.8ms postprocess per image at shape (1, 3, 576, 1024)\n",
            "\n",
            "0: 576x1024 3 lefts, 1 right, 12.6ms\n",
            "Speed: 6.8ms preprocess, 12.6ms inference, 2.6ms postprocess per image at shape (1, 3, 576, 1024)\n",
            "\n",
            "0: 576x1024 2 lefts, 1 right, 13.1ms\n",
            "Speed: 8.0ms preprocess, 13.1ms inference, 1.9ms postprocess per image at shape (1, 3, 576, 1024)\n",
            "\n",
            "0: 576x1024 1 left, 1 right, 13.5ms\n",
            "Speed: 6.2ms preprocess, 13.5ms inference, 3.0ms postprocess per image at shape (1, 3, 576, 1024)\n",
            "\n",
            "0: 576x1024 3 rights, 13.4ms\n",
            "Speed: 7.2ms preprocess, 13.4ms inference, 2.0ms postprocess per image at shape (1, 3, 576, 1024)\n",
            "\n",
            "0: 576x1024 2 lefts, 1 right, 12.9ms\n",
            "Speed: 8.7ms preprocess, 12.9ms inference, 1.8ms postprocess per image at shape (1, 3, 576, 1024)\n",
            "\n",
            "0: 576x1024 1 left, 1 right, 11.7ms\n",
            "Speed: 9.7ms preprocess, 11.7ms inference, 1.9ms postprocess per image at shape (1, 3, 576, 1024)\n",
            "\n",
            "0: 576x1024 2 rights, 13.4ms\n",
            "Speed: 7.1ms preprocess, 13.4ms inference, 1.9ms postprocess per image at shape (1, 3, 576, 1024)\n",
            "\n",
            "0: 576x1024 2 lefts, 1 right, 13.6ms\n",
            "Speed: 9.3ms preprocess, 13.6ms inference, 2.6ms postprocess per image at shape (1, 3, 576, 1024)\n",
            "\n",
            "0: 576x1024 1 left, 1 right, 13.7ms\n",
            "Speed: 6.3ms preprocess, 13.7ms inference, 2.0ms postprocess per image at shape (1, 3, 576, 1024)\n",
            "\n",
            "0: 576x1024 1 left, 2 rights, 13.5ms\n",
            "Speed: 7.8ms preprocess, 13.5ms inference, 2.0ms postprocess per image at shape (1, 3, 576, 1024)\n",
            "\n",
            "0: 576x1024 2 lefts, 1 right, 13.9ms\n",
            "Speed: 7.1ms preprocess, 13.9ms inference, 2.7ms postprocess per image at shape (1, 3, 576, 1024)\n",
            "\n",
            "0: 576x1024 1 right, 14.8ms\n",
            "Speed: 7.8ms preprocess, 14.8ms inference, 2.8ms postprocess per image at shape (1, 3, 576, 1024)\n",
            "\n",
            "0: 576x1024 2 rights, 12.0ms\n",
            "Speed: 7.4ms preprocess, 12.0ms inference, 2.1ms postprocess per image at shape (1, 3, 576, 1024)\n",
            "\n",
            "0: 576x1024 1 right, 13.2ms\n",
            "Speed: 8.0ms preprocess, 13.2ms inference, 2.0ms postprocess per image at shape (1, 3, 576, 1024)\n",
            "\n",
            "0: 576x1024 1 right, 13.7ms\n",
            "Speed: 6.2ms preprocess, 13.7ms inference, 2.7ms postprocess per image at shape (1, 3, 576, 1024)\n",
            "\n",
            "0: 576x1024 2 rights, 13.4ms\n",
            "Speed: 6.6ms preprocess, 13.4ms inference, 2.8ms postprocess per image at shape (1, 3, 576, 1024)\n",
            "\n",
            "0: 576x1024 2 rights, 11.7ms\n",
            "Speed: 6.8ms preprocess, 11.7ms inference, 1.9ms postprocess per image at shape (1, 3, 576, 1024)\n",
            "\n",
            "0: 576x1024 1 right, 12.3ms\n",
            "Speed: 7.0ms preprocess, 12.3ms inference, 2.1ms postprocess per image at shape (1, 3, 576, 1024)\n",
            "\n",
            "0: 576x1024 1 right, 13.4ms\n",
            "Speed: 7.3ms preprocess, 13.4ms inference, 2.9ms postprocess per image at shape (1, 3, 576, 1024)\n",
            "\n",
            "0: 576x1024 1 right, 20.7ms\n",
            "Speed: 7.0ms preprocess, 20.7ms inference, 2.3ms postprocess per image at shape (1, 3, 576, 1024)\n",
            "\n",
            "0: 576x1024 1 right, 15.0ms\n",
            "Speed: 10.7ms preprocess, 15.0ms inference, 2.0ms postprocess per image at shape (1, 3, 576, 1024)\n",
            "\n",
            "0: 576x1024 1 right, 12.5ms\n",
            "Speed: 6.7ms preprocess, 12.5ms inference, 2.1ms postprocess per image at shape (1, 3, 576, 1024)\n",
            "\n",
            "0: 576x1024 1 right, 13.5ms\n",
            "Speed: 8.5ms preprocess, 13.5ms inference, 2.7ms postprocess per image at shape (1, 3, 576, 1024)\n",
            "\n",
            "0: 576x1024 1 right, 13.1ms\n",
            "Speed: 7.4ms preprocess, 13.1ms inference, 2.4ms postprocess per image at shape (1, 3, 576, 1024)\n",
            "\n",
            "0: 576x1024 1 right, 11.4ms\n",
            "Speed: 7.7ms preprocess, 11.4ms inference, 2.0ms postprocess per image at shape (1, 3, 576, 1024)\n",
            "\n",
            "0: 576x1024 1 right, 14.9ms\n",
            "Speed: 6.4ms preprocess, 14.9ms inference, 2.7ms postprocess per image at shape (1, 3, 576, 1024)\n",
            "\n",
            "0: 576x1024 1 right, 13.3ms\n",
            "Speed: 7.3ms preprocess, 13.3ms inference, 2.7ms postprocess per image at shape (1, 3, 576, 1024)\n",
            "\n",
            "0: 576x1024 1 right, 13.5ms\n",
            "Speed: 6.7ms preprocess, 13.5ms inference, 2.7ms postprocess per image at shape (1, 3, 576, 1024)\n",
            "\n",
            "0: 576x1024 1 right, 17.4ms\n",
            "Speed: 10.0ms preprocess, 17.4ms inference, 2.2ms postprocess per image at shape (1, 3, 576, 1024)\n",
            "\n",
            "0: 576x1024 1 right, 13.6ms\n",
            "Speed: 6.4ms preprocess, 13.6ms inference, 1.9ms postprocess per image at shape (1, 3, 576, 1024)\n",
            "\n",
            "0: 576x1024 1 right, 13.3ms\n",
            "Speed: 6.4ms preprocess, 13.3ms inference, 2.8ms postprocess per image at shape (1, 3, 576, 1024)\n",
            "\n",
            "0: 576x1024 1 right, 13.9ms\n",
            "Speed: 6.7ms preprocess, 13.9ms inference, 2.0ms postprocess per image at shape (1, 3, 576, 1024)\n",
            "\n",
            "0: 576x1024 1 right, 13.8ms\n",
            "Speed: 9.1ms preprocess, 13.8ms inference, 2.9ms postprocess per image at shape (1, 3, 576, 1024)\n",
            "\n",
            "0: 576x1024 1 right, 13.9ms\n",
            "Speed: 7.8ms preprocess, 13.9ms inference, 2.0ms postprocess per image at shape (1, 3, 576, 1024)\n",
            "\n",
            "0: 576x1024 1 right, 12.0ms\n",
            "Speed: 6.6ms preprocess, 12.0ms inference, 2.1ms postprocess per image at shape (1, 3, 576, 1024)\n",
            "\n",
            "0: 576x1024 1 right, 12.8ms\n",
            "Speed: 7.0ms preprocess, 12.8ms inference, 2.0ms postprocess per image at shape (1, 3, 576, 1024)\n",
            "\n",
            "0: 576x1024 1 right, 13.2ms\n",
            "Speed: 10.7ms preprocess, 13.2ms inference, 2.0ms postprocess per image at shape (1, 3, 576, 1024)\n",
            "\n",
            "0: 576x1024 1 right, 14.9ms\n",
            "Speed: 11.3ms preprocess, 14.9ms inference, 3.0ms postprocess per image at shape (1, 3, 576, 1024)\n",
            "\n",
            "0: 576x1024 1 right, 11.4ms\n",
            "Speed: 6.7ms preprocess, 11.4ms inference, 2.2ms postprocess per image at shape (1, 3, 576, 1024)\n",
            "\n",
            "0: 576x1024 1 right, 11.5ms\n",
            "Speed: 10.5ms preprocess, 11.5ms inference, 1.9ms postprocess per image at shape (1, 3, 576, 1024)\n",
            "\n",
            "0: 576x1024 1 right, 13.1ms\n",
            "Speed: 7.2ms preprocess, 13.1ms inference, 2.6ms postprocess per image at shape (1, 3, 576, 1024)\n",
            "\n",
            "0: 576x1024 1 right, 13.7ms\n",
            "Speed: 7.2ms preprocess, 13.7ms inference, 1.9ms postprocess per image at shape (1, 3, 576, 1024)\n",
            "\n",
            "0: 576x1024 1 right, 11.4ms\n",
            "Speed: 6.6ms preprocess, 11.4ms inference, 1.9ms postprocess per image at shape (1, 3, 576, 1024)\n",
            "\n",
            "0: 576x1024 1 right, 14.7ms\n",
            "Speed: 7.4ms preprocess, 14.7ms inference, 2.8ms postprocess per image at shape (1, 3, 576, 1024)\n",
            "\n",
            "0: 576x1024 1 right, 13.2ms\n",
            "Speed: 7.5ms preprocess, 13.2ms inference, 2.7ms postprocess per image at shape (1, 3, 576, 1024)\n",
            "\n",
            "0: 576x1024 1 right, 13.5ms\n",
            "Speed: 7.7ms preprocess, 13.5ms inference, 2.7ms postprocess per image at shape (1, 3, 576, 1024)\n",
            "\n",
            "0: 576x1024 1 right, 13.9ms\n",
            "Speed: 7.1ms preprocess, 13.9ms inference, 2.0ms postprocess per image at shape (1, 3, 576, 1024)\n",
            "\n",
            "0: 576x1024 1 right, 12.4ms\n",
            "Speed: 10.8ms preprocess, 12.4ms inference, 2.1ms postprocess per image at shape (1, 3, 576, 1024)\n",
            "\n",
            "0: 576x1024 1 right, 13.3ms\n",
            "Speed: 7.3ms preprocess, 13.3ms inference, 2.7ms postprocess per image at shape (1, 3, 576, 1024)\n",
            "\n",
            "0: 576x1024 1 right, 14.8ms\n",
            "Speed: 6.6ms preprocess, 14.8ms inference, 2.7ms postprocess per image at shape (1, 3, 576, 1024)\n",
            "\n",
            "0: 576x1024 1 right, 13.3ms\n",
            "Speed: 9.9ms preprocess, 13.3ms inference, 1.9ms postprocess per image at shape (1, 3, 576, 1024)\n",
            "\n",
            "0: 576x1024 1 right, 14.3ms\n",
            "Speed: 6.8ms preprocess, 14.3ms inference, 2.8ms postprocess per image at shape (1, 3, 576, 1024)\n",
            "\n",
            "0: 576x1024 1 right, 13.2ms\n",
            "Speed: 7.9ms preprocess, 13.2ms inference, 2.9ms postprocess per image at shape (1, 3, 576, 1024)\n",
            "\n",
            "0: 576x1024 1 right, 13.4ms\n",
            "Speed: 6.6ms preprocess, 13.4ms inference, 2.0ms postprocess per image at shape (1, 3, 576, 1024)\n",
            "\n",
            "0: 576x1024 1 right, 11.6ms\n",
            "Speed: 7.5ms preprocess, 11.6ms inference, 1.9ms postprocess per image at shape (1, 3, 576, 1024)\n",
            "\n",
            "0: 576x1024 1 right, 18.7ms\n",
            "Speed: 10.8ms preprocess, 18.7ms inference, 3.2ms postprocess per image at shape (1, 3, 576, 1024)\n",
            "\n",
            "0: 576x1024 1 right, 13.9ms\n",
            "Speed: 8.5ms preprocess, 13.9ms inference, 9.5ms postprocess per image at shape (1, 3, 576, 1024)\n",
            "\n",
            "0: 576x1024 1 right, 18.6ms\n",
            "Speed: 6.2ms preprocess, 18.6ms inference, 2.9ms postprocess per image at shape (1, 3, 576, 1024)\n",
            "\n",
            "0: 576x1024 2 lefts, 5 rights, 12.2ms\n",
            "Speed: 16.7ms preprocess, 12.2ms inference, 2.6ms postprocess per image at shape (1, 3, 576, 1024)\n",
            "\n",
            "0: 576x1024 2 lefts, 4 rights, 17.8ms\n",
            "Speed: 13.1ms preprocess, 17.8ms inference, 2.6ms postprocess per image at shape (1, 3, 576, 1024)\n",
            "\n",
            "0: 576x1024 1 left, 3 rights, 25.4ms\n",
            "Speed: 13.6ms preprocess, 25.4ms inference, 2.6ms postprocess per image at shape (1, 3, 576, 1024)\n",
            "\n",
            "0: 576x1024 1 right, 14.1ms\n",
            "Speed: 13.4ms preprocess, 14.1ms inference, 3.0ms postprocess per image at shape (1, 3, 576, 1024)\n",
            "\n",
            "0: 576x1024 1 right, 18.9ms\n",
            "Speed: 20.2ms preprocess, 18.9ms inference, 3.8ms postprocess per image at shape (1, 3, 576, 1024)\n",
            "\n",
            "0: 576x1024 1 right, 22.0ms\n",
            "Speed: 15.1ms preprocess, 22.0ms inference, 2.9ms postprocess per image at shape (1, 3, 576, 1024)\n",
            "\n",
            "0: 576x1024 1 right, 13.3ms\n",
            "Speed: 7.0ms preprocess, 13.3ms inference, 2.6ms postprocess per image at shape (1, 3, 576, 1024)\n",
            "\n",
            "0: 576x1024 1 left, 3 rights, 24.1ms\n",
            "Speed: 7.1ms preprocess, 24.1ms inference, 3.6ms postprocess per image at shape (1, 3, 576, 1024)\n",
            "\n",
            "0: 576x1024 1 right, 31.7ms\n",
            "Speed: 8.8ms preprocess, 31.7ms inference, 3.0ms postprocess per image at shape (1, 3, 576, 1024)\n",
            "\n",
            "0: 576x1024 1 right, 23.4ms\n",
            "Speed: 13.6ms preprocess, 23.4ms inference, 3.1ms postprocess per image at shape (1, 3, 576, 1024)\n",
            "\n",
            "0: 576x1024 1 right, 12.2ms\n",
            "Speed: 14.7ms preprocess, 12.2ms inference, 2.1ms postprocess per image at shape (1, 3, 576, 1024)\n",
            "\n",
            "0: 576x1024 1 right, 13.9ms\n",
            "Speed: 7.2ms preprocess, 13.9ms inference, 2.1ms postprocess per image at shape (1, 3, 576, 1024)\n",
            "\n",
            "0: 576x1024 1 right, 14.2ms\n",
            "Speed: 7.2ms preprocess, 14.2ms inference, 3.1ms postprocess per image at shape (1, 3, 576, 1024)\n",
            "\n",
            "0: 576x1024 1 right, 13.4ms\n",
            "Speed: 7.2ms preprocess, 13.4ms inference, 2.0ms postprocess per image at shape (1, 3, 576, 1024)\n",
            "\n",
            "0: 576x1024 1 right, 13.8ms\n",
            "Speed: 8.2ms preprocess, 13.8ms inference, 2.0ms postprocess per image at shape (1, 3, 576, 1024)\n",
            "\n",
            "0: 576x1024 1 right, 13.2ms\n",
            "Speed: 7.3ms preprocess, 13.2ms inference, 2.2ms postprocess per image at shape (1, 3, 576, 1024)\n",
            "\n",
            "0: 576x1024 1 right, 13.6ms\n",
            "Speed: 7.5ms preprocess, 13.6ms inference, 2.9ms postprocess per image at shape (1, 3, 576, 1024)\n",
            "\n",
            "0: 576x1024 1 right, 21.6ms\n",
            "Speed: 9.5ms preprocess, 21.6ms inference, 2.0ms postprocess per image at shape (1, 3, 576, 1024)\n",
            "\n",
            "0: 576x1024 1 right, 13.5ms\n",
            "Speed: 7.7ms preprocess, 13.5ms inference, 2.7ms postprocess per image at shape (1, 3, 576, 1024)\n",
            "\n",
            "0: 576x1024 1 right, 13.4ms\n",
            "Speed: 6.8ms preprocess, 13.4ms inference, 2.1ms postprocess per image at shape (1, 3, 576, 1024)\n",
            "\n",
            "0: 576x1024 1 right, 13.4ms\n",
            "Speed: 6.6ms preprocess, 13.4ms inference, 2.7ms postprocess per image at shape (1, 3, 576, 1024)\n",
            "\n",
            "0: 576x1024 1 right, 14.0ms\n",
            "Speed: 7.4ms preprocess, 14.0ms inference, 2.7ms postprocess per image at shape (1, 3, 576, 1024)\n",
            "\n",
            "0: 576x1024 1 right, 13.4ms\n",
            "Speed: 9.7ms preprocess, 13.4ms inference, 2.0ms postprocess per image at shape (1, 3, 576, 1024)\n",
            "\n",
            "0: 576x1024 1 right, 13.3ms\n",
            "Speed: 7.4ms preprocess, 13.3ms inference, 1.9ms postprocess per image at shape (1, 3, 576, 1024)\n",
            "\n",
            "0: 576x1024 1 right, 13.5ms\n",
            "Speed: 7.7ms preprocess, 13.5ms inference, 2.8ms postprocess per image at shape (1, 3, 576, 1024)\n",
            "\n",
            "0: 576x1024 1 right, 13.6ms\n",
            "Speed: 7.3ms preprocess, 13.6ms inference, 2.2ms postprocess per image at shape (1, 3, 576, 1024)\n",
            "\n",
            "0: 576x1024 1 right, 13.2ms\n",
            "Speed: 7.8ms preprocess, 13.2ms inference, 2.0ms postprocess per image at shape (1, 3, 576, 1024)\n",
            "\n",
            "0: 576x1024 1 right, 13.5ms\n",
            "Speed: 9.8ms preprocess, 13.5ms inference, 1.9ms postprocess per image at shape (1, 3, 576, 1024)\n",
            "\n",
            "0: 576x1024 1 right, 13.3ms\n",
            "Speed: 6.6ms preprocess, 13.3ms inference, 2.7ms postprocess per image at shape (1, 3, 576, 1024)\n",
            "\n",
            "0: 576x1024 1 right, 14.0ms\n",
            "Speed: 7.0ms preprocess, 14.0ms inference, 2.8ms postprocess per image at shape (1, 3, 576, 1024)\n",
            "\n",
            "0: 576x1024 1 right, 12.6ms\n",
            "Speed: 6.4ms preprocess, 12.6ms inference, 2.8ms postprocess per image at shape (1, 3, 576, 1024)\n",
            "\n",
            "0: 576x1024 1 right, 13.4ms\n",
            "Speed: 7.5ms preprocess, 13.4ms inference, 2.0ms postprocess per image at shape (1, 3, 576, 1024)\n",
            "\n",
            "0: 576x1024 1 right, 13.1ms\n",
            "Speed: 7.2ms preprocess, 13.1ms inference, 2.9ms postprocess per image at shape (1, 3, 576, 1024)\n",
            "\n",
            "0: 576x1024 1 right, 14.0ms\n",
            "Speed: 7.6ms preprocess, 14.0ms inference, 2.1ms postprocess per image at shape (1, 3, 576, 1024)\n",
            "\n",
            "0: 576x1024 1 right, 16.2ms\n",
            "Speed: 7.2ms preprocess, 16.2ms inference, 3.1ms postprocess per image at shape (1, 3, 576, 1024)\n",
            "\n",
            "0: 576x1024 1 right, 13.8ms\n",
            "Speed: 7.4ms preprocess, 13.8ms inference, 2.4ms postprocess per image at shape (1, 3, 576, 1024)\n",
            "\n",
            "0: 576x1024 1 right, 11.4ms\n",
            "Speed: 9.3ms preprocess, 11.4ms inference, 2.1ms postprocess per image at shape (1, 3, 576, 1024)\n",
            "\n",
            "0: 576x1024 1 right, 13.9ms\n",
            "Speed: 7.9ms preprocess, 13.9ms inference, 2.5ms postprocess per image at shape (1, 3, 576, 1024)\n",
            "\n",
            "0: 576x1024 2 lefts, 1 right, 14.3ms\n",
            "Speed: 7.2ms preprocess, 14.3ms inference, 2.3ms postprocess per image at shape (1, 3, 576, 1024)\n",
            "\n",
            "0: 576x1024 2 rights, 13.6ms\n",
            "Speed: 7.2ms preprocess, 13.6ms inference, 2.3ms postprocess per image at shape (1, 3, 576, 1024)\n",
            "\n",
            "0: 576x1024 3 rights, 15.8ms\n",
            "Speed: 7.2ms preprocess, 15.8ms inference, 2.1ms postprocess per image at shape (1, 3, 576, 1024)\n",
            "\n",
            "0: 576x1024 2 rights, 13.9ms\n",
            "Speed: 7.1ms preprocess, 13.9ms inference, 2.1ms postprocess per image at shape (1, 3, 576, 1024)\n",
            "\n",
            "0: 576x1024 2 rights, 13.0ms\n",
            "Speed: 7.3ms preprocess, 13.0ms inference, 2.1ms postprocess per image at shape (1, 3, 576, 1024)\n",
            "\n",
            "0: 576x1024 1 left, 1 right, 14.7ms\n",
            "Speed: 7.3ms preprocess, 14.7ms inference, 2.5ms postprocess per image at shape (1, 3, 576, 1024)\n",
            "\n",
            "0: 576x1024 1 right, 14.3ms\n",
            "Speed: 7.1ms preprocess, 14.3ms inference, 2.1ms postprocess per image at shape (1, 3, 576, 1024)\n",
            "\n",
            "0: 576x1024 1 right, 11.4ms\n",
            "Speed: 7.0ms preprocess, 11.4ms inference, 2.0ms postprocess per image at shape (1, 3, 576, 1024)\n",
            "\n",
            "0: 576x1024 2 rights, 11.4ms\n",
            "Speed: 6.6ms preprocess, 11.4ms inference, 2.1ms postprocess per image at shape (1, 3, 576, 1024)\n",
            "\n",
            "0: 576x1024 1 right, 11.4ms\n",
            "Speed: 7.0ms preprocess, 11.4ms inference, 1.9ms postprocess per image at shape (1, 3, 576, 1024)\n"
          ]
        }
      ]
    }
  ]
}
